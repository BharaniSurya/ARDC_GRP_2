{
 "cells": [
  {
   "cell_type": "markdown",
   "id": "dc5df62c-ba91-47e0-8db2-8ea61d14668f",
   "metadata": {
    "tags": []
   },
   "source": [
    "<h1 style=\"text-align: center\"> This notebook provides a comparison between two distinct approaches: Contextual Analysis using Sentence Transformers and Statistical Analysis using TF-IDF. The objective is to determine the most suitable method for predicting whether a given tweet represents a disaster or not.</h1>"
   ]
  },
  {
   "cell_type": "code",
   "execution_count": 99,
   "id": "f64fed10-8d5f-403e-9fe7-d31ba1bd461c",
   "metadata": {},
   "outputs": [],
   "source": [
    "import numpy as np\n",
    "import pandas as pd\n",
    "import re\n",
    "import emoji\n",
    "import inflect\n",
    "from tqdm import tqdm\n",
    "import copy\n",
    "from nltk.stem import WordNetLemmatizer\n",
    "import nltk\n",
    "from nltk.corpus import wordnet\n",
    "from nltk.corpus import stopwords\n",
    "from sklearn.model_selection import train_test_split\n",
    "from sklearn.feature_extraction.text import CountVectorizer\n",
    "from sklearn.feature_extraction.text import TfidfVectorizer\n",
    "from sklearn.ensemble import RandomForestClassifier\n",
    "from sklearn.metrics import accuracy_score\n",
    "import xgboost as xgb\n",
    "from sklearn.metrics import precision_score, recall_score, f1_score\n",
    "from imblearn.over_sampling import SMOTE\n",
    "import pickle\n",
    "from sentence_transformers import SentenceTransformer,util\n",
    "from sentence_transformers import SentencesDataset, LoggingHandler, losses\n",
    "from sklearn.metrics import classification_report\n"
   ]
  },
  {
   "cell_type": "code",
   "execution_count": 100,
   "id": "8826456f-4166-4fd4-90e4-d3c56de38b61",
   "metadata": {},
   "outputs": [],
   "source": [
    "# Converting the words having apostophe into their root form\n",
    "def decontracted(phrase):\n",
    "    # specific\n",
    "    phrase = re.sub(r\"won\\'t\", \"will not\", phrase)\n",
    "    phrase = re.sub(r\"can\\'t\", \"can not\", phrase)\n",
    "    phrase = re.sub(r\"there\\'s\", \"there is\", phrase)\n",
    "    phrase = re.sub(r\"it\\'s\", \"it is\", phrase)\n",
    "    phrase = re.sub(r\"he\\'s\", \"he is\", phrase)\n",
    "    phrase = re.sub(r\"she\\'s\", \"she is\", phrase)\n",
    "    phrase = re.sub(r\"how\\'s\", \"how is\", phrase)\n",
    "    phrase = re.sub(r\"let\\'s\", \"let is\", phrase)\n",
    "    phrase = re.sub(r\"so\\'s\", \"so is\", phrase)\n",
    "    phrase = re.sub(r\"what\\'s\", \"what is\", phrase)\n",
    "    phrase = re.sub(r\"when\\'s\", \"when is\", phrase)\n",
    "    phrase = re.sub(r\"where\\'s\", \"where is\", phrase)\n",
    "    phrase = re.sub(r\"why\\'s\", \"why is\", phrase)\n",
    "  \n",
    "    # general\n",
    "    phrase = re.sub(r\"n\\'t\", \" not\", phrase)\n",
    "    phrase = re.sub(r\"\\'re\", \" are\", phrase)\n",
    "    phrase = re.sub(r\"\\'d\", \" would\", phrase)\n",
    "    phrase = re.sub(r\"\\'ll\", \" will\", phrase)\n",
    "    phrase = re.sub(r\"\\'t\", \" not\", phrase)\n",
    "    phrase = re.sub(r\"\\'ve\", \" have\", phrase)\n",
    "    phrase = re.sub(r\"\\'m\", \" am\", phrase)\n",
    "    return phrase"
   ]
  },
  {
   "cell_type": "code",
   "execution_count": 101,
   "id": "06741ae4-8bf7-4ecf-8f12-955e7d3a9777",
   "metadata": {},
   "outputs": [],
   "source": [
    "# De-emojize the text\n",
    "def remove_emojis(text):\n",
    "    return emoji.demojize(text)\n",
    "\n",
    "# url not req while finding if text is disaster or not\n",
    "def remove_urls(text):\n",
    "    pattern = re.compile(r'http\\S+|www\\S+')\n",
    "    return pattern.sub('', text)\n",
    "\n",
    "def remove_hashtags(text):\n",
    "    pattern = re.compile(r'#\\w+')\n",
    "    return pattern.sub('', text)\n",
    "\n",
    "# spl chars not req while finding if text is disaster or not\n",
    "def remove_special_characters(text):\n",
    "    pattern = re.compile(r'[^a-zA-Z0-9\\s]')\n",
    "    return pattern.sub('', text)"
   ]
  },
  {
   "cell_type": "code",
   "execution_count": 102,
   "id": "be61e584-5786-4418-8225-be528f3d4217",
   "metadata": {},
   "outputs": [],
   "source": [
    "def preprocess_text(text):\n",
    "    text = remove_urls(text)\n",
    "    text = remove_hashtags(text)\n",
    "    text = remove_special_characters(text)\n",
    "    text = remove_emojis(text)\n",
    "    return text"
   ]
  },
  {
   "cell_type": "code",
   "execution_count": 103,
   "id": "56b178ad-13a4-479f-8acf-beaade1813f9",
   "metadata": {},
   "outputs": [],
   "source": [
    "def removeDash(input_string):\n",
    "        return re.sub(r'-', ' ', input_string)"
   ]
  },
  {
   "cell_type": "code",
   "execution_count": 104,
   "id": "69d1c071-995f-4fac-9d90-9dbd54607dac",
   "metadata": {},
   "outputs": [],
   "source": [
    "def lemmatize_text(preprocessed_text):\n",
    "    def get_wordnet_pos(word):\n",
    "        \"\"\"Map POS tag to first character lemmatize() accepts\"\"\"\n",
    "        tag = nltk.pos_tag([word])[0][1][0].upper()\n",
    "        # print(tag)\n",
    "        tag_dict = {\"J\": wordnet.ADJ,\n",
    "                    \"N\": wordnet.NOUN,\n",
    "                    \"V\": wordnet.VERB,\n",
    "                    \"R\": wordnet.ADV}\n",
    "        return tag_dict.get(tag, wordnet.NOUN)\n",
    "    # 1. Init Lemmatizer\n",
    "    lemmatizer = WordNetLemmatizer()\n",
    "   # 2. Lemmatize a Sentence with the appropriate POS tag\n",
    "    lemmatized_text=[lemmatizer.lemmatize(w, get_wordnet_pos(w)) for w in nltk.word_tokenize(preprocessed_text)]\n",
    "    # The final processed set of words for each iteration will be stored in 'text_final'\n",
    "    text_final=(\" \".join( lemmatized_text ))\n",
    "    return text_final"
   ]
  },
  {
   "cell_type": "code",
   "execution_count": 105,
   "id": "234d4961-7204-4fa5-baee-3da527d46ddd",
   "metadata": {},
   "outputs": [],
   "source": [
    "smote = SMOTE(sampling_strategy='auto', random_state=42)"
   ]
  },
  {
   "cell_type": "markdown",
   "id": "ea073cf9-e3ad-485f-bffd-ccd010d8d23e",
   "metadata": {},
   "source": [
    "# 1. Data Cleaning for both"
   ]
  },
  {
   "cell_type": "code",
   "execution_count": 106,
   "id": "20e69a1c-e157-4a63-b039-fca8d4139635",
   "metadata": {},
   "outputs": [],
   "source": [
    "data = pd.read_csv('/Users/savinaysingh/Downloads/tweets 2.csv')\n"
   ]
  },
  {
   "cell_type": "code",
   "execution_count": 107,
   "id": "4efd3cff-5a9a-4f80-85f3-a389516f9b79",
   "metadata": {},
   "outputs": [],
   "source": [
    "data = data[['text','target']]"
   ]
  },
  {
   "cell_type": "code",
   "execution_count": 10,
   "id": "b1914dda-e1a5-480a-8a91-8fdf658fe090",
   "metadata": {},
   "outputs": [],
   "source": [
    "def preprocess_data(data):\n",
    "    \"\"\"\n",
    "    Preprocesses a DataFrame containing text data by applying various cleaning and text processing steps.\n",
    "    \n",
    "    Args:\n",
    "    data (DataFrame): The input DataFrame containing text data.\n",
    "    \n",
    "    Returns:\n",
    "    DataFrame: The preprocessed DataFrame with cleaned text data.\n",
    "    \"\"\"\n",
    "\n",
    "    print(\"1. Capturing Hashtags\")\n",
    "    # 1. Capturing Hashtags\n",
    "    pattern = r'#\\w+'\n",
    "    data['hashtags'] = data['text'].str.findall(pattern)\n",
    "    data.hashtags=['' if [] == d else ' '.join([remove_special_characters(w) for w in d]) for d in data.hashtags]\n",
    "    # 2. Handling Apostrophes\n",
    "    print(\"2. Handling Apostrophes\")\n",
    "    sentences = data['text']\n",
    "    number_sent_apostophe=len([x for x in sentences if \"'\" in x])\n",
    "    print(\"Percentage of sentences with apostophe is (before handling): \",number_sent_apostophe/len(sentences)*100,\"%\")\n",
    "    sentences = [decontracted(x) for x in sentences]\n",
    "    data['text'] = sentences\n",
    "    number_sent_apostophe=len([x for x in sentences if \"'\" in x])\n",
    "    print(\"Percentage of sentences with apostophe is (after handling): \",number_sent_apostophe/len(sentences)*100,\"%\")\n",
    "\n",
    "    # 3. Lowercasing\n",
    "    print(\"3. Lowercasing the sentences\")\n",
    "    data['text'] = [entry.lower() for entry in sentences]\n",
    "\n",
    "    # 4. Removing Emojis, URLs, Hashtags, and Special Characters\n",
    "    print(\"4. Removing Emojis, URLs, Hashtags, and Special Characters\")\n",
    "    data['text'] = data['text'].apply(preprocess_text)\n",
    "    \n",
    "    \n",
    "    # 5. Handling Numerics\n",
    "    print(\"5. Handling Numerics\")\n",
    "    p = inflect.engine()\n",
    "    sentences = list(data.text)\n",
    "    data.text = sentences\n",
    "    final_ans = []\n",
    "    for i, sent in tqdm(enumerate(sentences), total=len(sentences)):\n",
    "        list_numbers = re.findall(r'[0-9]+', sent)\n",
    "        list_numbers = [int(l) for l in list_numbers]\n",
    "        list_words = [p.number_to_words(l) for l in list_numbers]\n",
    "        dict_NW = dict(zip(list_numbers, list_words))\n",
    "        myKeys = list(dict_NW.keys())\n",
    "        myKeys.sort(reverse=True)\n",
    "        sorted_dict = {i: dict_NW[i] for i in myKeys}\n",
    "        ans = copy.copy(sent)\n",
    "        for key in sorted_dict.keys():\n",
    "            ans = re.sub(str(key), ' ' + sorted_dict[key] + ' ', ans)\n",
    "        final_ans.append(ans)\n",
    "    sentences = final_ans.copy()\n",
    "    data.text = sentences\n",
    "    data['text'] = data['text'].apply(removeDash)\n",
    "\n",
    "    # 6. Removing Duplicate Tweets\n",
    "    print(\"6. Removing Duplicate Tweets\")\n",
    "    data = data.drop_duplicates(subset=['text'])\n",
    "    sentences=data.text\n",
    "    # 7. Lemmatization\n",
    "    print(\"7. Performing Lemmatization\")\n",
    "    ans = []\n",
    "    for x in tqdm(sentences, total=len(sentences)):\n",
    "        ans.append(lemmatize_text(x))\n",
    "    sentences = ans.copy()\n",
    "    data.text = sentences\n",
    "\n",
    "    # 8. Stopwords Removal\n",
    "    print(\"8. Removing Stopwords\")\n",
    "    stop_words = stopwords.words('english')\n",
    "    sentences = [' '.join([word for word in x.split() if word not in stop_words]) for x in sentences]\n",
    "    data.text = sentences\n",
    "    \n",
    "    print(\"Done\")\n",
    "    return data"
   ]
  },
  {
   "cell_type": "code",
   "execution_count": 11,
   "id": "ab884849-3d9c-4c6c-9093-6de1303a25e6",
   "metadata": {
    "scrolled": true,
    "tags": []
   },
   "outputs": [
    {
     "name": "stdout",
     "output_type": "stream",
     "text": [
      "1. Capturing Hashtags\n",
      "2. Handling Apostrophes\n",
      "Percentage of sentences with apostophe is (before handling):  16.710642040457344 %\n",
      "Percentage of sentences with apostophe is (after handling):  8.988566402814424 %\n",
      "3. Lowercasing the sentences\n",
      "4. Removing Emojis, URLs, Hashtags, and Special Characters\n",
      "5. Handling Numerics\n"
     ]
    },
    {
     "name": "stderr",
     "output_type": "stream",
     "text": [
      "100%|██████████████████████████████████| 11370/11370 [00:00<00:00, 85656.00it/s]\n"
     ]
    },
    {
     "name": "stdout",
     "output_type": "stream",
     "text": [
      "6. Removing Duplicate Tweets\n",
      "7. Performing Lemmatization\n"
     ]
    },
    {
     "name": "stderr",
     "output_type": "stream",
     "text": [
      "100%|████████████████████████████████████| 10938/10938 [00:17<00:00, 624.05it/s]\n",
      "/var/folders/0h/j84rsdwd49jbw1_d04_c5b3r0000gn/T/ipykernel_26056/1658894723.py:68: SettingWithCopyWarning: \n",
      "A value is trying to be set on a copy of a slice from a DataFrame.\n",
      "Try using .loc[row_indexer,col_indexer] = value instead\n",
      "\n",
      "See the caveats in the documentation: https://pandas.pydata.org/pandas-docs/stable/user_guide/indexing.html#returning-a-view-versus-a-copy\n",
      "  data.text = sentences\n"
     ]
    },
    {
     "name": "stdout",
     "output_type": "stream",
     "text": [
      "8. Removing Stopwords\n",
      "Done\n"
     ]
    },
    {
     "name": "stderr",
     "output_type": "stream",
     "text": [
      "/var/folders/0h/j84rsdwd49jbw1_d04_c5b3r0000gn/T/ipykernel_26056/1658894723.py:74: SettingWithCopyWarning: \n",
      "A value is trying to be set on a copy of a slice from a DataFrame.\n",
      "Try using .loc[row_indexer,col_indexer] = value instead\n",
      "\n",
      "See the caveats in the documentation: https://pandas.pydata.org/pandas-docs/stable/user_guide/indexing.html#returning-a-view-versus-a-copy\n",
      "  data.text = sentences\n"
     ]
    }
   ],
   "source": [
    "data=preprocess_data(data)"
   ]
  },
  {
   "cell_type": "markdown",
   "id": "e1a43b63-ecce-4b8c-9a80-975fdabbb5b7",
   "metadata": {},
   "source": [
    "# 2. Division B/w Test and train"
   ]
  },
  {
   "cell_type": "code",
   "execution_count": 12,
   "id": "07b39437-7ba7-4b77-b792-62978f667368",
   "metadata": {},
   "outputs": [],
   "source": [
    "X_train, X_test, y_train, y_test = train_test_split(data[['text','hashtags']], data.target, test_size=0.2, random_state=42)"
   ]
  },
  {
   "cell_type": "markdown",
   "id": "ed4dfe53-28be-4fdf-823d-816bef8316dd",
   "metadata": {},
   "source": [
    "# 3.1. Vectorization for Statistical"
   ]
  },
  {
   "cell_type": "code",
   "execution_count": 13,
   "id": "138490de-05a4-4742-aca8-b87674f16c14",
   "metadata": {},
   "outputs": [],
   "source": [
    "vectorizer = TfidfVectorizer(ngram_range=(1,3))\n",
    "vectorizer2 = TfidfVectorizer(ngram_range=(1,3))"
   ]
  },
  {
   "cell_type": "code",
   "execution_count": 14,
   "id": "1eef75e0-71a2-44ae-86ab-df9eca5d1ae6",
   "metadata": {},
   "outputs": [],
   "source": [
    "matrix = vectorizer.fit_transform(X_train['text'])\n",
    "countv_train=pd.DataFrame(matrix.toarray(),columns=vectorizer.get_feature_names_out())\n",
    "matrix2 = vectorizer2.fit_transform(X_train['hashtags'])\n",
    "countv_train2=pd.DataFrame(matrix2.toarray(),columns=vectorizer2.get_feature_names_out())"
   ]
  },
  {
   "cell_type": "code",
   "execution_count": 15,
   "id": "a039e9cd-be7a-4dc8-be15-1c92b993e610",
   "metadata": {},
   "outputs": [],
   "source": [
    "countv_train_3=pd.concat([countv_train, countv_train2], axis=1)"
   ]
  },
  {
   "cell_type": "code",
   "execution_count": 16,
   "id": "fb040c0c-08ba-4ce4-8c50-34243f1dee5c",
   "metadata": {},
   "outputs": [],
   "source": [
    "# Testing Set\n",
    "matrix = vectorizer.transform(X_test['text'])\n",
    "countv_test=pd.DataFrame(matrix.toarray(),columns=vectorizer.get_feature_names_out())\n",
    "matrix2 = vectorizer2.transform(X_test['hashtags'])\n",
    "countv_test2=pd.DataFrame(matrix2.toarray(),columns=vectorizer2.get_feature_names_out())\n",
    "countv_test_3=pd.concat([countv_test, countv_test2], axis=1)"
   ]
  },
  {
   "cell_type": "code",
   "execution_count": 17,
   "id": "f2fa6ca6-adbc-41db-9073-16c895f054ef",
   "metadata": {},
   "outputs": [],
   "source": [
    "X_train_TF=countv_train_3\n",
    "X_test_TF=countv_test_3\n",
    "y_train_TF, y_test_TF=y_train, y_test"
   ]
  },
  {
   "cell_type": "markdown",
   "id": "05ff73df-ae52-44ce-b283-e88eec82b669",
   "metadata": {},
   "source": [
    "# 3.2. Vectorization for Contextual"
   ]
  },
  {
   "cell_type": "code",
   "execution_count": 18,
   "id": "78d6af14-6e03-4b6c-9d8c-9167988c7d11",
   "metadata": {},
   "outputs": [],
   "source": [
    "model = SentenceTransformer('distilbert-base-nli-mean-tokens')"
   ]
  },
  {
   "cell_type": "code",
   "execution_count": 30,
   "id": "093e990d-1290-4d6a-a63f-37491a803d9c",
   "metadata": {
    "scrolled": true,
    "tags": []
   },
   "outputs": [],
   "source": [
    "X_train_ST=model.encode(list(X_train.text))"
   ]
  },
  {
   "cell_type": "code",
   "execution_count": 31,
   "id": "30b34814-966d-41ba-9bee-a8a71819f185",
   "metadata": {},
   "outputs": [],
   "source": [
    "X_test_ST=model.encode(list(X_test.text))"
   ]
  },
  {
   "cell_type": "code",
   "execution_count": 32,
   "id": "3ead349f-4c0c-467c-8a59-37a916b6e934",
   "metadata": {},
   "outputs": [],
   "source": [
    "X_train_ST_hash=model.encode(list(X_train.hashtags))\n",
    "X_test_ST_hash=model.encode(list(X_test.hashtags))"
   ]
  },
  {
   "cell_type": "code",
   "execution_count": 33,
   "id": "e9615022-e956-46fd-8f57-bfb2c21ceb2d",
   "metadata": {},
   "outputs": [],
   "source": [
    "X_train_ST = np.concatenate((X_train_ST, X_train_ST_hash), axis=1)\n",
    "X_test_ST = np.concatenate((X_test_ST, X_test_ST_hash), axis=1)"
   ]
  },
  {
   "cell_type": "code",
   "execution_count": null,
   "id": "177820db-e394-41b5-a366-8d1db2709533",
   "metadata": {},
   "outputs": [],
   "source": []
  },
  {
   "cell_type": "markdown",
   "id": "584c1355-2527-47a6-8d3a-c06a491a06ed",
   "metadata": {},
   "source": [
    "# 4. Oversampling"
   ]
  },
  {
   "cell_type": "code",
   "execution_count": 20,
   "id": "d73dc9ac-e6a7-46d7-aa59-f19373728dc1",
   "metadata": {},
   "outputs": [
    {
     "name": "stdout",
     "output_type": "stream",
     "text": [
      "huggingface/tokenizers: The current process just got forked, after parallelism has already been used. Disabling parallelism to avoid deadlocks...\n",
      "To disable this warning, you can either:\n",
      "\t- Avoid using `tokenizers` before the fork if possible\n",
      "\t- Explicitly set the environment variable TOKENIZERS_PARALLELISM=(true | false)\n"
     ]
    },
    {
     "name": "stderr",
     "output_type": "stream",
     "text": [
      "/Users/savinaysingh/Documents/SavinayUTS/iLab/Code/iLab-env/lib/python3.8/site-packages/threadpoolctl.py:1019: RuntimeWarning: libc not found. The ctypes module in Python 3.8 is maybe too old for this OS.\n",
      "  warnings.warn(\n"
     ]
    }
   ],
   "source": [
    "X_train_TF_sm, y_train_tf_sm = smote.fit_resample(X_train_TF, y_train)"
   ]
  },
  {
   "cell_type": "code",
   "execution_count": 34,
   "id": "e37aa537-b8fa-4225-a88a-c9b56ff479c1",
   "metadata": {},
   "outputs": [],
   "source": [
    "X_train_ST_sm, y_train_st_sm = smote.fit_resample(X_train_ST, y_train)"
   ]
  },
  {
   "cell_type": "markdown",
   "id": "3c739f9b-8d2c-4945-8b1c-20d13955917f",
   "metadata": {},
   "source": [
    "# 5. Random Forest Classifier"
   ]
  },
  {
   "cell_type": "markdown",
   "id": "2dbee6d7-489c-4308-95e6-5519b9393914",
   "metadata": {},
   "source": [
    "## 5.1. Base"
   ]
  },
  {
   "cell_type": "code",
   "execution_count": 35,
   "id": "c2bff8b7-e1d3-4538-8e8c-4d9baf3db492",
   "metadata": {},
   "outputs": [],
   "source": [
    "rf_classifier=RandomForestClassifier(n_estimators=133,min_samples_split=30,max_depth=140,random_state=15)"
   ]
  },
  {
   "cell_type": "code",
   "execution_count": 22,
   "id": "c6f049d5-7321-4e7a-afae-5fd38ca04cc4",
   "metadata": {},
   "outputs": [
    {
     "data": {
      "text/html": [
       "<style>#sk-container-id-1 {color: black;}#sk-container-id-1 pre{padding: 0;}#sk-container-id-1 div.sk-toggleable {background-color: white;}#sk-container-id-1 label.sk-toggleable__label {cursor: pointer;display: block;width: 100%;margin-bottom: 0;padding: 0.3em;box-sizing: border-box;text-align: center;}#sk-container-id-1 label.sk-toggleable__label-arrow:before {content: \"▸\";float: left;margin-right: 0.25em;color: #696969;}#sk-container-id-1 label.sk-toggleable__label-arrow:hover:before {color: black;}#sk-container-id-1 div.sk-estimator:hover label.sk-toggleable__label-arrow:before {color: black;}#sk-container-id-1 div.sk-toggleable__content {max-height: 0;max-width: 0;overflow: hidden;text-align: left;background-color: #f0f8ff;}#sk-container-id-1 div.sk-toggleable__content pre {margin: 0.2em;color: black;border-radius: 0.25em;background-color: #f0f8ff;}#sk-container-id-1 input.sk-toggleable__control:checked~div.sk-toggleable__content {max-height: 200px;max-width: 100%;overflow: auto;}#sk-container-id-1 input.sk-toggleable__control:checked~label.sk-toggleable__label-arrow:before {content: \"▾\";}#sk-container-id-1 div.sk-estimator input.sk-toggleable__control:checked~label.sk-toggleable__label {background-color: #d4ebff;}#sk-container-id-1 div.sk-label input.sk-toggleable__control:checked~label.sk-toggleable__label {background-color: #d4ebff;}#sk-container-id-1 input.sk-hidden--visually {border: 0;clip: rect(1px 1px 1px 1px);clip: rect(1px, 1px, 1px, 1px);height: 1px;margin: -1px;overflow: hidden;padding: 0;position: absolute;width: 1px;}#sk-container-id-1 div.sk-estimator {font-family: monospace;background-color: #f0f8ff;border: 1px dotted black;border-radius: 0.25em;box-sizing: border-box;margin-bottom: 0.5em;}#sk-container-id-1 div.sk-estimator:hover {background-color: #d4ebff;}#sk-container-id-1 div.sk-parallel-item::after {content: \"\";width: 100%;border-bottom: 1px solid gray;flex-grow: 1;}#sk-container-id-1 div.sk-label:hover label.sk-toggleable__label {background-color: #d4ebff;}#sk-container-id-1 div.sk-serial::before {content: \"\";position: absolute;border-left: 1px solid gray;box-sizing: border-box;top: 0;bottom: 0;left: 50%;z-index: 0;}#sk-container-id-1 div.sk-serial {display: flex;flex-direction: column;align-items: center;background-color: white;padding-right: 0.2em;padding-left: 0.2em;position: relative;}#sk-container-id-1 div.sk-item {position: relative;z-index: 1;}#sk-container-id-1 div.sk-parallel {display: flex;align-items: stretch;justify-content: center;background-color: white;position: relative;}#sk-container-id-1 div.sk-item::before, #sk-container-id-1 div.sk-parallel-item::before {content: \"\";position: absolute;border-left: 1px solid gray;box-sizing: border-box;top: 0;bottom: 0;left: 50%;z-index: -1;}#sk-container-id-1 div.sk-parallel-item {display: flex;flex-direction: column;z-index: 1;position: relative;background-color: white;}#sk-container-id-1 div.sk-parallel-item:first-child::after {align-self: flex-end;width: 50%;}#sk-container-id-1 div.sk-parallel-item:last-child::after {align-self: flex-start;width: 50%;}#sk-container-id-1 div.sk-parallel-item:only-child::after {width: 0;}#sk-container-id-1 div.sk-dashed-wrapped {border: 1px dashed gray;margin: 0 0.4em 0.5em 0.4em;box-sizing: border-box;padding-bottom: 0.4em;background-color: white;}#sk-container-id-1 div.sk-label label {font-family: monospace;font-weight: bold;display: inline-block;line-height: 1.2em;}#sk-container-id-1 div.sk-label-container {text-align: center;}#sk-container-id-1 div.sk-container {/* jupyter's `normalize.less` sets `[hidden] { display: none; }` but bootstrap.min.css set `[hidden] { display: none !important; }` so we also need the `!important` here to be able to override the default hidden behavior on the sphinx rendered scikit-learn.org. See: https://github.com/scikit-learn/scikit-learn/issues/21755 */display: inline-block !important;position: relative;}#sk-container-id-1 div.sk-text-repr-fallback {display: none;}</style><div id=\"sk-container-id-1\" class=\"sk-top-container\"><div class=\"sk-text-repr-fallback\"><pre>RandomForestClassifier(max_depth=140, min_samples_split=30, n_estimators=133,\n",
       "                       random_state=15)</pre><b>In a Jupyter environment, please rerun this cell to show the HTML representation or trust the notebook. <br />On GitHub, the HTML representation is unable to render, please try loading this page with nbviewer.org.</b></div><div class=\"sk-container\" hidden><div class=\"sk-item\"><div class=\"sk-estimator sk-toggleable\"><input class=\"sk-toggleable__control sk-hidden--visually\" id=\"sk-estimator-id-1\" type=\"checkbox\" checked><label for=\"sk-estimator-id-1\" class=\"sk-toggleable__label sk-toggleable__label-arrow\">RandomForestClassifier</label><div class=\"sk-toggleable__content\"><pre>RandomForestClassifier(max_depth=140, min_samples_split=30, n_estimators=133,\n",
       "                       random_state=15)</pre></div></div></div></div></div>"
      ],
      "text/plain": [
       "RandomForestClassifier(max_depth=140, min_samples_split=30, n_estimators=133,\n",
       "                       random_state=15)"
      ]
     },
     "execution_count": 22,
     "metadata": {},
     "output_type": "execute_result"
    }
   ],
   "source": [
    "rf_classifier.fit(X_train_TF_sm, y_train_tf_sm)"
   ]
  },
  {
   "cell_type": "code",
   "execution_count": 23,
   "id": "cd4d4d08-2b49-487f-8f89-dd6530138f79",
   "metadata": {},
   "outputs": [],
   "source": [
    "y_pred=rf_classifier.predict(X_test_TF)"
   ]
  },
  {
   "cell_type": "code",
   "execution_count": 24,
   "id": "1cf757e6-c745-437f-ba89-02082a24542a",
   "metadata": {},
   "outputs": [
    {
     "name": "stdout",
     "output_type": "stream",
     "text": [
      "              precision    recall  f1-score   support\n",
      "\n",
      "           0       0.87      0.98      0.92      1774\n",
      "           1       0.81      0.39      0.52       414\n",
      "\n",
      "    accuracy                           0.87      2188\n",
      "   macro avg       0.84      0.68      0.72      2188\n",
      "weighted avg       0.86      0.87      0.85      2188\n",
      "\n"
     ]
    }
   ],
   "source": [
    "print(classification_report(y_test, y_pred))"
   ]
  },
  {
   "cell_type": "code",
   "execution_count": null,
   "id": "cadffe62-27f8-4f78-8645-7b2564e6c6c1",
   "metadata": {},
   "outputs": [],
   "source": []
  },
  {
   "cell_type": "code",
   "execution_count": 36,
   "id": "11e6107f-6ff4-44a2-b5b6-92b57846440e",
   "metadata": {},
   "outputs": [
    {
     "data": {
      "text/html": [
       "<style>#sk-container-id-3 {color: black;}#sk-container-id-3 pre{padding: 0;}#sk-container-id-3 div.sk-toggleable {background-color: white;}#sk-container-id-3 label.sk-toggleable__label {cursor: pointer;display: block;width: 100%;margin-bottom: 0;padding: 0.3em;box-sizing: border-box;text-align: center;}#sk-container-id-3 label.sk-toggleable__label-arrow:before {content: \"▸\";float: left;margin-right: 0.25em;color: #696969;}#sk-container-id-3 label.sk-toggleable__label-arrow:hover:before {color: black;}#sk-container-id-3 div.sk-estimator:hover label.sk-toggleable__label-arrow:before {color: black;}#sk-container-id-3 div.sk-toggleable__content {max-height: 0;max-width: 0;overflow: hidden;text-align: left;background-color: #f0f8ff;}#sk-container-id-3 div.sk-toggleable__content pre {margin: 0.2em;color: black;border-radius: 0.25em;background-color: #f0f8ff;}#sk-container-id-3 input.sk-toggleable__control:checked~div.sk-toggleable__content {max-height: 200px;max-width: 100%;overflow: auto;}#sk-container-id-3 input.sk-toggleable__control:checked~label.sk-toggleable__label-arrow:before {content: \"▾\";}#sk-container-id-3 div.sk-estimator input.sk-toggleable__control:checked~label.sk-toggleable__label {background-color: #d4ebff;}#sk-container-id-3 div.sk-label input.sk-toggleable__control:checked~label.sk-toggleable__label {background-color: #d4ebff;}#sk-container-id-3 input.sk-hidden--visually {border: 0;clip: rect(1px 1px 1px 1px);clip: rect(1px, 1px, 1px, 1px);height: 1px;margin: -1px;overflow: hidden;padding: 0;position: absolute;width: 1px;}#sk-container-id-3 div.sk-estimator {font-family: monospace;background-color: #f0f8ff;border: 1px dotted black;border-radius: 0.25em;box-sizing: border-box;margin-bottom: 0.5em;}#sk-container-id-3 div.sk-estimator:hover {background-color: #d4ebff;}#sk-container-id-3 div.sk-parallel-item::after {content: \"\";width: 100%;border-bottom: 1px solid gray;flex-grow: 1;}#sk-container-id-3 div.sk-label:hover label.sk-toggleable__label {background-color: #d4ebff;}#sk-container-id-3 div.sk-serial::before {content: \"\";position: absolute;border-left: 1px solid gray;box-sizing: border-box;top: 0;bottom: 0;left: 50%;z-index: 0;}#sk-container-id-3 div.sk-serial {display: flex;flex-direction: column;align-items: center;background-color: white;padding-right: 0.2em;padding-left: 0.2em;position: relative;}#sk-container-id-3 div.sk-item {position: relative;z-index: 1;}#sk-container-id-3 div.sk-parallel {display: flex;align-items: stretch;justify-content: center;background-color: white;position: relative;}#sk-container-id-3 div.sk-item::before, #sk-container-id-3 div.sk-parallel-item::before {content: \"\";position: absolute;border-left: 1px solid gray;box-sizing: border-box;top: 0;bottom: 0;left: 50%;z-index: -1;}#sk-container-id-3 div.sk-parallel-item {display: flex;flex-direction: column;z-index: 1;position: relative;background-color: white;}#sk-container-id-3 div.sk-parallel-item:first-child::after {align-self: flex-end;width: 50%;}#sk-container-id-3 div.sk-parallel-item:last-child::after {align-self: flex-start;width: 50%;}#sk-container-id-3 div.sk-parallel-item:only-child::after {width: 0;}#sk-container-id-3 div.sk-dashed-wrapped {border: 1px dashed gray;margin: 0 0.4em 0.5em 0.4em;box-sizing: border-box;padding-bottom: 0.4em;background-color: white;}#sk-container-id-3 div.sk-label label {font-family: monospace;font-weight: bold;display: inline-block;line-height: 1.2em;}#sk-container-id-3 div.sk-label-container {text-align: center;}#sk-container-id-3 div.sk-container {/* jupyter's `normalize.less` sets `[hidden] { display: none; }` but bootstrap.min.css set `[hidden] { display: none !important; }` so we also need the `!important` here to be able to override the default hidden behavior on the sphinx rendered scikit-learn.org. See: https://github.com/scikit-learn/scikit-learn/issues/21755 */display: inline-block !important;position: relative;}#sk-container-id-3 div.sk-text-repr-fallback {display: none;}</style><div id=\"sk-container-id-3\" class=\"sk-top-container\"><div class=\"sk-text-repr-fallback\"><pre>RandomForestClassifier(max_depth=140, min_samples_split=30, n_estimators=133,\n",
       "                       random_state=15)</pre><b>In a Jupyter environment, please rerun this cell to show the HTML representation or trust the notebook. <br />On GitHub, the HTML representation is unable to render, please try loading this page with nbviewer.org.</b></div><div class=\"sk-container\" hidden><div class=\"sk-item\"><div class=\"sk-estimator sk-toggleable\"><input class=\"sk-toggleable__control sk-hidden--visually\" id=\"sk-estimator-id-3\" type=\"checkbox\" checked><label for=\"sk-estimator-id-3\" class=\"sk-toggleable__label sk-toggleable__label-arrow\">RandomForestClassifier</label><div class=\"sk-toggleable__content\"><pre>RandomForestClassifier(max_depth=140, min_samples_split=30, n_estimators=133,\n",
       "                       random_state=15)</pre></div></div></div></div></div>"
      ],
      "text/plain": [
       "RandomForestClassifier(max_depth=140, min_samples_split=30, n_estimators=133,\n",
       "                       random_state=15)"
      ]
     },
     "execution_count": 36,
     "metadata": {},
     "output_type": "execute_result"
    }
   ],
   "source": [
    "rf_classifier.fit(X_train_ST_sm, y_train_st_sm)"
   ]
  },
  {
   "cell_type": "code",
   "execution_count": 37,
   "id": "538b352d-5cfb-4e7d-8f5a-ddb2cfeb2d8f",
   "metadata": {},
   "outputs": [],
   "source": [
    "y_pred=rf_classifier.predict(X_test_ST)"
   ]
  },
  {
   "cell_type": "code",
   "execution_count": 38,
   "id": "364fbdb4-c553-417d-8937-62d468de9ca6",
   "metadata": {},
   "outputs": [
    {
     "name": "stdout",
     "output_type": "stream",
     "text": [
      "              precision    recall  f1-score   support\n",
      "\n",
      "           0       0.91      0.94      0.92      1774\n",
      "           1       0.70      0.58      0.64       414\n",
      "\n",
      "    accuracy                           0.87      2188\n",
      "   macro avg       0.80      0.76      0.78      2188\n",
      "weighted avg       0.87      0.87      0.87      2188\n",
      "\n"
     ]
    }
   ],
   "source": [
    "print(classification_report(y_test, y_pred))"
   ]
  },
  {
   "cell_type": "markdown",
   "id": "e422eda3-f52e-452c-ba96-91eebf17e4c2",
   "metadata": {},
   "source": [
    "## 5.2. Enhanced"
   ]
  },
  {
   "cell_type": "code",
   "execution_count": 26,
   "id": "f8805b8d-8517-4546-8850-059747f68f82",
   "metadata": {},
   "outputs": [],
   "source": [
    "rf_classifier=RandomForestClassifier(n_estimators=133,min_samples_split=30,max_depth=140,random_state=15,class_weight={0:1,1:3})"
   ]
  },
  {
   "cell_type": "code",
   "execution_count": 27,
   "id": "0e8c95f7-7f33-445c-a6c5-1f9783bc5b5c",
   "metadata": {},
   "outputs": [
    {
     "data": {
      "text/html": [
       "<style>#sk-container-id-2 {color: black;}#sk-container-id-2 pre{padding: 0;}#sk-container-id-2 div.sk-toggleable {background-color: white;}#sk-container-id-2 label.sk-toggleable__label {cursor: pointer;display: block;width: 100%;margin-bottom: 0;padding: 0.3em;box-sizing: border-box;text-align: center;}#sk-container-id-2 label.sk-toggleable__label-arrow:before {content: \"▸\";float: left;margin-right: 0.25em;color: #696969;}#sk-container-id-2 label.sk-toggleable__label-arrow:hover:before {color: black;}#sk-container-id-2 div.sk-estimator:hover label.sk-toggleable__label-arrow:before {color: black;}#sk-container-id-2 div.sk-toggleable__content {max-height: 0;max-width: 0;overflow: hidden;text-align: left;background-color: #f0f8ff;}#sk-container-id-2 div.sk-toggleable__content pre {margin: 0.2em;color: black;border-radius: 0.25em;background-color: #f0f8ff;}#sk-container-id-2 input.sk-toggleable__control:checked~div.sk-toggleable__content {max-height: 200px;max-width: 100%;overflow: auto;}#sk-container-id-2 input.sk-toggleable__control:checked~label.sk-toggleable__label-arrow:before {content: \"▾\";}#sk-container-id-2 div.sk-estimator input.sk-toggleable__control:checked~label.sk-toggleable__label {background-color: #d4ebff;}#sk-container-id-2 div.sk-label input.sk-toggleable__control:checked~label.sk-toggleable__label {background-color: #d4ebff;}#sk-container-id-2 input.sk-hidden--visually {border: 0;clip: rect(1px 1px 1px 1px);clip: rect(1px, 1px, 1px, 1px);height: 1px;margin: -1px;overflow: hidden;padding: 0;position: absolute;width: 1px;}#sk-container-id-2 div.sk-estimator {font-family: monospace;background-color: #f0f8ff;border: 1px dotted black;border-radius: 0.25em;box-sizing: border-box;margin-bottom: 0.5em;}#sk-container-id-2 div.sk-estimator:hover {background-color: #d4ebff;}#sk-container-id-2 div.sk-parallel-item::after {content: \"\";width: 100%;border-bottom: 1px solid gray;flex-grow: 1;}#sk-container-id-2 div.sk-label:hover label.sk-toggleable__label {background-color: #d4ebff;}#sk-container-id-2 div.sk-serial::before {content: \"\";position: absolute;border-left: 1px solid gray;box-sizing: border-box;top: 0;bottom: 0;left: 50%;z-index: 0;}#sk-container-id-2 div.sk-serial {display: flex;flex-direction: column;align-items: center;background-color: white;padding-right: 0.2em;padding-left: 0.2em;position: relative;}#sk-container-id-2 div.sk-item {position: relative;z-index: 1;}#sk-container-id-2 div.sk-parallel {display: flex;align-items: stretch;justify-content: center;background-color: white;position: relative;}#sk-container-id-2 div.sk-item::before, #sk-container-id-2 div.sk-parallel-item::before {content: \"\";position: absolute;border-left: 1px solid gray;box-sizing: border-box;top: 0;bottom: 0;left: 50%;z-index: -1;}#sk-container-id-2 div.sk-parallel-item {display: flex;flex-direction: column;z-index: 1;position: relative;background-color: white;}#sk-container-id-2 div.sk-parallel-item:first-child::after {align-self: flex-end;width: 50%;}#sk-container-id-2 div.sk-parallel-item:last-child::after {align-self: flex-start;width: 50%;}#sk-container-id-2 div.sk-parallel-item:only-child::after {width: 0;}#sk-container-id-2 div.sk-dashed-wrapped {border: 1px dashed gray;margin: 0 0.4em 0.5em 0.4em;box-sizing: border-box;padding-bottom: 0.4em;background-color: white;}#sk-container-id-2 div.sk-label label {font-family: monospace;font-weight: bold;display: inline-block;line-height: 1.2em;}#sk-container-id-2 div.sk-label-container {text-align: center;}#sk-container-id-2 div.sk-container {/* jupyter's `normalize.less` sets `[hidden] { display: none; }` but bootstrap.min.css set `[hidden] { display: none !important; }` so we also need the `!important` here to be able to override the default hidden behavior on the sphinx rendered scikit-learn.org. See: https://github.com/scikit-learn/scikit-learn/issues/21755 */display: inline-block !important;position: relative;}#sk-container-id-2 div.sk-text-repr-fallback {display: none;}</style><div id=\"sk-container-id-2\" class=\"sk-top-container\"><div class=\"sk-text-repr-fallback\"><pre>RandomForestClassifier(class_weight={0: 1, 1: 3}, max_depth=140,\n",
       "                       min_samples_split=30, n_estimators=133, random_state=15)</pre><b>In a Jupyter environment, please rerun this cell to show the HTML representation or trust the notebook. <br />On GitHub, the HTML representation is unable to render, please try loading this page with nbviewer.org.</b></div><div class=\"sk-container\" hidden><div class=\"sk-item\"><div class=\"sk-estimator sk-toggleable\"><input class=\"sk-toggleable__control sk-hidden--visually\" id=\"sk-estimator-id-2\" type=\"checkbox\" checked><label for=\"sk-estimator-id-2\" class=\"sk-toggleable__label sk-toggleable__label-arrow\">RandomForestClassifier</label><div class=\"sk-toggleable__content\"><pre>RandomForestClassifier(class_weight={0: 1, 1: 3}, max_depth=140,\n",
       "                       min_samples_split=30, n_estimators=133, random_state=15)</pre></div></div></div></div></div>"
      ],
      "text/plain": [
       "RandomForestClassifier(class_weight={0: 1, 1: 3}, max_depth=140,\n",
       "                       min_samples_split=30, n_estimators=133, random_state=15)"
      ]
     },
     "execution_count": 27,
     "metadata": {},
     "output_type": "execute_result"
    }
   ],
   "source": [
    "rf_classifier.fit(X_train_TF_sm, y_train_tf_sm)"
   ]
  },
  {
   "cell_type": "code",
   "execution_count": 28,
   "id": "6cedb199-5646-4f2c-8dc6-dc81c427c237",
   "metadata": {},
   "outputs": [],
   "source": [
    "y_pred=rf_classifier.predict(X_test_TF)"
   ]
  },
  {
   "cell_type": "code",
   "execution_count": 29,
   "id": "eb2b2448-5feb-4c15-bb08-c203f273d4d7",
   "metadata": {},
   "outputs": [
    {
     "name": "stdout",
     "output_type": "stream",
     "text": [
      "              precision    recall  f1-score   support\n",
      "\n",
      "           0       0.93      0.82      0.87      1774\n",
      "           1       0.48      0.74      0.59       414\n",
      "\n",
      "    accuracy                           0.80      2188\n",
      "   macro avg       0.71      0.78      0.73      2188\n",
      "weighted avg       0.85      0.80      0.82      2188\n",
      "\n"
     ]
    }
   ],
   "source": [
    "print(classification_report(y_test, y_pred))"
   ]
  },
  {
   "cell_type": "code",
   "execution_count": null,
   "id": "8af829b8-167c-4b32-bf62-84d49825d8e5",
   "metadata": {},
   "outputs": [],
   "source": []
  },
  {
   "cell_type": "code",
   "execution_count": null,
   "id": "f83a63bf-7e51-4b35-9452-03df29d0935a",
   "metadata": {},
   "outputs": [],
   "source": []
  },
  {
   "cell_type": "code",
   "execution_count": 86,
   "id": "9e8641b1-6822-4a90-ab4b-b71e11463436",
   "metadata": {},
   "outputs": [],
   "source": [
    "rf_classifier=RandomForestClassifier(n_estimators=133,min_samples_split=30,max_depth=140,random_state=15,class_weight={0:1,1:5})"
   ]
  },
  {
   "cell_type": "code",
   "execution_count": 87,
   "id": "42c727f9-a2f6-4a64-89ba-f44adf31076f",
   "metadata": {},
   "outputs": [
    {
     "data": {
      "text/html": [
       "<style>#sk-container-id-12 {color: black;}#sk-container-id-12 pre{padding: 0;}#sk-container-id-12 div.sk-toggleable {background-color: white;}#sk-container-id-12 label.sk-toggleable__label {cursor: pointer;display: block;width: 100%;margin-bottom: 0;padding: 0.3em;box-sizing: border-box;text-align: center;}#sk-container-id-12 label.sk-toggleable__label-arrow:before {content: \"▸\";float: left;margin-right: 0.25em;color: #696969;}#sk-container-id-12 label.sk-toggleable__label-arrow:hover:before {color: black;}#sk-container-id-12 div.sk-estimator:hover label.sk-toggleable__label-arrow:before {color: black;}#sk-container-id-12 div.sk-toggleable__content {max-height: 0;max-width: 0;overflow: hidden;text-align: left;background-color: #f0f8ff;}#sk-container-id-12 div.sk-toggleable__content pre {margin: 0.2em;color: black;border-radius: 0.25em;background-color: #f0f8ff;}#sk-container-id-12 input.sk-toggleable__control:checked~div.sk-toggleable__content {max-height: 200px;max-width: 100%;overflow: auto;}#sk-container-id-12 input.sk-toggleable__control:checked~label.sk-toggleable__label-arrow:before {content: \"▾\";}#sk-container-id-12 div.sk-estimator input.sk-toggleable__control:checked~label.sk-toggleable__label {background-color: #d4ebff;}#sk-container-id-12 div.sk-label input.sk-toggleable__control:checked~label.sk-toggleable__label {background-color: #d4ebff;}#sk-container-id-12 input.sk-hidden--visually {border: 0;clip: rect(1px 1px 1px 1px);clip: rect(1px, 1px, 1px, 1px);height: 1px;margin: -1px;overflow: hidden;padding: 0;position: absolute;width: 1px;}#sk-container-id-12 div.sk-estimator {font-family: monospace;background-color: #f0f8ff;border: 1px dotted black;border-radius: 0.25em;box-sizing: border-box;margin-bottom: 0.5em;}#sk-container-id-12 div.sk-estimator:hover {background-color: #d4ebff;}#sk-container-id-12 div.sk-parallel-item::after {content: \"\";width: 100%;border-bottom: 1px solid gray;flex-grow: 1;}#sk-container-id-12 div.sk-label:hover label.sk-toggleable__label {background-color: #d4ebff;}#sk-container-id-12 div.sk-serial::before {content: \"\";position: absolute;border-left: 1px solid gray;box-sizing: border-box;top: 0;bottom: 0;left: 50%;z-index: 0;}#sk-container-id-12 div.sk-serial {display: flex;flex-direction: column;align-items: center;background-color: white;padding-right: 0.2em;padding-left: 0.2em;position: relative;}#sk-container-id-12 div.sk-item {position: relative;z-index: 1;}#sk-container-id-12 div.sk-parallel {display: flex;align-items: stretch;justify-content: center;background-color: white;position: relative;}#sk-container-id-12 div.sk-item::before, #sk-container-id-12 div.sk-parallel-item::before {content: \"\";position: absolute;border-left: 1px solid gray;box-sizing: border-box;top: 0;bottom: 0;left: 50%;z-index: -1;}#sk-container-id-12 div.sk-parallel-item {display: flex;flex-direction: column;z-index: 1;position: relative;background-color: white;}#sk-container-id-12 div.sk-parallel-item:first-child::after {align-self: flex-end;width: 50%;}#sk-container-id-12 div.sk-parallel-item:last-child::after {align-self: flex-start;width: 50%;}#sk-container-id-12 div.sk-parallel-item:only-child::after {width: 0;}#sk-container-id-12 div.sk-dashed-wrapped {border: 1px dashed gray;margin: 0 0.4em 0.5em 0.4em;box-sizing: border-box;padding-bottom: 0.4em;background-color: white;}#sk-container-id-12 div.sk-label label {font-family: monospace;font-weight: bold;display: inline-block;line-height: 1.2em;}#sk-container-id-12 div.sk-label-container {text-align: center;}#sk-container-id-12 div.sk-container {/* jupyter's `normalize.less` sets `[hidden] { display: none; }` but bootstrap.min.css set `[hidden] { display: none !important; }` so we also need the `!important` here to be able to override the default hidden behavior on the sphinx rendered scikit-learn.org. See: https://github.com/scikit-learn/scikit-learn/issues/21755 */display: inline-block !important;position: relative;}#sk-container-id-12 div.sk-text-repr-fallback {display: none;}</style><div id=\"sk-container-id-12\" class=\"sk-top-container\"><div class=\"sk-text-repr-fallback\"><pre>RandomForestClassifier(class_weight={0: 1, 1: 5}, max_depth=140,\n",
       "                       min_samples_split=30, n_estimators=133, random_state=15)</pre><b>In a Jupyter environment, please rerun this cell to show the HTML representation or trust the notebook. <br />On GitHub, the HTML representation is unable to render, please try loading this page with nbviewer.org.</b></div><div class=\"sk-container\" hidden><div class=\"sk-item\"><div class=\"sk-estimator sk-toggleable\"><input class=\"sk-toggleable__control sk-hidden--visually\" id=\"sk-estimator-id-12\" type=\"checkbox\" checked><label for=\"sk-estimator-id-12\" class=\"sk-toggleable__label sk-toggleable__label-arrow\">RandomForestClassifier</label><div class=\"sk-toggleable__content\"><pre>RandomForestClassifier(class_weight={0: 1, 1: 5}, max_depth=140,\n",
       "                       min_samples_split=30, n_estimators=133, random_state=15)</pre></div></div></div></div></div>"
      ],
      "text/plain": [
       "RandomForestClassifier(class_weight={0: 1, 1: 5}, max_depth=140,\n",
       "                       min_samples_split=30, n_estimators=133, random_state=15)"
      ]
     },
     "execution_count": 87,
     "metadata": {},
     "output_type": "execute_result"
    }
   ],
   "source": [
    "rf_classifier.fit(X_train_ST_sm, y_train_st_sm)"
   ]
  },
  {
   "cell_type": "code",
   "execution_count": 88,
   "id": "a08d1253-ace8-433a-84fc-724548ccdf73",
   "metadata": {},
   "outputs": [
    {
     "data": {
      "text/plain": [
       "(14434, 1536)"
      ]
     },
     "execution_count": 88,
     "metadata": {},
     "output_type": "execute_result"
    }
   ],
   "source": [
    "X_train_ST_sm.shape"
   ]
  },
  {
   "cell_type": "code",
   "execution_count": 89,
   "id": "864e9bda-85f9-4328-8c9c-4297582ea356",
   "metadata": {},
   "outputs": [
    {
     "data": {
      "text/plain": [
       "(2188, 1536)"
      ]
     },
     "execution_count": 89,
     "metadata": {},
     "output_type": "execute_result"
    }
   ],
   "source": [
    "X_test_ST.shape"
   ]
  },
  {
   "cell_type": "code",
   "execution_count": 90,
   "id": "88bcfcf3-0835-45b2-bfdb-64831b64b176",
   "metadata": {},
   "outputs": [],
   "source": [
    "y_pred=rf_classifier.predict(X_test_ST)"
   ]
  },
  {
   "cell_type": "code",
   "execution_count": 91,
   "id": "3f44edff-0dfb-40c3-a41f-c145f72de558",
   "metadata": {},
   "outputs": [
    {
     "name": "stdout",
     "output_type": "stream",
     "text": [
      "              precision    recall  f1-score   support\n",
      "\n",
      "           0       0.90      0.93      0.92      1774\n",
      "           1       0.66      0.57      0.61       414\n",
      "\n",
      "    accuracy                           0.86      2188\n",
      "   macro avg       0.78      0.75      0.76      2188\n",
      "weighted avg       0.86      0.86      0.86      2188\n",
      "\n"
     ]
    }
   ],
   "source": [
    "print(classification_report(y_test, y_pred))"
   ]
  },
  {
   "cell_type": "code",
   "execution_count": null,
   "id": "16b065b6-7ae8-4be5-9aac-5e73b8a6ff6b",
   "metadata": {},
   "outputs": [],
   "source": []
  },
  {
   "cell_type": "code",
   "execution_count": null,
   "id": "1753b478-fd5c-46ac-8d3d-302a236d9ae2",
   "metadata": {},
   "outputs": [],
   "source": []
  },
  {
   "cell_type": "code",
   "execution_count": 92,
   "id": "72baf970-c49d-4588-9e7a-f25433d62d1b",
   "metadata": {
    "tags": []
   },
   "outputs": [],
   "source": [
    "rf_classifier=RandomForestClassifier(n_estimators=100, random_state=42,class_weight={0:5,1:1})"
   ]
  },
  {
   "cell_type": "code",
   "execution_count": 93,
   "id": "6b272a19-5136-4491-b9d1-db74076f292c",
   "metadata": {},
   "outputs": [
    {
     "data": {
      "text/html": [
       "<style>#sk-container-id-13 {color: black;}#sk-container-id-13 pre{padding: 0;}#sk-container-id-13 div.sk-toggleable {background-color: white;}#sk-container-id-13 label.sk-toggleable__label {cursor: pointer;display: block;width: 100%;margin-bottom: 0;padding: 0.3em;box-sizing: border-box;text-align: center;}#sk-container-id-13 label.sk-toggleable__label-arrow:before {content: \"▸\";float: left;margin-right: 0.25em;color: #696969;}#sk-container-id-13 label.sk-toggleable__label-arrow:hover:before {color: black;}#sk-container-id-13 div.sk-estimator:hover label.sk-toggleable__label-arrow:before {color: black;}#sk-container-id-13 div.sk-toggleable__content {max-height: 0;max-width: 0;overflow: hidden;text-align: left;background-color: #f0f8ff;}#sk-container-id-13 div.sk-toggleable__content pre {margin: 0.2em;color: black;border-radius: 0.25em;background-color: #f0f8ff;}#sk-container-id-13 input.sk-toggleable__control:checked~div.sk-toggleable__content {max-height: 200px;max-width: 100%;overflow: auto;}#sk-container-id-13 input.sk-toggleable__control:checked~label.sk-toggleable__label-arrow:before {content: \"▾\";}#sk-container-id-13 div.sk-estimator input.sk-toggleable__control:checked~label.sk-toggleable__label {background-color: #d4ebff;}#sk-container-id-13 div.sk-label input.sk-toggleable__control:checked~label.sk-toggleable__label {background-color: #d4ebff;}#sk-container-id-13 input.sk-hidden--visually {border: 0;clip: rect(1px 1px 1px 1px);clip: rect(1px, 1px, 1px, 1px);height: 1px;margin: -1px;overflow: hidden;padding: 0;position: absolute;width: 1px;}#sk-container-id-13 div.sk-estimator {font-family: monospace;background-color: #f0f8ff;border: 1px dotted black;border-radius: 0.25em;box-sizing: border-box;margin-bottom: 0.5em;}#sk-container-id-13 div.sk-estimator:hover {background-color: #d4ebff;}#sk-container-id-13 div.sk-parallel-item::after {content: \"\";width: 100%;border-bottom: 1px solid gray;flex-grow: 1;}#sk-container-id-13 div.sk-label:hover label.sk-toggleable__label {background-color: #d4ebff;}#sk-container-id-13 div.sk-serial::before {content: \"\";position: absolute;border-left: 1px solid gray;box-sizing: border-box;top: 0;bottom: 0;left: 50%;z-index: 0;}#sk-container-id-13 div.sk-serial {display: flex;flex-direction: column;align-items: center;background-color: white;padding-right: 0.2em;padding-left: 0.2em;position: relative;}#sk-container-id-13 div.sk-item {position: relative;z-index: 1;}#sk-container-id-13 div.sk-parallel {display: flex;align-items: stretch;justify-content: center;background-color: white;position: relative;}#sk-container-id-13 div.sk-item::before, #sk-container-id-13 div.sk-parallel-item::before {content: \"\";position: absolute;border-left: 1px solid gray;box-sizing: border-box;top: 0;bottom: 0;left: 50%;z-index: -1;}#sk-container-id-13 div.sk-parallel-item {display: flex;flex-direction: column;z-index: 1;position: relative;background-color: white;}#sk-container-id-13 div.sk-parallel-item:first-child::after {align-self: flex-end;width: 50%;}#sk-container-id-13 div.sk-parallel-item:last-child::after {align-self: flex-start;width: 50%;}#sk-container-id-13 div.sk-parallel-item:only-child::after {width: 0;}#sk-container-id-13 div.sk-dashed-wrapped {border: 1px dashed gray;margin: 0 0.4em 0.5em 0.4em;box-sizing: border-box;padding-bottom: 0.4em;background-color: white;}#sk-container-id-13 div.sk-label label {font-family: monospace;font-weight: bold;display: inline-block;line-height: 1.2em;}#sk-container-id-13 div.sk-label-container {text-align: center;}#sk-container-id-13 div.sk-container {/* jupyter's `normalize.less` sets `[hidden] { display: none; }` but bootstrap.min.css set `[hidden] { display: none !important; }` so we also need the `!important` here to be able to override the default hidden behavior on the sphinx rendered scikit-learn.org. See: https://github.com/scikit-learn/scikit-learn/issues/21755 */display: inline-block !important;position: relative;}#sk-container-id-13 div.sk-text-repr-fallback {display: none;}</style><div id=\"sk-container-id-13\" class=\"sk-top-container\"><div class=\"sk-text-repr-fallback\"><pre>RandomForestClassifier(class_weight={0: 5, 1: 1}, random_state=42)</pre><b>In a Jupyter environment, please rerun this cell to show the HTML representation or trust the notebook. <br />On GitHub, the HTML representation is unable to render, please try loading this page with nbviewer.org.</b></div><div class=\"sk-container\" hidden><div class=\"sk-item\"><div class=\"sk-estimator sk-toggleable\"><input class=\"sk-toggleable__control sk-hidden--visually\" id=\"sk-estimator-id-13\" type=\"checkbox\" checked><label for=\"sk-estimator-id-13\" class=\"sk-toggleable__label sk-toggleable__label-arrow\">RandomForestClassifier</label><div class=\"sk-toggleable__content\"><pre>RandomForestClassifier(class_weight={0: 5, 1: 1}, random_state=42)</pre></div></div></div></div></div>"
      ],
      "text/plain": [
       "RandomForestClassifier(class_weight={0: 5, 1: 1}, random_state=42)"
      ]
     },
     "execution_count": 93,
     "metadata": {},
     "output_type": "execute_result"
    }
   ],
   "source": [
    "rf_classifier.fit(X_train_ST_sm, y_train_st_sm)"
   ]
  },
  {
   "cell_type": "code",
   "execution_count": 94,
   "id": "bbbb8cdb-fe4c-4859-bf1a-3084b945e82a",
   "metadata": {},
   "outputs": [
    {
     "data": {
      "text/plain": [
       "(14434, 1536)"
      ]
     },
     "execution_count": 94,
     "metadata": {},
     "output_type": "execute_result"
    }
   ],
   "source": [
    "X_train_ST_sm.shape"
   ]
  },
  {
   "cell_type": "code",
   "execution_count": 95,
   "id": "5ae009f7-f8f8-49ea-8310-7d43e011b02a",
   "metadata": {},
   "outputs": [
    {
     "data": {
      "text/plain": [
       "(2188, 1536)"
      ]
     },
     "execution_count": 95,
     "metadata": {},
     "output_type": "execute_result"
    }
   ],
   "source": [
    "X_test_ST.shape"
   ]
  },
  {
   "cell_type": "code",
   "execution_count": 96,
   "id": "5a243115-b90e-4d24-a7ce-aafa9e12e0dd",
   "metadata": {},
   "outputs": [],
   "source": [
    "y_pred=rf_classifier.predict(X_test_ST)"
   ]
  },
  {
   "cell_type": "code",
   "execution_count": 97,
   "id": "cdfbc3cb-b009-4bd7-856c-3e2323912ae2",
   "metadata": {},
   "outputs": [
    {
     "name": "stdout",
     "output_type": "stream",
     "text": [
      "              precision    recall  f1-score   support\n",
      "\n",
      "           0       0.93      0.90      0.91      1774\n",
      "           1       0.62      0.71      0.66       414\n",
      "\n",
      "    accuracy                           0.86      2188\n",
      "   macro avg       0.78      0.80      0.79      2188\n",
      "weighted avg       0.87      0.86      0.87      2188\n",
      "\n"
     ]
    }
   ],
   "source": [
    "print(classification_report(y_test, y_pred))"
   ]
  },
  {
   "cell_type": "code",
   "execution_count": 98,
   "id": "83e441c4-7135-4423-9480-662d0665796c",
   "metadata": {},
   "outputs": [],
   "source": [
    "with open('/Users/savinaysingh/Documents/SavinayUTS/iLab/Code/rf_classifier_sent.pkl', 'wb') as file:\n",
    "    pickle.dump(rf_classifier, file)"
   ]
  },
  {
   "cell_type": "code",
   "execution_count": null,
   "id": "89890633-e3df-4e71-9631-4679b98e6d8d",
   "metadata": {},
   "outputs": [],
   "source": [
    "# Save the model "
   ]
  },
  {
   "cell_type": "code",
   "execution_count": null,
   "id": "0d6c3c73-a0cb-45c7-930f-8c2f35b0f2d6",
   "metadata": {},
   "outputs": [],
   "source": []
  },
  {
   "cell_type": "code",
   "execution_count": null,
   "id": "8dad8180-0ad5-4678-85bb-c71f5b11e0b4",
   "metadata": {},
   "outputs": [],
   "source": []
  },
  {
   "cell_type": "code",
   "execution_count": null,
   "id": "f37605f8-ef5d-44a7-aecf-a01d66ea5922",
   "metadata": {},
   "outputs": [],
   "source": [
    "# without hashtag seperation"
   ]
  },
  {
   "cell_type": "code",
   "execution_count": 110,
   "id": "135397c0-2688-4c0a-95a3-f88370d643e8",
   "metadata": {
    "scrolled": true,
    "tags": []
   },
   "outputs": [
    {
     "data": {
      "text/plain": [
       "['Images showing the havoc caused by the #Cameroon military as they torched houses in #Oku.The shameless military is reported…',\n",
       " 'Social media went bananas after Chuba Hubbard announced Monday evening his plans to return to #okstate. https://t.co/peN…',\n",
       " 'Under #MamataBanerjee political violence &amp; vandalism continues to unabated in West Bengal! office in Asanol was…',\n",
       " 'Images showing the havoc caused by the #Cameroon military as they torched houses in #Oku.The shameless military is… https://t.co/gIwZCH533D',\n",
       " 'No cows today but our local factory is sadly still ablaze #REDJanuary2020 https://t.co/CMyuKzrcKz',\n",
       " 'Rengoku sets my heart ablaze😔❤️🔥 P.s. I missed this style of coloring I do so here it is c: #鬼滅の刃 https://t.co/YrUF9g68s0',\n",
       " 'French cameroun set houses ablaze in Ndu and roasted two young boys in their homes in #targeted killings in a #GenocideInSou…',\n",
       " \"Cameroon's #BIR soldiers on the 05/01/2020 invaded the #SouthernCameroons Village of Kimar - So setting ablaze a total of…\",\n",
       " '#ThankfulTuesday Isaiah 43:2 When you pass through the waters, I will be with you; and when you pass through the r… https://t.co/jEp3L1oU36',\n",
       " \"Warm greetings to all on the occasion of #Lohri. As winter passes by may everyone's woes and troubles be set ablaze in t…\",\n",
       " 'Another public market in #Haiti mysteriously set ablaze. The independent merchants, who are overwhelmingly women, become…',\n",
       " 'Marivan, Kurdistan Province Monday, Jan 13th, 2020 Protesters set the propaganda banner of #QassemSoleimani ablaze. #I…',\n",
       " 'Marivan, Kurdistan Province Monday, Jan 13th, 2020 Protesters set the propaganda banner of #QassemSoleimani ablaze… https://t.co/IVGCYJZlmK',\n",
       " '#WATCH Former CM Akhilesh Yadav who went to meet injured of Kannauj accident, at a hospital in Chhibramau asks Emergency Med…',\n",
       " '#Preorder #newrelease today! 12 witnesses connected to or investigating #THENUTCRACKERCONSPIRACY have died either in a…',\n",
       " '👀Look at this shit,😠she need her little ass whooped before she hit somebody by accident. #lecheminduroi #bransoncognac #starzge…',\n",
       " 'Honored to have an essay in #AfterShock Marking the 50th anniversary of Alvin Toffler’s Future Shock Compendium of essays in t…',\n",
       " 'TICKETS ON SALE!!!!!!!!!! - Aftershock https://t.co/kQHMzbgmvk #nowplaying #k4hdradio',\n",
       " 'Kumera yellow Aftershock #PH19FOSSIL featured in bankbtn Good Living magazine Photography Stylist shino… https://t.co/V9LJ65ttzR',\n",
       " 'Please pray for #PuertoRico!!!!! https://t.co/uWqP2yNohW',\n",
       " 'Stay informed, stay engaged with whats going on in #PuertoRico after the #earthquake The USGS’ 30-Day aftershock s… https://t.co/bYIBfpLHYg',\n",
       " 'Aftershock Vapor 15 Pro Review – Aussie, Aussie, Aussie https://t.co/pWNq3VAr2r #PowerUpAU',\n",
       " '#USGS #earthquake experts are in #PuertoRico installing temporary seismometers to help track seismic events including a Jan. 7 ma…',\n",
       " 'The magnitude 5.9 quake in #PuertoRico this morning caused our 7-day aftershock forecast to change. We now estimate an increased…',\n",
       " 'We continue to update our 30-day aftershock forecast scenarios for #PuertoRico. Forecasts are posted in both English https://t.co…',\n",
       " '# Trump in Accident # Crash - Airplane # Ukraine is the main factor as the most powerful person in the world whose count…',\n",
       " '# Trump in Accident # Crash - Airplane # Ukraine is the main factor as the most powerful person in the world whose… https://t.co/mSkuJJe79X',\n",
       " 'So much talk about #Ukraine airplane within #iran #USA conflict, while conflict wise this is irrelevant, what is mo… https://t.co/lpE4tm3pYk',\n",
       " 'Fire Engulfs Ambulance Conveying Corpse of Catholic Priest’s Mother; #streetjournal https://t.co/gK6dAGKRrL',\n",
       " '🔴 #WAARLAND #ambulance 🚑 #p2000 A2 10187 Rit 6026 Sabinahof Waarland https://t.co/YesZazBODp',\n",
       " '#USDJPY despite Richter Scale overbought, Fxstreet Line Up Swissquote bullish long, Jason Sen Mr. Ambulance Chaser B…',\n",
       " '#USDJPY despite Richter Scale overbought, Fxstreet Line Up Swissquote bullish long, Jason Sen Mr. Ambulance Cha… https://t.co/iVuuacsq54',\n",
       " 'The Untamed boys singing “Love Siren” from My ambulance ❤️❤️ #TheUntamedBoysinBKK https://t.co/2HkshTHs8W',\n",
       " 'รักติดไซเรน (My Ambulance) .Cover is coming ! #TheUntamedBoys Ambassador for Thai Spring Festival 2020 The delightful…',\n",
       " '#IranProtests #Tehran Right now Valiasr intersection is where the Special Forces are heading to the Paradise Ambulance. @…',\n",
       " 'Are you one of those who silently Pray for an UNKNOWN #Ambulance passed by? https://t.co/23zS7QjTdG',\n",
       " \"Good riddance to bad rubbish ...just like we'll be saying about you when you're annihilated at #FedElection2020\",\n",
       " 'That was before #auspol was onto #TheLiarFromTheShire and his manipulation of the election… https://t.co/Zg16ZU0Mf9',\n",
       " 'I loved and hated #UncutGems, like several movies recently. It evoked Clockwork Orange - grotesque but compelling -… https://t.co/KPHUCeRWCi',\n",
       " 'Are you speaking about the atrocities and annihilation of Christians across the Middle East committed by Muslims daily? #Sat…',\n",
       " '#Eskenfilme Kauft einen Ford Falcon und viel Sprit, die Apocalypse kommt ohne Tempolimit... https://t.co/ryCJUlQK4P',\n",
       " \"I like this review of 's #ApocalypseCow. (https://t.co/jHcxBFXsGX) It's fair about Monbiot's views -… https://t.co/cXPzQCLKDf\",\n",
       " \"#Veganuary is here! 🍔 Have you tried one of our (v) burgers? Today's pick; Falafel Burger with lettuce, pickled sla… https://t.co/e9xr0Fkhkz\",\n",
       " 'Images bibliques – Apocalypse 21:3-4 #LeChrist #LeSeigneur #autorité #JésusChrist #Dieu #laRédemption… https://t.co/IzB3xwOTU5',\n",
       " '4-32-1 Pandémie,apocalypse now... #soupir https://t.co/wSQRcHgdHb',\n",
       " 'I am The prophesied Jesus #Savior44 Prophesies say about \"signs\" of The Time of Apocalypse, like NOW when I am… •Th… https://t.co/fIzPZYkjT9',\n",
       " 'Important Notice: The Global Warming Apocalypse, Scheduled For 2020 Has Been Postponed #memes #politics https://t.co/IgTZxAhZaG',\n",
       " '👍 on : GTA 5 Zombie Apocalypse Mod #2 - SURVIVAL!! (GTA 5 Mods) https://t.co/jwRJlHMW6R',\n",
       " '👍 on : GTA 5 Zombie Apocalypse Mod #1 - BEGINNING OF THE END!! (GTA 5 Mods) https://t.co/j8kxZ6SXdN',\n",
       " 'Apocalypse 💀💀💀 #deathknight #worldofwarcraft https://t.co/GFBi8WFXVo',\n",
       " '[ARMY CHALLENGE] Name 5 BTS songs from the top of your head separately! ⚠️ Don’t forget to reply using: #BoyWithL…',\n",
       " \"ARMY: I'm tired of being 🤡 Also ARMY waiting for 6pm kst: we will get something later, we are sure of it. 🧐 #BTSARMY #B…\",\n",
       " '🚨 ARMY CHALLENGE 🚨 CAN WE DO THIS?! 🔐500 Retweets 🔐200 Replies I vote #BTSARMY for #BestFanArmy at the #iHeartAward…',\n",
       " 'Weverse Official BTS | SUGA 200110 ↘ [ARMY ZIP] BTS CINEMA - INTERVIEW &amp; GALLERY About \"PERFECT MAN\" ACTOR : #SUGA https:…',\n",
       " '\"As If Jama Masjid Is In Pak\": Judge Rebukes Cops In Bhim Army Case https://t.co/V3wdkPhVq0 #NDTVNewsBeeps #BhimArmy https://t.co…',\n",
       " 'Over 75+ replies in 4 minutes! ARMY, you’re on 🔥 #BoyWithLuv #BestMusicVideo #iHeartAwards',\n",
       " '🌟2020 iHeartRadio Music Awards🌟 RT=1票💜 ★Best Fan Army★ #BTSARMY #BestFanArmy #iHeartAwards…',\n",
       " \"J-Hope's 'Chicken Noodle Soup (feat. Becky G)' MV has passed 130 million views. #iHeartsAwards #BestFanArmy…\",\n",
       " 'ARMY detectives found out that BigHit created a website for #CONNECT_BTS but it is not yet confimed. The link to the webs…',\n",
       " 'INDONESIA ARMY WHERE ARE YOU?! WE ARE HUGE PLEASE VOTE #BoyWithLuv #BestMusicVideo #iHeartAwards @…',\n",
       " 'pre-order untuk Map of the Soul: 7 oleh ARMY China 🇨🇳 telah mencapai 230.192 copy 😮gileee gileee #BestFanArmy #BTSARMY #…',\n",
       " 'One Man ARMY THALA AJITH 🔥 #19YearsOfDHEENA',\n",
       " '[Latest Update] Pre-orders for Map of the Soul: 7 by China ARMY 🇨🇳 have reached 230,192 copies! via. 咖泰亨 on Baidu Tieba #Be…',\n",
       " 'Has the vicious, nasty, vindictive, abusive digital army launched a twitter attack against #SatyaNadella or not yet? \"Mi…',\n",
       " '200114 Army: everyone help the Philippine ARMYs... please.🙏🏻 #PrayforThePhilippines V: these my heart hurts a lot. plea…',\n",
       " 'The latest #Bloodshot trailer has Vin Diesel rebelling from an army of super soldiers (via ) https://t.co/aU…',\n",
       " '아미 사랑꾼들 어떻게 안사랑해 ㅠㅠ CONNECT WITH ARMY #iHeartAwards #BTSARMY #BestFanArmy https://t.co/ffRuNz8dvp',\n",
       " 'Australia since 1910. This one image says it all. Arson, my ass... total denier bollocks #AustralianBushfireDisaster…',\n",
       " 'Interesting. I posted a few caustic tweets about the failing Morrison government and Pauline Hanson. Then the #Newspoll came…',\n",
       " \"It's 13 yrs old but imagine they were #JNU students For burning US flag 3 Yale students (1 Xtian &amp; 2 Muslm names) were ch…\",\n",
       " 'Climate change is now the #1 cause of arson. Or perhaps arson is the #1 cause of #ClimateChange Whatever it is, the sol…',\n",
       " \"TASA member et al. was in the recently on, ' #Bushfires, #bots and #arson claims: #Aus…\",\n",
       " 'Have I got this right #Arsonist in Chief of #AustraliaBurning Morrison is even smugger &amp; smirkier than usual bc he clai…',\n",
       " 'This is what happening in Bhainsa elections collude betweenTRS-Aimim(arsonist mob) #Bhainsaattacked #Bhainsaburnt s… https://t.co/OlEigmtEcy',\n",
       " '#StarWars Skywalker Saga Lifetime #OscarNoms 🏆 A New Hope: 10 🏆 Empire Strikes Back: 3 🏆 Return of the Jedi: 5 🏆 Phanto…',\n",
       " '[BLINK ATTACK] Goal: 2k RTs 200 comments #KillThisLove #FaveChoreography #iHeartAwards https://t.c…',\n",
       " 'RT #FightExtremism \"The Taliban have claimed responsibility for a roadside bomb attack in Kandahar that killed two… https://t.co/7Ym9WSGKQp',\n",
       " 'RT #FightExtremism \"An emboldened al-Shabab threatens to strike American targets around the world days after the So… https://t.co/wAfc8yVd5Z',\n",
       " '#Drone strikes by birds are surprisingly common and occur in many parts of the world. What professional dronists sa… https://t.co/aZTJJe5diz',\n",
       " 'Moments before taking a bucket full of d6 for the Sneak Attack. #dnd #dungeonsanddragons #dnd5e https://t.co/QotzVHVliW',\n",
       " 'BREAKING: #IranAttacks - we have just discovered an Interview from the Danish TV2 who has met with a soldier that was o…',\n",
       " 'Along with several other soldiers, the Danish sergeant waited several hours in a bunker in #Iraq for the #Iranian attac…',\n",
       " 'When Orientalism, Islamophobia, and anti-#Iran sentiment are used to attack people across the political aisle (this was retweet…',\n",
       " '#Alert- This has raised serious questions on national security. I had raised this even during the Uri attack that they enter…',\n",
       " 'Wheels within wheels. Davinder Singh, the #Kashmir senior cop held with weapons and two Lashkar/Jaish men in his car, is the…',\n",
       " \"#Kashmir DSP Davinder Singh's dramatic arrest with 2 militants has created big national security questions for India: E…\",\n",
       " '\"We confirm the attack on our database by the #UEE, which has been stopped and sent back to the enemy… https://t.co/BKUBH95Kae',\n",
       " 'US military base in Iraq a few days after Iran missile attack #Iranattack https://t.co/x2Q8QiXKVc via',\n",
       " '#USASupportsTerrorist 15 out of the 19 terrorist that \"attacked\" Americans on September 11, by flying planes into the World…',\n",
       " \"Spot on. I fully expect #Bernie to be attacked on all sides at Tuesday's #DemDebate as and …\",\n",
       " '#Jansena Chief and cine star #PawanKalyan arrived at #Vizag airport and headed to Kakinada where his party men were at…',\n",
       " 'Muslim mob attacked Hindu families in Telangana. Internet banned. #Secularism https://t.co/UqFkqE0zi4',\n",
       " 'Video from #Iran Exact date &amp; location uncertain Source says people identified an undercover agent &amp; attacked him. Other…',\n",
       " '#Bhainsa , 18 houses belonging to Hindus burnt and properties looted by Muslim mob : Local Muslim youth were enraged af…',\n",
       " 'Dear #XRPcommunity I Connected Dots and Took Heat For It I Have to Ask, Why Are All The Accounts Who Attacked Me Intentio…',\n",
       " 'not long after #lifetime #survivingrkelly part 2 aired earlier this month one of his girlfriends went live on #faceboo…',\n",
       " 'The police recording brutally arrested a Muslim man in #Accrington, even though the Muslim man had volunteered ... but t…',\n",
       " 'Largscale violence in #Bhainsa, dist Nirmal of #Telangana. #Peacefuls attacked Hindus, looted &amp; burnt property, pelted stones…',\n",
       " 'read everything Avalanche here! https://t.co/k1cBbCmrh3 #followtrain',\n",
       " 'Five soldiers were trapped under the #avalanche, efforts are on to trace one missing soldier https://t.co/qPWN5ug5w7 #Machil',\n",
       " '10 including 4 army soldiers, one BSF constable killed in #avalanches in #Kashmir https://t.co/00u3Qm1UCS #avalanche',\n",
       " 'Hi Respected #Friends Hello #TweeterWorld #Namaste 🙏 G.morning Everyone 🤗 Avalanche Effect At Shimla INDIA Enjoy The Be…',\n",
       " '#SRINAGAR: A BSF jawan lost his life while six others were rescued after an avalanche along the Line of Control (LoC) in Ka…',\n",
       " \"Avalanche strikes #NeelumValley &amp; it's been 10 hours, our people couldnt make a headlines in #Pakistanimedia. Laiba… https://t.co/gPZVvMpud8\",\n",
       " '#SONDAKİKA #breakingsound Avalanche disaster in Pakistan Kashmir: 57 dead https://t.co/LJwe842mMN',\n",
       " '#SRINAGAR: A BSF jawan lost his life while six others were rescued after an avalanche along the Line of Control (Lo… https://t.co/QVUJWgy3li',\n",
       " 'Prayers for those who are stuck and those who lost their lives in the avalanche at #NeelumValley #Pakistan #',\n",
       " 'Apparently an avalanche has hit #NeelumValley in Azad Kashmir leading to multiple casualties. Mainstream media is yet to…',\n",
       " 'Hiro vs Wesley – House Battle Final at SDK Europe 2014 / https://t.co/wo0vnyG1JP… #wow #good #house #dance #battle #inspiration #dancer',\n",
       " 'Body confidence in pregnancy - six tips to help you battle body image issues https://t.co/4oYjwfQKpa #pregnancy… https://t.co/SNt7T3de0o',\n",
       " 'THIRD aka Lapat Ngamchaweng of Thailand 🇹🇭 makes it as one of the 50 semifinalists in #100AsianHeartthrobs2020. 1 like is…',\n",
       " 'WE ARENT ALONE IN THIS BATTLE 😭✊🏻✊🏻 #JUSTICEFORX1 https://t.co/c8voYVeTaJ',\n",
       " '#BeInspired #nonfiction A British soldiers journey into the depths of #mentalillness after a number of traumatic life…',\n",
       " 'So.. Free battle anyone?🤔 Comment \"#daddyarmy\"',\n",
       " 'Thankfully I’m able to connect with individuals outside of our own echo chambers...so I’ll wait for the #AMR commun… https://t.co/7M1Ttpwiy0',\n",
       " \"It's Very Sad that #EgertonHeist has reduced a once Great University to a Battle ground between the Police &amp; students simpl…\",\n",
       " '... #MAGA5G.LiVEViL+ my recommended read not for the weak of mind: The #Mossad+#5G Strain: Viral Vengeance: #Pandemic+…',\n",
       " 'US-Mexico Border: Portal For TB, Swine Flu, #Bioterrorism https://t.co/dVVyfAKO1L via',\n",
       " 'Bay Area researchers tackle bioterrorism threats #bioterror #biodefense #cbrn #phep https://t.co/n5exZSQTaU',\n",
       " '... #MAGA5G.LiVEViL+ my recommended read not for the weak of mind: The #Mossad+#5G Strain: Viral Vengeance:… https://t.co/Tm0JIqragB',\n",
       " 'Does the push for #mass #vaccination point toward a staged #bioterror event? - https://t.co/CNZbxD73Ej',\n",
       " \"#skipvaccination Does the push for mass vaccination point toward a bioterror event? (To read about Jon's mega-colle… https://t.co/enNtA5CQEJ\",\n",
       " 'VAMPIRIS “An awesome vampire thriller with bite!” https://t.co/dxYgrAa6Cj #Vampiris #CorsairAdventures #thriller #va…',\n",
       " 'Bioterrorism!!! #MaldivesMeaslesOutbreak',\n",
       " 'That feeling when you turn in a 20pg paper on #bioterrorism &amp; #civilliberties! 🤓 📚 👩🏼\\u200d🎓 #GradLife 🙌🏼 http…',\n",
       " '“An awesome vampire thriller with bite!” https://t.co/dxYgrAa6Cj #Vampiris #CorsairAdventures #thriller #vampire #eld…',\n",
       " 'That feeling when you turn in a 20pg paper on #bioterrorism &amp; #civilliberties! 🤓 📚 👩🏼\\u200d🎓 #GradLife 🙌🏼 https://t.co/FJAGlfR7gN',\n",
       " '“An awesome vampire thriller with bite!” https://t.co/dxYgrArI0T #Vampiris #CorsairAdventures #thriller #vampire #eld…',\n",
       " '#findStolenMollyWN6 ⬇️⬇️Have you seen me in your area please⬇️⬇️ I’m black &amp; white with a black 🖤 on my right side / white…',\n",
       " 'What is the definition of \"major interview?\" Let\\'s start with when will #BrexitJohnson #ReleaseTheRussiaReport ??',\n",
       " 'Did you know that Sir Arthur Conan Doyle, a #Surgeon trained in #ophthalmology, refers to John Weiss instr…',\n",
       " 'Did you know that Sir Arthur Conan Doyle, a #Surgeon trained in #ophthalmology, refers to John Weiss in… https://t.co/3K9hD5Gus0',\n",
       " '200105 Golden Disc Awards 📸 carol_e555558 #BTSxGDA #JHOPE #RM 💐 https://t.co/Yj8VwEZu9D',\n",
       " '200105 Golden Disc Awards 📸 Brillante_Mon #BTSxGDA #RM #JHOPE 💐 https://t.co/mdgLuJyEqi',\n",
       " 'Blazing #MayWardLoveForReal #PUSHAwardsMayWards',\n",
       " '2017: l was in Blazing Squad 2018: Danny Dyers is my dad 2019 : Tyson Fury is my brother 2020: Lewis Capaldi is my ex #Lov…',\n",
       " \"Now I can see that the VIC is back. The TL gets blazing🔥🔥🔥 when you're around. Happy 2020 to you #Leadership!\",\n",
       " \"Now I can see that the VIC is back. The TL gets blazing🔥🔥🔥 when you're around. Happy 2020 to you #Leadership!\",\n",
       " '#KartikGoenka - a flame blazing up, a volcano ready to erupt, a man whose silence has been mistaken for weakness 🙌🏼 #MohsinK…',\n",
       " '#KathNiel2020 will bring us Tanging Mahal. KathNiel, after their record-breaking movie THOU, will come back to primetime…',\n",
       " 'COME &amp; CHECKOUT THIS BLAZING WEBSITE FULL OF DIFFERENT GIRLS TWERKING FOR FREE!! #BOOTYTUBE #TWERKING https://t.co/aP5zsGX0MC',\n",
       " \"Blazing Saddles' at 45: The Movie That Couldn't Get Made Today https://t.co/Jmf8s1VZtJ #NewsandPolitics via\",\n",
       " '🚨Announcing #Bengals 2020 South squad WR group: Edwards- Underrated Johnson- Enormous Jennings- Aggressive Ai…',\n",
       " 'ONE WEEK to go! #qodebrisbane highlights incl: ✓ The future of #smartcities w/ Brisbane CDO ✓ Quantum comput…',\n",
       " 'Once again I am LOVING how diverse and body positive the cast of #LoveIsland2020 is! Once again #ITV bl… https://t.co/fLNdCHD3i3',\n",
       " \"Here's an interview with me by of about my #comedy #horror #animation screening at …\",\n",
       " '#NowPlaying Jimpster - The Blazing Water https://t.co/xeXu21nqXJ',\n",
       " 'We named \"the life of phantom\", TSUKUSHI. It was a night with the red moon blazing beautifully./幻の命 #sekainoowari',\n",
       " \"What's with all these angry women going on #gmb with all guns blazing meaning you can't take them, or t… https://t.co/HurTUyXevU\",\n",
       " 'On Scorched Earth People 🔥: 👉Most of them have their own parallel platforms when they enter #ADOS as a movement🤔…',\n",
       " 'Bleeding Heart music video coming very soon. vicscover #bleedingheart #musicvideo #rocknroll #gothrock #cali… https://t.co/ClY1G7jCxk',\n",
       " \"Imagine being shot by your own government because you want #freedom!! It's hard to imagine right? I mean, we're #America…\",\n",
       " 'Intravenous oxytocin reduces severe bleeding after vaginal delivery #NIHR signal .… https://t.co/c1lUmrOemD',\n",
       " 'Floral notes of Bleeding Heart Flower and Fresh Peony Petals will have you lusting over #MadLove 🌸📷 PerfumeHolics https:/…',\n",
       " 'Hopefully minding their own business as all Republicans should be. Unless you are on the streets with the #Iranian prote…',\n",
       " '#AfricaKwetu Late Commander Fred Nkuranga Rubereza. One of the greatest heroes of the NRA/UPDF passed away in 1981 as…',\n",
       " '#AfricaKwetu Late Commander Fred Nkuranga Rubereza. One of the greatest heroes of the NRA/UPDF passed away in 1981… https://t.co/8zH6SqSJAe',\n",
       " 'TL;DR - Twitter is the only place #Betelgeuse is blew up tonight.',\n",
       " 'BABOOM!!!⭐️⭐️⭐️⭐️⭐️ Damn, bro blew it up!! Nice!!🎯#RussianDoll https://t.co/0z20XKXSMe',\n",
       " 'SHDC is working with partners across Lincolnshire to launch the #SCRAP fly-tipping campaign today, which aims to fight the…',\n",
       " '#CGIARWheat announces new partnership with Jiangsu Academy of Agricultural Sciences (JAAS) in #China to open screening facility…',\n",
       " 'Low traffic neighbourhoods - way ahead to save our local streets from the blight of pollution and noise. #Safer streets ar…',\n",
       " 'Low traffic neighbourhoods - way ahead to save our local streets from the blight of pollution and noise. #Safer st… https://t.co/NVNzHc8AfD',\n",
       " 'Ash Ketchum at Blight thinks the SNES mini is in a holding pattern #snesmini',\n",
       " '#Chicago #Blizzardof79 was bad but #Blizzardof69 was badder. https://t.co/8fz9a5R3XZ',\n",
       " 'Live view from when I screamed “FREE HONG KONG” at #BlizzCon2019 !! This is the footage you can view on . or watc…',\n",
       " \"The Blizzard that wasn't and the Futility of Doomsday Climate Predictions https://t.co/B3tv8w0S0Z #WIBAnews\",\n",
       " 'First Arcanist Thalyssra Fan Art { from weibo } Drawn By Silver Cups 🖌 #Worldofwarcraft #nightborne #Thalyssra #Ar…',\n",
       " 'xeltes played World of Warcraft (Blizzard) in the last 24 hours https://t.co/7Qvvbxc59M #exophase',\n",
       " 'The Indigenous People Of #Biafra have paid enough in blood for their #FREEDOM! #BIAFRAISNOTONEWITHNIGERIA…',\n",
       " 'Blood sweat and tears #BoyWithLuv #BestMusicVideo #iHeartAwards',\n",
       " 'BEST OF THE SEASON // Blood oranges, Seville oranges and forced rhubarb are brightening up the #FarmShop this week. T…',\n",
       " '#Sialkot alert! A- blood in needed Sadar begam hospital Sialkot 03077212577',\n",
       " 'Iran in blood We are hostages #NancyPelosiFakeNews https://t.co/LOHu07MSLH',\n",
       " '/ #blood NEED: #dadu Me Hik Zaroratmand Aurat Khe Emergency Me O-ve #blood Ji Sakht Zarorat Ahe Insan Dost Rabto Kan, Co…',\n",
       " 'Gunmen ‘open fire on protesters in Iran’ in videos that show blood on the streets of Tehran #Iran #HumanRights #IranProte…',\n",
       " 'RT #URGENT #O+ blood group required at Shalimar Hospital, #Lahore. Please contact on 03486211155. #SpreadTheWord #dona…',\n",
       " '#RT #URGENT #Any blood group required at Holy Family, #Rawalpindi. Please contact on 03145411414. #SpreadTheWord #do…',\n",
       " 'All those who welcomed the hanging of #AfzalGuru have blood on their hands. The least we can do is offer a useless sor…',\n",
       " '#Islamabad alert! A negative blood required in Islamabad today, please contact me if someone here with A negative blo…',\n",
       " 'Its ignorant comments like these, tgat make my blood boil. #Oman #قابوس_في_ذمة_الله https://t.co/l35RAtQ3sw',\n",
       " 'Western Islamist hypocrites exploiting the #RegressiveLeft’s narcissism, to portray a bad yet democratically elected Presi…',\n",
       " 'mike didn’t bloody sit about did he, he got up quicker than me when my dominoes arrives #LoveIsland',\n",
       " \"Usually, the lake is a water source for helitechs, today it was the good old #Wanneroo BFB pumping it out, that's h… https://t.co/1OiWcsEnmH\",\n",
       " 'This needs to be trending #whiteophobia Sick and tired of the bloody race card! Just being white gets us non stop… https://t.co/1aAuG30ERN',\n",
       " 'Save Jakarta from bloody greedy person! Kawal anggaran 90T tanpa program dan itu ua gnya pada kemana? Jawab nis! #JKTBe…',\n",
       " 'Our ‘#RoyalCrisis’ isn’t really a royal crisis. It’s a media crisis. Created by the media. Fuelled by the media. Shaped b…',\n",
       " 'Taiwanese husband arrested over death of Sri Racha woman in a suitcase - more at https://t.co/you9LQI9BV #Thailand… https://t.co/0F1GFfos9x',\n",
       " 'Brand: ANELLO Product name: Body bag AU-A0213 Camouflage ©️DAUMCAFE #한승우 #승우 #엑스원 #X1… https://t.co/u82fKtj6Qg',\n",
       " 'The mind leads, and the body obeys #IronParadise another session body bag https://t.co/hi8klyWRKR',\n",
       " '#chiefs outscored #texans 51-7 after the 24-0 start. I think KC fans got mocked for saying we’d be different with… https://t.co/ZMUjU5WIt3',\n",
       " '#beauty #luxury #bags #cream #body US$ 8.59 and FREE Shipping Women Casual Beach Floral Print Tunic Sleeveless Sho… https://t.co/kaS4v0EyAg',\n",
       " 'Classic Plaid Shoulder Bags/Cross-body Bags/Messenger Bags Shop here https://t.co/w93OTdFal8 #bracelets #bangles https://t.co/Cn7G5VPEeJ',\n",
       " 'Get Abstract Pattern Tote And Cross-body Travel Bag here https://t.co/Ha6nY9cn2l Cover Art Prints #fitnesshandbags… https://t.co/ndiOONqckr',\n",
       " 'The #Dominicans were first to fly over head and #Venezuela to land with #Haitian students &amp; relief. Another fact: nobod…',\n",
       " 'Bring out the body bags because just killed em #GBMFR https://t.co/w0JYZDAI13',\n",
       " 'There it is, on cue! Body Bags Burrow with the strike! #GeauxTigahs',\n",
       " 'The result of the 2 most powerful bomb used in the #GangWar in Sweden in 2019 and so far in 2020. The one which exploded…',\n",
       " '#TodaysHero James Rose, whose legs were blown off by a roadside bomb in Afghanistan, he also suffered a broken pelvis an…',\n",
       " 'ARMYs are trending #ThankYouBigHit to show their appreciation towards Bighit, for providing subtitles on the new Bangta…',\n",
       " 'Cherry Pepsi with a drop of vanilla is the bomb-bomb!! #MakingMyselfLookBusy #leaninginwins2020',\n",
       " 'You’ve ramped up the brutal sanctions on #Iran that are killing ordinary Iranians. You murder their top military figure #So…',\n",
       " 'Another film nominated for Best Documentary feature #ForSama about the harrowing realities of the Syrian conflict — hospita…',\n",
       " 'Whenever #ShahidKapoor got injured during the shooting of the film, the film became super flop. And it has happened for 5-…',\n",
       " 'Excellent panel putting in historical/regional/global context #Iran #Iraq...#UAE #Yemen #Israel &amp; of course #S…',\n",
       " 'The place where these children once called home is no more after being bombed by #Assad and #Putin. We are so lucky they are…',\n",
       " '30% of Republican primary voters nationally say they support bombing Agrabah. Agrabah is the country from Aladdin. #NotTheOni…',\n",
       " 'has ‘unleashed’ the UK economy with #Brexit UK production and manufacturing is dropping like a WWII… https://t.co/qXVMuX2cgs',\n",
       " 'We the American people #Donotconsent to the daily bombing of our atmosphere! Blocking our sun sending too much toxic rai…',\n",
       " '#Yemen Article/Video April 1, 2019 The US backed Saudi Coalition have been bombing and starving civilian in Yemen to f…',\n",
       " 'has ‘unleashed’ the UK economy with #Brexit UK production and manufacturing is dropping like a WWII… https://t.co/4SefxevGZr',\n",
       " '#Yemen Article/Video April 1, 2019 The US backed Saudi Coalition have been bombing and starving civilian in Yemen to force t…',\n",
       " 'If this bombing were affected by their family am sure there will be an emergency of world leaders meeting. #Government #united Nation',\n",
       " '#Yemen Article/Video April 1, 2019 The US backed Saudi Coalition have been bombing and starving civilian in Yemen… https://t.co/0ST5oTz2cI',\n",
       " '#pt: Opposition photojournalist seen reacting to #Rashideen bombing (L) then rescuing injured children (R) fr…',\n",
       " 'The second brother \"oibada\" killed in 2016 by Assad bombing on #Daraa city, and now ther mother are alone without any of he…',\n",
       " 'This #DavinderSingh story is the whackiest in a long time, it shakes the foundations of so much in this country. An ide…',\n",
       " 'On #US #Iran &amp; their pernicious proxy wars-\\u2069:why is talking less possible than bombing? #TalkItOut -see… https://t.co/afbUsheOV4',\n",
       " 'This #DavinderSingh story is the whackiest in a long time, it shakes the foundations of so much in this country.… https://t.co/xJTXzcwvNm',\n",
       " 'To all agencies, we need x1 back or I’m burning your buildings #JUSTICEFORX1 #JUSTICEFORX1 https://t.co/37gcFl0HXJ',\n",
       " '#BoundBrookFire Firefighters from several different departments came together to prevent even more buildings from burn…',\n",
       " '#BoundBrookFire Firefighters from several different departments came together to prevent even more buildings from… https://t.co/WwYgBEupzJ',\n",
       " '#FalseFlag 9/11 vs Cal Fires So is this an attack on America? Say, like 9/11. The same questions must be asked… https://t.co/5y6Cd8IoND',\n",
       " 'Demolition has begun on the burned out buildings in #BoundBrook. Slow process. Investigation into how/where it started…',\n",
       " 'Sad news coming from Bhainsa, Nirmal district, #Telangana peaceful stone pelter and mobs have selectively targeted h…',\n",
       " '#OperationMockingbird 9/11 vs Cal Fires So is this an attack on America? Say, like 9/11. The same questions mus… https://t.co/zkJdPyZIm7',\n",
       " 'Demolition has begun on the burned out buildings in #BoundBrook. Slow process. Investigation into how/where it st… https://t.co/myA1JIwQXu',\n",
       " '6-Alarm #Fire #BoundBrook #NewJersey Sun Massive Fire Start ~8PM 5 Story 174 Apt Bldg And Retail Under… https://t.co/mkAGx1QlRw',\n",
       " '#coup 9/11 vs Cal Fires So is this an attack on America? Say, like 9/11. The same questions must be asked about… https://t.co/7PQauGTIXj',\n",
       " '2 buildings on fire at seminole State College Stanford campus. 8 fire trucks including some from Longwood. #seminolestate.',\n",
       " 'Sad news coming from Bhainsa, Nirmal district, #Telangana peaceful stone pelter and mobs have selectively targete… https://t.co/wxq4ZcJARF',\n",
       " '#thankful 9/11 vs Cal Fires So is this an attack on America? Say, like 9/11. The same questions must be asked a… https://t.co/MpnzMeClP9',\n",
       " '#GunFreeZones 9/11 vs Cal Fires So is this an attack on America? Say, like 9/11. The same questions must be ask… https://t.co/mmKWWbZhj7',\n",
       " '#Bushfires on #KI have ravaged #glossyblackcockatoo habitat to an extent that has us worried about the survival of the sp…',\n",
       " 'Re: #AustraliaBushfires, a question for any #forestry experts out there. What are the possibilities for… https://t.co/nK5BvVkEVZ',\n",
       " 'Porhub’s #4 most watched video this week with over 4 million views is of a teen girl, hands/feet shackled down, mouth…',\n",
       " '[ꜩ] #Tezos Network $XTZ [ꜩ] Baking: 78.37% Endorsers: 362 Roll Owners: 432 Delegators: 25,114 Accounts: 395,5… https://t.co/fTRXjPt39d',\n",
       " 'This timelapse of #Sentinel3 🇪🇺🛰 imagery shows the magnitude of the #AustralianBushfire crisis in terms of burned areas…',\n",
       " 'Don’t Get Burned by Fake Camera Gear, This Video Warns https://t.co/n70lFZqK6m #PetaPixel',\n",
       " 'Despite extensive hazard reduction burning across the country over the past decade, some are arguing these #bushfires are evide…',\n",
       " 'Some family of passengers #FlightPS752 say, Iranian regime threatened them by multiple anonymous calls that they are not all…',\n",
       " 'WOW #THEIRABC have got them on speed dial. Miss at it again. This is the one who lied to #QLDPOL and… https://t.co/DRiPW593YM',\n",
       " 'This is how Gap teeth should look like,Not that burned boli Torolate teeth😂😂😂 I come in peace✌✌ #4DaysToTitansCollections #…',\n",
       " 'Just like what happened with #Yezidi girls who refused to be sex slaves! 7000 Yezidis were kidnapped ,enslaved. 19 were…',\n",
       " 'The same main causes of #globalheating - the burning of #fossilfuels and #deforestation - are harming our health in multiple wa…',\n",
       " '#Burning GN Rao Committee #Report and the #Boston Consulting Group Report in the #Bhogi Fire, along with other Trash, in #Thu…',\n",
       " 'Burning toast in the toaster #LoseYouToLoveMe #BestLyrics #iHeartAwards',\n",
       " 'Burning up firee ~~ #ALABTopSpotONMYX #PUSHAwardsATIN #SB19atWMA2020',\n",
       " 'When everyone else is burning up, keep it chilled in blue 💦 has your essentials covered in style! #Experie…',\n",
       " 'the world is watching, and heating and burning, please don’t subsidise #Flybe. We need to #FlyLess and… https://t.co/KDOI7AI3GE',\n",
       " \"If I had to guess where the #RefundWarren and #ITrustBernie hashtags started, I'd be looking at the same Russian troll farm…\",\n",
       " 'Tingling, numbness, burning sensations in your feet and/or hands? #PeripheralNeuropathy is a common side effects of… https://t.co/MVhEz7eIE2',\n",
       " \"📽️ | George MacKay Answers Burning Questions From British Vogue ! 'Vogue meets 2020’s brightest stars' #GeorgeMacKay 👉…\",\n",
       " \"Wanna take a quick peek at My Burning Heart's #voiceacting? Check out #YouTube video showcasing it! #visualnove…\",\n",
       " 'I wonder how many homes could have been saved in the bush fires if the LNP was not in power #auspol',\n",
       " 'Video About Australian Bush Fires Has Been Up For A While! Give It Some Love! 💗🙏 #fightthefires https://t.co/bEUByX129H',\n",
       " 'It is not just an Australian problem. We need #ClimateActionNow #AustraliaOnFire #TheFutureWeChoose …',\n",
       " 'I wonder how many homes could have been saved in the bush fires if the LNP was not in power #auspol',\n",
       " 'Yesterday, I said kangaroos were digging holes to save their Joeys from #AustralianBushfires. Several Australian field bi…',\n",
       " 'KANGAROO ISLAND’S UNIQUE WILDLIFE DEVASTATED IN BUSH FIRES – Read more about it on my blog: https://t.co/a2OUQRRuST #B…',\n",
       " 'Jeff Bezos says Amazon is donating $690,000 to Australian bush fire efforts...#CNBC #Tech https://t.co/kivhyOuMYn',\n",
       " 'Mwangi Kiunjuri : The Locust Plague and its casualties. #UhuruAddress',\n",
       " 'Al Shabaab fighters attack #Kenya military base at #Qoqani village in #Somalia, Lower Jubba region. Casualties unclear yet.',\n",
       " '#AustraliaBushfires: The race to save #KangarooIslandFires animal casualties!! #AustralianBushfiresDisaster…',\n",
       " 'Delhi: Fire breaks out at footwear factory https://t.co/PGmJ7UhCqG #delhi #newdelhi',\n",
       " \"#AlShabaab fighters attack #Kenya military base at Qoqani village in #Somalia's Lower Jubba region overnight. Fierc… https://t.co/FD2lULO1Rs\",\n",
       " '#NeelumNeedPakArmy Neelum valley is under severe dangerous circumstances due to heavy snow, landslides and climate catastrop…',\n",
       " 'More then 58 people dead in #NeelumValley in last two days due to heavy snowfall and glaciers More death casualties expe…',\n",
       " \"#UPDATE: No casualties reported in the explosion at a chemical factory in Zhuhai, South China's Guangdong, and the fire has be…\",\n",
       " 'Due to heavy snowing several disastrous incidents happend in #NeelumValley. Round about 18 casualties have been confirmed…',\n",
       " \"#AlShabaab fighters attack #Kenya military base at #Qoqani village in #Somalia's Lower Jubba region overnight. Fierce exchan…\",\n",
       " '#Update: No casualties have been found and the fire has been put out, according to local authorities. The cause of… https://t.co/130QV9UDSC',\n",
       " \"#UPDATE: No casualties reported in the explosion at a chemical factory in Zhuhai, South China's Guangdong, and the… https://t.co/Fn9gw1EYuc\",\n",
       " 'I just received the confirmation that the first revenge of #QassemSoleimani came from #Taliban whose delegation, after the at…',\n",
       " 'More then 58 people dead in #NeelumValley in last two days due to heavy snowfall and glaciers More death casualties… https://t.co/vI4MIh5SyS',\n",
       " 'When #explosiveweapons are used in populated areas, over 9 in every 10 casualties are likely to be civilians. This is a consiste…',\n",
       " 'Next time on #Casualty! Tune in Saturday 21.20pm on Vote for Casualty in the 🏆👉 https://t.co/xCWu…',\n",
       " '#News Random stabbing? Or activated #CIA Black Ops #MKULTRA patsy? 8 wounded in stabbing spree, suspect arrested https:/…',\n",
       " 'Fire in Mahul. Fire in BPCL #Mahul No casualty reported so far How is the going to ensure security of residents…',\n",
       " 'first locust casualty in 2020. #UhuruAddress',\n",
       " 'They are dropping like flies in the #DemocRATPrimary: The latest casualty #CoreyBooker (aka #Spartacus). Remember #DevalPa…',\n",
       " '3 years since Jacob told Connie, “It’s over” and I’m still holding out for that reunion! 🙏🏼 #Casualty https://t.co/dwy…',\n",
       " 'Energetic and Comedic Redhead Teen, just seen on #Casualty Playing age 12-15, Northern and American Accents, worked wi…',\n",
       " 'SNOW STORM CASUALTY: #FANCYWATEROFTHEDAY https://t.co/qJyi9PheIB',\n",
       " '3 years since Jacob told Connie, “It’s over” and I’m still holding out for that reunion! 🙏🏼 #Casualty https://t.co/dwy43RhaCv',\n",
       " '#Nowplaying Catastrophe - Crossfaith (EX_MACHINA) https://t.co/Qk1yNXuWpt',\n",
       " 'I just hope these POLITICIANS are not using the current catastrophe of #Philippines just for the sake of their good… https://t.co/wuURsYULXc',\n",
       " 'Been watching #Catastrophe and on Episode 2 of Season 4. Tripping out over a joke Rob made about he’d like Princess… https://t.co/jt4f96q1Yy',\n",
       " 'Australians Are Waking Up To #ScottyfromMarketing And Realizing That s Catastrophic And Abysmal Handing Of…',\n",
       " \"#isitok to say P.M. Scott Morrison's response to catastrophic bushfires is woefully inadequate? #Scottnoclue.\",\n",
       " 'People of neelum valley suffering from catastrophic situation.may allah save the people of valley. #NeelumNeedPakArmy #DGIS…',\n",
       " '#ThisIsNotJournalism The Coalition Govt Government buried climate risk action plan produced 18 months ago. It failed to pr…',\n",
       " '1 Billion Animals Killed In #BushfireCrisis , Scientists Warns Of Catastrophic Extinctions , The Animals At Risk During And…',\n",
       " '#ThisIsNotJournalism The Coalition Govt Government buried climate risk action plan produced 18 months ago. It fai… https://t.co/Ovmloubiwe',\n",
       " 'With everything here, not been following the catastrophic #AustraliaFires As always 🐶s give hope. 🐶 saving 🐨s. https://t.co/7l1vSohbdj',\n",
       " \"That whiff is like a major chemical spill.. It's now a major emergency for Libs #auspol Scott Morrison looks for wr…\",\n",
       " \"That whiff is like a major chemical spill.. It's now a major emergency for Libs #auspol Scott Morrison looks f… https://t.co/0ZvKyjBjFO\",\n",
       " 'Get notified of an emergency in no matter where you are! Register for #AlertWR to receive emergency aler…',\n",
       " 'Woodbury takes emergency action to address #water wells polluted by 3M chemicals: Star Tribune… https://t.co/m7H0mXkEtR',\n",
       " 'CFA Chemical Hazard All Clear: 15:20 For: Cobram, https://t.co/iT10DqmBJu #vicAlert',\n",
       " 'The chemical hazard at Cobram is now safe. For more info: https://t.co/6gORG7rAed #vichazmat',\n",
       " 'The chemical hazard at Cobram is now safe. For more info: https://t.co/gOvRStF57J #vichazmat',\n",
       " 'CFA Chemical Hazard Advice: 14:06 For: Cobram, https://t.co/iT10DqmBJu #vicAlert',\n",
       " 'Chemical Hazard - Advice for Cobram. For more info: https://t.co/L9uP0CsCJL #vichazmat',\n",
       " 'Chemical Hazard - Advice for Cobram. For more info: https://t.co/L9uP0CsCJL #vichazmat',\n",
       " 'Chemical Hazard - Advice for Cobram. For more info: https://t.co/S4XhnXRscO #vichazmat',\n",
       " 'Chemical Hazard - Advice for Cobram. For more info: https://t.co/g95XnMfVhg #vichazmat',\n",
       " 'Chemical Hazard - Advice for Cobram. For more info: https://t.co/sZvwPsq5NP #vichazmat',\n",
       " 'CFA Chemical Hazard Advice: 12:17 For: Cobram, https://t.co/iT10DqmBJu #vicAlert',\n",
       " 'Chemical Hazard - Advice for Cobram. For more info: https://t.co/sZvwPsq5NP #vichazmat',\n",
       " 'Chemical Hazard - Advice for Cobram. For more info: https://t.co/g95XnMfVhg #vichazmat',\n",
       " '#QuesSaveLives Hubby just got a fire alarm call and had to suit &amp; boot-up. He works in the Chemical field but volunteers on t…',\n",
       " 'Emergency sirens are located around in the highly unlikely event of a chemical #incident. When the… https://t.co/nFaPq9aa5D',\n",
       " '#QuesSaveLives Hubby just got a fire alarm call and had to suit &amp; boot-up. He works in the Chemical field but volun… https://t.co/5m9ZL34HwM',\n",
       " 'EEAST is currently on the scene of a large chemical incident in #WestThurrock working alongside other emergency service…',\n",
       " '\"As climate scientist Kate Marvel put it, \\'#Climatechange isn’t a cliff we fall off, but a slope we slide down.\\' Every…',\n",
       " \"British tourist Madalyn Davis has died in a fall from a popular tourist spot in Sydney's eastern suburbs. #7NEWS https:…\",\n",
       " \"British tourist Madalyn Davis has died in a fall from a popular tourist spot in Sydney's eastern suburbs. #7NEWS https://t.co/2dJTn0GbY1\",\n",
       " \"Travis Manawa [about Brandon's group]: I think they're dangerous. Chris Manawa: Maybe that’s what it takes. #FearThe…\",\n",
       " 'WHAT IS THIS INFORMATION?? Did someone fall off a cliff? Is it a secret child? Do they have an extra toe?? #BachelorNa…',\n",
       " 'WHAT IS THIS INFORMATION?? Did someone fall off a cliff? Is it a secret child? Do they have an extra toe?? #BachelorNation #TheBachelor',\n",
       " \"FINANCIAL WOES: Europe's Largest Regional Airline Flybe On Brink Of Collapse https://t.co/GiyxhbNvRn #Flybe… https://t.co/O7LRkXIYS2\",\n",
       " 'Slovenia\\'s Dalila Jakupovic after being forced to retire in the smoky conditions at #AustralianOpen qualifying. \"I was re…',\n",
       " 'EU collapse in polls: #Italy: LEGA (Salvini) 👉 biggest #France: Le Pen 👉 biggest #Netherlands: PVV (Wilders) 👉 shared…',\n",
       " 'After collapse of #PMCBank, RBI has now issued a notice allowing withdrawal of only Rs 35,000 at Sri Gururaghavendra Sahak…',\n",
       " 'Haftar to Egypt ? #Libya crisis / Moscow talks collapse, at least for now: Haftar backs out of Russian negotiated ceasefire…',\n",
       " 'Haftar likely to Egypt: Moscow talks on #Libya collapse: Haftar‘s Dassault Falcon 900 departed Moscow Sheremetyevo &amp; is now…',\n",
       " 'Pressure is mounting on government to reconstruct the 150 kilometre M5 road from #Salima to #Nkhotakota which has been in…',\n",
       " '#TheReal911Report #TheSleeperHasAwakened This video combines two clips of the South Tower collapse that most of you hav…',\n",
       " 'Dunno what to buy ? Tired of staring at #charts with no results ? Marriage on the brink of collapse ? Tired of losing mo…',\n",
       " '#Auspol If our pathetic Govt moves vs Coal, they will be collapsed by their Masters, #ArsonistMineralCouncil. Govt only exi…',\n",
       " \"Reading about #TaalVolcano makes it a bit scarier. I was today years old when I learned that it's categorized as a supervol…\",\n",
       " 'Replay this video to understand the horror of the #ClimateCrisis and why we need to rise up to our governments: Dalila Jak…',\n",
       " \"The nuclear deal hasn't collapsed in January 2020. It was *destroyed* by Donald Trump in May 2018. #FakeNews\",\n",
       " \"The nuclear deal hasn't collapsed in January 2020. It was *destroyed* by Donald Trump in May 2018. #FakeNews https://t.co/7y…\",\n",
       " 'Today, #NewJersey protesters collapsed a bill that would have ended religious exemptions for children’s vaccines. But …',\n",
       " 'Word is an #AusOpen2020 qualifier has just collapsed in a coughing fit #melbournesmoke Last year Morrison rushed to ten…',\n",
       " 'Govt were warned of a looming #BushfireCrisis 1 year ago, yet Libs/Nats buried the “risk management” report Scott Morri…',\n",
       " '#Auspol If our pathetic Govt moves vs Coal, they will be collapsed by their Masters, #ArsonistMineralCouncil. Govt… https://t.co/L9W6o9V0M4',\n",
       " 'Govt is taking populist measures in the name of #digitalindia. For instance, digital locker facility is useless if gov…',\n",
       " 'Guys, relax! Players have always collapsed on court due to bushfire smoke inhalation. #AusOpen #AustraliaBushfires https://…',\n",
       " 'Guys, relax! Players have always collapsed on court due to bushfire smoke inhalation. #AusOpen #AustraliaBushfires',\n",
       " 'When the worlds collide... (? #StevenUniverse https://t.co/UB8Bkon4d4',\n",
       " 'What can happen when two redheads collide? Read Almost Picture Perfect in \"A Blooms, Bones and Stones\" now! #mustread #…',\n",
       " 'The Vow, a modern-day vampire tale where day and night collide. https://t.co/MmtVoqRX3z #darkfantasy #urbanfantasy #vamp…',\n",
       " '#GEMRoyalty We have accumulated as many assets as we can so that we can benefit from this generational opportunity… https://t.co/LgVpHpomyK',\n",
       " 'When cultures collide! #southernspain https://t.co/ML6xGKuGk5',\n",
       " 'Just uploaded \"GUEST MIX PAUL COLLIDE TECHNOSTATE INC. SHOWCASE #152\" to https://t.co/AVlsHt4pfY Tune in now!',\n",
       " 'Did you get it right? Watch the 🐐🐐 collide in the #BattleOfEquals 💥 #INDvAUS https://t.co/0Wdq8kixde',\n",
       " 'Heb je ‘TECHNOSTATE INC. SHOWCASE #152 Paul Collide Mix’ van Paul Collide (Official) al gehoord op #SoundCloud? #np https://t.co/74gRZMf3Lc',\n",
       " '#NowPlaying Collide - Tiana Major9 &amp; Earthgang #Listen live on our free app! #1037Thebeat The Voice of Muskegon!',\n",
       " 'Sex, Violence and Self-Discovery Collide in the Incandescent ‘Cleanness’ https://t.co/OqnQ4Y5ofQ #books #books… https://t.co/pc6WPalB2i',\n",
       " 'Monster Hunter X Resident Evil X Final Fantasy X The Witcher. So many universes collided in one cutscene! 😆 #REBHFun #R…',\n",
       " \"It's about time our two worlds collided like this. Check out the new FEN! Live from Fillory and get ready for #TheMagici…\",\n",
       " '14/1/1940 This day 1940 British coaster Hullgate collided Moyle in Scheldt Belgium#unknown losses Anyone have a fam… https://t.co/rpnsVdvI7G',\n",
       " '#APPEAL | Were you driving on the #A1 in #Barnet around 2130hrs last night? A dark coloured Audi collided with a lamp po…',\n",
       " 'Three people were taken to hospital after two cars collided in Surfers Paradise. https://t.co/tIEQ9K5sus #7NEWS https:/…',\n",
       " 'Three people were taken to hospital after two cars collided in Surfers Paradise. https://t.co/tIEQ9K5sus #7NEWS https://t.co/3wnsxIG6fr',\n",
       " '#sapsKZN Yesterday, DBN #SAPS #SAR along with various role players responded to an accident on the M13 East bound afte…',\n",
       " 'Morning and late night political worlds collided on Monday as Morning #Joe hosts #Joe #Scarborough and Mika Brzezin… https://t.co/3ezGTkxsQP',\n",
       " '#FromOneLine 19 We all felt the earth move Palpable chemistry right there When our eyes first met Two worlds collided…',\n",
       " '#sapsKZN Yesterday, DBN #SAPS #SAR along with various role players responded to an accident on the M13 East bound a… https://t.co/d2Bin2GI0a',\n",
       " '#A303 Eastbound between #Chicklade and #Wylye, there is a vehicle collision and fluid spillage. Contractors en route to…',\n",
       " '#Italy, metro train collision in #Naples: driver in shock and 9 people slightly injured.',\n",
       " '...#Macron called the summit with W/A leaders following a helicopter collision that occurred during a combat opera… https://t.co/cSiLTXkJeq',\n",
       " '#DUBLIN Collision just cleared from the N7 inbound; long delays remain in the area. More here: https://t.co/PSzIBsvOzE',\n",
       " '⚠️🚘 There has been a road traffic collision on Coventry Road just after Manor House Lane #Birmingham. Allow extra time for you…',\n",
       " '#M3 Northbound between J12 #Pitmore &amp; J11 #Shawford - the outside lane is blocked due to a traffic collision - Police ar…',\n",
       " '⚠️ UPDATE: #A141 westbound between Tesco and Audi roundabouts #Huntingdon; Road BLOCKED due to road traffic collision. Q…',\n",
       " 'Northbound I-5 at Las Flores Drive, all traffic being diverted off, due to a multi-vehicle traffic collision. #SDCaltransAlert',\n",
       " 'We are currently attending a road traffic collision on the #A92, northbound near to the Portlethen junction The road is do…',\n",
       " 'A man has been taken to #Gloucestershire Royal Hospital with serious injuries following a two-car collision on Priors R…',\n",
       " '#M20 between J5 #Maidstone &amp; J4 #Leybourne there is a traffic collision within the roadworks blocking lanes 1 &amp; 2. #Traf…',\n",
       " '#M3 Northbound between J12 #Pitmore &amp; J11 #Shawford - the outside lane is blocked due to a traffic collision - Poli… https://t.co/yeF63cumxZ',\n",
       " 'M7: all lanes have reopened inbound between J5 Athgoe and J4 Rathcoole following an earlier multi vehicle collision. #m50safety',\n",
       " 'The #M66 from #J3 (#Pilsworth #Heywood) towards #J4 (#SimisterIsland) 2 lanes have been closed due to a collision. Traff…',\n",
       " '#OnThisDay 1942 submarine HMS TRIUMPH is lost off Greece, probably as the result of a collision, with the loss…',\n",
       " \"#Breaking | Poor visibility leads to an accident in Vellore. Vehicle chain collision leaves 1 dead. TIMES NOW's Shilpa with…\",\n",
       " 'TRAVEL: A26 near #Lewes - there is a collision between Earwig Corner and the Barcombe turnoff. Lengthy delays on bo… https://t.co/5k8L6M6IdS',\n",
       " 'Two of three lanes blocked on the M66 Southbound Junction 3-4 (Bury) due to a road traffic collision #TfGMTraffic',\n",
       " 'Powerful GPG collision attack spells the end for SHA-1 https://t.co/29uSQ2Raih #infosec #appsec',\n",
       " '#RT PeterStefanovi2: RT SuptAndyCox: Now 1 year since the last fatal collision on #A12 #London. During this time we started…',\n",
       " '#B5427 RTC. The unclassified road about a mile from the junction with B5427 towards Nant y Rhiw and the junction with B5113.…',\n",
       " '#B5427 RTC. The unclassified road about a mile from the junction with B5427 towards Nant y Rhiw and the junction w… https://t.co/BMfNyJCuxr',\n",
       " 'Powerful GPG collision attack spells the end for SHA-1 https://t.co/29uSQ2Raih #infosec #appsec',\n",
       " 'Poor visibility in #Vellore leads to chain collision of vehicles https://t.co/l6N51b6802',\n",
       " '3FM News: Police appeal over Mountain Road collision #news #iom https://t.co/AXjU36BCIX',\n",
       " '#DUBLIN Collision on the M50 northbound cleared. https://t.co/PSzIBsvOzE',\n",
       " 'The #M66 from #J3 (#Pilsworth #Heywood) towards #J4 (#SimisterIsland) 2 lanes have been closed due to a collision.… https://t.co/Vha43qLTEs',\n",
       " 'A1058 Coast Road, westbound delays and both lanes blocked at St Peters Road #Wallsend due to a two vehicle collision Po…',\n",
       " '#M20 between J5 #Maidstone &amp; J4 #Leybourne - vehicles involved in the traffic collision have now been moved to lane 1. T…',\n",
       " 'Willows Collision https://t.co/sgfbJ65ehU #slider',\n",
       " '#RT PeterStefanovi2: RT SuptAndyCox: Now 1 year since the last fatal collision on #A12 #London. During this time we… https://t.co/UQQtuTQ7yt',\n",
       " '#DUBLIN Multi-vehicle collision on N7 inbound. More here: https://t.co/PSzIBsvOzE',\n",
       " 'RT polscotrpu: We are currently attending a road traffic collision on the #A92, northbound near to the Portlethen j… https://t.co/tB7XNShjTn',\n",
       " '#OnThisDay 2018 Chinese state media confirmed that Iranian tanker SANCHI had sunk after burning for more than a week fol…',\n",
       " '#M20 between J5 #Maidstone &amp; J4 #Leybourne - vehicles involved in the traffic collision have now been moved to lane… https://t.co/YVx77sqsrr',\n",
       " '#M25 anticlockwise at J12 #Thorpe - we have a lane 3 &amp; lane 4 closure in place due to a traffic collision. #TrafficOffic…',\n",
       " 'TRAVEL: A26 near #Lewes - there is a collision between Earwig Corner and the Barcombe turnoff. Lengthy delays on both approa…',\n",
       " 'TRAVEL: A26 near #Lewes - there is a collision between Earwig Corner and the Barcombe turnoff. Lengthy delays on bo… https://t.co/X4KB0kbLAm',\n",
       " '#M25 anticlockwise at J12 #Thorpe - we have a lane 3 &amp; lane 4 closure in place due to a traffic collision.… https://t.co/mdECSetXAz',\n",
       " 'Now 1 year since the last fatal collision on #A12 #London. During this time we started a highly visible Road Policing Op.…',\n",
       " 'Boeing called Lion Air \"idiots’\\', and denied their request for #Boeing737Max training before deadly crash. It\\'s bad e…',\n",
       " '. \"killed\" a Nigerian Nigerian Dauda Onoruoiza on Ukrainian plane with #FakeNews htt…',\n",
       " '#Iran, grappling with unrest over the Ukrainian plane crash, warns protesters it will do everything necessary to protect the p…',\n",
       " 'https://t.co/Vzt6ZEiZsB All you wanted to know about the #ZeroMDR issue by “It is always good to work towards…',\n",
       " 'Live as M4 drivers face four miles of queues after crash near Slough #driving #news https://t.co/cXrtD8u2B9',\n",
       " '#BREAKING: Trudeau says the 57 Canadians killed when Iran shot down Ukrainian International Airlines Flight 752 would be al…',\n",
       " 'Crash Course Into JavaFX: The Best Way to make GUI Apps - A #FREE Course Learn more: https://t.co/3zfzcMltm1 #Java #Prog…',\n",
       " 'Derangement Of The Day \\u2066\\u2069 can’t even report on #Iran protests without equating treatment of the press with…',\n",
       " 'All ready for the website to crash trying to get West Ham fa cup tickets 😁⚽ Benefits having away season ticket 👌 #wba',\n",
       " 'Story of #ModernWarfare - crash every single moment and lose all the progression for that gold camo, because dev at… https://t.co/1rUxKAO28g',\n",
       " '#NotMyPM on BBC says #ReleaseTheRussiaReport will be released in weeks. How many weeks #RussiaReport. Probably enou… https://t.co/WH2MKoa3jm',\n",
       " '#BREAKING: Several people have been arrested because of their role in the Ukrainian plane crash in Iran that killed all 176 peo…',\n",
       " '#Breaking: Some people were arrested over Ukrainian aircraft crash in Iran, media reports.',\n",
       " \"A man's died after a serious crash in #Hanbury in #Worcestershire yesterday afternoon #HeartNews https://t.co/jprAGzwHUL\",\n",
       " '#BREAKING: Several people have been arrested because of their role in the Ukrainian plane crash in Iran that killed… https://t.co/scWtzlb8Ku',\n",
       " 'I wish #Chhapaak had not crashed so badly. Subjects like these must be discussed through a film. But Deepika’s own co…',\n",
       " 'Seventy-seven years after it vanished off the coast of Hawaii, a World War II fighter has been discovered. #9News https://t.co/lVohkid5Au',\n",
       " 'ℹARMY, Apparently as it seems #CONNECTBTS_ONLINE is a new website,as rumours say,a lot searched &amp; crashed😁 2 hints…',\n",
       " 'Damn almost crashed cuz I was falling asleep on the wheel #whoops',\n",
       " '#Chhapaak Crashed at Mass Clash with #Tanhaji finished this movie Blame should be given one &amp; only to FOX STAR It was a…',\n",
       " 'My secret crush is . Find your secret crush at https://t.co/tFEui2S107 #AvaTweet #SecretCrush https://t.co/gRNeXLaWwN',\n",
       " 'Forget Rihanna, forget Beyonce or your crush, is the real deal. #SheDeyBe https://t.co/dfkcwRWdJT',\n",
       " 'Proud to have been in #TheDirtyWarOnTheNHS More #NHS staff need to speak up. Our patients are dying and our colleagues bein…',\n",
       " 'Forgiveness is the fragrance that the violet sheds on the heel that has crushed it. #MarkTwain',\n",
       " \"Thousands of #IRGC's #Basij militias and Police Forces of #Iran's Islamic Regime are deployed to streets of all cities a…\",\n",
       " '#Kashmir is still under curfew with no internet. Dangerous laws to marginalise Muslims are being created…',\n",
       " 'Rabi, You are right, but for #Kashmiris we should do more than pray, raising the voice against oppress… https://t.co/fw4zxsFL8N',\n",
       " 'Read more: https://t.co/eMoGxaU9qq #Pakistan #India #OccupiedKashmir #Srinagar #Curfew #Newsonepk',\n",
       " 'For the first time in new state Telangana, CURFEW was imposed in #Bhainsa town and Internet shut down after peacefuls atta…',\n",
       " 'Navy imposes curfew in Ondo community over killing of Ratings, missing arms… https://t.co/HlGU4egwVs #sagagist',\n",
       " '#KashmirBleeds #KashmirTheLandOfPain #KashmirStillUnderCurfew Kashmir has been under curfew since 5th August 2019. No…',\n",
       " 'Talk about the situation in #Kashmir. The curfew has been on since over 150 days. Germany as a very dem… https://t.co/5ICNKtZ5z9',\n",
       " '163th day of curfew and lockdown in occupied Kashmir #KashmirBleeds #KashmirStillUnderCurfew #KashmirWantsFreedom https://t.co/rXaaJjqs3S',\n",
       " 'Category 3 Severe Tropical Cyclone #Claudia at sunrise satellite view from #CycloneClaudia https://t.co/nOChmO4…',\n",
       " 'The Monsoon Trough 🌧️ has moved over the Coral Sea, with #Fiji keeping an eye on a Tropical Low near #Vanuatu which may develo…',\n",
       " 'The Monsoon Trough 🌧️ has moved over the Coral Sea, with #Fiji keeping an eye on a Tropical Low near #Vanuatu which… https://t.co/09wRBPStyq',\n",
       " 'A pretty spectacular animation of a rapidly intensifying extra-tropical cyclone #Brendan over the North Atlantic today…',\n",
       " 'As the effects of #climatechange grow increasingly evident across the world, officials are signaling fres…',\n",
       " 'Sony officially skipping E3 2020. What’s the best damage control you’ve heard today? Post below! #E32020 #e3 #xbox #son…',\n",
       " \"#StormBrendan Another clip from Saltcoats around 1330 (high tide). We've switched the power to overhead lines off temp…\",\n",
       " 'Residents of Conjola Park in NSW return to survey the damage after bushfire. #abc730 #AustralianBushfiresDisaster…',\n",
       " \"Do whatever u want we #bycottdeepika #bycottchhapaak ,u can't do damage control s… https://t.co/pZXsZJS1mn\",\n",
       " 'Yes u are right but #Salmamkhan has done lot of damage controll by making them understand that this unscripted show sends a…',\n",
       " 'everyone who doubted seungwoo’s genuineness are as trash as those adults who brought so much damage to X1 #JusticeForX1',\n",
       " 'There is NO COMPASSION in forcing parents to inject toxins into babies. NJ has a huge # of k…',\n",
       " 'The #GreenDeal is not just another #EU project, it is THE new defining mission and failure to deliver would damage its le…',\n",
       " '#READ HIDDEN DANGER 📌 https://t.co/rLj1WYqcZT \"When the house goes BOOM! The dead will speak. Listen carefully to fin…',\n",
       " '🌋Volcano erupts in the #Philippines #TaalEruption2020🌋 Alert-level 4 raised over Taal Volcano. (5 highest) Estimated 450…',\n",
       " 'Make sure you Vote for #AsimRiaz in this poll too along with Voot and MyJio app. 👇👇👇👇 https://t.co/IFpF7K75WH',\n",
       " 'Danger of a Twitter pile-on: The ‘cancelling’ of #WilsonGavin https://t.co/BeL1roVhJY via',\n",
       " 'The rise continues. The current #LFC team now number 4 on the all time list of . Have increased 34 points and 4 pla…',\n",
       " '#NowPlaying Danger Princess by Clarion / on Deepstuff radio 1xtra listen now at https://t.co/TLL1oT8IAx #dremtgi #dremstuff',\n",
       " '#MoscowMitch Is Clearly A Present Danger to US Constitution.',\n",
       " 'At least 56 people dead in #Pakistani administered #Kashmir #NeelumValley after avalanches hit scores of houses. Authorit…',\n",
       " 'Stop killing people with your fake vaccines #vaccineskill. Was vaccinated and caught chicken pox 2 times my… https://t.co/qDoWswO3Ck',\n",
       " \"#Service 'This life is short, the vanities of the world are transient, but they alone live who live for others, the… https://t.co/haWXWsbvI3\",\n",
       " 'Persona? More like... PERJONAH! #dead #jonahbot',\n",
       " \"Dozen of people reportedly dead in iceberg in #NeelumValley, rescue teams haven't yet reached potentially to help the people.…\",\n",
       " 'Avalanches in #Pakistan kill 57 people https://t.co/JgrUDpMet3',\n",
       " 'This new year started very well: I came back in #middleschool to give my annual #gamedesign &amp; #gamedev #class. We a… https://t.co/Ja7L73RrWd',\n",
       " 'Ever since the outbreak of #hongkongprotests, dead bodies have been mysteriously found everywhere. Time and again, #hkpolice…',\n",
       " 'First horror movie in the new house. City of the living dead by #luciofulci also the bigger tv goes up in 2 days bu… https://t.co/pOIquPgbLR',\n",
       " 'Curative petitions by two of the convicts in #NirbhayaCase challenging their death sentence, dismissed by Supreme Court Final…',\n",
       " '#NinjaTribes Official Awakenings for Shippuden Naruto and Sakura! https://t.co/vinujD0kNo',\n",
       " \"#NirbhayaCase: #SupremeCourt dismisses two convicts' #petitions against death penalty Nirbhaya case: Supreme Court… https://t.co/FxMdfTCLQN\",\n",
       " '#FlagNotice: The Australian Flag will be flown at half-mast, Tuesday 14 January, as a mark of mourning and respect on the d…',\n",
       " '1/5 THREAD ⏬ old but STRIKING #Echofirst #WhyCMR #CardioTwitter case with a 😱😱😱😱 **** LGE! First #EchoFirst 18 y.o. male,…',\n",
       " '[Breaking] Nirbhaya Rape: Supreme Court dismisses curative petitions filed by two death row convicts #NirbhayaVerdict #Ni…',\n",
       " '#JustIn | Curative petitions by two of the convicts in #NirbhayaCase challenging their death sentence, dismissed by Supreme Court.',\n",
       " 'What is the “Iron Triangle “ - Trump will win the election and that will be the death of the democrat party! #TheMoreYouKnow…',\n",
       " \"Supreme Court's rejects curative petitions filed by two death row convicts in #Nirbhayacase\",\n",
       " '#woke #meghanharry #rich sick to death of greedy rich sh*ts-greedy Young woke royals-greedy bl*ck footballers wavin… https://t.co/Ex2TiwBWej',\n",
       " '#imrankhanpti you are really a incompetent prime minister you have destroyed the economy because legally its too ha… https://t.co/gGvjlOjx71',\n",
       " '#NirbhayaCase: SC dismisses curative petition of two death row convicts The convicts have exhausted their judicial remed…',\n",
       " 'Spoke today with the Foreign Minister of #Oman, Yusuf bin Alawi bin Abdullah and expressed my condolences on the death of Su…',\n",
       " '[Mourning day 8 Jan] 2 months from the tragic death of Chow Tsz-lok from suspicious fall in protests, #HK police continued…',\n",
       " 'In two weeks over 200 Survivors will come to for #Auschwitz75. The world will listen to their stories…',\n",
       " '. this is life or death for US! You will NOT #ProtectOurCare You INSTRUCTED the DOJ to TEAR down the…',\n",
       " '#mondaythoughts Have you ever thought about death? In Hong Kong, if you choose to fight for freedom, rights and justic…',\n",
       " 'Deaths toll Increase 47 killed due to Heavy Snow and #avalunch in #NeelumValley #Pakistan administered #Kashmir',\n",
       " '#childsafety | Local flu death of boy is one of two pediatric deaths in NYS this year https://t.co/bpEurBny1m https://t.co/r6y2MdlErm',\n",
       " '#childsafety | Local flu death of boy is one of two pediatric deaths in NYS this year https://t.co/2pWDm1TbsG https://t.co/WXJWs35Z1h',\n",
       " 'Climate change could lead to more injuries and deaths... #whatistech #todaytechnews #latestech… https://t.co/ix90uxvrNC',\n",
       " '#Cambodia thankfully was not a bad for deaths of #humanrightsdefenders in 2019, but of course they only tell part o… https://t.co/hDqd1zp3F4',\n",
       " \"It's #MidwifeMonday! What exactly is midwifery? It's the skilled, knowledgeable and compassionate care provided throughout…\",\n",
       " 'So the Member for Manila can quit Twitter as a protest supporting Young Liberals but how many #Aboriginal suicides and deaths…',\n",
       " '#Lanarkshire This is the big one for Scotland - no doubt as it captured much of Glasgow: 54 deaths… https://t.co/tNTZ97ByeQ',\n",
       " '#Oliverscampaign We must keep a close eye on NHSE and HEE to ensure that this training and its development is…',\n",
       " '#TheSleeperMustAwaken #TheReall911Report #RadiationFilmedOn911 When the camera man is finally reached by the coming de…',\n",
       " '#StormBrendan Update-8.00 Tuesday.: Significant overtopping around high tide on Monday evening led to closure of Prom. Wa…',\n",
       " '#StormBrendan Significant overtopping around high tide on Monday evening led to closure of Prom. Waters abated late… https://t.co/yNFqy9XYm9',\n",
       " 'Birds usually confuse shreds of plastic bags for food and end up eating the toxic debris. #ZeroPlasticRun #IamRespons…',\n",
       " '#StormBrendon is also bringing high winds, so will be difficult driving conditions. Slow down, be prepared for gusts of…',\n",
       " '#StormBrendan Update-8.00 Tuesday.: Significant overtopping around high tide on Monday evening led to closure of Pr… https://t.co/nPQVtXMAM3',\n",
       " '#Archaeology31 Layers. Archive-Archaeology. Do layers of dust and biological debris on books count? #archives #books #arc…',\n",
       " 'The #insurance sector has seen a deluge of disruption (from multiple directions). Which model shows the most promis… https://t.co/kc79XwiQe2',\n",
       " 'This was before #MurdochDerangementSyndrome hit our shores, a strong -ve IOD led to a cold and wet winter/spring. https://t.co/22zq6hQR8B',\n",
       " 'Well how about every Republican in Congress takes it in turn to react and comment to an #IMPOTUS tweet. That way th… https://t.co/YwR9c98aAH',\n",
       " 'The #insurance sector has seen a deluge of disruption (from multiple directions). Which model shows the most promis… https://t.co/CKiQwaRd9m',\n",
       " 'Guess 2012 was on the cuspm of #DeleteFacebook after that, came the deluge. of twits',\n",
       " '#Training 💻 Learn about Deluge scripting, third-party app integration, AI, mobile SDKs in Creator, and much more. Join thi…',\n",
       " 'You may need your brolly today ☔ #rdguk #weather #slough https://t.co/U1LZZEvAIH',\n",
       " '#Training 💻 Learn about Deluge scripting, third-party app integration, AI, mobile SDKs in Creator, and much more. J… https://t.co/TxGYDMgxH2',\n",
       " 'A sudden deluge of rain could fall in bushfire-ravaged parts of New South Wales this weekend. https://t.co/5FjxKKZ3nN #NSW…',\n",
       " \"Pro #CAA deluge in Kharge's backyard. #SupportCAA https://t.co/eJ8wxa5BS4\",\n",
       " 'With #CCPA now taking effect, many businesses will start to see #data subject requests come into their systems by the thous…',\n",
       " 'With #CCPA now taking effect, many businesses will start to see #data subject requests come into their systems by t… https://t.co/POMdK98PW5',\n",
       " 'Vodafone joins ‘deluge’ of companies banning limited company contractors over IR35 reform https://t.co/NyWc5Xz8zY #ir35 #con…',\n",
       " 'Before the #Tuesday #podcast deluge hits be sure to check out our interviews with (27:40) and …',\n",
       " '#MovieMonday #OurHospitality, 1923 is #BusterKeaton’s 1st masterpiece, said #RogerEbert &amp; there was a deluge of positi…',\n",
       " 'We won’t demolish property without paying owners – Gov. Makinde https://t.co/x1n73xyxgg #ReadThis https://t.co/eBslPc9SRn',\n",
       " 'Since the #MaraduFlats fiasco is over, can we please demolish the palarivattam flyover now?',\n",
       " 'I appeal every one to reach #ShaheenBaghProtests police are here to demolish our peaceful protest … https://t.co/AtfgO0Jpvy',\n",
       " '#Israel to Demolish Homes of #Palestinian #Prisoners in #WestBank #WarCrimes https://t.co/oH3gkSXvY0 via …',\n",
       " 'RT PalestineChron \"#Israel to Demolish Homes of #Palestinian #Prisoners in #WestBank #WarCrimes https://t.co/TRPir0qoP…',\n",
       " '#Anna\\'s letter to an ally📰📨: \"Recently I had to demolish my grandfather\\'s work, literally. What #Meghan and #Harry wan…',\n",
       " \"Yes let's all build a Lego OT while the Glazers demolish the real one. #GlazersOut https://t.co/FOwjhj2ZLG\",\n",
       " \"Yes let's all build a Lego OT while the Glazers demolish the real one. #GlazersOut\",\n",
       " 'RT PalestineChron \"#Israel to Demolish Homes of #Palestinian #Prisoners in #WestBank #WarCrimes… https://t.co/B59rmgqS9o',\n",
       " 'RT PalestineChron \"#Israel to Demolish Homes of #Palestinian #Prisoners in #WestBank #WarCrimes… https://t.co/56JqiM7egI',\n",
       " '#Israel to Demolish Homes of #Palestinian #Prisoners in #WestBank #WarCrimes https://t.co/oH3gkSXvY0 via… https://t.co/FlPH3H1bOO',\n",
       " 'Planned To Demolish Flats Just The Way They Were Built: Dr Anil Joseph https://t.co/DW0qFM6WTQ #DrAnilJoseph #MaraduDemolition',\n",
       " 'After #NankanaSahib Reports of Sikh houses demolished and expulsion in Madhya Pradesh After being on same page with Pak…',\n",
       " 'Already choked #Dwarka due to construction overburden. Home to so many bird species and Neelgai is being demolished… https://t.co/hjGFpzGGNt',\n",
       " 'Abu Amrah family from #Gaza Strip have been homeless for two months after their house was demolished by an Israeli air str…',\n",
       " 'Abu Amrah family from #Gaza Strip have been homeless for two months after their house was demolished by an israeli air stri…',\n",
       " 'Dome Being Removed From A Mosque in #China https://t.co/37pcWYrshC #Islam #Chinazi https://t.co/36lj0buoJq',\n",
       " '#busking #Cambridge on Sunday, #TrinityStreet site of demolished Church #AllSaintsPassage https://t.co/10H5yPYvzq',\n",
       " \"#MyReport | Maradu's Holy Faith H20 and Alfa Serene apartments were demolished on 11 January. CJ stayed b… https://t.co/s8CO1o4TUK\",\n",
       " '#Indian Supreme Court ordered demolition of apartment building for violation of laws. #Pakistani #SC regularised illegalities…',\n",
       " 'The planned demolition of #Palestinian houses in #Hebron besides to the planned release of a Palestinian #prisoner… https://t.co/GfDbX1NH3P',\n",
       " 'Dedma nio sila! Demolition tactics ignore do not engage ! Lets be happy lang for our TS...#Mak…',\n",
       " '“According to the assembly, they have informed the settlers about two years ago concerning the demolition exercise “- Sarah #Yensempa',\n",
       " 'Another large bulker heads to the breakers. #shipping #maritime #shippingindustry #drybulk https://t.co/vUJZof71JC',\n",
       " 'Another large bulker heads to the breakers. https://t.co/iemqfS9orS #shipping #maritime #shippingindustry #drybulk',\n",
       " '#MorningCrossfire: Demolition Of Buildings For Flyover Construction . This is a Lacuna. I have always advocated fo… https://t.co/iBqTcMQxaK',\n",
       " '#MorningCrossfire: Demolition Of Buildings For Flyover Construction . The land use Act states the method for compe… https://t.co/HFe5CNy5JN',\n",
       " '#MorningCrossfire: Demolition Of Buildings For Flyover Construction . Mobil filling station at garrison rejected t… https://t.co/eHoKcVWdRe',\n",
       " '#MorningCrossfire: Demolition Of Buildings For Flyover Construction . Discussions with landlords started from the… https://t.co/ajnjPfOKAM',\n",
       " 'Trongate developments move closer with two demolition approvals #icymi https://t.co/31hOK7nftP',\n",
       " 'Demolition well under way at the Riviera Bay Holiday Park - getting ready for summer #teamworking #demolition… https://t.co/osKfG6Gs6w',\n",
       " '#MorningCrossfire: Demolition Of Buildings For Flyover Construction . However, we advise both the tenant and landl… https://t.co/ch0eS5klBU',\n",
       " 'Racing Series Bk 3Mystery. Secrets. Demolition Derbies! CATCH ME IF YOU CAN! https://t.co/Uhasvsfpdv #RT #BYNR #inspy',\n",
       " '#MorningCrossfire: Demolition Of Buildings For Flyover Construction . In cases where tenants developed the propert… https://t.co/YS2sewbDWN',\n",
       " '#NowPlaying Demolition Man (2018) by FLOTSAM AND JETSAM',\n",
       " \"I'm sure this (contrived) story breaking 48 hours before the next #DemDebate and 3 weeks before the #IowaCau…\",\n",
       " 'Wait until #IR35 kicks in and they will see how much the economy will shrink! you have no idea! , yo…',\n",
       " 'Love and support to #AncientRoots #Israel #Herbal #Medicine Conference, Feb 2020 in the #HolyLand https://t.co/pjF4GlKb1q',\n",
       " 'MSM will do whatever they can think up to derail #Bernie2020! Will any of it work? Could be that Bernie has more friend…',\n",
       " 'Looking for a data #analytics solution for your #ERP? If the answer is yes be sure to look out for hidden costs tha… https://t.co/5AYoR5esnk',\n",
       " 'MSM will do whatever they can think up to derail #Bernie2020! Will any of it work? Could be that Bernie has more fr… https://t.co/Hxsg8NRxGD',\n",
       " '#Socialselling is tremendously effective for those who deploy it properly, but it’s easy to fall into the trap of… https://t.co/ZPNJeCaqnC',\n",
       " '. Do you still want to support the Anti #s386 #IranVsUS Iranian lobby ??? They…',\n",
       " 'Design of AR-15 could derail charges tied to popular rifle https://t.co/zsZ0G6L7wX #10TV https://t.co/VyQ8uNCJC4',\n",
       " \"Got into work to learn that #Hitchin is trending in England. Only to learn it's about the train that was derailed i… https://t.co/7N715jB6JR\",\n",
       " 'When Fru Ndi received money frm #Cameroon gov &amp; derailed SDF Party frm the original purpose of her creation (Championing…',\n",
       " 'No Great Northern and Thameslink services from #Cambridge and #Peterborough will call at #Hitchin this morning - it… https://t.co/0RXRC06xY1',\n",
       " 'Exposed #derailed',\n",
       " '⚠️ Update: the freight derailment in a yard at #Hitchin cut the cable controlling a set of points on 1 track through the…',\n",
       " '\"A freight train has experienced a low speed derailment at #Hitchin\" 1) Trains don\\'t \"experience\" 2) Thank goodness…',\n",
       " '#TLUpdates - We have been informed that a freight train has had a low speed derailment within the depot/sidings in the Hitchi…',\n",
       " '⚠️ Update: the freight derailment in a yard at #Hitchin cut the cable controlling a set of points on 1 track throug… https://t.co/WPkKfWy2Oa',\n",
       " 'A freight train has experienced a low speed derailment at #Hitchin which is affecting services on between #…',\n",
       " '\"A freight train has experienced a low speed derailment at #Hitchin\" 1) Trains don\\'t \"experience\" 2) Thank goodness it wasnt faster',\n",
       " '#GNUpdates - We have been informed that a freight train has had a low speed derailment within the depot/sidings in the Hitchi…',\n",
       " 'A freight train has experienced a low speed derailment at #Hitchin which is affecting services on betwee… https://t.co/i3iOPnkW45',\n",
       " 'Delays of up to 60 minutes and some #cancellations on #Thameslink between #Stevenage and Cambridge, and between Stevena…',\n",
       " 'Delays of up to 60 minutes and some #cancellations on #Thameslink between #Stevenage and Cambridge, and between Ste… https://t.co/Sk1uIJlIzy',\n",
       " '#Delays of up to 60 minutes and some cancellations on #GreatNorthern between #Stevenage and #Cambridge, and between… https://t.co/19osfe9Kkt',\n",
       " '#TLUpdates - We have been informed that a freight train has had a low speed derailment within the depot/sidings in… https://t.co/SeonfwajGb',\n",
       " '#GNUpdates - We have been informed that a freight train has had a low speed derailment within the depot/sidings in… https://t.co/j2eIxLlUiT',\n",
       " 'Thier is an apparent derailment at #Hitchin this morning but or do not seem to know anything ab… https://t.co/Nf78TPO38d',\n",
       " '38 years ago today, #DCsBravest battled a 4 alarm fire overnight. The following day, they responded to the twin tragedies of…',\n",
       " 'Train cars scattered all over the derailment area in Mississauga. #disasters #railroad #raildisaster #derailment… https://t.co/YUVB1wWzCd',\n",
       " 'Sheltering Cloud, Restless Land, Desolate Tree https://t.co/SNiwAlLBpt #buyart #originalart #art #fineart #interiordesig…',\n",
       " \"#DoctorWho companions. Ben didn't think having a holiday camp on a desolate planet was a good idea. https://t.co/XIJ5sY…\",\n",
       " 'The current political situation is making us feel hopeless and #FreeNazanin feels desolate. She got taken to the prison c…',\n",
       " '\"Let their habitation be desolate; [and] let none dwell in their tents.\" ~Psalms 69:25 #Bible #Poetry #God',\n",
       " '\"Let their habitation be desolate; [and] let none dwell in their tents.\" ~Psalms 69:25 #Bible #Poetry #God',\n",
       " \"Musician or band contact us https://t.co/NKsqkdxHTE Don't stop the music on #tiorr2 Behind The Eyes by Dying Desola… https://t.co/5Lto4YzJ7E\",\n",
       " 'The Vineyard of Desolation #polishart #symbolism https://t.co/0z5ZvRwAVC',\n",
       " 'Makes logical sense so why are we exiting #EU27? Madness &amp; its the biggest mistake by any n…',\n",
       " '#RealGod_Is_InForm Kabir God is the bringer of complete peace - Yajurveda Chapter 5 Mantra 32 \"God Almighty Kabir\" C…',\n",
       " '#Deepika is the scapegoat. The real culprits are still tweeting. Deepika must probe why did they destroy her undisp…',\n",
       " 'you hurt my boys too much. they’re just boys who’s fighting for their dreams. who r u to destroy it? #JusticeForX1 https://…',\n",
       " 'Nice cheeky 15 kill in Search and Destroy this morning, getting better 🤙 #CallofDuty #ModernWarfare https://t.co/y8uuHSIOtK',\n",
       " '#Siemens now joins the #ClimateCriminals by helping open up massive coal pits t…',\n",
       " '#Allah_Is_Kabir The Quran wisdom giver is saying that Allah is never going to die. Praise be given to his holy glory wi…',\n",
       " '#RefundWarren #ITrustBernie It’s over for Liz. have prepped to the tee . Oligarchs are pisse…',\n",
       " '#ITrustBernie hates America and wants to destroy her! https://t.co/vI72vwKFxL',\n",
       " '#WednesdayWisdom Those who say that they have appeared to destroy all the locos He is worshiping them as full divine Mu…',\n",
       " 'This needs to be trending #whiteophobia Sick and tired of the bloody race card! Just being white gets us non stop abu…',\n",
       " 'Not all #Muslims are alowed to freely recite the #Quran. In #China the government heavily oppresses Muslims,…',\n",
       " 'Is that all #ClimateScientists in the world. 100% or just 90%? Or maybe only 60% or even le… https://t.co/dKbocc0cgH',\n",
       " \"Sad news today. A furious winter storm has destroyed the Lion's Head #lighthouse in Ontario's #BrucePeninsula. Built by hi…\",\n",
       " 'One of the newest Japanese lighthouses, the Aonae Misaki #lighthouse on Okushiri Island, Hokkaido, was built in 1994 after…',\n",
       " 'The bee industry estimates about 10,000 hives have been destroyed and many more have been damaged across the country. #abc730 #…',\n",
       " \"Alec Baldwin blasts Trump supporters, saying they've caused 'colossal destruction' to America https://t.co/TU5ObMCjpp #FoxNews\",\n",
       " 'People are asking \"what about the jobs if #Flybe goes under?\". But what about the jobs if the planet goes under? And th…',\n",
       " 'A vulture fund is quickly buying land #Antequera #eltorcal pulling out 1000s of trees, desertifying the area to bu…',\n",
       " 'A vulture fund is quickly buying land #Antequera #eltorcal pulling out 1000s of trees, desertifying the… https://t.co/ST63TUXiT3',\n",
       " 'We often give our enemies the means for our own destruction. -- Aesop #quote https://t.co/ooUquQiERi',\n",
       " 'Hours of searching through nothing but death and destruction, then we found you and it was all worth it #AustralianFir…',\n",
       " '#ITrustBernie is a COMMIE! Hellbent on the destruction of America. https://t.co/xmoXEsKcUY',\n",
       " '#SatyaNadella After creation of Pakistan in 1947, contribution of Indian Muslims to India is 👉 24x7 Population explo…',\n",
       " 'People are asking \"what about the jobs if #Flybe goes under?\". But what about the jobs if the planet goes under? A… https://t.co/GRQSsBZt4g',\n",
       " 'When will provide FEMA aid for the earthquake destruction and victims on #PuertoRico',\n",
       " 'Bear witness to his destruction. West Coast, #CrisisOnInfiniteEarths starts now on The CW! https://t.co/03ekiK7d1o',\n",
       " 'Kim Jongin aka the god of destruction 🤣🤣🤣🤣🤣 #종인아_생일축 #2020KAIDAY #OurHappinessKAI #HappyKaiDay #HappyJonginDay #완벽한_주…',\n",
       " '22,000 trees to be cut down to expand #maafaru airport. a lagoon to be permanently destroyed. an airport that has already c…',\n",
       " 'The world’s #oceans are the clearest measure of the #climateemergency because they absorb more than 90% of the heat… https://t.co/aw708MqRHS',\n",
       " 'Jeffrey Epstein’s Ex-Cellmate Calls for Probe in Suicide Attempt Video’s Destruction #Epsteindidntkillhimself https…',\n",
       " '#The40YearPlaylist #962 THAT PETROL EMOTION (Derry, Northern Ireland and London) 🇬🇧 #ThatPetrolEmotion “Det…',\n",
       " '#AblaNari #MohiniMondol threatened crew wid bombs strapped to her body &amp; wud detonate them any moment Anyways such #Le…',\n",
       " '#The40YearPlaylist #962 THAT PETROL EMOTION (Derry, Northern Ireland and London) 🇬🇧 #ThatPetrolEmotion… https://t.co/pqL0wnJ2ne',\n",
       " 'Researchers detonate explosives in Texas in preparation for Antarctic fieldwork on the notoriously unstable Thwaites Glacier. #…',\n",
       " 'Goodafternoon Elenians! #DulaangElenians #HUMSSclub #SHS We are reaching out to you so that we may be able to reach out to…',\n",
       " 'Thank you from #Australia 🇦🇺🐨💔to #koalasofnyc for fundraising campaign to help #koalas &amp; other Australian wildlife devastat…',\n",
       " '[short thread] Modern au #xicheng when they started dating, lxc sends a bouquet of roses and flowers for jc. Cue t… https://t.co/6JIo48Uxc1',\n",
       " 'July 1945, Berlin. (Not colourised.) Pure devastation. From Brandenburger Tor, via Under Den Linden, to Stadtschloss. #WW2…',\n",
       " 'Scorched earth devastation on #KangarooIsland 💔 #bushfirecrisis #Australia …',\n",
       " 'Can only hope the LNP MPs are watching #abc730 showing the devastation of the drought and fires on primary producer… https://t.co/5palZGt5i9',\n",
       " \"We're deeply saddened witnessing the devastation to the people, wildlife and landscapes of Australia, so on #AustraliaDay…\",\n",
       " \"Seemingly incapable of accepting Iran's #PS752 confession, Sputnik goes full on tin-foil, claiming the US tricked Iran in…\",\n",
       " '#127LivesLost I need to speak to the President of the Republic of Kenya 🇰🇪. Road safety is a national disaster… https://t.co/FAJGbK7Aau',\n",
       " 'The massive global news interest in #AustraliaBurning shows the scale of the disaster. And every interviewer and writer w…',\n",
       " \"Thousands in #PuertoRico still don't have permanent shelter after a 6.4 magnitude #earthquake, the strongest earthquake i…\",\n",
       " 'The Children of #Idlib had no idea they would be displaced again while the world stays silent! #SOSIDLIB #WithId…',\n",
       " 'Routine plate fixation of displaced midshaft #clavicle #fractures is not cost-effective say surgeons. They su…',\n",
       " '12 days into 2020 &amp; we’re facing another natural disaster. #TaalVolcano just 90 km south of Manila is currently erupting. I…',\n",
       " '#Sêmalka: Yesterday evening, a new batch of 120 displaced persons, coming from Burdah Rush camp in the region of Başûrê…',\n",
       " 'RT #UNOCHA: 1 in 10 people in Niger need emergency aid to survive. But that has not stopped the country from welco… https://t.co/ZCvgK7wbRm',\n",
       " 'An attack on GSSSS #Monguno Camp has rendered an estimated 2,728 internally displaced persons homeless, after the destructio…',\n",
       " '.’s report “Displaced Nation” takes our # 2 spot. The report on #SouthSudan addresses what needs to be don…',\n",
       " '#Libya Since the onset of armed conflict on 04 April 2019 in south Tripoli, at least 29,863 families (approximately 149,315 in…',\n",
       " '#Christians around the world have faced persecution from #ISIS. As a result of the persecution, thousands have been killed &amp; even…',\n",
       " '#Libya Since the onset of armed conflict on 04 April 2019 in south Tripoli, at least 29,863 families (approximately… https://t.co/lsF5NxVdvB',\n",
       " 'January 12 marks the anniversary of the 2010 #HaitiEarthquake that claimed over 300,000 lives and left nearly 2 million…',\n",
       " \"Salams ❤️ In January I will be RUNNING the Marrakech Marathon with !! We're raising money for the #Roofs4Rohingya…\",\n",
       " '[Non-#LeeDaHee Content, photos not mine] Hi everyone! Please pray for my country as an erupting Taal Volcano is contin…',\n",
       " '#Sêmalka: Yesterday evening, a new batch of 120 displaced persons, coming from Burdah Rush camp in the region of Ba… https://t.co/XXCzRUik2x',\n",
       " 'Over 46, 377 people displaced (9,463 households) in #ElGeneina, West #Darfur according to the latest estimated figures of DTM…',\n",
       " '#ChurchInAction Brothers &amp; Sisters, let us HELP those families displaced by the eruption of Taal Volcano. Please ca…',\n",
       " 'These #Sudanese girls warmed my heart❤️ Happy to be in school against all odds. They were living in camps for internally d…',\n",
       " 'Nearby nonprofit housing displaced families from Alpine Motel Apartments fire - FOX5 Las Vegas https://t.co/bWXjxE6zsH #…',\n",
       " \"Meanwhile in #SouthernCameroons, crops r destroyed by 's military 2 bring famine on our people &amp; wi…\",\n",
       " 'Up next on #abc730..the desperate measures some communities are taking to ensure they have enough water to survive. …',\n",
       " 'The combination of drought and fire is having a devastating impact on honey production. #abc730 #bees https://t.co…',\n",
       " 'So about those economic costs of #ClimateInaction eh? #BeeHives #Pollinators #Vegetables #Fruit #Wine #GrainCrops… https://t.co/QqRhFgjA89',\n",
       " 'A matter of when, not if, cattle prices will rise because of #drought. #abc730 https://t.co/KYXSBtOP1A',\n",
       " 'Exhibit 1: #AvocadoGate Avocados are a benign morning sickness cure for Princess Kate, bought for her by her adoring husb…',\n",
       " '1/ In #Braidwood farmers already crippled by drought have lost 100s of kilometres of fencing in #AustraliaFires. Today, a…',\n",
       " '. is planning assistance for more than 4 million people in #Zimbabwe as concerns grow that the impact of a regi… https://t.co/GbCVIs7LCL',\n",
       " 'Our thoughts are with our Stanthorpe members who ran out of water today 😪 a member from #stanthorpe travelled 1.5 hours t…',\n",
       " '🔥One Of The Many Outcomes to come from #AustralianBushfires #AustraliaFires #Drought 🔥Vegetable prices may soar 50… https://t.co/hLJMEvXvcx',\n",
       " 'This grey gum lost a large limb overnight following the ~40C day we had yesterday in Western Sydney. #Eucalyp…',\n",
       " 'Top tips for looking after thirsty backyard birds this summer #wildlife #birds #drought #bushfires https://t.co/zG0…',\n",
       " 'Fanyus waiting for the next #YuzuruHanyu sighting in this long, endless drought',\n",
       " 'Lindsee Leonardo, 32, left infant son alone to drown in a bathtub, all because she needed some ‘me time.’ #FirstThem …',\n",
       " '“I don’t know whether to drown my sorrows... or just drown” 😂😂😂 #loveisland',\n",
       " 'Please drown in the sea of me ✍️ #Love 🌹',\n",
       " \"Can't drown out facts with church bells and Big Ben. 😂 #r4today https://t.co/jsRwD33Z1a\",\n",
       " '#52Ancestors #52Documents week 2. Scottish death certificates give so much more information than their English/Wels… https://t.co/fANWYvC15A',\n",
       " 'Bodies of 2 #Zimbabwe park rangers found in Lake Kariba, authorities suspect 4 escaped poachers, https://t.co/AyI5x6P1xL via',\n",
       " '\\'\\'They get drowned mostly. They get caught on a longline hook and get drowned,\" https://t.co/cGsC0FzgOY #bycatch',\n",
       " '#felstedwar2 #OTD On Jan 14th Capt Richard Dennis (d 1937-1942) Prefect. Son of Bertram &amp; Elizabeth Dennis, of Bourton…',\n",
       " 'RT mosyans: Nobody ever drowned in his own sweat. #mosyans #mosyanorganizer #mosyans',\n",
       " 'Who - Drowned #Phish #RescueSquad https://t.co/s9i3jkbCBt',\n",
       " '\\'They get drowned mostly. They get caught on a longline hook and get drowned,\" https://t.co/cGsC0FzgOY #bycatch',\n",
       " 'Have you seen this nightmare before? 11 #Syrian immigrants including 8 children drowned while fleeing the hell in #Idlib on li…',\n",
       " '#felstedwar2 #OTD On Jan 14th Capt Richard Dennis (d 1937-1942) Prefect. Son of Bertram &amp; Elizabeth Dennis, of Bour… https://t.co/Um4wzY2q56',\n",
       " \"The world is drowning in debt - However, HM &amp; ministr assure us that #Ireland is 'grand'; unle…\",\n",
       " 'when i was drowning, that’s when i can finally breathe #Lover #BestRemix #iHeartAwards',\n",
       " '💫WOW💫 Ray escaped #SOCIALISM in Cuba &amp; says he would rather DIE DROWNING WITH A BIG SMILE ON HIS FACE BECAUSE HE KNEW…',\n",
       " 'While holidaying near the Caribbean island of St.Barts, Titanic actor #LeonardoDiCaprio helped save a drowning man… https://t.co/hmuiKbGEyj',\n",
       " 'when i was drowning, that’s when i can finally breathe #Lover #BestRemix #iHeartAwards',\n",
       " 'Climate change could lead to more injuries and deaths https://t.co/ql1RebODHG #metabloks',\n",
       " '#SBWL Hanging around creatives, beautiful minds. Bouncing ideas around, the crazier the better, Making up… https://t.co/tASGNrwSBH',\n",
       " 'Check out my broadcast from my PlayStation 4! #PS4live (Drowning (Demo)) live at https://t.co/AaUeutxHXw',\n",
       " 'Check out my broadcast from my PlayStation 4! #PS4live (Drowning (Demo)) live at https://t.co/AaUeutxHXw',\n",
       " 'Monster dust storm blankets several Australian states https://t.co/C2CqGXqja6 #grandsolar',\n",
       " 'Monster dust storm blankets several Australian states https://t.co/C2CqGXqja6 #grandsolar',\n",
       " \"Don't underestimate the power of a dust storm — always be prepared. #911LoneStar https://t.co/2hglSKKzZE\",\n",
       " 'Steve McCurry #photography Camels in a Dust Storm, India, 2010 https://t.co/qTGBH3Gl0c',\n",
       " \"As seen by yesterday's #SNPP #OMPS aerosol index the #AustraliaFires smoke is now south of western Australia (black circl…\",\n",
       " '「Disasters + Creative” #Exhibition- Practice at Parsons School of Design and 25-Year History of the Great Hanshin-A… https://t.co/R7DtXt4k7D',\n",
       " 'https://t.co/HvxhwYJ0jF Food truck offers free food for earthquake-affected tourists in Lombok | #Cyprus #aftodioikisi',\n",
       " '#EarthquakePH #EarthquakeCavite Earthquake Information No.1 Date and Time: 14 Jan 2020 - 04:13 PM Magnitude = 2.0 Depth…',\n",
       " '#Sismo M 4.5 SOUTHEAST OF EASTER ISLAND. 14-01-2020 07:31 UTC https://t.co/lQweuzpmE7 #Temblor #CSEM #EMSC… https://t.co/k0lTi1Tjvz',\n",
       " 'Map of felt reports received so far following the #earthquake M4.1 in Puerto Rico Region 41 min ago https://t.co/TruDdNKx3k',\n",
       " 'M 4.5, Southeast of Easter Island #earthquake #Sismo https://t.co/D4TqNwuMgU',\n",
       " 'M 4.3, Myanmar-India Border Region #earthquake #Sismo https://t.co/rF4lj6DQUN',\n",
       " 'M 4.7, Philippine Islands Region #earthquake #Sismo https://t.co/znRbUCPT5N',\n",
       " 'UNSILENT. The Democrats aren’t ready for the Earthquake #WalkAway is bringing in 2020. This Thursday, Jan. 16th, find o…',\n",
       " 'Seeing a US territory, #PuertoRico suffer from lack of infrastructure has me worried you ar… https://t.co/RIhyIupviV',\n",
       " '42 min.ago #earthquake 3.6 has hit Canas Barrio (Ponce), Puerto Rico, 3.7mi, 4:07 AM AST (RSPR)… https://t.co/DfgMZAmpGX',\n",
       " '#PUERTORICO: The grant will go to the Foundation for Earthquake Relief Fund which will be used to activate a serie… https://t.co/AD4lUt8pKq',\n",
       " '#PUERTORICO: EVERTEC, yesterday announced that the Company will donate $50,000 for earthquake relief in Puerto Rico. https://t.co/aCugo3o5oE',\n",
       " '#Earthquake (#sismo) M4.5 strikes 1,402 km W of #Castro (#Chile) 1hr 13min ago. More info: https://t.co/smgzgbPYn2',\n",
       " 'Map of felt reports received so far following the #earthquake M4.1 in Puerto Rico Region 41 min ago https://t.co/TruDdNKx3k',\n",
       " '35 min.ago #earthquake 3.6 has hit Canas Barrio (Ponce), Puerto Rico, 3.7mi, 4:07 AM AST (RSPR) https://t.co/Wjp7xWbzuA #Tem…',\n",
       " '3.1 magnitude #earthquake. 14 km from #Volcano, HI, United States https://t.co/kszc5iyIVl',\n",
       " '3.5 magnitude earthquake recorded in Bulgan aimag #MONTSAME #Mongolia https://t.co/yteSvu24Q8',\n",
       " \"⚡️Mr Rex's Zealous Adventure⚠️ Electrocute a Cat! https://t.co/anpzo0uEzW #MrRexGame #MrRex #GameDev #GameMaker https://t.c…\",\n",
       " 'from a depressed little boy to a strong ass woman #LGBTQgang https://t.co/iTVRRkPeCS',\n",
       " \"Don't make me snap my finger and electrocute you to death lol #TheElderScrollsOnline #ESO #Mage #Altmer #Psijic https://t.co/ntxoOjlV6L\",\n",
       " 'An electrician at Kpando in the Volta Region has been electrified whilst on his job #yennews #Topspeed #shedeybee… https://t.co/bxLYHQ7NlU',\n",
       " '#AUSTRALIA FIRES UPDATE: Our Animal Rescue Team continues to look for signs of life on Kangaroo Island &amp; provide care for su…',\n",
       " 'We’re going to be on TV! 📺 Losing It: Our Mental Health Emergency is the story of #mentalhealth in Britain told by our…',\n",
       " 'I don’t know if it’s the climate emergency, #Megxit or the terrible state of world politics, but I’m seeing a lot o… https://t.co/GNrwu5GOLR',\n",
       " '#GaurCity 1st Avenue (Greno west) security and staff removed abruptly.. The a…',\n",
       " 'CAHA is calling on the #australiangovernment to take action on #ClimateChange \"Climate change is a health emergency. Liv…',\n",
       " 'User Deals: Wise Company Emergency Food Supplies Sale: Up to 46% off https://t.co/OP7YMuVvg0 #owldeals #bargains #coupon #blackfriday',\n",
       " 'This is an #Australian magpie. This little bird has seen so much emergency recently that it has started to mimic the sou…',\n",
       " 'For the 23rd time in less than three years, the Trump Administration is asking #SCOTUS for emergency relief to allow a n…',\n",
       " 'Is this your constituency? What is the status of this emergency in #NeelumValley #AJK - is the #Pakis…',\n",
       " 'In Case of Emergency, Please Remove Your Bra Wear the tight pretty ones if you’re near #Australianbushfires https://t.co/oqHXttpLuu',\n",
       " '#AdoreYou by #SEVENTEEN I call this my emergency medicine, their cuteness cure everything 😫🥺 011220 #OdeToYouinCHI h…',\n",
       " 'Regardez la diffusion de : Protesters Hold ‘Emergency’ March for Scottish Independence in Glasgow #IndyRef #In…',\n",
       " '# Why you should never, ever bring your carry-on with you during an emergency evacuation… https://t.co/Xm7SEzks1N',\n",
       " 'Still no apology from for refusing to act on recommendations for a national emergency plan for #AustralianBu…',\n",
       " 'A plan to overcome #climatecrisis https://t.co/qMrfk08Uo9',\n",
       " 'My battle cry before next weeks #Davos2020. Let’s make this the year of transformative action #ClimateEmergency #Plane…',\n",
       " 'The #Lionlife Assist Helpline aims to provide its clients with the best value added benefits for emergency, funeral… https://t.co/jUKI6lpzYq',\n",
       " 'Casterton-Apsley Rd (C211), Dergholm - Road Closed - Emergency Services Access Only,… https://t.co/dYa7sRirGj #victraffic',\n",
       " 'Casterton-Apsley Rd (C211), Dergholm - Road Closed - Emergency Services Access Only,… https://t.co/dYa7sRirGj #victraffic',\n",
       " 'In response to the current #bushfirecrisis, is extending and increasing emergency veterinary services for anima…',\n",
       " 'Emergency services are battening to save homes from #StormBrendan here in Carrickfergus. The water continues to flood street…',\n",
       " 'Two lanes have been closed while emergency services deal with the incident https://t.co/gfO0sq865D #m4 #Slough',\n",
       " 'This evening a crew from #York was called to the #Foss to assist in a potential rescue. Can I remind peopl…',\n",
       " 'The #Emergency services in #Buea have come under review. This as Locals in Great Soppo Buea watch with pity as a yo… https://t.co/wdHBP0OBAv',\n",
       " 'A beautiful pic of a great save by &amp; Metropolitan Fire Service (MFS) teamwork on #KangarooIsland. One of many res…',\n",
       " 'For those of you who like #Rugby - are offering all emergency services personnel free entry to their match on…',\n",
       " 'Emergency services at scene of multi-vehicle crash near Muff https://t.co/oNZ1m7P8MA #donegal',\n",
       " 'Emergency services called to a collision on the #M20 near #Maidstone Read More on this: https://t.co/JiRcce7U8m . UK News…',\n",
       " 'Our thoughts are with everyone affected by the devastating #bushfires. Maddocks has pledged $40K to the #VictorianBush…',\n",
       " 'Emergency services called to a collision on the #M20 near #Maidstone Read More on this: https://t.co/JiRcce7U8m .… https://t.co/KGLr8oPZer',\n",
       " '#M20 between J5 #Maidstone &amp; J4 #Leybourne there is a traffic collision within the roadworks blocking lanes 1 &amp; 2.… https://t.co/CIJOKjPpND',\n",
       " 'Very smokey in #Melbourne today. Destruction and impact of the #bushfiresAustralia seems unrelenting. Deep gratitud… https://t.co/ouDnrP5hpK',\n",
       " '⚠️ UPDATE: #A141 westbound between Tesco and Audi roundabouts #Huntingdon; Road BLOCKED due to road traffic collisi… https://t.co/tRuHa5NsgI',\n",
       " 'For those of you who like #Rugby - are offering all emergency services personnel free entry to their ma… https://t.co/5RaG8b53aQ',\n",
       " '“Engulfed by the flames Engulfed in the shame Betrayed by your imagination” #RareOutNow 🖤 https://t.co/y3pe1ErUd0',\n",
       " 'So engulfed in the news about #HawaiiFB coach Rolo that I didn’t notice &amp; while at dinner a…',\n",
       " 'So engulfed in the news about #HawaiiFB coach Rolo that I didn’t notice &amp; while at dinn… https://t.co/IaY8Ya7Eqq',\n",
       " 'Last moments of #PS572 when engulfed in flames. Passengers can be heard screaming. And for 3 days the disgusting… https://t.co/Y9dGSFDjIX',\n",
       " \"To all out there .........What's the latest #Jokhang Temple fire Engulfed in flames two years ago on 17 February 2018 since then nothing\",\n",
       " '#Jokhang Temple fire A number of videos emerged on social media showing the temple being engulfed in flames two years a…',\n",
       " 'Richard Branson engulfed in crisis at Flybe after Virgin rescue: https://t.co/Pr22LZYBfz #Aviation #Airline https://t.co/KJRucDtiFf',\n",
       " '#Spain undiscovered #gems: #Requena is known for its many wineries. This picturesque town was originally the epicen… https://t.co/hQ0isff9ql',\n",
       " '#FattyLiver is the epicentre of all lifestyle diseases for Indians. 1 in 3 in Delhi has it. We need to address this early…',\n",
       " '#FattyLiver is the epicentre of all lifestyle diseases for Indians. 1 in 3 in Delhi has it. We need to address thi… https://t.co/p14vddScZO',\n",
       " \"HIV | #Stigmabase — South Africa is at the epicentre of the HIV pandemic, with the world's highest number of new… https://t.co/txDkF9kgie\",\n",
       " 'Let us make 2020 a watershed year for the nation. Let us #MakeBlockchainInIndia and make India the epicentre of the Global Bl…',\n",
       " '#StephensCollege... DAMN IT... Now the #Epicentre is Shifted out of JNU To St.Stephens College... Talk Sense, U Protest…',\n",
       " 'Bridal couple were little affected in contrast to the 24,000 people who have been forced to evacuate. #FMTNews #Wedding https…',\n",
       " 'Bridal couple were little affected in contrast to the 24,000 people who have been forced to evacuate. #FMTNews… https://t.co/3tYQ0niMTP',\n",
       " 'hello! this is my new #anitwt acc and follow me there im in need of filo moots and to my international moots, i still wanna k…',\n",
       " 'INDONESIA #Jakarta city govt spent more money on Formula E electric car race than flood prevention efforts as death toll from…',\n",
       " 'On 12 of January, #TaalVolcano in the Philippines started spewing lava forcing the evacuation of thousands of people. …',\n",
       " 'The #Taal Volcano, located 70km from the Philippines capital Manila, erupted on Sunday. With ash clouds blowing mor… https://t.co/qxsYvql4G1',\n",
       " \"#PrayForPhilippines 🙏 let's help advance the human race first. Let's use crypto to help people. please find a wa…\",\n",
       " ':( #PrayForPhilippines I hope everyone gets evacuated safely https://t.co/eZchWCh6Pd',\n",
       " 'a few hours before our trip turned into an evacuation plan 🌞 #NewProfilePic https://t.co/r4Ml1Qeyra',\n",
       " 'As we are preparing for #WinnerCrossTourinManila our fellow kababayans have encounter #TaalEruption2020 and now in diff…',\n",
       " '#TaalVolcano Relief Operations DSWD USec Gudmalin turns over 1,338 family food packs to the LGU of Balayan, Batang… https://t.co/ksteerirhL',\n",
       " 'Vice President Leni Robredo visits evacuation centers in 3 towns in Batangas heavily damaged by the #TaalEruption2020. h…',\n",
       " 'New bug, and interesting interaction. I have no idea why an health item would make barrels explode. #gamedev #gamemaker #indi…',\n",
       " '#photography Get my FREE eBook - https://t.co/UAh9I9RCXI Photographer Noah Kalina Has Shot a Selfie Every Day for 2… https://t.co/qzyaS2Wydy',\n",
       " 'Just two days to #NAMM and my Gear Acquisition Syndrome will explode 😬🎹 https://t.co/uAHuNDXjVu',\n",
       " '#OnThisDay in 1976 the IRA murdered Ian Gallagher, 41. Married father of 3. Owner of do-it-yourself shop in North Street…',\n",
       " 'The largest bomb in the 3-4 decades to explode in #Stockholm #Sweden detonated tonight in the city’s richest area #Österma…',\n",
       " 'bruh that genny exploded about 87 times that game lol #NintendoSwitch https://t.co/HJsDQvBPrL',\n",
       " 'The Internet of Things explosion! #iot #innovation #IIoT #startup #SMM #Industry40 #CyberSecurity #fintech #wear…',\n",
       " 'Two Belgian soldiers currently serving in #Mali were injured when their vehicle Dingo II (MPPV) drove over an Improvise…',\n",
       " \"Why won't my blue_aura_Explosion spawn!?!?!? Because the naming convention is aura_blue_Explosion ... #indiedev https:…\",\n",
       " '#BREAKINGNEWSNOW:(DEVELOPING)Talisay mayor Gerry Natanauan has requested the authorities for a total lockdown of hi… https://t.co/n0HiSMDOFi',\n",
       " 'Let’s get the Starboy to 15k subscribers Before #AFROSERIES explosion 💥 Terri https://t.co/lmXx1YDqZI via',\n",
       " 'Massive bomb explosion tonight in #Stockholm #Sweden. Could be heard across the city. Must be the largest bomb in Sthlm in…',\n",
       " '#UPDATE Enormous sinkhole swallows a bus and pedestrians in northwest China, sparking an explosion. Six killed, four missing h…',\n",
       " 'PLP Leader calls PM a hypocrite on campaign finance reform pledge - EyeWitness News #campaignfinance https://t.co/Mq2g7iv8ZT',\n",
       " 'do it for tony #WeWantEyewitnessSeason2',\n",
       " 'The Philippine maid recording the video was arrested! #HKpolice is trying to silence an #eyewitness!! https://t.co/olT6x4MLTW',\n",
       " \"#ColoradoDrones Hey guys, been through 50 articles and still don't have an answer. What kind of drones are being flown o…\",\n",
       " 'please hear us!! #WeWantEyewitnessSeason2',\n",
       " 'do it for philip #WeWantEyewitnessSeason2',\n",
       " 'There, not here: How new marijuana laws in Illinois may affect Indiana border counties | Eyewitness ... https://t.co/Q8pyPqm7zZ #cannabis',\n",
       " 'My dad, #Thaihistory’s eyewitness, as a teen studying at #SuanKularb, living at &amp; before Rajdamnoen boxing stadium was…',\n",
       " 'My dad, #Thaihistory’s eyewitness, as a teen studying at #SuanKularb, living at &amp; before Rajdamnoen boxing stadium… https://t.co/EVfWtuaIVA',\n",
       " 'we want to see that cave sex #WeWantEyewitnessSeason2',\n",
       " '#kimmel TONIGHT: #ZachWoods and music by at 11:35 on #wftv right after Eyewitness News at… https://t.co/IEm8YqA5zp',\n",
       " 'Our Katie Moore had an exclusive interview with before the #CFBPlayoff. You can watch that tonight on Ey…',\n",
       " 'Our Katie Moore had an exclusive interview with before the #CFBPlayoff. You can watch that tonight… https://t.co/CH2F6JxeZA',\n",
       " 'Will hearts break? The truth could hurt when #TheGoodDoctor returns TONIGHT at 10 on #wftv followed by Eyewitness N… https://t.co/QvKezpPvEb',\n",
       " \"In #WWI although #Iran didn't pick any side, 9 million Iranians, half the population of the country, were killed by the…\",\n",
       " 'Each financial year money is allocated for disaster management, but we still raise paybills during famine and floods #UhuruAddress',\n",
       " '#Famine #Jacob #Israel #Joseph #Egypt #Pharaoh #Moses #Redsea #Promisedland🏃🏃🏃',\n",
       " 'Tope&amp;Bamike Oladipo Adenibuyan and all #BamTeddy fam, as the Lord favoured Joseph&amp;promoted him in the midst of famine&amp;…',\n",
       " 'RT #UNOCHA: RT OCHAHaiti: ‘The current food security situation is dramatic, and there is no hurricane, no earthquak… https://t.co/ISlxwciywi',\n",
       " '2010-19 seasons have been such a strange decade for the #49ers 80-79-1 record Four 10 win seasons Five 10 loss seasons F…',\n",
       " \"#Zambia's president Edgar Lungu instead of allocating $10 million dollars to provide food to 2.6 million Zambians affected…\",\n",
       " \"A Full-Scale Nuclear Winter Would Trigger a Global Famine. Here's What We Would Eat #sciencealert #aboveignorance… https://t.co/LXQeAuykvm\",\n",
       " '#CorpGov::: #Boeing CEO Muilenburg $62M payout announced same time as 2,800 layoffs. The substant… https://t.co/xDbzXmiaR1',\n",
       " 'The #EU continues its suicidal actions. This inflexible approach is likely fatal - but ‘principals’ Brexit latest:… https://t.co/t9xoVSYYLv',\n",
       " '#CHARGED | Detectives investigating the murder of 29yo Leshawn Williams in #Newham on 21 Dec have charged a second man wit…',\n",
       " '#CorpGov::: #Boeing CEO Muilenburg $62M payout announced same time as 2,800 layoffs. The substant… https://t.co/0P7JIlSmUQ',\n",
       " 'Malaysia Masters winner suffered cuts, whole-body bruising in accident that killed his driver. #FMTNews #Badminton https://t.co/UhoU2hQRxA',\n",
       " 'Bad driving habits contribute to road fatalities.#cars #driver #sportscar #vehicle #drivingtest #drive #drivingtest… https://t.co/8RqGq3gTg6',\n",
       " 'Some positive news from Effective Traffic Enforcement in Krugersdorp!! https://t.co/7pEfXIVdoe #ArriveAlive #Roadsafety',\n",
       " 'Some positive news from Effective Traffic Enforcement in Krugersdorp!! https://t.co/7pEfXIVdoe #ArriveAlive #Roadsafety',\n",
       " '#sapsKZN Yesterday DBN #SAPS #SAR along with eThekwini Fire and Rescue, Transnet National Port Authority Fire and Resc…',\n",
       " '#Democratic #Baltimore #GunControl: 12 shot, 5 fatalities in one day, 11th January 2020, all in Baltimore… https://t.co/AkmEb1PiLi',\n",
       " '#sapsKZN Yesterday DBN #SAPS #SAR along with eThekwini Fire and Rescue, Transnet National Port Authority Fire and R… https://t.co/NPROuhKMdr',\n",
       " 'This video shows the ten countries with the highest number of #conflict-related fatalities by year. A more interactive version of…',\n",
       " 'Approximately two-thirds of all reported civilian fatalities from direct targeting in #Yemen have been caused by #Saudi-led…',\n",
       " 'Melbourne city is shrouded Almost 1 billion animal fatalities. Humans suck! #AustralianFires https://t.co/s2UERSJ8dv',\n",
       " '🛑#modernslavery #CountyLines #Trafficking #CriminalGrooming all result in unnecessary unethical criminalisation, se… https://t.co/DiNn9siaRd',\n",
       " 'How Oslo - a city three times the size of #cork but that also has hills and bad weather - reduced the number of pedestrian,…',\n",
       " 'Pedestrian accidents are a problem in #Florida, 1 of the highest #pedestrian fatality rates in the US.… https://t.co/b5Q9lG1RnW',\n",
       " 'SAVAGE!!!! #FATALITY https://t.co/OWIK6gPzVw',\n",
       " '#Battersea #fatality https://t.co/LswfzRAKKB',\n",
       " \"That's a fatality #LSUvsCLEM https://t.co/fGr7oEvsPx\",\n",
       " '61yo man is first fatality in mystery virus outbreak in #China leads; disease spreads to Thailand (aiyah)😷😷https://t.co/557…',\n",
       " \"#OPINION The latest mining fatality has left us numb! If eight miners died in a single disaster, we'd see a Royal C… https://t.co/dyxcbRKZZC\",\n",
       " 'Most people are poor because of a fear of the evilness of money. Stupid. #richdad',\n",
       " '#Lost! #CarolStream #IL (Boa Trail &amp; Spring Valley) Huntley - Male Golden Retriever - Labrador Retriever. Yellow. C… https://t.co/Nwt2EeD5MO',\n",
       " 'Never let the fear of what other people think stop you from being yourself. - Joubert Botha #wisdom #motivation https:…',\n",
       " 'Continuous disregard of the pathetic and faulty systems at large, #GSTcommonportal needs 2 be augmented &amp; updated. Depar…',\n",
       " '#Syria: \"The fleeing civilians are afraid of drones—that\\'s what\\'s killing people and blowing up ambulances the most . . .…',\n",
       " 'Investors fear $1 billion valuation could haunt Casper #IPO - New York Post https://t.co/lkyNlxV5N5 https://t.co/wW4K7kb9yy',\n",
       " \"“When you tear out a man's tongue, you are not proving him a #liar, you're only telling the world that you #fear wh… https://t.co/G2TyXGe5VS\",\n",
       " \"“When you tear out a man's tongue, you are not proving him a #liar, you're only telling the world that you #fear wh… https://t.co/PYfSPKDRCZ\",\n",
       " \"The president can't not fire Mwangi Kiunjuri and we can prove this. #system ya farts. Ama vipi\",\n",
       " \"Now the fire in me has started you'll be in my zone A'TIN: #ALABTopSpotONMYX #PUSHAwardsATIN… https://t.co/2e6dPQ9fNN\",\n",
       " 'Good morning #Lebanon ! We are back! Screens are split again, tires on fire, Lebanese flags are up, roads are blocked all…',\n",
       " 'Welcome to the “great big new tax” called climate change, chumps! #auspol2020 #climatechange #AustralianBushfires https://t.co/R0o8eABw3A',\n",
       " '#AhoraSuena After The Fire - Der Kommissar en LA RETRO RADIO. Conéctate con LA Radio 80s de la Web en https://t.co/ULMSnHuxgQ',\n",
       " '14th January 2020- Azad’s hearing. Judge Kamini Lau. ON FIRE. We need more judges like this. #azadiforazad https://t.co/r…',\n",
       " 'CARATS SPREAD THIS SHIT LIKE FIRE CMON NOW #ODETOYOUINDAL #OdeToYouinHou https://t.co/taUpio9TzQ',\n",
       " '#GodOfMercyEke let them all assemble themselves,let them tremble under the feet of and all the arrogant b…',\n",
       " 'To watch the full video of hot slap #MercyEke gave brodashaggi 👇https://t.co/mwaNjGlbPS 🤣🤣🤣🤣🤣 some trashcan needs this s…',\n",
       " '#Yummy out now on YouTube! Thank you for a fire new song. What do you guys think? Link below for full vid…',\n",
       " '\"burnin\\' up fire~ after 4 years! congrats to us\" –josh Ken Suson from SB19 and Josh Bautista from Z-Boys #PUSHAwardsATI…',\n",
       " 'Mr. President, did you forget to fire the CS for transport? #UhuruAddress',\n",
       " \"#Successful people have more of an #Attitude of 'ready, fire, aim' https://t.co/4EetZLIK55 #GaryLoper\",\n",
       " 'Fire Engine Truck Birthday Cake ... https://t.co/QcUdjv8uhZ #cake #cakedecorating https://t.co/y0dwRMk1Nt',\n",
       " 'I’m just getting back from work #SupportMapleLeafFoods I saw a Canadian fire truck today. So amazing compared to our crap',\n",
       " 'A Scania L-series low-entry fire truck for city rescues https://t.co/r5LFCpVDwR #ScaniaTrucks',\n",
       " 'A Scania L-series low-entry fire truck for city rescues https://t.co/r5LFCpVDwR #ScaniaTrucks',\n",
       " '#SaturdayBlogShare First Responders Educators In Autism https://t.co/XjtVC9j7Tm',\n",
       " '#WatchThis: These rescued baby wallabies were named after the first responders and celebrities contributing to fire… https://t.co/byqxexvl0E',\n",
       " 'How do the first responders keep their composure so well and also not laugh? Dude putting his coat on🤣#LiveRescue',\n",
       " 'FEMAGrants PortlandFD Our AFG program awards #grants to #Firefighters, #EmergencyResponse personnel and… https://t.co/gFIZOCv6Du',\n",
       " \"Always great to see FEMAGrants at work in #NewEngland! Here's some of our team with the PortlandFD celebrating thei… https://t.co/I3v9JepDTD\",\n",
       " 'I joined a group of South Asian civil and human rights lawyers in a #solidarity statement Indian lawyers, protesters, and firs…',\n",
       " 'In #Australia everyone knows someone who has been affected by the #bushfires &amp; we all want to do our part to help.… https://t.co/zztybwyGj1',\n",
       " 'To the first responders..🚑💨 #SASEM2020 offers you a full-day, hands-on EMS Course to learn from 🤩 Sign up while you still ca…',\n",
       " '#auspol felt sick when i read this: \"first responders tackling #bushfires advised to kill baby #kangaroos and #koalas w…',\n",
       " 'Rising steel prices in Bangladesh fan the flames of a hot demo market. https://t.co/zmBsga7xRx #shiprecycling',\n",
       " 'It is rumored that #Flames music video will be out soon..we know wat soon means wen its bout zayn 🤣🤣🤦\\u200d♂️ Meanwhile vote…',\n",
       " 'Thank you for all that you have been doing for the Amazon. I would love for you to see our #TheEdgeOfDemocrac…',\n",
       " 'Flames mv is coming soon 😱😱😱 Zayn love u ❤️🎉 via ©underwondercontent #Trampoline #BestRemix #iHeartAwards https://t.c…',\n",
       " 'This was just #Chhapaak &amp; for the stunt #DeepikaPadukone did by standing with #JNU leftist gоons. DONT FORGET there is a long…',\n",
       " '\"#Moody #DarkArt\" by Shawn O\\'Brien #DigitalArt #Gallery: https://t.co/ikaeX0vA9k Image info, #prints: 1 https://t.co/J…',\n",
       " 'A remarkable performance from the New York # 11 curve over the last 6 months. The curve has flattened out almost comp…',\n",
       " 'A remarkable performance from the New York # 11 curve over the last 6 months. The curve has flattened out almost c… https://t.co/S55Q3kcVFO',\n",
       " 'British in #Ghana flattened a Holy Rock worshipped by the local tribes to build the Cape Coast Castle that they used for…',\n",
       " 'Rookie #Habs defenceman Cale Fleury just flattened #Flames Milan Lucic. Bell Centre crowd loved it. #HabsIO',\n",
       " 'Samoa joe just got flattened #raw',\n",
       " '#1 on Clemson has been flattened 10 times. Trying to tackle by shoulder charging is just stupid--highlight footbal…',\n",
       " 'Getting absolutely flattened but having your boys back in the end #blackoutclips #bo4clips #clipit… https://t.co/HEtk5CnzVc',\n",
       " '#1 on Clemson has been flattened 10 times. Trying to tackle by shoulder charging is just stupid--highlight foo… https://t.co/mh4OJsoN6z',\n",
       " 'When Cork decides to build the #CorkTidalBarrier flood warnings from tidal flooding will become a thing of the past \"Are…',\n",
       " \"The New York Times' Editorial Board wants to hear from you about who you endorse for President. Let's flood this one, #Ya…\",\n",
       " \"#RRE is undervalued by at least £15 currently. Even if the company was sat at £36 I'd still be holding as I believe the next…\",\n",
       " 'Please watch this and flood the comment section with #KaoRhys! Ipakita ang excitement sa #ToChiko at #HesIntoHer! Link:…',\n",
       " '😭😭😭😭😭 Just looking at this, our tears can flood the whole KL maybe😭😭😭😭😭 #새로운_엑스원_결성지지 #bring_back_NEWX1 https://t.co/G70Kn7ks…',\n",
       " 'has Issued a Small Stream Flood Advisory. https://t.co/t9pG7m34lY #arwx #mowx #mswx #tnwx https://t.co/tIMBMiOAei',\n",
       " '#ALGW nice buys flooding in here. onto the next level 3p next hit 4p before all important #RNS …',\n",
       " 'Road closed. #surfacetension #AmsterdamLightFestival #GlobalWarming #naturewins #nightphotography #Amsterdam… https://t.co/URfdvA3VWc',\n",
       " '🌧 Strong winds and heavy rain are forecast from today as #StormBrendan moves into the west of Britain. Check before you t…',\n",
       " 'If you live in the #Nantwich area, pop the 15th January in your diary 📓! #TeamEA are hosting a drop-in session with our pa…',\n",
       " \"#stormbrendan is upon us. Here are some of Aspray's top tips if the storm causing flooding to your property: https://t.c…\",\n",
       " 'VENICE RUNS DRY: Gondolas stranded in mud just two months after severe flooding #venice #gondolas #flooding #beached #…',\n",
       " '\"We’re in a state of anxiety, shock &amp; grief. This is #ClimateChange. This is what a +1.5 degree world looks like\" …',\n",
       " 'VENICE RUNS DRY: Gondolas stranded in mud just two months after severe flooding #venice #gondolas #flooding… https://t.co/TkS4Tk21xi',\n",
       " 'Thanks to the Turks/Ottomans there is a ceasefire in #Libya and #Idlib....saving Muslim lives while the Arab nations deal…',\n",
       " \"Unprecedented floods are ravaging #Iran's Sistan &amp; Baluchistan province, with significant human &amp; material costs. Even as sear…\",\n",
       " 'has published the first digital situation report in #Somali. Read how humanitarian partners ramped up assistance to p…',\n",
       " 'Venice canals almost dry, two months after severe floods - https://t.co/5XXdyMnecU #GoogleAlerts',\n",
       " 'Book NOW to hear &amp; discuss #Floods #RisingWaters #Essex #AllAtSea 15 MAR …',\n",
       " 'Venice canals almost dry, two months after severe floods - https://t.co/5XXdyMnecU #GoogleAlerts',\n",
       " 'Happy with the fires ? Guess what scientists predict next. Unprecedented cyclones and floods. #ClimateEmegency',\n",
       " 'Busy night for our #RapidMappingTeam While working on the #TaalEruption in the Philippines, we received another activati…',\n",
       " \"#stormbrendan is upon us. Here are some of Aspray's top tips if the storm causing flooding to your property:… https://t.co/kA4M6eV8oS\",\n",
       " '#Sentinel2 2020-01-13 Sistan and Baluchestan #Iran Heavy rains generate floods in Chabahar County bands 8/4/3 Data …',\n",
       " 'I can confirm #StormBrendan has arrived in Worcester. Awful conditions out so take it easy out there. On the roads? S…',\n",
       " 'Precautionary measures taken by #karnatakaforest department to avoid forest fire Mathigodu forest area thithimati… https://t.co/7MV8mnxnD8',\n",
       " 'Record fire years in #Amazon &amp; #Australia inflame concerns surrounding climate change effects on forest disturbance… https://t.co/46G93Guqq9',\n",
       " \"Now I will add #SaveAfrica in all my tweets. It's seems like no one care about the climate crisis in Africa. Global warming c…\",\n",
       " 'I read current affairs to my son. Today morning was telling him about #AustraliaBushfires. My son is an animal love… https://t.co/308akbFSxl',\n",
       " '#NHESS https://t.co/KTX4iMM9GN Evaluating forest fire probability under the influence of human activity based on remote sensing and GIS',\n",
       " '‘Save the forest, stop the fire!’ will be ready to send it to #workssanjose #Foresight2020 #art #penandink… https://t.co/fEEtHre6iw',\n",
       " '#SOS Logging must Cease Immediately. The 2030 Plan must be scrapped and an immediate end must be made to protect the little na…',\n",
       " '#NatureTerrorism ISIS Tells Followers to Set Forest Fires in U.S., Europe https://t.co/XMdfeYTImE',\n",
       " \"The fires are in #Australia now but come this summer we will be fighting our own battles against forest fires. We're…\",\n",
       " 'Moan your hail marys in the confessional while you masturbate #WeirdWaysToShowYourLove',\n",
       " 'ALL HAIL THE QUEEN 👑 #Agnation #BestFanArmy #iHeartAwards https://t.co/Aw3f4H9wDe',\n",
       " 'The #MEK are inserting their people into the #IranProtests2020 in an attempt to hijack the protests. Here is one woman trying t…',\n",
       " '#Thunderstorms are possible across #Tasmania Wednesday afternoon after a warm, humid and smoky start to the day. Hail or short…',\n",
       " 'So has problem with young school kids been made aware of#CAA ... However they will hail protestors who will bring babies…',\n",
       " 'Ladies &amp; Gentleman Pls Welcome The Full Metal Heart , The True LEGEND . One &amp; Only , #IStandWithVi…',\n",
       " 'All hail the king👑 #KingKohli https://t.co/6P13SkvOtI',\n",
       " 'Sudden hailstorm the newscaster says 41 bullets #haiku #senryu #amadoudiallo',\n",
       " '#SalmanKhan won my heart again with his handling of #ShehnaazGill &amp; making her understand what she’s doing to harm her own resp…',\n",
       " '└ BTS Weverse 」 ➜ 200114 {07:01KST} | V’s comments 📷 everyone please help Philippine armys.. please. 🙏🏻🇵🇭 #prayforthe…',\n",
       " '“my heart hurts nowadays. please don’t get hurt and hope nature doesn’t bring more harm please please ..” -🐯#PrayforThePhilippin…',\n",
       " 'Over 1 million adolescents die every year. WHO will issue new guidance to promote adolescents’ #mentalhealth &amp; prevent substance…',\n",
       " \"It's an occupational hazard. They must be ready for it.big ups to #ShowbizAgenda #Abor…\",\n",
       " \"It's an occupational hazard. They must be ready for it.big ups to #ShowbizAgenda #Aborbitadi\",\n",
       " '#DYK: 90% of urban expansion in developing countries takes place near hazard-prone areas. What can be done to safeguard gr…',\n",
       " 'Tickets are going well for this night, you better get in quick VIP &amp; Standard tickets available #COYS #THFC… https://t.co/WCvY1BATzv',\n",
       " 'Hazard on E2 Lebuhraya Utara Selatan #kltu. Traffic moving 11m slower than usual. https://t.co/0viourXizm https://t.co/Cc47pQrJVT',\n",
       " 'Car parked in disabled space on Cathedral Street in #DublinTown with no permit displayed All important hazard light s…',\n",
       " 'Occupational hazard as all us #Court and #Crime reporters know, my friend',\n",
       " 'Spoke to a guy from country Victoria today. He informed me they\\'re calling their #bushfires \\'the Greenies\\' fires\". When I poi…',\n",
       " '♫ Hazard - Puzzlebox ♫ Listen: https://t.co/SmhMdFhMZb #nowplaying',\n",
       " 'ERUPTION UPDATE FOR TAAL VOLCANO ALERT LEVEL 4 (HAZARDOUS ERUPTION IMMINENT) 14 JANUARY 2020 01:00 PM #TaalVolcano #Ta…',\n",
       " 'The #airquality in Melbourne is hazardous today due to the bushfires. The advises Melburnians should try…',\n",
       " 'In the Philippines, Taal Volcano has errupted and it’s now under alert #4, a warning that a hazardous explosive eruption is…',\n",
       " 'Due to the increasing levels of nitrogen dioxide caused by the #taalvolcano eruption, air quality with the reddish-brown p…',\n",
       " \"First Sydney then Canberra, now Melbourne - Melbourne's hazardous #AirPollution quality worst in the world overnight due to #A…\",\n",
       " 'how good are #FrankingCredits !!!??? you’re choking on #MelbourneSmoke.. with #AirQuality “hazardous” all day but at l…',\n",
       " '#earlybiz The wind and rain this week is making it hazardous to have an umbrella up! Keep warm and dry with a chunky merino w…',\n",
       " 'How dare #AustralianOpen put these athletes through this health torture? The #AirQuality in #Melbourne has been hazardous…',\n",
       " \"The 'hazardous' air level due to the #bushfires in #Australia makes impossible to continue a match.… https://t.co/Po6AS1SwDp\",\n",
       " 'Got up to 15 today and it felt like a heat wave #alaska',\n",
       " 'Look #yeg people! The Monday heat wave is on the horizon! #yegwx https://t.co/vh0PcDyCbI',\n",
       " 'Look at this! Fricken heat wave up in here #Timeless https://t.co/dxHGwvi3fr',\n",
       " '#LatestNews #Trending A January heat wave engulfed the eastern half of the country, toppling records - The Washingt… https://t.co/7sgZ2p0Y5T',\n",
       " '“Nature is not a place to visit. It is home.” Gary Snyder #TuesdayThoughts #Hellfire #Sundowns #Nature #Wildlife #Bio…',\n",
       " '“Nature is not a place to visit. It is home.” Gary Snyder #TuesdayThoughts #Hellfire #Sundowns #Nature #Wildlife… https://t.co/2MbwLZopTN',\n",
       " \"Over 21k have signed our online &amp; paper #petition to save the Hellfire &amp; Massy's Wood from a €22m overscaled inappropr…\",\n",
       " \"Over 21k have signed our online &amp; paper #petition to save the Hellfire &amp; Massy's Wood from a €22m overscaled inappr… https://t.co/bxNMjvXVRp\",\n",
       " 'Hairy Curtain Crust looking like a selection of streaky rashers on the Hellfire trail! #fungus #nature #thephotoHour #…',\n",
       " 'Hairy Curtain Crust looking like a selection of streaky rashers on the Hellfire trail! #fungus #nature… https://t.co/v4uI7cfev4',\n",
       " '#JNUProtests #CAA_NRC_Protests please burn your property. It is shame that u are advocating violence on our property…',\n",
       " 'Tesla hacking competition offers $1 million and free car if someone can hijack Model 3 #hacking #cybersecurity… https://t.co/eSDsoouW5Y',\n",
       " 'Telnet backdoor opens 1M+ #IoT radios to hijack. Attackers can drop #malware, add the device to a botnet or send their own…',\n",
       " \"#news #metropolitan - Don't allow sycophants hijack Operation Amotekun, Bishop tell S'West govs https://t.co/pMUAyISfR6\",\n",
       " \"#news #metropolitan - Don't allow sycophants hijack Operation Amotekun, Bishop tell S'West govs… https://t.co/Qyqa4ittQU\",\n",
       " \"Once he's stolen your cookes, he can revel in a rambunctious shopping rampage--on your dime. #cybersecurity #disasterrec…\",\n",
       " 'All of you A fear free wonder Soul Hacker Hijacker Tugging at strings of my self Mutating my core #Soul #Hacker… https://t.co/47CCScIM90',\n",
       " 'Guide to remove TV Hero #Extension from your system @ https://t.co/WuJAO17gqw #TVhero #TVHeroextension #virus #browser…',\n",
       " 'Guide to remove TV Hero #Extension from your system @ https://t.co/WuJAO17gqw #TVhero #TVHeroextension #virus… https://t.co/QVw61VIURG',\n",
       " \"What is the #Role of 's #PMOIndia Vide RegistrationNo -PMOPG / D /0131300 /2019 refer to… https://t.co/yI0opzAoJf\",\n",
       " '#Browser Hijacking: How to #Remove a Browser Hijacker 👉 https://t.co/OhFCHqfvgM . . . #hijacker #hijackers… https://t.co/w19xXW2c2m',\n",
       " 'By page three, I could buy all the tools needed to engage in the crime. #CyberSecurity #ITConsulting #disasterrecovery h…',\n",
       " \"#Vulnerability in #Zoom video conference app lets #Mac's camera hijacking More: https://t.co/qNLR4nbrKP #Security #Vulnerab…\",\n",
       " '#DavinderSingh ‘s arrest having been caught redhanded with terrorists tells you how deep the wrought runs in Kashmir. How com…',\n",
       " 'New from #OfficialNIHR https://t.co/O0prLewE51 Hijacking antibody-induced CTLA-4 lysosomal degradation for safer an… https://t.co/hvmYWBQ9vc',\n",
       " 'DLL Hijacking Attack https://t.co/JvGktukptQ #computerscience #coding #technology #opengenus #hourofcode',\n",
       " 'Hijacking #Grace &amp; defining it according to the wisdom of man leaves the power of God powerless in the heart. The testimon…',\n",
       " 'Safety first⛔️ #WhatsApp https://t.co/Ooxtzmmydh',\n",
       " 'Listen to Danrell x Småland - Hostage by HIGH ON MUSIC #SoundCloud https://t.co/eQQkeGeH3i',\n",
       " '#MeghanAndHarry #PiersMorgan The infiltration by an unsavoury element has been a success! It was a clean in out job with dev…',\n",
       " 'We Iranians are held hostage to the Islamic Republic #irAn, the terrorist father of the #world. But the #terrorist… https://t.co/ZdTMqxCeu5',\n",
       " \"It was not a witch Hunt little boy, it's called an #IMPEACHMENT! You are the 3rd person in American history…\",\n",
       " 'Campaign staffer #1 helping keep track of thank you notes. She’ll help with yours too once you donate. https://t.co/n70Xh…',\n",
       " \"Comment - “Iraqis have been decrying #Iranian and US interference in their affairs for many years, it's time they were han…\",\n",
       " \"Every year #actors get snubbed,for every one Black actor snubbed their are 10 White actors snubbed,they don't compl… https://t.co/vmh8q76hvJ\",\n",
       " '“We are not citizens. We never were. We are captives.” Popular #Iranian actor admits the truth. #Iran is a nation of 80 m…',\n",
       " 'Its my humble submission that both of RSA &amp; of ZW are hostages of the #HardLeft in their… https://t.co/9ZudJ0AG2I',\n",
       " \"Iran warns UK against 'any new mistake' after ambassador arrest I hope #Iran choose Diplomacy to move forward to pea…\",\n",
       " '. As expected, undoubtedly, we care about all #Hostages all over the world. �But sick women… https://t.co/lHKj7auvbv',\n",
       " 'Great, now can we exchange and return the respective economic hostages? #CDNPoli #China https://t.co/CtBfg78PLz',\n",
       " 'BOMBSHELL! . told ignoramus IRAN SAVED #TRUMP FROM WAR.This guy convinced BarrieObama to g… https://t.co/m3vEnTpVpP',\n",
       " '#IranProtests2020 Taraneh Alidoosti, Iran\\'s most famous actress, writes on her Instagram page w/ 6 million followers: \"…',\n",
       " 'Modern day #Piracy at #sea includes #pirates stealing #hostages from other pirates. Still a thriving #business, you… https://t.co/y0hdoXJw1o',\n",
       " 'Unless like in the case of Iran, the hostages were released when #ObamaSoetoro dropped cash delivere… https://t.co/ko9ShMhghe',\n",
       " 'Young babies taken away from their nursing moms 2 be hostages for rest of their lifes #BABYKILLERS #SOULEATERS https://…',\n",
       " 'The past, heavy investment of international enterprises enriched China. #CCP lies to Chineses and steals this achie… https://t.co/Q9QmlNNsAV',\n",
       " 'Public art, protest art and resistance in Puerto Rico after the hurricane and #veranodel2019 https://t.co/yjdCr0WGH1',\n",
       " \"#onthisday in 1947 No. 6 Squadron undertakes the RAF's last sortie by a Hawker Hurricane. Find out more at https://t.c…\",\n",
       " '#USA: Given the vulnerabilities of #PuertoRico’s electric grid after Hurricane Maria, the EDF says there is an urge… https://t.co/eCV6xOjULQ',\n",
       " \"I want #VAYLAtoken trending all over the world.🛸 $VYA needs to get spread faster then a hurricane! 🌪️ Let's do it? I wann…\",\n",
       " \"Love #Outlander? Don't miss this five-star #TimeTravel adventure through the eye of a hurricane #amwriting #IAN1 #roman…\",\n",
       " 'Hurricane Recovery for Forest and Conservation Nurseries | via https://t.co/L008wXTTjL #agchat',\n",
       " '#OTD in 1941, Usworth airfield. Pilot Officer Mirosław Orzechowski, one of the Polish pilots serving with 607 Squadron, st…',\n",
       " 'At the end, X1 and One It the most injured and hurt #CJENTERTAINMENT_JUSTICEFORX1 SO GET UP!! We have many activities for g…',\n",
       " 'School bus attacked with crude bombs in Uttar Pradesh&amp;#039;s Prayagraj, 2 students injured https://t.co/3NZ3bJkbMl',\n",
       " 'Australians are opening their homes to wildlife injured and orphaned in the bushfires. #abc730 #AustralianBushfires…',\n",
       " 'Volunteers around Australia are caring for wildlife injured and orphaned in the bushfires. #abc730 #AustralianBushf…',\n",
       " 'On January 9,1992 , 10 Persons were killed and 5 others injured by Khalistani Terrorists in KupKalan in Sangrur, Punjab. #…',\n",
       " 'LOOK AT THIS! God knows how many more injuries #AsimRiaz has sustained bc of this monster in that house that …',\n",
       " '# Wear your helmet, concludes new study showing electronic scooter injuries have nearly tripled in t… https://t.co/hrfys6ui3L',\n",
       " 'Robbery - Rabba Fine Foods - 20 Bristol Road West, #Mississauga. Two masked culprits, no weapons seen. No injuries,… https://t.co/pbMPRrXuZU',\n",
       " \"Did anti-CAA protesters 'fake injuries' during a protest rally? No, a false claim is viral on social media. WATCH #AltNe…\",\n",
       " 'Armed Robbery - P200016171 - 7/11 Convenience Store located at 6980 Lisgar Dr, #Mississauga. Two culprits armed wit… https://t.co/yvj0MzNY1W',\n",
       " ...]"
      ]
     },
     "execution_count": 110,
     "metadata": {},
     "output_type": "execute_result"
    }
   ],
   "source": [
    "[t for t in data.text if '#' in t] "
   ]
  },
  {
   "cell_type": "code",
   "execution_count": 111,
   "id": "64b52c60-7f42-4581-a6cd-277183196754",
   "metadata": {},
   "outputs": [
    {
     "data": {
      "text/plain": [
       "'Images showing the havoc caused by the  military as they torched houses in .The shameless military is reported…'"
      ]
     },
     "execution_count": 111,
     "metadata": {},
     "output_type": "execute_result"
    }
   ],
   "source": [
    "# -> just remove from text"
   ]
  },
  {
   "cell_type": "code",
   "execution_count": 10,
   "id": "bccfbd90-a4bf-4e7c-aa35-25a0799f555a",
   "metadata": {},
   "outputs": [],
   "source": [
    "def preprocess_data(data):\n",
    "    \"\"\"\n",
    "    Preprocesses a DataFrame containing text data by applying various cleaning and text processing steps.\n",
    "    \n",
    "    Args:\n",
    "    data (DataFrame): The input DataFrame containing text data.\n",
    "    \n",
    "    Returns:\n",
    "    DataFrame: The preprocessed DataFrame with cleaned text data.\n",
    "    \"\"\"\n",
    "\n",
    "    print(\"1. Capturing Hashtags\")\n",
    "    # 1. Capturing Hashtags\n",
    "    pattern = r'#\\w+'\n",
    "    data['hashtags'] = data['text'].str.findall(pattern)\n",
    "    data.hashtags=['' if [] == d else ' '.join([remove_special_characters(w) for w in d]) for d in data.hashtags]\n",
    "    # 2. Handling Apostrophes\n",
    "    print(\"2. Handling Apostrophes\")\n",
    "    sentences = data['text']\n",
    "    number_sent_apostophe=len([x for x in sentences if \"'\" in x])\n",
    "    print(\"Percentage of sentences with apostophe is (before handling): \",number_sent_apostophe/len(sentences)*100,\"%\")\n",
    "    sentences = [decontracted(x) for x in sentences]\n",
    "    data['text'] = sentences\n",
    "    number_sent_apostophe=len([x for x in sentences if \"'\" in x])\n",
    "    print(\"Percentage of sentences with apostophe is (after handling): \",number_sent_apostophe/len(sentences)*100,\"%\")\n",
    "\n",
    "    # 3. Lowercasing\n",
    "    print(\"3. Lowercasing the sentences\")\n",
    "    data['text'] = [entry.lower() for entry in sentences]\n",
    "\n",
    "    # 4. Removing Emojis, URLs, Hashtags, and Special Characters\n",
    "    print(\"4. Removing Emojis, URLs, Hashtags, and Special Characters\")\n",
    "    data['text'] = data['text'].apply(preprocess_text)\n",
    "    \n",
    "    \n",
    "    # 5. Handling Numerics\n",
    "    print(\"5. Handling Numerics\")\n",
    "    p = inflect.engine()\n",
    "    sentences = list(data.text)\n",
    "    data.text = sentences\n",
    "    final_ans = []\n",
    "    for i, sent in tqdm(enumerate(sentences), total=len(sentences)):\n",
    "        list_numbers = re.findall(r'[0-9]+', sent)\n",
    "        list_numbers = [int(l) for l in list_numbers]\n",
    "        list_words = [p.number_to_words(l) for l in list_numbers]\n",
    "        dict_NW = dict(zip(list_numbers, list_words))\n",
    "        myKeys = list(dict_NW.keys())\n",
    "        myKeys.sort(reverse=True)\n",
    "        sorted_dict = {i: dict_NW[i] for i in myKeys}\n",
    "        ans = copy.copy(sent)\n",
    "        for key in sorted_dict.keys():\n",
    "            ans = re.sub(str(key), ' ' + sorted_dict[key] + ' ', ans)\n",
    "        final_ans.append(ans)\n",
    "    sentences = final_ans.copy()\n",
    "    data.text = sentences\n",
    "    data['text'] = data['text'].apply(removeDash)\n",
    "\n",
    "    # 6. Removing Duplicate Tweets\n",
    "    print(\"6. Removing Duplicate Tweets\")\n",
    "    data = data.drop_duplicates(subset=['text'])\n",
    "    sentences=data.text\n",
    "    # 7. Lemmatization\n",
    "    print(\"7. Performing Lemmatization\")\n",
    "    ans = []\n",
    "    for x in tqdm(sentences, total=len(sentences)):\n",
    "        ans.append(lemmatize_text(x))\n",
    "    sentences = ans.copy()\n",
    "    data.text = sentences\n",
    "\n",
    "    # 8. Stopwords Removal\n",
    "    print(\"8. Removing Stopwords\")\n",
    "    stop_words = stopwords.words('english')\n",
    "    sentences = [' '.join([word for word in x.split() if word not in stop_words]) for x in sentences]\n",
    "    data.text = sentences\n",
    "    \n",
    "    print(\"Done\")\n",
    "    return data"
   ]
  },
  {
   "cell_type": "code",
   "execution_count": 11,
   "id": "d1bf5930-ad8a-43c4-9595-6ca077dc7064",
   "metadata": {
    "scrolled": true,
    "tags": []
   },
   "outputs": [
    {
     "name": "stdout",
     "output_type": "stream",
     "text": [
      "1. Capturing Hashtags\n",
      "2. Handling Apostrophes\n",
      "Percentage of sentences with apostophe is (before handling):  16.710642040457344 %\n",
      "Percentage of sentences with apostophe is (after handling):  8.988566402814424 %\n",
      "3. Lowercasing the sentences\n",
      "4. Removing Emojis, URLs, Hashtags, and Special Characters\n",
      "5. Handling Numerics\n"
     ]
    },
    {
     "name": "stderr",
     "output_type": "stream",
     "text": [
      "100%|██████████████████████████████████| 11370/11370 [00:00<00:00, 85656.00it/s]\n"
     ]
    },
    {
     "name": "stdout",
     "output_type": "stream",
     "text": [
      "6. Removing Duplicate Tweets\n",
      "7. Performing Lemmatization\n"
     ]
    },
    {
     "name": "stderr",
     "output_type": "stream",
     "text": [
      "100%|████████████████████████████████████| 10938/10938 [00:17<00:00, 624.05it/s]\n",
      "/var/folders/0h/j84rsdwd49jbw1_d04_c5b3r0000gn/T/ipykernel_26056/1658894723.py:68: SettingWithCopyWarning: \n",
      "A value is trying to be set on a copy of a slice from a DataFrame.\n",
      "Try using .loc[row_indexer,col_indexer] = value instead\n",
      "\n",
      "See the caveats in the documentation: https://pandas.pydata.org/pandas-docs/stable/user_guide/indexing.html#returning-a-view-versus-a-copy\n",
      "  data.text = sentences\n"
     ]
    },
    {
     "name": "stdout",
     "output_type": "stream",
     "text": [
      "8. Removing Stopwords\n",
      "Done\n"
     ]
    },
    {
     "name": "stderr",
     "output_type": "stream",
     "text": [
      "/var/folders/0h/j84rsdwd49jbw1_d04_c5b3r0000gn/T/ipykernel_26056/1658894723.py:74: SettingWithCopyWarning: \n",
      "A value is trying to be set on a copy of a slice from a DataFrame.\n",
      "Try using .loc[row_indexer,col_indexer] = value instead\n",
      "\n",
      "See the caveats in the documentation: https://pandas.pydata.org/pandas-docs/stable/user_guide/indexing.html#returning-a-view-versus-a-copy\n",
      "  data.text = sentences\n"
     ]
    }
   ],
   "source": [
    "data=preprocess_data(data)"
   ]
  },
  {
   "cell_type": "markdown",
   "id": "b4775b7c-5755-4771-9d83-b01ccfc3010d",
   "metadata": {},
   "source": [
    "# 2. Division B/w Test and train"
   ]
  },
  {
   "cell_type": "code",
   "execution_count": 12,
   "id": "b6da680f-cff2-45fa-a882-31d180e60cb1",
   "metadata": {},
   "outputs": [],
   "source": [
    "X_train, X_test, y_train, y_test = train_test_split(data[['text','hashtags']], data.target, test_size=0.2, random_state=42)"
   ]
  },
  {
   "cell_type": "code",
   "execution_count": null,
   "id": "6831d441-54b3-4916-8f50-c0b4c4de1ea5",
   "metadata": {},
   "outputs": [],
   "source": []
  },
  {
   "cell_type": "code",
   "execution_count": null,
   "id": "2790232b-f8f5-4094-b387-cb328f310013",
   "metadata": {},
   "outputs": [],
   "source": []
  },
  {
   "cell_type": "code",
   "execution_count": null,
   "id": "816cb814-5cdd-45b3-afec-71deb7ff8500",
   "metadata": {},
   "outputs": [],
   "source": []
  },
  {
   "cell_type": "markdown",
   "id": "ae5a9a54-f5d8-457d-98bc-c82a2e4c82fe",
   "metadata": {
    "tags": []
   },
   "source": [
    "# AMALGAMATION OF STATISTICAL AND CONTEXTUAL ANALYSIS"
   ]
  },
  {
   "cell_type": "code",
   "execution_count": 112,
   "id": "7380a58b-7f03-427c-83fa-1263d00bb7cc",
   "metadata": {},
   "outputs": [],
   "source": [
    "import numpy as np\n",
    "import pandas as pd\n",
    "import re\n",
    "import emoji\n",
    "import inflect\n",
    "from tqdm import tqdm\n",
    "import copy\n",
    "from nltk.stem import WordNetLemmatizer\n",
    "import nltk\n",
    "from nltk.corpus import wordnet\n",
    "from nltk.corpus import stopwords\n",
    "from sklearn.model_selection import train_test_split\n",
    "from sklearn.feature_extraction.text import CountVectorizer\n",
    "from sklearn.feature_extraction.text import TfidfVectorizer\n",
    "from sklearn.ensemble import RandomForestClassifier\n",
    "from sklearn.metrics import accuracy_score\n",
    "import xgboost as xgb\n",
    "from sklearn.metrics import precision_score, recall_score, f1_score\n",
    "from imblearn.over_sampling import SMOTE\n",
    "import pickle\n",
    "from sentence_transformers import SentenceTransformer,util\n",
    "from sentence_transformers import SentencesDataset, LoggingHandler, losses\n",
    "from sklearn.metrics import classification_report\n"
   ]
  },
  {
   "cell_type": "code",
   "execution_count": 121,
   "id": "0e98589c-598f-43b8-bf8b-2e4a9a0e867a",
   "metadata": {},
   "outputs": [],
   "source": [
    "# Converting the words having apostophe into their root form\n",
    "def decontracted(phrase):\n",
    "    # specific\n",
    "    phrase = re.sub(r\"won\\'t\", \"will not\", phrase)\n",
    "    phrase = re.sub(r\"can\\'t\", \"can not\", phrase)\n",
    "    phrase = re.sub(r\"there\\'s\", \"there is\", phrase)\n",
    "    phrase = re.sub(r\"it\\'s\", \"it is\", phrase)\n",
    "    phrase = re.sub(r\"he\\'s\", \"he is\", phrase)\n",
    "    phrase = re.sub(r\"she\\'s\", \"she is\", phrase)\n",
    "    phrase = re.sub(r\"how\\'s\", \"how is\", phrase)\n",
    "    phrase = re.sub(r\"let\\'s\", \"let is\", phrase)\n",
    "    phrase = re.sub(r\"so\\'s\", \"so is\", phrase)\n",
    "    phrase = re.sub(r\"what\\'s\", \"what is\", phrase)\n",
    "    phrase = re.sub(r\"when\\'s\", \"when is\", phrase)\n",
    "    phrase = re.sub(r\"where\\'s\", \"where is\", phrase)\n",
    "    phrase = re.sub(r\"why\\'s\", \"why is\", phrase)\n",
    "  \n",
    "    # general\n",
    "    phrase = re.sub(r\"n\\'t\", \" not\", phrase)\n",
    "    phrase = re.sub(r\"\\'re\", \" are\", phrase)\n",
    "    phrase = re.sub(r\"\\'d\", \" would\", phrase)\n",
    "    phrase = re.sub(r\"\\'ll\", \" will\", phrase)\n",
    "    phrase = re.sub(r\"\\'t\", \" not\", phrase)\n",
    "    phrase = re.sub(r\"\\'ve\", \" have\", phrase)\n",
    "    phrase = re.sub(r\"\\'m\", \" am\", phrase)\n",
    "    return phrase"
   ]
  },
  {
   "cell_type": "code",
   "execution_count": 122,
   "id": "36c5512b-48fd-4ede-a023-d74eaef56579",
   "metadata": {},
   "outputs": [],
   "source": [
    "# De-emojize the text\n",
    "def remove_emojis(text):\n",
    "    return emoji.demojize(text)\n",
    "\n",
    "# url not req while finding if text is disaster or not\n",
    "def remove_urls(text):\n",
    "    pattern = re.compile(r'http\\S+|www\\S+')\n",
    "    return pattern.sub('', text)\n",
    "\n",
    "def remove_hashtags(text):\n",
    "    pattern = re.compile(r'#\\w+')\n",
    "    return pattern.sub('', text)\n",
    "\n",
    "# spl chars not req while finding if text is disaster or not\n",
    "def remove_special_characters(text):\n",
    "    pattern = re.compile(r'[^a-zA-Z0-9\\s]')\n",
    "    return pattern.sub('', text)"
   ]
  },
  {
   "cell_type": "code",
   "execution_count": 123,
   "id": "d8ea21b4-34b5-4f67-a3ab-32bed2fcda66",
   "metadata": {},
   "outputs": [],
   "source": [
    "def preprocess_text(text):\n",
    "    text = remove_urls(text)\n",
    "    # text = remove_hashtags(text)\n",
    "    text = remove_special_characters(text)\n",
    "    text = remove_emojis(text)\n",
    "    return text"
   ]
  },
  {
   "cell_type": "code",
   "execution_count": 124,
   "id": "9019777b-1cd1-433a-84c1-d91bd3829a46",
   "metadata": {},
   "outputs": [],
   "source": [
    "def removeDash(input_string):\n",
    "        return re.sub(r'-', ' ', input_string)"
   ]
  },
  {
   "cell_type": "code",
   "execution_count": 125,
   "id": "b53fc55d-6d54-4a51-ba32-a72d08d32640",
   "metadata": {},
   "outputs": [],
   "source": [
    "def lemmatize_text(preprocessed_text):\n",
    "    def get_wordnet_pos(word):\n",
    "        \"\"\"Map POS tag to first character lemmatize() accepts\"\"\"\n",
    "        tag = nltk.pos_tag([word])[0][1][0].upper()\n",
    "        # print(tag)\n",
    "        tag_dict = {\"J\": wordnet.ADJ,\n",
    "                    \"N\": wordnet.NOUN,\n",
    "                    \"V\": wordnet.VERB,\n",
    "                    \"R\": wordnet.ADV}\n",
    "        return tag_dict.get(tag, wordnet.NOUN)\n",
    "    # 1. Init Lemmatizer\n",
    "    lemmatizer = WordNetLemmatizer()\n",
    "   # 2. Lemmatize a Sentence with the appropriate POS tag\n",
    "    lemmatized_text=[lemmatizer.lemmatize(w, get_wordnet_pos(w)) for w in nltk.word_tokenize(preprocessed_text)]\n",
    "    # The final processed set of words for each iteration will be stored in 'text_final'\n",
    "    text_final=(\" \".join( lemmatized_text ))\n",
    "    return text_final"
   ]
  },
  {
   "cell_type": "code",
   "execution_count": 126,
   "id": "bc922227-7e7f-4433-9486-2c2d14c79d55",
   "metadata": {},
   "outputs": [],
   "source": [
    "smote = SMOTE(sampling_strategy='auto', random_state=42)"
   ]
  },
  {
   "cell_type": "markdown",
   "id": "4fca2c5c-4fae-4d81-86b6-18a377cedbb9",
   "metadata": {},
   "source": [
    "# 1. Data Cleaning for both"
   ]
  },
  {
   "cell_type": "code",
   "execution_count": 127,
   "id": "9719139f-545e-46cf-8298-7d3f7a33fae4",
   "metadata": {},
   "outputs": [],
   "source": [
    "data = pd.read_csv('/Users/savinaysingh/Downloads/tweets 2.csv')\n"
   ]
  },
  {
   "cell_type": "code",
   "execution_count": 128,
   "id": "8ca012d7-c2dd-45e7-b049-5067e3fcbdde",
   "metadata": {},
   "outputs": [],
   "source": [
    "data = data[['text','target']]"
   ]
  },
  {
   "cell_type": "code",
   "execution_count": 129,
   "id": "61c6093f-c1ad-4b83-89ce-ee2bdb4dc11f",
   "metadata": {},
   "outputs": [],
   "source": [
    "def preprocess_data(data):\n",
    "    \"\"\"\n",
    "    Preprocesses a DataFrame containing text data by applying various cleaning and text processing steps.\n",
    "    \n",
    "    Args:\n",
    "    data (DataFrame): The input DataFrame containing text data.\n",
    "    \n",
    "    Returns:\n",
    "    DataFrame: The preprocessed DataFrame with cleaned text data.\n",
    "    \"\"\"\n",
    "\n",
    "    print(\"1. Capturing Hashtags\")\n",
    "    # 1. Capturing Hashtags\n",
    "    pattern = r'#\\w+'\n",
    "    data['hashtags'] = data['text'].str.findall(pattern)\n",
    "    data.hashtags=['' if [] == d else ' '.join([remove_special_characters(w) for w in d]) for d in data.hashtags]\n",
    "    # 2. Handling Apostrophes\n",
    "    print(\"2. Handling Apostrophes\")\n",
    "    sentences = data['text']\n",
    "    number_sent_apostophe=len([x for x in sentences if \"'\" in x])\n",
    "    print(\"Percentage of sentences with apostophe is (before handling): \",number_sent_apostophe/len(sentences)*100,\"%\")\n",
    "    sentences = [decontracted(x) for x in sentences]\n",
    "    data['text'] = sentences\n",
    "    number_sent_apostophe=len([x for x in sentences if \"'\" in x])\n",
    "    print(\"Percentage of sentences with apostophe is (after handling): \",number_sent_apostophe/len(sentences)*100,\"%\")\n",
    "\n",
    "    # 3. Lowercasing\n",
    "    print(\"3. Lowercasing the sentences\")\n",
    "    data['text'] = [entry.lower() for entry in sentences]\n",
    "\n",
    "    # 4. Removing Emojis, URLs, Hashtags, and Special Characters\n",
    "    print(\"4. Removing Emojis, URLs, Hashtags, and Special Characters\")\n",
    "    data['text'] = data['text'].apply(preprocess_text)\n",
    "    \n",
    "    \n",
    "    # 5. Handling Numerics\n",
    "    print(\"5. Handling Numerics\")\n",
    "    p = inflect.engine()\n",
    "    sentences = list(data.text)\n",
    "    data.text = sentences\n",
    "    final_ans = []\n",
    "    for i, sent in tqdm(enumerate(sentences), total=len(sentences)):\n",
    "        list_numbers = re.findall(r'[0-9]+', sent)\n",
    "        list_numbers = [int(l) for l in list_numbers]\n",
    "        list_words = [p.number_to_words(l) for l in list_numbers]\n",
    "        dict_NW = dict(zip(list_numbers, list_words))\n",
    "        myKeys = list(dict_NW.keys())\n",
    "        myKeys.sort(reverse=True)\n",
    "        sorted_dict = {i: dict_NW[i] for i in myKeys}\n",
    "        ans = copy.copy(sent)\n",
    "        for key in sorted_dict.keys():\n",
    "            ans = re.sub(str(key), ' ' + sorted_dict[key] + ' ', ans)\n",
    "        final_ans.append(ans)\n",
    "    sentences = final_ans.copy()\n",
    "    data.text = sentences\n",
    "    data['text'] = data['text'].apply(removeDash)\n",
    "\n",
    "    # 6. Removing Duplicate Tweets\n",
    "    print(\"6. Removing Duplicate Tweets\")\n",
    "    data = data.drop_duplicates(subset=['text'])\n",
    "    sentences=data.text\n",
    "    # 7. Lemmatization\n",
    "    print(\"7. Performing Lemmatization\")\n",
    "    ans = []\n",
    "    for x in tqdm(sentences, total=len(sentences)):\n",
    "        ans.append(lemmatize_text(x))\n",
    "    sentences = ans.copy()\n",
    "    data.text = sentences\n",
    "\n",
    "    # 8. Stopwords Removal\n",
    "    print(\"8. Removing Stopwords\")\n",
    "    stop_words = stopwords.words('english')\n",
    "    sentences = [' '.join([word for word in x.split() if word not in stop_words]) for x in sentences]\n",
    "    data.text = sentences\n",
    "    \n",
    "    print(\"Done\")\n",
    "    return data"
   ]
  },
  {
   "cell_type": "code",
   "execution_count": 130,
   "id": "4d0ce39c-3473-4a4a-b733-3e6b8ac057ab",
   "metadata": {
    "scrolled": true,
    "tags": []
   },
   "outputs": [
    {
     "name": "stdout",
     "output_type": "stream",
     "text": [
      "1. Capturing Hashtags\n",
      "2. Handling Apostrophes\n",
      "Percentage of sentences with apostophe is (before handling):  16.710642040457344 %\n",
      "Percentage of sentences with apostophe is (after handling):  8.988566402814424 %\n",
      "3. Lowercasing the sentences\n",
      "4. Removing Emojis, URLs, Hashtags, and Special Characters\n",
      "5. Handling Numerics\n"
     ]
    },
    {
     "name": "stderr",
     "output_type": "stream",
     "text": [
      "100%|██████████████████████████████████| 11370/11370 [00:00<00:00, 81561.47it/s]\n"
     ]
    },
    {
     "name": "stdout",
     "output_type": "stream",
     "text": [
      "6. Removing Duplicate Tweets\n",
      "7. Performing Lemmatization\n"
     ]
    },
    {
     "name": "stderr",
     "output_type": "stream",
     "text": [
      "100%|████████████████████████████████████| 10957/10957 [00:17<00:00, 633.50it/s]\n",
      "/var/folders/0h/j84rsdwd49jbw1_d04_c5b3r0000gn/T/ipykernel_26056/1658894723.py:68: SettingWithCopyWarning: \n",
      "A value is trying to be set on a copy of a slice from a DataFrame.\n",
      "Try using .loc[row_indexer,col_indexer] = value instead\n",
      "\n",
      "See the caveats in the documentation: https://pandas.pydata.org/pandas-docs/stable/user_guide/indexing.html#returning-a-view-versus-a-copy\n",
      "  data.text = sentences\n"
     ]
    },
    {
     "name": "stdout",
     "output_type": "stream",
     "text": [
      "8. Removing Stopwords\n",
      "Done\n"
     ]
    },
    {
     "name": "stderr",
     "output_type": "stream",
     "text": [
      "/var/folders/0h/j84rsdwd49jbw1_d04_c5b3r0000gn/T/ipykernel_26056/1658894723.py:74: SettingWithCopyWarning: \n",
      "A value is trying to be set on a copy of a slice from a DataFrame.\n",
      "Try using .loc[row_indexer,col_indexer] = value instead\n",
      "\n",
      "See the caveats in the documentation: https://pandas.pydata.org/pandas-docs/stable/user_guide/indexing.html#returning-a-view-versus-a-copy\n",
      "  data.text = sentences\n"
     ]
    }
   ],
   "source": [
    "data=preprocess_data(data)"
   ]
  },
  {
   "cell_type": "markdown",
   "id": "a377ce24-4854-4392-b750-31c6b306e9d1",
   "metadata": {},
   "source": [
    "# 2. Division B/w Test and train"
   ]
  },
  {
   "cell_type": "code",
   "execution_count": 131,
   "id": "421038c6-7779-424d-a4c2-8e7b536b26ca",
   "metadata": {},
   "outputs": [],
   "source": [
    "X_train, X_test, y_train, y_test = train_test_split(data[['text','hashtags']], data.target, test_size=0.2, random_state=42)"
   ]
  },
  {
   "cell_type": "markdown",
   "id": "0667f59a-3161-403b-a62a-a76e4a4f8ab4",
   "metadata": {},
   "source": [
    "# 3.1. Vectorization for Statistical"
   ]
  },
  {
   "cell_type": "code",
   "execution_count": 132,
   "id": "9a47b9ba-883d-471a-afa5-5f793ce2e870",
   "metadata": {},
   "outputs": [],
   "source": [
    "vectorizer = TfidfVectorizer(ngram_range=(1,3))\n",
    "vectorizer2 = TfidfVectorizer(ngram_range=(1,3))"
   ]
  },
  {
   "cell_type": "code",
   "execution_count": 147,
   "id": "f7762f95-49fc-441a-a69a-226033dc7d9c",
   "metadata": {},
   "outputs": [],
   "source": [
    "matrix2 = vectorizer2.fit_transform(X_train['hashtags'])\n",
    "countv_train2=pd.DataFrame(matrix2.toarray(),columns=vectorizer2.get_feature_names_out())"
   ]
  },
  {
   "cell_type": "code",
   "execution_count": 134,
   "id": "808271e5-3846-4f81-a563-90ee345b31ce",
   "metadata": {},
   "outputs": [],
   "source": [
    "model = SentenceTransformer('distilbert-base-nli-mean-tokens')"
   ]
  },
  {
   "cell_type": "code",
   "execution_count": 150,
   "id": "69885f8c-bb28-4f74-b102-6f1b0db4d89f",
   "metadata": {
    "scrolled": true,
    "tags": []
   },
   "outputs": [],
   "source": [
    "X_train_ST=model.encode(list(X_train.text))"
   ]
  },
  {
   "cell_type": "code",
   "execution_count": 151,
   "id": "51066935-adbf-405f-9c2a-7810088fa7d3",
   "metadata": {},
   "outputs": [],
   "source": [
    "X_test_ST=model.encode(list(X_test.text))"
   ]
  },
  {
   "cell_type": "code",
   "execution_count": 152,
   "id": "e446c1c0-9c24-4022-8290-18b407fc75fd",
   "metadata": {},
   "outputs": [
    {
     "data": {
      "text/plain": [
       "(8765, 768)"
      ]
     },
     "execution_count": 152,
     "metadata": {},
     "output_type": "execute_result"
    }
   ],
   "source": [
    "X_train_ST.shape"
   ]
  },
  {
   "cell_type": "code",
   "execution_count": 148,
   "id": "db075b71-22d4-4279-994e-d60c69ebfc75",
   "metadata": {},
   "outputs": [
    {
     "data": {
      "text/plain": [
       "(8765, 2582)"
      ]
     },
     "execution_count": 148,
     "metadata": {},
     "output_type": "execute_result"
    }
   ],
   "source": [
    "countv_train2.shape"
   ]
  },
  {
   "cell_type": "code",
   "execution_count": 149,
   "id": "cc4c9b66-7c12-4c2e-8e12-0129195b6de0",
   "metadata": {},
   "outputs": [
    {
     "data": {
      "text/plain": [
       "(8765, 2)"
      ]
     },
     "execution_count": 149,
     "metadata": {},
     "output_type": "execute_result"
    }
   ],
   "source": []
  },
  {
   "cell_type": "code",
   "execution_count": 155,
   "id": "06ae9730-c8c6-45ca-97c9-4a9a4f955dcd",
   "metadata": {},
   "outputs": [],
   "source": [
    "matrix2 = vectorizer2.transform(X_test['hashtags'])\n",
    "countv_test2=pd.DataFrame(matrix2.toarray(),columns=vectorizer2.get_feature_names_out())\n"
   ]
  },
  {
   "cell_type": "code",
   "execution_count": 154,
   "id": "4e07f8f0-bb53-4faf-9404-0403fbee4daf",
   "metadata": {},
   "outputs": [],
   "source": [
    "X_train_ST_x=np.concatenate((X_train_ST, countv_train2), axis=1)"
   ]
  },
  {
   "cell_type": "code",
   "execution_count": 156,
   "id": "eeefd6b7-d886-4aab-ad3c-f95bd92ed545",
   "metadata": {},
   "outputs": [],
   "source": [
    "X_test_ST_x=np.concatenate((X_test_ST, countv_test2), axis=1)"
   ]
  },
  {
   "cell_type": "code",
   "execution_count": 157,
   "id": "c92fd000-24c0-4d40-9cab-936590845b07",
   "metadata": {},
   "outputs": [
    {
     "data": {
      "text/plain": [
       "(2192, 3350)"
      ]
     },
     "execution_count": 157,
     "metadata": {},
     "output_type": "execute_result"
    }
   ],
   "source": [
    "X_test_ST_x.shape"
   ]
  },
  {
   "cell_type": "code",
   "execution_count": 158,
   "id": "531e82e4-adb6-4877-afea-393a4480cf4d",
   "metadata": {},
   "outputs": [
    {
     "data": {
      "text/plain": [
       "(8765, 3350)"
      ]
     },
     "execution_count": 158,
     "metadata": {},
     "output_type": "execute_result"
    }
   ],
   "source": [
    "X_train_ST_x.shape"
   ]
  },
  {
   "cell_type": "code",
   "execution_count": 160,
   "id": "9be4ac34-f4d3-493b-b485-0185a47d7baf",
   "metadata": {
    "scrolled": true,
    "tags": []
   },
   "outputs": [],
   "source": [
    "X_train_ST_x_sm, y_train_ST_x_sm = smote.fit_resample(X_train_ST_x, y_train)"
   ]
  },
  {
   "cell_type": "code",
   "execution_count": null,
   "id": "b58a0c8a-9696-4739-a199-e0f03427bf9f",
   "metadata": {},
   "outputs": [],
   "source": []
  },
  {
   "cell_type": "code",
   "execution_count": 162,
   "id": "377eed60-cfcf-40e4-848a-6f8eaed859cd",
   "metadata": {},
   "outputs": [
    {
     "data": {
      "text/plain": [
       "(14420, 3350)"
      ]
     },
     "execution_count": 162,
     "metadata": {},
     "output_type": "execute_result"
    }
   ],
   "source": [
    "X_train_ST_x_sm.shape"
   ]
  },
  {
   "cell_type": "code",
   "execution_count": null,
   "id": "d830da82-bfea-46e7-a656-2f685ce3c2b5",
   "metadata": {},
   "outputs": [],
   "source": []
  },
  {
   "cell_type": "code",
   "execution_count": 163,
   "id": "503453db-c9f4-4cc9-94bd-ac4d708ca171",
   "metadata": {
    "tags": []
   },
   "outputs": [],
   "source": [
    "rf_classifier=RandomForestClassifier(n_estimators=100, random_state=42,class_weight={0:1,1:1})"
   ]
  },
  {
   "cell_type": "code",
   "execution_count": 165,
   "id": "47e6176d-a7cc-4d2d-a0f2-6c0da7108535",
   "metadata": {},
   "outputs": [
    {
     "data": {
      "text/html": [
       "<style>#sk-container-id-14 {color: black;}#sk-container-id-14 pre{padding: 0;}#sk-container-id-14 div.sk-toggleable {background-color: white;}#sk-container-id-14 label.sk-toggleable__label {cursor: pointer;display: block;width: 100%;margin-bottom: 0;padding: 0.3em;box-sizing: border-box;text-align: center;}#sk-container-id-14 label.sk-toggleable__label-arrow:before {content: \"▸\";float: left;margin-right: 0.25em;color: #696969;}#sk-container-id-14 label.sk-toggleable__label-arrow:hover:before {color: black;}#sk-container-id-14 div.sk-estimator:hover label.sk-toggleable__label-arrow:before {color: black;}#sk-container-id-14 div.sk-toggleable__content {max-height: 0;max-width: 0;overflow: hidden;text-align: left;background-color: #f0f8ff;}#sk-container-id-14 div.sk-toggleable__content pre {margin: 0.2em;color: black;border-radius: 0.25em;background-color: #f0f8ff;}#sk-container-id-14 input.sk-toggleable__control:checked~div.sk-toggleable__content {max-height: 200px;max-width: 100%;overflow: auto;}#sk-container-id-14 input.sk-toggleable__control:checked~label.sk-toggleable__label-arrow:before {content: \"▾\";}#sk-container-id-14 div.sk-estimator input.sk-toggleable__control:checked~label.sk-toggleable__label {background-color: #d4ebff;}#sk-container-id-14 div.sk-label input.sk-toggleable__control:checked~label.sk-toggleable__label {background-color: #d4ebff;}#sk-container-id-14 input.sk-hidden--visually {border: 0;clip: rect(1px 1px 1px 1px);clip: rect(1px, 1px, 1px, 1px);height: 1px;margin: -1px;overflow: hidden;padding: 0;position: absolute;width: 1px;}#sk-container-id-14 div.sk-estimator {font-family: monospace;background-color: #f0f8ff;border: 1px dotted black;border-radius: 0.25em;box-sizing: border-box;margin-bottom: 0.5em;}#sk-container-id-14 div.sk-estimator:hover {background-color: #d4ebff;}#sk-container-id-14 div.sk-parallel-item::after {content: \"\";width: 100%;border-bottom: 1px solid gray;flex-grow: 1;}#sk-container-id-14 div.sk-label:hover label.sk-toggleable__label {background-color: #d4ebff;}#sk-container-id-14 div.sk-serial::before {content: \"\";position: absolute;border-left: 1px solid gray;box-sizing: border-box;top: 0;bottom: 0;left: 50%;z-index: 0;}#sk-container-id-14 div.sk-serial {display: flex;flex-direction: column;align-items: center;background-color: white;padding-right: 0.2em;padding-left: 0.2em;position: relative;}#sk-container-id-14 div.sk-item {position: relative;z-index: 1;}#sk-container-id-14 div.sk-parallel {display: flex;align-items: stretch;justify-content: center;background-color: white;position: relative;}#sk-container-id-14 div.sk-item::before, #sk-container-id-14 div.sk-parallel-item::before {content: \"\";position: absolute;border-left: 1px solid gray;box-sizing: border-box;top: 0;bottom: 0;left: 50%;z-index: -1;}#sk-container-id-14 div.sk-parallel-item {display: flex;flex-direction: column;z-index: 1;position: relative;background-color: white;}#sk-container-id-14 div.sk-parallel-item:first-child::after {align-self: flex-end;width: 50%;}#sk-container-id-14 div.sk-parallel-item:last-child::after {align-self: flex-start;width: 50%;}#sk-container-id-14 div.sk-parallel-item:only-child::after {width: 0;}#sk-container-id-14 div.sk-dashed-wrapped {border: 1px dashed gray;margin: 0 0.4em 0.5em 0.4em;box-sizing: border-box;padding-bottom: 0.4em;background-color: white;}#sk-container-id-14 div.sk-label label {font-family: monospace;font-weight: bold;display: inline-block;line-height: 1.2em;}#sk-container-id-14 div.sk-label-container {text-align: center;}#sk-container-id-14 div.sk-container {/* jupyter's `normalize.less` sets `[hidden] { display: none; }` but bootstrap.min.css set `[hidden] { display: none !important; }` so we also need the `!important` here to be able to override the default hidden behavior on the sphinx rendered scikit-learn.org. See: https://github.com/scikit-learn/scikit-learn/issues/21755 */display: inline-block !important;position: relative;}#sk-container-id-14 div.sk-text-repr-fallback {display: none;}</style><div id=\"sk-container-id-14\" class=\"sk-top-container\"><div class=\"sk-text-repr-fallback\"><pre>RandomForestClassifier(class_weight={0: 1, 1: 1}, random_state=42)</pre><b>In a Jupyter environment, please rerun this cell to show the HTML representation or trust the notebook. <br />On GitHub, the HTML representation is unable to render, please try loading this page with nbviewer.org.</b></div><div class=\"sk-container\" hidden><div class=\"sk-item\"><div class=\"sk-estimator sk-toggleable\"><input class=\"sk-toggleable__control sk-hidden--visually\" id=\"sk-estimator-id-14\" type=\"checkbox\" checked><label for=\"sk-estimator-id-14\" class=\"sk-toggleable__label sk-toggleable__label-arrow\">RandomForestClassifier</label><div class=\"sk-toggleable__content\"><pre>RandomForestClassifier(class_weight={0: 1, 1: 1}, random_state=42)</pre></div></div></div></div></div>"
      ],
      "text/plain": [
       "RandomForestClassifier(class_weight={0: 1, 1: 1}, random_state=42)"
      ]
     },
     "execution_count": 165,
     "metadata": {},
     "output_type": "execute_result"
    }
   ],
   "source": [
    "rf_classifier.fit(X_train_ST_x_sm, y_train_ST_x_sm)"
   ]
  },
  {
   "cell_type": "code",
   "execution_count": 166,
   "id": "c3c610af-073d-4ec6-99b2-1fbc0abd8827",
   "metadata": {},
   "outputs": [],
   "source": [
    "y_pred=rf_classifier.predict(X_test_ST_x)"
   ]
  },
  {
   "cell_type": "code",
   "execution_count": 167,
   "id": "1abe0254-b416-4142-a1e1-1b8a28e60c97",
   "metadata": {},
   "outputs": [
    {
     "name": "stdout",
     "output_type": "stream",
     "text": [
      "              precision    recall  f1-score   support\n",
      "\n",
      "           0       0.91      0.95      0.93      1794\n",
      "           1       0.72      0.60      0.65       398\n",
      "\n",
      "    accuracy                           0.88      2192\n",
      "   macro avg       0.82      0.78      0.79      2192\n",
      "weighted avg       0.88      0.88      0.88      2192\n",
      "\n"
     ]
    }
   ],
   "source": [
    "print(classification_report(y_test, y_pred))"
   ]
  },
  {
   "cell_type": "code",
   "execution_count": null,
   "id": "6b93d0eb-0587-4f8a-b030-7f88f2869fcd",
   "metadata": {},
   "outputs": [],
   "source": []
  },
  {
   "cell_type": "code",
   "execution_count": 168,
   "id": "5591585d-c7cf-4f4a-8425-32664fa45665",
   "metadata": {
    "tags": []
   },
   "outputs": [],
   "source": [
    "rf_classifier=RandomForestClassifier(n_estimators=100, random_state=42,class_weight={0:3,1:1})"
   ]
  },
  {
   "cell_type": "code",
   "execution_count": 169,
   "id": "26fc875d-75c5-4adc-b728-26f164fef99d",
   "metadata": {},
   "outputs": [
    {
     "data": {
      "text/html": [
       "<style>#sk-container-id-15 {color: black;}#sk-container-id-15 pre{padding: 0;}#sk-container-id-15 div.sk-toggleable {background-color: white;}#sk-container-id-15 label.sk-toggleable__label {cursor: pointer;display: block;width: 100%;margin-bottom: 0;padding: 0.3em;box-sizing: border-box;text-align: center;}#sk-container-id-15 label.sk-toggleable__label-arrow:before {content: \"▸\";float: left;margin-right: 0.25em;color: #696969;}#sk-container-id-15 label.sk-toggleable__label-arrow:hover:before {color: black;}#sk-container-id-15 div.sk-estimator:hover label.sk-toggleable__label-arrow:before {color: black;}#sk-container-id-15 div.sk-toggleable__content {max-height: 0;max-width: 0;overflow: hidden;text-align: left;background-color: #f0f8ff;}#sk-container-id-15 div.sk-toggleable__content pre {margin: 0.2em;color: black;border-radius: 0.25em;background-color: #f0f8ff;}#sk-container-id-15 input.sk-toggleable__control:checked~div.sk-toggleable__content {max-height: 200px;max-width: 100%;overflow: auto;}#sk-container-id-15 input.sk-toggleable__control:checked~label.sk-toggleable__label-arrow:before {content: \"▾\";}#sk-container-id-15 div.sk-estimator input.sk-toggleable__control:checked~label.sk-toggleable__label {background-color: #d4ebff;}#sk-container-id-15 div.sk-label input.sk-toggleable__control:checked~label.sk-toggleable__label {background-color: #d4ebff;}#sk-container-id-15 input.sk-hidden--visually {border: 0;clip: rect(1px 1px 1px 1px);clip: rect(1px, 1px, 1px, 1px);height: 1px;margin: -1px;overflow: hidden;padding: 0;position: absolute;width: 1px;}#sk-container-id-15 div.sk-estimator {font-family: monospace;background-color: #f0f8ff;border: 1px dotted black;border-radius: 0.25em;box-sizing: border-box;margin-bottom: 0.5em;}#sk-container-id-15 div.sk-estimator:hover {background-color: #d4ebff;}#sk-container-id-15 div.sk-parallel-item::after {content: \"\";width: 100%;border-bottom: 1px solid gray;flex-grow: 1;}#sk-container-id-15 div.sk-label:hover label.sk-toggleable__label {background-color: #d4ebff;}#sk-container-id-15 div.sk-serial::before {content: \"\";position: absolute;border-left: 1px solid gray;box-sizing: border-box;top: 0;bottom: 0;left: 50%;z-index: 0;}#sk-container-id-15 div.sk-serial {display: flex;flex-direction: column;align-items: center;background-color: white;padding-right: 0.2em;padding-left: 0.2em;position: relative;}#sk-container-id-15 div.sk-item {position: relative;z-index: 1;}#sk-container-id-15 div.sk-parallel {display: flex;align-items: stretch;justify-content: center;background-color: white;position: relative;}#sk-container-id-15 div.sk-item::before, #sk-container-id-15 div.sk-parallel-item::before {content: \"\";position: absolute;border-left: 1px solid gray;box-sizing: border-box;top: 0;bottom: 0;left: 50%;z-index: -1;}#sk-container-id-15 div.sk-parallel-item {display: flex;flex-direction: column;z-index: 1;position: relative;background-color: white;}#sk-container-id-15 div.sk-parallel-item:first-child::after {align-self: flex-end;width: 50%;}#sk-container-id-15 div.sk-parallel-item:last-child::after {align-self: flex-start;width: 50%;}#sk-container-id-15 div.sk-parallel-item:only-child::after {width: 0;}#sk-container-id-15 div.sk-dashed-wrapped {border: 1px dashed gray;margin: 0 0.4em 0.5em 0.4em;box-sizing: border-box;padding-bottom: 0.4em;background-color: white;}#sk-container-id-15 div.sk-label label {font-family: monospace;font-weight: bold;display: inline-block;line-height: 1.2em;}#sk-container-id-15 div.sk-label-container {text-align: center;}#sk-container-id-15 div.sk-container {/* jupyter's `normalize.less` sets `[hidden] { display: none; }` but bootstrap.min.css set `[hidden] { display: none !important; }` so we also need the `!important` here to be able to override the default hidden behavior on the sphinx rendered scikit-learn.org. See: https://github.com/scikit-learn/scikit-learn/issues/21755 */display: inline-block !important;position: relative;}#sk-container-id-15 div.sk-text-repr-fallback {display: none;}</style><div id=\"sk-container-id-15\" class=\"sk-top-container\"><div class=\"sk-text-repr-fallback\"><pre>RandomForestClassifier(class_weight={0: 3, 1: 1}, random_state=42)</pre><b>In a Jupyter environment, please rerun this cell to show the HTML representation or trust the notebook. <br />On GitHub, the HTML representation is unable to render, please try loading this page with nbviewer.org.</b></div><div class=\"sk-container\" hidden><div class=\"sk-item\"><div class=\"sk-estimator sk-toggleable\"><input class=\"sk-toggleable__control sk-hidden--visually\" id=\"sk-estimator-id-15\" type=\"checkbox\" checked><label for=\"sk-estimator-id-15\" class=\"sk-toggleable__label sk-toggleable__label-arrow\">RandomForestClassifier</label><div class=\"sk-toggleable__content\"><pre>RandomForestClassifier(class_weight={0: 3, 1: 1}, random_state=42)</pre></div></div></div></div></div>"
      ],
      "text/plain": [
       "RandomForestClassifier(class_weight={0: 3, 1: 1}, random_state=42)"
      ]
     },
     "execution_count": 169,
     "metadata": {},
     "output_type": "execute_result"
    }
   ],
   "source": [
    "rf_classifier.fit(X_train_ST_x_sm, y_train_ST_x_sm)"
   ]
  },
  {
   "cell_type": "code",
   "execution_count": 170,
   "id": "a3abf55b-ccca-430f-9a52-8ad97cf5d25a",
   "metadata": {},
   "outputs": [],
   "source": [
    "y_pred=rf_classifier.predict(X_test_ST_x)"
   ]
  },
  {
   "cell_type": "code",
   "execution_count": 171,
   "id": "d207391b-4328-4462-afc4-7232c7d5cc15",
   "metadata": {},
   "outputs": [
    {
     "name": "stdout",
     "output_type": "stream",
     "text": [
      "              precision    recall  f1-score   support\n",
      "\n",
      "           0       0.93      0.91      0.92      1794\n",
      "           1       0.65      0.70      0.67       398\n",
      "\n",
      "    accuracy                           0.88      2192\n",
      "   macro avg       0.79      0.81      0.80      2192\n",
      "weighted avg       0.88      0.88      0.88      2192\n",
      "\n"
     ]
    }
   ],
   "source": [
    "print(classification_report(y_test, y_pred))"
   ]
  },
  {
   "cell_type": "code",
   "execution_count": null,
   "id": "0f557aa0-86e6-4ca6-9a11-1ad6b223da6c",
   "metadata": {},
   "outputs": [],
   "source": []
  },
  {
   "cell_type": "code",
   "execution_count": 172,
   "id": "5efca482-d09c-47f7-b0c7-fa4548b8d9db",
   "metadata": {
    "tags": []
   },
   "outputs": [],
   "source": [
    "rf_classifier=RandomForestClassifier(n_estimators=100, random_state=42,class_weight={0:5,1:1})"
   ]
  },
  {
   "cell_type": "code",
   "execution_count": 173,
   "id": "6484877c-b1ad-49de-bf1d-7bc3e7511786",
   "metadata": {},
   "outputs": [
    {
     "data": {
      "text/html": [
       "<style>#sk-container-id-16 {color: black;}#sk-container-id-16 pre{padding: 0;}#sk-container-id-16 div.sk-toggleable {background-color: white;}#sk-container-id-16 label.sk-toggleable__label {cursor: pointer;display: block;width: 100%;margin-bottom: 0;padding: 0.3em;box-sizing: border-box;text-align: center;}#sk-container-id-16 label.sk-toggleable__label-arrow:before {content: \"▸\";float: left;margin-right: 0.25em;color: #696969;}#sk-container-id-16 label.sk-toggleable__label-arrow:hover:before {color: black;}#sk-container-id-16 div.sk-estimator:hover label.sk-toggleable__label-arrow:before {color: black;}#sk-container-id-16 div.sk-toggleable__content {max-height: 0;max-width: 0;overflow: hidden;text-align: left;background-color: #f0f8ff;}#sk-container-id-16 div.sk-toggleable__content pre {margin: 0.2em;color: black;border-radius: 0.25em;background-color: #f0f8ff;}#sk-container-id-16 input.sk-toggleable__control:checked~div.sk-toggleable__content {max-height: 200px;max-width: 100%;overflow: auto;}#sk-container-id-16 input.sk-toggleable__control:checked~label.sk-toggleable__label-arrow:before {content: \"▾\";}#sk-container-id-16 div.sk-estimator input.sk-toggleable__control:checked~label.sk-toggleable__label {background-color: #d4ebff;}#sk-container-id-16 div.sk-label input.sk-toggleable__control:checked~label.sk-toggleable__label {background-color: #d4ebff;}#sk-container-id-16 input.sk-hidden--visually {border: 0;clip: rect(1px 1px 1px 1px);clip: rect(1px, 1px, 1px, 1px);height: 1px;margin: -1px;overflow: hidden;padding: 0;position: absolute;width: 1px;}#sk-container-id-16 div.sk-estimator {font-family: monospace;background-color: #f0f8ff;border: 1px dotted black;border-radius: 0.25em;box-sizing: border-box;margin-bottom: 0.5em;}#sk-container-id-16 div.sk-estimator:hover {background-color: #d4ebff;}#sk-container-id-16 div.sk-parallel-item::after {content: \"\";width: 100%;border-bottom: 1px solid gray;flex-grow: 1;}#sk-container-id-16 div.sk-label:hover label.sk-toggleable__label {background-color: #d4ebff;}#sk-container-id-16 div.sk-serial::before {content: \"\";position: absolute;border-left: 1px solid gray;box-sizing: border-box;top: 0;bottom: 0;left: 50%;z-index: 0;}#sk-container-id-16 div.sk-serial {display: flex;flex-direction: column;align-items: center;background-color: white;padding-right: 0.2em;padding-left: 0.2em;position: relative;}#sk-container-id-16 div.sk-item {position: relative;z-index: 1;}#sk-container-id-16 div.sk-parallel {display: flex;align-items: stretch;justify-content: center;background-color: white;position: relative;}#sk-container-id-16 div.sk-item::before, #sk-container-id-16 div.sk-parallel-item::before {content: \"\";position: absolute;border-left: 1px solid gray;box-sizing: border-box;top: 0;bottom: 0;left: 50%;z-index: -1;}#sk-container-id-16 div.sk-parallel-item {display: flex;flex-direction: column;z-index: 1;position: relative;background-color: white;}#sk-container-id-16 div.sk-parallel-item:first-child::after {align-self: flex-end;width: 50%;}#sk-container-id-16 div.sk-parallel-item:last-child::after {align-self: flex-start;width: 50%;}#sk-container-id-16 div.sk-parallel-item:only-child::after {width: 0;}#sk-container-id-16 div.sk-dashed-wrapped {border: 1px dashed gray;margin: 0 0.4em 0.5em 0.4em;box-sizing: border-box;padding-bottom: 0.4em;background-color: white;}#sk-container-id-16 div.sk-label label {font-family: monospace;font-weight: bold;display: inline-block;line-height: 1.2em;}#sk-container-id-16 div.sk-label-container {text-align: center;}#sk-container-id-16 div.sk-container {/* jupyter's `normalize.less` sets `[hidden] { display: none; }` but bootstrap.min.css set `[hidden] { display: none !important; }` so we also need the `!important` here to be able to override the default hidden behavior on the sphinx rendered scikit-learn.org. See: https://github.com/scikit-learn/scikit-learn/issues/21755 */display: inline-block !important;position: relative;}#sk-container-id-16 div.sk-text-repr-fallback {display: none;}</style><div id=\"sk-container-id-16\" class=\"sk-top-container\"><div class=\"sk-text-repr-fallback\"><pre>RandomForestClassifier(class_weight={0: 5, 1: 1}, random_state=42)</pre><b>In a Jupyter environment, please rerun this cell to show the HTML representation or trust the notebook. <br />On GitHub, the HTML representation is unable to render, please try loading this page with nbviewer.org.</b></div><div class=\"sk-container\" hidden><div class=\"sk-item\"><div class=\"sk-estimator sk-toggleable\"><input class=\"sk-toggleable__control sk-hidden--visually\" id=\"sk-estimator-id-16\" type=\"checkbox\" checked><label for=\"sk-estimator-id-16\" class=\"sk-toggleable__label sk-toggleable__label-arrow\">RandomForestClassifier</label><div class=\"sk-toggleable__content\"><pre>RandomForestClassifier(class_weight={0: 5, 1: 1}, random_state=42)</pre></div></div></div></div></div>"
      ],
      "text/plain": [
       "RandomForestClassifier(class_weight={0: 5, 1: 1}, random_state=42)"
      ]
     },
     "execution_count": 173,
     "metadata": {},
     "output_type": "execute_result"
    }
   ],
   "source": [
    "rf_classifier.fit(X_train_ST_x_sm, y_train_ST_x_sm)"
   ]
  },
  {
   "cell_type": "code",
   "execution_count": 174,
   "id": "0c6da1c7-3ae0-4077-a09c-a09ae1a7f28d",
   "metadata": {},
   "outputs": [],
   "source": [
    "y_pred=rf_classifier.predict(X_test_ST_x)"
   ]
  },
  {
   "cell_type": "code",
   "execution_count": 175,
   "id": "f9ee8c30-6613-4f1e-88f9-8a5ae2f8f9e7",
   "metadata": {},
   "outputs": [
    {
     "name": "stdout",
     "output_type": "stream",
     "text": [
      "              precision    recall  f1-score   support\n",
      "\n",
      "           0       0.94      0.91      0.92      1794\n",
      "           1       0.63      0.73      0.68       398\n",
      "\n",
      "    accuracy                           0.87      2192\n",
      "   macro avg       0.79      0.82      0.80      2192\n",
      "weighted avg       0.88      0.87      0.88      2192\n",
      "\n"
     ]
    }
   ],
   "source": [
    "print(classification_report(y_test, y_pred))"
   ]
  },
  {
   "cell_type": "code",
   "execution_count": null,
   "id": "7477aaa8-177e-41ff-b02a-e18557f178a8",
   "metadata": {},
   "outputs": [],
   "source": []
  }
 ],
 "metadata": {
  "kernelspec": {
   "display_name": "iLab-env",
   "language": "python",
   "name": "ilab-env"
  },
  "language_info": {
   "codemirror_mode": {
    "name": "ipython",
    "version": 3
   },
   "file_extension": ".py",
   "mimetype": "text/x-python",
   "name": "python",
   "nbconvert_exporter": "python",
   "pygments_lexer": "ipython3",
   "version": "3.8.2"
  }
 },
 "nbformat": 4,
 "nbformat_minor": 5
}
