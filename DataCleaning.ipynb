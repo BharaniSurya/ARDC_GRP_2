{
 "cells": [
  {
   "cell_type": "markdown",
   "id": "bd79b7eb-9c9a-4587-886d-36ebc4c15cab",
   "metadata": {
    "tags": []
   },
   "source": [
    "<h1 style=\"text-align: center\"> Harvey Dataset Cleaning </h1>"
   ]
  },
  {
   "cell_type": "code",
   "execution_count": 1,
   "id": "89f259c2-160a-48df-a6fb-d9b998dc21df",
   "metadata": {},
   "outputs": [
    {
     "name": "stderr",
     "output_type": "stream",
     "text": [
      "/Users/savinaysingh/Documents/SavinayUTS/iLab/Code/iLab-env/lib/python3.8/site-packages/tqdm/auto.py:21: TqdmWarning: IProgress not found. Please update jupyter and ipywidgets. See https://ipywidgets.readthedocs.io/en/stable/user_install.html\n",
      "  from .autonotebook import tqdm as notebook_tqdm\n"
     ]
    }
   ],
   "source": [
    "import pandas as pd\n",
    "from collections import Counter\n",
    "import plotly.express as px\n",
    "import plotly.graph_objects as go\n",
    "import numpy as np\n",
    "import pandas as pd\n",
    "import re\n",
    "import emoji\n",
    "import inflect\n",
    "from tqdm import tqdm\n",
    "import copy\n",
    "from nltk.stem import WordNetLemmatizer\n",
    "import nltk\n",
    "from nltk.corpus import wordnet\n",
    "from nltk.corpus import stopwords\n",
    "from sklearn.model_selection import train_test_split\n",
    "from sklearn.feature_extraction.text import CountVectorizer\n",
    "from sklearn.feature_extraction.text import TfidfVectorizer\n",
    "from sklearn.ensemble import RandomForestClassifier\n",
    "from sklearn.metrics import accuracy_score\n",
    "import xgboost as xgb\n",
    "from sklearn.metrics import precision_score, recall_score, f1_score\n",
    "from imblearn.over_sampling import SMOTE\n",
    "import pickle\n",
    "from sentence_transformers import SentenceTransformer,util\n",
    "from sentence_transformers import SentencesDataset, LoggingHandler, losses\n",
    "from nltk.corpus import words\n"
   ]
  },
  {
   "cell_type": "code",
   "execution_count": 2,
   "id": "06bd0053-9d83-4f78-a1b9-75af72b79127",
   "metadata": {},
   "outputs": [],
   "source": [
    "df=pd.read_csv('/Users/savinaysingh/Downloads/Hurricane_Harvey.csv', header= 0,\n",
    "                        encoding= 'unicode_escape')"
   ]
  },
  {
   "cell_type": "code",
   "execution_count": 3,
   "id": "28ab1da2-35e7-4389-a839-8402bdf0ef58",
   "metadata": {},
   "outputs": [
    {
     "data": {
      "text/plain": [
       "0         If you do decide to drive in for #ColdplayHous...\n",
       "1         As Hurricane Harvey is fast approaching, now i...\n",
       "2         Is @JerryJordan_KTT providing live #HurricaneH...\n",
       "3             I'm waiting for a Steve Harvey Hurricane meme\n",
       "4         The name of the hurricane is Harvey ... Steve ...\n",
       "                                ...                        \n",
       "399401    Lawyers wanting to provide pro bono help in th...\n",
       "399402    Hurricane Harvey: Alabamas largest church alr...\n",
       "399403    Hurricane Harvey pressures already tight Houst...\n",
       "399404    Our thoughts are with our neighbors in the Sou...\n",
       "399405    Marylanders head to Texas to assist with Hurri...\n",
       "Name: Tweet, Length: 399406, dtype: object"
      ]
     },
     "execution_count": 3,
     "metadata": {},
     "output_type": "execute_result"
    }
   ],
   "source": [
    "df.Tweet"
   ]
  },
  {
   "cell_type": "markdown",
   "id": "0b8c72b3-daac-493b-a1d6-37d1eea35195",
   "metadata": {},
   "source": [
    "1. Abbreviation Handling\n",
    "2. Spelling correction\n",
    "3. Stop words removal if not using sentence transformer for contenxtual understanding\n",
    "4. Lowercasing the sentences\n",
    "5. Mentions and hashtags handling\n",
    "6. Handling numerics\n",
    "7. Handling Punctuations\n",
    "8. Lemmatization\n",
    "9. Removal of urls and unwanted noise\n",
    "10. Handling emojis"
   ]
  },
  {
   "cell_type": "code",
   "execution_count": 4,
   "id": "b9a2ecd9-0b6d-4b5a-b34e-7d73f8e9bc76",
   "metadata": {},
   "outputs": [],
   "source": [
    "import emoji\n"
   ]
  },
  {
   "cell_type": "code",
   "execution_count": 5,
   "id": "cf447a26-05e1-44c9-a0fb-56597d97af85",
   "metadata": {},
   "outputs": [
    {
     "data": {
      "text/plain": [
       "490"
      ]
     },
     "execution_count": 5,
     "metadata": {},
     "output_type": "execute_result"
    }
   ],
   "source": [
    "df['Tweet'].isna().sum()"
   ]
  },
  {
   "cell_type": "code",
   "execution_count": 6,
   "id": "5a64bed8-6065-4191-ae35-253168be7f06",
   "metadata": {},
   "outputs": [],
   "source": [
    "df=df.dropna(subset=['Tweet'])"
   ]
  },
  {
   "cell_type": "code",
   "execution_count": 7,
   "id": "1dab271e-246d-41a7-80da-a055d8d91643",
   "metadata": {},
   "outputs": [
    {
     "data": {
      "text/plain": [
       "0"
      ]
     },
     "execution_count": 7,
     "metadata": {},
     "output_type": "execute_result"
    }
   ],
   "source": [
    "df['Tweet'].isna().sum()"
   ]
  },
  {
   "cell_type": "code",
   "execution_count": 8,
   "id": "0bb3e2a6-4a54-4b05-8edf-464debff9a3d",
   "metadata": {},
   "outputs": [
    {
     "data": {
      "text/plain": [
       "0         False\n",
       "1         False\n",
       "2         False\n",
       "3         False\n",
       "4         False\n",
       "          ...  \n",
       "399401    False\n",
       "399402    False\n",
       "399403    False\n",
       "399404    False\n",
       "399405    False\n",
       "Name: Tweet, Length: 398916, dtype: bool"
      ]
     },
     "execution_count": 8,
     "metadata": {},
     "output_type": "execute_result"
    }
   ],
   "source": [
    "def contains_emoji(text):\n",
    "    return True in [emoji.is_emoji(t) for t in text]\n",
    "\n",
    "# Apply the function to the DataFrame column\n",
    "df['Tweet'].apply(contains_emoji)"
   ]
  },
  {
   "cell_type": "code",
   "execution_count": 9,
   "id": "e4ac77ba-2dab-432d-a065-50eae7848ec1",
   "metadata": {},
   "outputs": [
    {
     "ename": "KeyboardInterrupt",
     "evalue": "",
     "output_type": "error",
     "traceback": [
      "\u001b[0;31m---------------------------------------------------------------------------\u001b[0m",
      "\u001b[0;31mKeyboardInterrupt\u001b[0m                         Traceback (most recent call last)",
      "Cell \u001b[0;32mIn[9], line 1\u001b[0m\n\u001b[0;32m----> 1\u001b[0m df[\u001b[38;5;124m'\u001b[39m\u001b[38;5;124mEmoji\u001b[39m\u001b[38;5;124m'\u001b[39m]\u001b[38;5;241m=\u001b[39m\u001b[43mdf\u001b[49m\u001b[43m[\u001b[49m\u001b[38;5;124;43m'\u001b[39;49m\u001b[38;5;124;43mTweet\u001b[39;49m\u001b[38;5;124;43m'\u001b[39;49m\u001b[43m]\u001b[49m\u001b[38;5;241;43m.\u001b[39;49m\u001b[43mapply\u001b[49m\u001b[43m(\u001b[49m\u001b[43mcontains_emoji\u001b[49m\u001b[43m)\u001b[49m\n",
      "File \u001b[0;32m~/Documents/SavinayUTS/iLab/Code/iLab-env/lib/python3.8/site-packages/pandas/core/series.py:4630\u001b[0m, in \u001b[0;36mSeries.apply\u001b[0;34m(self, func, convert_dtype, args, **kwargs)\u001b[0m\n\u001b[1;32m   4520\u001b[0m \u001b[38;5;28;01mdef\u001b[39;00m \u001b[38;5;21mapply\u001b[39m(\n\u001b[1;32m   4521\u001b[0m     \u001b[38;5;28mself\u001b[39m,\n\u001b[1;32m   4522\u001b[0m     func: AggFuncType,\n\u001b[0;32m   (...)\u001b[0m\n\u001b[1;32m   4525\u001b[0m     \u001b[38;5;241m*\u001b[39m\u001b[38;5;241m*\u001b[39mkwargs,\n\u001b[1;32m   4526\u001b[0m ) \u001b[38;5;241m-\u001b[39m\u001b[38;5;241m>\u001b[39m DataFrame \u001b[38;5;241m|\u001b[39m Series:\n\u001b[1;32m   4527\u001b[0m \u001b[38;5;250m    \u001b[39m\u001b[38;5;124;03m\"\"\"\u001b[39;00m\n\u001b[1;32m   4528\u001b[0m \u001b[38;5;124;03m    Invoke function on values of Series.\u001b[39;00m\n\u001b[1;32m   4529\u001b[0m \n\u001b[0;32m   (...)\u001b[0m\n\u001b[1;32m   4628\u001b[0m \u001b[38;5;124;03m    dtype: float64\u001b[39;00m\n\u001b[1;32m   4629\u001b[0m \u001b[38;5;124;03m    \"\"\"\u001b[39;00m\n\u001b[0;32m-> 4630\u001b[0m     \u001b[38;5;28;01mreturn\u001b[39;00m \u001b[43mSeriesApply\u001b[49m\u001b[43m(\u001b[49m\u001b[38;5;28;43mself\u001b[39;49m\u001b[43m,\u001b[49m\u001b[43m \u001b[49m\u001b[43mfunc\u001b[49m\u001b[43m,\u001b[49m\u001b[43m \u001b[49m\u001b[43mconvert_dtype\u001b[49m\u001b[43m,\u001b[49m\u001b[43m \u001b[49m\u001b[43margs\u001b[49m\u001b[43m,\u001b[49m\u001b[43m \u001b[49m\u001b[43mkwargs\u001b[49m\u001b[43m)\u001b[49m\u001b[38;5;241;43m.\u001b[39;49m\u001b[43mapply\u001b[49m\u001b[43m(\u001b[49m\u001b[43m)\u001b[49m\n",
      "File \u001b[0;32m~/Documents/SavinayUTS/iLab/Code/iLab-env/lib/python3.8/site-packages/pandas/core/apply.py:1025\u001b[0m, in \u001b[0;36mSeriesApply.apply\u001b[0;34m(self)\u001b[0m\n\u001b[1;32m   1022\u001b[0m     \u001b[38;5;28;01mreturn\u001b[39;00m \u001b[38;5;28mself\u001b[39m\u001b[38;5;241m.\u001b[39mapply_str()\n\u001b[1;32m   1024\u001b[0m \u001b[38;5;66;03m# self.f is Callable\u001b[39;00m\n\u001b[0;32m-> 1025\u001b[0m \u001b[38;5;28;01mreturn\u001b[39;00m \u001b[38;5;28;43mself\u001b[39;49m\u001b[38;5;241;43m.\u001b[39;49m\u001b[43mapply_standard\u001b[49m\u001b[43m(\u001b[49m\u001b[43m)\u001b[49m\n",
      "File \u001b[0;32m~/Documents/SavinayUTS/iLab/Code/iLab-env/lib/python3.8/site-packages/pandas/core/apply.py:1076\u001b[0m, in \u001b[0;36mSeriesApply.apply_standard\u001b[0;34m(self)\u001b[0m\n\u001b[1;32m   1074\u001b[0m     \u001b[38;5;28;01melse\u001b[39;00m:\n\u001b[1;32m   1075\u001b[0m         values \u001b[38;5;241m=\u001b[39m obj\u001b[38;5;241m.\u001b[39mastype(\u001b[38;5;28mobject\u001b[39m)\u001b[38;5;241m.\u001b[39m_values\n\u001b[0;32m-> 1076\u001b[0m         mapped \u001b[38;5;241m=\u001b[39m \u001b[43mlib\u001b[49m\u001b[38;5;241;43m.\u001b[39;49m\u001b[43mmap_infer\u001b[49m\u001b[43m(\u001b[49m\n\u001b[1;32m   1077\u001b[0m \u001b[43m            \u001b[49m\u001b[43mvalues\u001b[49m\u001b[43m,\u001b[49m\n\u001b[1;32m   1078\u001b[0m \u001b[43m            \u001b[49m\u001b[43mf\u001b[49m\u001b[43m,\u001b[49m\n\u001b[1;32m   1079\u001b[0m \u001b[43m            \u001b[49m\u001b[43mconvert\u001b[49m\u001b[38;5;241;43m=\u001b[39;49m\u001b[38;5;28;43mself\u001b[39;49m\u001b[38;5;241;43m.\u001b[39;49m\u001b[43mconvert_dtype\u001b[49m\u001b[43m,\u001b[49m\n\u001b[1;32m   1080\u001b[0m \u001b[43m        \u001b[49m\u001b[43m)\u001b[49m\n\u001b[1;32m   1082\u001b[0m \u001b[38;5;28;01mif\u001b[39;00m \u001b[38;5;28mlen\u001b[39m(mapped) \u001b[38;5;129;01mand\u001b[39;00m \u001b[38;5;28misinstance\u001b[39m(mapped[\u001b[38;5;241m0\u001b[39m], ABCSeries):\n\u001b[1;32m   1083\u001b[0m     \u001b[38;5;66;03m# GH#43986 Need to do list(mapped) in order to get treated as nested\u001b[39;00m\n\u001b[1;32m   1084\u001b[0m     \u001b[38;5;66;03m#  See also GH#25959 regarding EA support\u001b[39;00m\n\u001b[1;32m   1085\u001b[0m     \u001b[38;5;28;01mreturn\u001b[39;00m obj\u001b[38;5;241m.\u001b[39m_constructor_expanddim(\u001b[38;5;28mlist\u001b[39m(mapped), index\u001b[38;5;241m=\u001b[39mobj\u001b[38;5;241m.\u001b[39mindex)\n",
      "File \u001b[0;32m~/Documents/SavinayUTS/iLab/Code/iLab-env/lib/python3.8/site-packages/pandas/_libs/lib.pyx:2834\u001b[0m, in \u001b[0;36mpandas._libs.lib.map_infer\u001b[0;34m()\u001b[0m\n",
      "Cell \u001b[0;32mIn[8], line 2\u001b[0m, in \u001b[0;36mcontains_emoji\u001b[0;34m(text)\u001b[0m\n\u001b[1;32m      1\u001b[0m \u001b[38;5;28;01mdef\u001b[39;00m \u001b[38;5;21mcontains_emoji\u001b[39m(text):\n\u001b[0;32m----> 2\u001b[0m     \u001b[38;5;28;01mreturn\u001b[39;00m \u001b[38;5;28;01mTrue\u001b[39;00m \u001b[38;5;129;01min\u001b[39;00m [emoji\u001b[38;5;241m.\u001b[39mis_emoji(t) \u001b[38;5;28;01mfor\u001b[39;00m t \u001b[38;5;129;01min\u001b[39;00m text]\n",
      "Cell \u001b[0;32mIn[8], line 2\u001b[0m, in \u001b[0;36m<listcomp>\u001b[0;34m(.0)\u001b[0m\n\u001b[1;32m      1\u001b[0m \u001b[38;5;28;01mdef\u001b[39;00m \u001b[38;5;21mcontains_emoji\u001b[39m(text):\n\u001b[0;32m----> 2\u001b[0m     \u001b[38;5;28;01mreturn\u001b[39;00m \u001b[38;5;28;01mTrue\u001b[39;00m \u001b[38;5;129;01min\u001b[39;00m [\u001b[43memoji\u001b[49m\u001b[38;5;241;43m.\u001b[39;49m\u001b[43mis_emoji\u001b[49m(t) \u001b[38;5;28;01mfor\u001b[39;00m t \u001b[38;5;129;01min\u001b[39;00m text]\n",
      "\u001b[0;31mKeyboardInterrupt\u001b[0m: "
     ]
    }
   ],
   "source": [
    "df['Emoji']=df['Tweet'].apply(contains_emoji)"
   ]
  },
  {
   "cell_type": "code",
   "execution_count": null,
   "id": "aed85fd4-19c1-451e-a6af-a9a380e8905e",
   "metadata": {},
   "outputs": [],
   "source": [
    "df['Emoji'].value_counts()"
   ]
  },
  {
   "cell_type": "code",
   "execution_count": null,
   "id": "8fa13d83-fa18-4992-8002-48649da2c9c7",
   "metadata": {},
   "outputs": [],
   "source": [
    "df.Tweet[81648]"
   ]
  },
  {
   "cell_type": "code",
   "execution_count": null,
   "id": "a480c7c6-65e4-4335-a1f7-0ce2dbab3737",
   "metadata": {},
   "outputs": [],
   "source": []
  },
  {
   "cell_type": "markdown",
   "id": "83f826a2-6b37-4b54-87f8-ba0fde06f2ed",
   "metadata": {},
   "source": [
    "# 1. Abbreviation Handling"
   ]
  },
  {
   "cell_type": "code",
   "execution_count": null,
   "id": "591f0285-bb15-4cc3-8072-b2996a277f9e",
   "metadata": {},
   "outputs": [],
   "source": [
    "sentences=list(df.Tweet)"
   ]
  },
  {
   "cell_type": "code",
   "execution_count": null,
   "id": "d898e771-a2ef-46c8-9885-0b70d3ffc0ef",
   "metadata": {},
   "outputs": [],
   "source": [
    "word_list=list(' '.join(sentences).split())"
   ]
  },
  {
   "cell_type": "code",
   "execution_count": null,
   "id": "30236f02-8997-48f5-84f2-b1253a5c979d",
   "metadata": {},
   "outputs": [],
   "source": [
    "# Case1: Words which are in uppercase have chances of being an abbreviation\n",
    "capital_words=Counter([x for x in word_list if x.isupper()])"
   ]
  },
  {
   "cell_type": "code",
   "execution_count": null,
   "id": "1d330dd8-f89b-444c-ac36-91b80b431ecc",
   "metadata": {
    "scrolled": true,
    "tags": []
   },
   "outputs": [],
   "source": [
    "# Observing top 150 capital words to search for abbreviations\n",
    "capital_words.most_common(150)"
   ]
  },
  {
   "cell_type": "code",
   "execution_count": null,
   "id": "d75c2fd4-5623-4855-8ae0-95255e035a5b",
   "metadata": {},
   "outputs": [],
   "source": [
    "del capital_words['I']\n",
    "del capital_words['A']\n"
   ]
  },
  {
   "cell_type": "code",
   "execution_count": null,
   "id": "c15a4e18-adfc-47cb-b4be-8d2c99efc6b8",
   "metadata": {
    "scrolled": true,
    "tags": []
   },
   "outputs": [],
   "source": [
    "X=[l[0] for l in capital_words.most_common(150)]\n",
    "Y=[l[1] for l in capital_words.most_common(150)]\n",
    "px.bar( x=X, y=Y)"
   ]
  },
  {
   "cell_type": "code",
   "execution_count": null,
   "id": "24cdd75a-6283-4927-9125-51c1304cc857",
   "metadata": {
    "scrolled": true,
    "tags": []
   },
   "outputs": [],
   "source": [
    "capital_words.most_common(150)"
   ]
  },
  {
   "cell_type": "code",
   "execution_count": null,
   "id": "4c299d75-8796-4dc2-91b5-53a1c8c89ed0",
   "metadata": {
    "scrolled": true,
    "tags": []
   },
   "outputs": [],
   "source": [
    "capital_words.most_common(100)"
   ]
  },
  {
   "cell_type": "code",
   "execution_count": null,
   "id": "86708492-ae15-4063-b98e-1bfe67f40011",
   "metadata": {},
   "outputs": [],
   "source": [
    "word_list=list(' '.join(sentences).split())"
   ]
  },
  {
   "cell_type": "code",
   "execution_count": null,
   "id": "49413a55-dd11-4aaa-b415-bdf7fe9afa89",
   "metadata": {},
   "outputs": [],
   "source": []
  },
  {
   "cell_type": "code",
   "execution_count": null,
   "id": "06fdc121-8a1a-427b-88a9-eeeb76c0de07",
   "metadata": {},
   "outputs": [],
   "source": [
    "# Importing all the stopwords from nltk library into a list\n",
    "stop_words=stopwords.words('english')"
   ]
  },
  {
   "cell_type": "code",
   "execution_count": 72,
   "id": "fdc15277-dc3e-41b6-a9fd-755fd83a3a40",
   "metadata": {},
   "outputs": [],
   "source": [
    "# Importing all the english words from nltk library into a list\n",
    "english_words=words.words()"
   ]
  },
  {
   "cell_type": "code",
   "execution_count": 73,
   "id": "86d79349-7b4b-44fe-bb47-44eb46bb69a6",
   "metadata": {},
   "outputs": [],
   "source": [
    "english_words=[x.lower() for x in english_words]"
   ]
  },
  {
   "cell_type": "code",
   "execution_count": 74,
   "id": "2039cbd5-d483-4aeb-982b-075dfc56e2eb",
   "metadata": {
    "scrolled": true,
    "tags": []
   },
   "outputs": [
    {
     "name": "stderr",
     "output_type": "stream",
     "text": [
      "100%|█████████████████████████████| 5648006/5648006 [1:20:48<00:00, 1164.91it/s]\n"
     ]
    }
   ],
   "source": [
    "# Case2: Words which are not in english words vocabulary and not in stop words and have length less than 5 have a tendency to be an abbreviation \n",
    "non_eng_words=[x for x in tqdm(word_list,total=len(word_list)) if len(x)<=5 and x.isalpha() and x.lower() not in english_words and x.lower() not in stop_words]\n"
   ]
  },
  {
   "cell_type": "code",
   "execution_count": 56,
   "id": "fb365ec5-8661-49c9-be45-c5a2b0f44e58",
   "metadata": {},
   "outputs": [],
   "source": [
    "non_eng_words=Counter([x for x in non_eng_words])"
   ]
  },
  {
   "cell_type": "code",
   "execution_count": 57,
   "id": "01248def-ab3d-4130-ba6e-611ab44b5d16",
   "metadata": {
    "scrolled": true,
    "tags": []
   },
   "outputs": [
    {
     "data": {
      "text/plain": [
       "[('heard', 191),\n",
       " ('doses', 92),\n",
       " ('mRNA', 81),\n",
       " ('died', 56),\n",
       " ('shots', 40),\n",
       " ('using', 32),\n",
       " ('women', 32),\n",
       " ('clots', 31),\n",
       " ('makes', 30),\n",
       " ('masks', 24),\n",
       " ('seems', 22),\n",
       " ('Ive', 20),\n",
       " ('app', 20),\n",
       " ('Im', 19),\n",
       " ('nodes', 19),\n",
       " ('types', 16),\n",
       " ('ones', 15),\n",
       " ('tests', 15),\n",
       " ('ive', 14),\n",
       " ('gets', 14),\n",
       " ('safer', 13),\n",
       " ('knows', 13),\n",
       " ('im', 12),\n",
       " ('rates', 12),\n",
       " ('rules', 11),\n",
       " ('means', 11),\n",
       " ('risks', 11),\n",
       " ('years', 11),\n",
       " ('kid', 11),\n",
       " ('cases', 10),\n",
       " ('eggs', 10),\n",
       " ('steps', 10),\n",
       " ('info', 10),\n",
       " ('mrna', 10),\n",
       " ('okay', 9),\n",
       " ('helps', 9),\n",
       " ('isnt', 8),\n",
       " ('weeks', 8),\n",
       " ('dna', 8),\n",
       " ('jabs', 7),\n",
       " ('vax', 7),\n",
       " ('says', 6),\n",
       " ('terms', 6),\n",
       " ('lives', 6),\n",
       " ('wants', 6),\n",
       " ('lasts', 6),\n",
       " ('gives', 5),\n",
       " ('cells', 5),\n",
       " ('ms', 5),\n",
       " ('takes', 5),\n",
       " ('wanna', 4),\n",
       " ('signs', 4),\n",
       " ('bells', 4),\n",
       " ('keeps', 4),\n",
       " ('kiil', 4),\n",
       " ('parts', 4),\n",
       " ('hasnt', 4),\n",
       " ('pigs', 4),\n",
       " ('areas', 4),\n",
       " ('gyms', 4),\n",
       " ('fda', 4),\n",
       " ('words', 4),\n",
       " ('names', 4),\n",
       " ('feet', 3),\n",
       " ('hands', 3),\n",
       " ('gonna', 3),\n",
       " ('Astra', 3),\n",
       " ('Bells', 3),\n",
       " ('vegan', 3),\n",
       " ('waht', 3),\n",
       " ('donÕt', 3),\n",
       " ('pre', 3),\n",
       " ('forms', 3),\n",
       " ('mom', 3),\n",
       " ('asked', 3),\n",
       " ('ages', 3),\n",
       " ('needa', 3),\n",
       " ('Isnt', 3),\n",
       " ('kills', 3),\n",
       " ('fewer', 2),\n",
       " ('epi', 2),\n",
       " ('tells', 2),\n",
       " ('stops', 2),\n",
       " ('meets', 2),\n",
       " ('drugs', 2),\n",
       " ('Advil', 2),\n",
       " ('rats', 2),\n",
       " ('loved', 2),\n",
       " ('hurts', 2),\n",
       " ('uses', 2),\n",
       " ('Wht', 2),\n",
       " ('shows', 2),\n",
       " ('whaf', 2),\n",
       " ('Gates', 2),\n",
       " ('costs', 2),\n",
       " ('races', 2),\n",
       " ('usa', 2),\n",
       " ('wil', 2),\n",
       " ('ideas', 2),\n",
       " ('safey', 1),\n",
       " ('kinds', 1),\n",
       " ('ends', 1),\n",
       " ('towns', 1),\n",
       " ('Vit', 1),\n",
       " ('pk', 1),\n",
       " ('tyo', 1),\n",
       " ('datye', 1),\n",
       " ('dies', 1),\n",
       " ('hang', 1),\n",
       " ('nned', 1),\n",
       " ('keys', 1),\n",
       " ('hab', 1),\n",
       " ('raine', 1),\n",
       " ('Vegan', 1),\n",
       " ('loves', 1),\n",
       " ('ZI', 1),\n",
       " ('heads', 1),\n",
       " ('sites', 1),\n",
       " ('scams', 1),\n",
       " ('sets', 1),\n",
       " ('Whe', 1),\n",
       " ('ml', 1),\n",
       " ('ir', 1),\n",
       " ('paid', 1),\n",
       " ('gaps', 1),\n",
       " ('adn', 1),\n",
       " ('meds', 1),\n",
       " ('fears', 1),\n",
       " ('thust', 1),\n",
       " ('hype', 1),\n",
       " ('harms', 1),\n",
       " ('sould', 1),\n",
       " ('filed', 1),\n",
       " ('Merck', 1),\n",
       " ('firms', 1),\n",
       " ('ts', 1),\n",
       " ('hos', 1),\n",
       " ('cared', 1),\n",
       " ('roo', 1),\n",
       " ('thnk', 1),\n",
       " ('Jews', 1),\n",
       " ('meÊ', 1),\n",
       " ('hace', 1),\n",
       " ('aired', 1),\n",
       " ('Mrna', 1),\n",
       " ('users', 1),\n",
       " ('nMRA', 1),\n",
       " ('rna', 1),\n",
       " ('etc', 1),\n",
       " ('Biden', 1)]"
      ]
     },
     "execution_count": 57,
     "metadata": {},
     "output_type": "execute_result"
    }
   ],
   "source": [
    "non_eng_words.most_common(150)"
   ]
  },
  {
   "cell_type": "code",
   "execution_count": 62,
   "id": "41df826c-7091-4d0b-9527-21af79fbadca",
   "metadata": {},
   "outputs": [],
   "source": [
    "# Some words removed as they are over-dominating and are not an abbreviation\n",
    "del non_eng_words['heard']\n",
    "del non_eng_words['doses']\n",
    "del non_eng_words['died']\n",
    "del non_eng_words['shots']"
   ]
  },
  {
   "cell_type": "markdown",
   "id": "17627c9b-5454-45ee-975a-99f58022e8e5",
   "metadata": {},
   "source": [
    "<p style=\"color:black;font-size:18px;\"> The bar plot below shows the top potential abbreviations according to case 2\n",
    "</p>"
   ]
  },
  {
   "cell_type": "code",
   "execution_count": 63,
   "id": "9ff1f848-c460-44ed-969b-a2faddf9097f",
   "metadata": {},
   "outputs": [
    {
     "data": {
      "application/vnd.plotly.v1+json": {
       "config": {
        "plotlyServerURL": "https://plot.ly"
       },
       "data": [
        {
         "alignmentgroup": "True",
         "hovertemplate": "x=%{x}<br>y=%{y}<extra></extra>",
         "legendgroup": "",
         "marker": {
          "color": "#636efa",
          "pattern": {
           "shape": ""
          }
         },
         "name": "",
         "offsetgroup": "",
         "orientation": "v",
         "showlegend": false,
         "textposition": "auto",
         "type": "bar",
         "x": [
          "mRNA",
          "using",
          "women",
          "clots",
          "makes",
          "masks",
          "seems",
          "Ive",
          "app",
          "Im",
          "nodes",
          "types",
          "ones",
          "tests",
          "ive",
          "gets",
          "safer",
          "knows",
          "im",
          "rates",
          "rules",
          "means",
          "risks",
          "years",
          "kid",
          "cases",
          "eggs",
          "steps",
          "info",
          "mrna",
          "okay",
          "helps",
          "isnt",
          "weeks",
          "dna",
          "jabs",
          "vax",
          "says",
          "terms",
          "lives",
          "wants",
          "lasts",
          "gives",
          "cells",
          "ms",
          "takes",
          "wanna",
          "signs",
          "bells",
          "keeps",
          "kiil",
          "parts",
          "hasnt",
          "pigs",
          "areas",
          "gyms",
          "fda",
          "words",
          "names",
          "feet",
          "hands",
          "gonna",
          "Astra",
          "Bells",
          "vegan",
          "waht",
          "donÕt",
          "pre",
          "forms",
          "mom",
          "asked",
          "ages",
          "needa",
          "Isnt",
          "kills",
          "fewer",
          "epi",
          "tells",
          "stops",
          "meets",
          "drugs",
          "Advil",
          "rats",
          "loved",
          "hurts",
          "uses",
          "Wht",
          "shows",
          "whaf",
          "Gates",
          "costs",
          "races",
          "usa",
          "wil",
          "ideas",
          "safey",
          "kinds",
          "ends",
          "towns",
          "Vit",
          "pk",
          "tyo",
          "datye",
          "dies",
          "hang",
          "nned",
          "keys",
          "hab",
          "raine",
          "Vegan",
          "loves",
          "ZI",
          "heads",
          "sites",
          "scams",
          "sets",
          "Whe",
          "ml",
          "ir",
          "paid",
          "gaps",
          "adn",
          "meds",
          "fears",
          "thust",
          "hype",
          "harms",
          "sould",
          "filed",
          "Merck",
          "firms",
          "ts",
          "hos",
          "cared",
          "roo",
          "thnk",
          "Jews",
          "meÊ",
          "hace",
          "aired",
          "Mrna",
          "users",
          "nMRA",
          "rna",
          "etc",
          "Biden",
          "lines",
          "tens",
          "aimed",
          "dea"
         ],
         "xaxis": "x",
         "y": [
          81,
          32,
          32,
          31,
          30,
          24,
          22,
          20,
          20,
          19,
          19,
          16,
          15,
          15,
          14,
          14,
          13,
          13,
          12,
          12,
          11,
          11,
          11,
          11,
          11,
          10,
          10,
          10,
          10,
          10,
          9,
          9,
          8,
          8,
          8,
          7,
          7,
          6,
          6,
          6,
          6,
          6,
          5,
          5,
          5,
          5,
          4,
          4,
          4,
          4,
          4,
          4,
          4,
          4,
          4,
          4,
          4,
          4,
          4,
          3,
          3,
          3,
          3,
          3,
          3,
          3,
          3,
          3,
          3,
          3,
          3,
          3,
          3,
          3,
          3,
          2,
          2,
          2,
          2,
          2,
          2,
          2,
          2,
          2,
          2,
          2,
          2,
          2,
          2,
          2,
          2,
          2,
          2,
          2,
          2,
          1,
          1,
          1,
          1,
          1,
          1,
          1,
          1,
          1,
          1,
          1,
          1,
          1,
          1,
          1,
          1,
          1,
          1,
          1,
          1,
          1,
          1,
          1,
          1,
          1,
          1,
          1,
          1,
          1,
          1,
          1,
          1,
          1,
          1,
          1,
          1,
          1,
          1,
          1,
          1,
          1,
          1,
          1,
          1,
          1,
          1,
          1,
          1,
          1,
          1,
          1,
          1,
          1,
          1,
          1
         ],
         "yaxis": "y"
        }
       ],
       "layout": {
        "autosize": true,
        "barmode": "relative",
        "legend": {
         "tracegroupgap": 0
        },
        "margin": {
         "t": 60
        },
        "template": {
         "data": {
          "bar": [
           {
            "error_x": {
             "color": "#2a3f5f"
            },
            "error_y": {
             "color": "#2a3f5f"
            },
            "marker": {
             "line": {
              "color": "#E5ECF6",
              "width": 0.5
             },
             "pattern": {
              "fillmode": "overlay",
              "size": 10,
              "solidity": 0.2
             }
            },
            "type": "bar"
           }
          ],
          "barpolar": [
           {
            "marker": {
             "line": {
              "color": "#E5ECF6",
              "width": 0.5
             },
             "pattern": {
              "fillmode": "overlay",
              "size": 10,
              "solidity": 0.2
             }
            },
            "type": "barpolar"
           }
          ],
          "carpet": [
           {
            "aaxis": {
             "endlinecolor": "#2a3f5f",
             "gridcolor": "white",
             "linecolor": "white",
             "minorgridcolor": "white",
             "startlinecolor": "#2a3f5f"
            },
            "baxis": {
             "endlinecolor": "#2a3f5f",
             "gridcolor": "white",
             "linecolor": "white",
             "minorgridcolor": "white",
             "startlinecolor": "#2a3f5f"
            },
            "type": "carpet"
           }
          ],
          "choropleth": [
           {
            "colorbar": {
             "outlinewidth": 0,
             "ticks": ""
            },
            "type": "choropleth"
           }
          ],
          "contour": [
           {
            "colorbar": {
             "outlinewidth": 0,
             "ticks": ""
            },
            "colorscale": [
             [
              0,
              "#0d0887"
             ],
             [
              0.1111111111111111,
              "#46039f"
             ],
             [
              0.2222222222222222,
              "#7201a8"
             ],
             [
              0.3333333333333333,
              "#9c179e"
             ],
             [
              0.4444444444444444,
              "#bd3786"
             ],
             [
              0.5555555555555556,
              "#d8576b"
             ],
             [
              0.6666666666666666,
              "#ed7953"
             ],
             [
              0.7777777777777778,
              "#fb9f3a"
             ],
             [
              0.8888888888888888,
              "#fdca26"
             ],
             [
              1,
              "#f0f921"
             ]
            ],
            "type": "contour"
           }
          ],
          "contourcarpet": [
           {
            "colorbar": {
             "outlinewidth": 0,
             "ticks": ""
            },
            "type": "contourcarpet"
           }
          ],
          "heatmap": [
           {
            "colorbar": {
             "outlinewidth": 0,
             "ticks": ""
            },
            "colorscale": [
             [
              0,
              "#0d0887"
             ],
             [
              0.1111111111111111,
              "#46039f"
             ],
             [
              0.2222222222222222,
              "#7201a8"
             ],
             [
              0.3333333333333333,
              "#9c179e"
             ],
             [
              0.4444444444444444,
              "#bd3786"
             ],
             [
              0.5555555555555556,
              "#d8576b"
             ],
             [
              0.6666666666666666,
              "#ed7953"
             ],
             [
              0.7777777777777778,
              "#fb9f3a"
             ],
             [
              0.8888888888888888,
              "#fdca26"
             ],
             [
              1,
              "#f0f921"
             ]
            ],
            "type": "heatmap"
           }
          ],
          "heatmapgl": [
           {
            "colorbar": {
             "outlinewidth": 0,
             "ticks": ""
            },
            "colorscale": [
             [
              0,
              "#0d0887"
             ],
             [
              0.1111111111111111,
              "#46039f"
             ],
             [
              0.2222222222222222,
              "#7201a8"
             ],
             [
              0.3333333333333333,
              "#9c179e"
             ],
             [
              0.4444444444444444,
              "#bd3786"
             ],
             [
              0.5555555555555556,
              "#d8576b"
             ],
             [
              0.6666666666666666,
              "#ed7953"
             ],
             [
              0.7777777777777778,
              "#fb9f3a"
             ],
             [
              0.8888888888888888,
              "#fdca26"
             ],
             [
              1,
              "#f0f921"
             ]
            ],
            "type": "heatmapgl"
           }
          ],
          "histogram": [
           {
            "marker": {
             "pattern": {
              "fillmode": "overlay",
              "size": 10,
              "solidity": 0.2
             }
            },
            "type": "histogram"
           }
          ],
          "histogram2d": [
           {
            "colorbar": {
             "outlinewidth": 0,
             "ticks": ""
            },
            "colorscale": [
             [
              0,
              "#0d0887"
             ],
             [
              0.1111111111111111,
              "#46039f"
             ],
             [
              0.2222222222222222,
              "#7201a8"
             ],
             [
              0.3333333333333333,
              "#9c179e"
             ],
             [
              0.4444444444444444,
              "#bd3786"
             ],
             [
              0.5555555555555556,
              "#d8576b"
             ],
             [
              0.6666666666666666,
              "#ed7953"
             ],
             [
              0.7777777777777778,
              "#fb9f3a"
             ],
             [
              0.8888888888888888,
              "#fdca26"
             ],
             [
              1,
              "#f0f921"
             ]
            ],
            "type": "histogram2d"
           }
          ],
          "histogram2dcontour": [
           {
            "colorbar": {
             "outlinewidth": 0,
             "ticks": ""
            },
            "colorscale": [
             [
              0,
              "#0d0887"
             ],
             [
              0.1111111111111111,
              "#46039f"
             ],
             [
              0.2222222222222222,
              "#7201a8"
             ],
             [
              0.3333333333333333,
              "#9c179e"
             ],
             [
              0.4444444444444444,
              "#bd3786"
             ],
             [
              0.5555555555555556,
              "#d8576b"
             ],
             [
              0.6666666666666666,
              "#ed7953"
             ],
             [
              0.7777777777777778,
              "#fb9f3a"
             ],
             [
              0.8888888888888888,
              "#fdca26"
             ],
             [
              1,
              "#f0f921"
             ]
            ],
            "type": "histogram2dcontour"
           }
          ],
          "mesh3d": [
           {
            "colorbar": {
             "outlinewidth": 0,
             "ticks": ""
            },
            "type": "mesh3d"
           }
          ],
          "parcoords": [
           {
            "line": {
             "colorbar": {
              "outlinewidth": 0,
              "ticks": ""
             }
            },
            "type": "parcoords"
           }
          ],
          "pie": [
           {
            "automargin": true,
            "type": "pie"
           }
          ],
          "scatter": [
           {
            "fillpattern": {
             "fillmode": "overlay",
             "size": 10,
             "solidity": 0.2
            },
            "type": "scatter"
           }
          ],
          "scatter3d": [
           {
            "line": {
             "colorbar": {
              "outlinewidth": 0,
              "ticks": ""
             }
            },
            "marker": {
             "colorbar": {
              "outlinewidth": 0,
              "ticks": ""
             }
            },
            "type": "scatter3d"
           }
          ],
          "scattercarpet": [
           {
            "marker": {
             "colorbar": {
              "outlinewidth": 0,
              "ticks": ""
             }
            },
            "type": "scattercarpet"
           }
          ],
          "scattergeo": [
           {
            "marker": {
             "colorbar": {
              "outlinewidth": 0,
              "ticks": ""
             }
            },
            "type": "scattergeo"
           }
          ],
          "scattergl": [
           {
            "marker": {
             "colorbar": {
              "outlinewidth": 0,
              "ticks": ""
             }
            },
            "type": "scattergl"
           }
          ],
          "scattermapbox": [
           {
            "marker": {
             "colorbar": {
              "outlinewidth": 0,
              "ticks": ""
             }
            },
            "type": "scattermapbox"
           }
          ],
          "scatterpolar": [
           {
            "marker": {
             "colorbar": {
              "outlinewidth": 0,
              "ticks": ""
             }
            },
            "type": "scatterpolar"
           }
          ],
          "scatterpolargl": [
           {
            "marker": {
             "colorbar": {
              "outlinewidth": 0,
              "ticks": ""
             }
            },
            "type": "scatterpolargl"
           }
          ],
          "scatterternary": [
           {
            "marker": {
             "colorbar": {
              "outlinewidth": 0,
              "ticks": ""
             }
            },
            "type": "scatterternary"
           }
          ],
          "surface": [
           {
            "colorbar": {
             "outlinewidth": 0,
             "ticks": ""
            },
            "colorscale": [
             [
              0,
              "#0d0887"
             ],
             [
              0.1111111111111111,
              "#46039f"
             ],
             [
              0.2222222222222222,
              "#7201a8"
             ],
             [
              0.3333333333333333,
              "#9c179e"
             ],
             [
              0.4444444444444444,
              "#bd3786"
             ],
             [
              0.5555555555555556,
              "#d8576b"
             ],
             [
              0.6666666666666666,
              "#ed7953"
             ],
             [
              0.7777777777777778,
              "#fb9f3a"
             ],
             [
              0.8888888888888888,
              "#fdca26"
             ],
             [
              1,
              "#f0f921"
             ]
            ],
            "type": "surface"
           }
          ],
          "table": [
           {
            "cells": {
             "fill": {
              "color": "#EBF0F8"
             },
             "line": {
              "color": "white"
             }
            },
            "header": {
             "fill": {
              "color": "#C8D4E3"
             },
             "line": {
              "color": "white"
             }
            },
            "type": "table"
           }
          ]
         },
         "layout": {
          "annotationdefaults": {
           "arrowcolor": "#2a3f5f",
           "arrowhead": 0,
           "arrowwidth": 1
          },
          "autotypenumbers": "strict",
          "coloraxis": {
           "colorbar": {
            "outlinewidth": 0,
            "ticks": ""
           }
          },
          "colorscale": {
           "diverging": [
            [
             0,
             "#8e0152"
            ],
            [
             0.1,
             "#c51b7d"
            ],
            [
             0.2,
             "#de77ae"
            ],
            [
             0.3,
             "#f1b6da"
            ],
            [
             0.4,
             "#fde0ef"
            ],
            [
             0.5,
             "#f7f7f7"
            ],
            [
             0.6,
             "#e6f5d0"
            ],
            [
             0.7,
             "#b8e186"
            ],
            [
             0.8,
             "#7fbc41"
            ],
            [
             0.9,
             "#4d9221"
            ],
            [
             1,
             "#276419"
            ]
           ],
           "sequential": [
            [
             0,
             "#0d0887"
            ],
            [
             0.1111111111111111,
             "#46039f"
            ],
            [
             0.2222222222222222,
             "#7201a8"
            ],
            [
             0.3333333333333333,
             "#9c179e"
            ],
            [
             0.4444444444444444,
             "#bd3786"
            ],
            [
             0.5555555555555556,
             "#d8576b"
            ],
            [
             0.6666666666666666,
             "#ed7953"
            ],
            [
             0.7777777777777778,
             "#fb9f3a"
            ],
            [
             0.8888888888888888,
             "#fdca26"
            ],
            [
             1,
             "#f0f921"
            ]
           ],
           "sequentialminus": [
            [
             0,
             "#0d0887"
            ],
            [
             0.1111111111111111,
             "#46039f"
            ],
            [
             0.2222222222222222,
             "#7201a8"
            ],
            [
             0.3333333333333333,
             "#9c179e"
            ],
            [
             0.4444444444444444,
             "#bd3786"
            ],
            [
             0.5555555555555556,
             "#d8576b"
            ],
            [
             0.6666666666666666,
             "#ed7953"
            ],
            [
             0.7777777777777778,
             "#fb9f3a"
            ],
            [
             0.8888888888888888,
             "#fdca26"
            ],
            [
             1,
             "#f0f921"
            ]
           ]
          },
          "colorway": [
           "#636efa",
           "#EF553B",
           "#00cc96",
           "#ab63fa",
           "#FFA15A",
           "#19d3f3",
           "#FF6692",
           "#B6E880",
           "#FF97FF",
           "#FECB52"
          ],
          "font": {
           "color": "#2a3f5f"
          },
          "geo": {
           "bgcolor": "white",
           "lakecolor": "white",
           "landcolor": "#E5ECF6",
           "showlakes": true,
           "showland": true,
           "subunitcolor": "white"
          },
          "hoverlabel": {
           "align": "left"
          },
          "hovermode": "closest",
          "mapbox": {
           "style": "light"
          },
          "paper_bgcolor": "white",
          "plot_bgcolor": "#E5ECF6",
          "polar": {
           "angularaxis": {
            "gridcolor": "white",
            "linecolor": "white",
            "ticks": ""
           },
           "bgcolor": "#E5ECF6",
           "radialaxis": {
            "gridcolor": "white",
            "linecolor": "white",
            "ticks": ""
           }
          },
          "scene": {
           "xaxis": {
            "backgroundcolor": "#E5ECF6",
            "gridcolor": "white",
            "gridwidth": 2,
            "linecolor": "white",
            "showbackground": true,
            "ticks": "",
            "zerolinecolor": "white"
           },
           "yaxis": {
            "backgroundcolor": "#E5ECF6",
            "gridcolor": "white",
            "gridwidth": 2,
            "linecolor": "white",
            "showbackground": true,
            "ticks": "",
            "zerolinecolor": "white"
           },
           "zaxis": {
            "backgroundcolor": "#E5ECF6",
            "gridcolor": "white",
            "gridwidth": 2,
            "linecolor": "white",
            "showbackground": true,
            "ticks": "",
            "zerolinecolor": "white"
           }
          },
          "shapedefaults": {
           "line": {
            "color": "#2a3f5f"
           }
          },
          "ternary": {
           "aaxis": {
            "gridcolor": "white",
            "linecolor": "white",
            "ticks": ""
           },
           "baxis": {
            "gridcolor": "white",
            "linecolor": "white",
            "ticks": ""
           },
           "bgcolor": "#E5ECF6",
           "caxis": {
            "gridcolor": "white",
            "linecolor": "white",
            "ticks": ""
           }
          },
          "title": {
           "x": 0.05
          },
          "xaxis": {
           "automargin": true,
           "gridcolor": "white",
           "linecolor": "white",
           "ticks": "",
           "title": {
            "standoff": 15
           },
           "zerolinecolor": "white",
           "zerolinewidth": 2
          },
          "yaxis": {
           "automargin": true,
           "gridcolor": "white",
           "linecolor": "white",
           "ticks": "",
           "title": {
            "standoff": 15
           },
           "zerolinecolor": "white",
           "zerolinewidth": 2
          }
         }
        },
        "xaxis": {
         "anchor": "y",
         "autorange": true,
         "domain": [
          0,
          1
         ],
         "range": [
          -0.5,
          149.5
         ],
         "title": {
          "text": "x"
         },
         "type": "category"
        },
        "yaxis": {
         "anchor": "x",
         "autorange": true,
         "domain": [
          0,
          1
         ],
         "range": [
          0,
          85.26315789473685
         ],
         "title": {
          "text": "y"
         },
         "type": "linear"
        }
       }
      },
      "image/png": "[encoded data removed]",
      "text/html": [
       "<div>                            <div id=\"32b460c9-8872-4be3-bd72-233c1c2a898d\" class=\"plotly-graph-div\" style=\"height:525px; width:100%;\"></div>            <script type=\"text/javascript\">                require([\"plotly\"], function(Plotly) {                    window.PLOTLYENV=window.PLOTLYENV || {};                                    if (document.getElementById(\"32b460c9-8872-4be3-bd72-233c1c2a898d\")) {                    Plotly.newPlot(                        \"32b460c9-8872-4be3-bd72-233c1c2a898d\",                        [{\"alignmentgroup\":\"True\",\"hovertemplate\":\"x=%{x}<br>y=%{y}<extra></extra>\",\"legendgroup\":\"\",\"marker\":{\"color\":\"#636efa\",\"pattern\":{\"shape\":\"\"}},\"name\":\"\",\"offsetgroup\":\"\",\"orientation\":\"v\",\"showlegend\":false,\"textposition\":\"auto\",\"x\":[\"mRNA\",\"using\",\"women\",\"clots\",\"makes\",\"masks\",\"seems\",\"Ive\",\"app\",\"Im\",\"nodes\",\"types\",\"ones\",\"tests\",\"ive\",\"gets\",\"safer\",\"knows\",\"im\",\"rates\",\"rules\",\"means\",\"risks\",\"years\",\"kid\",\"cases\",\"eggs\",\"steps\",\"info\",\"mrna\",\"okay\",\"helps\",\"isnt\",\"weeks\",\"dna\",\"jabs\",\"vax\",\"says\",\"terms\",\"lives\",\"wants\",\"lasts\",\"gives\",\"cells\",\"ms\",\"takes\",\"wanna\",\"signs\",\"bells\",\"keeps\",\"kiil\",\"parts\",\"hasnt\",\"pigs\",\"areas\",\"gyms\",\"fda\",\"words\",\"names\",\"feet\",\"hands\",\"gonna\",\"Astra\",\"Bells\",\"vegan\",\"waht\",\"don\\u00d5t\",\"pre\",\"forms\",\"mom\",\"asked\",\"ages\",\"needa\",\"Isnt\",\"kills\",\"fewer\",\"epi\",\"tells\",\"stops\",\"meets\",\"drugs\",\"Advil\",\"rats\",\"loved\",\"hurts\",\"uses\",\"Wht\",\"shows\",\"whaf\",\"Gates\",\"costs\",\"races\",\"usa\",\"wil\",\"ideas\",\"safey\",\"kinds\",\"ends\",\"towns\",\"Vit\",\"pk\",\"tyo\",\"datye\",\"dies\",\"hang\",\"nned\",\"keys\",\"hab\",\"raine\",\"Vegan\",\"loves\",\"ZI\",\"heads\",\"sites\",\"scams\",\"sets\",\"Whe\",\"ml\",\"ir\",\"paid\",\"gaps\",\"adn\",\"meds\",\"fears\",\"thust\",\"hype\",\"harms\",\"sould\",\"filed\",\"Merck\",\"firms\",\"ts\",\"hos\",\"cared\",\"roo\",\"thnk\",\"Jews\",\"me\\u00ca\",\"hace\",\"aired\",\"Mrna\",\"users\",\"nMRA\",\"rna\",\"etc\",\"Biden\",\"lines\",\"tens\",\"aimed\",\"dea\"],\"xaxis\":\"x\",\"y\":[81,32,32,31,30,24,22,20,20,19,19,16,15,15,14,14,13,13,12,12,11,11,11,11,11,10,10,10,10,10,9,9,8,8,8,7,7,6,6,6,6,6,5,5,5,5,4,4,4,4,4,4,4,4,4,4,4,4,4,3,3,3,3,3,3,3,3,3,3,3,3,3,3,3,3,2,2,2,2,2,2,2,2,2,2,2,2,2,2,2,2,2,2,2,2,1,1,1,1,1,1,1,1,1,1,1,1,1,1,1,1,1,1,1,1,1,1,1,1,1,1,1,1,1,1,1,1,1,1,1,1,1,1,1,1,1,1,1,1,1,1,1,1,1,1,1,1,1,1,1],\"yaxis\":\"y\",\"type\":\"bar\"}],                        {\"template\":{\"data\":{\"histogram2dcontour\":[{\"type\":\"histogram2dcontour\",\"colorbar\":{\"outlinewidth\":0,\"ticks\":\"\"},\"colorscale\":[[0.0,\"#0d0887\"],[0.1111111111111111,\"#46039f\"],[0.2222222222222222,\"#7201a8\"],[0.3333333333333333,\"#9c179e\"],[0.4444444444444444,\"#bd3786\"],[0.5555555555555556,\"#d8576b\"],[0.6666666666666666,\"#ed7953\"],[0.7777777777777778,\"#fb9f3a\"],[0.8888888888888888,\"#fdca26\"],[1.0,\"#f0f921\"]]}],\"choropleth\":[{\"type\":\"choropleth\",\"colorbar\":{\"outlinewidth\":0,\"ticks\":\"\"}}],\"histogram2d\":[{\"type\":\"histogram2d\",\"colorbar\":{\"outlinewidth\":0,\"ticks\":\"\"},\"colorscale\":[[0.0,\"#0d0887\"],[0.1111111111111111,\"#46039f\"],[0.2222222222222222,\"#7201a8\"],[0.3333333333333333,\"#9c179e\"],[0.4444444444444444,\"#bd3786\"],[0.5555555555555556,\"#d8576b\"],[0.6666666666666666,\"#ed7953\"],[0.7777777777777778,\"#fb9f3a\"],[0.8888888888888888,\"#fdca26\"],[1.0,\"#f0f921\"]]}],\"heatmap\":[{\"type\":\"heatmap\",\"colorbar\":{\"outlinewidth\":0,\"ticks\":\"\"},\"colorscale\":[[0.0,\"#0d0887\"],[0.1111111111111111,\"#46039f\"],[0.2222222222222222,\"#7201a8\"],[0.3333333333333333,\"#9c179e\"],[0.4444444444444444,\"#bd3786\"],[0.5555555555555556,\"#d8576b\"],[0.6666666666666666,\"#ed7953\"],[0.7777777777777778,\"#fb9f3a\"],[0.8888888888888888,\"#fdca26\"],[1.0,\"#f0f921\"]]}],\"heatmapgl\":[{\"type\":\"heatmapgl\",\"colorbar\":{\"outlinewidth\":0,\"ticks\":\"\"},\"colorscale\":[[0.0,\"#0d0887\"],[0.1111111111111111,\"#46039f\"],[0.2222222222222222,\"#7201a8\"],[0.3333333333333333,\"#9c179e\"],[0.4444444444444444,\"#bd3786\"],[0.5555555555555556,\"#d8576b\"],[0.6666666666666666,\"#ed7953\"],[0.7777777777777778,\"#fb9f3a\"],[0.8888888888888888,\"#fdca26\"],[1.0,\"#f0f921\"]]}],\"contourcarpet\":[{\"type\":\"contourcarpet\",\"colorbar\":{\"outlinewidth\":0,\"ticks\":\"\"}}],\"contour\":[{\"type\":\"contour\",\"colorbar\":{\"outlinewidth\":0,\"ticks\":\"\"},\"colorscale\":[[0.0,\"#0d0887\"],[0.1111111111111111,\"#46039f\"],[0.2222222222222222,\"#7201a8\"],[0.3333333333333333,\"#9c179e\"],[0.4444444444444444,\"#bd3786\"],[0.5555555555555556,\"#d8576b\"],[0.6666666666666666,\"#ed7953\"],[0.7777777777777778,\"#fb9f3a\"],[0.8888888888888888,\"#fdca26\"],[1.0,\"#f0f921\"]]}],\"surface\":[{\"type\":\"surface\",\"colorbar\":{\"outlinewidth\":0,\"ticks\":\"\"},\"colorscale\":[[0.0,\"#0d0887\"],[0.1111111111111111,\"#46039f\"],[0.2222222222222222,\"#7201a8\"],[0.3333333333333333,\"#9c179e\"],[0.4444444444444444,\"#bd3786\"],[0.5555555555555556,\"#d8576b\"],[0.6666666666666666,\"#ed7953\"],[0.7777777777777778,\"#fb9f3a\"],[0.8888888888888888,\"#fdca26\"],[1.0,\"#f0f921\"]]}],\"mesh3d\":[{\"type\":\"mesh3d\",\"colorbar\":{\"outlinewidth\":0,\"ticks\":\"\"}}],\"scatter\":[{\"fillpattern\":{\"fillmode\":\"overlay\",\"size\":10,\"solidity\":0.2},\"type\":\"scatter\"}],\"parcoords\":[{\"type\":\"parcoords\",\"line\":{\"colorbar\":{\"outlinewidth\":0,\"ticks\":\"\"}}}],\"scatterpolargl\":[{\"type\":\"scatterpolargl\",\"marker\":{\"colorbar\":{\"outlinewidth\":0,\"ticks\":\"\"}}}],\"bar\":[{\"error_x\":{\"color\":\"#2a3f5f\"},\"error_y\":{\"color\":\"#2a3f5f\"},\"marker\":{\"line\":{\"color\":\"#E5ECF6\",\"width\":0.5},\"pattern\":{\"fillmode\":\"overlay\",\"size\":10,\"solidity\":0.2}},\"type\":\"bar\"}],\"scattergeo\":[{\"type\":\"scattergeo\",\"marker\":{\"colorbar\":{\"outlinewidth\":0,\"ticks\":\"\"}}}],\"scatterpolar\":[{\"type\":\"scatterpolar\",\"marker\":{\"colorbar\":{\"outlinewidth\":0,\"ticks\":\"\"}}}],\"histogram\":[{\"marker\":{\"pattern\":{\"fillmode\":\"overlay\",\"size\":10,\"solidity\":0.2}},\"type\":\"histogram\"}],\"scattergl\":[{\"type\":\"scattergl\",\"marker\":{\"colorbar\":{\"outlinewidth\":0,\"ticks\":\"\"}}}],\"scatter3d\":[{\"type\":\"scatter3d\",\"line\":{\"colorbar\":{\"outlinewidth\":0,\"ticks\":\"\"}},\"marker\":{\"colorbar\":{\"outlinewidth\":0,\"ticks\":\"\"}}}],\"scattermapbox\":[{\"type\":\"scattermapbox\",\"marker\":{\"colorbar\":{\"outlinewidth\":0,\"ticks\":\"\"}}}],\"scatterternary\":[{\"type\":\"scatterternary\",\"marker\":{\"colorbar\":{\"outlinewidth\":0,\"ticks\":\"\"}}}],\"scattercarpet\":[{\"type\":\"scattercarpet\",\"marker\":{\"colorbar\":{\"outlinewidth\":0,\"ticks\":\"\"}}}],\"carpet\":[{\"aaxis\":{\"endlinecolor\":\"#2a3f5f\",\"gridcolor\":\"white\",\"linecolor\":\"white\",\"minorgridcolor\":\"white\",\"startlinecolor\":\"#2a3f5f\"},\"baxis\":{\"endlinecolor\":\"#2a3f5f\",\"gridcolor\":\"white\",\"linecolor\":\"white\",\"minorgridcolor\":\"white\",\"startlinecolor\":\"#2a3f5f\"},\"type\":\"carpet\"}],\"table\":[{\"cells\":{\"fill\":{\"color\":\"#EBF0F8\"},\"line\":{\"color\":\"white\"}},\"header\":{\"fill\":{\"color\":\"#C8D4E3\"},\"line\":{\"color\":\"white\"}},\"type\":\"table\"}],\"barpolar\":[{\"marker\":{\"line\":{\"color\":\"#E5ECF6\",\"width\":0.5},\"pattern\":{\"fillmode\":\"overlay\",\"size\":10,\"solidity\":0.2}},\"type\":\"barpolar\"}],\"pie\":[{\"automargin\":true,\"type\":\"pie\"}]},\"layout\":{\"autotypenumbers\":\"strict\",\"colorway\":[\"#636efa\",\"#EF553B\",\"#00cc96\",\"#ab63fa\",\"#FFA15A\",\"#19d3f3\",\"#FF6692\",\"#B6E880\",\"#FF97FF\",\"#FECB52\"],\"font\":{\"color\":\"#2a3f5f\"},\"hovermode\":\"closest\",\"hoverlabel\":{\"align\":\"left\"},\"paper_bgcolor\":\"white\",\"plot_bgcolor\":\"#E5ECF6\",\"polar\":{\"bgcolor\":\"#E5ECF6\",\"angularaxis\":{\"gridcolor\":\"white\",\"linecolor\":\"white\",\"ticks\":\"\"},\"radialaxis\":{\"gridcolor\":\"white\",\"linecolor\":\"white\",\"ticks\":\"\"}},\"ternary\":{\"bgcolor\":\"#E5ECF6\",\"aaxis\":{\"gridcolor\":\"white\",\"linecolor\":\"white\",\"ticks\":\"\"},\"baxis\":{\"gridcolor\":\"white\",\"linecolor\":\"white\",\"ticks\":\"\"},\"caxis\":{\"gridcolor\":\"white\",\"linecolor\":\"white\",\"ticks\":\"\"}},\"coloraxis\":{\"colorbar\":{\"outlinewidth\":0,\"ticks\":\"\"}},\"colorscale\":{\"sequential\":[[0.0,\"#0d0887\"],[0.1111111111111111,\"#46039f\"],[0.2222222222222222,\"#7201a8\"],[0.3333333333333333,\"#9c179e\"],[0.4444444444444444,\"#bd3786\"],[0.5555555555555556,\"#d8576b\"],[0.6666666666666666,\"#ed7953\"],[0.7777777777777778,\"#fb9f3a\"],[0.8888888888888888,\"#fdca26\"],[1.0,\"#f0f921\"]],\"sequentialminus\":[[0.0,\"#0d0887\"],[0.1111111111111111,\"#46039f\"],[0.2222222222222222,\"#7201a8\"],[0.3333333333333333,\"#9c179e\"],[0.4444444444444444,\"#bd3786\"],[0.5555555555555556,\"#d8576b\"],[0.6666666666666666,\"#ed7953\"],[0.7777777777777778,\"#fb9f3a\"],[0.8888888888888888,\"#fdca26\"],[1.0,\"#f0f921\"]],\"diverging\":[[0,\"#8e0152\"],[0.1,\"#c51b7d\"],[0.2,\"#de77ae\"],[0.3,\"#f1b6da\"],[0.4,\"#fde0ef\"],[0.5,\"#f7f7f7\"],[0.6,\"#e6f5d0\"],[0.7,\"#b8e186\"],[0.8,\"#7fbc41\"],[0.9,\"#4d9221\"],[1,\"#276419\"]]},\"xaxis\":{\"gridcolor\":\"white\",\"linecolor\":\"white\",\"ticks\":\"\",\"title\":{\"standoff\":15},\"zerolinecolor\":\"white\",\"automargin\":true,\"zerolinewidth\":2},\"yaxis\":{\"gridcolor\":\"white\",\"linecolor\":\"white\",\"ticks\":\"\",\"title\":{\"standoff\":15},\"zerolinecolor\":\"white\",\"automargin\":true,\"zerolinewidth\":2},\"scene\":{\"xaxis\":{\"backgroundcolor\":\"#E5ECF6\",\"gridcolor\":\"white\",\"linecolor\":\"white\",\"showbackground\":true,\"ticks\":\"\",\"zerolinecolor\":\"white\",\"gridwidth\":2},\"yaxis\":{\"backgroundcolor\":\"#E5ECF6\",\"gridcolor\":\"white\",\"linecolor\":\"white\",\"showbackground\":true,\"ticks\":\"\",\"zerolinecolor\":\"white\",\"gridwidth\":2},\"zaxis\":{\"backgroundcolor\":\"#E5ECF6\",\"gridcolor\":\"white\",\"linecolor\":\"white\",\"showbackground\":true,\"ticks\":\"\",\"zerolinecolor\":\"white\",\"gridwidth\":2}},\"shapedefaults\":{\"line\":{\"color\":\"#2a3f5f\"}},\"annotationdefaults\":{\"arrowcolor\":\"#2a3f5f\",\"arrowhead\":0,\"arrowwidth\":1},\"geo\":{\"bgcolor\":\"white\",\"landcolor\":\"#E5ECF6\",\"subunitcolor\":\"white\",\"showland\":true,\"showlakes\":true,\"lakecolor\":\"white\"},\"title\":{\"x\":0.05},\"mapbox\":{\"style\":\"light\"}}},\"xaxis\":{\"anchor\":\"y\",\"domain\":[0.0,1.0],\"title\":{\"text\":\"x\"}},\"yaxis\":{\"anchor\":\"x\",\"domain\":[0.0,1.0],\"title\":{\"text\":\"y\"}},\"legend\":{\"tracegroupgap\":0},\"margin\":{\"t\":60},\"barmode\":\"relative\"},                        {\"responsive\": true}                    ).then(function(){\n",
       "                            \n",
       "var gd = document.getElementById('32b460c9-8872-4be3-bd72-233c1c2a898d');\n",
       "var x = new MutationObserver(function (mutations, observer) {{\n",
       "        var display = window.getComputedStyle(gd).display;\n",
       "        if (!display || display === 'none') {{\n",
       "            console.log([gd, 'removed!']);\n",
       "            Plotly.purge(gd);\n",
       "            observer.disconnect();\n",
       "        }}\n",
       "}});\n",
       "\n",
       "// Listen for the removal of the full notebook cells\n",
       "var notebookContainer = gd.closest('#notebook-container');\n",
       "if (notebookContainer) {{\n",
       "    x.observe(notebookContainer, {childList: true});\n",
       "}}\n",
       "\n",
       "// Listen for the clearing of the current output cell\n",
       "var outputEl = gd.closest('.output');\n",
       "if (outputEl) {{\n",
       "    x.observe(outputEl, {childList: true});\n",
       "}}\n",
       "\n",
       "                        })                };                });            </script>        </div>"
      ]
     },
     "metadata": {},
     "output_type": "display_data"
    }
   ],
   "source": [
    "X=[l[0] for l in non_eng_words.most_common(150)]\n",
    "Y=[l[1] for l in non_eng_words.most_common(150)]\n",
    "px.bar( x=X, y=Y)"
   ]
  },
  {
   "cell_type": "code",
   "execution_count": null,
   "id": "9522cf6d-6b0e-4202-b842-af896a348039",
   "metadata": {},
   "outputs": [],
   "source": []
  },
  {
   "cell_type": "code",
   "execution_count": null,
   "id": "626d1218-6374-4abf-8311-1c4f7afdb204",
   "metadata": {},
   "outputs": [],
   "source": []
  },
  {
   "cell_type": "code",
   "execution_count": null,
   "id": "906d2039-d4ab-4b84-bae3-0361384cdc19",
   "metadata": {},
   "outputs": [],
   "source": []
  },
  {
   "cell_type": "markdown",
   "id": "2ad1bcee-cab6-42ed-b9ff-b34b8c953be5",
   "metadata": {
    "tags": []
   },
   "source": [
    "# 2. Handling Apostophe"
   ]
  },
  {
   "cell_type": "code",
   "execution_count": 8,
   "id": "879324cd-49a2-434a-8985-58b01bc83b09",
   "metadata": {},
   "outputs": [],
   "source": [
    "number_sent_apostophe=len([x for x in sentences if \"'\" in x])"
   ]
  },
  {
   "cell_type": "code",
   "execution_count": 9,
   "id": "5b8b8eee-f9ab-47dc-95ca-3e64090eae01",
   "metadata": {},
   "outputs": [
    {
     "name": "stdout",
     "output_type": "stream",
     "text": [
      "Percentage of sentences with apostophe is:  16.710642040457344 %\n"
     ]
    }
   ],
   "source": [
    "print(\"Percentage of sentences with apostophe is: \",number_sent_apostophe/len(sentences)*100,\"%\")"
   ]
  },
  {
   "cell_type": "code",
   "execution_count": 10,
   "id": "14f4532e-723e-424f-9c96-64992afd4e09",
   "metadata": {},
   "outputs": [],
   "source": [
    "# Converting the words having apostophe into their root form\n",
    "def decontracted(phrase):\n",
    "    # specific\n",
    "    phrase = re.sub(r\"won\\'t\", \"will not\", phrase)\n",
    "    phrase = re.sub(r\"can\\'t\", \"can not\", phrase)\n",
    "    phrase = re.sub(r\"there\\'s\", \"there is\", phrase)\n",
    "    phrase = re.sub(r\"it\\'s\", \"it is\", phrase)\n",
    "    phrase = re.sub(r\"he\\'s\", \"he is\", phrase)\n",
    "    phrase = re.sub(r\"she\\'s\", \"she is\", phrase)\n",
    "    phrase = re.sub(r\"how\\'s\", \"how is\", phrase)\n",
    "    phrase = re.sub(r\"let\\'s\", \"let is\", phrase)\n",
    "    phrase = re.sub(r\"so\\'s\", \"so is\", phrase)\n",
    "    phrase = re.sub(r\"what\\'s\", \"what is\", phrase)\n",
    "    phrase = re.sub(r\"when\\'s\", \"when is\", phrase)\n",
    "    phrase = re.sub(r\"where\\'s\", \"where is\", phrase)\n",
    "    phrase = re.sub(r\"why\\'s\", \"why is\", phrase)\n",
    "  \n",
    "    # general\n",
    "    phrase = re.sub(r\"n\\'t\", \" not\", phrase)\n",
    "    phrase = re.sub(r\"\\'re\", \" are\", phrase)\n",
    "    phrase = re.sub(r\"\\'d\", \" would\", phrase)\n",
    "    phrase = re.sub(r\"\\'ll\", \" will\", phrase)\n",
    "    phrase = re.sub(r\"\\'t\", \" not\", phrase)\n",
    "    phrase = re.sub(r\"\\'ve\", \" have\", phrase)\n",
    "    phrase = re.sub(r\"\\'m\", \" am\", phrase)\n",
    "    return phrase"
   ]
  },
  {
   "cell_type": "code",
   "execution_count": 11,
   "id": "41dcbea6-933f-45fb-9688-3126b96c75b0",
   "metadata": {
    "scrolled": true,
    "tags": []
   },
   "outputs": [
    {
     "data": {
      "text/plain": [
       "[\"People are going bankrupt over medical debt. $12k a year minus the VAT won't put a dent in that. Let'… https://t.co/i31T5Kg5LE\",\n",
       " \"There's a new drug in town and you won't want to miss its catastrophic effects on tonight's all-new NCIS: Los Angeles. Stream i…\",\n",
       " '\"Let me tell you something good... Beel won\\'t destroy the human world, Do you know why? It\\'s because I\\'m his parent… https://t.co/H5iBsk2BxX',\n",
       " \"Translation: we have a climate policy but that won't stop us from investing in things that destroy the climate, because maki…\",\n",
       " \"So long as I keep moving, play loud music to drown him, play videogames or watch TV shows or movies, I won't have t… https://t.co/fJpK9wA2W6\",\n",
       " \"Why won't my blue_aura_Explosion spawn!?!?!? Because the naming convention is aura_blue_Explosion ... #indiedev https:…\",\n",
       " \"The story that won't die. 2 more dogs. Cane Corsos. https://t.co/7oQxpwqIKh\",\n",
       " \"despite immature fans wanting him gone, I don't have the fear that jongdae will leave bc I know exo won't LET him leav…\",\n",
       " \"Too naive. They won't listen. 1989 Tiananmen Massacre has passed Over 30 years. They still choose not to apolo… https://t.co/nuJl2ppdLt\",\n",
       " \"So today because of relationship palava, I almost had a panic attack😥...are you sure I won't go back to my ashawo ways like…\",\n",
       " \"That won't be drastic enough, the WH must be razed.\",\n",
       " \"the actual reason he won't have a problem is that he offers a structural critique the same way trump does, except his actu…\",\n",
       " 'Pelosi said today: Trump won\\'t be President next year \"one way or another !! Sounds like a threat to me !! News for her sh…',\n",
       " \"It seems a thunderstorm is heading our way. Better retreat to a cave. A tent won't stand a chance.\",\n",
       " \"Well if the Tory's carry on destroying the education system there won't be any teachers left! 'Schools should brac… https://t.co/gPQH8vqYqv\",\n",
       " \"#Gotham isn't being continued as a Batman show right now, but that doesn't mean it won't be in the future. The upheaval…\",\n",
       " \"Another so called protection for older workers that won't be worth a fart i… https://t.co/lu7crFlg7h\",\n",
       " \"There won't be much of a break across the southern U.K. as another storm system will race into the region on Tuesday. This…\",\n",
       " \"There won't be much of a break across the southern U.K. as another storm system will race into the region on Tuesda… https://t.co/Mbr5gVIV59\",\n",
       " \"https://t.co/7B2QK2oIpV the wreckage of my past keeps haunting me, it just won't leave me alone, I still I find it… https://t.co/tXEBXTJC0c\"]"
      ]
     },
     "execution_count": 11,
     "metadata": {},
     "output_type": "execute_result"
    }
   ],
   "source": [
    "[x for x in sentences if \"won't\" in x]"
   ]
  },
  {
   "cell_type": "code",
   "execution_count": 12,
   "id": "e8b80781-fbae-4389-90b7-bbfd4767788a",
   "metadata": {},
   "outputs": [],
   "source": [
    "sentences=[decontracted(x) for x in sentences]"
   ]
  },
  {
   "cell_type": "code",
   "execution_count": 13,
   "id": "8c3fe6ad-31a1-46a5-aaf4-7f29a8fb6c67",
   "metadata": {
    "tags": []
   },
   "outputs": [
    {
     "data": {
      "text/plain": [
       "[]"
      ]
     },
     "execution_count": 13,
     "metadata": {},
     "output_type": "execute_result"
    }
   ],
   "source": [
    "[x for x in sentences if \"won't\" in x]"
   ]
  },
  {
   "cell_type": "code",
   "execution_count": 14,
   "id": "3c7f59e5-8c51-4382-a87d-311edde6e448",
   "metadata": {},
   "outputs": [],
   "source": [
    "number_sent_apostophe=len([x for x in sentences if \"'\" in x])"
   ]
  },
  {
   "cell_type": "code",
   "execution_count": 15,
   "id": "4906dc10-061a-43b7-be1a-996dc6f56355",
   "metadata": {},
   "outputs": [
    {
     "name": "stdout",
     "output_type": "stream",
     "text": [
      "Percentage of sentences with apostophe is:  8.988566402814424 %\n"
     ]
    }
   ],
   "source": [
    "print(\"Percentage of sentences with apostophe is: \",number_sent_apostophe/len(sentences)*100,\"%\")"
   ]
  },
  {
   "cell_type": "code",
   "execution_count": 16,
   "id": "0b2bcb60-2de3-48c6-8042-95943ccfa08a",
   "metadata": {},
   "outputs": [],
   "source": [
    "data['text'] =sentences"
   ]
  },
  {
   "cell_type": "markdown",
   "id": "9a25790c-bead-4109-9ef1-75bdb5e87992",
   "metadata": {},
   "source": [
    "# 3. Mentions and Hashtags"
   ]
  },
  {
   "cell_type": "code",
   "execution_count": null,
   "id": "e514576b-9d4c-4b5d-b881-c1cbb3738224",
   "metadata": {},
   "outputs": [],
   "source": [
    "# Remove mentions -> they don't tell emotions\n",
    "# Seperate hashtags "
   ]
  },
  {
   "cell_type": "markdown",
   "id": "bcc92532-e9ca-443d-a0be-210ab1b7b2c1",
   "metadata": {},
   "source": [
    "# 4. Lowercasing the sentences"
   ]
  },
  {
   "cell_type": "code",
   "execution_count": null,
   "id": "0acac313-9019-4d43-8ec5-4ac6c5dbebbd",
   "metadata": {},
   "outputs": [],
   "source": [
    "df['Tweet'] = df['Tweet'].str.lower()\n"
   ]
  },
  {
   "cell_type": "markdown",
   "id": "5f3aeaeb-efdf-4631-9914-e06fc17bfa8b",
   "metadata": {},
   "source": [
    "# 5. Punctuations can be important"
   ]
  },
  {
   "cell_type": "code",
   "execution_count": null,
   "id": "8682e342-35c5-4640-a02e-aab16ad40080",
   "metadata": {},
   "outputs": [],
   "source": [
    "## Emotions out of punctuations"
   ]
  },
  {
   "cell_type": "markdown",
   "id": "ce521d2c-a2d1-4677-a8b9-0a92af30c4bd",
   "metadata": {},
   "source": [
    "# 6. Numerics can be important"
   ]
  },
  {
   "cell_type": "markdown",
   "id": "fb291c08-46cb-4ce4-b88f-418a7594670c",
   "metadata": {},
   "source": [
    "# 7. Removal of emojis here "
   ]
  },
  {
   "cell_type": "code",
   "execution_count": null,
   "id": "0f074bde-8650-42e7-93a3-907eb6c1c3a4",
   "metadata": {},
   "outputs": [],
   "source": [
    "# 18 sept: peer feedback & ppt\n",
    "# Need to update notion ASAP\n",
    "\n",
    "# By 14th sept and mention in the ppt (we need to showcase the results as well)\n",
    "# 1. Dataset ready ✅\n",
    "# 2. faq ready ✅\n",
    "# 3. Disaster Classification ready ⏰\n",
    "# 4. Data cleaned ⏰\n",
    "# 5. Finalised LLM open source ⏰\n",
    "# 6. Comparison metrics ready: Falcon v/s Flan T5 ⏰"
   ]
  },
  {
   "cell_type": "code",
   "execution_count": 77,
   "id": "cf05d6f4-becc-4a28-9cba-667ac7dc479c",
   "metadata": {},
   "outputs": [
    {
     "data": {
      "text/plain": [
       "0         If you do decide to drive in for #ColdplayHous...\n",
       "1         As Hurricane Harvey is fast approaching, now i...\n",
       "2         Is @JerryJordan_KTT providing live #HurricaneH...\n",
       "3             I'm waiting for a Steve Harvey Hurricane meme\n",
       "4         The name of the hurricane is Harvey ... Steve ...\n",
       "                                ...                        \n",
       "399401    Lawyers wanting to provide pro bono help in th...\n",
       "399402    Hurricane Harvey: Alabamas largest church alr...\n",
       "399403    Hurricane Harvey pressures already tight Houst...\n",
       "399404    Our thoughts are with our neighbors in the Sou...\n",
       "399405    Marylanders head to Texas to assist with Hurri...\n",
       "Name: Tweet, Length: 398916, dtype: object"
      ]
     },
     "execution_count": 77,
     "metadata": {},
     "output_type": "execute_result"
    }
   ],
   "source": [
    "df.Tweet"
   ]
  },
  {
   "cell_type": "code",
   "execution_count": 79,
   "id": "e170da3b-6bf7-4eba-b8ec-0eda57747f9f",
   "metadata": {},
   "outputs": [],
   "source": [
    "def extract_words_after_special_chars(text):\n",
    "    # Use regex to find words following special characters\n",
    "    matches = re.findall(r'[!@#$%^&*():;,.<>?/\\|{}=_+-]', text)\n",
    "    \n",
    "    # Filter out empty strings and remove special characters\n",
    "    words = [word.strip('!@#$%^&*():;,.<>?/\\|{}=_+-') for word in matches]\n",
    "    \n",
    "    return words\n",
    "\n",
    "# Apply the function to the DataFrame column\n",
    "df['words_after_special_chars'] = df['Tweet'].apply(extract_words_after_special_chars)\n"
   ]
  },
  {
   "cell_type": "code",
   "execution_count": null,
   "id": "4b230010-e132-479f-a287-81c2b0cc0ad2",
   "metadata": {},
   "outputs": [],
   "source": []
  },
  {
   "cell_type": "code",
   "execution_count": 12,
   "id": "3d6cb31c-170a-4633-b671-f97a56736555",
   "metadata": {},
   "outputs": [
    {
     "data": {
      "text/plain": [
       "['If you do decide to drive in for #ColdplayHouston be prepared to stay because there might not be gas to get you home. #HurricaneHarvey',\n",
       " 'As Hurricane Harvey is fast approaching, now is the time to do what you can to prepare your property to minimize... http://fb.me/8TrKU8IqR\\xa0',\n",
       " 'Is @JerryJordan_KTT providing live #HurricaneHarvey coverage for @KicknTheTires ?\\r\\n\\r\\n#askingforafriend',\n",
       " \"I'm waiting for a Steve Harvey Hurricane meme\",\n",
       " 'The name of the hurricane is Harvey ... Steve Harvey',\n",
       " \"@realDonaldTrump is a shitshow when nothing's going on.\\r\\n\\r\\nAaaaand here comes #HurricaneHarvey\\r\\n\\r\\nBest of luck, Gulf Coast\\r\\n\\r\\n#shitshow\",\n",
       " \"If you're able, give blood at @RedCross.  Donate, blood, time, money, skills.  Hurricane Harvey is a bad one.  #unite #help #serve\",\n",
       " 'Summary for Hurricane Harvey (AT4/AL092017) http://fb.me/16OrHtjha\\xa0',\n",
       " \"NASA: RT ESA_EO: Just in! #Sentinel3 measures #HurricaneHarvey's temperature as the #storm quickly approaches the ? https://twitter.com/i/web/status/901084737049169920\\xa0?\",\n",
       " '?Life-threatening? Hurricane Harvey heads toward Texas coast\\r\\nhttp://trib.al/cgJGP3O\\xa0pic.twitter.com/8R18AJKuYf',\n",
       " 'Daddy, please get out of the way of #HurricaneHarvey I need you safe!!',\n",
       " \"Everyone, please pray for Texas. Hurricane Harvey is nearly a category 3 storm, and it's going to hover there for at least three days!\",\n",
       " 'Hurricane Harvey Response Live Updates | AT&T http://about.att.com/inside_connections_blog/hurricane_harvey\\xa0?',\n",
       " \"Hi Maria, Will Bush Airport & Hobby Expect a SuperStorm Sandy's Storm Surge with Hurricane Harvey ? pic.twitter.com/t8oVNqDxkp\",\n",
       " 'Praying for Corpus Christi & Houston ! #HurricaneHarvey',\n",
       " \"For all of you in #HurricaneHarvey territory I hope you find a way to stay safe! I'll keep you all in my thoughts.\",\n",
       " \"Okay, I'll say it out loud, Donald Trump better not go golfing this weekend as the people in Texas face #HurricaneHarvey.\",\n",
       " 'Amazing satellite video of Hurricane Harvey bearing down full bore on Corpus Christi https://twitter.com/NWSPhoenix/status/901090534730739713\\xa0?',\n",
       " 'The Gulf of Mexico is full of warmer water, which intensifies the strength of #HurricaneHarvey as it reaches TX. This is #climatechange.',\n",
       " 'Fire chief: Hurricane Harvey not expected to be a threat to Laredo, Webb County   http://www.lmtonline.com/local/article/Fire-chief-Hurricane-Harvey-not-expected-to-be-a-11956357.php\\xa0?',\n",
       " 'To everyone in Texas...Please get to safety and if your staying put, get to safety  #HurricaneHarvey',\n",
       " \"http://ift.tt/2xjpUVd\\xa0 #TenStories: Texans evacuate as Hurricane Harvey threatens 'life-threatening' flooding; Ousted Thai prime minister?\",\n",
       " \"Texas in direct path of suddenly intensifying, 'astounding' Hurricane Harvey http://nationalpost.com/wcm/90acd794-4\\xa0?pic.twitter.com/shd9sHvVfT\",\n",
       " 'Texans Told to Evacuate Ahead of Hurricane Harvey as Massive Storm Approaches: ?Don?t Take Any Chances? http://peoplem.ag/ioxtiVv\\xa0',\n",
       " 'Going to Missouri next, & is that Harvey Hurricane going to hit Missouri?',\n",
       " 'We?re live with CNNValencia in Corpus Christi as Hurricane Harvey bears down on Texas. \\r\\n\\r\\nWatch live on Facebook:? https://twitter.com/i/web/status/901092172484812800\\xa0?',\n",
       " 'Hurricane Harvey dumbass bet not curve ',\n",
       " 'New story on NPR: Harvey Nears Major Hurricane Status As It Closes In On Texas Coast http://ift.tt/2wEiChQ\\xa0',\n",
       " \"Hurricane Harvey could devastate parts of Texas ? here's what you need to know http://ift.tt/2w1A1zi\\xa0\",\n",
       " 'Keeping everyone on the coast in mind and praying for my new state of Texas as #HurricaneHarvey heads our way. Stay safe everyone!',\n",
       " 'Praying for Texas  #HurricaneHarvey',\n",
       " 'Our thoughts are with those in the path of #HurricaneHarvey. Stay safe! https://twitter.com/ABC/status/901046955568238592\\xa0?',\n",
       " 'I liked a @YouTube video http://youtu.be/hRMJTzGTfF4?a\\xa0 Hurricane Harvey, poised to hit Texas, is not your average storm',\n",
       " 'Harvey Nears Major Hurricane Status As It Closes In On Texas Coast http://ift.tt/2wEiChQ\\xa0 #News #Popular',\n",
       " 'Traders are betting that Hurricane Harvey will curb the use of power as evacuations begin https://bloom.bg/2wMN20L\\xa0pic.twitter.com/dIzHXViGku',\n",
       " \"Hurricane Harvey could devastate parts of Texas ? here's what you need to know http://ift.tt/2w1A1zi\\xa0 #ROIMentor\",\n",
       " \"Cloud and rain bands from Hurricane Harvey near Houston just a bit ago. It's only going to get worse @spannpic.twitter.com/yvSriIvSYW\",\n",
       " 'On the bright side of #HurricaneHarvey this is my breakfast in #Austin #keepitweird #evacuated? https://www.instagram.com/p/BYOHex6B4CP/\\xa0',\n",
       " \"Hurricane Harvey wrecks ORU women's soccer plans at Sam Houston State. Game canceled. pic.twitter.com/CCfxqQlI4A\",\n",
       " 'Now it\\'s gonna be easier to explain where I\\'m from \\r\\n\\r\\n\"Where are ya from?\"\\r\\n\\r\\n\"Corpus Christi, TX\"\\r\\n\\r\\n\"Where?\"\\r\\n\\r\\n\"The city Hurricane Harvey hit\"',\n",
       " 'As Hurricane Harvey heads our way, please be safe out there. https://www.dps.texas.gov/dem/ThreatAwareness/hurricaneAwareness.htm\\xa0?',\n",
       " 'Thanks hurricane Harvey for ruining my plans. ',\n",
       " 'BBCWorld : An aerial view of Corpus Christi in Texas as the US braces itself for Hurricane Harvey ? https://twitter.com/BBCWorld/status/901092181435219970\\xa0?)pic.twitter.com/REol7G1pml',\n",
       " 'Live stream: Hurricane Harvey roars toward the Texas coast pic.twitter.com/boS8cbXFnu',\n",
       " 'The @fema page specific to #HurricaneHarvey can be found at https://www.fema.gov/hurricane-harvey\\xa0?',\n",
       " 'CNN> Hurricane Harvey: Gas prices will spike as refineries shut down: Gas prices are going? https://goo.gl/fb/HHAp82\\xa0',\n",
       " \"Hurricane Harvey - GOD Bless everyone in Mexico & U.S. in its path!...Perhaps this is also God's opinion about the border wall!?\",\n",
       " 'Just In>> \"\\r\\nFinal preparations as Hurricane Harvey approaches Texas\\r\\n      \" \\r\\nhttp://ift.tt/2wuoFVS\\xa0',\n",
       " 'Pending Hurricane Harvey recalls 2001 Tropical Storm Allison disaster, including historic Orion tank fire - https://goo.gl/r8sdLp\\xa0',\n",
       " 'Border Patrol says Texas checkpoints to remain open during Hurricane Harvey https://www.texastribune.org/2017/08/24/border-patrol-texas-checkpoints-remain-open-hurricane-harvey/?utm_campaign=trib-social-buttons&utm_source=twitter&utm_medium=social\\xa0? via @TexasTribune',\n",
       " 'CNN : We?re live with CNNValencia in Corpus Christi as Hurricane Harvey bears down on Texas. \\r\\n\\r\\nWatch live on Faceb? https://twitter.com/CNN/status/901092172484812800\\xa0?)pic.twitter.com/awiWzF4eRX',\n",
       " \"Why Harvey's Death and Destruction went Unexpected?  Despite, this ISNT a normal Hurricane, this will, dump two feet of rain, have Hurricane\",\n",
       " 'Update Hurricane Harvey. #txwxhttps://www.pscp.tv/w/bG7d2DY2MjY0MXwxZGpHWEx2UmxZTkdaPG9Qb2NH7xNS6kN9KWhe1aQg2CVXt6nnHSxXEFU2fJo=\\xa0?',\n",
       " 'I?d be shocked if #Harvey isn?t a Category 3 hurricane in the 11A EDT advisory from the @NHC_Atlantic. Looks bad for Texas.',\n",
       " 'We?re live with CNNValencia in Corpus Christi as Hurricane Harvey bears down on Texas. \\r\\n\\r\\nWatch live on Facebook:? https://twitter.com/i/web/status/901092172484812800\\xa0?',\n",
       " 'Viral NPR published Stories @ Harvey Nears Major Hurricane Status As It Closes In On Texas Coast http://ift.tt/2wEiChQ\\xa0',\n",
       " 'Texas Border Patrol checkpoints will stay open during Hurricane Harvey http://ift.tt/2w4hN0q\\xa0',\n",
       " 'In preporation for #HurricaneHarvey I will #donate for each purchase of this image to @Redcrosshttps://fineartamerica.com/featured/when-chaos-hits-candice-milnikel-stude.html\\xa0?',\n",
       " 'Hurricane Harvey continues to approach Texas coastline http://www.kristv.com/story/36214624/hurricane-harvey-continues-to-approach-texas-coastline\\xa0?',\n",
       " '.@CVSHealth?s Employee Relief Fund is prepared to support our colleagues in the affected areas #HurricaneHarvey https://cvs.co/2wMt71J\\xa0',\n",
       " 'Hurricane Harvey hittin Texas, MAYBE THE LEON VALLEY RIVER WILL HAVE WATER IN IT NOW HUH',\n",
       " 'Texas residents brace for Hurricane Harvey http://ift.tt/2xySVvu\\xa0',\n",
       " \"So what's the impact on #cotton if it's baled and sitting in water? Is the gin on the hook for it if it's in their yard? #HurricaneHarvey\",\n",
       " \"Fellas is it gay to get hit by a hurricane? Especially if it's named Harvey.\",\n",
       " 'jaimeotero_: Traders are betting that Hurricane Harvey will curb the use of power as evacuations begin https://bloom.bg/2wMN20L\\xa0 ?',\n",
       " 'Thoughts and prayers to everyone in the path of the hurricane.\\r\\n\\r\\n#HurricaneHarvey ',\n",
       " 'Harvey Hurricane is no excuse for Bill Miller? Bet.',\n",
       " '@POTUS plz take note, deadly #HurricaneHarvey is barreling down on #Texas R U ready? Do u care? No one cares about ur petty obsessions',\n",
       " 'White House readies for test of Hurricane Harvey http://bit.ly/2gcn7ZS\\xa0',\n",
       " \"Part of me hopes Hurricane Harvey is being exaggerated, because it sounds terrifying. Take it seriously, if you're in the path, and be safe.\",\n",
       " \"Hurricane Harvey is poised to hit Texas today, and it's not your average storm http://flip.it/bHfwSE\\xa0 via @flipboard\",\n",
       " \"I'm more worried abt Paul Adams doing something stupid than I am abt this storm #hurricaneharvey\",\n",
       " 'Warmer waters are fueling Hurricane Harvey?s power ? ThinkProgress https://thinkprogress.org/warmer-waters-fueling-hurricane-harvey-80c10a5e5c3a/amp/\\xa0?',\n",
       " 'This #HurricaneHarvey warning just served as a throwback to my days living in rainy Florida https://twitter.com/FBCSO/status/900793654192869376\\xa0?',\n",
       " 'Is Hurricane Harvey racist?\\r\\nHard to tell, anymore',\n",
       " \"Got to see the eye of an eclipse this week and now ready for the totality of #HurricaneHarvey or...it's been a long week.\",\n",
       " 'Very scary #HurricaneHarvey pic.twitter.com/1QqfWwZmOw',\n",
       " \"USA: fill gas tanks be4 refineries shut in Texas. Good thoughts that way for all near Hurricane Harvey. #HurricaneHarvey don't mess w/Texas.\",\n",
       " \"I'm sure @Acosta will find a way to blame Hurricane Harvey on POTUS & just FYI local news has more credibility than CNN. #CNNsuckshttps://twitter.com/sean_spicier/status/901069132413775873\\xa0?\",\n",
       " 'Hurricane Harvey better not fuck up my house ima fight',\n",
       " 'Perfect timing from @tedcruz.....lets build a wall, kill healthcare in middle of #HurricaneHarvey',\n",
       " 'At home BORED cause of Hurricane Harvey coming in & work closing early,',\n",
       " 'Hurricane Harvey spooks energy sector https://seekingalpha.com/news/3291739-hurricane-harvey-spooks-energy-sector?source=tweet\\xa0? $USO $OIL $UWT $UCO',\n",
       " \"Texas Guard Mobilizes Ahead of Hurricane Harvey's\\xa0Landfall https://dailydefensenews.wordpress.com/2017/08/25/texas-guard-mobilizes-ahead-of-hurricane-harveys-landfall/\\xa0?\",\n",
       " 'Hurricane Harvey gains momentum as it nears the Texas coast http://owl.li/T3so30eG0oh\\xa0 @MorningsMaria @FoxBusiness',\n",
       " 'Apparently learning from mistakes is not a thing at @CNN... #HurricaneHarvey https://twitter.com/climatebrad/status/901081957928386560\\xa0?',\n",
       " 'Hoping everyone on the #gulfcoast is ready for #HurricaneHarvey.',\n",
       " '@3LAU please update the status of your Houston show ASAP. #HurricaneHarvey #stereolive',\n",
       " 'Stay safe. #HurricaneHarvey pic.twitter.com/8ksQbOpCzG',\n",
       " '15 trillion gallons of water from Hurricane #Harvey could fill 177,000 Rose Bowls or 22 million Olympic-size pools. https://usat.ly/2xwJblj\\xa0pic.twitter.com/cnPjiIvr1f',\n",
       " 'Texans brace for \"life-threatening\" Hurricane #Harvey to hit Friday. http://www.huffingtonpost.com/entry/hurricane-harvey-texas-warning_us_599f1a22e4b05710aa5ac63e?ncid=engmodushpmg00000004\\xa0? via @HuffPostGreen',\n",
       " 'Hurricane Harvey Highlights Importance of Disaster Preparations for Businesses: Hurricane Harvey is bringing d.. http://dld.bz/gbEjY\\xa0',\n",
       " 'Better fill up your vehicles! #HurricaneHarvey expected to boost gas prices across the US http://bit.ly/2ivDm58\\xa0pic.twitter.com/tUjbCktHuJ',\n",
       " 'Are you tech ready for a hurricane?  http://www.ready.gov/get-tech-ready\\xa0 #HurricanePrep #HurricaneStrong #Harvey pic.twitter.com/YWIqhjA1VS',\n",
       " '#HurricaneHarvey Updates: http://www.cnn.com/2017/08/25/us/hurricane-harvey-latest/index.html\\xa0? Stay Safe and heed evacuation orders.',\n",
       " '#HurricaneHarvey\\r\\n#UTSA \\r\\nContinue to monitor the weather and conditions on campus by way of https://www.utsa.edu/today/2017/08/story/Harveyupdate1.html\\xa0?',\n",
       " \"Hurricane #Harvey is threatening the #Texas Gulf Coast. If you're in its path, follow these tips to stay safe: http://spr.ly/60148xsok\\xa0.pic.twitter.com/4Z4TQ3f9zF\",\n",
       " 'United airlines not refunding Houston flights for tomorrow #united #HurricaneHarvey',\n",
       " 'Hurricane Harvey forms in gulf, forecast to slam east Texas as major storm - http://klou.tt/6bx5aha1axj4\\xa0',\n",
       " '.@Jeff_Piotrowski on #Periscope: Update Hurricane Harvey. #txwxhttps://www.pscp.tv/w/bG7d4DI2MjAzODF8MWRqR1hMdlJsWU5HWpnMaAlz7u3_Qg5cgJF2YoylVhxH0GakZkMHi89kBvOg\\xa0?',\n",
       " '@realDonaldTrump tweets \"Don\\'t believe the fake news\" hours before hurricane Harvey hits proving the only person he\\'s thinking about is him!',\n",
       " 'Just how much rain is coming from Hurricane Harvey? Forecasters forced to add new color to measure it all http://toplocalnow.com/us/baton-rouge/at/9#t7222472\\xa0?',\n",
       " 'Live: Oil prices jump as Hurricane Harvey moves toward US coastline http://bit.ly/2vnqP5K\\xa0 #News via @IBNMoney_com #USA',\n",
       " 'RT people \"Texans Told to Evacuate Ahead of Hurricane Harvey as Massive Storm Approaches: ?Don?t Take Any Chances? http://peoplem.ag/ioxtiVv\\xa0\"',\n",
       " 'Could #DebbieWassermanSchultz seem any more defensive about #ImranAwan?\\r\\n#AwanBrothers\\r\\n#FridayFeeling\\r\\n#FlashbackFriday\\r\\n#HurricaneHarvey pic.twitter.com/3mbGtgqTuM',\n",
       " 'Dire outlook from the @NWSNHC: #HurricaneHarvey could leave scores of residents without a home for weeks or months! Via @CNNhttps://twitter.com/CNN/status/901078004847321088\\xa0?',\n",
       " 'Current radar showing rain bands from Hurricane #Harvey along the Texas coast. pic.twitter.com/Vb84jC1Qee',\n",
       " '.@Jeff_Piotrowski on #Periscope: Update Hurricane Harvey. #txwxhttps://www.pscp.tv/w/bG7d4jgwNzY1NjR8MWRqR1hMdlJsWU5HWuoUmlCZQSgNBjBv2LvKP8dMit2xq5fYxnrmIYy8qCZs\\xa0?',\n",
       " '@getnickwright do you have any fam still in the Houston area? Shits getting bonkers around here. #HurricaneHarvey',\n",
       " 'Heart goes out to people on Texas with this hurricane Harvey',\n",
       " '10 NICU babies evacuated in Corpus Christi ahead of Hurricane Harvey: https://buff.ly/2vnwF7c\\xa0pic.twitter.com/mZTrBEAC7G',\n",
       " \"Hurricane Harvey To Bring 'Life-Threatening' Floods To Texas http://www.newsworldindia.in/world/hurricane-harvey-to-bring-life-threatening-floods-to-texas/272866/\\xa0?\",\n",
       " '2 high resolution models, #NAM and #HRRR, accumulated rainfall forecasts.12Z NAM-48 hour forecast;13Z HRRR-18 hour forecast #HURRICANEHARVEY pic.twitter.com/3jsSUUKEeY',\n",
       " 'Space Station Camera Captures New Views of Hurricane Harvey http://fb.me/IYsE7ET7\\xa0',\n",
       " '#calmbeforethestorm #HurricaneHarvey pic.twitter.com/fY2Ol82sxI',\n",
       " \"I know more about hurricanes than anyone! I'll respond to #HurricaneHarvey just like Bush responded to Katrina. Win! #FridayFeeling #BoyBand\",\n",
       " 'If you are anywhere near Hurricane #Harvey, please be prepared and be careful. Get water and supplies. Find a safe place and wait it out. ',\n",
       " '\"Hurricane Harvey has all the ingredients to become a monster https://bloom.bg/2vmYLiM\\xa0 pic.twitter.com/FNAyDi7Cau\"https://twitter.com/business/status/901075265790586880\\xa0?',\n",
       " '\"@NBCDFW: #Dallas is preparing #shelters 4 possible storm evacuees coming north from #Hurricane #Harvey: http://on.nbcdfw.com/b20rhQo\\xa0',\n",
       " 'New post: \"Live stream: Hurricane Harvey roars toward the Texas coast \" http://ift.tt/2vvSq3T\\xa0',\n",
       " 'I would LOVE to do a \"ride along\" with a hurricane hunter!! #HurricaneHarvey',\n",
       " 'Trump breaks with tradition at the border, sacrifices safety as Hurricane Harvey approaches http://shareblue.com/trump-breaks-with-tradition-at-the-border-sacrifices-safety-as-hurricane-harvey-approaches/#.WaA31z_IwAc.twitter\\xa0? by @owillis',\n",
       " 'FacilityONE® is keeping our Texas and Louisiana families close in our . #HurricaneHarvey pic.twitter.com/JqCwZG2yjg',\n",
       " \"This would be me lol  For real tho, y'all be careful #Harvey #Hurricane #Charger #Forgot #Sillypic.twitter.com/V2mmOGkOgH\",\n",
       " \"Stay safe my fellow citizens and friends in Houston area and anyone along Hurricane Harvey's path!\",\n",
       " 'BREAKING: Hurricane Harvey Is Looking Really Bad! http://redstatewatcher.com/article.asp?id=91823\\xa0?',\n",
       " 'Hurricane Harvey strengthens to Category 2 as it approaches Texas http://nbcnews.to/2xytUAD\\xa0 via @nbcnews',\n",
       " \"North and South American friends take care during #hurricane #Harvey and don't forget to check the weather http://trib.al/QF62Siu\\xa0pic.twitter.com/iZ4naARzhM\",\n",
       " \"I'm stuck in the middle of hurricane Harvey ughhh\",\n",
       " 'WATCH:  Hurricane Harvey expected to cause major flooding, storm\\xa0surge http://www.aulanews.com/blog/eu/archivos/44283\\xa0?pic.twitter.com/0ukKYn3IZH',\n",
       " 'Impressive banding from #HurricaneHarvey with thunderstorms all the way to Louisiana.  #txwx #lawxpic.twitter.com/LbJDmhdNGS',\n",
       " '#HURRICANEHARVEY #Hurricane #HARVEY #share #SanAntoniopic.twitter.com/korr0V2SFU',\n",
       " 'The rain has started and the wind is strong. Everyone that stayed home and hunkered down, stay safe.\\r\\n#HurricaneHarvey',\n",
       " 'Hurricane Harvey is going to slam into Texas and the national flood insurance program is a mess http://www.motherjones.com/environment/2017/08/hurricane-harvey-is-going-to-slam-into-texas-and-the-national-flood-insurance-program-is-a-mess/\\xa0? via @MotherJones',\n",
       " 'Turn around don?t drown #snrtg #amwriting #ASMSG #hurricaneharvey http://ow.ly/Cppd30eFkOs\\xa0',\n",
       " 'Trying to get out of #Houston before #HurricaneHarvey hits.... ',\n",
       " \"If I know anyone out there in the Hurricane's path - please stay safe! Sending positive vibes your way. ++v^v^v^v^v^v^v++ #Harvey\",\n",
       " 'We are #praying for you all. Follow @SAC_Financing and the @weatherchannel for hourly updates #HurricaneHarvey #hurricane #insurance #summerpic.twitter.com/mCxGOAjAAS',\n",
       " 'Hurricane Harvey fuckin w my money',\n",
       " \"#HurricaneHarvey moves closer to TX & a lawsuit was filed to enforce #JohnsonAmendment. @BenKennedyTV has today's #CBNNewsMinutepic.twitter.com/gLHGagN2KG\",\n",
       " 'Hurricane Harvey missed our ass and is going straight to Corpus https://twitter.com/jvmeshoover/status/893947660490559488\\xa0?',\n",
       " \"Prayers for Texas. Be SMART out there y'all. #HurricaneHarvey\",\n",
       " 'Why is #HurricaneHarvey named Harvey? How the practice of naming humans after hurricanes got started http://bit.ly/2rT5Kku\\xa0pic.twitter.com/uKwWdnJ4rW',\n",
       " 'Good Samaritan Rescue Mission at 210 S. Alameda St. will be accepting the homeless seeking shelter from #HurricaneHarvey',\n",
       " 'Stay Strong Texas. Hurricane Harvey is approaching, but you got someone stronger in your corner! #KOTH #KingOfTheHillpic.twitter.com/kyV8cBeyh6',\n",
       " '?Shameful behavior?: Internet crushes Trump for nursing petty grudges while Hurricane Harvey slams Texas http://www.rawstory.com/2017/08/disgraceful-behavior-internet-crushes-trump-for-nursing-petty-grudges-while-hurricane-harvey-slams-texas/#.WaA3_wTB9uI.twitter\\xa0?',\n",
       " 'To anyone about to be affected by Hurricane Harvey,be careful.Dont take risks.Its not worth losing your life.Good vibes,much love,stay safe. https://twitter.com/twittermoments/status/901077149905506305\\xa0?',\n",
       " 'UPDATE: Hurricane Harvey will collide with Texas tonight; widespread floods will be the result http://www.richmond.com/weather/update-hurricane-harvey-will-collide-with-texas-tonight-widespread-floods/article_4835b0e6-51cf-5178-ad95-78362ed470b6.html\\xa0?',\n",
       " 'Looking out toward #HurricaneHarvey from #Galveston, #Texas beach. http://ift.tt/2vvEIOB\\xa0pic.twitter.com/DZIy5PJmvw',\n",
       " 'Matagorda Hurricane Harvey update. #matagordabeach https://www.instagram.com/p/BYOHleagm14/\\xa0',\n",
       " 'GOES-16 (non-operational) 1-minute near-infrared satellite imagery from this morning with Hurricane #Harvey approaching Texas coast. #GRPGpic.twitter.com/NTX7HS7djh',\n",
       " \"From space, 'astounding' Hurricane Harvey looks like it's about to swallow all of Texas http://wapo.st/2wKWmCl?tid=ss_tw&utm_term=.7b6f54673fdf\\xa0?\",\n",
       " 'Bye Texas \\r\\n#HurricaneHarvey',\n",
       " \"#HurricaneHarvey better slow it's literal roll through Texas & disappear, that's all I'm saying\",\n",
       " '#SubWayLive: #HurricaneHarvey moves closer to TX & a lawsuit was filed to enforce #JohnsonAmendment. BenKennedyTV ? https://twitter.com/i/web/status/901093126961582080\\xa0?',\n",
       " 'Why Hurricane Harvey is the perfect storm | Daily Mail Online http://www.dailymail.co.uk/news/article-4821546/Harveys-perfect-storm-recipe-Warm-water-calm-air-high.html\\xa0?',\n",
       " \"Coming up at 8:30 on #EyewitnessNews I'm bringing you photos of a #Texas resident's home & I'll be speaking with them about #HurricaneHarvey pic.twitter.com/RMaeIXpghb ? at KBAK / KBFX Eyewitness News\",\n",
       " 'Those in path BE SAFE.   Evacuate if told to! \"Hurricane Harvey\"',\n",
       " 'My dad fr just compared Steve Harvey to hurricane Harvey. I now know who I get my sense of humor from',\n",
       " 'stay safe, #Texas tweeples: https://twitter.com/npr/status/901092776724410368\\xa0?\\r\\n#HurricaneHarvey',\n",
       " \"I'm really gonna fucking resent this diet. 2/2 #HurricaneHarvey\",\n",
       " \"If you are in #HurricaneHarvey territory I hope you find a way to stay safe! I'll keep you in my thoughts. Hopefully it'll be ok\",\n",
       " '#HurricanHarvey #Harvey2017pic.twitter.com/w6aT4D2GAs',\n",
       " 'No tweets from #45 bc obviously hurricane Harvey is fake news put out by the media ',\n",
       " '\"Only Texans understand\" #HurricaneHarvey',\n",
       " 'hurricane harvey really finna wash me and my problems away',\n",
       " 'Media on hurricane Harvey: \\r\\n\"stay safe, prepare, evcuate -\\r\\nAnd now to our reporter we placed on the beach, in the path of the hurricane\". ',\n",
       " 'Prayers to my hometown.. HTX as this hurricane passes through.  #HurricaneHarvey',\n",
       " \"I'm not even a Trump supporter but why are people talking about him and Hurricane Harvey in the same friggin sentence?!\",\n",
       " \"Towns evacuated as Hurricane Harvey's 130mph winds approach Texas and Louisiana http://news.sky.com/story/towns-evacuated-as-hurricane-harveys-130mph-winds-approach-texas-and-louisiana-11004269\\xa0?\",\n",
       " 'Potentially risking border patrol lives as well. #HurricaneHarvey https://twitter.com/reportbywilson/status/900899721086107649\\xa0?',\n",
       " 'Ready for #hurricaneharvey pic.twitter.com/dEtQW9yInx',\n",
       " 'Hurricane Harvey Strengthens as Refinery Risk Lifts Gasoline http://ow.ly/kAIl50dEw7H\\xa0',\n",
       " \"Hurricane Harvey strengthens to Category 2 storm, Texas officials urge residents to 'Get out now'  http://www.foxnews.com/us/2017/08/25/nws-hurricane-harvey-strengthens-to-category-2-storm-texans-prepare-for-worst.html\\xa0?\",\n",
       " '#Harvey: While all eyes on #TX, I fear epic disaster too for #LA - fragile coast on good day & pumps not working in #NOLA. #HurricaneHarvey',\n",
       " 'toodles twitter\\r\\ngotta load up my pets for #HurricaneHarvey  \\r\\n\\r\\nyes i can joke about it, i live in Houston and made it through TS Alison pic.twitter.com/gCa1EJtj6C',\n",
       " 'I added a video to a @YouTube playlist http://youtu.be/Ln6RRI8V3WA?a\\xa0 Hurricane Harvey [Live Stream] - Corpus Christi, TX',\n",
       " 'Hurricane Harvey strengthens, threatens U.S. with most powerful storm in 12 years https://www.yahoo.com/news/hurricane-harvey-strengthens-threatens-u-most-powerful-storm-053027742--finance.html?soc_src=social-sh&soc_trk=tw\\xa0? via @YahooNews',\n",
       " 'Where and when Hurricane Harvey could strike this weekend - Hurricane Harvey is quickly gaining strength as it ... http://ow.ly/ryqv50dEwf5\\xa0',\n",
       " 'Hurricane Harvey is expected to strengthen to a morning Donald Trump Twitter rant.',\n",
       " 'Desde Gizmodo: Astronauts Caught a Terrifying Glimpse of Hurricane Harvey Barreling Toward Texas http://ow.ly/iUll50dEwcs\\xa0',\n",
       " 'WSJ TV: Hurricane Harvey: What You Need to Know http://ow.ly/h7Q750dEw9r\\xa0',\n",
       " '#smallbiz Hurricane Harvey Highlights Importance of Disaster Preparations for Businesses http://ow.ly/Z8Hf50dEvZN\\xa0',\n",
       " '#news #on4us #infos Hurricane Harvey will be Donald Trump?s first major natural disaster test ? The Independent http://ow.ly/L1BA50dEw1d\\xa0',\n",
       " 'HURRICANE HARVEY SALE: take advantage of 10% off of all WALK PACKAGES until Wednesday. \\r\\n.\\r\\nCall? https://www.instagram.com/p/BYOHnKulJ2G/\\xa0',\n",
       " '.@Jeff_Piotrowski on #Periscope: Update Hurricane Harvey. #txwx https://www.pscp.tv/w/bG7d4zE4NzIzNzd8MWRqR1hMdlJsWU5HWrb8kpOVWD3GdWJ0Pd2hNX_Uo7UOu33U4YMfr8CZPmjr\\xa0?\\r\\nJEFF LIVE #HurricaneHarvey',\n",
       " '#TwitterNewsChat As Hurricane Harvey prepares to visit coastal Texas, please turn off your yard sprinklers http://ow.ly/9SI350dEw91\\xa0',\n",
       " '#TwitterNewsChat Hurricane Harvey bears down on Matagorda - MATAGORDA - For retiree David Price, it was time to... http://ow.ly/iALL50dEw90\\xa0',\n",
       " \".@realDonaldTrump hurricane harvey isn't from the united states so he's technically a foreigner can u deport him\",\n",
       " 'Here he comes... #HurricaneHarvey @dougstringer @markroye @_SomebodyCareshttps://twitter.com/NWSCorpus/status/901083866873704448\\xa0?',\n",
       " \"It's Hurricane Harvey isn't it? How are you in its path?\",\n",
       " 'Hurricane Harvey Highlights Importance of Disaster Preparations for Businesses http://ow.ly/LRIV50dEw8p\\xa0',\n",
       " 'Imagen visible #Harvey August 25, 2017 at 10:45AM #weather #Texas #hurricane pic.twitter.com/RpDbjqhsWh',\n",
       " 'Hurricane Harvey heads for Texas: What we know now - Harvey could dump up to three feet of rain in some spots i... http://ow.ly/epGd50dEwlM\\xa0',\n",
       " 'I liked a @YouTube video http://youtu.be/Ln6RRI8V3WA?a\\xa0 Hurricane Harvey [Live Stream] - Corpus Christi, TX',\n",
       " 'For those on the Texas Gulf Coast - Please be careful & safe!  #HurricaneHarvey pic.twitter.com/jrkn9Nrmfj',\n",
       " 'Ich habe ein Video zu einer @YouTube-Playlist hinzugefügt: http://youtu.be/1HulEKgnnIY?a\\xa0 Hurricane Harvey Coverage | The Weather Channel',\n",
       " 'Harvey Nears Major Hurricane Status As It Closes In On Texas Coast http://ift.tt/2wEiChQ\\xa0',\n",
       " 'How to help kids before, during and after a #hurricane: http://ow.ly/63pr30eFZhJ\\xa0 #Hurricane Harvey pic.twitter.com/zlrXDVp84d',\n",
       " '.@Jeff_Piotrowski on #Periscope: Update Hurricane Harvey. #txwx8https://www.pscp.tv/w/bG7d-jFtTUVQbUJ4WVlRR2J8MWRqR1hMdlJsWU5HWgoSedfNEi25R-0VeU9FTnRlxUwedXr1SbPBBxVkXg56\\xa0?',\n",
       " 'Hurricane Harvey is bearing down on the Texas coast..expected to land tonight..pls say a prayer for everyone in its path..#HurricaneHarvey pic.twitter.com/Gefraajddj',\n",
       " 'CNN reports We?re live with CNNValencia in Corpus Christi as Hurricane Harvey bears down on Texas. \\r\\n\\r\\nWatch live on? https://twitter.com/CNN/status/901092172484812800\\xa0?',\n",
       " '#Hurricane #Harvey strengthening in...: What you need to know Friday http://www.nola.com/hurricane/index.ssf/2017/08/hurricane_harvey_gulf_mexico.html#incart_2box\\xa0? via @nolanews @carlie_kollath #HurricaneHarvey',\n",
       " 'Looking for a list of shelters in Texas that will be open as hurricane Harvey arrives.',\n",
       " '+http://dld.bz/world\\xa0 Final preparations as Hurricane Harvey approaches Texas http://www.dailymail.co.uk/news/article-4823520/Final-preparations-Hurricane-Harvey-approaches-Texas.html?ITO=1490&ns_mchannel=rss&ns_campaign=1490\\xa0? #newspic.twitter.com/I5KqSi',\n",
       " 'Hurricane Harvey Highlights Importance of Disaster Preparations for Businesses http://ow.ly/VcAk50dEwq5\\xa0',\n",
       " 'I just wish #HurricaneHarvey would say something liberal, so Trump could warn us about it!',\n",
       " '#FLOTUS #prayfortexas #prayforcorpus #HurricaneHarvey https://twitter.com/FLOTUS/status/901076170413936640\\xa0?',\n",
       " 'Warning the Matt concert was canceled due to Hurricane Harvey Please understand understanding Matt is not to blame that there is a hurricane',\n",
       " 'NWS: Hurricane Harvey could generate tornadoes near Bexar County http://fb.me/y3NNewvo\\xa0',\n",
       " 'Live stream: Hurricane Harvey roars toward the Texas coast - USA Today is providing live coverage of this event... http://ow.ly/YUqT50dEwxQ\\xa0',\n",
       " 'Hurricane Harvey heads for Texas: What we know now - Harvey could dump up to three feet of rain in some spots i... http://ow.ly/Wk5V50dEwxP\\xa0',\n",
       " \"Retweeted Caroline O. (@RVAwonk):\\r\\n\\r\\nUndocumented immigrants in the path of Hurricane Harvey won't be able to get... http://fb.me/1mQwMawEe\\xa0\",\n",
       " '#smallbiztrends #smallbizchat #smallbiztips Hurricane Harvey Highlights Importance of Disaster Preparations for... http://ow.ly/oQ4m50dEwBL\\xa0',\n",
       " '?Shameful behavior?: Internet crushes Trump for nursing petty grudges while Hurricane Harvey slams Texas http://www.rawstory.com/2017/08/disgraceful-behavior-internet-crushes-trump-for-nursing-petty-grudges-while-hurricane-harvey-slams-texas/#.WaA4JJULyxY.twitter\\xa0?',\n",
       " '  Continues... Hurricane Harvey - Lat: 25.9 Long: -95.4. Source: https://goo.gl/XWq1PV\\xa0pic.twitter.com/stzws0pvFV',\n",
       " '.@Jeff_Piotrowski on #Periscope: Update Hurricane Harvey. #txwxhttps://www.pscp.tv/w/bG7d4jEwNDg4NTk5fDFkakdYTHZSbFlOR1pamjRDXYIvFhi5I45ec0-QDRWks1U4fJ-K2UHB-w4mJw==\\xa0?',\n",
       " 'The Copernicus Sentinel-3A satellite saw the temperature at the top  of Hurricane Harvey http://www.esa.int/spaceinimages/Images/2017/08/Hurricane_Harvey\\xa0? via @esapic.twitter.com/b743DKBzFk',\n",
       " 'Hurricane Harvey heads for Texas: What we know now - Harvey could dump up to three feet of rain in some spots i... http://ow.ly/1LSj50dEwuI\\xa0',\n",
       " '\"@Beaded_Brandy_: @twc_hurricane #SanAntonio news just reported #Evacuation #Shelters in New Braunfels #Harvey #Evacuations #shelterpic.twitter.com/SzzKoWAzEJ',\n",
       " 'Hurricane Harvey: evacuations under way as storm heads for Texas\\r\\n\\r\\nhttps://www.theguardian.com/world/2017/aug/25/hurricane-harvey-evacuations-under-way-as-monster-storm-heads-for-texas?CMP=Share_AndroidApp_Tweet\\xa0?',\n",
       " 'Warning the Matt concert was canceled due to Hurricane Harvey Please understand understanding Matt is not to blame that there is a hurricane https://twitter.com/MattyBRaps/status/901086890010566657\\xa0?',\n",
       " 'http://newsworld.press/?p=3508\\xa0 - Hurricane Harvey grows stronger as Texas braces for historic storm to make landf... pic.twitter.com/YSqfoqP71W',\n",
       " \"Hurricane Harvey: Here's how to use the internet when you don't have access to the internet - Atlanta Journal? http://dlvr.it/PhYH6w\\xa0\",\n",
       " 'USDA Offers Food Safety Tips for Areas Affected by Hurricane Harvey http://dlvr.it/PhYH9N\\xa0',\n",
       " 'Prayers continue for those in the path of hurricane Harvey this is a dangerous storm please stay safe',\n",
       " 'Airlines tend to get bad reps but much  love for @Delta for letting me cancel my vacation bc of #HurricaneHarvey Customer service 5/5',\n",
       " 'The latest on #HurricaneHarvey from Nick Miller pic.twitter.com/zitsJQU5VD',\n",
       " 'Stay safe out there, kids. >> Gas Prices Likely to Rise as Hurricane #Harvey Approaches 1/3 of US Refining Capacity http://bit.ly/2wulHk2\\xa0pic.twitter.com/6J9y73tSfS',\n",
       " '@GeneWatsonMusic Praying for safety for you, band, your fans and families as hurricane Harvey beats down on Texas. Prayers from Canada.',\n",
       " '.@Jeff_Piotrowski on #Periscope: Update Hurricane Harvey. #txwxhttps://www.pscp.tv/w/bG7eEjI1MzA0MjB8MWRqR1hMdlJsWU5HWgY6UnzQuWuRWbC0NU41RsLoDxQSL42wF953QiBnoSFo\\xa0?',\n",
       " \"Love the city of Houston Tex, thoughts and prayers to all in Hurricane Harvey's path! God Bless!\",\n",
       " 'You Can Rebook Your Flight Before Hurricane Harvey Hits - TIME http://dlvr.it/PhYHBW\\xa0',\n",
       " \"For those in Hurricane Harvey's path, stay safe. \\r\\n\\r\\nHere in HOU, Rain Event Harvey sounds like a crappy amateur wrestler's stage name...\",\n",
       " 'http://www.cnn.com/2017/08/25/us/hurricane-harvey-latest/index.html\\xa0? #HurricaneHarvey',\n",
       " 'Just when I discovered cotton candy grapes, Texas is facing Hurricane Harvey and the end of days....',\n",
       " 'With the media distracted by Hurricane Harvey this weekend, Trump will likely place extra focus on his top priority: Golf!  #FridayFeeling',\n",
       " 'Photo gallery: Texans brace for Hurricane Harvey #HurricaneHarvey https://usat.ly/2wuSWDS\\xa0pic.twitter.com/6h37AN9oVO',\n",
       " 'Note to anyone trying to go east from Houston. #TexasProblems #Harvey #HurricaneHarvey https://twitter.com/txdotbeaumont/status/901092737440768000\\xa0?',\n",
       " 'Free housing #HurricaneHarvey// Airbnb offering free housing for Hurricane Harvey evacuees in S.A. http://www.kens5.com/weather/airbnb-offering-free-housing-for-hurricane-harvey-evacuees-in-sa/467211064\\xa0? via @@KENS5',\n",
       " 'The natural disaster test: Trump braces for Hurricane Harvey http://dlvr.it/PhYHDf\\xa0pic.twitter.com/0fKDQFcvyi',\n",
       " '.@Jeff_Piotrowski on #Periscope: Update Hurricane Harvey. #txwx https://www.pscp.tv/w/bG7d_zFkdktPWXhsbHZFWGV8MWRqR1hMdlJsWU5HWpSpk0gKSruNHtFkM9pgl6fYF1LNXhEZI90tgNi9H8c_\\xa0?pic.twitter.com/5zk2k9Ni8U',\n",
       " 'Praying for my fellow Texans and everyone else involved in #HurricaneHarvey ',\n",
       " 'Warning the Matt concert was canceled due to Hurricane Harvey Please understand understanding Matt is not to blame that there is a hurricane https://twitter.com/MattyBRaps/status/901086890010566657\\xa0?',\n",
       " 'Warning and watches are still out in southeast Texas for Hurricane Harvey. pic.twitter.com/qrHO95DU8F',\n",
       " 'Hurricane Harvey [Live Stream] - Corpus Christi, TX https://youtu.be/Ln6RRI8V3WA\\xa0 via @YouTube',\n",
       " 'To my friends in Texas in the path of Hurricane Harvey, please come north.  We will open our doors to you.',\n",
       " 'Ahh hurricane Harvey is a category 3 ',\n",
       " 'Hurricane Harvey: Texas braces for category two storm http://www.bbc.co.uk/news/world-us-canada-41045079\\xa0?',\n",
       " 'Hurricane Harvey strengthens, threatens U.S. with most powerful storm in 12 years http://www.cbc.ca/1.4261824\\xa0 @cbchomestretch',\n",
       " 'Where and when Hurricane Harvey could strike this weekend http://bit.ly/2ivzaSS\\xa0',\n",
       " 'Don\\'t worry Texans according 2 Alex Jones, \"Hurricane Harvey\" is a false flag weather operation being conducted by the deep state #infowars',\n",
       " 'Trump breaks with tradition at the border, sacrifices safety as Hurricane Harvey approaches http://shareblue.com/trump-breaks-with-tradition-at-the-border-sacrifices-safety-as-hurricane-harvey-approaches/#.WaA4OUCDvch.twitter\\xa0? via @shareblue',\n",
       " 'Hurricane Harvey is strengthening as it approaches Texas and gas prices are surging https://www.bloomberg.com/news/articles/2017-08-25/harvey-strengthens-as-gasoline-surges-on-texas-refinery-threat\\xa0? via @business',\n",
       " 'Hurricane Harvey ? Coast Guard\\r\\nhttp://easttexasradio.com/hurricane-harvey-coast-guard/\\xa0?',\n",
       " 'A rather foreboding GOES-16 visible satellite loop of powerful Hurricane #Harvey (via @CODMeteorology)pic.twitter.com/imQxHTD05F',\n",
       " \"Stay safe y'all! This is a huge 4+ day event -#Austin will be a main hub #evacuation #Houston #Harvey #HurricaneHarvey @RedCross Help otherspic.twitter.com/6RZ5R2wS7T\",\n",
       " 'Retweeted Hurricane Hunters (@53rdWRS):\\r\\n\\r\\nThe Hurricane Hunters continue to fly #hurricaneharvey today. Check out... http://fb.me/EmaMEEFY\\xa0',\n",
       " '#HurricaneHarvey #Harvey #Harvey2017 \\r\\n\\r\\n... Ok, Ladies and Gentlemen, the \"Dumbasses of the Year\" award goes to...http://www.caller.com/story/news/2017/08/24/decision-makers-ok-stopping-short-mandatory-evacuation/598865001/\\xa0?',\n",
       " 'My backyard and all five feeders are overrun with birds this morning.  I think are prepping full bellies before #HurricaneHarvey moves in.',\n",
       " 'Take care and be safe, my Texan friends! #hurricaneharvey',\n",
       " 'Scenes from Texas as Hurricane Harvey approaches http://fb.me/1Nnm2rXGM\\xa0',\n",
       " 'Hurricane Harvey PSA #1 (Generator Warning):\\r\\n\\r\\nIf you have to run a generator (or cars that run? https://www.instagram.com/p/BYOHsmfAKme/\\xa0',\n",
       " '#NBC Nightly News with #LesterHolt | LIVE: Hurricane Harvey is bearing down on #Texas;... #MSNBC http://disaster.trendolizer.com/2017/08/nbc-nightly-news-with-lester-holt-live-hurricane-harvey-is-bearing-down-on-texas.html\\xa0?pic.twitter.com/znECYhf4ql',\n",
       " 'He may not be the hero we want, but he?s the hero we need #houwx #HurricaneHarvey #harveyhurricanepic.twitter.com/tJuosCtcFZ',\n",
       " \"It's only a few minutes away from 10 AM which is when @HEB is closing, that lines are long #HurricaneHarvey #HarveyStormpic.twitter.com/0npZWqAY63\",\n",
       " 'Hurricane Harvey: evacuations under way as storm heads for Texas https://www.theguardian.com/world/2017/aug/25/hurricane-harvey-evacuations-under-way-as-monster-storm-heads-for-texas?CMP=share_btn_tw\\xa0?',\n",
       " 'All you care about is yourself. Not one personal word about heartbreaking things happening in the USA. Latest omission: #HurricaneHarvey. ',\n",
       " '15 trillion gallons of water from Hurricane #Harvey could fill 177,000 Rose Bowls or 22 million Olympic-size pools. http://usat.ly/2xwJblj\\xa0',\n",
       " 'Warmer waters are fueling Hurricane Harvey?s power http://ift.tt/2vmZ11v\\xa0',\n",
       " '#TheSalvationArmy is working around the clock to #help evacuees + prepare for #Hurricane #Harvey. http://salar.my/ZmHeER\\xa0',\n",
       " 'Events cancelled in advance of Hurricane Harvey http://fb.me/7lztNtpaO\\xa0',\n",
       " 'Hurricane Harvey is huge holy fuck',\n",
       " 'Here is some good advice from the @RedCross about how to prepare for Hurricane #Harvey. http://www.redcross.org/get-help/how-to-prepare-for-emergencies/types-of-emergencies/hurricane#Before\\xa0? #txlege #Hurricane',\n",
       " '#MelaniaTrump tells people in path of Hurricane Harvey: The entire country is praying for you #Texas http://disaster.trendolizer.com/2017/08/melania-trump-tells-people-in-path-of-hurricane-harvey-the-entire-country-is-praying-for-you.html\\xa0?pic.twitter.com/W1FMapMMfe',\n",
       " 'Hurricane Harvey to make landfall near Corpus Christi http://dlvr.it/PhYHrz\\xa0',\n",
       " 'CALL 211 NOW if you need assistance with #HurricaneHarvey.  Otherwise, EVACUATE NOW & TAKE YOUR ANIMALS WITH YOU!\\r\\nhttp://www.211.org/services/disaster-assistance\\xa0?',\n",
       " \"Let's see how Hurricane Harvey causes harm 2Trump. There will be something about it that will make Trump the victim.  He's ALWAYS the victim\",\n",
       " \"Hurricane Harvey 'quickly strengthening,' expected to make landfall in Texas as major storm http://www.foxnews.com/us/2017/08/24/hurricane-harvey-quickly-strengthening-expected-to-make-landfall-in-texas-as-major-storm.html\\xa0?\",\n",
       " 'Praying for those on the scene in prep for Hurricane Harvey. For latest information on the situation, please go to http://FEMA.gov/hurricane-harvey\\xa0?',\n",
       " '\"Astronauts Caught a Terrifying Glimpse of Hurricane Harvey Barreling Toward Texas\" by Maddie Stone via Gizmodo http://ift.tt/2vvLiEK\\xa0 #n?',\n",
       " 'F N disgusting!  Acosta is nothing but an attention seeking media you know what! #CNNIsFakeNews\\r\\nHurricane Harvey https://twitter.com/blessmyliberty/status/901092146769534977\\xa0?',\n",
       " 'THOUGHTS and PRAYERS to my FAM in Houston, TX as Hurricane Harvey approaches! Praying for safety to everyone in his path ',\n",
       " 'Texas residents brace for Hurricane Harvey https://www.youtube.com/watch?v=Edoj3M1nZf4\\xa0?',\n",
       " 'Texas and Louisiana is my  and prayers.  #HurricaneHarvey https://l.facebook.com/l.php?u=https%3A%2F%2Fweather.com%2Fstorms%2Fhurricane%2Fnews%2Fhurricane-harvey-forecast-gulf-coast-texas-louisiana&h=ATPMa4-_Zx-dX7-rNJ8rwX2eqiH9Dqp3JHoBOmSLKY1l5BirFXfKp6xLJtFBbRa4t19JSNEahMlFasrRcp8yUdzOeYvloPhc6hqkPROIev0_8G4Cz8q8n8gqxifVy87w02SDkw1pYQgRuIGTMOjpnJ1G4G5mZA518BW22rZ_aKUk3wjiCw2cBPl73FVriD-DkZYG6PO_kbp0N58S9zoWUBPlCV890TDgqWA47AD-tKg2RKnnpdva7eIrIfd6qxB5DUaE-Xk6Cdydvb2sdpIxQa7KlXdtWeB1mrV58arA3l1oBfS8koKFO9if\\xa0?',\n",
       " 'WHO TRYNA SEE HURRICANE HARVEY UP CLOSE WIT ME',\n",
       " \"What the fuck Hurricane Harvey's going to kill me.\",\n",
       " \"'Hurricane Harvey'\\r\\n\\r\\n- Landfall Intensity\\r\\n- Huge Area of Biblical Rainfall\\r\\n- Hovering for days over TX\\r\\n- Houston Flooding\\r\\n- 2nd Landfall?\",\n",
       " 'Harvey Nears Major Hurricane Status As It Closes In On Texas Coast http://ift.tt/2xiLfhD\\xa0 #news #nowpic.twitter.com/VdGumL79Wp',\n",
       " 'Lines are ridiculous #HurricaneHarvey (at @QuikTrip in Atlanta, GA)https://www.swarmapp.com/c/9sZMTwxzaiV\\xa0',\n",
       " 'Hurricane #Harvey landfall is expected near Corpus Christi, Texas, between 10 p.m. ET and 2 a.m. ET - @BillKarins',\n",
       " \"Due to the threat of inclement weather and flooding related to Hurricane Harvey's approach to the Houston area,... http://fb.me/2GwOk36Rf\\xa0\",\n",
       " 'If Hurricane Harvey is as bad as the news are showing and it storms all next week. That LSU/BYU game is going to get cancelled.',\n",
       " 'Poised to Make Landfall Late Friday, Hurricane Harvey Could Be Strongest Hurricane to Hit U.S. Mainland in 12 Years http://adweek.it/2vkmtMF\\xa0',\n",
       " 'Hurricane Harvey Cat 2 approaching USA and State of Texas pic via Living Earth app #satelliteimagepic.twitter.com/S7T9PzEdkN',\n",
       " 'Watch for #HurricaneHarvey stay #safe and sound everybody...',\n",
       " 'BBCWorld: An aerial view of Corpus Christi in Texas as the US braces itself for Hurricane Harvey ? https://twitter.com/BBCWorld/status/901092181435219970/video/1\\xa0?',\n",
       " \"I'm not trying to get attention but my town the path of hurricane Harvey and all I'm asking is if you can please pray for everyone in Texas\",\n",
       " 'The surge wall has been installed by @TxDOT on TX-361 between Port Aransas and Aransas Pass. #HurricaneHarvey #CorpusChristi #Texas #TXWXpic.twitter.com/uSCFQ5tKbu',\n",
       " 'See Hurricane Harvey from the International Space Station http://wapo.st/2g99xqo\\xa0',\n",
       " '#Texas #Webcams plan to capture the intricacies of Hurricane Harvey! http://joy105.com/index.php/2017/08/25/texas-webcams-plan-to-capture-the-intricacies-of-hurricane-harvey/\\xa0? #Hurricaneharvey #TropicalStorm',\n",
       " 'Amazing video from International Space Station of #HurricaneHarvey https://instagram.com/p/BYOC_UUARLh/\\xa0',\n",
       " '@JMichaelsNews is The Weather Channel streaming coverage of #HurricaneHarvey on YouTube?',\n",
       " 'Hurricane Harvey is just like the racist,facist people ;it will be all through Texas.',\n",
       " 'Hurricane Harvey strengthens, threatens U.S. with most powerful storm in 12 years - Reuters https://apple.news/A3EfpKJVjQkKDVgeRYAdaSQ\\xa0?',\n",
       " 'As #HurricaneHarvey approaches the Gulf Coast of Texas, consumers & #creditunions should take precautions http://bit.ly/2dyMOD5\\xa0',\n",
       " 'Hurricane Harvey threatens Coastal TX nuclear power plant. Last 1 to hit Corpus Christi blew out skyscraper windows in Houston. Fukushima!',\n",
       " 'Hurricane Harvey threatens Coastal TX nuclear power plant. Last 1 to hit Corpus Christi blew out skyscraper windows in Houston. Fukushima!',\n",
       " 'Hurricane Harvey threatens Coastal TX nuclear power plant. Last 1 to hit Corpus Christi blew out skyscraper windows in Houston. Fukushima!',\n",
       " 'New story on NPR: Harvey Nears Major Hurricane Status As It Closes In On Texas Coast http://ift.tt/2xiLfhD\\xa0',\n",
       " 'Stay safe, my Texan friends! #HurricaneHarvey',\n",
       " 'an impressive yet insane overview of  #HurricaneHarvey & the tropical storm remnants movg up the east coast check: https://www.windy.com/?pressure,2017-08-30-15,30.264,-97.714,5\\xa0?',\n",
       " 'Hurricane Harvey Relief http://fb.me/YKwmgvg5\\xa0',\n",
       " 'Maybe you should stop tweeting and start thinking about he pending disaster in Texas?  Just a thought. #HurricaneHarvey #TrumpResign',\n",
       " \"I'm worried about people in the path of hurricane Harvey. Who helps them if the gov is shut for 16 days in Sept? Because whiner wants a wall\",\n",
       " \"Main concern is flooding. Dry gulches can turn into raging rivers quickly. I've seen it & it's frightening. #HurricaneHarvey #mothernature\",\n",
       " 'Gas prices already on the rise as Texas braces for Hurricane Harvey http://fxn.ws/2w49bqt\\xa0',\n",
       " \"Hurricane Harvey ain't even gonna leave a Dent\",\n",
       " 'Corpus Christi already experiencing 2ft storm surge and gusts to 32 knots. \\r\\n\\r\\n#Texas #Harvey #HurricaneHarvey #TXwxpic.twitter.com/f6RmAWeTz4',\n",
       " 'Hurricane Harvey could spark PTSD in Katrina survivors  http://www.nola.com/northshore/index.ssf/2017/08/hurricane_harvey_could_trigger.html\\xa0?pic.twitter.com/CNTxK5qBEE',\n",
       " 'Hurricane Harvey: evacuations under way as storm heads for Texas https://www.theguardian.com/world/2017/aug/25/hurricane-harvey-evacuations-under-way-as-monster-storm-heads-for-texas?CMP=share_btn_tw\\xa0?',\n",
       " 'Live stream: Hurricane Harvey roars toward the Texas coast  http://ift.tt/2vvSq3T\\xa0',\n",
       " 'Live ALERT: HURRICANE HARVEY 111 MPH TRACKING & UPDATE  Satellite Texas ... https://youtu.be/Acap3IrCYYk\\xa0 via @YouTube',\n",
       " \"There is no Trump property in Texas.  Therefore, Trump doesn't give 2 sh$ts about Hurricane Harvey.  Houston - stay strong! stay safe!\",\n",
       " '.@AccuRayno has the latest details on Hurricane #Harvey & its life-threatening impacts: http://ow.ly/1xbV30eG0x7\\xa0pic.twitter.com/iBOR14k5Xh',\n",
       " 'Because a cinnamon sugar croissant and coffee help me disaster shop  #hurricaneharvey @ H-E-B? https://www.instagram.com/p/BYOHw57FaDj/\\xa0',\n",
       " \"Knowing there's a possibility of losing everything is the most scariest feeling..\\r\\n\\r\\n#PrayforSouthTexas #HurricaneHarvey\",\n",
       " 'Great job! Brave girl! #HurricaneHarvey #Elly #Commitment',\n",
       " 'HurricaneHarvey is still expected to be a CAT 3 Hurricane at landfall late tonight along the middle Texas coast. http://toplocalnow.com/us/austin/at/9#t7222282\\xa0?',\n",
       " 'Monitoring flights out of Detroit Metro ahead of hurricane Harvey. pic.twitter.com/CVG4gWekP9',\n",
       " 'Wishing safety to all those in the path of Hurricane Harvey, like @CCPublicTransit https://twitter.com/CCPublicTransit/status/901079464045670400\\xa0?pic.twitter.com/xQuIgtnymK',\n",
       " \"Always! I'll bring you some when #HurricaneHarvey leaves town! #pinksockshttps://twitter.com/marammph/status/901076980606652416\\xa0?\",\n",
       " 'Hurricane Harvey strengthens, threatens U.S. with most powerful storm in 12 years ? Reuters http://fb.me/xWkiKsqN\\xa0',\n",
       " 'Hurricane Harvey Relief http://conta.cc/2gb2mhh\\xa0pic.twitter.com/Xc7aiW8qe8',\n",
       " 'Texas Border Patrol checkpoints will stay open during Hurricane Harvey: http://trib.al/yoyOLsh\\xa0pic.twitter.com/YSuIdMgzyo',\n",
       " 'Time to fill up the car before gas prices increase, wherever you are. #HurricaneHarvey #BeSafehttps://twitter.com/EdValleeWx/status/901032746637824000\\xa0?',\n",
       " 'Hurricane #Harvey landfall is expected near Corpus Christi, Texas, between 10 p.m. ET and 2 a.m. ET - @BillKarins',\n",
       " 'Maybe @POTUS is waiting to hear what FoxNews says about #HurricaneHarvey before he tweets. Even with that weather map overlay on the screen https://twitter.com/AMHQ/status/901063496321945600\\xa0?',\n",
       " 'Hurricane Steve Harvey',\n",
       " 'Latest image from Galveston, Texas ahead of Hurricane Harvey via http://Galveston.com\\xa0\\'s \"Seawall Cam\" http://bit.ly/2wtuK4Y\\xa0pic.twitter.com/MPpeAbCv43',\n",
       " 'Praying for our CU friends in Texas. Hurricane Harvey Bearing Down, Texas CUs Close Shop http://www.cutimes.com/2017/08/24/hurricane-harvey-bearing-down-texas-cus-close-shop#.WaA4Wt0FxVw.twitter\\xa0? (via @CU_Times)',\n",
       " \"Of course we all know Hurricane Harvey will be Trump's fault or some wild Russian connection.\",\n",
       " 'Take Action Now to Help Protect Equipment and Prevent Property Damage from #HurricaneHarvey via @HtfdSteamBoiler https://www.munichre.com/site/wrap/get/documents_E-1075423749/mram/assetpool.munichreamerica.wrap/PDF/05Commercial/734_Hurricane_Loss_Prevention.pdf\\xa0?',\n",
       " \"I know some people are not taking Hurricane Harvey seriously, but I'm actually worried! pic.twitter.com/ioTsOSaql4\",\n",
       " 'NASAHurricane? The Copernicus Sentinel-3A satellite saw the temperature at the top  of Hurricane Harvey   ? https://twitter.com/i/web/status/901093305299193857\\xa0?',\n",
       " '\"Hurricane Harvey\"  https://www.youtube.com/watch?v=kf8trl69kzo\\xa0?',\n",
       " '#prayers to everyone in the wake of  #HurricaneHarvey #PrayersForTexas ',\n",
       " 'Praying for our sisters and brothers in the path of Hurricane Harvey. ',\n",
       " 'We are open today at all three locations, come in for fresh sandwich #lunch #HurricaneHarvey #houheights',\n",
       " 'Everyone in Houston/S. Texas please stay safe out there! #HurricaneHarvey https://twitter.com/continuitycent/status/901013879970549760\\xa0?',\n",
       " 'Airbnb offering free accommodations for Hurricane Harvey evacuees http://fb.me/35lWk0Mgz\\xa0',\n",
       " '#HurricaneHarvey pounding #Texas with 35\".pic.twitter.com/rxeupwM4UC',\n",
       " '\"Natural Blues\" by Moby was playing in the car this morning-- fitting, given impending arrival of #HurricaneHarvey https://m.youtube.com/watch?v=JNWhOJSzZ0M\\xa0?',\n",
       " \"I'm such a millennial that all I see is an avocado in need of some toast. #HurricaneHarvey pic.twitter.com/Abe3j9iQrJ\",\n",
       " 'Keep update the people from this Hurricane Harvey',\n",
       " 'Stay safe #Texas!!  #HurricaneHarvey https://twitter.com/SavetheChildren/status/901080917111910400\\xa0?',\n",
       " 'wow #HurricaneHarvey #Texashttps://twitter.com/NWSCorpus/status/901083866873704448\\xa0?',\n",
       " 'Heads up, #nola: Tips from the city to clear and keep clear catch basins. Help limit flooding. #lawx #HurricaneHarvey pic.twitter.com/P9pbjKzF2q',\n",
       " \"Tonight on @KTULNews and throughout the weekend, Channel 8's @RyanBraschler is in Texas reporting from the path of #HurricaneHarvey.\",\n",
       " 'Coastal Cities in Texas Begin Evacuating in Preparation for Hurricane Harvey | KTLA http://ow.ly/Jphq30eG0KE\\xa0',\n",
       " 'Wow, this puts potential s#storm urge #flooding from #HurricaneHarvey into perspective, albeit not what you want to see! Via @NHC_Surgehttps://twitter.com/NHC_Surge/status/901059209583833089\\xa0?',\n",
       " \"I'm quite proud of this one...he never wrote back...sigh... #dating #ugly #HurricaneHarvey #LookWhatYouMadeMeDo #Texaspic.twitter.com/S8KCaExQnQ\",\n",
       " 'bbcweather: The latest on #HurricaneHarvey from Nick Miller pic.twitter.com/hPQauGQPZU',\n",
       " 'Texas Border Patrol checkpoints will stay open during Hurricane Harvey\\r\\nhttp://www.go4viral.org/texas-border-patrol-checkpoints-will-stay-open-during-hurricane-harvey/\\xa0?pic.twitter.com/CtPg4WNWte',\n",
       " \"I bet Hurricane Harvey will treat Texas worse than Orange Fuhrer Trump treats Nazi's and White Supremacists!!\",\n",
       " 'If my girl trying to get her nails done in the hurricane, Harvey can keep her  https://twitter.com/simply_shamaria/status/901093224772767745\\xa0?',\n",
       " 'Weather geeks everywhere rejoice when a hurricane forms. #WXTX #WX #HurricaneHarvey #TXWX',\n",
       " 'BBCWorld: An aerial view of Corpus Christi in Texas as the US braces itself for Hurricane Harvey ? https://twitter.com/BBCWorld/status/901092181435219970/video/1\\xa0?',\n",
       " '@sirwest04 Hey Shuga! you & B okay? do yall have an #evacuation plan? #HurricaneHarvey',\n",
       " \"hurricane harvey is about to fuck up texas and i'm really nervous for everybody. ):\",\n",
       " 'Hey Texas. #HurricaneHarvey #Metspic.twitter.com/lihy1rGRwl',\n",
       " 'Steady stream of RVs leaving Pleasure Island #HurricaneHarvey',\n",
       " \"A closer look at Hurricane Harvey's expected path: The storm could inundate Texas with rain until Wednesday. https://usat.ly/2xwJblj\\xa0pic.twitter.com/MVZXjUjdjR\",\n",
       " 'Hurricane Harvey strengthens, threatens U.S. with most powerful storm in 12 years - Reuters https://apple.news/A3EfpKJVjQkKDVgeRYAdaSQ\\xa0?',\n",
       " '#HurricaneHarvey',\n",
       " 'As heavier rainfall approaches, we remind you that water on the road is often deeper than it appears. #turnarounddontdrown #HurricaneHarvey pic.twitter.com/rfg30FRI1i',\n",
       " 'Setting up 3 water barrels to catch 150 gallons of rain. Making the best of #HurricaneHarvey in #Houstonpic.twitter.com/dA01PiOT0j',\n",
       " 'Hurricane #Harvey winds now 110 mph, at top of Cat 2, heading to Cat 3 by landfall. Significant flooding threat. Bad deal.',\n",
       " 'Border Patrol Checkpoints in South Texas to Remain Open During Hurricane Harvey http://bit.ly/2wCoOGZ\\xa0 via @BreitbartTexas',\n",
       " 'Harvey Would Be 64th Hurricane to Hit Texas Since 1851 http://sumo.ly/EOAE\\xa0 via @cnsnews',\n",
       " 'New: Harvey Nears Major Hurricane Status As It Closes In On Texas Coast http://www.npr.org/sections/thetwo-way/2017/08/25/546033639/harvey-nears-major-hurricane-status-as-it-closes-in-on-texas-coast?utm_medium=RSS&utm_campaign=storiesfromnpr\\xa0?',\n",
       " \"Parrot: Harvey is because of climate change\\r\\nSkeptic: IPCC says there's no increase in hurricane activity\\r\\nParrot: You're a denier\",\n",
       " '?Life-threatening? Hurricane Harvey intensifies to Category-2 as it heads for Texas http://on.mktw.net/2vvmCw1\\xa0',\n",
       " 'Hurricane Harvey strengthens to Category 2 http://www.cnn.com/2017/08/25/us/hurricane-harvey/index.html\\xa0?',\n",
       " \"Hoping all those in Hurricane Harvey's path heed warnings and evacuate early. It might be a pain in the ass, but it could save your life.\",\n",
       " \"Hello Harvey! This Hurricane  is hustling. \\r\\nBunker down and beware\\r\\nIt's  about to get crazy out there.\\r\\nPlease  be safe & take care\",\n",
       " 'Hurricane Harvey Strengthens, Threatens US With Most Powerful Storm In 12 years\\r\\nhttp://crwd.fr/2wEvl3X\\xa0pic.twitter.com/yEW2jPuQQR',\n",
       " 'In respects to Hurricane Harvey, we will close August 25th & 26th. We want everyone to be safe in Houston.',\n",
       " 'Hurricane Harvey approaches the Texas Gulf Coast http://bit.ly/2xyLCnB\\xa0',\n",
       " '#HurricaneHarvey #storm #alert #USA #texas #suspicious0bservers https://youtu.be/gOZzpttl8ZU\\xa0\\r\\n#beprepared looks...http://fb.me/8LVuihGiO\\xa0',\n",
       " 'Hey @realDonaldTrump this is NOT #fakenews!  And still not a word about #HurricaneHarvey only tweeting about those who oppose you! #sadhttps://twitter.com/NBCNews/status/901072970776489985\\xa0?',\n",
       " 'I was blessed enough to call Corpus home during freshman year of high school. I hope the people staying are safe. #HurricaneHarvey',\n",
       " '#HurricaneHarvey nearing the #TXwx Gulf Coast this hour. #Tropics #Wxpic.twitter.com/5G7hlBCcqK',\n",
       " '#HurricaneHarvey nearing the #TXwx Gulf Coast this hour. #Tropics #Wxpic.twitter.com/TYE7uBeGjp',\n",
       " 'Texas Border Patrol checkpoints will stay open during Hurricane Harvey http://ift.tt/2w4hN0q\\xa0',\n",
       " 'Wing politics that can be reignited in debate in three days (despite it likely possibly not leaving for a LONG time). #HurricaneHarvey',\n",
       " 'The water aisle at Target in San Antonio. #HurricaneHarvey pic.twitter.com/DlcnPSgtF2',\n",
       " 'Me and Batgirl going over Hurricane Harvey preparations @ Rollingwood, Texas https://www.instagram.com/p/BYOH19mnJgh/\\xa0',\n",
       " 'Galveston, 28th street beach cam.\\r\\n\\r\\nhttp://www.saltwater-recon.com/beach-cam/\\xa0\\r\\n\\r\\n \"Hurricane Harvey\"',\n",
       " 'Roadmaster Drivers School of San Antonio, TX  will be closing today at 12pm through the weekend due to #HurricaneHarvey Be safe everyone!',\n",
       " 'Standing in Galveston Bay yelling \"Fuck You Harvey\" #HurricaneHarvey',\n",
       " \"Of course they were rumored talks of DW playing in Texas, when we're there next weekend, and here comes hurricane Harvey to ruin the day.\",\n",
       " 'DPS HURRICANE HARVEY ADVISORY...\\r\\nhttp://easttexasradio.com/dps-hurricane-harvey-advisory/\\xa0?',\n",
       " \"Hurricane Harvey. Just a little reminder that there's no head of NOAA or FEMA. \\r\\nStay safe Texas. Evacuate if possible. \",\n",
       " 'Hurricane Harvey is going to slam into Texas and the national flood insurance program is a mess http://www.motherjones.com/environment/2017/08/hurricane-harvey-is-going-to-slam-into-texas-and-the-national-flood-insurance-program-is-a-mess/\\xa0? via @MotherJones',\n",
       " 'PSA: Stay up to date on the Hurricane Harvey situation. Stay safe and call your families.  ',\n",
       " '@realDonaldTrump Pay Attention \\r\\n#HurricaneHarvey https://twitter.com/chuckgrassley/status/901065715767164928\\xa0?',\n",
       " 'It could be worse #HurricaneHarvey #PreparingForTheStorm #LongLines #MovingPrettyFastpic.twitter.com/WLyBLd6etZ',\n",
       " 'I had promised myself a 24 hour news blackout. But w/ #HurricaneHarvey coming I feel obligated to stay connected. Stay safe everyone.',\n",
       " 'Well, then guess we know what opportunity for himself he sees in #HurricaneHarvey',\n",
       " 'I sent a snap of the heb line to the hurricane Harvey sc story and now it has 1000 views ',\n",
       " \"@G8WayCommunity @g8wayespanol Please be praying for safety for so many in harm's way and that Hurricane Harvey will diminish!\",\n",
       " 'Praying for all of those in the path of #HurricaneHarvey https://twitter.com/RedCross/status/901092509782331392\\xa0?',\n",
       " 'I hate Hurricane Harvey help',\n",
       " \"Port Lavaca has a mandatory curfew beginning at noon for those who didn't leave via mandatory evacuations.  #HurricaneHarvey\",\n",
       " 'Hurricane Harvey Barrels Towards Texas and Operation Blessing Stands Ready https://www.ob.org/hurricane-harvey-barrels-towards-texas-operation-blessing-stands-ready/\\xa0?',\n",
       " '#IfComedyDidntExist #HurricaneHarvey would be as funny as it is. #HitThemHard',\n",
       " \"We are thinking of our fellow EM's in TX as Hurricane Harvey comes in. Stay safe, keep up the good work. @ReadyCC @NuecesOEM @NASCCEM @TDEM\",\n",
       " 'Hurricane Harvey Update-Major Hurricane Possible http://fb.me/8gXbgUAx7\\xa0',\n",
       " 'AccuWeather\\'s latest Hurricane Harvey warning: \"Some communities could be under water for days\"',\n",
       " 'NPR: Harvey Nears Major Hurricane Status As It Closes In On Texas Coast http://n.pr/2gb6tKf\\xa0',\n",
       " 'Hurricane Harvey Update https://weathertrending.com/2017/08/25/hurricane-harvey-update/\\xa0?pic.twitter.com/PCMB48El8N',\n",
       " \"RT ESA_EO: Just in! #Sentinel3 measures #HurricaneHarvey's temperature as the #storm quickly approaches the #US st? https://twitter.com/i/web/status/901084737049169920\\xa0?\",\n",
       " '\"We\\'re closing today at noon and will be closed through Monday\" #Harvey2017 #HurricaneHarvey pic.twitter.com/b2afYmRplT',\n",
       " \"[NASA] RT ESA_EO: Just in! #Sentinel3 measures #HurricaneHarvey's temperature as the #storm quickly approaches the? https://twitter.com/i/web/status/901084737049169920\\xa0?\",\n",
       " 'Our thoughts are with those on the path of #HurricaneHarvey, including the CSA astronauts and staff in Houston. Stay safe everyone! #Harvey pic.twitter.com/sh2k6tRSKi',\n",
       " 'To our electric co-op friends in the path of #HurricaneHarvey, our thoughts and prayers are with you. pic.twitter.com/1KZtlpKqty',\n",
       " '.@Jeff_Piotrowski on #Periscope: Update Hurricane Harvey. #txwxhttps://www.pscp.tv/w/bG7eZDFXTEVSbHdid01LYkR8MWRqR1hMdlJsWU5HWhF0GNqlMH2Wr8OCzNQ5vykxCpChOPadk4QqjOkVZPdD\\xa0?',\n",
       " 'Texas Ports Brace for Hurricane Harvey http://maritime-executive.com/article/texas-ports-brace-for-hurricane-harvey\\xa0? #marine weather #Hurricane Harvey #hurricanes',\n",
       " \"@realDonaldTrump It'd go SUCH a long way if, once Hurricane Harvey hits, you throw on some grubby clothes and help with clean up!\",\n",
       " 'Hurricane Harvey gains momentum as it nears the Texas coast http://zpr.io/PWHfs\\xa0',\n",
       " '@lee_glend Hi Lee! Will the Guardian be covering Hurricane Harvey in any detail?',\n",
       " 'Due to Hurricane #Harvey, Precinct One has closed its community centers. They will re-open again as the storm clears. Stay tuned.',\n",
       " 'Hurricane Harvey: Thousands evacuated in Texas before storm hits http://www.itv.com/news/2017-08-25/hurricane-harvey-texas/\\xa0?',\n",
       " 'If you are in the path of Hurricane Harvey (or any Hurricane), be sure you do these last minute preparedness tips! https://buff.ly/2xyKmkp\\xa0',\n",
       " 'Thinking of our many clients and referral partners in Texas. Please stay safe! #HurricaneHarvey',\n",
       " 'Hurricane Harvey Update https://weathertrending.com/2017/08/25/hurricane-harvey-update/\\xa0?pic.twitter.com/vYYnSEVXUU',\n",
       " 'NOAA forecast makes it clear that there is little chance of Hurricane Harvey changing paths before making landfall. http://www.nhc.noaa.gov/text/refresh/MIATCDAT4+shtml/250847.shtml\\xa0?pic.twitter.com/TLbkQwahOO',\n",
       " 'Prayers for everyone in south Texas.  Stay safe! #HurricaneHarvey',\n",
       " \"To our Guild family in SE Texas - please be safe as Hurricane #Harvey approaches! We're here if you need anything. #GranburyLovesYou \",\n",
       " 'Stay safe out there. #HurricaneHarvey https://twitter.com/abc/status/901091785811865600\\xa0?',\n",
       " 'TV News Covers Harvey: Weather Channel, ABC, Others Track Chaotic Hurricane http://dlvr.it/PhYJ9s\\xa0pic.twitter.com/lqZW5BpMvn',\n",
       " 'TV News Covers Harvey: Weather Channel, ABC, Others Track Chaotic Hurricane http://dlvr.it/PhYJ9V\\xa0 #TV #News #Hurricane_Harvey pic.twitter.com/5TL2XADSiL',\n",
       " 'Cenla Mudfest offering free parking, utilities to Hurricane Harvey evacuees http://www.kalb.com/content/news/Cenla-Mudfest-open-to-RV-owners-evacuating-from-Hurricane---441728413.html\\xa0?',\n",
       " 'No gym... FML! Everything else in this city is closing too...Thank you #HurricaneHarvey  #goldsGym #noFair #harveyIsToBlamepic.twitter.com/XCZBIn06WH',\n",
       " '@NWSTwinCities Do you all spend about 1/2 your shift staring mesmerized at #GOES16 images (or more with #HurricaneHarvey)? I would...',\n",
       " \"This has got 2 be 1 of the strangest hurricane paths I've ever seen. #HurricaneHarvey says,'Continue inland? No! I'll get the entire coast!' pic.twitter.com/bp6Fjnjj54\",\n",
       " 'Like what-?? A magic wall to the sky??\\r\\n#CNNisTrash #HurricaneHarvey https://twitter.com/acosta/status/901059918152728578\\xa0?',\n",
       " \"Not at all weird that @realDonaldTrump hasn't mentioned #HurricaneHarvey today in any of his four Tweets. \",\n",
       " \"God be with the people and wildlife in the path of Hurricane Harvey. They'll need our help afterwards. That's my charity next week.\",\n",
       " 'Oil production shutting down due to Hurricane Harvey http://abc13.com/2339740/\\xa0 via @ABC13Houston',\n",
       " 'PRAY FOR TEXAS!!!! \\xa0#HurricaneHarvey',\n",
       " 'Praying for everyone in Texas as Hurricane Harvey approaches, stay safe Texans',\n",
       " 'S.A. Salvation Army helping Hurricane Harvey evacuees http://www.kens5.com/weather/sa-salvation-army-helping-hurricane-harvey-evacuees/467217170\\xa0? via @@KENS5',\n",
       " 'As Hurricane Harvey approaches Ygriega wants to remind the RGV that we are available for emergency response services',\n",
       " 'White House readies for test of Hurricane Harvey http://www.chron.com/news/politics/article/White-House-readies-for-test-of-Hurricane-Harvey-11957992.php?cmpid=twitter-desktop\\xa0? via @houstonchron #txlege #txpolitics @HoustonChron',\n",
       " 'VIDEO: NASA releases dramatic footage of Hurricane Harvey churning in the Gulf of Mexico. http://bos.gl/rl9mIhg\\xa0pic.twitter.com/tMC1mqEeJm',\n",
       " 'Its a nice change of pace to hear about a potentially deadly hurricane instead of the orange man baby all morning.\\r\\n#HurricaneHarvey\\r\\n@msnbc',\n",
       " 'I had to repost this  #priorities #HurricaneHarvey https://www.instagram.com/p/BYOH561n5quI3D7iIsNXdy33S_CmLEFkoBNnac0/\\xa0?',\n",
       " '@steveaustinBSR stand back hurricane Harvey is http://coming.How\\xa0 is the ranch holding up.',\n",
       " '15 trillion gallons of water from Hurricane #Harvey could fill 177,000 Rose Bowls or 22 million Olympic-size pools? https://twitter.com/i/web/status/901093052370092032\\xa0?',\n",
       " '@JimCantore what does it mean when hurricane has 2 eye walls#hurricane harvey',\n",
       " 'Lightning strikes around the eye of #Hurricane #Harvey. #WBZpic.twitter.com/U32M6a5D60',\n",
       " \"A closer look at Hurricane Harvey's expected path: The storm could inundate Texas with rain until Wednesday.? https://twitter.com/i/web/status/901093669704536066\\xa0?\",\n",
       " 'RT @ChefResha: Texas is about to get hammered. Pls stay safe guys. #HurricaneHarvey',\n",
       " '.@RAICESTEXAS at #topgolf for some mental health support. Exactly what I need after @ICEgov detained my client and #HurricaneHarvey pic.twitter.com/5HIWULFP4N',\n",
       " 'idk if any of my followers are affected by Hurricane Harvey, best wishes if you are',\n",
       " 'Do you have a plan of #HurricanePreparedness for #HurricaneHarvey? View this resource, and stay safe! @readygov https://www.ready.gov/hurricanes\\xa0pic.twitter.com/eB6Jl2G1vm',\n",
       " 'New story on NPR: Harvey Nears Major Hurricane Status As It Closes In On Texas Coast http://ift.tt/2xiLfhD\\xa0',\n",
       " 'NASAHurricane: The Copernicus Sentinel-3A satellite saw the temperature at the top  of Hurricane Harvey http://ift.tt/2vnsTus\\xa0 ?',\n",
       " 'Follow our friends @HEBPrepared for details on store and pharmacy closings due to hurricane Harvey.',\n",
       " 'Gas prices at the pump rise as #HurricaneHarvey comes ashore http://www.digitaljournal.com/business/gas-prices-at-the-pump-rise-as-harvey-comes-ashore/article/500924#.WaA4jqIcZvE.twitter\\xa0?',\n",
       " \"Because Trump's ego will always come first and he figures someone else can deal with #HurricaneHarvey.\",\n",
       " 'Aug 23 Goliad SP @TPWDparks is closed due to approaching hurricane Harvey! http://bit.ly/2xduYdN\\xa0pic.twitter.com/W6qbUb85bd',\n",
       " 'Hurricane Harvey could trigger PTSD in Katrina survivors: coroner http://s.nola.com/SBK5LBd\\xa0',\n",
       " 'And by the way, welcome to the first major hurricane to hit the US in the iPhone and social media era. This ought to be interesting. #Harvey',\n",
       " 'Buoy KVAF reports gust to 53 knots as of 915 AM CDT. (61 mph). #HurricaneHarvey #Weather #txwx',\n",
       " 'Rice environmental engineer hopes that Hurricane Harvey will be a wake up call. #Harvey https://www.cbsnews.com/news/hurricane-harvey-poised-to-slam-major-houston-port/\\xa0?',\n",
       " 'If you are evacuating the #CorpusChristi area due to #hurricaneharvey I have availability in #sanantonio --sleeps 3https://www.airbnb.com/rooms/11656398?location=West%20Magnolia%20Avenue%2C%20San%20Antonio%2C%20TX%2C%20United%20States\\xa0?',\n",
       " '\"Texas is about to get hit by a major hurricane, so there\\'s going to be damage,\" FEMA chief tells @GMA. http://abcn.ws/2vn9ytt\\xa0 #Harvey pic.twitter.com/EXGIwFQ2Me',\n",
       " \"let's see if the @realdonaltrump will blame the impact of hurricane Harvey on not having a border wall -bad storm - we need a wall - now\",\n",
       " 'Hurricane Harvey Strengthens, Threatens US With Most Powerful Storm in 12 Years.  #hurricaneharvey http://bit.ly/2wEEmKA\\xa0pic.twitter.com/6NbHwCxAQL',\n",
       " '#HurricaneHarvey could cause loss of running water... fill your bath tubs with water before the storm to use to flush toilets #hurricanetips',\n",
       " \"we're ready for hurricane harvey! \",\n",
       " 'Great metaphor from Lt. Gen. Russel Honoré on vacancies within govt as Hurricane Harvey approaches http://www.cnn.com/2017/08/25/politics/donald-trump-hurricane-harvey-natural-disaster-response-test/index.html\\xa0?pic.twitter.com/vARpPijVU7',\n",
       " 'BREAKING: Hurricane Harvey Is Looking Really Bad! http://redstatewatcher.com/article.asp?id=91823\\xa0?',\n",
       " 'The Weather Channel Live today: Hurricane Harvey Co\\r\\nhttp://shopblogs.net/socks/b/1113790/\\xa0?pic.twitter.com/Ld2jry5J5E',\n",
       " \"Hurricane Harvey's perfect storm recipe: #GlobalWarming = warm water + calm air up high. #dangerous http://www.msn.com/en-us/weather/topstories/harveys-perfect-storm-recipe-warm-water-calm-air-up-high/ar-AAqFK0l?li=BBnb7Kz\\xa0?\",\n",
       " '#HurricaneHarvey https://twitter.com/sarahkendzior/status/901093638066892801\\xa0?',\n",
       " '\"Texans Told to Evacuate Ahead of Hurricane Harvey as Massive Storm Approaches: ?Don?t Take Any Chances? http://peoplem.ag/ioxtiVv\\xa0\"',\n",
       " 'We aren\\'t even going to get a \"Good job, Brownie\" from @realDonaldTrump. He doesn\\'t care. #HurricaneHarvey',\n",
       " 'Expect \"life-threatening and devastating flooding\" along the coast of Texas from Hurricane Harvey #2150BKhttps://apple.news/A3EfpKJVjQkKDVgeRYAdaSQ\\xa0?',\n",
       " '\"Gas prices already on the rise as Texas braces for Hurricane Harvey\" via FOX BIZ http://ift.tt/2vv9Fm4\\xa0',\n",
       " 'this hurricane harvey is not good. seriously have never seen anything like it since hurricane Ike',\n",
       " \"I can't even imagine. If u evacu8 4 #HurricaneHarvey & leave behind a chained #dog, u should spend time in jail. Wth??https://twitter.com/conroecourier/status/901092830336040960\\xa0?\",\n",
       " 'You mention nothing about hurricane Harvey or Texas or demanding charges against the 5 pilgrims who attacked the brutha in #Charlottesvillehttps://twitter.com/realDonaldTrump/status/901031532164468736\\xa0?',\n",
       " '@ChuckGrassley Thank you for reminding @realDonaldTrump he has a job to do and ppl are at risk #HurricaneHarvey',\n",
       " 'Texans Told to Evacuate Ahead of Hurricane Harvey as Massive Storm Approaches: ?Don?t Take Any Chances? http://peoplem.ag/ioxtiVv\\xa0',\n",
       " 'GET OUT NOW! Texas officials warn: Flee Hurricane Harvey https://thehornnews.com/get-now-texas-officials-warn-flee-hurricane-harvey/\\xa0? via @ReadTheHornNews',\n",
       " 'New story on NPR: Harvey Nears Major Hurricane Status As It Closes In On Texas Coast http://ift.tt/2wMxN7W\\xa0 tell me what you think @jose_?',\n",
       " 'Thinking about u all & praying... wow.  Stay safe my friends.   #HurricaneHarvey https://twitter.com/cityofsaint/status/901093414565007360\\xa0?',\n",
       " 'Harvey Nears Major Hurricane Status As It Closes In On Texas Coast http://ift.tt/2wEiChQ\\xa0',\n",
       " 'Looking south from I-10 and Gessner. First major band of rains is here. #HurricaneHarvey pic.twitter.com/ihsE17r5gy',\n",
       " \"#HurricaneHarvey is about to steal Taylor Swift's spotlight... can't wait for her hate album on Mother Nature!!\",\n",
       " \"With Hurricane Harvey's landfall being around the central Texas coast, we should be prepared to experience 1-3... http://fb.me/8SDeQpZrt\\xa0\",\n",
       " 'In 25 years; now lies under 25 ft of water in Matagorda Bay, which is exactly where Hurricane Harvey is predicted to make landfall.  [5]',\n",
       " \"Hurricane Harvey: The markets 'solidly' understand the threat, Dennis Gartman says - CNBC http://www.newsmovingmarkets.com/2017/08/hurricane-harvey-markets-solidly.html\\xa0? #market #economy\",\n",
       " 'Our thoughts are with all of our friends on the Gulf Coast, in Texas, and elsewhere along the path of Hurricane Harvey. Stay safe out there.',\n",
       " 'Harvey Nears Major Hurricane Status As It Closes In On Texas Coast\\r\\nRead more: https://firenewsfeed.com/news/394886\\xa0\\r\\n#texas #hurricaneHarvey pic.twitter.com/MGkFzWBPYt',\n",
       " '@darrenrovell Any analysis of possible PPV money loss for the Mayweather-McGregor fight due to Hurricane Harvey?',\n",
       " \"-i got my braces off :)\\r\\n-new taylor swift music :)\\r\\n-hurricane harvey :/\\r\\n-school is cancelled :)\\r\\n\\r\\n'one of these things is not like the other'\",\n",
       " 'Nobody knows what #HurricaneHarvey will do because he has not given us \"the rest of the story\" #jokesonlyoldpeopleandfarmersget #paulharvey',\n",
       " 'Hurricane Harvey has shit going crazy and our decorator called in so good luck 2 me pic.twitter.com/Nz3yUO2sxD',\n",
       " 'Hoping for the safety and protection of all those in the path of #HurricaneHarvey',\n",
       " 'Look how many Confederate soldiers were named Harvey!  What racist picked this name?! #HurricaneHarvey pic.twitter.com/QQWSPenh3k',\n",
       " 'URGENT UPDATE: Hurricane Harvey http://conta.cc/2ivfj6v\\xa0',\n",
       " 'Everything you need to know about Hurricane Harvey, the strange storm set to hit Texas on Friday | Popular Science http://www.popsci.com/hurricane-harvey-is-poised-to-hit-texas\\xa0?',\n",
       " 'Hey POTUS 45! Instead of attacking your backers, how about being really PRESIDENTIAL, and addressing \"HURRICANE HARVEY\" #Neglectorinchiefhttps://twitter.com/realDonaldTrump/status/901057864516734978\\xa0?',\n",
       " 'Prayers to those in Texas this weekend.     Stay safe! #HurricaneHarvey',\n",
       " \"Sunday's @NCCourage game vs @HoustonDash at BBVA Compass Stadium is postponed pending arrival of #HurricaneHarvey http://southernsoccerscene.com\\xa0\",\n",
       " 'Harvey strengthens into hurricane as US region takes cover: http://aol.it/2xgFIIo\\xa0 via @AOL',\n",
       " '@ all my san antonio peeps! be safe guys!! #HurricaneHarvey pic.twitter.com/Br5qp2mPFn',\n",
       " 'I want this hurricane #Harvey over with already',\n",
       " \"I'm scared for #HurricaneHarvey \",\n",
       " 'The hottest dude just came into my work fucking DRIPPING IN RAIN AND I NEARLY DIED OH MY GOD BLESS HURRICANE HARVEY',\n",
       " 'WATCH:  Federal Emergency Management Agency chief briefs on Hurricane Harvey\\xa0preparedness http://www.aulanews.com/blog/eu/archivos/44299\\xa0?pic.twitter.com/9RHjZbIJ1i',\n",
       " 'The ramifications of a #hurricane in the Gulf of Mexico. #hurricaneharvey #houston #houstontx? https://www.instagram.com/p/BYOH9jJFGMZ/\\xa0',\n",
       " 'We had our first taker on our Hurricane Harvey Golf Shop Sale! Buy any MLB hat between now and Sunday and the... http://fb.me/8u3E8xpjt\\xa0',\n",
       " 'Prayers for those in the path of #HurricaneHarvey',\n",
       " '\"Run from the water, hide from the wind.\" With the approach of Hurricane Harvey, please keep you and your loved ones safe.',\n",
       " \"@PlayWarframe there are a lot of us in texas having to evacuate for Hurricane Harvey. Could you bring this week's baro goodies around again?\",\n",
       " 'RT @NOAA_HurrHunter Sobrevolando el ojo #HurricaneHarvey in WP-3D Orion #NOAA42 \\r\\n\\r\\nCredit: LT Kevin Doremus/NOAA pic.twitter.com/pjO21l64Q4 /WOW',\n",
       " '#HurricaneHarvey approaching the Texas coast as seen from European Space Agency satellite early Friday morning. http://abcn.ws/2wuCT9j\\xa0pic.twitter.com/ZLrqUhWSRM',\n",
       " \"I'm cuddled up on the couch watching unsolved mysteries waiting on hurricane Harvey to hit\",\n",
       " '#HurricaneHarvey',\n",
       " '\"@RedCross: #Hurricane #Harvey moving closer 2 landfall  #Texas, download #Emergency #app 4 critical weather alerts: http://rdcrss.org/2vne1fz\\xa0pic.twitter.com/xLizosfhgh',\n",
       " 'Hurricane Harvey roars toward Texas coast\\r\\n\\r\\nhttp://www.cnn.com/2017/08/25/us/hurricane-harvey/index.html\\xa0?',\n",
       " 'For more information on how to prepare for #HurricaneHarvey: https://www.ready.gov/hurricanes\\xa0pic.twitter.com/czie4s5vxx',\n",
       " \"In the cone of uncertainty... if you've seen flooding before, you will see it again. Check on neighbors who need help. #HurricaneHarvey https://twitter.com/newday/status/901031191784062976\\xa0?\",\n",
       " 'Border checkpoints in Texas are remaining open during mandatory evacuations - stupid & dangerous. http://trib.it/2g9VJMn\\xa0 #HurricaneHarvey',\n",
       " 'We want to know: If you see high water, report immediately. Motorist Assistance Line: 713 CALL MAP (713-225-5627) #harvey #HurricaneHarvey',\n",
       " \"Hurricane Harvey expected to bring winds aleast 111 mph. Please be safe and don't hesitatate to contact us if you need us!\",\n",
       " 'Hurricane Harvey sounds like a rabbit version of Sharknado to me.',\n",
       " 'MRW #HurricaneHarvey roles through #Houston. #Houwx #NoPosEstaCabron #hurricaneharvey2017pic.twitter.com/LPeBe8aalz',\n",
       " \"#UPDATE: '#Hurricane #Harvey strengthens to Category 2 as #evacuations continue' via @cnnbrk #EmergencyPreparednesshttps://buff.ly/2wupGgE\\xa0\",\n",
       " 'Here comes Harvey! #hurricaneharvey #battendownthehatches @ The University of Texas at Austin https://www.instagram.com/p/BYOH_Mznk5N/\\xa0',\n",
       " 'Gas prices could rise on the Suncoast due to Hurricane Harvey.\\r\\nhttps://buff.ly/2vcHcGr\\xa0',\n",
       " 'Energy companies prepare for #HurricaneHarvey\\r\\nhttp://bizj.us/1paoca\\xa0',\n",
       " \"There's no hoping involved. Science shows that #HurricaneHarvey will make landfall in Texas. Why didn't #Trump stop it?\",\n",
       " '#HurricaneHarvey #Hurricane #Cat3https://twitter.com/NASA_SPoRT/status/901093172855656449\\xa0?',\n",
       " \"#Texas Guard Mobilizes Ahead of #Hurricane Harvey's Landfall - DoD https://www.defense.gov/News/Article/Article/1289693/texas-guard-mobilizes-ahead-of-hurricane-harveys-landfall/source/GovDelivery/#.WaA42mueflQ.twitter\\xa0?\",\n",
       " 'Hurricane Harvey strengthens, threatens U.S. with most powerful storm in 12 years And already causing gas spikes. https://apple.news/A3EfpKJVjQkKDVgeRYAdaSQ\\xa0?',\n",
       " 'Stay safe, Texas. #HurricaneHarvey https://twitter.com/goldengateblond/status/901089629083803649\\xa0?',\n",
       " \"I spy from Hurricane Harvey's eye...Corpus Christi, Texas. #HurricaneHarvey pic.twitter.com/4U2HpkNoyU\",\n",
       " 'Tracking Hurricane Harvey. Still a CAT2, but very close to becoming CAT3. Landfall just east of Corpus Christi thi? https://twitter.com/i/web/status/901087311441657858\\xa0?',\n",
       " \"Cool story bro. What are you doing about #HurricaneHarvey? Also, still haven't mentioned the USS McCain soldiers. https://twitter.com/realDonaldTrump/status/901044579750825985\\xa0?\",\n",
       " 'My mood about Hurricane Harvey pic.twitter.com/x0HWuJtPkq',\n",
       " '#XRIM #MONEY FoxBusiness\\r\\n\\r\\nGas prices already on the rise as Texas braces for Hurricane Harvey http://fxn.ws/2w49bqt\\xa0\\r\\n\\r\\n? FOX Business (Fox?',\n",
       " '@POTUS can really shine with his reaction to hurricane Harvey.The country is watching.make Texas and Americans proud of their vote 4 you',\n",
       " 'RT CNN: 10 critically ill babies were evacuated on medical flights from a Corpus Christi hospital ahead of Hurricane Harvey? ?',\n",
       " 'My prayers with everyone in Texas and other states\\r\\n#HurricaneHarvey',\n",
       " 'Everyone in southern Texas, please stay safe and dry! #HurricaneHarvey pic.twitter.com/J3ULTZRAhk',\n",
       " 'Everyone in southern Texas, please stay safe and dry! #HurricaneHarvey pic.twitter.com/aFyw4nd74e',\n",
       " \"Hurricane Harvey - which has been gaining strength - will also strike at the heart of Texas's oil refining industry.\",\n",
       " \"Reminder that all the detailed, life-saving updates about #HurricaneHarvey are thanks to @NOAA. \\r\\n\\r\\nTrump's budget cuts their funding by 16%.\",\n",
       " 'Please use caution when approaching Hurricane Harvey while backstage. Individual has been known to \"blow up\". pic.twitter.com/WdB4RKNfNn',\n",
       " 'Hurricane Harvey image from space. pic.twitter.com/ZzVNCgpMXq',\n",
       " '#HurricaneHarvey https://twitter.com/JaniceJoyHeld/status/901092955884314624\\xa0?',\n",
       " 'NASA footage Hurricane Harvey headed to Texas http://infomagine.blogspot.com/2017/08/nasa-footage-hurricane-harvey-headed-to.html\\xa0? #tech #business #news #technology',\n",
       " 'Latest Hurricane Hunter flight indicating the pressure continues to lower meaning the winds will continue to increase #HurricaneHarvey #txwxpic.twitter.com/eceXT5ZFTE',\n",
       " 'The latest Read the Daily Corporate Brother X! http://paper.li/CorpBrotherX/1341931757?edition_id=8cad77f0-89a4-11e7-a0f6-002590a5ba2d\\xa0? #hurricaneharvey #harvey',\n",
       " 'Big shout out to @JetBlue for awesome customer service for changing a flight due to #HurricaneHarvey',\n",
       " 'David Bailiff on how the Owls are handling the news of Hurricane Harvey while in Sydney. pic.twitter.com/th3HfoaChm',\n",
       " 'I wish all Texans good luck with #HurricaneHarvey',\n",
       " 'hillroger36@gmail.com NPR News: Harvey Nears Major Hurricane Status As It Closes In On Texas Coast August 25, 2017 at 10:47AM',\n",
       " 'Summary for Hurricane Harvey\\xa0(AT4/AL092017) http://www.shelbyohwx.com/summary-for-hurricane-harvey-at4al092017/\\xa0?',\n",
       " 'Best wishes for all in the path of Hurricane Harvey.',\n",
       " '#HurricaneHarvey is on the way and here are a few tips to help you stay safe. weekend.http://bit.ly/2wuTjOD\\xa0pic.twitter.com/oGHvw7U31C',\n",
       " 'Hurricane Harvey strengthens, threatens U.S. with most powerful storm in 12 years http://www.msn.com/en-us/news/us/hurricane-harvey-strengthens-threatens-us-with-most-powerful-storm-in-12-years/ar-AAqH4QT?ocid=ob-tw-enus-610\\xa0?pic.twitter.com/B58flzETPB',\n",
       " \"Stay safe my Texas friends and family. I'll be praying for you. \\r\\n\\r\\n#hurricaneharvey #staysafetexas https://www.instagram.com/p/BYOIBmCFtoL/\\xa0\",\n",
       " 'Hurricane Harvey Update\\xa0Statement http://www.shelbyohwx.com/hurricane-harvey-update-statement/\\xa0?',\n",
       " \"Find all of the Statesman's coverage of Hurricane Harvey (22 stories and counting) here -- http://www.statesman.com/weather/hurricanes/complete-coverage-hurricane-harvey/hSGRomd460PPpqD4CSkG7N/\\xa0?\",\n",
       " '#HurricaneHarvey there is a chance Harvey goes back into the gulf mid week then re strengthens into a hurricane and makes landfall again!! https://twitter.com/edvalleewx/status/901032746637824000\\xa0?',\n",
       " 'BREAKING: Hurricane Harvey On Collision Course With Texas http://youtu.be/fPyRmAi1UCM\\xa0http://www.occuworld.org/news/3601304\\xa0',\n",
       " 'Hurricane Harvey Graphics http://www.shelbyohwx.com/hurricane-harvey-graphics/\\xa0?pic.twitter.com/LqSfnM0BIC',\n",
       " 'Hurricane Harvey Probabilistic Storm Surge\\xa0Graphics http://www.shelbyohwx.com/hurricane-harvey-probabilistic-storm-surge-graphics/\\xa0?',\n",
       " 'As Hurricane Harvey nears the US, we wanted to tell our friends down south to stay safe and please listen to officials with their warnings!',\n",
       " 'New story on NPR: Harvey Nears Major Hurricane Status As It Closes In On Texas Coast http://ift.tt/2wMxN7W\\xa0',\n",
       " 'Our offices will be closed until #HurricaneHarvey has passed.  Everyone stay safe.  Tenants of Blavesco homes if... http://fb.me/1d3w0kUu7\\xa0',\n",
       " '#hurricaneharvey pic.twitter.com/Pt0wMCfHFs',\n",
       " \"Stay Safe #Texas Evacuate if you must & don't forget your pets! Hurricanes are no joke. #HurricaneHarvey\",\n",
       " 'Esperando la llegar de #HurricaneHarvey @CNNEEpic.twitter.com/HTyjCUp7zq',\n",
       " 'This is crazy #HurricaneHarvey https://twitter.com/CNN/status/901067198348787712\\xa0?',\n",
       " 'Hurricane #Harvey https://twitter.com/abc/status/901040630582976512\\xa0?',\n",
       " 'Important advice! may become an issue by midweek. #Texas #HurricaneHarvey https://twitter.com/fbcso/status/900793654192869376\\xa0?',\n",
       " 'Hurricane Harvey is here. Hope everyone is prepared. https://twitter.com/GregAbbott_TX/status/900852097461211136\\xa0?',\n",
       " 'i guess hurricane harvey is really serious because i just heard 3 major news stations talking about it.',\n",
       " \"http://ift.tt/2wbbVAV\\xa0 #TenStories: Texans evacuate as Hurricane Harvey threatens 'life-threatening' flooding; Ousted Thai prime minister?\",\n",
       " \"#HurricaneHarvey will be my first. Let's hope it isn't that bad... pic.twitter.com/JGTVrIZrWo\",\n",
       " 'New story on NPR: Harvey Nears Major Hurricane Status As It Closes In On Texas Coast http://ift.tt/2wMxN7W\\xa0',\n",
       " 'Light rain in Stafford, TX since 7:00 am. In a mtg at 8:00 and thunder rolled. Everyone shut up and looked at the window... #HurricaneHarvey',\n",
       " 'The latest Trending Focus In Student Housing ! http://paper.li/kimcoryfitness/1340311778?edition_id=943fa3d0-89a4-11e7-8f80-0cc47a0d1605\\xa0? #howibecamea #hurricaneharvey',\n",
       " 'We love hurricane daiquiris, but we hope everyone in Houston stays safe this weekend. #Harvey #news #Houstonhttp://bit.ly/2waTf3Y\\xa0',\n",
       " 'New story on NPR: Harvey Nears Major Hurricane Status As It Closes In On Texas Coast http://ift.tt/2wMxN7W\\xa0',\n",
       " 'Hurricane Harvey is expected to bring heavy rain & flooding to TX & LA .Prepare with these tips: http://spr.ly/60498xW5b\\xa0',\n",
       " 'New story on NPR: Harvey Nears Major Hurricane Status As It Closes In On Texas Coast http://ift.tt/2wEiChQ\\xa0',\n",
       " 'Texas Guard Mobilizes Ahead of Hurricane Harvey https://www.defense.gov/News/Article/Article/1289693/texas-guard-mobilizes-ahead-of-hurricane-harveys-landfall/source/GovDelivery/#.WaA49WJk1YE.twitter\\xa0?',\n",
       " 'I added a video to a @YouTube playlist http://youtu.be/Ln6RRI8V3WA?a\\xa0 Hurricane Harvey [Live Stream] - Corpus Christi, TX',\n",
       " 'NYC Mayor considering removing statue of Columbus http://dailym.ai/2xhroj1\\xa0 @MailOnline #RamRahimVerdict #MayweatherMcGregor #HurricaneHarvey',\n",
       " 'Hurricane Harvey strengthens to Category 2 as it approaches Texas http://fb.me/1BehMD1uV\\xa0',\n",
       " 'Round 1: Yellen vs Hurricane Harvey As Speech Competes with Storm For Market?s Focus http://fw.to/2bcoX6h\\xa0 by @TDAJJKinahan $SPY $USO $WFMpic.twitter.com/PLADVRZfNH',\n",
       " 'Past 2_day rain totals from #CLIMPER. Use this link to track #HurricaneHarvey daily #rain totals: http://www.sercc.com/perspectivesmap?region=CONUS&var=precip&period=2_day\\xa0?',\n",
       " '#Texas braces 4 #HurricaneHarvey - #energy firms take action & markets anticipate impact:\\r\\n@SM_Energy\\r\\n#oilandgashttps://www.linkedin.com/feed/update/urn:li:activity:6306854838638571520\\xa0?',\n",
       " \"35+inches of rain?  That's just incomprehensible.  Please I hope everyone has evacuated or found safe shelter #HurricaneHarvey\",\n",
       " 'Winds gusts from #HurricaneHarvey are picking up in #Texas Highest gusts from @WeatherBug stations as of 9:45AM.pic.twitter.com/mcfcgDUAVH',\n",
       " \"Can't even imagine what 3 feet of rain is like. To those who are near Hurricane Harvey, please stay safe.\",\n",
       " 'Hurricane Harvey is closing in on #Texas at 10 mph. Hurricane watches and warnings are in effect  pic.twitter.com/zkLTRiaP5w',\n",
       " '¯\\\\_(?)_/¯\\r\\n\\r\\n#HurricaneHarvey pic.twitter.com/OPu2neacye',\n",
       " 'We?re live with CNNValencia in Corpus Christi as Hurricane Harvey bears down on Texas. \\r\\n\\r\\nWatch live on Facebook:? https://twitter.com/i/web/status/901092172484812800\\xa0?',\n",
       " 'def think they will keep buying brokerages and dumb retail Fs w you #CL #HurricaneHarvey',\n",
       " 'this is me waiting to see how bad this weather gets lmao #HurricaneHarvey pic.twitter.com/ahcPvMDzUD',\n",
       " \"Low-key wondering when Snapchat will give me a geotag for #HurricaneHarvey because that's the world we live in now right\",\n",
       " '\" Hurricane Harvey \" MLP.',\n",
       " \"Let's start that again... http://www.bbc.co.uk/weather/features/41053915\\xa0? #HurricaneHarvey #EditingFail\",\n",
       " 'RT NOAA_HurrHunter Sobrevolando el ojo #HurricaneHarvey in WP-3D Orion #NOAA42 \\r\\n\\r\\nCredit: LT Kevin Doremus/NOAA pic.twitter.com/Yw9QZvVk1C /WOW',\n",
       " \"If it wasn't for twitter and the #HurricaneHarvey memes. I wouldn't have known there was a hurricane coming to texas\",\n",
       " 'FriscoPD: RT FriscoPD_SRO: Happy Friday #Frisco. Please keep our fellow Texans in your thoughts as #HurricaneHarvey prepares to come ashore?',\n",
       " 'Prayers for Texas.  Praying that you all stay safe and heed the warnings. #HurricaneHarvey',\n",
       " \"Thanks Mack @UTAustin #Austin #Texas #sports #coach @UNC #football @TwitterSports #HurricaneHarvey we're Texas tough! @KXAN_News @KLBJ937https://twitter.com/ESPN_CoachMack/status/901079861099245568\\xa0?\",\n",
       " '1 Houston News Search Businesses (Harvey strengthens to Category 2 hurricane with landfall expected tonight) H ... - https://1houston.net/harvey-strengthens-to-category-2-hurricane-with-landfall-expected-tonight/\\xa0?',\n",
       " \"Don't forget that our 2-1-1 Texas/United Way HELPLINE is the go-to resource before, during and after #HurricaneHarvey! pic.twitter.com/Vo4KTymJ65\",\n",
       " 'Some disparate thoughts and observations on #HurricaneHarvey 1/',\n",
       " 'Trending on NPR, Harvey Nears Major Hurricane Status As It Closes In On Texas Coast http://n.pr/2ivmR92\\xa0',\n",
       " 'RT @timtheberge: As #Texas prepares for #HurricaneHarvey, remember that @RapidResponseUS under #WIOA is required for disaster events. #wkdev',\n",
       " 'Hurricane Harvey First Party Property Claims Checklist (Texas) http://ow.ly/wB8J30eG0ZR\\xa0 #insurancelaw #hurricaneharvey',\n",
       " 'I hope the cats @IslandCampus are okay  #HurricaneHarvey',\n",
       " 'Texas be safe! #takeprecautions #hurricaneharvey #hurricaneharveyprep #staycalmpic.twitter.com/VD6UMkEd1T',\n",
       " 'Satellite loop of Hurricane Harvey from #GOES16: http://rammb.cira.colostate.edu/ramsdis/online/loop.asp?data_folder=goes-16/mesoscale_01_band_02_sector_05&width=1000&height=1000&number_of_images_to_display=40&loop_speed_ms=80\\xa0?',\n",
       " 'At anchor and ready to ride out hurricane Harvey.',\n",
       " 'Be safe TEXAS! #HurricaneHarvey',\n",
       " 'Apparently a Giant Rabbit is About to Attack #Texas?? #harvey. #hurricaneHarvey #realtorrunningtheneighborhood #rabbit #JeanClarkRealtorpic.twitter.com/7rDz51VA6s',\n",
       " '\"Hurricane Harvey\" U just know Don Lemon and crew over at CNN are pryaing for deaths & massive destruction so they can blame Trump. Sick!',\n",
       " 'Top story: Hurricane Harvey Intensifies to Category 2 as It Roars Toward Texas ? https://www.nbcnews.com/news/us-news/hurricane-harvey-intensifies-it-roars-toward-texas-n795596\\xa0?, see more http://tweetedtimes.com/emailwire?s=tnp\\xa0',\n",
       " 'GET OUT NOW! Texas officials warn: Flee Hurricane Harvey https://thehornnews.com/get-now-texas-officials-warn-flee-hurricane-harvey/\\xa0? via @ReadTheHornNews',\n",
       " 'Take care! Disaster-Related Behavioral Health Resource Helpline/App, 800-985-5990, https://store.samhsa.gov/apps/disaster/\\xa0 @samhsagov #HurricaneHarvey pic.twitter.com/KCHeVYDyhr',\n",
       " '@SouthPadreHQ is going to get hit hard by hurricane Harvey ',\n",
       " 'People of Texas, praying for you! Be safe #HurricaneHarvey',\n",
       " \"No story for Hurricane Harvey yet\\r\\nWe're ready, we're set,\\r\\nFor whatever will be-\\r\\nMay we all practice safety.\\r\\nNew hurricane in 2017 to be met. pic.twitter.com/Nc5TICelRW\",\n",
       " 'Be safe @iampinkielopez and all in its path  #HurricaneHarvey https://twitter.com/redcross/status/901092509782331392\\xa0?',\n",
       " 'Harvey Nears Major Hurricane Status As It Closes In On Texas Coast http://ift.tt/2wMxN7W\\xa0',\n",
       " 'Praying for all of the Texas gulf coast at the moment, starting with wherever @JimCantore is hunkering down. #HurricaneHarvey https://twitter.com/LiveStormChaser/status/900790422645215232\\xa0?',\n",
       " \"Thinking of Harvey, the family cat, as Harvey, the hurricane, pummels his house in Texas. He's still a bigger threat to birds.\",\n",
       " 'And immense shame on the Border Patrol. @CustomsBorder needs to reverse this & prioritize safety. #HurricaneHarvey https://www.texastribune.org/2017/08/24/border-patrol-texas-checkpoints-remain-open-hurricane-harvey/amp/\\xa0?',\n",
       " 'Look at that EYE! #HurricaneHarvey pic.twitter.com/p0xuoXOpP6',\n",
       " \"'Life-threatening' rainfall expected in Texas, hurricane center says.\\r\\n__\\r\\n\\r\\nHurricane Harvey? https://www.instagram.com/p/BYOIGTpFKEv/\\xa0\",\n",
       " '15 trillion gallons of water from Hurricane #Harvey could fill 177,000 Rose Bowls or 22 million Olympic-size pools? https://twitter.com/i/web/status/901093052370092032\\xa0?',\n",
       " 'i hope hurricane harvey wont hit austin ',\n",
       " 'New story on NPR: Harvey Nears Major Hurricane Status As It Closes In On Texas Coast http://ift.tt/2wMxN7W\\xa0',\n",
       " 'Harvey Nears Major Hurricane Status As It Closes In On Texas Coast http://ift.tt/2wMxN7W\\xa0 #freeticketmaxims #Updates #FTM',\n",
       " \"A closer look at Hurricane Harvey's expected path: The storm could inundate Texas with rain until Wednesday.? https://twitter.com/i/web/status/901093669704536066\\xa0?\",\n",
       " 'Hurricane damage as measured by Saffir-Simpson scale. #Harvey\\r\\nhttp://bit.ly/2wN87bn\\xa0pic.twitter.com/mgTx22gpW3',\n",
       " '.@realDonaldTrump will not be involved in ANY important decisions regarding hurricane Harvey. He will read a script and take credit for it.',\n",
       " \"You make propaganda video, as if you were doing something then spend your time on twitter to ramble. What're u doing about #hurricaneharvey\",\n",
       " 'US: Hurricane Harvey ? everything you need to know about the moerse storm heading for Texas http://ebx.sh/2xiPM3B\\xa0',\n",
       " 'Travel Alert August 2017: Hurricane Harvey Threatens Western Gulf Coast - The Gate\\r\\nhttp://crwd.fr/2wNf8J2\\xa0pic.twitter.com/QicNiydzKd',\n",
       " 'Atlanta (GA) CBS46: 5 Reasons to closely watch Hurricane Harvey',\n",
       " \"How will Hurricane Harvey's winds and torrential rains impact Texas' coastal features?  #USGS https://marine.usgs.gov/coastalchangehazardsportal/\\xa0?\",\n",
       " 'You can see the smaller eye being replaced by the new eye in #Harvey. Awesome #GOES16 images. #HurricaneHarvey #txwxhttps://twitter.com/NASA_SPoRT/status/901093172855656449\\xa0?',\n",
       " 'Oil prices surge as Texas braces for #HurricaneHarvey https://on.rt.com/8lbg\\xa0',\n",
       " \"Y'all better take ur pets with you when you evacuate #HurricaneHarvey pic.twitter.com/g4GWYDG7Xq\",\n",
       " 'Hurricane Harvey strengthens to Category 2 #jlabnewshttps://amp.cnn.com/cnn/2017/08/25/us/hurricane-harvey/index.html\\xa0?',\n",
       " '@USDA offers tips on #foodsafety for areas affected by #hurricane Harvey.\\r\\n#texas #storm #safety #food #ibistro http://fpme.link/KFUMfU\\xa0',\n",
       " 'Arnhem Weather - Hurricane Harvey intensified early on Friday into potentially the most powerful hurricane to hit? https://goo.gl/fb/vhm2RY\\xa0',\n",
       " \"Find all of the @Statesman's coverage of Hurricane Harvey (22 stories and counting) here -- http://www.statesman.com/weather/hurricanes/complete-coverage-hurricane-harvey/hSGRomd460PPpqD4CSkG7N/\\xa0?\",\n",
       " 'Best of luck to @METROHouston and the communities facing down Hurricane Harvey https://twitter.com/METROHouston/status/901089391929634816\\xa0?',\n",
       " 'Lightning strike in the eye wall of #HurricaneHarvey, top image is radar picking up on birds trapped in the eye. (Red, orange dots) #txwxpic.twitter.com/HKbmTvWU3K',\n",
       " \"I'd love to see the Venn diagram on ppl that dont evacuate & ppl who dont believe in climate change. Has to be sig. overlap #HurricaneHarvey\",\n",
       " 'New album by @TheWarOnDrugs is out NOW.  My soundtrack for #HurricaneHarvey  #ADeeperUnderstanding #favoriteband',\n",
       " 'Prayers to anybody in that texas region thas gon be in that storm #HurricaneHarvey',\n",
       " 'Stay safe during #hurricaneharvey people. Prepare. Hope for the best. Prepare for the worst',\n",
       " 'Hurricane Harvey Presents Major Stress Test For Trump Administration http://truepundit.com/hurricane-harvey-presents-major-stress-test-for-trump-administration/\\xa0?',\n",
       " 'Plz join me in prayer for those in the path of Hurricane Harvey!!',\n",
       " 'I hope you & @That_MrsDavis stay safe during #HurricaneHarvey',\n",
       " 'Good Luck Texas  \\r\\n#HurricaneHarvey',\n",
       " 'Talking to @BobVanDillen about the latest on #HurricaneHarvey in Corpus Christi, Texas in just 10 minutes. #AcrossAmerica',\n",
       " \"It's possible Hurricane Harvey could douse areas of Texas up until next Wednesday. https://usat.ly/2gaSSCL\\xa0pic.twitter.com/XhkNj9sbpi\",\n",
       " 'Prayers to all in the path of  #HurricaneHarvey',\n",
       " 'Get Out, Get Out, Get Out ? Hurricane Harvey is Going to be Catestrophic pic.twitter.com/x22D8v2dRA',\n",
       " 'Hurricane Harvey: Texas braces for category two storm - http://www.bbc.co.uk/news/world-us-canada-41045079\\xa0? #jlabnews',\n",
       " 'To our communities in Texas and Louisiana, you are in our thoughts and prayers as #HurricaneHarvey moves closer to landfall.',\n",
       " 'Hurricane Harvey https://i.redd.it/p3jw66vwcwhz.jpg\\xa0?',\n",
       " 'Water pumps are in place in Ascension Parish as Louisiana braces for Hurricane Harvey @WBRZpic.twitter.com/OB4HVlKkz6',\n",
       " 'Hurricane Harvey Presents Major Stress Test For Trump Administration http://truepundit.com/hurricane-harvey-presents-major-stress-test-for-trump-administration/\\xa0?',\n",
       " 'Looking for rain/storm/flood/hurricane songs for my #Harvey playlist. Any suggestions?',\n",
       " 'Travel in Texas and New Orleans is expected to be hugely impacted by #HurricaneHarvey http://ow.ly/OhOt30eFZTS\\xa0pic.twitter.com/2U3gjxZH02',\n",
       " 'Hurricane Harvey strengthens to Category 2, evacuations on http://fb.me/9qoDCj0pH\\xa0',\n",
       " 'Hurricane Harvey http://www.esa.int/spaceinimages/Images/2017/08/Hurricane_Harvey\\xa0? via @esa',\n",
       " 'If beer + wine are also on your list of essentials, the Kitchen has you covered! #HurricaneHarvey pic.twitter.com/mOZiJQimDq',\n",
       " 'Hurricane Harvey: How to stay safe https://www.accuweather.com/en/videos/hurricane-harvey-how-to-stay-safe/d0cdjmyze64l5j1iirbbbsvmpaakpibc\\xa0?',\n",
       " \"#Harvey will hit Texas tonight as Category 3 #Hurricane. Flooding expected in #TX & #LA. Stay safe w/ ESFI's Tips: http://ow.ly/aw4630eFR3G\\xa0pic.twitter.com/rVdsH7jJxS\",\n",
       " \"Looking ahead, I was about to frown upon Monday/Tuesday rain forecast..then I remembered TX/LA's #HurricaneHarvey.. #Godspeed\",\n",
       " 'Harvey Nears Major Hurricane Status As It Closes In On Texas Coast - http://f0rk.in/bMs\\xa0',\n",
       " 'Hurricane Harvey strengthens, threatens U.S. with most powerful storm in 12 years http://a.msn.com/01/en-us/AAqH4QT?ocid=st\\xa0?',\n",
       " 'Follow us through the weekend 4 threats to #bizav from Hurricane Harvey, potentially a Cat 3 hurricane by landfall: https://www.nbaa.org/ops/airspace/weather/harvey/\\xa0?',\n",
       " 'I hate you. #HurricaneHarvey',\n",
       " 'Hurricane Harvey already triggering mandatory evacuations in Texas http://nbcnews.to/2wE7l13\\xa0 via @nbcnews #PrayersforTexas',\n",
       " 'Hurricane Harvey--unless you are trained in emergency public assistance or healthcare, please DO NOT ENTER threat zones. It hurts efforts!',\n",
       " 'Jim you must be racking up those frequent flyer miles this week. Do you thinkbtge eclipse has played a role in hurricane Harvey ferouisness?',\n",
       " 'With Trump in Charge, Heightened Fears of a Hurricane Harvey Petrochemical Nightmare - https://goo.gl/W8fJ7V\\xa0',\n",
       " 'New story on NPR: Harvey Nears Major Hurricane Status As It Closes In On Texas Coast http://ift.tt/2wMxN7W\\xa0',\n",
       " '#backchannel thoughts and prayers to the people in the path of Hurricane Harvey! pic.twitter.com/ZXttOJMX5I',\n",
       " 'Current conditions on Port Isabel: choppy waters, gray skies, and  strong winds continue showing #HurricaneHarvey is fast approaching pic.twitter.com/53KFLcTMW5',\n",
       " 'When you live by a river & make a last minute decision to get the heck out of Dodge. #Harvey #HurricaneHarvey pic.twitter.com/OsTUHlMOiq',\n",
       " 'Hurricane Harvey already triggering mandatory evacuations in Texas http://nbcnews.to/2wE7l13\\xa0 via @nbcnews BE SAFE OUT THERE',\n",
       " 'Right back atcha and thoughts are with Texas with Hurricane Harvey approaching. Hope all your loved ones stay safe! xo',\n",
       " '#CentralHealth & partners including @CommUnityCareTX prepared to help with local #HurricaneHarvey response @TravisCountyTXpic.twitter.com/DQyKbLluqL',\n",
       " 'CALL 211 NOW if you need assistance with #HurricaneHarvey.  Otherwise, EVACUATE NOW & TAKE YOUR ANIMALS WITH YOU! http://www.211texas.org\\xa0',\n",
       " 'Hopefully school gets cancelled for Monday #HurricaneHarvey',\n",
       " 'Harvey Nears Major Hurricane Status As It Closes In On Texas Coast http://ift.tt/2wMxN7W\\xa0',\n",
       " 'Hurricane Harvey good points momentum because it nears the Texas coast - https://www.wownews.us/hurricane-harvey-good-points-momentum-because-it-nears-the-texas-coast/\\xa0?pic.twitter.com/m7piUbcJ1M',\n",
       " 'Waiting for #HurricaneHarvey to say \"I\\'d like to apologize wholeheartedly to Texas for my huge mistake. I feel terrible.\" and turn around.',\n",
       " 'These are the power plants directly in #HurricaneHarvey?s direct footprint. @EIAgov is such a great resource.pic.twitter.com/t0D8CbBz57',\n",
       " \"@Delta is giving refunds to its customers affected by hurricane Harvey. What can't you? @AmericanAir\",\n",
       " 'Just landed. Hope to get out before hurricane #Harvey  arrives. #Harvey2017pic.twitter.com/dmbaupYSIY ? at Dallas/Fort Worth International Airport (DFW)',\n",
       " 'NASA footage Hurricane Harvey headed to\\xa0Texas https://societyresource.com/nasa-footage-hurricane-harvey-headed-to-texas/\\xa0?',\n",
       " 'Hurricane Harvey strengthens, threatens U.S. with most powerful storm in 12 years - Reuters https://apple.news/A3EfpKJVjQkKDVgeRYAdaSQ\\xa0?',\n",
       " \"Another UPDATE: Hurricane Harvey is poised to hit #Texas today, and it's not your average storm. http://www.msn.com/en-us/news/weather/hurricane-harvey-is-poised-to-hit-texas-today-and-its-not-your-average-storm/ar-AAqGvoT?li=BBnbcA1\\xa0? #dangerous\",\n",
       " 'Lmao my supervisor emailed us all to come into work this morning regardless of Hurricane Harvey, but his ass never showed up...fuckin pussy.',\n",
       " 'New story on NPR: Harvey Nears Major Hurricane Status As It Closes In On Texas Coast http://ift.tt/2wEiChQ\\xa0',\n",
       " 'To all friends\\r\\nin TX, stay safe. \\r\\n#HurricaneHarvey',\n",
       " 'RT SenTedCruz \"For more information on how to prepare for #HurricaneHarvey: https://www.ready.gov/hurricanes\\xa0 pic.twitter.com/89U9CIOE9G\"',\n",
       " 'WATCH LIVE: Conditions deteriorating as Hurricane Harvey approaches TX\\r\\nLIVE STREAM: http://at.wftv.com/2wuunH9\\xa0\\r\\nFB LIVE: http://at.wftv.com/2wuxC1b\\xa0pic.twitter.com/mZowYTD2Sx',\n",
       " 'BREAKING: Hurricane Harvey On Collision Course With Texas http://youtu.be/fPyRmAi1UCM\\xa0http://www.occuworld.org/news/3601304\\xa0',\n",
       " 'Hurricane Harvey: evacuations under way as storm heads for Texas https://www.theguardian.com/world/2017/aug/25/hurricane-harvey-evacuations-under-way-as-monster-storm-heads-for-\\xa0? @texas?CMP=share_btn_tw @Taylorgaylesing',\n",
       " 'The latest The MBA Daily! http://paper.li/LaNishaRene/1328302221?edition_id=bed4fa00-89a4-11e7-a417-0cc47a0d15fd\\xa0? #hurricaneharvey #harvey',\n",
       " 'for those being affected by hurricane harvey , please stay safe  #hurricaneharvey',\n",
       " 'Drmanish_soni: RT CNN: 10 critically ill babies were evacuated on medical flights from a Corpus Christi hospital ahead of Hurricane Harvey??',\n",
       " 'Hurricane Harvey: Texas braces for category two storm - BBC News http://www.bbc.com/news/world-us-canada-41045079\\xa0?',\n",
       " ' ?Hurricane Harvey continues to intensify as it nears Texas?\\r\\n\\r\\nhttps://twitter.com/i/moments/901061756713357316\\xa0?',\n",
       " \"Hurricane Harvey essentials....be safe family and friend's! #watchoveruslord https://www.instagram.com/p/BYOILi4jaRR/\\xa0\",\n",
       " '@J_R_Schneider please be safe I just noticed Hurricane Harvey maybe heading your way',\n",
       " 'The City of San Antonio and City of Dallas have opened up shelters. If you need to head north, do so now. #HurricaneHarvey',\n",
       " 'RT CutlipNC \"RT SenTedCruz \"For more information on how to prepare for #HurricaneHarvey: https://www.ready.gov/hurricanes\\xa0 pic.twitter.com/5dNZPU7DKj\"\"',\n",
       " 'What university has professors who call to check on one of its students because Hurricane Harvey is coming to... http://fb.me/1m8FY2QLD\\xa0',\n",
       " '#HurricaneHarvey trying to eat Texas pic.twitter.com/H2HiD7sBrn',\n",
       " \"Hurricane Harvey will raise gas prices. I'm not having that!! Do something about it @realDonaldTrump\",\n",
       " 'Gasoline, batteries, water, and treats from Petite Sweets! All the necessities for Hurricane Harvey! #sweets #macarons #hurricanefoodpic.twitter.com/BvTr54dDGm',\n",
       " \"Hey, Corpus! We're closed until further notice. Stay safe, friends! #HurricaneHarvey \",\n",
       " \"#hurricaneharvey 2017 it's coming https://www.instagram.com/p/BYOIMFdgJ2PveI-oiXJVkl2Foomu_Y4K4JLXew0/\\xa0?\",\n",
       " '#gasprices #gas #HurricaneHarvey #Harvey2017https://twitter.com/FoxBusiness/status/901093545888681984\\xa0?',\n",
       " \"I can't believe I was supposed to be in Houston today. Be safe Texas  #HurricaneHarvey\",\n",
       " 'Praying for our friends and family in #Texas Be safe #HurricaneHarvey',\n",
       " 'Praying for undocumented residents along the TX/ Mex border and the working poor with no means to get out of the away. #HurricaneHarvey ',\n",
       " '#HurricaneHarvey https://twitter.com/sarahkendzior/status/901093885581111296\\xa0?',\n",
       " 'Evacuating #HurricaneHarvey',\n",
       " 'I think \"Cat 4\" made me laugh the most. Stay safe! #hurricane #hurricaneharvey https://www.instagram.com/p/BYOIMlRDE3p/\\xa0',\n",
       " 'For those covering #HurricaneHarvey , @NPPA Safety & Security Task Force Chair @ChrisMPost has some handy tips to stay safe #weather #mynppapic.twitter.com/GZwwnJGxRj',\n",
       " 'Democrats watching Trump destroy the Republican Party!\\r\\n#FridayFeeling\\r\\n\"Hurricane Harvey\"\\r\\n\"Trump and Pruitt\"\\r\\n\"Fort Knox\"\\r\\n\"Bob Corker\" pic.twitter.com/SACPmXLsSM',\n",
       " 'QUARTZ: Where and when Hurricane Harvey could strike this weekend http://bit.ly/2ivzaSS\\xa0',\n",
       " 'New story on NPR: Harvey Nears Major Hurricane Status As It Closes In On Texas Coast http://ift.tt/2wMxN7W\\xa0',\n",
       " 'Life jacket on #Selena statue in #CorpusChristi  #Texas is ready for #Harvey! #hurricaneharvey #AnythingForSelenaspic.twitter.com/7ppa0Ydn16',\n",
       " \"Hurricane Harvey. Tip- throw your patio furniture in the pool. It won't be able to blow around & you don't have to find room for it in garag\",\n",
       " \"Oh shit. #Texas #HurricaneHarvey y'all be safe please. Please please please. https://twitter.com/ChefResha/status/901092844101926912\\xa0?\",\n",
       " '#RT @RT_com: Oil prices surge as Texas braces for #HurricaneHarvey https://on.rt.com/8lbg\\xa0',\n",
       " 'As Hurricane Harvey approaches Ygriega wants to remind the RGV that we are available for emergency response services @krgv @kgbt',\n",
       " 'Please follow local evacuations and any other precautions to remain out of harm?s way during the storm. #HurricaneHarvey',\n",
       " 'Hurricane Harvey, Samsung, Tappan Zee Bridge: Your Friday Briefing https://nyti.ms/2vvacnY\\xa0',\n",
       " 'Frightening footage of #HurricaneHarvey. Thoughts w/ all  in TX area & 1st responders, like @IN_Task_Force_1. Local effort on @WISH_TV at 5https://twitter.com/BostonGlobe/status/901093855956783104\\xa0?',\n",
       " 'Hoping my friends in #Texas stay safe next few days. \\r\\n\\r\\n#HurricaneHarvey',\n",
       " \"#HurricaneHarvey is exemplifying a classic hurricane look and it's eye has increased likely indicating strengthening! @ReedTimmerAccupic.twitter.com/OAzr8p5SGh\",\n",
       " \"Captain Orange best get that speech written where he makes our hurricane Harvey response all about him. We're about to be so unfair to him.\",\n",
       " 'I added a video to a @YouTube playlist http://youtu.be/UkDPhTyXYH4?a\\xa0 HURRICANE HARVEY CAT 3 possible CAT 4 STRENGTHENING FAST LIVE ',\n",
       " 'Already raining here in southern Brazoria County. Expecting at least 20 inches of rain in my area #HurricaneHarvey',\n",
       " 'The @NOAA_HurrHunter team is heading up on another mission into #HurricaneHarvey. Track #NOAA42: https://flightaware.com/live/flight/NOAA42\\xa0?pic.twitter.com/fDcLqBh5F8',\n",
       " 'Reflecting on #HurricaneAndrew, 25 years ago but feels like just yesterday I heard those winds howl! Thinking of #TX #HurricaneHarvey',\n",
       " \"Good morning, Twitter! We drove over 100 miles away from the coast and woke up to find out we're still in a flood zone! #HurricaneHarvey\",\n",
       " 'CoreLogic Analysis Shows More Than 200,000 Homes in TX at Potential Risk of Storm Surge Damage from Hurricane Harvey http://www.corelogic.com/about-us/news/corelogic-analysis-shows-more-than-200,000-homes-in-texas-at-potential-risk-of-storm-surge-damage-from-hurricane-harvey.aspx\\xa0?',\n",
       " 'Prepare for higher gas prices fill up the gas tanks and any other spare gasoline jugs. #USA #HurricaneHarvey',\n",
       " '#USA #BREAKING #NEWS click here  http://ift.tt/2wMBfiP\\xa0  #U.S. News Harvey Nears Major Hurricane Status As It Closes In On Texas Coast pic.twitter.com/tkPJZiar5c',\n",
       " 'Hurricane Harvey: evacuations under way as storm heads for Texas https://www.theguardian.com/world/2017/aug/25/hurricane-harvey-evacuations-under-way-as-monster-storm-heads-for-texas?CMP=share_btn_tw\\xa0? @lovepastblue',\n",
       " 'Hurricane Harvey steamrolls into Texas coast while Hurricane Donald devastates the rest of America.',\n",
       " 'A natural disaster, like #HurricaneHarvey, can affect all aspects of your life http://bit.ly/1GGR4XC\\xa0',\n",
       " \"Moments like these demonstrate just how dangerous it can be to dismiss real news as 'fake news.' Be smart. Stay safe. #HurricaneHarvey https://twitter.com/cnn/status/901078004847321088\\xa0?\",\n",
       " 'Hurricane #Preparedness Tips ? Last Minute Preparations for Hurricane Harvey https://goo.gl/fb/ykuM4M\\xa0',\n",
       " 'Sending prayers from #Florida for all those in the path of Hurricane #Harvey. Please listen to officials. #PrayForTexas #GodBlesshttps://twitter.com/nwsbrownsville/status/901074006350155776\\xa0?',\n",
       " \"Trump won't fund or staff FEMA, but he'll send Border Control2 deport illegals DURING HURRICANE? #DeportTRUMP #HurricaneHarvey #Texashttps://twitter.com/RVAwonk/status/901079679901237248\\xa0?\",\n",
       " 'Border Patrol Makes Clear That Undocumented People Fleeing Hurricane Harvey May Still Be Arrested http://splinternews.com/border-patrol-makes-clear-that-undocumented-people-flee-1798422951?utm_medium=sharefromsite&utm_source=Splinter_twitter\\xa0? via @Splinter_news',\n",
       " 'Hurricane Harvey is stressing me out.. stay safe my Texans ',\n",
       " 'Hurricane Harvey evacuees offered free Airbnb stays http://ift.tt/2waUnVh\\xa0',\n",
       " 'Dress up as Hurricane Harvey! ',\n",
       " \"Praying for safety and God's peace for all of you!!!\\r\\n#HurricaneHarvey https://twitter.com/onegroovynun/status/901087124979564544\\xa0?\",\n",
       " 'As we monitor the storm?s progress, we will keep everyone updated on any potential store closures. STAY SAFE! #HurricaneHarvey',\n",
       " 'We hope for the safety of all in #TX, but are concerned about the lack of preparedness. #ClimateCrisis #HurricaneHarvey  https://twitter.com/TheBaxterBean/status/900807447236968450\\xa0?',\n",
       " 'Katy ISD closed due to Hurricane Harvey http://bubly.us/aH5C\\xa0',\n",
       " 'Stay safe if you?re in the path of #HurricaneHarvey.',\n",
       " 'San Antonio, TX is preparing for any #HurricaneHarvey evacuees. \\r\\nCheck-in point:\\r\\n200 Gembler Road, just northeast of the AT&T Center.',\n",
       " 'The latest The Travel Virginia Daily! http://paper.li/TravelVirginia/1327845068?edition_id=d5f42a80-89a4-11e7-ad3f-0cc47a0d1609\\xa0? Thanks to @WomensInspireIE @SocialInFairfax @photosbyblaine #hurricaneharvey',\n",
       " 'Hurricane survival pack: #DontJudgeMe #HurricaneHarvey pic.twitter.com/2n3sVpJiPB',\n",
       " \"Before Hurricane Harvey hits I just wanna say I love y'all but not more than @JohnMayerpic.twitter.com/AXYozsc2DB\",\n",
       " \"Hurricane Harvey is poised to hit Texas today, and it's not your average storm\\r\\nhttp://flip.it/dTO9cK\\xa0\",\n",
       " 'To watch progress of Hurricane Harvey as it comes ashore in Texas. Here are 8 live Texas webcams. #Harvey https://atxne.ws/2wMtxoN\\xa0pic.twitter.com/UTsQxUaHzX',\n",
       " 'BBCWorld: RT bbcweather: The latest on #HurricaneHarvey from Nick Miller pic.twitter.com/62gyxs03tL',\n",
       " \"@realDonaldTrump Meet me in Texas so I know it's real \",\n",
       " 'Brownsville #Texas radar hint potential erosion of inner-eyewall, while outer strengthens. May explain #HurricaneHarvey leveling off for now pic.twitter.com/76Fmfg4izA',\n",
       " '@amazonprimenow trying to order provisions for hurricane harvey and and an error keeps occurring on your end... wtf??',\n",
       " \"pammy2526's photo https://instagram.com/p/BYOHA2fHJLh/\\xa0 lol cutie  #HurricaneHarvey\",\n",
       " 'Oil prices surge as Texas braces for #HurricaneHarvey https://on.rt.com/8lbg\\xa0',\n",
       " 'Is it bad when I think of Hurricane Harvey I think of Steve Harvey just plowing into Corpus Christi and screaming at the same time pic.twitter.com/KRH07eSPEz',\n",
       " 'Wishing everyone a safe weekend especially if you are in harms way of hurricane Harvey! pic.twitter.com/87kZh6Xkiv',\n",
       " 'NOAA #HurricaneHarvey advisory map for each state in its path http://www.weather.gov/\\xa0',\n",
       " 'Texans who don\\'t listen to weather forecasters on the issue of climate--they sure believe in \"Hurricane Harvey\", suddenly.',\n",
       " 'Thinking of all who are in the path of #HurricaneHarvey  Stay safe.',\n",
       " 'Hurricane Harvey strengthens, threatens U.S. with most powerful storm in 12 years https://reut.rs/2g6PlFi\\xa0',\n",
       " \"Hurricane Harvey ain't no joke.\",\n",
       " 'Guy Gets Up Close to Hurricane Harvey in Texas - HARRICANE: http://youtu.be/v4lH6SkLq44?a\\xa0 via @YouTube',\n",
       " 'NASA Satellites Watch as Hurricane Harvey Intensifies Off Texas Coast (Video) http://fb.me/wdgBuWSS\\xa0',\n",
       " \"Incredible #hurricane eye cloud structure of #Harvey as seen by #HarrisCorp's ABI. Look under the hood of #GOES16: http://bit.ly/2tBW2QT\\xa0pic.twitter.com/DNRgcIB1kN\",\n",
       " 'My boss made me come into work, despite trying to prepare for the storm, and then told me to leave 10 minutes later #HurricaneHarvey pic.twitter.com/OlKEOHfb8R',\n",
       " 'As Hurricane Harvey approaches Ygriega wants to remind the RGV that we are available for emergency response services\\r\\n@HidalgoCounty',\n",
       " 'Hurricane Harvey: How to stay in touch with loved ones during the storm http://callertim.es/2xxuKNZ\\xa0 via @callerdotcom',\n",
       " 'As Hurricane Harvey bears down on TX coast, POTUS Tweets re: Sen Corker, COS Kelly, Fake News, his ego, & his Arizona trip. Hurricane? Nope.',\n",
       " \"#hurricaneharvey - Hey even if y'all overdo it with preparing(last minute), at least you don't have to go grocery shopping for a while \",\n",
       " 'So pretty! #HurricaneHarvey https://twitter.com/NWSOPC/status/901093167856070657\\xa0?',\n",
       " 'cc: @Acosta  >  White House readies for test of Hurricane Harvey http://www.chron.com/news/politics/article/White-House-readies-for-test-of-Hurricane-Harvey-11957992.php?cmpid=twitter-mobile&cmpid=twitter-desktop\\xa0? via @houstonchron',\n",
       " 'RT bbcweather: The latest on #HurricaneHarvey from Nick Miller http://ift.tt/2wEgCGp\\xa0 BBCWorld',\n",
       " 'Prayers to everyone in #HurricaneHarvey path...',\n",
       " \"The latest The BHM's Utah News Daily! http://paper.li/BHMUTAHNEWS/1330102293?edition_id=e0b79920-89a4-11e7-a0f6-002590a5ba2d\\xa0? #hurricaneharvey #harvey\",\n",
       " 'Due to #HurricaneHarvey, our office will be closing at noon today. Stay safe, everyone! pic.twitter.com/CO9yKpUwbJ',\n",
       " 'Hurricane Harvey Strengthens to Category 2, Mandatory Evacuations Ordered http://www.nbcnews.com/storyline/hurricane-harvey/hurricane-harvey-strengthens-category-2-mandatory-evacuations-ordered-n795856\\xa0? via @nbcnews pray for texas',\n",
       " 'Thinking of my amazing brother @cp_astros and his wife as #HurricaneHarvey ravages Texas..  https://twitter.com/wxlada/status/901091294642143233\\xa0?',\n",
       " 'New story on NPR: Harvey Nears Major Hurricane Status As It Closes In On Texas Coast http://ift.tt/2wMxN7W\\xa0',\n",
       " 'Hurricane Harvey could cause US gas prices to rise, with storm expected to hit refinery-rich stretch of Gulf Coast http://www.wndu.com/content/news/Hurricane-Harvey-likely-to-boost-gas-prices-for-US-drivers-441736063.html\\xa0?',\n",
       " 'RT CutlipNC \"RT SenTedCruz \"For more information on how to prepare for #HurricaneHarvey: https://www.ready.gov/hurricanes\\xa0 pic.twitter.com/UQ09dYG3YA\"\"',\n",
       " 'Hoping @malloryjn and everyone in Texas and the Gulf Coast is safe from #HurricaneHarvey https://twitter.com/malloryjn/status/900866448972795904\\xa0?',\n",
       " 'The latest on #HurricaneHarvey from Nick Miller\\r\\n\\r\\n pic.twitter.com/qu5SDPLyGV',\n",
       " 'Border Patrol Makes Clear That Undocumented People Fleeing Hurricane Harvey May Still Be Arrested http://splinternews.com/border-patrol-makes-clear-that-undocumented-people-flee-1798422951?utm_medium=sharefromsite&utm_source=Splinter_twitter\\xa0? via @Splinter_news',\n",
       " 'The latest Neffy News Splash! http://paper.li/f-1407329501?edition_id=e4fdf560-89a4-11e7-ad3f-0cc47a0d1609\\xa0? #hurricaneharvey #stxwx',\n",
       " 'Trump phones Texas, Louisiana governors ahead of Hurricane Harvey | TheHill http://thehill.com/homenews/administration/347900-trump-phones-texas-louisiana-governor-ahead-of-hurricane-harvey\\xa0?',\n",
       " 'Force 3 Friday ? Hurricane Harvey Throws Markets into Turmoil http://beforeitsnews.com/financial-markets/2017/08/force-3-friday-hurricane-harvey-throws-markets-into-turmoil-2932534.html\\xa0?',\n",
       " 'I pray for the safety of all Texans & others in the path of #HurricaneHarvey My sister and family too, who live near Victoria. \\r\\nStay Safe!!!',\n",
       " \"S Texas slammed with #hurricane, N Texas feeling #earthquake. What happened to 'Don't mess with Texas?' #harvey #Harvey2017\",\n",
       " 'Hurricane Harvey Approaching Texas Coastline, Schedule for Landfall Late Friday http://fb.me/1zo0Tw6Mw\\xa0',\n",
       " 'Stay safe out there folks\\r\\n#HurricaneHarvey pic.twitter.com/zBma2HNknJ',\n",
       " 'RT qz \"Where and when Hurricane Harvey could strike this weekend http://bit.ly/2ivzaSS\\xa0\"',\n",
       " 'The Official Hurricane Harvey Watch Party. http://l776.us/hX4\\xa0',\n",
       " \"We're stocked up and hunkering down for #HurricaneHarvey - stay safe and dry, fellow Texans! pic.twitter.com/wCiPCRS48T\",\n",
       " \"It's always #HurricaneHarvey my house #Harveyspecter @GabrielMacht\",\n",
       " 'Hurricane Harvey (110 mph) will slowly strengthen before making landfall tonight along the middle Texas coast. Huge impacts from water/wind. pic.twitter.com/S9jnCXt7tf',\n",
       " 'Hurricane Harvey Approaching Texas Coastline, Schedule for Landfall Late Friday http://fb.me/CiD7NV7o\\xa0',\n",
       " 'Hurricane #Harvey = Gator Warning in TX https://twitter.com/fbcso/status/900793654192869376\\xa0?',\n",
       " '946 milibars... WOW.  #Harvey #hurricaneHarvey https://twitter.com/bennollweather/status/901044376394055681\\xa0?',\n",
       " 'Our thoughts and prayers are with our friends in the path of #HurricaneHarvey @JimCantore @NWSCorpushttps://twitter.com/JimCantore/status/901048994364870656\\xa0?',\n",
       " 'I hear the only savior/protector for texas against hurricane harvey  is..... hurricane rivera! ',\n",
       " \"Houston's got bad news, stock up on water & food...propane. #Harvey #HurricaneHarvey pic.twitter.com/2cLMn6Qps8\",\n",
       " 'Hurricane Harvey Highlights Importance of Disaster Preparations for Businesses - http://sobizblog.com/hurricane-harvey-highlights-importance-of-disaster-preparations-for-businesses/\\xa0?pic.twitter.com/XuS0vwsBYx',\n",
       " 'Exceedingly civil crowd at @Kroger this morning. Holding people to 2 cases of bottled water?but at least they have some. #HurricaneHarvey',\n",
       " 'Nothing says Welcome to Texas  like driving through a Hurricane  #TexasBound #9hours #SOS #AR #TX #Abilene #HurricaneHarvey',\n",
       " \"'Life-threatening' Hurricane Harvey strengthens ahead of landfall http://nyp.st/2w36EN2\\xa0 via @nypost\",\n",
       " 'Hurricane Harvey forces postponement of Sporting KC-Houston match http://trib.al/YihIqOM\\xa0pic.twitter.com/Rz5UGJbPrI',\n",
       " 'Keeping Texans in my prayers as they brace for #HurricaneHarvey',\n",
       " 'Hurricane Harvey strengthens, threatens U.S. with most powerful storm in 12 years http://dzrhnews.com.ph/hurricane-harvey-strengthens-threatens-u-s-powerful-storm-12-years/\\xa0?',\n",
       " 'Map of Hurricane Harvey?s Path https://nyti.ms/2vtPEwd\\xa0',\n",
       " 'Hurricane Harvey: evacuations under way as storm heads for Texas https://www.theguardian.com/world/2017/aug/25/hurricane-harvey-evacuations-under-way-as-monster-storm-heads-for-texas?CMP=share_btn_tw\\xa0? @venetianblonde @OliviaHusseyLA @MiraSorvino',\n",
       " 'Torrential rain bands from #HurricaneHarvey lifting into Corpus Christi.\\r\\n#CHAwx @WRCBpic.twitter.com/nRERu6xtL0',\n",
       " '\"3 ft of rain is going to be a game-changer,\" W. Nim Kidd, chief of Texas Division of Emergency Mngmnt, tells CNN.\\r\\n#HurricaneHarvey',\n",
       " '\"Hurricane Harvey\" Hubby hauls gas for Shell; companies in Texas are shutting down= get ready, gas prices will spike.',\n",
       " 'PROFOUND GRATITUDE \\r\\n\\r\\nFor Dr Goff @slgoff_SB & other HERO Drs @NIH doing #FirstinHuman #Cancer RESEARCH!\\r\\n\\r\\nTHANK YOU!\\r\\n\\r\\n#HurricaneHarvey https://twitter.com/NCIResearchCtr/status/900893376635187200\\xa0?',\n",
       " '#CorpusChristi #HurricaneHarvey #whataburgerpic.twitter.com/8Y7v4jP6MY',\n",
       " '@HRVY That Hurricane has a really cute name #HurricaneHarvey but be careful primo!!!!!',\n",
       " 'In all seriousness though y\\'all stay safe during the hurricane this weekend, you can text \"HARVEY\" to 77453 to get updates as it hits Texas',\n",
       " 'Oil Prices Rise On Hurricane Harvey Fears http://ihe.art/SpfBsir\\xa0',\n",
       " \"Anybody @espn named Harvey?  You're FIRED!  \\r\\n\\r\\n#HurricaneHarvey\",\n",
       " 'Retweeted Twitter Moments (@TwitterMoments):\\r\\n\\r\\nEvacuations are underway in Texas as Hurricane Harvey continues to... http://fb.me/29ANoHHSO\\xa0',\n",
       " 'Dynamo, Dash reschedule weekend games due to Hurricane\\xa0Harvey http://wp.me/p2g4vo-1Mzb\\xa0',\n",
       " '#HurricaneHarvey Forecast https://youtu.be/A16-doc7mMk\\xa0',\n",
       " 'Harvey Nears Major Hurricane Status As It Closes In On Texas Coast http://ift.tt/2wMxN7W\\xa0',\n",
       " 'What do I decide to do during a hurricane? Clean house of course. #HurricaneHarvey',\n",
       " 'National Weather Service details where tornadoes could hit due to Hurricane Harvey http://www.mysanantonio.com/news/local/crime/article/NWS-Harvey-could-generate-tornadoes-east-of-11957731.php\\xa0?',\n",
       " 'Dynamo, Dash reschedule weekend games due to Hurricane\\xa0Harvey http://wp.me/p2g4vo-1Mzb\\xa0',\n",
       " 'School #HurricaneHarvey party jk morning #workout #gains clearing ALLLLL the bottom shelves #art #arted #bettersafethansorry #houstonweatherpic.twitter.com/b6VfzJbQ23',\n",
       " 'To all the texans who are in the path of hurricane harvey, stay safe ',\n",
       " 'Why Hurricane Harvey could be a huge problem for Donald Trump http://for.tn/2vcWL0F\\xa0pic.twitter.com/FghMKxjc9D',\n",
       " 'Airlines Respond to Hurricane Harvey http://www.travelpulse.com/news/airlines/airlines-respond-to-hurricane-harvey.html#.WaA5kSTH020.twitter\\xa0? via @TravelPulse',\n",
       " 'Hurricane Harvey is heading towards TX. When going through your check list add \"shut off your sprinklers\" to the... http://fb.me/9MnZ4e4gW\\xa0',\n",
       " 'Hurricane Harvey could be major storm, threatening one-third of US refining capacity http://cnb.cx/2vZwQIJ\\xa0',\n",
       " \"Wait wha? There's a mf hurricane and my ass never heard of this nigga Harvey https://twitter.com/msnbcmonitor/status/900963712533528578\\xa0?\",\n",
       " \"With eye on #HurricaneHarvey - remember NJ's peak season is Aug-Oct @ReadyNJ Survival guide here:... http://fb.me/K05RAnbI\\xa0\",\n",
       " 'Hurricane Harvey is about to ruin every pageant in Texas and Louisiana ',\n",
       " \"my family in Florida wanted to make sure I'll be safe from the hurricane and if I've prepared for it  #HurricaneHarvey #iliveindallastho\",\n",
       " '#HurricaneHarvey \\r\\nAuthorities urge to evacuate immediately. Now category 2.',\n",
       " 'Space Station Camera Captures New Views of Hurricane Harvey https://youtu.be/3gDkDpzB8Zo\\xa0 @YouTube????',\n",
       " \"#hurricaneharvey pro tip - Y'all still got time @ HEB (San Felipe) pic.twitter.com/3xSj2MfJTr\",\n",
       " 'The outer bands of Hurricane #Harvey are about to hit Rockport where Meteorologist David Yeomans will have updates. pic.twitter.com/urnnoCE4Ao',\n",
       " 'Student just said - Texas is getting hit by Hurricane Harvey....JFK was killed by Lee Harvey Oswald in Texas. \\r\\nDang, I have smart kids!',\n",
       " 'USATODAY : RT CallerClow: The sky is starting to darken and winds are beginning to pick up. #HurricaneHarvey #Harv? https://twitter.com/USATODAY/status/901080777236021248\\xa0?)pic.twitter.com/OXFwt6yS8p',\n",
       " 'I Wonder If #HurricaneHarvey Wanna Reschedule Til Next Weekend ',\n",
       " \"I'm more worried about the fact that I don't have any caffeine in my house right now, than the hurricane. #HurricaneHarvey\",\n",
       " 'Danger of labeling media \"fake\" - those in Texas are relying on media to inform them per #HurricaneHarvey. It isn\\'t fake. It\\'s life & death.',\n",
       " \"If Eric is good with it,  I'd go. #coldplay #hurricaneharvey https://twitter.com/spacecitywx/status/901093923636097024\\xa0?\",\n",
       " 'The latest The Luca Baptista Daily! http://paper.li/lucabaptista/1313074341?edition_id=f781a4c0-89a4-11e7-abc9-0cc47a0d164b\\xa0? #hurricaneharvey #harvey',\n",
       " 'RT lisastylegirl \"RT csa_asc: Our thoughts are with those on the path of #HurricaneHarvey, including the CSA astro? https://twitter.com/i/web/status/901093780773773312\\xa0?\"',\n",
       " 'Corpus Christi braces for Hurricane Harvey with signs of strength. HurricaneHarvey Harvey2017? http://toplocalnow.com/us/houston/at/9#t7221954\\xa0?',\n",
       " '@ThielAdam hey there trying to reach you all want to talk about hurricane Harvey and crews you sent from PFD please.',\n",
       " \"#HurricaneHarvey We're far enough inland that we only get rain and wind, but still enough to knock power out for a few days. Ugh. #goaway\",\n",
       " 'This will be the next alt-left protest: Rename that Hurricane! Harvey was a big \"white\" rabbit! I\\'m offended!',\n",
       " '@realDonaldTrump remember, the people in Texas are good. Hurricane Harvey is bad. There aren\\'t \"bad\" people on both sides of this. Mmmkkk?',\n",
       " 'nbcsports?.com >> Dynamo, Dash reschedule weekend games due to Hurricane Harvey http://buzztap.com/-0hUg6t\\xa0',\n",
       " 'Hurricane Harvey Path Shows Where the Storm Will\\xa0Hit http://www.zaradose.com/hurricane-harvey-path-shows-where-the-storm-will-hit/\\xa0?pic.twitter.com/9BmEYC0NKf',\n",
       " 'Harvey Nears Major Hurricane Status As It Closes In On Texas Coast http://ift.tt/2wMxN7W\\xa0',\n",
       " 'Stress cutting. #hurricaneharvey http://ift.tt/2wENI8Z\\xa0pic.twitter.com/rBSerADa3N',\n",
       " '[in anticipation of Hurricane Harvey]\\r\\n\\r\\n*single smol raindrop hits my arm*\\r\\nme: \"THIS IS THE END\"',\n",
       " '\"Hurricane Harvey\" GOP Governor, mostly Republican mayors--Texas will be just fine. Cities run by Dems in its path will be ones that suffer',\n",
       " 'If you?re looking for analysis of Hurricane Harvey, especially its impact on Houston, this site is terrific https://spacecityweather.com/\\xa0',\n",
       " 'Hurricane Harvey Path Shows Where the Storm Will\\xa0Hit http://www.zaradose.com/hurricane-harvey-path-shows-where-the-storm-will-hit/\\xa0?pic.twitter.com/lgMvdzvkGg',\n",
       " \"USATODAY : RT reportermatt: Here's a look into the Port of Corpus Christi as #HurricaneHarvey bears down on the re? https://twitter.com/USATODAY/status/901081067830071296\\xa0?)pic.twitter.com/MMPB9fN2gK\",\n",
       " 'The latest on a Portland house fire and Hurricane Harvey in the #LiveonK2 8 a.m. Quickcast. http://katu.com/news/local/quickcasts-for-august-25-2017\\xa0?pic.twitter.com/RUr0YUTjYC',\n",
       " \"Hurricane Harvey Threatens Texas with 'Devastating' Floods https://shar.es/1S6TzK\\xa0 via @LiveScience\",\n",
       " \"My impression of @realDonaldTrump is set in stone and it doesn't matter what his response is to Hurricane Harvey @hughhewitt\",\n",
       " 'Retweeted Ubadah Sabbagh (@Neubadah):\\r\\n\\r\\nAs #HurricaneHarvey nears, remember Trump reversed Obama infrastruct stds,... http://fb.me/8JKpWcuJ8\\xa0',\n",
       " 'hurricane #harvey is looking mighty fine as it nears category 3 strength: pic.twitter.com/c7HZtliEyJ',\n",
       " '#HurricaneHarvey Please keep the residents of Texas in your prayers !!!',\n",
       " 'Things my friends post on FB. #Texans #HurricaneHarvey pic.twitter.com/Wjee21uK2m',\n",
       " 'Airlines Respond to #Hurricane #Harvey http://www.travelpulse.com/news/airlines/airlines-respond-to-hurricane-harvey.html#.WaA5mHvYbzk.twitter\\xa0? via @Donald_Wood @TravelPulse',\n",
       " 'USATODAY : RT callergabe: Locals making last minute sandbags as #HurricaneHarvey approaches #Harvey #HarveyStorm #? https://twitter.com/USATODAY/status/901081089225216001\\xa0?)pic.twitter.com/LrxlnDukJq',\n",
       " 'Texas preparing for a hurricane Harvey impact today . it is expected to hit late tonight and is currently a category 3 hurricane! #2150bchttps://twitter.com/NBCNews/status/901088645976928256\\xa0?',\n",
       " 'DFW emergency crews are pitching in ahead of Hurricane #Harvey. Several sick babies flown in from TX coast http://cbsloc.al/2xxvJhl\\xa0 @CBSDFW',\n",
       " 'My #FridayFeeling is that #TX is going to have a rough weekend. #HurricaneHarvey #TXWX #WX',\n",
       " 'New story on NPR: Harvey Nears Major Hurricane Status As It Closes In On Texas Coast http://ift.tt/2wMxN7W\\xa0',\n",
       " \"Hurricane Harvey could devastate parts of Texas ? here's what you need to know\\r\\n\\r\\n http://www.businessinsider.com/tropical-storm-harvey-hurricane-updates-map-texas-where-landfall-damage-2017-8\\xa0?pic.twitter.com/8g8XRpj9Uv\",\n",
       " 'Stay up to date on Hurricane Harvey. http://fb.me/1tQxBXQE5\\xa0',\n",
       " 'Gonna seek refuge from #HurricaneHarvey @drafthouse? Let a professional (me) tell you how to order. http://dining.blog.austin360.com/2017/08/25/hurricane-harvey-plan-heres-what-to-order-at-the-alamo-drafthouse/\\xa0?pic.twitter.com/AIlmDTvp3x',\n",
       " 'Well, the wind is definitely gusting now... #HurricaneHarvey #CorpusChristi',\n",
       " 'If you live on the #Texas coast, be sure to listen to your local news stations about #HurricaneHarvey. #StaySafe http://www.cnn.com/2017/08/25/us/hurricane-harvey/index.html\\xa0?pic.twitter.com/qpHyWw1wXA',\n",
       " 'https://youtu.be/PRvl89a4lO4\\xa0 via @democracynow #HurricaneHarvey',\n",
       " '#hurricaneharvey #smtx @ San Marcos, Texas https://www.instagram.com/p/BYOIZgploq3/\\xa0',\n",
       " 'Texas Prepares As Hurricane Harvey Strengthens To Category 2 http://ift.tt/2waz5Y1\\xa0 #sanfrancisco',\n",
       " '#lmao #tgif #HurricaneHarvey #texasweather #funnyhttps://twitter.com/venomlean/status/900784413679734784\\xa0?',\n",
       " 'yourdj_gus @YourDJ_Theo #HurricaneHarvey #hurricane #hurricaneharveyiscoming #Rain #Storm? https://www.instagram.com/p/BYOIZhDFn7N/\\xa0',\n",
       " 'Hurricane Harvey Update:\\r\\nCheck out the Galveston, TX sea wall live video camera.? https://www.instagram.com/p/BYOISs6Divt/\\xa0',\n",
       " \"Trump only cares about Trump & his ego! He is Pres. but acts like a child whining for attention sadly #HurricaneHarvey isn't a priority\",\n",
       " '#Austin\\xa0#TX\\xa0#Harvey\\xa0@austinpetsalive\\xa0 is helping shelters in the direct line of #HurricaneHarvey. https://buff.ly/2w4iU06\\xa0\\xa0#hmrdhttps://twitter.com/austinpetsalive/status/900858427190034432\\xa0?',\n",
       " 'We got this South Texas. Stay smart. Be safe. #HurricaneHarvey',\n",
       " 'H-E-B to close stores due to Hurricane Harvey http://www.kristv.com/story/36217182/h-e-b-to-close-stores-due-to-hurricane-harvey\\xa0?',\n",
       " 'When hurricane Harvey misses Houston pic.twitter.com/Pbspidy5Ft',\n",
       " 'Our thoughts are with those on the path of #HurricaneHarvey, including the CSA astronauts and staff in Houston. St? http://bit.ly/2w4rZpB\\xa0',\n",
       " 'Evacuation underway as Hurricane Harvey intensifies. Photos: http://strib.mn/2wbp1hy\\xa0pic.twitter.com/IjUaoRm6sF',\n",
       " '#Austin\\xa0#TX\\xa0#Harvey\\xa0@austinpetsalive\\xa0 is helping shelters in the direct line of #HurricaneHarvey. https://buff.ly/2w4iU06\\xa0\\xa0#hmrdhttps://twitter.com/austinpetsalive/status/900858427190034432\\xa0?',\n",
       " 'LMAO My dad >>>> #HurricaneHarvey feasts  pic.twitter.com/3rcAYwkxvI',\n",
       " 'To those who are going to deal with #HurricaneHarvey please be safe! Everyone else happy #friday',\n",
       " '#Austin\\xa0#TX\\xa0#Harvey\\xa0@austinpetsalive\\xa0 is helping shelters in the direct line of #HurricaneHarvey. https://buff.ly/2w4iU06\\xa0\\xa0#hmrdhttps://twitter.com/austinpetsalive/status/900858427190034432\\xa0?',\n",
       " \"LOL #msnbc is asking where's FIMA? Hurricane hasn't even hit yet #HurricaneHarvey\",\n",
       " 'I know Hurricane Harvey is a big deal but all I can think of is this guy pic.twitter.com/9xwtdLMB5D',\n",
       " '@DewsNewz @infowars #HurricaneHarvey Forecast https://youtu.be/A16-doc7mMk\\xa0',\n",
       " 'Hurricane Harvey---Families and loved one need to make emergency meeting & prep plans now. CELL PHONES may stop working for days/weeks.',\n",
       " 'Always protect the truck. #hurricaneharvey @ Emerald Beach Hotel https://www.instagram.com/p/BYOIZ_6njPU/\\xa0',\n",
       " 'I happened',\n",
       " '@DrJoeAbah Thank you sir. As we are battling Hurricane Harvey here in Texas. We still remember a great Man.  #ThanksDrJoe God bless u',\n",
       " 'Having lived through Hurricane Sandy, my thoughts and prayers to all in the path of Harvey.  Stay safe and be strong. \"Hurricane Harvey\"',\n",
       " 'New story on NPR: Harvey Nears Major Hurricane Status As It Closes In On Texas Coast http://ift.tt/2wMxN7W\\xa0',\n",
       " 'Hurricane #Harvey ADVISORY 21 issued. Outer rainband from #Harvey swiping the lower and middle texas coasts http://go.usa.gov/W3H\\xa0',\n",
       " 'Hurricane Harvey could trigger PTSD in Katrina survivors: coroner http://trib.al/MXqBVQP\\xa0',\n",
       " 'USATODAY : 15 trillion gallons of water from Hurricane #Harvey could fill 177,000 Rose Bowls or 22 million Olympic? https://twitter.com/USATODAY/status/901093052370092032\\xa0?)pic.twitter.com/fBo6eO3i8F',\n",
       " 'Salvation Army Ready to Respond to Hurricane Harvey:https://coveringkaty.com/?p=38950\\xa0',\n",
       " \"U know what's better than riding out #HurricaneHarvey in corpus? Riding out the hurricane and ALSO HAVING A STOMACH BUG WOW SO MUCH FUN\",\n",
       " 'Trump will defeat Hurricane Harvey just like he defeated the cast of Hamilton; by using the best words to send derisive and bombastic tweets',\n",
       " 'Hurricane Harvey Path Shows Where the Storm Will\\xa0Hit http://www.zaradose.com/hurricane-harvey-path-shows-where-the-storm-will-hit/\\xa0?pic.twitter.com/TAjX3E81VS',\n",
       " 'Hide yo wife, hide yo kid and hide yo husband cause Hurricane Harvey coming thru',\n",
       " \"#UPDATE:'#Hurricane #Harvey strengthens to Category 2 as #evacuations continue' via @cnnbrk #TravelAlert #TravelSafehttps://buff.ly/2wutb6A\\xa0\",\n",
       " ' #Hurricane #Harvey a category 2 storm with 110 MPH winds. Landfall on Texas coast late tonight with life-threatening flooding! #TXwxpic.twitter.com/qdOPCuCNjX',\n",
       " 'This would be disastrous for New Orleans. Our flood pumps are nowhere near capacity & turbines are on backup generators. #HurricaneHarvey https://twitter.com/ginger_zee/status/901047254903136256\\xa0?',\n",
       " 'Stay safe Texas friends! We are thinking of you! Hurricane Harvey is no joke.',\n",
       " 'The latest The Kelvin Brooks Daily! http://paper.li/kelbrooks/1314633186?edition_id=0d7e0020-89a5-11e7-8f80-0cc47a0d1605\\xa0? Thanks to @nprstations @deloreshandy #socialmedia #hurricaneharvey',\n",
       " '#Austin #TX #Harvey @austinpetsalive  is helping shelters in the direct line of #HurricaneHarvey. https://www.austinpetsalive.org/hurricane-harvey-evacuations/\\xa0? #hmrdhttps://twitter.com/austinpetsalive/status/900858427190034432\\xa0?',\n",
       " '#queenofmystery of The Rio Grande Valley enjoying the sunset befor hurricane #Harvey roars ashore! pic.twitter.com/KQGh7hzgG2',\n",
       " 'Hurricane Harvey plan: Here?s what to order at the Alamo Drafthouse https://atxne.ws/2vnu4dm\\xa0',\n",
       " 'Hurricane Harvey Path Shows Where the Storm Will\\xa0Hit http://www.zaradose.com/hurricane-harvey-path-shows-where-the-storm-will-hit/\\xa0?pic.twitter.com/ggKRzgobb5',\n",
       " 'What we know about Hurricane Harvey as it nears landfall https://www.yahoo.com/gma/know-hurricane-harvey-nears-landfall-111123905--abc-news-topstories.html?soc_src=social-sh&soc_trk=tw\\xa0? via @GMA',\n",
       " 'Evacuations in Texas as Hurricane #Harvey Strengthens http://on.nbc10.com/bEsphX9\\xa0pic.twitter.com/h6nqADsmGB',\n",
       " '\"Conditions expected to deteriorate throughout the day\" #HurricaneHarvey http://www.nhc.noaa.gov/text/refresh/MIATCPAT4+shtml/251145.shtml\\xa0?pic.twitter.com/zjf5JIkLT5',\n",
       " 'Hurricane Harvey Path Shows Where the Storm Will\\xa0Hit http://www.zaradose.com/hurricane-harvey-path-shows-where-the-storm-will-hit/\\xa0?pic.twitter.com/mdBjNIeuU6',\n",
       " \"@realDonaldTrump you've heard about Hurricane Harvey, right?\",\n",
       " \"Even though I'm in Las Vegas, all the news about #HurricaneHarvey from back home makes me want to stay indoors! #CognitiveDissonance\",\n",
       " 'Prayers of safety to those on the Texas coast and above preparing for the landfall of Hurricane Harvey.\\r\\n#YallStaySafe',\n",
       " \"if y'all think hurricane Harvey gonna stop me from turing up for my bday y'all got me fucked up\",\n",
       " 'Join @SteveMacNBC6 & me on @nbc6 at 11AM for the latest on the flooding threat in South Florida & updates on #Hurricane #Harvey. #FLwx #TXwx',\n",
       " '#HurricaneHarvey ,#Harvey2017   waiting to take off. Pilot said will be bumpy for first 10 minutes.pic.twitter.com/hzNkm7QD1R ? at William P Hobby Airport (HOU)',\n",
       " '#USANews -  Hurricane Harvey What You Need to Know() - Video https://goo.gl/fb/dR13dj\\xa0',\n",
       " 'Hurricane Harvey Path Shows Where the Storm Will\\xa0Hit http://www.zaradose.com/hurricane-harvey-path-shows-where-the-storm-will-hit/\\xa0?pic.twitter.com/ai8D56Y4uk',\n",
       " 'Could someone call Harvey to see if we can maybe reschedule this Hurricane appointment? I have a lot to do this weekend, thanks!',\n",
       " \"hURRicaNE HaRVeY iS GoNNa HiT uS haRD fRIdaY motherfucker where is it at tho. It's sunny as shit pic.twitter.com/HxbkBLJXfE\",\n",
       " '\"Hurricane Harvey\" covers the gulf like Katrina. Don\\'t play with it. Coastal ppl should get to high ground. Leave if you can.',\n",
       " 'Imagine how the people in Texas in the path of Hurricane Harvey feel!! @realDonaldTrump',\n",
       " 'Border patrol threatens to lock up undocumented Texans trying to flee Hurricane Harvey| THIS IS DISPICABLE! http://www.rawstory.com/2017/08/border-patrol-threatens-to-lock-up-undocumented-texans-trying-to-flee-hurricane-harvey/\\xa0?',\n",
       " 'Live stream: Hurricane Harvey roars toward the Texas coast\\r\\nRead more: https://firenewsfeed.com/news/394900\\xa0\\r\\n#harvey #usaToday #galvestonpic.twitter.com/2O3CDCzfX9',\n",
       " '#HurricaneHarvey https://twitter.com/GovDirections/status/901094813688377348\\xa0?',\n",
       " 'Hurricane Harvey headed for area with significant oil, natural gas infrastructure http://ift.tt/2vn4jdc\\xa0',\n",
       " \"You know what's most disappointing about #HurricaneHarvey? No one has made any @SteveHarveyHQ jokes from it.\",\n",
       " \"Prayers for Texans and to all of those in Hurricane Harvey's path. I hope you are safe.\",\n",
       " 'This is why we #prepare. Hurricane Harvey strengthens to a Category 2 as #evacuations continue: http://www.cnn.com/2017/08/25/us/hurricane-harvey/index.html\\xa0? #HurricaneHarvey https://twitter.com/NWS/status/901021347211468805\\xa0?',\n",
       " 'Major flooding expected w/#HurricaneHarvey. No one does muckouts better than @TeamRubicon. Consider donating: http://teamrubiconusa.org\\xa0https://twitter.com/teamrubicon/status/900894395632943104\\xa0?',\n",
       " ...]"
      ]
     },
     "execution_count": 12,
     "metadata": {},
     "output_type": "execute_result"
    }
   ],
   "source": [
    "list(df.Tweet)"
   ]
  },
  {
   "cell_type": "code",
   "execution_count": null,
   "id": "69f76248-ff6e-41ea-8773-ba5dd572566e",
   "metadata": {},
   "outputs": [],
   "source": []
  }
 ],
 "metadata": {
  "kernelspec": {
   "display_name": "iLab-env",
   "language": "python",
   "name": "ilab-env"
  },
  "language_info": {
   "codemirror_mode": {
    "name": "ipython",
    "version": 3
   },
   "file_extension": ".py",
   "mimetype": "text/x-python",
   "name": "python",
   "nbconvert_exporter": "python",
   "pygments_lexer": "ipython3",
   "version": "3.8.2"
  }
 },
 "nbformat": 4,
 "nbformat_minor": 5
}
