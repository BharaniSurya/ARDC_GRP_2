{
 "cells": [
  {
   "cell_type": "code",
   "execution_count": 89,
   "id": "e4753eb7",
   "metadata": {
    "tags": []
   },
   "outputs": [
    {
     "data": {
      "application/vnd.jupyter.widget-view+json": {
       "model_id": "702ab69892f349c5861a5cc236e70b00",
       "version_major": 2,
       "version_minor": 0
      },
      "text/plain": [
       "Downloading model.safetensors:   0%|          | 0.00/3.13G [00:00<?, ?B/s]"
      ]
     },
     "metadata": {},
     "output_type": "display_data"
    },
    {
     "data": {
      "application/vnd.jupyter.widget-view+json": {
       "model_id": "49cf6aef24d44554afb6e68cc8b1874d",
       "version_major": 2,
       "version_minor": 0
      },
      "text/plain": [
       "Downloading (…)neration_config.json:   0%|          | 0.00/147 [00:00<?, ?B/s]"
      ]
     },
     "metadata": {},
     "output_type": "display_data"
    }
   ],
   "source": [
    "# Import the torch library, which is used for various deep learning operations.\n",
    "import torch\n",
    "\n",
    "# Import necessary components from the transformers library for working with pre-trained models.\n",
    "from transformers import AutoModelWithLMHead, AutoTokenizer,AutoModelForSeq2SeqLM\n",
    "\n",
    "# Initialize a tokenizer for the \"google/flan-t5-large\" model.\n",
    "tokenizer = AutoTokenizer.from_pretrained(\"google/flan-t5-large\")\n",
    "\n",
    "# Initialize a pre-trained \"google/flan-t5-large\" model for sequence-to-sequence tasks.\n",
    "model = AutoModelForSeq2SeqLM.from_pretrained(\"google/flan-t5-large\")"
   ]
  },
  {
   "cell_type": "code",
   "execution_count": 92,
   "id": "c7b5a55f-55f6-4e6d-b9e5-bf14e9c4a21c",
   "metadata": {
    "tags": []
   },
   "outputs": [],
   "source": [
    "# Import the pandas library for data manipulation.\n",
    "import pandas as pd\n",
    "\n",
    "# Try reading the CSV file 'DisasterHarveyTweets.csv' with 'utf-8' encoding.\n",
    "try:\n",
    "    df = pd.read_csv('DisasterHarveyTweets.csv', encoding='utf-8')\n",
    "except UnicodeDecodeError:\n",
    "    # If 'utf-8' encoding doesn't work due to special characters, try using 'iso-8859-1' encoding.\n",
    "    df = pd.read_csv('DisasterHarveyTweets.csv', encoding='iso-8859-1')\n"
   ]
  },
  {
   "cell_type": "code",
   "execution_count": 93,
   "id": "5ecbf387-3860-48ca-a0ec-f460bc91f6d3",
   "metadata": {
    "tags": []
   },
   "outputs": [],
   "source": [
    "# Select the 'Tweet' column from the DataFrame 'df' and update the DataFrame itself.\n",
    "# This code reassigns 'df' to contain only the 'Tweet' column, effectively discarding all other columns.\n",
    "df = df['Tweet']"
   ]
  },
  {
   "cell_type": "code",
   "execution_count": 94,
   "id": "c8edb5d7",
   "metadata": {
    "tags": []
   },
   "outputs": [
    {
     "data": {
      "text/plain": [
       "0       Summary for Hurricane Harvey (AT4/AL092017) ht...\n",
       "1       NASA: RT ESA_EO: Just in! #Sentinel3 measures ...\n",
       "2       ?Life-threatening? Hurricane Harvey heads towa...\n",
       "3       Everyone, please pray for Texas. Hurricane Har...\n",
       "4       Hi Maria, Will Bush Airport & Hobby Expect a S...\n",
       "                              ...                        \n",
       "4470    #HurricaneHarvey BE RESPECTFUL when riding thr...\n",
       "4471    #Shelters #Houston #Hurricane #Harvey http://f...\n",
       "4472    #MAGA's in Texas!!! The hurricane warnings on ...\n",
       "4473    Hurricane Harvey Weather Precautions  http://c...\n",
       "4474    Undocumented migrants who try to flee Hurrican...\n",
       "Name: Tweet, Length: 4475, dtype: object"
      ]
     },
     "execution_count": 94,
     "metadata": {},
     "output_type": "execute_result"
    }
   ],
   "source": [
    "df"
   ]
  },
  {
   "cell_type": "code",
   "execution_count": 101,
   "id": "07892723-6cbb-4f55-93c9-4de4acbab5e7",
   "metadata": {
    "tags": []
   },
   "outputs": [],
   "source": [
    "# taking only the starting 2000 tweets in its raw form\n",
    "df1 = df.iloc[:2000]"
   ]
  },
  {
   "cell_type": "code",
   "execution_count": 102,
   "id": "e20498c4-c2ce-4db5-a46d-cdf591f9ef45",
   "metadata": {
    "tags": []
   },
   "outputs": [
    {
     "data": {
      "text/plain": [
       "0       Summary for Hurricane Harvey (AT4/AL092017) ht...\n",
       "1       NASA: RT ESA_EO: Just in! #Sentinel3 measures ...\n",
       "2       ?Life-threatening? Hurricane Harvey heads towa...\n",
       "3       Everyone, please pray for Texas. Hurricane Har...\n",
       "4       Hi Maria, Will Bush Airport & Hobby Expect a S...\n",
       "                              ...                        \n",
       "1995    Mommy and bud are escaping to Tyler Texas.  We...\n",
       "1996    #BrockLong starring in \"Everything's Wetter In...\n",
       "1997    You know how Hurricane Harvey is different fro...\n",
       "1998    Oil Prices Rise As Texas Braces For Hurricane ...\n",
       "1999    Hurricane Harvey is the biggest flood threat o...\n",
       "Name: Tweet, Length: 2000, dtype: object"
      ]
     },
     "execution_count": 102,
     "metadata": {},
     "output_type": "execute_result"
    }
   ],
   "source": [
    "df1"
   ]
  },
  {
   "cell_type": "code",
   "execution_count": null,
   "id": "1bf91e83-c335-4d9d-ad1c-ea0f2d1bd012",
   "metadata": {
    "tags": []
   },
   "outputs": [],
   "source": [
    "# converting series to a dataframe\n",
    "df1 = df1.to_frame(name='Tweet')"
   ]
  },
  {
   "cell_type": "code",
   "execution_count": null,
   "id": "1238f695-2f90-4748-996e-65c932083cb1",
   "metadata": {
    "tags": []
   },
   "outputs": [],
   "source": [
    "# List of emotions\n",
    "emotions = ['fear', 'anxiety', 'sadness', 'anger', 'helplessness', 'relief', 'frustration', 'confusion', 'hope', 'empathy']\n",
    "\n",
    "# Loop through each emotion\n",
    "for emotion in emotions:\n",
    "    # Create an empty list to store generated answers for the current emotion\n",
    "    answers = []\n",
    "\n",
    "    # Define the input question with the current emotion\n",
    "    input_question = f\"Is there {emotion} in the following tweet\"\n",
    "\n",
    "    # Loop through each row in the DataFrame\n",
    "    for index, row in df1.iterrows():\n",
    "        text = row['Tweet'] \n",
    "\n",
    "        # Concatenate the input question and text\n",
    "        combined_text = f\"{input_question}\\n{text}\"\n",
    "\n",
    "        # Generate an answer using the language model\n",
    "        input_ids = tokenizer(combined_text, return_tensors='pt').input_ids\n",
    "        output = model.generate(input_ids, max_length=512, num_return_sequences=1)\n",
    "        ans = tokenizer.decode(output[0], skip_special_tokens=True)\n",
    "\n",
    "        # Append the generated answer to the list\n",
    "        answers.append(ans)\n",
    "\n",
    "    # Add the answers as a new column with the emotion name\n",
    "    df1[emotion] = answers"
   ]
  },
  {
   "cell_type": "code",
   "execution_count": null,
   "id": "e093a461-d9e4-4c0b-bb4f-9d0387e0d482",
   "metadata": {
    "tags": []
   },
   "outputs": [
    {
     "data": {
      "text/html": [
       "<div>\n",
       "<style scoped>\n",
       "    .dataframe tbody tr th:only-of-type {\n",
       "        vertical-align: middle;\n",
       "    }\n",
       "\n",
       "    .dataframe tbody tr th {\n",
       "        vertical-align: top;\n",
       "    }\n",
       "\n",
       "    .dataframe thead th {\n",
       "        text-align: right;\n",
       "    }\n",
       "</style>\n",
       "<table border=\"1\" class=\"dataframe\">\n",
       "  <thead>\n",
       "    <tr style=\"text-align: right;\">\n",
       "      <th></th>\n",
       "      <th>Tweet</th>\n",
       "      <th>fear</th>\n",
       "      <th>anxiety</th>\n",
       "      <th>sadness</th>\n",
       "      <th>anger</th>\n",
       "      <th>helplessness</th>\n",
       "      <th>relief</th>\n",
       "      <th>frustration</th>\n",
       "      <th>confusion</th>\n",
       "      <th>hope</th>\n",
       "      <th>empathy</th>\n",
       "    </tr>\n",
       "  </thead>\n",
       "  <tbody>\n",
       "    <tr>\n",
       "      <th>0</th>\n",
       "      <td>Summary for Hurricane Harvey (AT4/AL092017) ht...</td>\n",
       "      <td>yes</td>\n",
       "      <td>yes</td>\n",
       "      <td>yes</td>\n",
       "      <td>no</td>\n",
       "      <td>no</td>\n",
       "      <td>no</td>\n",
       "      <td>no</td>\n",
       "      <td>Is this the first tweet from the official Twit...</td>\n",
       "      <td>Is there hope in the tweet</td>\n",
       "      <td>yes</td>\n",
       "    </tr>\n",
       "    <tr>\n",
       "      <th>1</th>\n",
       "      <td>NASA: RT ESA_EO: Just in! #Sentinel3 measures ...</td>\n",
       "      <td>no</td>\n",
       "      <td>no</td>\n",
       "      <td>no</td>\n",
       "      <td>no</td>\n",
       "      <td>no</td>\n",
       "      <td>no</td>\n",
       "      <td>no</td>\n",
       "      <td>no</td>\n",
       "      <td>no</td>\n",
       "      <td>no</td>\n",
       "    </tr>\n",
       "    <tr>\n",
       "      <th>2</th>\n",
       "      <td>?Life-threatening? Hurricane Harvey heads towa...</td>\n",
       "      <td>yes</td>\n",
       "      <td>yes</td>\n",
       "      <td>yes</td>\n",
       "      <td>no</td>\n",
       "      <td>no</td>\n",
       "      <td>no</td>\n",
       "      <td>no</td>\n",
       "      <td>no</td>\n",
       "      <td>Is there hope in the tweet?Life-threatening? H...</td>\n",
       "      <td>no</td>\n",
       "    </tr>\n",
       "    <tr>\n",
       "      <th>3</th>\n",
       "      <td>Everyone, please pray for Texas. Hurricane Har...</td>\n",
       "      <td>yes</td>\n",
       "      <td>yes</td>\n",
       "      <td>yes</td>\n",
       "      <td>no</td>\n",
       "      <td>no</td>\n",
       "      <td>no</td>\n",
       "      <td>no</td>\n",
       "      <td>no</td>\n",
       "      <td>no</td>\n",
       "      <td>yes</td>\n",
       "    </tr>\n",
       "    <tr>\n",
       "      <th>4</th>\n",
       "      <td>Hi Maria, Will Bush Airport &amp; Hobby Expect a S...</td>\n",
       "      <td>yes</td>\n",
       "      <td>yes</td>\n",
       "      <td>no</td>\n",
       "      <td>no</td>\n",
       "      <td>no</td>\n",
       "      <td>no</td>\n",
       "      <td>no</td>\n",
       "      <td>no</td>\n",
       "      <td>no</td>\n",
       "      <td>no</td>\n",
       "    </tr>\n",
       "    <tr>\n",
       "      <th>...</th>\n",
       "      <td>...</td>\n",
       "      <td>...</td>\n",
       "      <td>...</td>\n",
       "      <td>...</td>\n",
       "      <td>...</td>\n",
       "      <td>...</td>\n",
       "      <td>...</td>\n",
       "      <td>...</td>\n",
       "      <td>...</td>\n",
       "      <td>...</td>\n",
       "      <td>...</td>\n",
       "    </tr>\n",
       "    <tr>\n",
       "      <th>1995</th>\n",
       "      <td>Mommy and bud are escaping to Tyler Texas.  We...</td>\n",
       "      <td>yes</td>\n",
       "      <td>yes</td>\n",
       "      <td>yes</td>\n",
       "      <td>no</td>\n",
       "      <td>no</td>\n",
       "      <td>yes</td>\n",
       "      <td>no</td>\n",
       "      <td>no</td>\n",
       "      <td>no</td>\n",
       "      <td>yes</td>\n",
       "    </tr>\n",
       "    <tr>\n",
       "      <th>1996</th>\n",
       "      <td>#BrockLong starring in \"Everything's Wetter In...</td>\n",
       "      <td>yes</td>\n",
       "      <td>yes</td>\n",
       "      <td>no</td>\n",
       "      <td>no</td>\n",
       "      <td>no</td>\n",
       "      <td>no</td>\n",
       "      <td>no</td>\n",
       "      <td>no</td>\n",
       "      <td>I hope so</td>\n",
       "      <td>no</td>\n",
       "    </tr>\n",
       "    <tr>\n",
       "      <th>1997</th>\n",
       "      <td>You know how Hurricane Harvey is different fro...</td>\n",
       "      <td>yes</td>\n",
       "      <td>yes</td>\n",
       "      <td>no</td>\n",
       "      <td>no</td>\n",
       "      <td>no</td>\n",
       "      <td>no</td>\n",
       "      <td>no</td>\n",
       "      <td>no</td>\n",
       "      <td>no</td>\n",
       "      <td>yes</td>\n",
       "    </tr>\n",
       "    <tr>\n",
       "      <th>1998</th>\n",
       "      <td>Oil Prices Rise As Texas Braces For Hurricane ...</td>\n",
       "      <td>yes</td>\n",
       "      <td>yes</td>\n",
       "      <td>yes</td>\n",
       "      <td>no</td>\n",
       "      <td>no</td>\n",
       "      <td>no</td>\n",
       "      <td>no</td>\n",
       "      <td>no</td>\n",
       "      <td>Is there hope in the tweet Oil Prices Rise As ...</td>\n",
       "      <td>no</td>\n",
       "    </tr>\n",
       "    <tr>\n",
       "      <th>1999</th>\n",
       "      <td>Hurricane Harvey is the biggest flood threat o...</td>\n",
       "      <td>yes</td>\n",
       "      <td>yes</td>\n",
       "      <td>yes</td>\n",
       "      <td>no</td>\n",
       "      <td>no</td>\n",
       "      <td>no</td>\n",
       "      <td>yes</td>\n",
       "      <td>yes</td>\n",
       "      <td>no</td>\n",
       "      <td>yes</td>\n",
       "    </tr>\n",
       "  </tbody>\n",
       "</table>\n",
       "<p>2000 rows × 11 columns</p>\n",
       "</div>"
      ],
      "text/plain": [
       "                                                  Tweet fear anxiety sadness  \\\n",
       "0     Summary for Hurricane Harvey (AT4/AL092017) ht...  yes     yes     yes   \n",
       "1     NASA: RT ESA_EO: Just in! #Sentinel3 measures ...   no      no      no   \n",
       "2     ?Life-threatening? Hurricane Harvey heads towa...  yes     yes     yes   \n",
       "3     Everyone, please pray for Texas. Hurricane Har...  yes     yes     yes   \n",
       "4     Hi Maria, Will Bush Airport & Hobby Expect a S...  yes     yes      no   \n",
       "...                                                 ...  ...     ...     ...   \n",
       "1995  Mommy and bud are escaping to Tyler Texas.  We...  yes     yes     yes   \n",
       "1996  #BrockLong starring in \"Everything's Wetter In...  yes     yes      no   \n",
       "1997  You know how Hurricane Harvey is different fro...  yes     yes      no   \n",
       "1998  Oil Prices Rise As Texas Braces For Hurricane ...  yes     yes     yes   \n",
       "1999  Hurricane Harvey is the biggest flood threat o...  yes     yes     yes   \n",
       "\n",
       "     anger helplessness relief frustration  \\\n",
       "0       no           no     no          no   \n",
       "1       no           no     no          no   \n",
       "2       no           no     no          no   \n",
       "3       no           no     no          no   \n",
       "4       no           no     no          no   \n",
       "...    ...          ...    ...         ...   \n",
       "1995    no           no    yes          no   \n",
       "1996    no           no     no          no   \n",
       "1997    no           no     no          no   \n",
       "1998    no           no     no          no   \n",
       "1999    no           no     no         yes   \n",
       "\n",
       "                                              confusion  \\\n",
       "0     Is this the first tweet from the official Twit...   \n",
       "1                                                    no   \n",
       "2                                                    no   \n",
       "3                                                    no   \n",
       "4                                                    no   \n",
       "...                                                 ...   \n",
       "1995                                                 no   \n",
       "1996                                                 no   \n",
       "1997                                                 no   \n",
       "1998                                                 no   \n",
       "1999                                                yes   \n",
       "\n",
       "                                                   hope empathy  \n",
       "0                            Is there hope in the tweet     yes  \n",
       "1                                                    no      no  \n",
       "2     Is there hope in the tweet?Life-threatening? H...      no  \n",
       "3                                                    no     yes  \n",
       "4                                                    no      no  \n",
       "...                                                 ...     ...  \n",
       "1995                                                 no     yes  \n",
       "1996                                          I hope so      no  \n",
       "1997                                                 no     yes  \n",
       "1998  Is there hope in the tweet Oil Prices Rise As ...      no  \n",
       "1999                                                 no     yes  \n",
       "\n",
       "[2000 rows x 11 columns]"
      ]
     },
     "execution_count": 106,
     "metadata": {},
     "output_type": "execute_result"
    }
   ],
   "source": [
    "df1"
   ]
  },
  {
   "cell_type": "code",
   "execution_count": null,
   "id": "0760c2e5-49fb-4b26-9985-0f798df6884b",
   "metadata": {
    "tags": []
   },
   "outputs": [],
   "source": [
    "df1.to_csv('harvey_2000_tweets_emotions.csv', index=False)"
   ]
  }
 ],
 "metadata": {
  "kernelspec": {
   "display_name": "Python 3 (ipykernel)",
   "language": "python",
   "name": "python3"
  },
  "language_info": {
   "codemirror_mode": {
    "name": "ipython",
    "version": 3
   },
   "file_extension": ".py",
   "mimetype": "text/x-python",
   "name": "python",
   "nbconvert_exporter": "python",
   "pygments_lexer": "ipython3",
   "version": "3.11.3"
  }
 },
 "nbformat": 4,
 "nbformat_minor": 5
}
