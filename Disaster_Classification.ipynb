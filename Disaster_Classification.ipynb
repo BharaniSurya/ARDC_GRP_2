{
 "cells": [
  {
   "cell_type": "code",
   "execution_count": 2,
   "id": "879b5e46-2744-449a-aad2-8573b6a9397c",
   "metadata": {},
   "outputs": [
    {
     "name": "stderr",
     "output_type": "stream",
     "text": [
      "/Users/savinaysingh/Documents/SavinayUTS/iLab/Code/iLab-env/lib/python3.8/site-packages/tqdm/auto.py:21: TqdmWarning: IProgress not found. Please update jupyter and ipywidgets. See https://ipywidgets.readthedocs.io/en/stable/user_install.html\n",
      "  from .autonotebook import tqdm as notebook_tqdm\n"
     ]
    }
   ],
   "source": [
    "import numpy as np\n",
    "import pandas as pd\n",
    "import re\n",
    "import emoji\n",
    "import inflect\n",
    "from tqdm import tqdm\n",
    "import copy\n",
    "from nltk.stem import WordNetLemmatizer\n",
    "import nltk\n",
    "from nltk.corpus import wordnet\n",
    "from nltk.corpus import stopwords\n",
    "from sklearn.model_selection import train_test_split\n",
    "from sklearn.feature_extraction.text import CountVectorizer\n",
    "from sklearn.feature_extraction.text import TfidfVectorizer\n",
    "from sklearn.ensemble import RandomForestClassifier\n",
    "from sklearn.metrics import accuracy_score\n",
    "import xgboost as xgb\n",
    "from sklearn.metrics import precision_score, recall_score, f1_score\n",
    "from imblearn.over_sampling import SMOTE\n",
    "import pickle\n",
    "from sentence_transformers import SentenceTransformer,util\n",
    "from sentence_transformers import SentencesDataset, LoggingHandler, losses\n",
    "from sklearn.metrics import classification_report\n"
   ]
  },
  {
   "cell_type": "code",
   "execution_count": 8,
   "id": "c9f95034-4c35-46e6-9268-74c7138558b2",
   "metadata": {
    "scrolled": true,
    "tags": []
   },
   "outputs": [
    {
     "data": {
      "text/plain": [
       "['\"Lord Jesus, your love brings freedom and pardon. Fill me with your Holy Spirit and set my heart ablaze with your l… https://t.co/VlTznnPNi8',\n",
       " 'If this child was Chinese, this tweet would have gone viral. Social media would be ablaze. SNL would have made a racist j…',\n",
       " \"National Security Minister, Kan Dapaah's side chic has set the internet ablaze with her latest powerful video.… https://t.co/rhzOMQVSlj\",\n",
       " 'This creature who’s soul is no longer clarent but blue ablaze This thing Carrying memories Memories of… https://t.co/tBKSNDrDoX',\n",
       " 'Social media went bananas after Chuba Hubbard announced Monday evening his plans to return to #okstate. https://t.co/peN…',\n",
       " 'AMEN! Set the whole system ablaze, man. https://t.co/J08xHDcGbD',\n",
       " 'Rengoku sets my heart ablaze😔❤️🔥 P.s. I missed this style of coloring I do so here it is c: #鬼滅の刃 https://t.co/YrUF9g68s0',\n",
       " 'paulzizkaphoto: “Rundle Ablaze” Wishing you all a good evening... https://t.co/d0NlME1HQz https://t.co/hlVlT6qiIp',\n",
       " '#ThankfulTuesday Isaiah 43:2 When you pass through the waters, I will be with you; and when you pass through the r… https://t.co/jEp3L1oU36',\n",
       " '⠀⠀When you walk through the fire, ⠀⠀you will not be scorched, and the ⠀⠀flames will not set you ablaze. ──── product…',\n",
       " \"Warm greetings to all on the occasion of #Lohri. As winter passes by may everyone's woes and troubles be set ablaze in t…\",\n",
       " 'that is kind true sadly',\n",
       " 'I swear that jam will set the world ablaze',\n",
       " \"This love is so completely crazy. You've been fucking with my dreams, ripped me like your torn up jeans. I don't ev… https://t.co/GCVYW5eZkb\",\n",
       " 'Terms in A Demon Burning Dark: The Ruined: People who cannot use magic or interact with it without some harm or ac… https://t.co/ZEDawOfuu4',\n",
       " '📷 Heartfelt appreciation to Prime Minister YAB Tun Dr. wife, YABhg. Tun Dr. Siti Hasmah Mohd Ali fo… https://t.co/YOwUp1BYUP',\n",
       " '❤️❤️❤️ he gave us everything... He had a horrible foot infection once so wore one thong… https://t.co/mA9sFl6Shw',\n",
       " '😁yeah! His new swag is on point 100%, since the accident! Like this is a totally transformed Bob…',\n",
       " 'This is cool and all these days I have been doing \"git push origin CURRENT_BRANCH_NAME\". You know that… https://t.co/mr0YAGEWqj',\n",
       " 'my back and neck are still fucked up from the accident 😡😡😭😭',\n",
       " 'Note to Democrats: It’s not a Muslim ban. Islam is not a race. Soleimani was a terrorist &amp; was exterminated not assas…',\n",
       " 'Juwan Johnson/Oregon is one big dude. Looks like a tight end stuck in the receiver group by accident.',\n",
       " 'More appearances of the man with the upside-down face. A New Year’s Eve party at an Air Force base in 1943 where a man…',\n",
       " '“There are no greater treasures than the highest human qualities such as compassion, courage and hope. Not even tragic accide…',\n",
       " \"Please help our friends in - they have had a non fault accident that's resulted in their vehicle being writte…\",\n",
       " 'When you hurt your younger sibling by “accident” https://t.co/DAMTEoQtZU',\n",
       " 'no one has the right to call a baby an accident. jd himself called it a blessing. he used the loveliest word to describe what…',\n",
       " 'I actually posted this by accident to twitter but have decided this can stay',\n",
       " 'Question: let’s say you are happily married and your husband dies in a tragic accident. You are deveststed but this pussy not…',\n",
       " 'In completely available public information , the fires were mostly started by humans on purpose or on accident with th…',\n",
       " 'During my PhD there was a colleague who went out of her way to bully and cause work discomfort for me. I… https://t.co/G3hivXZo8T',\n",
       " '6yr old Bella needs a new home due to an incident that was an accident, she can live with older kids and in the right ho…',\n",
       " '👀Look at this shit,😠she need her little ass whooped before she hit somebody by accident. #lecheminduroi #bransoncognac #starzge…',\n",
       " \"You're not an accident on the earth. You're God's divinely crafted masterpiece. He designed you with a destiny in v… https://t.co/KfC7Tpwuj6\",\n",
       " 'Judge less smile more. It isn’t the oldest profession by accident lol',\n",
       " 'Yea it wasnt that long she killed me in like 6 or 7 seconds but not sure would have to… https://t.co/pexyxYJoFM',\n",
       " 'Honored to have an essay in #AfterShock Marking the 50th anniversary of Alvin Toffler’s Future Shock Compendium of essays in t…',\n",
       " 'TICKETS ON SALE!!!!!!!!!! - Aftershock https://t.co/kQHMzbgmvk #nowplaying #k4hdradio',\n",
       " 'Come with us to Aftershock!',\n",
       " 'o_O ! I think I felt your aftershock',\n",
       " '2010 - Inception. The Social Network. Easy A. Black Swan. Toy Story 3. The Kids are All Right. Aftershock.',\n",
       " 'A other Hard hit https://t.co/x3e2mf6DKo',\n",
       " 'Musharaf verdict was just mild aftershock of extension, one should not worry what comes after extention.',\n",
       " 'Kumera yellow Aftershock #PH19FOSSIL featured in bankbtn Good Living magazine Photography Stylist shino… https://t.co/V9LJ65ttzR',\n",
       " 'Please pray for #PuertoRico!!!!! https://t.co/uWqP2yNohW',\n",
       " 'И снова о кризисе демографии (Yakov_Z) https://t.co/BlgYuNumDG',\n",
       " 'Check out my latest video... SUPERZERO VOL. 1 - CLOSER LOOK https://t.co/T36KGXJdvY A closer look at SUPERZERO VOL. 1 by Am…',\n",
       " \"Might be a small aftershock. I didn't feel anything\",\n",
       " 'Stay informed, stay engaged with whats going on in #PuertoRico after the #earthquake The USGS’ 30-Day aftershock s… https://t.co/bYIBfpLHYg',\n",
       " 'This isnt good. I feel for the people of Puerto Rico https://t.co/gZC7TYroxS',\n",
       " 'Aftershock Vapor 15 Pro Review – Aussie, Aussie, Aussie https://t.co/pWNq3VAr2r #PowerUpAU',\n",
       " 'Puerto Rico Worker explains Earthquake aftershock. Pleading to go viral https://t.co/hhfjQNLEt8 via',\n",
       " 'this is an unfathomable number. I lived through a large earthquake and we slept under the table for one terrible night…',\n",
       " 'nah I need calm down 💀 https://t.co/eOKphShN5R',\n",
       " 'thinking about how some1 spat blood at me during Marilyn Manson’s set at aftershock 👁👁',\n",
       " \"If two quakes have about the same magnitude, you cannot say one is the other's preshock or aftershock. Only when one is obv…\",\n",
       " \"I don't think Silivri M4.8 is an aftershock of the Silivri M5.7 a few months ago. 😀 Quake professors always say such nonsen…\",\n",
       " 'I think it’s an aftershock from ’s lyrical beat down. Brent never recovered.',\n",
       " 'Apex is all about separating from Monarch. They’re “separation. Well from my theory on how MechaGod… https://t.co/aBzDKqocPv',\n",
       " 'thinking about how some1 spat blood at me during Marilyn Manson’s set at aftershock 👁👁',\n",
       " 'Or sending my mate Simon to the bar and asking for a Guiness but ending up with a Carlsberg Export and a Mint After…',\n",
       " '#USGS #earthquake experts are in #PuertoRico installing temporary seismometers to help track seismic events including a Jan. 7 ma…',\n",
       " 'How could you leave when I gave you my all 💔',\n",
       " 'For the full experience, start with this one, 1st in the series. Food was running low. To save the young, the governor…',\n",
       " 'We continue to update our 30-day aftershock forecast scenarios for #PuertoRico. Forecasts are posted in both English https://t.co…',\n",
       " 'Aftershock comics. We prefer working in partnership with our creators to build out that team from the ground up.',\n",
       " 'Did the other earthquake/aftershock mess up the power again?!',\n",
       " 'Aftershock forecast for Puerto Rico',\n",
       " 'Bing Bong Airplane Accident Remix',\n",
       " 'Morgan is surprised to see Shaun back at work already and offers her condolences on his dad. Shaun says the airplan… https://t.co/SXwRBa7hj5',\n",
       " 'That’s a load of rubbish, there was never an imminent threat, Jesus Christ!!!Iran sho… https://t.co/C815DfZF7C',\n",
       " 'Conclusion 8 on previous page is incorrect IMHO. “The witness observations of a streak of light we… https://t.co/tz4Xv7uXCw',\n",
       " 'The celebrities in Iran that are very sadly about our compatriots that killed with downing UK airplane,not only di… https://t.co/CtjVwIcH2v',\n",
       " 'Had a look at your timeline, i see you hate my coun… https://t.co/30cMQ9gsPj',\n",
       " 'My friend i live here , believe me... Its our basic rights that know what happened… https://t.co/49nbXHuTfP',\n",
       " 'How is it that Iran fired between 12 and 20 surface to surface missiles...…..then FIRED A SURFACE TO AIR MISSILE AT… https://t.co/mpkttFCAFB',\n",
       " 'Basically, you killed the general, put the whole country into a confusing status, they shoot a civ… https://t.co/P1lKrqhP1Y',\n",
       " 'No, I was referring to the shooting down of the airplane. I really do…',\n",
       " 'No, I was referring to the shooting down of the airplane. I… https://t.co/xKVqRdtjhR',\n",
       " 'And anyone who believes that incident was an accident is an idiot. An airplane at approx 3000 fee…',\n",
       " 'And anyone who believes that incident was an accident is an idiot. An airplane at approx 3000… https://t.co/axT3omjmE1',\n",
       " 'Mr M u hold p.Trump accountable for the airplane accident.we r very sad too,but pls don’t tweet abo… https://t.co/cqsMfVTLMW',\n",
       " 'Just dial 112 toll-free from your phone in the event that you wish to report fire, flood, theft, armed robbery, kidnap,…',\n",
       " 'Just dial 112 toll-free from your phone in the event that you wish to report fire, flood, theft, armed robbery, k… https://t.co/1e2jgI6C8Q',\n",
       " 'Sorry for your loss, Iran should never have shot the airplane out of the sky. ‘accident’ they say',\n",
       " \"It wasn't, Iranians knew when takeoff was happening &amp; they knew the airplane manufacturer was American.… https://t.co/9JNbfB0zWH\",\n",
       " 'Mass anti-government protests erupt in Iran after leaders admit to shooting down airliner. Still cannot believe w… https://t.co/dweXwdLBGn',\n",
       " 'I read the whole thread. He’s blaming Trump for Iran shooting down an ai… https://t.co/evL7sdNw0Z',\n",
       " 'airplane accident answers. The US designated the Iranian government as terrorists and ha… https://t.co/7a2OgPYNiQ',\n",
       " 'Hey, got some swamp land for sale. You are either naive or just plain stupid! Which is it? Iran downing t… https://t.co/fu3cjJf1q8',\n",
       " 'Perhaps prodded by others, Zelensky decides Ukraine has nothing to lose by piling onto Iran. Never seen so many op… https://t.co/bvZj33dZEp',\n",
       " 'As a Canadian, I am very concerned. The airplane that was shot down by accident had 67 Canadians - many of Iranian…',\n",
       " 'Shooting an airplane down *by accident* is bullshit. Just like *accidental shootings* of firearms. Especially since… https://t.co/xKEYVGXFiQ',\n",
       " 'Odd, how the Iranians ACCIDENTALLY blew up the airplane after take off. Was someone just playing with… https://t.co/Y2Yx1gZ6hQ',\n",
       " 'As a Canadian, I am very concerned. The airplane that was shot down by accident had 67 Canadians - many… https://t.co/v8MsKmrLyB',\n",
       " 'And. No excuse for shooting down a commercial airplane with innocent civilians on. Oh! Sorry Jeremy, as you say, it was an…',\n",
       " 'You beat me to this response. You have to TRACK an airplane with a surface to air missile.…',\n",
       " 'It is unimaginable to have 174 people gone in one \"accident.\" How could anyone point a surface to air missile at a… https://t.co/7Abwo7HXuz',\n",
       " 'So it was just an accident that Iran rocketed an airplane, killing 180 people. And libs defending it like that’s ok b…',\n",
       " 'And. No excuse for shooting down a commercial airplane with innocent civilians on. Oh! Sorry Jeremy, as you say, it… https://t.co/gUkc4ToutN',\n",
       " 'Well let’s see. We know so far the body count of demonstrators was over… https://t.co/sPpCsKbUq0',\n",
       " 'You beat me to this response. You have to TRACK an airplane with a surface to air missi… https://t.co/RFyWvNqO2Z',\n",
       " \"Good lord...... Yeah. It was an accident. The airplane didn't give the missile the right away.... 😒\",\n",
       " 'The Iranian leadership has downed the commercial airplane on purpose, who are they kidding by saying it was by accident',\n",
       " 'Ooh look, NYT became a lawyer for the Iranian regime What a stupid newspaper, it’s now time, there are vi… https://t.co/SbfUCNkMpr',\n",
       " 'How exactly does one accidentally fire a rocket? At an airplane leaving your own countries airport. This… https://t.co/LQdfG1THTN',\n",
       " 'United States downs an Iranian terrorist and the world press dedicates tons of articles on the life he lived, but the Ira…',\n",
       " 'Besides the Airplane being shot down by \"Accident\"..... Other \"things\" are HABBENING also.....!! High-level pro-Iran militi…',\n",
       " 'CONSIDER -&gt; How does a person with a video camera know WHERE and WHEN to record an attack BEFORE there was any indication…',\n",
       " 'Besides the Airplane being shot down by \"Accident\"..... Other \"things\" are HABBENING also.....!! High-level pro-Ir… https://t.co/OlJMmB1Tj9',\n",
       " 'Yeah, yer well prepared ...hit a few buildings &amp; knocked down yer own airplane by accident ...better keep d… https://t.co/ww1W8LOYVl',\n",
       " 'if the shooting down of the plane was an accident (human error), why were the Iranians shooting mi… https://t.co/JesxuYkYVD',\n",
       " 'This attack N on an airplane that had just taken off was no accident. Iran wants the world to know there will be co… https://t.co/2mimAWnc6x',\n",
       " 'Grover Airplane Accident Doctor',\n",
       " '# Trump in Accident # Crash - Airplane # Ukraine is the main factor as the most powerful person in the world whose count…',\n",
       " '# Trump in Accident # Crash - Airplane # Ukraine is the main factor as the most powerful person in the world whose… https://t.co/mSkuJJe79X',\n",
       " 'So much talk about #Ukraine airplane within #iran #USA conflict, while conflict wise this is irrelevant, what is mo… https://t.co/lpE4tm3pYk',\n",
       " 'The Iranians chose the day and time to send missiles inside Iraq and they also controlled the… https://t.co/EhjP8cNlW4',\n",
       " 'Was the airplane on a routine flight path from the airport? One would think those that shot it down would be fam…',\n",
       " 'How about some compassion for the families of the Ukrainian airplane shot down \"by accident\" ?🙏🙏🙏🙏🙏🙏🙏🙏🙏🙏🙏🙏🙏🙏🙏🙏🙏🙏🙏🙏🙏🙏🙏🙏🙏🙏🙏🙏🙏🙏🙏🙏🙏🙏',\n",
       " \"Is it racist to be concerned that this is correct … 50,000 residents in Birmingham can't speak English? Birmingham is England…\",\n",
       " '🔴 #WAARLAND #ambulance 🚑 #p2000 A2 10187 Rit 6026 Sabinahof Waarland https://t.co/YesZazBODp',\n",
       " '#USDJPY despite Richter Scale overbought, Fxstreet Line Up Swissquote bullish long, Jason Sen Mr. Ambulance Chaser B…',\n",
       " '#USDJPY despite Richter Scale overbought, Fxstreet Line Up Swissquote bullish long, Jason Sen Mr. Ambulance Cha… https://t.co/iVuuacsq54',\n",
       " 'The Untamed boys singing “Love Siren” from My ambulance ❤️❤️ #TheUntamedBoysinBKK https://t.co/2HkshTHs8W',\n",
       " '...or pulling over for an ambulance',\n",
       " 'I hope there’s going to be an ambulance waiting at the bottom because there’s no way that fat lump can cli… https://t.co/eQ0fg2Fo7i',\n",
       " 'รักติดไซเรน (My Ambulance) .Cover is coming ! #TheUntamedBoys Ambassador for Thai Spring Festival 2020 The delightful…',\n",
       " 'When driving drunk you can choose your way to come back home : A) Taxi. B… https://t.co/Bk3XOkgFKq',\n",
       " 'Yer severe Ambulance ramping, under funding/resourcing… https://t.co/kpenM6wiej',\n",
       " \"Zulaykha's son was an ambulance driver who was killed in a suicide attack in Maimana, Faryab. Everyday, she visits the ambu…\",\n",
       " 'Jinu : Are you okay? You hit your head and fainted, do you remember anything? Yoon : Only the ambulance ride to the hospi…',\n",
       " \"They've gone ambulance chasing in Australia\",\n",
       " 'And drumroll its beach girl. Henry tried to keep pressure on the wound and calls for an… https://t.co/gvo4M76B1O',\n",
       " 'What racism ?..Absolutely delighted… https://t.co/WCP0oyZJVY',\n",
       " 'The norovirus is like a detox, gets all the crap out the system much like flushing out the central h… https://t.co/mwJBxCelyW',\n",
       " 'ooh, guys, do you know where in gauteng people go to study nursing and the ambulance nurses who keep you alive in transit…',\n",
       " '#IranProtests #Tehran Right now Valiasr intersection is where the Special Forces are heading to the Paradise Ambulance. @…',\n",
       " 'Are you one of those who silently Pray for an UNKNOWN #Ambulance passed by? https://t.co/23zS7QjTdG',\n",
       " \"If you have Norovirus there's no place like home! The winter bug is unpleasant - but usual goes away after a coupl… https://t.co/AigErM2h2m\",\n",
       " 'I don’t understand how Jongkook danced like that and was NOT breathing heavily at the end of his sequence while lyi… https://t.co/DT4rPzYXS7',\n",
       " 'Unilorin did not have oxygen, A whole University of ilorin not having oxygen they had to refer us to UITH thinking maybe t…',\n",
       " '“ambulance nurses” ♥️♥️♥️',\n",
       " 'For all your ambulance 🚑 needs call us today on our Toll-Free number 👉0819696 https://t.co/aWzJw2wxkx',\n",
       " 'What a lovely message to receive - thank you so much. 😃💚',\n",
       " 'When technical brains speak to a raging debate... Mostly, their disposition &amp; knowledge calms the storm. Even more… https://t.co/vDnC9tkXDB',\n",
       " 'Just got back from the hospital bc I accidentally blended my finger while cooking, and I promised the ambulance doctors I w…',\n",
       " 'Another race baiting ambulance chaser exposed ..this is racism in action but you and peop… https://t.co/2UhePawVK9',\n",
       " 'ooh, guys, do you know where in gauteng people go to study nursing and the ambulance nurses who keep you alive in t… https://t.co/M6YK1fibLu',\n",
       " 'Nicki minaj single handedly annihilated the male species the day this dropped !!',\n",
       " 'You must be annihilated!',\n",
       " 'Basically let people work hard for their money, save, invest wisely .. then snatch it from them to fu… https://t.co/RkEjh1oqS7',\n",
       " 'Thanks, no offence taken. But really, the choice for centre left parties is either re… https://t.co/W0RdSFC7Jp',\n",
       " 'The commonest line in most Naija songs that has now become annoying is: \"The way you whyne, E dey blow my mind\" Please…',\n",
       " 'Which Quranic Verse Did the Leader Choose for Qasem Soleimani? | Unique Moment A soldier of Islam who tirelessly foug…',\n",
       " 'She’s not wrong. The only way ACA was passed was because… https://t.co/8HsZXG6eIC',\n",
       " \"You get ready by picking your weapon of choice. I chose a lute. Of course thinking 'everything will… https://t.co/3GI3quVh5W\",\n",
       " 'Actually impossible to tell whether Dan or Boris is less across their briefs. A journalist, almost any journalist,… https://t.co/4cg1Xr6DqN',\n",
       " 'Zero chance of any of those candidates winning the next election. The deluded hard left will… https://t.co/Xnurp3Teng',\n",
       " \"Good riddance to bad rubbish ...just like we'll be saying about you when you're annihilated at #FedElection2020\",\n",
       " 'Haven’t the likes of understood yet that it was these sh1t policies plus out of touch… https://t.co/w2jxhYdWzk',\n",
       " 'All the breasts that have perished in the name of a a bottle of poison. It makes me want to cry. It makes me want t… https://t.co/4L31qGatAc',\n",
       " \"https://t.co/EbF9qbES8i y'all. this beautiful delicate tender vampire taejin annihilated me tonight. it is the most… https://t.co/PcIYtuFTlJ\",\n",
       " 'Just reminiscing about the time I annihilated a PB and made it look easy! 117.5kg feeling fiine! Bring on GPC 💪🏻… https://t.co/zPO8jagq7v',\n",
       " 'All the promises that have perished in the name of a almond. It makes me want to cry. It makes me want to curse des… https://t.co/zUlARoqepO',\n",
       " 'Sne you really tryna see me get annihilated 😭😭😭. Dm me your PSN bro😂🙏🏾🙏🏾',\n",
       " 'Polls mean shit all Hugh, they were wrong, massively, we have effectively now had 3 votes, leave won… https://t.co/EpTuVM6j5q',\n",
       " 'Piers Morgan Annihilated With Simple Logic https://t.co/rClWbc7F9l',\n",
       " 'Piers Morgan Annihilated With Simple Logic | Vegan Advocacy On Good Morning Britain https://t.co/rClWbc7F9l',\n",
       " 'Piers Morgan Annihilated With Simple Logic | Vegan Advocacy https://t.co/rClWbc7F9l',\n",
       " 'All the apples that have perished in the name of a adderall pill. It makes me want to cry. It makes me want to curs… https://t.co/aeWJnrzC7B',\n",
       " 'WE WIN! The Federal Judge lifted the TRO. We can Build in the Floodplain, this will change the game. The judge absolutely…',\n",
       " \"Oppenheimer annihilated him, I was done when he referenced Mistress Death's dislike of Thanos. https://t.co/165Ot51Jxs\",\n",
       " \"And I lost 4 in our big team event) 2 points out of 80. With a pretty nice list. It's like I was annihilated inside\",\n",
       " 'The pores on my nose after getting annihilated by my fingers at 2am: https://t.co/ydkDE1Rs3T',\n",
       " 'That moment when Doc Ock(in Spidey’s body) realizes that Spidey has been holding back in their fights all this time and Pete…',\n",
       " 'The best way to describe my current emotional state is \"toddler in a wave pool\". Fine for the most part but gets annihilated w…',\n",
       " 'Nicki minaj single handedly annihilated the male species the day this dropped !! https://t.co/v7KK4pWdtK',\n",
       " 'Answer 4: Soooooo happy I did not renew my season tickets. I would have lost my mind. I am very di… https://t.co/dSpkJKHw96',\n",
       " 'Machines changed music; pretty much annihilated the concept of a live band playing real instruments. However, machines have n…',\n",
       " \"LSU would have annihilated the ohio state university. They couldn't even dominate Wisconsin… https://t.co/YnYvUiZO0T\",\n",
       " 'Should mention the 2013 Florida State team as well. They annihilated everybody they played except Auburn who they… https://t.co/S3Y2NzCxoL',\n",
       " 'Machines changed music; pretty much annihilated the concept of a live band playing real instruments. However, machi… https://t.co/wxgFpzbOIt',\n",
       " 'I’m getting absolutely annihilated but I’m hooked on Tarkov',\n",
       " '...and Disney &amp; the Psych-Rey-Lo’s wonder why we’re upset w. Star Wars; which is… https://t.co/uh4ZSqa5e3',\n",
       " 'Thot status: annihilated',\n",
       " 'You think they would’ve learned with Clinton getting annihilated after s… https://t.co/Iglk8q8Mb9',\n",
       " 'The antichrist - he single-handedly annihilated the american movie industry',\n",
       " 'That was before #auspol was onto #TheLiarFromTheShire and his manipulation of the election… https://t.co/Zg16ZU0Mf9',\n",
       " \"A devastating and thorough refutation of and Ned Flanders' stream where they annihilated orthodox straw men…\",\n",
       " \"A devastating and thorough refutation of and Ned Flanders' stream where they annihilated orthodox… https://t.co/8XLX0crbUa\",\n",
       " \"Maybe. My current thinking is it'll be a related to upcoming title or story arc. X-Factor just tonally feel… https://t.co/kjj5nN7FGo\",\n",
       " 'Just annihilated this 25 y/o graduate broad... Made her call me “The Gaud” Snatched her souls and didn’t bust...… https://t.co/SdrPOV2vFi',\n",
       " 'Thot Status: Annihilated',\n",
       " 'This guy just annihilated the best defense in college football and all we had to do was lose two games i am sick',\n",
       " 'Broke, destroyed, annihilated, shattered his ankle and abou was never d same again...',\n",
       " 'Clown in photo on left...FAR LEFT...joked about Predator drone strikes at fake news corespondents dinner after he c… https://t.co/M410MyH6l5',\n",
       " 'LSU was the best team in the country start to finish this season. They annihilated Oklahoma in the semifinals and d… https://t.co/itvqnjnyZv',\n",
       " 'All valid, and total body of work matters, but LSU proved to me they were the worthy 1 seed when t… https://t.co/ghzKZC7Blw',\n",
       " '“If all else perished, and he remained, I should still continue to be; and if all else remained, and he were annihilated,…',\n",
       " 'Bernie sanders is the most coddled politician today. He will get annihilated if win the nomination.',\n",
       " \"1. Iran's government is dominating headlines. A crushing and cruel islamic regime. Purveyor of proxy wars. State sponsored ter…\",\n",
       " 'Lots of talk about violence carried out in the name of Hindus cow vigilantes and lynching. Extremely… https://t.co/Trq3KblIx8',\n",
       " '🇺🇸 5 x US Navy E-6Bs airborne Probably nothing... Or imminent global annihilation. 🤷\\u200d♂️ https://t.co/T7ILcJvh7o',\n",
       " 'You are just deflecting the issue, which is discouraging statistics(of Bengali hindus) f… https://t.co/rGjkNxYzL8',\n",
       " 'i want u like annihilation',\n",
       " 'I loved and hated #UncutGems, like several movies recently. It evoked Clockwork Orange - grotesque but compelling -… https://t.co/KPHUCeRWCi',\n",
       " 'What in the annihilation is this? https://t.co/R806oQ6eaq',\n",
       " '[AUS] Vic Bushfire Appeal | Doggos | Animal Farm | Tomb of Annihilation https://t.co/SgKNEDTlto',\n",
       " '[AUS] Vic Bushfire Appeal | Doggos | Animal Farm | Tomb of Annihilation https://t.co/SgKNEDTlto',\n",
       " \"Two alien races go to war, and Earth is caught in the middle. Now it's up t… https://t.co/IkLFXK1SeK\",\n",
       " 'The strangest part is the palpable disappointment that they will no longer rely on public funds. After years of austerity +…',\n",
       " 'Terrible High Elf Shortsword of Annihilation',\n",
       " 'You know which movie should be in the Oscars this year? Annihilation.',\n",
       " 'ANNIHILATION https://t.co/3QhIwn016i',\n",
       " 'the biggest Fs in the chat of all 2019 film twitter is that this fake “Cats” trailer w/ the Annihilation score dubbed over t…',\n",
       " '99¢ Nexus: The Araphym, The Darkening Part 3. A horror/paranormal ebook novelette by E. H . James. The only thing standing…',\n",
       " 'Dying for salvation with dedication No Capitulation, annihilation Papal commendation, reincarnation Heaven is your… https://t.co/h65K0KK0Vm',\n",
       " 'Watch this thing scam wick 8949.99. That will really start the party to annihilation. 😂',\n",
       " '99¢ Nexus: The Araphym, The Darkening Part 3. A horror/paranormal ebook novelette by E. H . James. The only thing… https://t.co/X1frQ0gDOL',\n",
       " 'https://t.co/ycuDYIncZ8 Data assimilation in Agent-based models using creation and annihilation operators https://t.co/kyQNZczdKJ',\n",
       " \"Happy to see people regaining conscience... Afterall those who have soul can't just stand and watch the… https://t.co/RUqUtjiCx1\",\n",
       " 'NEW ANNIHILATION 🔥 ft TRAGEDY KHADAFI ⭐️P SWAYS &amp; GRAND SURGEON DJKool Real Kings Of The Trap Vol. 11 ⭐️h…',\n",
       " 'Annihilation! One a my favs',\n",
       " 'Starting Annihilation rn for the first time somehow',\n",
       " 'Yeah I was surprised too when I heard it first! Another gem of an electronic score is this… https://t.co/ttfHyc2neO',\n",
       " \"You don't understand systemic oppression, that the cost for oppressed is total, complete anni… https://t.co/RGqeYk2Z7b\",\n",
       " 'I dont get your bias flipping, short annihilation incoming',\n",
       " 'annihilation on hulu',\n",
       " 'If we cannot yet see the dangers lurking, we are hastening our annihilation, and then n… https://t.co/ME03jalL2s',\n",
       " 'Over the weekend I drove through some of the burned out landscape with a big bag of sweet potatoes for the roos: the severit…',\n",
       " 'The Four Horsemen of the Apocalypse https://t.co/WeY8JusTe6',\n",
       " \"Two days. That's how long they had. Two days, and they were done. https://t.co/aR09iWu0fZ Stage 3: Bravo. FREE on Ki…\",\n",
       " 'I will never understand why the smell of girls perfume lasts for a 8 secs meanwhile boys can go through an apocalypse and st…',\n",
       " 'When the apocalypse happens I want and his army of followers on my team. Everyone in Heelys. There’s hundred…',\n",
       " '#Eskenfilme Kauft einen Ford Falcon und viel Sprit, die Apocalypse kommt ohne Tempolimit... https://t.co/ryCJUlQK4P',\n",
       " 'Euroleague Bet365 με 8 units https://t.co/btn3KLIumB',\n",
       " \"I like this review of 's #ApocalypseCow. (https://t.co/jHcxBFXsGX) It's fair about Monbiot's views -… https://t.co/cXPzQCLKDf\",\n",
       " '“It also made me think of what life is basically like now: a calm foreground with an inferno on the horizon.... People w…',\n",
       " 'It really is not a nice night outside any moment now I expect the four riders of the apocalypse to arrive 🥳 https://t.…',\n",
       " 'Apocalypse',\n",
       " '… https://t.co/6VsH3kdagn',\n",
       " \"Yea, but let's be honest. Kids value pretty much any game they see on Roblox the same. They'll play whatever they f… https://t.co/k0YcbKnN9U\",\n",
       " \"#Veganuary is here! 🍔 Have you tried one of our (v) burgers? Today's pick; Falafel Burger with lettuce, pickled sla… https://t.co/e9xr0Fkhkz\",\n",
       " 'Francis Ford Coppola and Dennis Hopper on the set of Apocalypse Now https://t.co/QtHYvhbJ4p',\n",
       " \"Lately I've been thinking again about what , Miriam Rose Ungunmerr Baumann, and Gerard Manley Hopkins tell…\",\n",
       " 'Images bibliques – Apocalypse 21:3-4 #LeChrist #LeSeigneur #autorité #JésusChrist #Dieu #laRédemption… https://t.co/IzB3xwOTU5',\n",
       " 'The Jam - Setting Sons Carter USM - 30 Something Jimmy Page - Outrider Nirvana - Nevermind Guns N Roses - Appetite… https://t.co/5gNapTMu0t',\n",
       " '4-32-1 Pandémie,apocalypse now... #soupir https://t.co/wSQRcHgdHb',\n",
       " 'chodzi ci o Apocalypse?',\n",
       " 'I am The prophesied Jesus #Savior44 Prophesies say about \"signs\" of The Time of Apocalypse, like NOW when I am… •Th… https://t.co/fIzPZYkjT9',\n",
       " 'Apocalypse chic',\n",
       " 'Join and his chums this month for an improvised apocalypse movie! How would you like to see the world e… https://t.co/zcSAgVfuHT',\n",
       " \"Texsch literally caused the apocalypse and that's invalid :o)\",\n",
       " 'Marcelito Pomoy 🔥🔥 nakaka proud! https://t.co/RZI6Gd3MpM',\n",
       " 'Inbefore xenobota cause the apocalypse https://t.co/fkHuQeIoxS',\n",
       " 'Damn, I finally dreamt of a real apocalypse and it wasn’t a short dream. Only in half of my dream I came to the rea… https://t.co/CGb5QgptMk',\n",
       " '★★★★★ “This is a thrilling, and amusing read” -British Fantasy Society- GAME CHANGERS OF THE APOCALYPSE Author: Mark Kirkb…',\n",
       " '👍 on : GTA 5 Zombie Apocalypse Mod #2 - SURVIVAL!! (GTA 5 Mods) https://t.co/jwRJlHMW6R',\n",
       " '👍 on : GTA 5 Zombie Apocalypse Mod #1 - BEGINNING OF THE END!! (GTA 5 Mods) https://t.co/j8kxZ6SXdN',\n",
       " '👍 on : What to Wear in a Zombie Apocalypse (Zombie Survival Guide) https://t.co/Bbn6CEuM3N',\n",
       " 'remember you said that we created God in our image? I think this here is us creating the often biblical apocalypse.',\n",
       " 'Apocalypse 💀💀💀 #deathknight #worldofwarcraft https://t.co/GFBi8WFXVo',\n",
       " 'GRETA THUNBERG: please no phjotos. I dont want to be fjamous, i just want my save my small windmill town frjom climjate apo…',\n",
       " 'It’s Armageddon for wheelie bins.',\n",
       " 'arm in armageddon part I: freezing',\n",
       " 'I am so disgusted that I have no words. There is a very good reason we have the separation of church and state, and this pro…',\n",
       " 'New Music: DJ Joenel feat. Ajebo Hustlers, Dr Barz &amp; Dan Dizzy – Armageddon https://t.co/S8bAUOPZDZ https://t.co/jiel4VWU1F',\n",
       " 'New Music: DJ Joenel feat. Ajebo Hustlers, Dr Barz &amp; Dan Dizzy – Armageddon https://t.co/rlOcieXQPt https://t.co/2DCzBRS1nJ',\n",
       " 'White: \"I Saw Trump Riding Golden Horse Alongside Jesus During Armageddon.\" I don\\'t claim to be an expert on Jesus, but t…',\n",
       " 'It was pitch black at 9.30am in Mallacoota as more than 4,000 people fled AustralianFires, seeking shelter on the beac…',\n",
       " \"This kind of insanity is why there's separation of Church &amp; State I have no words for this level of craziness This proves,…\",\n",
       " 'It was pitch black at 9.30am in Mallacoota as more than 4,000 people fled AustralianFires, seeking shelter on the b… https://t.co/YtSAuNs5j8',\n",
       " '\"I saw Trump riding a Golden Horse alongside Jesus during Armageddon\". Is she snorting, looking for attention or she\\'s an…',\n",
       " 'That can’t be true. Jesus usually rides a Harley to Armageddon picknicks. https://t.co/luYrj6NY7z',\n",
       " 'Getter Robo: Armageddon (1998) https://t.co/fqD7EoBjq8',\n",
       " 'White: I Saw Trump Riding Golden Horse Alongside Jesus During Armageddon - The Business Standard News https://t.co/4wyXf8DR78',\n",
       " '65RT↑270♡↑ Thanks!',\n",
       " 'i grew up with the 70s ryouma and i love him so much. i also love armageddon ryouma, but new getter ryouma… https://t.co/15m5mg8TCP',\n",
       " 'Have you ever thought about making another Spawn game? Like Spawn Armageddon back in the days.',\n",
       " 'Glad that we are going to make domestic flights cheaper for everyone, increasing the amount of CO2 in the air and s… https://t.co/07PwCJIulM',\n",
       " \"some say we'll see Armageddon soon i certainly hope we will i sure could use a vacation from this stupid shit\",\n",
       " '[Music] DJ Joenel – Armageddon Ft. Ajebo Hustlers, Dr Barz &amp; Dan Dizzy https://t.co/w9VTUBqHOE',\n",
       " \"chose one or all 9 Bush 2 was Cheney's puppet Trump is Pence's and Putin's and pompeo's and they… https://t.co/keCqsfMjEI\",\n",
       " 'White: I Saw Trump Riding Golden Horse Alongside Jesus During Armageddon https://t.co/oG3RkpyvH8',\n",
       " 'When the few hold the most wealth power and privilege due to the defective money system that humani… https://t.co/EPmdxaRAus',\n",
       " 'White: I Saw Trump Riding Golden Horse Alongside Jesus During Armageddon https://t.co/gFFlP3YNk3',\n",
       " 'The ONLY reason that Jesus would be riding along side of tRump would be to show him the gates of hell w… https://t.co/0qLG3G8yko',\n",
       " 'Sounds strikingly similar to the Worms: Armageddon CD!',\n",
       " 'This chick clearly needs glasses because I saw a golden horse’s ass walking with Jesus into Armageddon.',\n",
       " 'The story that caught my eye: the Davinder Singh saga gets curiouser and curiouser.. the ‘deep state’ has much to answ…',\n",
       " '[ARMY CHALLENGE] Name 5 BTS songs from the top of your head separately! ⚠️ Don’t forget to reply using: #BoyWithL…',\n",
       " 'army privilege is being able to call an album that sold 4m+ copies a flop and i think thats beautiful',\n",
       " '[BATCH 2 OF DONATIONS] ARMY! The second batch of donations was already given to the Philippine Red Cross! We are very ha…',\n",
       " \"i can't even imagine the chaos on army twitter if a BTS member announced suddenly he's getting married.......\",\n",
       " \"ARMY: I'm tired of being 🤡 Also ARMY waiting for 6pm kst: we will get something later, we are sure of it. 🧐 #BTSARMY #B…\",\n",
       " '🚨 ARMY CHALLENGE 🚨 CAN WE DO THIS?! 🔐500 Retweets 🔐200 Replies I vote #BTSARMY for #BestFanArmy at the #iHeartAward…',\n",
       " 'Weverse Official BTS | SUGA 200110 ↘ [ARMY ZIP] BTS CINEMA - INTERVIEW &amp; GALLERY About \"PERFECT MAN\" ACTOR : #SUGA https:…',\n",
       " 'Weverse Official A Special Gift for ARMY from BTS JIMIN https://t.co/xqoLlqUUtE',\n",
       " 'People in the army kill people everyday and then get sent home no jail time',\n",
       " 'if you get this, your army card is premium https://t.co/LAmDjmk7n7',\n",
       " 'Over 75+ replies in 4 minutes! ARMY, you’re on 🔥 #BoyWithLuv #BestMusicVideo #iHeartAwards',\n",
       " 'MAX talks about being a fan of &amp; Jungkook singing his song. mentions ARMY sending flowers. http…',\n",
       " 'Weverse Official BTS | V ↘ [ARMY ZIP] BTS Cinema (Movie Poster) A neo-noir filled with unexpected plot twists and shocki…',\n",
       " '🌟2020 iHeartRadio Music Awards🌟 RT=1票💜 ★Best Fan Army★ #BTSARMY #BestFanArmy #iHeartAwards…',\n",
       " 'TAEHYUNG ARMY ZIP PHOTO! DROP LATER!! TANGENAAAAA UGHHHH! https://t.co/G1R9tMwlxj',\n",
       " 'Remember when an army used google translate to ask “are you excited to go to korea?” But it messed up and said “Are you horn…',\n",
       " \"J-Hope's 'Chicken Noodle Soup (feat. Becky G)' MV has passed 130 million views. #iHeartsAwards #BestFanArmy…\",\n",
       " 'So ARMY ZIP drops then CONNECT, BTS and then Run? Damn',\n",
       " 'MY NEW BROTHER SUGA https://t.co/RqM9zHWSPY',\n",
       " 'Y’all remember this army who had a room full of bts universe theories..... https://t.co/rwMWLPzeL7',\n",
       " 'i just want to remind you all that i still think about the army who made this saying that this is how jungkook will meet…',\n",
       " 'V on Weverse ARMY : Everyone, please help Philippines ARMYs! 🙏 🇵🇭 V : My heart ache for that nowadays hope nobody will be…',\n",
       " 'I’m the one who wrote this post on weverse. I’m glad that many ARMYs are able to see so that they have awareness as to wh…',\n",
       " \"💡What is Shazam? 💡Why is it important? If you're a PH ARMY, feel free to DM us if you have other questions. ❝ Teamw…\",\n",
       " 'Weverse Official A Special Gift for ARMY from BTS SUGA https://t.co/7VQDvghgfj',\n",
       " 'Taehyung’s army zip photos in one hour...... dunno if I’ll survive',\n",
       " '[VIDEO] A groom from the Philippines danced to a medley of songs with his friends on his wedding for his new br…',\n",
       " 'remember when yoongi replied to an army in english 🥺🥺 why did i just read it in his tiny english voice too i’m devastate…',\n",
       " 'ARMY, what year did bighit acquire you?',\n",
       " 'ARMY detectives found out that BigHit created a website for #CONNECT_BTS but it is not yet confimed. The link to the webs…',\n",
       " 'INDONESIA ARMY WHERE ARE YOU?! WE ARE HUGE PLEASE VOTE #BoyWithLuv #BestMusicVideo #iHeartAwards @…',\n",
       " 'so this groom from the philippines decided to give his wife who’s an army/kpop fan a medly of bts songs.. and honestly this…',\n",
       " 'pre-order untuk Map of the Soul: 7 oleh ARMY China 🇨🇳 telah mencapai 230.192 copy 😮gileee gileee #BestFanArmy #BTSARMY #…',\n",
       " \"Taehyung's army zip photos come out today and I am absolutely shitting myself 😭 https://t.co/qatAjVlkUI\",\n",
       " 'NW THIS IS STILL THE FUNNIEST SHT EVER https://t.co/JCxknn6ITI',\n",
       " 'Wasn’t this Abbott’s green army vision? https://t.co/1OnH29Zoq5',\n",
       " 'Weverse Official A Special Gift for ARMY from BTS V https://t.co/gA43LVRqdl',\n",
       " 'Tell u to also give him a military name. Then we can… https://t.co/HJmSL2Kdae',\n",
       " 'One Man ARMY THALA AJITH 🔥 #19YearsOfDHEENA',\n",
       " 'The two genders, Emasculated and Literally In The Army.',\n",
       " '[MEDIA] Cosmopolitan Philippines () wrote an article about Taehyung sending his own prayers for those affected in…',\n",
       " 'I’ve decided again tonight. I’ll love forever. I’ll be an ARMY forever.',\n",
       " '[Latest Update] Pre-orders for Map of the Soul: 7 by China ARMY 🇨🇳 have reached 230,192 copies! via. 咖泰亨 on Baidu Tieba #Be…',\n",
       " 'Has the vicious, nasty, vindictive, abusive digital army launched a twitter attack against #SatyaNadella or not yet? \"Mi…',\n",
       " 'Baby ARMYS should experience Outcast bc that was honestly one of THE best times on ARMY twitter. Every single day, the who…',\n",
       " 'FINDING PH ARMYs 🇵🇭 FINDING PH ARMYs 🇵🇭 FINDING PH ARMYs 🇵🇭 FINDING PH ARMYs 🇵🇭 FINDING PH ARMYs 🇵🇭 FINDING PH ARMY…',\n",
       " 'Weverse Official BTS | JIMIN 200113 ↘ [ARMY ZIP] BTS CINEMA - INTERVIEW &amp; GALLERY About \"Young Forever: Mono\" by ACTOR :…',\n",
       " \"Congratulations J-Hope and for 130M views for CNS 🎉 Let's stream as much as we can until Hobi's bir…\",\n",
       " 'It matters to bts &amp; army. RM mentioned abt… https://t.co/lJdIfDz0by',\n",
       " '200114 Army: everyone help the Philippine ARMYs... please.🙏🏻 #PrayforThePhilippines V: these my heart hurts a lot. plea…',\n",
       " 'The latest #Bloodshot trailer has Vin Diesel rebelling from an army of super soldiers (via ) https://t.co/aU…',\n",
       " '아미 사랑꾼들 어떻게 안사랑해 ㅠㅠ CONNECT WITH ARMY #iHeartAwards #BTSARMY #BestFanArmy https://t.co/ffRuNz8dvp',\n",
       " 'Bernie and Warren are the two most progressive presidential candidates in a generation. Remind yourself of this before we…',\n",
       " 'Australia since 1910. This one image says it all. Arson, my ass... total denier bollocks #AustralianBushfireDisaster…',\n",
       " 'Interesting. I posted a few caustic tweets about the failing Morrison government and Pauline Hanson. Then the #Newspoll came…',\n",
       " 'Please at least try and do some research first before you speak. Lighting and humans started the Aussie fires. They t…',\n",
       " 'Is this arson bastardry a co-ordinated global Greens scheme to convince the world Co2 is causing global warming and t…',\n",
       " \"I don't know why they Hon Judges get carried away? they should have stuck to the law. No one is den… https://t.co/gwDfJdcsaN\",\n",
       " 'Arson and failure to enact controlled burning. Easy',\n",
       " 'No just plain hard facts. Australia has always had fires - Tony Heller… https://t.co/pSFW3bHioq',\n",
       " 'I’ve had a number of messages saying that the media is ignoring arson as a major cause of the Australia bushfire crisis.…',\n",
       " 'Newscorp digging deeper. Adverse publicity about their coverage of bushfires, insistence on concentrating on arson, backbur…',\n",
       " 'The inquiry will show an alarming increase in the numb…',\n",
       " 'Climate change is now the #1 cause of arson. Or perhaps arson is the #1 cause of #ClimateChange Whatever it is, the sol…',\n",
       " 'Two of the most recent studies say there are between 52,000 and 54,000 bushfires in Australia every year. Of…',\n",
       " 'Still waiting for the scientific data supporting arson rate increases....',\n",
       " 'In Ilhan’s world, arson = climate change.',\n",
       " 'Map of 379k tweets from 190k accounts on Aus bushfires and arson. The narrative that arsonists (and not climate change) are res…',\n",
       " 'We cannot stop bushfires, we must plan to live with them. This means significant change, including information and… https://t.co/XX4QCfV9h3',\n",
       " 'Emergency Services Commissioner Andrew Crisp says most Victorian fires started by lightening. Not aware of any police…',\n",
       " 'The guy next to me is texting people “arson fact file” bushfire conspiracy theories 🤪🙃',\n",
       " \"I've gotten a lot of hate mail for our latest article about the actual arson figures for this bushfire season. Some have accus…\",\n",
       " \"ℹ KNOW THE FACTS ℹ The has said that lightning, not arson, is predominantly responsible for starting this season's…\",\n",
       " \"that's right im rdg caste heaven.... surprised no one's thought of arson\",\n",
       " \"Ummah before everything. 'Eminent intellectuals' ready to make the most ridiculous of claims to provide cover to the foo…\",\n",
       " 'Yeah because arson and poor forest management is not climate change.',\n",
       " 'Theories are not facts. The earth has not ended since the last time Al Gore, the Democrats &amp; climate change advocates s…',\n",
       " 'As fire chiefs in NSW have made clear there may be a few cases of arson but most fires are caused by ligh… https://t.co/7GDlTmGvrO',\n",
       " '...the lack of decent land management / strategies for fire prevention,… https://t.co/ieKcFNpZVs',\n",
       " 'Ladies don’t ever go to jail for arson over a dusty ass cheating man in a c class 😩 is his date just sittin there waitin…',\n",
       " \"it's not just arson that's starting the fires though, in some ar… https://t.co/n6keLJK9yB\",\n",
       " 'John Brennan Sacked corrupt Ex CIA Director who was one of the people… https://t.co/7ylzHD8vo6',\n",
       " 'As part of our analysis of misinformation propagated about the Australian bushfires, has produced this detai…',\n",
       " \"TASA member et al. was in the recently on, ' #Bushfires, #bots and #arson claims: #Aus…\",\n",
       " 'HE HAS A FUCKING HEART AND A LITTLE RAINBOW EMBROIDERED ONTO HIS PANTS IM GOING TO COMMIT ARSON https://t.co/hF30TdQGpy',\n",
       " '‘I did not burn myself out for nothing’ -Jon Moxley Finally he get the match he committed arson for heheh Can’t wa… https://t.co/XRsENYSlI6',\n",
       " 'Arson is not climate change. Arson is not climate change. Arson is not climate change. Arson is not climate change. Arson is…',\n",
       " \"There's no doubt, , that officials are downplaying arson's role in Australia's fires (because they are global…\",\n",
       " \"Dr ji Pakistan,Bangladesh 'Terrorist' Elements Behind Anti-CAA Arson, Says Dr.Swamy Dr Swamy claimed…\",\n",
       " 'Anti CAA Protest:-Prof.Robin Verma released from Lucknow jail this morning. He was illegally detained, brutally tortured…',\n",
       " 'Perhaps we should put out a companion piece of the biggest Arson deniers.',\n",
       " 'The arsonist turns up with a fire extinguisher. https://t.co/WRpE2YRLue',\n",
       " 'The arsonist turns up with a fire extinguisher.',\n",
       " 'Bullying &amp; harassing people who disagree with your candidate’s assessment that a woman can’t beat Trump is not the path…',\n",
       " 'Equivalent of an arsonist that lights the fire then rushes in as a hero to put it out! Except this fi… https://t.co/xFebDYfVsa',\n",
       " 'Have I got this right #Arsonist in Chief of #AustraliaBurning Morrison is even smugger &amp; smirkier than usual bc he clai…',\n",
       " 'In Bhainsa of Nirmal district(Telangana), stone pelter and arsonist mobs have selectively targeted hindu properties, v…',\n",
       " 'It’s called 185 arsonist!',\n",
       " '\"Morbius the Living Vampire\"? I mean, ok. I can come up with names too. \"Garamondo the Dead Werewolf.\" \"Camandrake the…',\n",
       " 'One of the blog confirms that voilence was linked to CAA and nrc protest. In Bhainsa of Nirma…',\n",
       " 'Had two dreams , one bad and the other good . I was a hero in the second dream 😁😁😁😁😁. Even rode a 6 legged mystic… https://t.co/nAe63CJfZS',\n",
       " 'This is what happening in Bhainsa elections collude betweenTRS-Aimim(arsonist mob) #Bhainsaattacked #Bhainsaburnt s… https://t.co/OlEigmtEcy',\n",
       " 'You mean a sea sandwich?',\n",
       " \"Love to see a billionaire talking about climate change. It's lik… https://t.co/t6KNAi9umn\",\n",
       " \"Australia is burning because people intentionally set the bushes on fire to create panic that doesn't or… https://t.co/UjUGS9Mne1\",\n",
       " 'Trump is simply a political arsonist. He requires crisis and chaos to survive. If there is no crisis, he will create…',\n",
       " 'Tow-trucks and cigarette butts Toe-tags and body-bags Gunshots and raindrops-- At night, the city burned The sun w… https://t.co/kZP4lAixEj',\n",
       " 'Moving on very quickly from the bush fires you arsonist',\n",
       " 'Trump is simply a political arsonist. He requires crisis and chaos to survive. If there is no crisis, he…',\n",
       " 'someone posted this in discord and agowijfaklw;fjlkawefsa https://t.co/pyqYmU2cGV',\n",
       " 'Where are the nationalist news anchors when it is time to question the motive of Davinder Singh ? A dubious officer who was…',\n",
       " 'Warren is disappointed that Bernie is sending out people to challenge her and Bernie says Warren is doing the same to him. Th…',\n",
       " 'This campaign would NEVER attack supporters. The script, which was not directed by the campaign, pointed…',\n",
       " '#StarWars Skywalker Saga Lifetime #OscarNoms 🏆 A New Hope: 10 🏆 Empire Strikes Back: 3 🏆 Return of the Jedi: 5 🏆 Phanto…',\n",
       " 'Let me tell you something cause every time I post anything political I get attack all type of crazy .If you are a conservati…',\n",
       " '[BLINK ATTACK] Goal: 2k RTs 200 comments #KillThisLove #FaveChoreography #iHeartAwards https://t.c…',\n",
       " 'Trump shares horrific photo of bloodied corpse: The tweet that Trump shared said: \"Question: Who in America supports this m…',\n",
       " 'When satan is lazy to attack you, he sends a broke guy with big a d*ck 🍆 into your life . Watch out ladies 🤣🤣🤣',\n",
       " 'Attack your local journalist https://t.co/SVuIFchljA',\n",
       " '“Use Edited clips, Coordinated, vicious attack, ill-informed, malicious” seemed like appraisal discussion at India Today…',\n",
       " \"It's an interesting question but principally because Prevent is so loosely defined. It is principall… https://t.co/YJREdou6zk\",\n",
       " 'You ever accidentally send a snap to an Internet personality and have a heart attack 😰😂',\n",
       " 'It is disingenuous for Bernie supporters to be leading an attack on Warren for her supposed attack on Sanders (which is what…',\n",
       " 'Boris currently in BBC breakfast referring to the POTUS as “Trump” and suggesting there was no reason for the UK to be…',\n",
       " 'The Fake News Media and their Democrat Partners are working hard to determine whether or not the future attack by terr…',\n",
       " 'Genuinely Could NOT Agree With You More! I Have Been Abused by Harlow Council For 9+ Yrs C… https://t.co/0Iv4nGQ2aq',\n",
       " 'me having an anxiety attack trying to look normal so that nobody notices.',\n",
       " 'Moments before taking a bucket full of d6 for the Sneak Attack. #dnd #dungeonsanddragons #dnd5e https://t.co/QotzVHVliW',\n",
       " 'i tried to go to school today and everything was fine but now i sit outside of the classroom bc my hands started to… https://t.co/JDbcnqrOJH',\n",
       " 'DSP Davinder Singh worked for JeM terrorists for money for decades. He admitted to torturing Afzal Guru whom he allegedly…',\n",
       " 'BREAKING: #IranAttacks - we have just discovered an Interview from the Danish TV2 who has met with a soldier that was o…',\n",
       " 'Trolls launch mala fide campaign against India Today, use edited clips. This co-ordinated, vicious attack against …',\n",
       " '🤦🏻\\u200d♂️👉 WELCOME 2 OREGON, THE LIBERAL STATE, 👉WHERE U CAN ATTACK A SECURITY GUARD W/ MACHETE WHILE USING…',\n",
       " 'At 8:07am local time two years ago today, human error, this text alert, escalating US-North Korea tensions, and the lack…',\n",
       " 'Not going to repost the hate speech from the president* today but find it vile that he would dress the Speaker in Muslim garb…',\n",
       " 'Along with several other soldiers, the Danish sergeant waited several hours in a bunker in #Iraq for the #Iranian attac…',\n",
       " 'When Orientalism, Islamophobia, and anti-#Iran sentiment are used to attack people across the political aisle (this was retweet…',\n",
       " '#Alert- This has raised serious questions on national security. I had raised this even during the Uri attack that they enter…',\n",
       " 'Wheels within wheels. Davinder Singh, the #Kashmir senior cop held with weapons and two Lashkar/Jaish men in his car, is the…',\n",
       " 'money website my pinned tweet so Republicans launched a lil somthin beer future attack tweets far government lol have every thing like',\n",
       " 'I love it when the possessed attack me on here;) Easily identified, the foot soldiers of hell are terrified. The truth shall set you free!',\n",
       " 'Six hours before Iran sent missiles to two military bases in Iraq, the Danish govt and the Defense Force knew about the…',\n",
       " \"I'm tired of ppl always trying to attack cardi because she be speaking straight facts💯\",\n",
       " \"#Kashmir DSP Davinder Singh's dramatic arrest with 2 militants has created big national security questions for India: E…\",\n",
       " 'German Hospital Forced to Hire Security Guards After ‘Refugees’ Physically Attack Nurses https://t.co/BkDDlcTDk5',\n",
       " 'It is indeed incredible that 9 days after the attack on JNU, the exposes done by the media, the confession on national TV b…',\n",
       " '\"Make no mistake. This is a full-on attack on our 2020 election.\" — on The New York Times report that Russians…',\n",
       " \"Suddenly the first layer comes. 9 rockets, a ton each. It cannot be described. I've never experienced anything like it,…\",\n",
       " 'From \\'s today: \"Attacking another candidates’ supporters rather than her record is kind of obnoxious.\"…',\n",
       " 'If 0bama was still POTUS, the ChiComs would’ve stolen the presidency. Cuz no one in O’s administration would help Taiwa…',\n",
       " '\"We confirm the attack on our database by the #UEE, which has been stopped and sent back to the enemy… https://t.co/BKUBH95Kae',\n",
       " 'Statement Following the Conclusion of Pensacola Naval Air Station Attack Investigation \\u2066\\u2069 https://t.co…',\n",
       " 'Ending 2019 with a long-awaited paper from &amp; Gorman Lab at showing hydrogel injection attenuate…',\n",
       " 'This plank row hellset will attack you abs. https://t.co/5DIIh4wBIe',\n",
       " '‘Yehi Hai Wo Sanghi Ka Room.’ Bachelors Student From JNU Recalls January 5 Attack By ‘Leftist’ Mob https://t.co/jHAfGbcqYW vi…',\n",
       " \"ok dont attack me on this, it's just a joke kslsk\",\n",
       " 'They accepted responsibility, expressed regret and paid compensation ... all in a very short ti… https://t.co/WW071qrlWq',\n",
       " 'Mob attacked Hindus, Burnt &amp; looted houses in Bhansia in Telangana. AIMIM party is behind the attack on Hindus https:/…',\n",
       " 'How about this? Of the 21 Saudi Muslim aviation students investigated in connection with the December 2019 Pensacola att…',\n",
       " 'Labour candidate in ‘embarrassing’ attempt to attack Nicola Sturgeon https://t.co/AahCOJUw0v',\n",
       " 'Gegenpress and all out attack... Does leave you 1 CB down at the back but...turn it off once they re… https://t.co/92t1zCfJDh',\n",
       " 'I just zoom it and took ss and feel attack.. How our fansites stay alive?? 😳 😳 😳 https://t.co/xXTn2Ht5kB',\n",
       " 'NYT: Experts find evidence Russians hacked Ukrainian gas company | Engadget https://t.co/1UKfLO3IQH // dans la séri… https://t.co/Y7gbe84m2J',\n",
       " 'A person could theoretically say \"Trump will attack a female nominee just like he did Hillary\" - I hear peopl…',\n",
       " 'Maybe I could be addicted. I’m not sure. It’s hard to put down because of that need to know whats going on at this… https://t.co/Rb6lyoM7XH',\n",
       " 'This is how our White blood cells attack a parasite. https://t.co/O35owVTgNX',\n",
       " 'what if iz*one is gonna disband too? that they just said that iz*one will resume so the fans won’t worry but in the… https://t.co/Zy16AGQe42',\n",
       " 'Tumne Beta Mumbai attack ke Baad JHA2 kabara tha,kya? Tum sirf saboot mango. https://t.co/ek6VWvmBpz',\n",
       " 'The media thinks of me as \"far-right\" just because I support the America First Trump agenda. Actually, I\\'m fiscally conse…',\n",
       " 'I feel attacked. https://t.co/PrtvRimq6y',\n",
       " 'God is going to bless you in the same season the devil attacked you.',\n",
       " 'Texas Democrat congressional candidate, , was violently attacked by Red Guards Austin, a revolutionary Comm…',\n",
       " 'URGENT: We need at least 318 more patriotic Americans to sign our card supporting our troops before midnight, and we’re missin…',\n",
       " 'Did you just call me racist? 🤣 Britain is being attacked for being racist. Ergo: They… https://t.co/ZhA0maA05u',\n",
       " 'You know what My ascendant feels personally attacked',\n",
       " 'Id love to know how actually its just a different type of homophobia that happened to Wilson. He was a… https://t.co/mpXLgZUniA',\n",
       " \"FT, emperor's got no clothes.. Biggest asset managers attacked over role in climate change Shareholders put pressure on BlackR…\",\n",
       " 'Peacful mob attacked people in bhansia in adilabad district in Telangana. Pelted stones Looted houses Burnt vehicles ..…',\n",
       " \"Spot on. I fully expect #Bernie to be attacked on all sides at Tuesday's #DemDebate as and …\",\n",
       " 'Some one asked me what it feels to have cancer. . It took me a while to figure it out, but to me having cancer feels li…',\n",
       " 'President Trump gave it all up to save this country. He gave up his billionaire lifestyle, successful business, popular T…',\n",
       " 'i feel attacked 😭 https://t.co/Jg0VPnKiUK',\n",
       " 'Omg feeling attacked bc it’s true 🥺',\n",
       " 'How do you snowflake- Trump hating idiots feel about Iran’s evil regime now? Last week you loved them! We aren’t against t…',\n",
       " 'I feel attacked. https://t.co/jy5jPhzhEy',\n",
       " 'Jessica Yaniv just attacked outside the courthouse. His response: “Get away from me you f**king crazy f**ki…',\n",
       " \"It's hard to have conversations about things we like, dislike, or have all around criticism for. P… https://t.co/iD35yJAZog\",\n",
       " 'Literally attacked https://t.co/Cg9nEEaDxb',\n",
       " 'What kind of illusion are you under? bernie has been consistently attacked by the media, othe… https://t.co/DlWViUO6Nr',\n",
       " '#Jansena Chief and cine star #PawanKalyan arrived at #Vizag airport and headed to Kakinada where his party men were at…',\n",
       " '🔻 GDP % at 6 yr low 🔺 Inflation at 6 yr high 🔻 Nominal GDP% at 45 yr low 🔺 Unemployment at 45 yr high 🔺 Petrol @ 80 🔺 Oni…',\n",
       " 'I feel SO ATTACKED rn https://t.co/yXBcSLffo4',\n",
       " \"It is with utmost acceptance of locusts' will, that we announce the decimation of CS Mwangi Kiunjuri 😂😂 He was attacked…\",\n",
       " \"Congress demands Home Minister Amit Shah’s statement on Devinder Singh, asks What is DSP's connection to Parliament attack &amp;…\",\n",
       " \"I thought I'll get attacked by some people for saying this 😅\",\n",
       " 'Son and teenage girl arrested after couple attacked at Centurion home https://t.co/Wd9rbN13YV',\n",
       " 'You use unblocking spells to keep your horse running when it gets attacked.',\n",
       " 'The abuse I’ve had from this tweet has been unbelievable. I’ve been called a paedophile and a nonce, and been attacked ab…',\n",
       " 'Video from #Iran Exact date &amp; location uncertain Source says people identified an undercover agent &amp; attacked him. Other…',\n",
       " '#Bhainsa , 18 houses belonging to Hindus burnt and properties looted by Muslim mob : Local Muslim youth were enraged af…',\n",
       " 'Dear #XRPcommunity I Connected Dots and Took Heat For It I Have to Ask, Why Are All The Accounts Who Attacked Me Intentio…',\n",
       " 'feeling attacked right now https://t.co/x59FZGR1Jb',\n",
       " 'The Congress attacked Modi and called him a Hindu Jinnah. Using words like Hindu Jinnah, Hindu terror… https://t.co/He10xfaSva',\n",
       " \"shhh, we'll get attacked for wanting dontent (doyoung content) 😔\",\n",
       " 'These toxic by9ners dogged the “y’all started this mess” by saying “emang semuanya salah by9 lagi” omg im sorry but we’re never…',\n",
       " \"Solidarity with , a long-time fierce warrior for women's rights around the globe, who's now being attacked by…\",\n",
       " 'not long after #lifetime #survivingrkelly part 2 aired earlier this month one of his girlfriends went live on #faceboo…',\n",
       " \"I don't say playm is the best agency tho?? I agree they're suck at management and promote their artists but at least they…\",\n",
       " 'Remember when Brie Larson said we needed more diversity in critics for THIS exact reason and the internet attacked her... he…',\n",
       " 'Clinton admitted he could have killed bin Laden in 1998 but chose not to https://t.co/IEaIg9TThI We know what that inact…',\n",
       " 'Why have you stopped short with only ABVP and have not questioned the ABVP cadre who initiated the att… https://t.co/aVk3SHS4Uh',\n",
       " 'Why did he have to be my 1st Bias 🙈 I am not ready to be attacked',\n",
       " \"So because I've not read, heard or seen Meghan being racially attacked its b/c Im white and all white people are ra… https://t.co/DzccMLENCg\",\n",
       " 'The police recording brutally arrested a Muslim man in #Accrington, even though the Muslim man had volunteered ... but t…',\n",
       " 'The defenseless people were being attacked &amp;shot from all sides by security forces &amp;plainclothes agents. Suddenly, three bul…',\n",
       " 'Largscale violence in #Bhainsa, dist Nirmal of #Telangana. #Peacefuls attacked Hindus, looted &amp; burnt property, pelted stones…',\n",
       " 'I’m really sick and tired of them trying to sideline socialists like me. The LP is a broad church that…',\n",
       " 'she ran away when i got closer and almost attacked me when i picked her up :(.',\n",
       " 'Where’s Isabella I’m being attacked on twitter again',\n",
       " 'Just looking for your comment in the 1500 protestors that were murdered by the iranian tyrannical govern… https://t.co/G6mi1lxEXz',\n",
       " 'Washington has an avalanche rescue goat. His name is Mazama. https://t.co/RAvm6Nxz6B',\n",
       " 'petition for KFC to bring back the avalanche',\n",
       " 'BSF ‘Borderman’ killed in avalanche: On Jan 13 evening at 8:30 pm an avalanche hit a BSF deployment in Naugam sector on…',\n",
       " 'read everything Avalanche here! https://t.co/k1cBbCmrh3 #followtrain',\n",
       " '\\u2060Turkey’s first university blockchain center BlockchainIST jumps into Emin Gün Sirer’s Avalanche https://t.co/Gr6NLOdP2I',\n",
       " \"Avalanche strikes #NeelumValley &amp; it's been 10 hours, our people couldnt make a headlines in #Pakistanimedia. Laiba… https://t.co/gPZVvMpud8\",\n",
       " 'We’re a team of Deaf Media Crew of Color (Actors/Filmmakers) who are traveling to Sundance with two ASL interpreters, w…',\n",
       " 'কাশ্মীৰৰ মাছিল ছেক্টৰত হিমস্খলনত ৩ জোৱান ছহীদ, এজন সন্ধানহীন https://t.co/gIm5W8mC1b',\n",
       " 'Tickets to avalanche game on your birthday check ✔️ meeting joe Thornton and Nathan Mackinnon bucket list goals… https://t.co/VCMPpdbF1Z',\n",
       " 'And both my Senators are firmly on the Trump train. I STILL call and email and raise my voice, even whe…',\n",
       " \"Listen 1. Individual activities are ok - don't be discouraged. The agencies also need money to survive. 2. The battle t…\",\n",
       " \"One Its, let's remember X1's words. X1 exists because of us. If we give up on them, who would fight? The announcement of s…\",\n",
       " '🎁 100$ DATDROP BATTLE VIDEO ONLY GIVEAWAY 🎁 ✅ Watch Video &amp; Follow all the Steps ✅ WATCH THE VIDEO https://t.co/mIX6q6…',\n",
       " 'The battle for $8500!Go bulls!',\n",
       " 'One month since CAA, scorecard as of now: Young India: 1 Narendra Modi: 0 The government has lost the battle over youn…',\n",
       " 'Julia Gillard first proposed a carbon tax in 2011 and Tony Abbott fought it bitterly and viciously, from that moment and…',\n",
       " 'Hiro vs Wesley – House Battle Final at SDK Europe 2014 / https://t.co/wo0vnyG1JP… #wow #good #house #dance #battle #inspiration #dancer',\n",
       " '21746240 :Battle ID I need backup! Lvl 120 Hector https://t.co/NWpPVrl42T',\n",
       " 'Battle Symphony // Linkin Park',\n",
       " 'E622ACD6 :Battle ID I need backup! Lvl 150 Proto Bahamut https://t.co/mL0ihh9hWv',\n",
       " 'Body confidence in pregnancy - six tips to help you battle body image issues https://t.co/4oYjwfQKpa #pregnancy… https://t.co/SNt7T3de0o',\n",
       " 'if you cant ride your bf into battle then what’s the point https://t.co/R6o0x5qzaX',\n",
       " 'When you have tittle without mantle you end up with battle. You will not remember a man because of his title, but beca…',\n",
       " 'Ireland, 1014 AD. High King Brian Boru survives the Battle of Clontarf and establishes an enduring royal dynasty. The cu…',\n",
       " 'ULTRA SHINY BATTLE READY GIGANTAMAX GIVEAWAY 1 WINNER RECEIVES ALL OF THESE RETWEET &amp; FOLLOW TO ENTER ENDS IN 22 HOURS http…',\n",
       " 'F5D844A2 :Battle ID I need backup! Lvl 120 Ca Ong https://t.co/jddMbQ60N9',\n",
       " \"There's no battle to large that God can't take charge.\",\n",
       " 'wooseok didnt raise weak bitches in this fandom. seungwoo fought twice on this battle but agencies chose to ignore him. NOW…',\n",
       " 'DBDBAABD :Battle ID I need backup! Lvl 120 Grimnir https://t.co/4bX4SFu1nn',\n",
       " 'THIRD aka Lapat Ngamchaweng of Thailand 🇹🇭 makes it as one of the 50 semifinalists in #100AsianHeartthrobs2020. 1 like is…',\n",
       " 'WE ARENT ALONE IN THIS BATTLE 😭✊🏻✊🏻 #JUSTICEFORX1 https://t.co/c8voYVeTaJ',\n",
       " 'Shraddhānjali to a man ahead of his times. His death put an end to 700 year cycle of Islamic invasions on India from Northw…',\n",
       " '#BeInspired #nonfiction A British soldiers journey into the depths of #mentalillness after a number of traumatic life…',\n",
       " '9CB554FA :Battle ID I need backup! Lvl 150 Lucilius https://t.co/4GBaveaIoi',\n",
       " '*\"DMC3 Cerberus Battle\" playing* https://t.co/eEGpe1GQbE',\n",
       " 'Neraya, Captain of the Selkie Guard - courageous - battle ready - resilient - kept getting mown down in the middl… https://t.co/t0sQ0i8hWa',\n",
       " '0948F5AF :Battle ID I need backup! Lvl 100 Tiamat Omega Ayr https://t.co/guNMbErpGN',\n",
       " 'UPHILL BATTLE LLC',\n",
       " 'If you are leaving Labour then you have done exactly what the right of the party wants you to do. In the words of Tony Benn:…',\n",
       " 'So.. Free battle anyone?🤔 Comment \"#daddyarmy\"',\n",
       " 'K-One Its offline protest is ongoing right now. LED trucks are currently in Yuehua. One Its! This fight is not an over…',\n",
       " '92740768 :Battle ID I need backup! Lvl 120 Grimnir https://t.co/cYTbZTCvJg',\n",
       " \"⏪DEGALE'S DRAMATIC DRAW!⏪ Three years ago today fought a thrilling battle with in New York 🗽…\",\n",
       " \"There's always gonna be another mountain I'm always gonna wanna make it move Always gonna be an uphill battle Sometimes I'm…\",\n",
       " 'Umar Khalid, who did his master’s, MPhil and PhD in history from JNU, recounted his days on the Delhi campus when they dared t…',\n",
       " \"Julian Assange's case affects ALL OF US. Our ability to know about and act against state and corporate malfeasance, our…\",\n",
       " 'GUARDIANS OF SCOTLAND 2020 BATTLE OF FALKIRK 1298 MURAL FUNDERS 11 STACEY YIMET 12 TOM URCHARDAN 13 GORDON BURGESS 1…',\n",
       " '7E5837B4 :Battle ID I need backup! Lvl 100 Luminiera Omega https://t.co/cNN5WT88mQ',\n",
       " 'When you hear a tough Bar and you hear DonDemaco.... Well Every time someone says “ BOW “ in a battle… https://t.co/bmQnaPuRJa',\n",
       " 'JOHN WICK (2014) Cinematography by: Jonathan Sela Directed by: Chad Stahelski and David Leitch Read all about the film…',\n",
       " 'JUST IN: Veteran Filipino journalist Twink Macaraig passes away after a long battle with cancer. https://t.co/e4i237CpRa',\n",
       " 'Poppin Battle 😂😂😂😂 https://t.co/nJidicm4JU',\n",
       " 'FAE3E7CD :Battle ID I need backup! Lvl 100 Leviathan Omega https://t.co/cnEkpqXaN3',\n",
       " 'E7F03BA0 :Battle ID I need backup! Lvl 60 Leviathan Omega https://t.co/dWXWxOz2re',\n",
       " 'I GOT IT ALL IN CONTROL... RUNNING A LABEL WITH 2 DEALS \"UPHILL BATTLE LLC\"',\n",
       " '-_- 1B0C8B02 :Battle ID I need backup! Lvl 120 Europa https://t.co/ratM7Qsdcc',\n",
       " 'https://t.co/P1SKJ9cH98 here is the moment where zeroranger gets super good with the battle vs grapefruit followed by my favorite, big zan',\n",
       " '927413FE :Battle ID I need backup! Lvl 100 Colossus Omega https://t.co/QgO1TFVHRn',\n",
       " '7AF8EFA4 :Battle ID I need backup! Lvl 120 Avatar https://t.co/kyUnn2slvL',\n",
       " 'actually all of the new star wars were bad because everyone was too much of a coward to turn c3po into a battle mech h…',\n",
       " 'Thankfully I’m able to connect with individuals outside of our own echo chambers...so I’ll wait for the #AMR commun… https://t.co/7M1Ttpwiy0',\n",
       " \"It's Very Sad that #EgertonHeist has reduced a once Great University to a Battle ground between the Police &amp; students simpl…\",\n",
       " \"Working alone, Ray Harryhausen spent 4½ months animating Jason and the Argonauts' blistering battle with the Children o…\",\n",
       " 'BB9B04C5 :Battle ID I need backup! Lvl 100 Celeste Omega https://t.co/s0FmtxAUFT',\n",
       " '1DB28A63 :Battle ID I need backup! Lvl 100 Baal https://t.co/hHlrnSEJmd',\n",
       " \"what did Hon Alice Wambui ng'ang'a former Thika mp do to your boss and your government that you don't… https://t.co/arGIRGzQhM\",\n",
       " 'A0A922B5 :Battle ID I need backup! Lvl 120 Godsworn Alexiel https://t.co/0FxNKWH70T',\n",
       " '242BADA2 :Battle ID I need backup! Lvl 100 Luminiera Omega https://t.co/vzAQy4j8So',\n",
       " 'Amen - self-management and not getting distracted is half the battle - soo much harder than one expects; y… https://t.co/R7wAe8avrj',\n",
       " '12F22C99 :Battle ID I need backup! Lvl 120 Metatron https://t.co/iXgheRTRP4',\n",
       " 'CC3EB8FA :Battle ID I need backup! Lvl 100 Yggdrasil Omega https://t.co/ClvQw5LtYx',\n",
       " 'B9CF7ABC :Battle ID I need backup! Lvl 50 Joya https://t.co/luE1wvM1Xa',\n",
       " 'AFAC0660 :Battle ID I need backup! Lvl 50 Joya https://t.co/o4ElQ2IYis',\n",
       " \"Sadly organizations do it backwards. O-Line is where it's at. Ask David Carr who had al… https://t.co/NGwPeRj9cL\",\n",
       " '512B214F :Battle ID I need backup! Lvl 100 Yggdrasil Omega https://t.co/BVVSnPgZ3W',\n",
       " 's 1656ABAF :Battle ID I need backup! Lvl 100 Colossus Omega https://t.co/YeOnr59F9Z',\n",
       " 'I\\'m going to add false colour to a virus image and scream \"it\\'s coming to get you\" at people and begin my reign of bioterror wh…',\n",
       " 'Mexican Border: Portal For Swine Flu, TB, Bioterror https://t.co/Elw0ScwnSr via',\n",
       " 'Sir, if I may this tech is quite useful in case of a bioterror attack https://t.co/pAbur3CVum',\n",
       " 'The human cull (from 38mins30secs https://t.co/p0XQTqvDeF) is unfolding https://t.co/Egn7Sdr116',\n",
       " 'The human cull (from 38mins30secs https://t.co/p0XQTqvDeF) is unfolding https://t.co/Egn7Sdr116',\n",
       " 'Courtesy of “Mixed in with people who nothing more than to come to America for a better life, more i… https://t.co/ZEpp4lzpnA',\n",
       " '... #MAGA5G.LiVEViL+ my recommended read not for the weak of mind: The #Mossad+#5G Strain: Viral Vengeance: #Pandemic+…',\n",
       " 'This leads to deeper questions. How do we define \"armed\" in the info age? How do we define \"conflict?\"… https://t.co/xmUCOjkKKk',\n",
       " 'INT - MONARCH MOTEL - DAY GRAYSON punches his own face and throws a soda can at the light fixture ( the VOICE?)… https://t.co/X5s2C5X9BT',\n",
       " 'Mexican Border: Portal For Swine Flu, TB, Bioterror https://t.co/wTIQakNXqR via',\n",
       " 'The dubious efficacy and ill -effects of vaccines are science facts yet the establishment deny this. Enforced vaccinatio…',\n",
       " 'The dubious efficacy and ill -effects of vaccines are science facts yet the establishment deny this. Enforced vacci… https://t.co/ikAiKQVgXs',\n",
       " 'https://t.co/OviHLPPiHH Interesting from Jon Rappoport.',\n",
       " 'Bioterror is the worst',\n",
       " 'Does the push for mass vaccination point toward a staged bioterror event? https://t.co/o10epcfRV6',\n",
       " 'Does the push for mass vaccination point toward a staged bioterror event? https://t.co/o10epcfRV6',\n",
       " 'Bay Area researchers tackle bioterrorism threats #bioterror #biodefense #cbrn #phep https://t.co/n5exZSQTaU',\n",
       " 'Does the push for mass vaccination point toward a staged bioterror event? « Jon Rappoport https://t.co/qCTxok8cjU …',\n",
       " '... #MAGA5G.LiVEViL+ my recommended read not for the weak of mind: The #Mossad+#5G Strain: Viral Vengeance:… https://t.co/Tm0JIqragB',\n",
       " 'Does the push for mass vaccination point toward a staged bioterror event? https://t.co/SN1Z3LjNqq',\n",
       " 'Want to learn more about the BioFlash? It can be used in various configurations to deliver building protection sol… https://t.co/DGeREhrh4T',\n",
       " 'The question for biodefence and counter-bioterror folk will be whether other countries will be given virus samples… https://t.co/9qQ2IKe3m1',\n",
       " 'al Qaeda has long sought experts in bioterror and nukes.… https://t.co/rJFdJ0eIPo',\n",
       " '1) Mullahs were losing support from Iran youth turning se… https://t.co/rhpRCWOSRr',\n",
       " 'Does the push for mass vaccination point toward a staged bioterror event? https://t.co/A6eUTI4r23',\n",
       " 'Buy a Tesla on financing for the bioterror air filtration',\n",
       " 'Operation Disclosure: Bioterror and Vaccines Clarified -- Jon Rappoport https://t.co/yb1bFs6clb',\n",
       " 'Staged bioterror event? https://t.co/IwFTfXXUGQ',\n",
       " 'Bioterror? I am VERY rarely sick but btwn T-giving &amp; Christmas, despite being up-to-date on all my vaccinations, I… https://t.co/ZxvY3denti',\n",
       " 'Does the push for mass vaccination point toward a staged bioterror event? https://t.co/Igw0jPawHx via Report',\n",
       " 'Remember this is the resident evil universe. Bioterror attacks are almost a norm and rescue operation… https://t.co/ld2j8zphdl',\n",
       " 'Does the push for #mass #vaccination point toward a staged #bioterror event? - https://t.co/CNZbxD73Ej',\n",
       " 'Sounds like another nudge towards mandatory vaccination! https://t.co/7yZkKPxs17',\n",
       " \"#skipvaccination Does the push for mass vaccination point toward a bioterror event? (To read about Jon's mega-colle… https://t.co/enNtA5CQEJ\",\n",
       " 'Does the push for vaccination point to a staged bioterror event? https://t.co/WWvKQkY1O2',\n",
       " 'A very interesting article and definitely something to consider!! https://t.co/5KKg7k6nPh',\n",
       " 'Does the push for vaccination point to a staged bioterror event? https://t.co/WWvKQkY1O2',\n",
       " 'Does the push for mass vaccination point toward a staged bioterror event? « Jon Rappoport https://t.co/qCTxok8cjU… https://t.co/HuHP6mrgjN',\n",
       " 'VAMPIRIS “An awesome vampire thriller with bite!” https://t.co/dxYgrAa6Cj #Vampiris #CorsairAdventures #thriller #va…',\n",
       " 'hachi-san88: Leon and Claire. They fight bioterrorism and have busy days. That’s why they value the time they spend tog…',\n",
       " 'To fight bioterrorism, sir.',\n",
       " 'hachi-san88: Leon and Claire. They fight bioterrorism and have busy days. That’s why they value the time they spend… https://t.co/hcjq3VatR2',\n",
       " 'Is this a threat? You plan on committing some bioterrorism by actively spreading a disease within a community, in a… https://t.co/bLDezQcemr',\n",
       " 'Either you’re an alarmist or planning on doing a little bioterrorism... 🤔',\n",
       " 'Nice. I called them out for supporting bioterrorism',\n",
       " 'Similarly, there are lots of different disasters including epidemics, natural disasters, wars, bioterrorism, and we… https://t.co/NRP53sUN5C',\n",
       " 'Anti-vax philosophy is nothing less than bioterrorism. Urging to take action against those who encourage and en…',\n",
       " 'Thanks Phil, so domestic rules (e.g bioterrorism law) can override free trade rules t… https://t.co/fmNh415n3P',\n",
       " 'A bit of light reading that should be useful... https://t.co/Ox9TlTIV8K Recall some challen… https://t.co/LLuzY3ns8G',\n",
       " \"my kids got the influenza B so I was reading up (as i do) and it's having it's biggest outbreak in 27 years which m… https://t.co/e9jVQ7yk20\",\n",
       " 'Strategic stockpile sounds like it is in case of an outbreak or in case of bioterrorism threat.',\n",
       " 'I just finished this and hahaha I kinda like it lol medj odd yung humor pero I liked the bioterrorism center of the… https://t.co/z0k4p6SZjB',\n",
       " \"I make bioterrorism sexy. (That one was Dana's idea)\",\n",
       " 'Arrest them for bioterrorism',\n",
       " 'should arrest them for bioterrorism',\n",
       " \"This is bioterrorism at it's best. Anybody who has ever questioned vaccination is part of this. Fuck you all.\",\n",
       " 'https://t.co/iL7Cpxmsgx We are in times of several security challenges, with respect to packaging, such as shoplift… https://t.co/tYrfHNlJAY',\n",
       " 'That sandwich was bioterrorism.',\n",
       " 'Genocide and bioterrorism',\n",
       " 'can we create an anti-bioterrorism commission?',\n",
       " 'Bioterrorism!!! #MaldivesMeaslesOutbreak',\n",
       " 'Anti-vax philosophy is nothing less than bioterrorism. Urging to take action against those who encourage… https://t.co/sjRZzNU9ln',\n",
       " 'I showed activity was recently founded, in bioterrorism, manufactured diseases TIN MAN (android) 2105 Global Organism would',\n",
       " 'Hahdhufahanaelhi aalaathun balaa v bodu. Vaccine nudhinumakee bioterrorism ge amaleh kamah Kanda alhan jehijje miha… https://t.co/9qDxVZAHNn',\n",
       " \"Ga semua. Tapi ya cult model2 Heaven's Gate, Jonestown atau Aum Shinrikyo, bisa dengan mudah terpelatuk buat… https://t.co/pByILv05fc\",\n",
       " 'That feeling when you turn in a 20pg paper on #bioterrorism &amp; #civilliberties! 🤓 📚 👩🏼\\u200d🎓 #GradLife 🙌🏼 http…',\n",
       " 'We need to classify Anti Vax as Bioterrorism',\n",
       " '“This isn’t gods fault, this is bioterrorism”',\n",
       " 'Bioterrorism is my biggest fear',\n",
       " '“An awesome vampire thriller with bite!” https://t.co/dxYgrAa6Cj #Vampiris #CorsairAdventures #thriller #vampire #eld…',\n",
       " 'Other than the cop’s bioterrorism and the SA police having to appeal this based on technicalities, the mos… https://t.co/ePASkzuK71',\n",
       " 'Somebody needs to classify anti vax as bioterrorism.',\n",
       " 'That feeling when you turn in a 20pg paper on #bioterrorism &amp; #civilliberties! 🤓 📚 👩🏼\\u200d🎓 #GradLife 🙌🏼 https://t.co/FJAGlfR7gN',\n",
       " 'The kid gets suspended for bioterrorism when his blood gets everywhere, actually',\n",
       " '⠀ ❛ it’s 𝒋𝒊𝒍𝒍 𝒗𝒂𝒍𝒆𝒏𝒕𝒊𝒏𝒆. i didn’t say it sooner, but that’s my name. i work for the BSAA, fending off against… https://t.co/YX2oD7xqrH',\n",
       " '“An awesome vampire thriller with bite!” https://t.co/dxYgrArI0T #Vampiris #CorsairAdventures #thriller #vampire #eld…',\n",
       " 'That sandwich was bioterrorism.',\n",
       " 'chris redfield, bioterrorism expert',\n",
       " 'Is it your only response as a UN Human Rights Ambassador ? In this time World is facing huge Human R… https://t.co/gfaoaXdSPU',\n",
       " 'Whoever comes out of this unscathed will be toximus prime',\n",
       " \"You've upgraded your Blaze to a Versa 😍 x\",\n",
       " 'Blaze your a weird person steak overrated?',\n",
       " \"“Two fights - to protect rights, and to revive [EU &amp; Enlightenment] values - aren't an alternative to a campaign to rejoin.…\",\n",
       " 'The Trussell Trust supports more than 1,200 food banks. Last year, it provided food banks in its network with £1.3m of fu…',\n",
       " '#findStolenMollyWN6 ⬇️⬇️Have you seen me in your area please⬇️⬇️ I’m black &amp; white with a black 🖤 on my right side / white…',\n",
       " 'As we work on the next one, this was what leading government advisor E. Bazanye had to offer on the throwing of bottles at mus…',\n",
       " 'Definitely there. Skyf slot.',\n",
       " 'Blaze was over it😂 https://t.co/DzkQK4G9pb',\n",
       " '420 Just Blaze!',\n",
       " 'What is the definition of \"major interview?\" Let\\'s start with when will #BrexitJohnson #ReleaseTheRussiaReport ??',\n",
       " 'Did you know that Sir Arthur Conan Doyle, a #Surgeon trained in #ophthalmology, refers to John Weiss instr…',\n",
       " \"Enough of Dhawan. Let's the young guns blaze\",\n",
       " 'Did you know that Sir Arthur Conan Doyle, a #Surgeon trained in #ophthalmology, refers to John Weiss in… https://t.co/3K9hD5Gus0',\n",
       " 'blaze it',\n",
       " '君の中の英雄、マジで聞き覚えある部分多くてすき hacking to the gate、ETERNAL BLAZEとか混じってる感じ',\n",
       " 'I’m on fire I’ve been a blaze https://t.co/T4fAkJiKl0',\n",
       " '200105 Golden Disc Awards 📸 carol_e555558 #BTSxGDA #JHOPE #RM 💐 https://t.co/Yj8VwEZu9D',\n",
       " '200105 Golden Disc Awards 📸 Brillante_Mon #BTSxGDA #RM #JHOPE 💐 https://t.co/mdgLuJyEqi',\n",
       " 'Mnasumbua Blaze Bure tu haha https://t.co/7W8x4CQomX',\n",
       " 'Why are we not hiring every large water carrying aircraft in the world to help put out this mega blaze spanning Vic… https://t.co/dHqTlQRLHO',\n",
       " 'Amazing story by on air at the moment on the ‘mega blaze’ on the NSW/Victorian border. Next, lo…',\n",
       " \"Tbh I have no Idea what a Chamoru looks like. I've seen some of the whitest to some that are very dar… https://t.co/CyN87lV1Yg\",\n",
       " 'can i blaze some chronic w u',\n",
       " 'i gotta carry 80 logbooks for 4 postings and i was like nevermind i can brace this bcs i is stronk. But shit pejaba… https://t.co/Zo3NOpjPrh',\n",
       " \"i'm alice. when i bleed my blood is not red, i bleed blue atoll. when i pee it's not just yellow, it's blazing yellow…\",\n",
       " 'Yang simply chuckles a little as she stares at the flustered fusion. She found Kefla to be even cuter while being… https://t.co/ypgAO2RQLl',\n",
       " 'Blazing #MayWardLoveForReal #PUSHAwardsMayWards',\n",
       " '2017: l was in Blazing Squad 2018: Danny Dyers is my dad 2019 : Tyson Fury is my brother 2020: Lewis Capaldi is my ex #Lov…',\n",
       " 'stars dont dissapear they keep blazing ✨ https://t.co/6g642Pn0bq',\n",
       " 'What 1,602 Miles Teaches about Guns – Blazing Cat Fur https://t.co/GjiTivvoPA',\n",
       " '... another verse of oscillation. ⠀ ⠀ ⠀She was not strong enough, still. ⠀ ⠀ ⠀Swell of her water evanesced… https://t.co/ZpMpUQqtx4',\n",
       " \"//Munny, if you need to vent, you can come to my DM's to do so\",\n",
       " \"🚨 Benchmark Update Alert 🚨 I didn't realize fastify-gql has graphql-jit off by default I just turned it on and it's blazing…\",\n",
       " \"Now I can see that the VIC is back. The TL gets blazing🔥🔥🔥 when you're around. Happy 2020 to you #Leadership!\",\n",
       " \"Now I can see that the VIC is back. The TL gets blazing🔥🔥🔥 when you're around. Happy 2020 to you #Leadership!\",\n",
       " 'Margaret Cavendish was an English philosopher and author born in 1623. She was the first woman to attend a meeting at t…',\n",
       " '#KartikGoenka - a flame blazing up, a volcano ready to erupt, a man whose silence has been mistaken for weakness 🙌🏼 #MohsinK…',\n",
       " '#KathNiel2020 will bring us Tanging Mahal. KathNiel, after their record-breaking movie THOU, will come back to primetime…',\n",
       " 'HPE Rapid Setup Software guides customers through system installation, setup and configuration for new servers… https://t.co/1hOySKy5Ar',\n",
       " 'COME &amp; CHECKOUT THIS BLAZING WEBSITE FULL OF DIFFERENT GIRLS TWERKING FOR FREE!! #BOOTYTUBE #TWERKING https://t.co/aP5zsGX0MC',\n",
       " '\"A bunch of flower within my heart blooms toward the blazing sun its fragrance is sweeter than any fine wine scarecrow drownin…',\n",
       " \"Boobs don't even matter ladies, it's what's under them, your lungs are important, cause we blazing mad kush over he… https://t.co/g0jiVSMKwd\",\n",
       " 'My shadow keeps on growing in this blazing light',\n",
       " 'ObsNewRev: Motherwell: A Girlhood by Deborah Orr review – fitting legacy of a blazing talent https://t.co/sa2QOkkdv9',\n",
       " 'Congratulations on blazing a new trail! 👍 👍 👍 👍',\n",
       " 'Blazing heat, unstable footing... These types of conditions stifle lesser men. But terrain is meaningless to me. St… https://t.co/2E0Nx0MEaz',\n",
       " '“Our work for LGBT-inclusive education in Scotland is about ensuring that no generation of LGBT young people ever again fe…',\n",
       " 'Pauli just got her advance payment from her handlers so she had to come out guns blazing. It is after all…',\n",
       " 'Ok I just beat the Blazing Bull in Sekiro and all I could think of was Raging Bull',\n",
       " 'All Cues Blazing! https://t.co/YutAVvjAKn',\n",
       " 'Nazo, sasitheni. Once you touch their Indian boy, they come to you gun blazing. But the cat will prevail.',\n",
       " '\"Blazing Virtue.\" -2018 https://t.co/zUQjGMg47C',\n",
       " \"Blazing Saddles' at 45: The Movie That Couldn't Get Made Today https://t.co/Jmf8s1VZtJ #NewsandPolitics via\",\n",
       " '-Twinkle, twinkle, little star How I wonder what you are Up above the world so high Like a diamond in the sky🌟☁️.… https://t.co/wT8FJQHnme',\n",
       " 'Madeline Kahn as Lili Von Shtupp in the outrageous comedy classic, Blazing Saddles (1974) Directed by Mel Brooks. \"Let\\'s f…',\n",
       " '🚨Announcing #Bengals 2020 South squad WR group: Edwards- Underrated Johnson- Enormous Jennings- Aggressive Ai…',\n",
       " 'my fear of public toilets has completely vanished. im the person absolutely ripping the train station toilet all guns blazing.',\n",
       " 'ONE WEEK to go! #qodebrisbane highlights incl: ✓ The future of #smartcities w/ Brisbane CDO ✓ Quantum comput…',\n",
       " 'Happy Birthday sir 🥳🥳 You are indeed a star in the Nursing community⭐️ Keep blazing high https://t.co/iajdTlSNZw',\n",
       " 'Once again I am LOVING how diverse and body positive the cast of #LoveIsland2020 is! Once again #ITV bl… https://t.co/fLNdCHD3i3',\n",
       " 'Eating ice cream underneath the blazing hot sun is just 🙆🏻💛',\n",
       " \"Here's an interview with me by of about my #comedy #horror #animation screening at …\",\n",
       " 'I shot one of two Colts I had aimed at him, the one in my left hand, before Trent could pull the trigger of his Remington…',\n",
       " 'I shot one of two Colts I had aimed at him, the one in my left hand, before Trent could pull the trigger of his Rem… https://t.co/asYxjXnFd0',\n",
       " 'The list goes on..... All these folks have stable platforms to do the… https://t.co/9c0iCQ3vk7',\n",
       " '\"I swear on my dear mother’s grave—well, I would do it, if she was in one—that I wasn’t goin’ to shoot you!” Trent… https://t.co/bFDJeol3pX',\n",
       " 'hangyul will nae gaseumsoge blazing and then dip https://t.co/B4azPv6MMc',\n",
       " 'Trent reached his right hand behind his back to retrieve a Remington .44 he had stashed away in the waistband of hi… https://t.co/2pMoHifXuQ',\n",
       " 'Was a fair call before WC. Should have done it at the WC. Not now when Iyer has been in blazing form at 4.',\n",
       " 'Steve “Roustabout” Colston didn’t like it when I sent his brother straight to Hell. Neither did Grant and Wesley, b… https://t.co/OWjEVEQ7hO',\n",
       " \"Blazing Green✅✅✅✅✅✅✅ Green Monday on telegram✅✅✅✅2/3 I can't thank you enough God because I know that you will do more💪💪💪💪 Th…\",\n",
       " 'Jennie looked at me, and said, “Bass, you need to do this. You need to go before Tecumseh kills again.” Get Bass Re… https://t.co/9dzgBTdopw',\n",
       " 'Excited to share our long-awaited Next.js + Notion statically-generated blog example with the same tech as https://t.co/HVcLCVUO…',\n",
       " '“I got me a deck of cards in my shirt pocket, if you boys want to play a drinkin’ game some folks call ‘Red and Bla… https://t.co/TynwgMrREf',\n",
       " '#NowPlaying Jimpster - The Blazing Water https://t.co/xeXu21nqXJ',\n",
       " '💃💃 Keep blazing T...',\n",
       " 'Your Kindle need a few new Westerns in it? Fill the need with one my Westerns, like Bass Reeves: Blazing Fury, now… https://t.co/yAAHI8Mxfw',\n",
       " 'We named \"the life of phantom\", TSUKUSHI. It was a night with the red moon blazing beautifully./幻の命 #sekainoowari',\n",
       " \"What's with all these angry women going on #gmb with all guns blazing meaning you can't take them, or t… https://t.co/HurTUyXevU\",\n",
       " 'Into the Grizzly Maze 💯 https://t.co/UAoE62avnx Mobile Users https://t.co/gVhozmngN7 for blazing fast advertising… https://t.co/JSMGLJ6xl5',\n",
       " 'When an eagle soars into the blazing sun, it is not just a show of strength but because he truly belongs at the top. You…',\n",
       " 'On Scorched Earth People 🔥: 👉Most of them have their own parallel platforms when they enter #ADOS as a movement🤔…',\n",
       " 'Blazing Saddles',\n",
       " 'Our OD team is certainly trail blazing. A fabulous team , doing great things. This will be someone’s dream job https:…',\n",
       " 'Fun fact: he does a thumbs up when he short circuits to let people know he’s okay. Now, a head cannon were…',\n",
       " 'Why can’t you be truthful it’s not down you have put them in concentration camps and cages ,the wall has nothing to… https://t.co/DEtzSrFaZE',\n",
       " 'bleeding',\n",
       " 'You make it sound as if the Vegan Society is providing certi…',\n",
       " 'Would you know how to help a victim of knife crime? Download our new app to learn life-saving bleeding control technique…',\n",
       " 'Playing MHW with friends Friend: Jerky curse bleeding? Other friend: Yeah Me: I wish 👩🏻',\n",
       " '“Doctor, help me! I’ve been wounded and i’m bleeding to death! Please, stem the bleeding! Get me a bandage!” “Ah, but there…',\n",
       " 'The bleeding hearts and artists let him get away with murder. Let me hammer him today. - The Trial',\n",
       " 'I ask for prayer for my daughter please. I took her in thinking she had the flu and she is in intensive care with an a…',\n",
       " '. has a chance to stop this bleeding at the debate tomorrow night. We will see if she does the right thing.',\n",
       " 'Imagine supporting Biden Fucking Biden The little girl… https://t.co/kziJbCoZAL',\n",
       " 'sometimes i want dio to fucking eviscerate me and then make sweet sweet love to my open festering wounds as I lay b… https://t.co/5hx5MXpDS8',\n",
       " 'President of United States makes our country a living f*king hell! I try stay positive about the election 2020! But her…',\n",
       " 'GHANAIAN WOMEN WOULD STAB YOU IN THE BACK THEN ASK YOU WHY YOU’RE BLEEDING.',\n",
       " '(((LIVE))) Cervical Cancer: Bleeding and pain after sex can be symptoms of disease- Dr Kwaku Asah -Opoku, Obstetric… https://t.co/bGG5MBhmph',\n",
       " 'Iran: Video Shows Woman Protester Shot, Bleeding on Street https://t.co/PRlGy7xIUp via',\n",
       " 'stop ur bleeding but nothing ever stops, ur leaving',\n",
       " '(((LIVE))) Cervical Cancer: Bleeding after menopause is a sign of disease - Dr Kwaku Ansah -Opoku, Obstetrician &amp; G… https://t.co/cSb6Vh7pFu',\n",
       " \"Mum dying of cervical cancer was 'denied smear test despite bleeding after sex' https://t.co/kghziN5CS1\",\n",
       " 'Freedom of movement bleeding central and souther Europe dry https://t.co/iDOoN1YLaz',\n",
       " 'u tweet this as im listening to bleeding love...',\n",
       " \"Well done Boris. A statement of the bleeding obvious. BBC News - Harry and Meghan: Royal Family 'will… https://t.co/ERHVoiC7A3\",\n",
       " 'Bleeding Heart music video coming very soon. vicscover #bleedingheart #musicvideo #rocknroll #gothrock #cali… https://t.co/ClY1G7jCxk',\n",
       " 'Bleeding Madras be that',\n",
       " 'The reference to bleeding-heart liberals who are too influenced by the ideology of....Rousseau, made me snort with… https://t.co/gZy2x2DJzb',\n",
       " \"Glen says the bleeding obvious. I'm so over being labelled negative, pessimistic or a 'doomer' for telling the Godd… https://t.co/LgjxUglYVr\",\n",
       " \"Post Malone - Hollywood's Bleeding ( Slowed To Perfection ) https://t.co/CSl6ELZQPi via\",\n",
       " 'ICYMI: “Silence Surrounds Revelations of Mueller’s Collaboration with CIA Torture Program” - my new article on Guantanamo.…',\n",
       " 'I’m confused about what her actual position is? If she’s criticizing the idea of putting tampon machines in the…',\n",
       " \"People are going bankrupt over medical debt. $12k a year minus the VAT won't put a dent in that. Let'… https://t.co/i31T5Kg5LE\",\n",
       " 'Jojo or the outcome of that picture?',\n",
       " 'SCMP: Ocean Park bailout plan by Hong Kong government will help fund attraction’s revival, not just ‘stop the bleeding’,…',\n",
       " 'But at Anfield we actually found out that the Roma scars were just lightly bandaged and they got opened up again to… https://t.co/6N2B90imv7',\n",
       " 'thank you 😭❤️ I don’t think it’s normal; I have had them before but they haven’t been like this. They… https://t.co/RFdUTZXZyx',\n",
       " 'For the 100th time A bandage around the head does not mean that the whole skull is broken 🙄 The bandage goes aroun… https://t.co/Ue9IkA2nra',\n",
       " \"Imagine being shot by your own government because you want #freedom!! It's hard to imagine right? I mean, we're #America…\",\n",
       " 'Very sad and sorry state of Indian economy!! Government priority is to see \"Saffron color\" on indian map!!But not b… https://t.co/76Y13Dtrhw',\n",
       " 'Intravenous oxytocin reduces severe bleeding after vaginal delivery #NIHR signal .… https://t.co/c1lUmrOemD',\n",
       " 'It wont taste the same and like I’d...... die......which is fine but like..........I’d rather not die… https://t.co/X0lYw9QQxs',\n",
       " 'Halfway into January, how are your finances looking? If your pocket is still bleeding, this is the time to give our fina…',\n",
       " 'To the parents of the child screaming in the airport: I understand children are alot to handle, but my ears are bleeding.',\n",
       " 'Oh my God, my fucking eyes and ears are literally bleeding after watching this https://t.co/HoFAzD4OE8',\n",
       " 'We saw more reports of women who had increased menstruational bleeding… https://t.co/wRW0zEyEYp',\n",
       " 'Floral notes of Bleeding Heart Flower and Fresh Peony Petals will have you lusting over #MadLove 🌸📷 PerfumeHolics https:/…',\n",
       " 'I wonder who’s Rick or Ricky because that dude is bleeding!!!',\n",
       " 'Hopefully minding their own business as all Republicans should be. Unless you are on the streets with the #Iranian prote…',\n",
       " \"mcr stans are those kids in primary school that if they were bleeding they'd just put the cut in their mouth to stop the…\",\n",
       " 'So much history submerged in mucky details. No clarity on who, why and when. So much deaths and bleeding and yet, v… https://t.co/NemGmbmcxm',\n",
       " 'I kinda want to watch it',\n",
       " 'GHANAIAN WOMEN WOULD STAB YOU IN THE BACK THEN ASK YOU WHY YOU’RE BLEEDING. https://t.co/yURsWbwrXk',\n",
       " 'In the context of major bleeding a CAT is a Combat Application Tourniquet, so saying “CAT Tourniquet” is an example of “Redundan…',\n",
       " \"it's weird how ppl w vaginas literally spent days bleeding and having a severe cramps, nausea, headaches and muscle ache…\",\n",
       " \"Mum dying of cervical cancer was 'denied smear test despite bleeding after sex' - Mirror Online https://t.co/mbkty8o11a…\",\n",
       " 'seven headed snake what u call that bleeding like an open scar',\n",
       " 'Ngl Nagrikta ke bill se by Chanchal Banjara is an insane song to perform at a pro-CAA wedding. Not posting the lin… https://t.co/hKv9SQBx11',\n",
       " \"Let's face it: He thought it, wrote it and published it. At each point, the… https://t.co/RTo7CzTsxH\",\n",
       " 'Roddenberry lost his 1st show \"The Lieutenant\" because he refused to cut back on the polit… https://t.co/4gqQ5AJrlH',\n",
       " 'Gonna be fun when we discover in about 10-15 years that we blew all of our ability to restrain corporate abuses through…',\n",
       " 'funny how when everything blew up you were one of the few accounts supporting him and trying to calm everyone the f down',\n",
       " \"I will be when I finish the original! I'm currently on my way to save aerith after they blew up sector 7!\",\n",
       " '...She commiserated with me that I could not vote in US elections. The group chat I was in blew up with 213 notific… https://t.co/AyV201fpUR',\n",
       " \"I will be when I finish the original! I'm currently on my way to save aerith after they blew up sector 7!\",\n",
       " 'What ?? Those skally mental and damoshe came after terry G bruh 😂 , na my area everybody dey oh. Terry G blew up fi… https://t.co/yixCWyxCs1',\n",
       " '\"I know, I know.\" Many of you have already seen Hamilton. But I finally got a chance to. Up close. On Hamilton\\'s bi… https://t.co/J2kF57Lf41',\n",
       " '#AfricaKwetu Late Commander Fred Nkuranga Rubereza. One of the greatest heroes of the NRA/UPDF passed away in 1981 as…',\n",
       " 'You blew up Hogwarts didn’t you..',\n",
       " 'this lowkey blew up 😳so stream shadow to 40m https://t.co/40ykOdXdWW',\n",
       " 'It was a joke man,,, why it blew up,,, idk how',\n",
       " 'I think his pairing with Nantz is key to his success so far. They work well off each… https://t.co/p9itEmT2CG',\n",
       " 'can i just say 😳 i dont understand why this blew up as the cameraman panicking @ tae as it clearly cut to a different camer…',\n",
       " 'Terry G blew up without controversies and in an era that social media wasn’t this engaging. Naira has Efcc and social media…',\n",
       " 'okay this blew up 😳 lemme know if it made to ig 😩😩',\n",
       " '#AfricaKwetu Late Commander Fred Nkuranga Rubereza. One of the greatest heroes of the NRA/UPDF passed away in 1981… https://t.co/8zH6SqSJAe',\n",
       " \"I just went from passively tolerating Elizabeth Warren to actively hating her. I know I'm not the only one. Liz just m…\",\n",
       " 'this lowkey blew up 😳so stream shadow to 40m https://t.co/40ykOdXdWW',\n",
       " 'Why Brooklyn rappers suddenly sounding like UK rap did I miss some kinda wave or did this shit start happening when Pop sm…',\n",
       " \"This footnote in McCullough's *The Great Bridge* blew my mind. As late as the 1880s, we still didn't know how to build b…\",\n",
       " \"taehyung and jungkook watching parasite, an oscar nominated film, late at night in jungkook's hometown way before it blew up in…\",\n",
       " 'This tweet blew up and this is where people promote themselves but I just want to say that Greta Gerwig was ROBBED of an Oscar…',\n",
       " 'we gonna wait for the scene then we can blew this baby up- :)',\n",
       " 'Then a hole grew in the sky the brain blew up the end',\n",
       " 'After you blew up stage 7. https://t.co/1GcoMwArIe',\n",
       " 'Ever since I blew up small!!! man got no peace ? I always say I will fall when God says so ...I feel a little better whe…',\n",
       " \"https://t.co/XWj4EtY7dR I've made one video and it blew up... Bruh 😳\",\n",
       " \"Well this blew up. Peep my followers 😭😭...I'd say follow for more content but with great numbers comes with great t… https://t.co/SUysaWMPiO\",\n",
       " 'Remember that time Lawrence blew a kiss to the LSU fans? And then Joe Burrow blew up \"the best defense in the country\"',\n",
       " \"here in the ph, we experienced the taal disaster then my dad sent us a msg saying their ship's engine blew up 😭 tha… https://t.co/8cB1UzUCNm\",\n",
       " 'You’re really not trying to use the young Turks as a defense, are you? Cenk’s endor… https://t.co/h6vzMUCtmm',\n",
       " '‘Ghoonghat mukt Jaipur’ is secular ‘Burqa mukt Jaipur’ will be communal No one blew themselves up with ghoonghat .. just…',\n",
       " 'I think the document shredder blew up and was mistaken for snow',\n",
       " 'Wait this blew up afsgsgsg te amo?? Wow https://t.co/wbYwktlVT9',\n",
       " 'My kyomo tweet blew up wtf',\n",
       " 'Meghan is not liked here and they way they blew up their…',\n",
       " 'Some people think Naira Marley &gt;&gt; Terry G because of a 1 year come up Someone that blew up because of the EFCC Drama Lmaoo…',\n",
       " 'damv this blew up. follow m',\n",
       " 'This probably was not a choice Warren was forced into. It was likely her campaign that leaked the st… https://t.co/kvUIHca4Uk',\n",
       " 'I refuse to retweet this crap but if telling a horrible, self-serving lie about a decent and honorable man is \"resp… https://t.co/ZiISVY5eAB',\n",
       " 'TL;DR - Twitter is the only place #Betelgeuse is blew up tonight.',\n",
       " 'the thing is im not that talented either so it just kinda blew my mind.... i wonder how many people… https://t.co/z3hipQU6hq',\n",
       " 'I hope it is😂 the thing is sometimes my fancafe letter blew up and it really feels weird😂',\n",
       " 'True. The same believers of the same false god also: 2013:blasts at rally i… https://t.co/VVsjWKxzbE',\n",
       " 'Lala would you like to try that one more time? Blew up in your face last time LOL. https://t.co/fEE8meY9my',\n",
       " 'I once told someone to check her iron level because there were like obvious symptoms she was having ( same thing I… https://t.co/c45iPQpOTo',\n",
       " 'BABOOM!!!⭐️⭐️⭐️⭐️⭐️ Damn, bro blew it up!! Nice!!🎯#RussianDoll https://t.co/0z20XKXSMe',\n",
       " 'Obey Me blew up...And all I can think of is \"Hey when will MaoPro release the updated remake\"',\n",
       " 'um good morning this blew up what https://t.co/9jiWEPcFPk',\n",
       " 'can’t believe my Auntie gf blew my phone up like that 😭',\n",
       " 'this kinda blew up😳🤚🏽 i have nothing to promote except pre-order map the of soul:7 and follow me for more kookv content 👁👄👁…',\n",
       " \"i mean, of course billie eilish blew up. all of samara's daughters are brilliant and powerful.\",\n",
       " 'SHDC is working with partners across Lincolnshire to launch the #SCRAP fly-tipping campaign today, which aims to fight the…',\n",
       " '#CGIARWheat announces new partnership with Jiangsu Academy of Agricultural Sciences (JAAS) in #China to open screening facility…',\n",
       " 'Superb Renovation, Alma Street, Abertillery - £99,000 https://t.co/mpx8ZV5X7f',\n",
       " \"“It’s a blight on the country as a whole.” Pippa is right there. Pat McCormack claims these moves will 'end our dai… https://t.co/CSNGWEKO28\",\n",
       " \"I have no love for the sequels in any capacity. They're a blight upon the Star Wars Franchise. But… https://t.co/sfIZJUlgiA\",\n",
       " 'Yet the blight of homelessness remains... https://t.co/TiCALTJ3oa',\n",
       " \"Oh that's a good point. We went with a tiefling named Avanka Fire-Blight.\",\n",
       " 'The people who openly degrade consoles are the ultimate blight to be honest. They’ll rub it in your face… https://t.co/WON7HYXx8H',\n",
       " 'Low traffic neighbourhoods - way ahead to save our local streets from the blight of pollution and noise. #Safer streets ar…',\n",
       " 'i said before and \\\\ i will say again. PC \\\\ gaming is a blight. https://t.co/8Fbzyd9sRa',\n",
       " 'i said before and i will say again. PC gaming is a blight.',\n",
       " 'Germany and Japan were made to pay for WW2, but England were never made to pay for slaughter in Scotland and Ireland, for…',\n",
       " 'It isn’t. Racism is a sad fact of life. Your difference will be exploited by ignora… https://t.co/vvnyxUuqdj',\n",
       " 'Low traffic neighbourhoods - way ahead to save our local streets from the blight of pollution and noise. #Safer st… https://t.co/NVNzHc8AfD',\n",
       " 'Hello.agriculture ,what can you do to treat early blight in my greenhouses? https://t.co/3FGgaJjiO4 https://t.co/kt…',\n",
       " 'Hello.agriculture ,what can you do to treat early blight in my greenhouses? https://t.co/ktvEh7VJxm',\n",
       " 'Ask an Expert: Oregon State Extension faculty and Master Gardeners answer questions about… https://t.co/ZN69f2vSok',\n",
       " 'No craftable heals or Barrel Bombs on hand? Nullberries are pretty good against how much blight seems… https://t.co/afaqWQU91S',\n",
       " \"you should understand i'm cleaning up html and css is a fucking blight and capitalists are fucking useless\",\n",
       " 'MOUNT OLIVE TWP. - The township plans to spend nearly a half-million dollars in state and local funds over three ye… https://t.co/RusmbWZeMt',\n",
       " 'This gambling commission guy on is basically trying to push responsibility onto everyone else. Gambli… https://t.co/7newuELmww',\n",
       " 'A hard read. Our food system is placing farmers under extreme stress. We must value our land and the people who farm it . Th…',\n",
       " \"Like , I'm really talking about blending genera…\",\n",
       " 'Blame the blight of taxation. Aka theft by government force and violence. For every government job gen… https://t.co/gXHOSrViE1',\n",
       " 'I love paying for parking and not having a space. This apartment complex is a blight.',\n",
       " \"Like , I'm really talking about blendin… https://t.co/qFmh1ILVPQ\",\n",
       " 'Hello.agriculture ,what can you do to treat early blight in my greenhouses? https://t.co/3FGgaJjiO4 https://t.co/ktvEh7VJxm',\n",
       " 'Murdoch condoned his News Of The World journalists hacking a dead teenage girl’s phone. He’s an immoral blight on… https://t.co/SpCufwthYc',\n",
       " 'The archdemon, it \"talks\" to the horde, and we feel it just as they do. That\\'s why we know this is really a Blight.',\n",
       " 'Modern Windmill Farms are a blight on the earth &amp; the air. Horrid.',\n",
       " 'Yeh cool. The point I’m getting at is Carragher said Liverpool didn’t buy superstars, they… https://t.co/9Ve2ERx7Qm',\n",
       " 'A hard read. Our food system is placing farmers under extreme stress. We must value our land and the people who far… https://t.co/P5qcy1J5qy',\n",
       " 'Ash Ketchum at Blight thinks the SNES mini is in a holding pattern #snesmini',\n",
       " 'having someone you can tell every detail of your day to…',\n",
       " 'If needed you might like to refer to work on plant health',\n",
       " \"Sarda(10 dwarf cursed) was debilitated by noxious blight before falling to death by Gima the thief on Ruins of Kor'Pul 3.\",\n",
       " 'I followed the lying orange occupant of the White House for laughs, but it just wasn’t funny. He’s a blight on de… https://t.co/teRybb32jL',\n",
       " 'Sounds like a simple and elegant solution to me. House the homeless with the added bonus of cleaning up the blight… https://t.co/ZJcDcDo0cd',\n",
       " 'Only Leftists would demand exteme birth control, claim that humanity is a blight on the planet, pray for genocide ...a…',\n",
       " \"Somewhat related, this just popped up in my feed. I guess I know who I'm unfollowing now. Critical Role is a fucki… https://t.co/QGXRUMWQTn\",\n",
       " 'Only Leftists would demand exteme birth control, claim that humanity is a blight on the planet, pray for genocide… https://t.co/pNShHgmxOh',\n",
       " 'Awful, and barbaric! This is a blight on our nation. Abortion is murder - nothing more to it.',\n",
       " 'Pakistan harbored Terrorist Bin Laden. You’re corrupt, impoverished, and a bligh… https://t.co/WCUoENShDY',\n",
       " 'Regardless of the end result of the Impeachment trial, we must VOTE HIM OUT in November. Besides ridding ourselves… https://t.co/Xg6sp3gVAP',\n",
       " 'We can all agree that racial segregation is morally reprehensible and a blight on our nation’s history. Now that I’ve go…',\n",
       " 'YOURE HORNY??????? how stupid',\n",
       " 'fuck this dude too https://t.co/b3xs8qfyFH',\n",
       " 'You know what fucks with me THIS COLOR is no darker or lighter than THIS COLOR. They are the same brightness. https://t.co/0d…',\n",
       " '\"It\\'s a blight on the neighborhood! And that broken door is the cherry on the top of the shit sandwich!\" \"What kin… https://t.co/sOkiTA1EvH',\n",
       " 'Firefighter Hog, made in honor of the firefighters and the many animal lives that have been lost in the fires, as well as…',\n",
       " 'Last na talaga, di mo naman ako pinapansin :( Pag maayos na ubo mo, try mo ang strawberry and banan… https://t.co/UGdNUewpCN',\n",
       " \"Omgg, omg was my reaction when finally my first mount from island expeditions dropped yesterday! 😱 I'm so glad my o… https://t.co/BdfGeZxR8e\",\n",
       " 'Bring back national dex.',\n",
       " 'u want my Hot Gamer Take? /s no but really, Blizzard does the Radio Silence thing they always do so… https://t.co/fcwMym4K5o',\n",
       " 'Blizzard said at blizzcon that allied races was a bfa feature and won’t be crossing over. Sorry',\n",
       " 'Blizzard fixing OW by buffing random heroes: https://t.co/MDh9vfPFbX',\n",
       " \"check the replies of this tweet!! it's nothing big tbh..it's just more of Blizzard's Slow Content Patche… https://t.co/DfTnqObYm6\",\n",
       " \"Blizzard is pushing World of Warcraft into the future with Visions of N'Zoth update | VentureBeat… https://t.co/4UYCYNHdgc\",\n",
       " '#Chicago #Blizzardof79 was bad but #Blizzardof69 was badder. https://t.co/8fz9a5R3XZ',\n",
       " 'Also, with the announcement of Overwatch 2(which don’t get me wrong I will play tons of), Blizzard has already slow… https://t.co/mCrN7yStna',\n",
       " \"I don't normally like to see fandoms die, but considering the SUPER dumb things Activision Blizzard has don… https://t.co/3MXllTlm1k\",\n",
       " 'also Blizzard and the host handled this about as well as you could',\n",
       " \"Blizzard: why don't you guys use LFG LFG: https://t.co/BabsKdRfq9\",\n",
       " \"the kid who baited the NBA cameras with a 'Fight for freedom stand with Hong Kong' sign actually went to BlizzCon and interrup…\",\n",
       " 'Live view from when I screamed “FREE HONG KONG” at #BlizzCon2019 !! This is the footage you can view on . or watc…',\n",
       " 'for real tho Blizzard needs as many Fortnite players as they can get',\n",
       " 'ill drink iced coffee in a snow blizzard, idc lol',\n",
       " 'Overwatch Toxicity and Cheating Sanction January 13, 2020 Overwatch korean servers 9,078 players were been punished or…',\n",
       " 'Blizzard is pushing World of Warcraft into the future with Visions of N’Zoth update https://t.co/t5asZjwrwq',\n",
       " 'Found that out when it was still on the blizzard launcher',\n",
       " 'It’s been discussed a lot and for a while, but we will see what blizzard thinks about HoF of 2020.',\n",
       " \"VentureBeat: Blizzard is pushing World of Warcraft into the future with Visions of N'Zoth update https://t.co/iCk8HwlUhh by tolkoto\",\n",
       " 'baby penguin ian lost in the blizzard https://t.co/yQqRk7o4B9',\n",
       " 'PUBG: Provide Unmitigated Blizzard Goop',\n",
       " 'Oh you can all stop saying this movie should get it....blizzard makes better cut scenes in almost every game it makes.',\n",
       " 'Minnesota niggas will record a video during a blizzard saying “Drive Safe Y’all” while driving 75 miles per hour blasting NB…',\n",
       " \"The Blizzard that wasn't and the Futility of Doomsday Climate Predictions https://t.co/B3tv8w0S0Z #WIBAnews\",\n",
       " 'In my opinion it should definitely be marketed as a premium… https://t.co/y4TVR89Hqy',\n",
       " 'Yep, we are experiencing an unusually cold spell here in Vancouver (-10C at night and bl… https://t.co/c8pFIdOegO',\n",
       " 'Blizzard is pushing World of Warcraft into the future with Visions of N’Zoth update &gt; https://t.co/MDZ0s18xGi… https://t.co/1FilV29oMx',\n",
       " 'thank you so much Nadd!! ✨✨',\n",
       " 'the only things that aren’t under that handle are prob just like. snapchat or my blizzard acct. i like my brand!',\n",
       " 'First Arcanist Thalyssra Fan Art { from weibo } Drawn By Silver Cups 🖌 #Worldofwarcraft #nightborne #Thalyssra #Ar…',\n",
       " 'Looking Back to 1185 Park Avenue in a blizzard on this day 9 years ago: day 449 of 1 photo every day for the rest of m…',\n",
       " 'xeltes played World of Warcraft (Blizzard) in the last 24 hours https://t.co/7Qvvbxc59M #exophase',\n",
       " 'It’s trash and at this point I just think blizzard are trying to do what’s worse for this game. Yo PvP… https://t.co/RrQCzReHeB',\n",
       " 'Seriously fuck Blizzard.',\n",
       " 'You killed it! looks so good!',\n",
       " 'Here is Zappy Boi Zekhan, finally finished 💜 so many first times, he was a challenge but I loved working on him. You c…',\n",
       " '🚨🚨WINTER ‘20 IS HERE!🚨🚨 Introducing the “Blizzard Bomber”🔥🔥🔥🚨🚨 Drops online at https://t.co/vL5mRSTof6 tomorrow! Also…',\n",
       " \"Nada Surf - Blizzard Of '77 (Let Go)\",\n",
       " 'Hi, I am Kuchi and I’m hosting a blood drive in Abuja on the 25th of January for in partnership with the Nati…',\n",
       " \"Powerful words that fell on deaf ears belonging to the rich and powerful people across the globe 'Deliberately &amp; Consciously…\",\n",
       " 'BLOOD ON GOVERNMENT HANDS! https://t.co/GFa6RNRB4w',\n",
       " 'You got covered by the blood of Jesus',\n",
       " \"?? the only supplement i'm supposed to take is iron and i haven't needed it since i went… https://t.co/qIBWDuVqow\",\n",
       " '“You’ll be completely immersed in Prince of the Blood II, a phenomenal sequel full of intrigues and many developments, n…',\n",
       " 'i seriously cannot believe that at one point in my life blood on the dance floor was my favorite band and i was straight…',\n",
       " 'The Indigenous People Of #Biafra have paid enough in blood for their #FREEDOM! #BIAFRAISNOTONEWITHNIGERIA…',\n",
       " 'Do y’all wanna know what Democrats have done for us? They’ve h…',\n",
       " \"After talking blood from Rohit Sharma's wkt\",\n",
       " 'A friendly reminder to take your daily vitamin supplements and if you do not take any, get some today. Also get a blood test…',\n",
       " '20/ The super fine lunar dust has such low inertia vs. high aerodynamic drag, that it perfectly follows the air flow all th…',\n",
       " \"You are Amee Storm, a pink Simic Barbarian who's from the royal court and wields a blood stained tooth\",\n",
       " 'Working on some blood maledict sets! https://t.co/lfHhS9I7sy',\n",
       " \"Zep: *shocked* Demigod? I've never met one before. Incredible. What kind of magick can you do? Joshua… https://t.co/37BGiE9m4u\",\n",
       " 'A FAMILY INDEED. FAMILY. NOT BY BLOOD BUT BY HEART. https://t.co/N9dpX1FnFo',\n",
       " \"That's mere 5 pints of blood lol...\",\n",
       " 'I have O- blood type. If I make a trip there from the US will Malta accept it? It won’t be an imme… https://t.co/nT4Ql4u1Z1',\n",
       " 'it makes my blood boil seeing that they are asking jongdae to leave. its so unfair. the worse part is jongdae is pr… https://t.co/Zav91kCI29',\n",
       " 'Blood sweat and tears #BoyWithLuv #BestMusicVideo #iHeartAwards',\n",
       " 'Actress chats to her acting debut on Giyani Land of Blood and her career: https://t.co/sFHCVqG1Ts https://t.co/4uh7m9rsM2',\n",
       " 'India\\'s \"collective conscience\"is not the conscience of the poor, the marginalised. It is the conscience of the middle and…',\n",
       " 'BEST OF THE SEASON // Blood oranges, Seville oranges and forced rhubarb are brightening up the #FarmShop this week. T…',\n",
       " \"Dear heart, please stop getting involved in everything. Your job is to pump blood, that's it.\",\n",
       " '#Sialkot alert! A- blood in needed Sadar begam hospital Sialkot 03077212577',\n",
       " 'Myghaad!! Who needs blood transfusion?? DM me https://t.co/xQxxXZnCFK',\n",
       " 'Iran in blood We are hostages #NancyPelosiFakeNews https://t.co/LOHu07MSLH',\n",
       " '/ #blood NEED: #dadu Me Hik Zaroratmand Aurat Khe Emergency Me O-ve #blood Ji Sakht Zarorat Ahe Insan Dost Rabto Kan, Co…',\n",
       " 'RT #URGENT #O+ blood group required at Shalimar Hospital, #Lahore. Please contact on 03486211155. #SpreadTheWord #dona…',\n",
       " 'My niece is still in the hospital, waiting for a neurologist to see her. She may have a B12 and/or a folic acid deficie…',\n",
       " '#RT #URGENT #Any blood group required at Holy Family, #Rawalpindi. Please contact on 03145411414. #SpreadTheWord #do…',\n",
       " 'Five more months of stuggle blood sweat and tears',\n",
       " 'This proves how total metal Your attitude is. I wander what to put in a \"Christian mum\" mailbox for a pres…',\n",
       " 'Western Cape blood stocks down to just four days by Shakirah Thebus Western Cape blood stocks will only last for… https://t.co/RprLMnbNS2',\n",
       " 'All those who welcomed the hanging of #AfzalGuru have blood on their hands. The least we can do is offer a useless sor…',\n",
       " 'My blood is boiling right now 😤🤯but I wouldn’t expect anything less from the racist mofo!!! Arabs/S… https://t.co/nlpLDICtcI',\n",
       " 'So Rwigyema Gisa Fredrick is being sidelined here😂😂😂😂 They faught a bush war,heavy and wonderful. Unt… https://t.co/eCq5zyrvbS',\n",
       " 'faça uma playlist com as letras do seu nome: adore you - harry styles none but jesus - hillsong united more than a… https://t.co/DjNmV4h0eD',\n",
       " 'The approved textbook for 8th Grade CHILDREN in California. 13 14 yrs old. “Anal sex. Body fluid or blood play” These cla…',\n",
       " \"Does Joe Gomez keep his place now that Joel Matip is back fit? It's one of the big talking points of the Blood Red podcast…\",\n",
       " 'I don’t be wishing my exes would be forever single or miserable. Pls go find love. Get married, have kids. Do all that. If…',\n",
       " 'I cover my eyes with the blood of Jesus. Brother Fisayo please what is this? Desist from your sinful… https://t.co/UTQExuWF2a',\n",
       " 'Very bad night, have to go for a blood test which has relocated to beside the entrance to psych ward I was on. Fill… https://t.co/rE8fi92Ijc',\n",
       " 'Its ignorant comments like these, tgat make my blood boil. #Oman #قابوس_في_ذمة_الله https://t.co/l35RAtQ3sw',\n",
       " '\"Meghan became a target because she is a mixed-race American with no aristocratic blood, who dared to import vaguely progr…',\n",
       " 'are we gonna have a version of this in the mv? thats what im thinking.. didnt we get a olivia teaser of her eating an the blood…',\n",
       " 'The way they’re twisting feminism to their favor is making my blood boil. Shaming a woman for being pregnant before marria…',\n",
       " 'Relatives of the war criminal (Shohrat zakir )are attacking their opponents in the streets illegal, thi… https://t.co/ed9v43x35I',\n",
       " 'everyman/woman who doesnt exactly belive in that must b kiled; evrythng that does… https://t.co/MtupW8m9Rt',\n",
       " ...]"
      ]
     },
     "execution_count": 8,
     "metadata": {},
     "output_type": "execute_result"
    }
   ],
   "source": [
    "list(data[data.target==0].text)"
   ]
  },
  {
   "cell_type": "code",
   "execution_count": 3,
   "id": "8771e46b-7686-45de-8fa3-39b965f570dc",
   "metadata": {},
   "outputs": [],
   "source": [
    "data = pd.read_csv('/Users/savinaysingh/Downloads/tweets 2.csv')\n"
   ]
  },
  {
   "cell_type": "code",
   "execution_count": 4,
   "id": "2aa46fdd-96fc-4cf7-bc4b-a43640ade557",
   "metadata": {},
   "outputs": [],
   "source": [
    "data = data[['text','target']]\n"
   ]
  },
  {
   "cell_type": "code",
   "execution_count": 5,
   "id": "2c5fa4a0-5487-4267-a211-0124e31cf49b",
   "metadata": {},
   "outputs": [
    {
     "data": {
      "text/plain": [
       "text      0\n",
       "target    0\n",
       "dtype: int64"
      ]
     },
     "execution_count": 5,
     "metadata": {},
     "output_type": "execute_result"
    }
   ],
   "source": [
    "data.isna().sum()"
   ]
  },
  {
   "cell_type": "markdown",
   "id": "9c8f5740-2308-4110-b808-aba3fad03993",
   "metadata": {
    "tags": []
   },
   "source": [
    "# 1. Capturing Hashtags"
   ]
  },
  {
   "cell_type": "code",
   "execution_count": 6,
   "id": "09b58062-98f7-4695-bc66-b0f62a8890ee",
   "metadata": {},
   "outputs": [],
   "source": [
    "pattern = r'#\\w+'\n",
    "\n",
    "# Extract and capture hashtags in a new column 'hashtags'\n",
    "data['hashtags'] = data['text'].str.findall(pattern)\n"
   ]
  },
  {
   "cell_type": "code",
   "execution_count": 7,
   "id": "0f7717dd-9278-4e85-927c-b06fee7afa1b",
   "metadata": {
    "tags": []
   },
   "outputs": [],
   "source": [
    "sentences=data['text']"
   ]
  },
  {
   "cell_type": "markdown",
   "id": "881f0716-7b36-4143-a443-4a7ee4040a7b",
   "metadata": {
    "tags": []
   },
   "source": [
    "# 2. Handling Apostophe"
   ]
  },
  {
   "cell_type": "code",
   "execution_count": 8,
   "id": "96f5a16d-3fd4-4e3e-af7e-ff3a4819a031",
   "metadata": {},
   "outputs": [],
   "source": [
    "number_sent_apostophe=len([x for x in sentences if \"'\" in x])"
   ]
  },
  {
   "cell_type": "code",
   "execution_count": 9,
   "id": "4baedcc9-327b-45c6-8af6-9b8bea7dcf74",
   "metadata": {},
   "outputs": [
    {
     "name": "stdout",
     "output_type": "stream",
     "text": [
      "Percentage of sentences with apostophe is:  16.710642040457344 %\n"
     ]
    }
   ],
   "source": [
    "print(\"Percentage of sentences with apostophe is: \",number_sent_apostophe/len(sentences)*100,\"%\")"
   ]
  },
  {
   "cell_type": "code",
   "execution_count": 10,
   "id": "533d5251-0f9f-490c-9341-2c4c2e548c8d",
   "metadata": {},
   "outputs": [],
   "source": [
    "# Converting the words having apostophe into their root form\n",
    "def decontracted(phrase):\n",
    "    # specific\n",
    "    phrase = re.sub(r\"won\\'t\", \"will not\", phrase)\n",
    "    phrase = re.sub(r\"can\\'t\", \"can not\", phrase)\n",
    "    phrase = re.sub(r\"there\\'s\", \"there is\", phrase)\n",
    "    phrase = re.sub(r\"it\\'s\", \"it is\", phrase)\n",
    "    phrase = re.sub(r\"he\\'s\", \"he is\", phrase)\n",
    "    phrase = re.sub(r\"she\\'s\", \"she is\", phrase)\n",
    "    phrase = re.sub(r\"how\\'s\", \"how is\", phrase)\n",
    "    phrase = re.sub(r\"let\\'s\", \"let is\", phrase)\n",
    "    phrase = re.sub(r\"so\\'s\", \"so is\", phrase)\n",
    "    phrase = re.sub(r\"what\\'s\", \"what is\", phrase)\n",
    "    phrase = re.sub(r\"when\\'s\", \"when is\", phrase)\n",
    "    phrase = re.sub(r\"where\\'s\", \"where is\", phrase)\n",
    "    phrase = re.sub(r\"why\\'s\", \"why is\", phrase)\n",
    "  \n",
    "    # general\n",
    "    phrase = re.sub(r\"n\\'t\", \" not\", phrase)\n",
    "    phrase = re.sub(r\"\\'re\", \" are\", phrase)\n",
    "    phrase = re.sub(r\"\\'d\", \" would\", phrase)\n",
    "    phrase = re.sub(r\"\\'ll\", \" will\", phrase)\n",
    "    phrase = re.sub(r\"\\'t\", \" not\", phrase)\n",
    "    phrase = re.sub(r\"\\'ve\", \" have\", phrase)\n",
    "    phrase = re.sub(r\"\\'m\", \" am\", phrase)\n",
    "    return phrase"
   ]
  },
  {
   "cell_type": "code",
   "execution_count": 11,
   "id": "2408edd5-9f06-44bd-a069-0ec62ba1bbd8",
   "metadata": {
    "scrolled": true,
    "tags": []
   },
   "outputs": [
    {
     "data": {
      "text/plain": [
       "[\"People are going bankrupt over medical debt. $12k a year minus the VAT won't put a dent in that. Let'… https://t.co/i31T5Kg5LE\",\n",
       " \"There's a new drug in town and you won't want to miss its catastrophic effects on tonight's all-new NCIS: Los Angeles. Stream i…\",\n",
       " '\"Let me tell you something good... Beel won\\'t destroy the human world, Do you know why? It\\'s because I\\'m his parent… https://t.co/H5iBsk2BxX',\n",
       " \"Translation: we have a climate policy but that won't stop us from investing in things that destroy the climate, because maki…\",\n",
       " \"So long as I keep moving, play loud music to drown him, play videogames or watch TV shows or movies, I won't have t… https://t.co/fJpK9wA2W6\",\n",
       " \"Why won't my blue_aura_Explosion spawn!?!?!? Because the naming convention is aura_blue_Explosion ... #indiedev https:…\",\n",
       " \"The story that won't die. 2 more dogs. Cane Corsos. https://t.co/7oQxpwqIKh\",\n",
       " \"despite immature fans wanting him gone, I don't have the fear that jongdae will leave bc I know exo won't LET him leav…\",\n",
       " \"Too naive. They won't listen. 1989 Tiananmen Massacre has passed Over 30 years. They still choose not to apolo… https://t.co/nuJl2ppdLt\",\n",
       " \"So today because of relationship palava, I almost had a panic attack😥...are you sure I won't go back to my ashawo ways like…\",\n",
       " \"That won't be drastic enough, the WH must be razed.\",\n",
       " \"the actual reason he won't have a problem is that he offers a structural critique the same way trump does, except his actu…\",\n",
       " 'Pelosi said today: Trump won\\'t be President next year \"one way or another !! Sounds like a threat to me !! News for her sh…',\n",
       " \"It seems a thunderstorm is heading our way. Better retreat to a cave. A tent won't stand a chance.\",\n",
       " \"Well if the Tory's carry on destroying the education system there won't be any teachers left! 'Schools should brac… https://t.co/gPQH8vqYqv\",\n",
       " \"#Gotham isn't being continued as a Batman show right now, but that doesn't mean it won't be in the future. The upheaval…\",\n",
       " \"Another so called protection for older workers that won't be worth a fart i… https://t.co/lu7crFlg7h\",\n",
       " \"There won't be much of a break across the southern U.K. as another storm system will race into the region on Tuesday. This…\",\n",
       " \"There won't be much of a break across the southern U.K. as another storm system will race into the region on Tuesda… https://t.co/Mbr5gVIV59\",\n",
       " \"https://t.co/7B2QK2oIpV the wreckage of my past keeps haunting me, it just won't leave me alone, I still I find it… https://t.co/tXEBXTJC0c\"]"
      ]
     },
     "execution_count": 11,
     "metadata": {},
     "output_type": "execute_result"
    }
   ],
   "source": [
    "[x for x in sentences if \"won't\" in x]"
   ]
  },
  {
   "cell_type": "code",
   "execution_count": 12,
   "id": "bc592771-84a3-4918-a19c-a36f2e6d7476",
   "metadata": {},
   "outputs": [],
   "source": [
    "sentences=[decontracted(x) for x in sentences]"
   ]
  },
  {
   "cell_type": "code",
   "execution_count": 13,
   "id": "53486a87-1b85-4a54-8a25-703791210c70",
   "metadata": {
    "tags": []
   },
   "outputs": [
    {
     "data": {
      "text/plain": [
       "[]"
      ]
     },
     "execution_count": 13,
     "metadata": {},
     "output_type": "execute_result"
    }
   ],
   "source": [
    "[x for x in sentences if \"won't\" in x]"
   ]
  },
  {
   "cell_type": "code",
   "execution_count": 14,
   "id": "20add7c6-b1e4-43fa-9ccd-7fc56bccb2b8",
   "metadata": {},
   "outputs": [],
   "source": [
    "number_sent_apostophe=len([x for x in sentences if \"'\" in x])"
   ]
  },
  {
   "cell_type": "code",
   "execution_count": 15,
   "id": "ae759bd0-714f-430c-aa17-b8bde351f8a1",
   "metadata": {},
   "outputs": [
    {
     "name": "stdout",
     "output_type": "stream",
     "text": [
      "Percentage of sentences with apostophe is:  8.988566402814424 %\n"
     ]
    }
   ],
   "source": [
    "print(\"Percentage of sentences with apostophe is: \",number_sent_apostophe/len(sentences)*100,\"%\")"
   ]
  },
  {
   "cell_type": "code",
   "execution_count": 16,
   "id": "cc16ac98-a156-45fe-bca8-037cb4de9cca",
   "metadata": {},
   "outputs": [],
   "source": [
    "data['text'] =sentences"
   ]
  },
  {
   "cell_type": "markdown",
   "id": "ef23a64a-5cbe-4d74-bffc-0db1da77bcd9",
   "metadata": {
    "tags": []
   },
   "source": [
    "# 3. Lowercasing"
   ]
  },
  {
   "cell_type": "code",
   "execution_count": 17,
   "id": "e2ffa437-b95f-426b-8aa2-e2d007cf3aeb",
   "metadata": {},
   "outputs": [],
   "source": [
    "data['text'] = [entry.lower() for entry in data['text']]"
   ]
  },
  {
   "cell_type": "markdown",
   "id": "2d1dcdf2-286a-44bf-ac18-31213426f139",
   "metadata": {
    "tags": []
   },
   "source": [
    "# 4. Removing Emojis, URL, hashtags and spl chars"
   ]
  },
  {
   "cell_type": "code",
   "execution_count": 18,
   "id": "dfee8acb-410d-4624-8b45-2424751f52fb",
   "metadata": {},
   "outputs": [],
   "source": [
    "# De-emojize the text\n",
    "def remove_emojis(text):\n",
    "    return emoji.demojize(text)\n",
    "\n",
    "# url not req while finding if text is disaster or not\n",
    "def remove_urls(text):\n",
    "    pattern = re.compile(r'http\\S+|www\\S+')\n",
    "    return pattern.sub('', text)\n",
    "\n",
    "def remove_hashtags(text):\n",
    "    pattern = re.compile(r'#\\w+')\n",
    "    return pattern.sub('', text)\n",
    "\n",
    "# spl chars not req while finding if text is disaster or not\n",
    "def remove_special_characters(text):\n",
    "    pattern = re.compile(r'[^a-zA-Z0-9\\s]')\n",
    "    return pattern.sub('', text)"
   ]
  },
  {
   "cell_type": "code",
   "execution_count": 19,
   "id": "b61a5af4-76c1-4a1b-930e-bc800629352b",
   "metadata": {},
   "outputs": [],
   "source": [
    "def preprocess_text(text):\n",
    "    text = remove_urls(text)\n",
    "    text = remove_hashtags(text)\n",
    "    text = remove_special_characters(text)\n",
    "    text = remove_emojis(text)\n",
    "    return text"
   ]
  },
  {
   "cell_type": "code",
   "execution_count": 20,
   "id": "fd36ae48-895b-4c95-adfa-8f5399ec2f7f",
   "metadata": {},
   "outputs": [],
   "source": [
    "data['text'] = data['text'].apply(preprocess_text)\n"
   ]
  },
  {
   "cell_type": "code",
   "execution_count": 21,
   "id": "6a191ff8-77b3-48c5-9faa-dabfee135c8f",
   "metadata": {},
   "outputs": [
    {
     "data": {
      "text/plain": [
       "target\n",
       "0    9256\n",
       "1    2114\n",
       "Name: count, dtype: int64"
      ]
     },
     "execution_count": 21,
     "metadata": {},
     "output_type": "execute_result"
    }
   ],
   "source": [
    "# Imbalanced Dataset\n",
    "data.target.value_counts()"
   ]
  },
  {
   "cell_type": "code",
   "execution_count": 22,
   "id": "7e15fe3d-05bd-4d80-b706-8dfbb0b4f733",
   "metadata": {},
   "outputs": [],
   "source": [
    "# Decision on numbers"
   ]
  },
  {
   "cell_type": "code",
   "execution_count": 23,
   "id": "1405e58f-feee-487f-810f-4047e7e567a8",
   "metadata": {},
   "outputs": [
    {
     "data": {
      "text/plain": [
       "[]                       9341\n",
       "[2]                       106\n",
       "[1]                        79\n",
       "[2020]                     62\n",
       "[5]                        54\n",
       "                         ... \n",
       "[47, 3]                     1\n",
       "[22000]                     1\n",
       "[6150000000, 1981, 0]       1\n",
       "[6150000000, 1981]          1\n",
       "[222]                       1\n",
       "Name: count, Length: 770, dtype: int64"
      ]
     },
     "execution_count": 23,
     "metadata": {},
     "output_type": "execute_result"
    }
   ],
   "source": [
    "pd.Series([[w for w in d.split() if w.isdigit()] for d in data.text]).value_counts()"
   ]
  },
  {
   "cell_type": "code",
   "execution_count": 24,
   "id": "bc096021-def0-4cf6-a1ea-6b6e79c1d943",
   "metadata": {},
   "outputs": [
    {
     "name": "stdout",
     "output_type": "stream",
     "text": [
      "17.933157431838175% tweets have digits\n"
     ]
    }
   ],
   "source": [
    "print((1-9331/len(data))*100,'% tweets have digits',sep='')"
   ]
  },
  {
   "cell_type": "code",
   "execution_count": null,
   "id": "86525674-01ab-4166-bbd5-53086084f132",
   "metadata": {},
   "outputs": [],
   "source": []
  },
  {
   "cell_type": "code",
   "execution_count": null,
   "id": "f7bf330b-1ad4-481f-8ba8-67a9395969e6",
   "metadata": {},
   "outputs": [],
   "source": []
  },
  {
   "cell_type": "code",
   "execution_count": 25,
   "id": "9cd294cc-706b-4a42-9d73-2bfe463c18b9",
   "metadata": {},
   "outputs": [
    {
     "data": {
      "text/plain": [
       "['telangana section 144 has been imposed in bhainsa from january 13 to 15 after clash erupted between two groups on january 12 po',\n",
       " '1441 earthquakes in puerto rico in the last 30 days 1441 the earth keeps shaking families are sleeping on the st',\n",
       " '1144fatality sr41  hanford armona rd chp hanford area ']"
      ]
     },
     "execution_count": 25,
     "metadata": {},
     "output_type": "execute_result"
    }
   ],
   "source": [
    "[d for d in data.text if '144' in d]"
   ]
  },
  {
   "cell_type": "code",
   "execution_count": 26,
   "id": "07e1b7d8-114c-4893-b10b-26fc3e678bea",
   "metadata": {},
   "outputs": [],
   "source": [
    "# Numbers seem important"
   ]
  },
  {
   "cell_type": "markdown",
   "id": "07ed4b25-3abe-4a92-9954-29e041db43ea",
   "metadata": {
    "tags": []
   },
   "source": [
    "# 5. Handling Numerics"
   ]
  },
  {
   "cell_type": "code",
   "execution_count": 27,
   "id": "7593509b-4dd4-403b-bc11-7f39069f248f",
   "metadata": {},
   "outputs": [],
   "source": [
    "p = inflect.engine()"
   ]
  },
  {
   "cell_type": "code",
   "execution_count": 28,
   "id": "0acb8a72-2653-4c6d-9564-3380d8b45a3f",
   "metadata": {},
   "outputs": [],
   "source": [
    "sentences=list(data.text)"
   ]
  },
  {
   "cell_type": "code",
   "execution_count": 29,
   "id": "37c8465e-c4b3-4564-bbad-ab3c3547cbd1",
   "metadata": {},
   "outputs": [
    {
     "name": "stderr",
     "output_type": "stream",
     "text": [
      "100%|██████████████████████████████████| 11370/11370 [00:00<00:00, 80398.74it/s]\n"
     ]
    }
   ],
   "source": [
    "# Convering all the digits into their respective text i.e 19-> nineteen \n",
    "final_ans=[]\n",
    "for i,sent in tqdm(enumerate(sentences),total=len(sentences)):\n",
    "    list_numbers=re.findall(r'[0-9]+', sent)\n",
    "    list_numbers=[int(l) for l in list_numbers]\n",
    "    list_words=[p.number_to_words(l)  for l in list_numbers]\n",
    "    dict_NW=dict(zip(list_numbers,list_words))\n",
    "    myKeys = list(dict_NW.keys())\n",
    "    myKeys.sort(reverse=True)\n",
    "    sorted_dict = {i: dict_NW[i] for i in myKeys}\n",
    "    ans=copy.copy(sent)\n",
    "    for key in sorted_dict.keys():\n",
    "        ans=re.sub(str(key),' '+sorted_dict[key]+' ',ans)\n",
    "    final_ans.append(ans)"
   ]
  },
  {
   "cell_type": "code",
   "execution_count": 30,
   "id": "1ff63e37-9ada-4d4f-9f01-1f02b913b3b7",
   "metadata": {},
   "outputs": [],
   "source": [
    "sentences=final_ans.copy()"
   ]
  },
  {
   "cell_type": "code",
   "execution_count": 31,
   "id": "fdbb2c37-bf2f-4a67-a9fa-a823144ce50b",
   "metadata": {},
   "outputs": [],
   "source": [
    "data.text=sentences"
   ]
  },
  {
   "cell_type": "code",
   "execution_count": null,
   "id": "e7b8baa8-99c0-4c60-b346-fac4785d437a",
   "metadata": {},
   "outputs": [],
   "source": []
  },
  {
   "cell_type": "code",
   "execution_count": 32,
   "id": "c1831800-9cc9-423b-b235-69bada31115e",
   "metadata": {},
   "outputs": [],
   "source": [
    "def removeDash(input_string):\n",
    "    return re.sub(r'-', ' ', input_string)\n"
   ]
  },
  {
   "cell_type": "code",
   "execution_count": 33,
   "id": "38239c9a-3bde-411e-bf29-3cad49694b48",
   "metadata": {},
   "outputs": [],
   "source": [
    "data['text']=data['text'].apply(removeDash)"
   ]
  },
  {
   "cell_type": "code",
   "execution_count": null,
   "id": "7afd9315-9470-4b7a-a8ea-067803dc8ef1",
   "metadata": {},
   "outputs": [],
   "source": []
  },
  {
   "cell_type": "code",
   "execution_count": 34,
   "id": "ef7a1d21-14a9-4efc-959b-38979ca5a73c",
   "metadata": {},
   "outputs": [
    {
     "data": {
      "text/plain": [
       "10938"
      ]
     },
     "execution_count": 34,
     "metadata": {},
     "output_type": "execute_result"
    }
   ],
   "source": [
    "data.text.nunique()"
   ]
  },
  {
   "cell_type": "code",
   "execution_count": 35,
   "id": "ff8e9f0b-7700-43b2-b2b5-165f1bd0c6c5",
   "metadata": {},
   "outputs": [
    {
     "data": {
      "text/html": [
       "<div>\n",
       "<style scoped>\n",
       "    .dataframe tbody tr th:only-of-type {\n",
       "        vertical-align: middle;\n",
       "    }\n",
       "\n",
       "    .dataframe tbody tr th {\n",
       "        vertical-align: top;\n",
       "    }\n",
       "\n",
       "    .dataframe thead th {\n",
       "        text-align: right;\n",
       "    }\n",
       "</style>\n",
       "<table border=\"1\" class=\"dataframe\">\n",
       "  <thead>\n",
       "    <tr style=\"text-align: right;\">\n",
       "      <th></th>\n",
       "      <th>text</th>\n",
       "      <th>target</th>\n",
       "      <th>hashtags</th>\n",
       "    </tr>\n",
       "  </thead>\n",
       "  <tbody>\n",
       "    <tr>\n",
       "      <th>0</th>\n",
       "      <td>communal violence in bhainsa telangana stones ...</td>\n",
       "      <td>1</td>\n",
       "      <td>[]</td>\n",
       "    </tr>\n",
       "    <tr>\n",
       "      <th>1</th>\n",
       "      <td>telangana section  one hundred and forty four ...</td>\n",
       "      <td>1</td>\n",
       "      <td>[]</td>\n",
       "    </tr>\n",
       "    <tr>\n",
       "      <th>2</th>\n",
       "      <td>arsonist sets cars ablaze at dealership</td>\n",
       "      <td>1</td>\n",
       "      <td>[]</td>\n",
       "    </tr>\n",
       "    <tr>\n",
       "      <th>3</th>\n",
       "      <td>arsonist sets cars ablaze at dealership</td>\n",
       "      <td>1</td>\n",
       "      <td>[]</td>\n",
       "    </tr>\n",
       "    <tr>\n",
       "      <th>4</th>\n",
       "      <td>lord jesus your love brings freedom and pardon...</td>\n",
       "      <td>0</td>\n",
       "      <td>[]</td>\n",
       "    </tr>\n",
       "    <tr>\n",
       "      <th>...</th>\n",
       "      <td>...</td>\n",
       "      <td>...</td>\n",
       "      <td>...</td>\n",
       "    </tr>\n",
       "    <tr>\n",
       "      <th>11365</th>\n",
       "      <td>media should have warned us well in advance th...</td>\n",
       "      <td>0</td>\n",
       "      <td>[]</td>\n",
       "    </tr>\n",
       "    <tr>\n",
       "      <th>11366</th>\n",
       "      <td>i feel directly attacked  i consider moonbin a...</td>\n",
       "      <td>0</td>\n",
       "      <td>[]</td>\n",
       "    </tr>\n",
       "    <tr>\n",
       "      <th>11367</th>\n",
       "      <td>i feel directly attacked  i consider moonbin a...</td>\n",
       "      <td>0</td>\n",
       "      <td>[]</td>\n",
       "    </tr>\n",
       "    <tr>\n",
       "      <th>11368</th>\n",
       "      <td>ok who remember outcast nd the dora au those a...</td>\n",
       "      <td>0</td>\n",
       "      <td>[]</td>\n",
       "    </tr>\n",
       "    <tr>\n",
       "      <th>11369</th>\n",
       "      <td>jake corway wrecked while running  fourteen th...</td>\n",
       "      <td>1</td>\n",
       "      <td>[]</td>\n",
       "    </tr>\n",
       "  </tbody>\n",
       "</table>\n",
       "<p>11370 rows × 3 columns</p>\n",
       "</div>"
      ],
      "text/plain": [
       "                                                    text  target hashtags\n",
       "0      communal violence in bhainsa telangana stones ...       1       []\n",
       "1      telangana section  one hundred and forty four ...       1       []\n",
       "2               arsonist sets cars ablaze at dealership        1       []\n",
       "3              arsonist sets cars ablaze at dealership         1       []\n",
       "4      lord jesus your love brings freedom and pardon...       0       []\n",
       "...                                                  ...     ...      ...\n",
       "11365  media should have warned us well in advance th...       0       []\n",
       "11366  i feel directly attacked  i consider moonbin a...       0       []\n",
       "11367  i feel directly attacked  i consider moonbin a...       0       []\n",
       "11368  ok who remember outcast nd the dora au those a...       0       []\n",
       "11369  jake corway wrecked while running  fourteen th...       1       []\n",
       "\n",
       "[11370 rows x 3 columns]"
      ]
     },
     "execution_count": 35,
     "metadata": {},
     "output_type": "execute_result"
    }
   ],
   "source": [
    "data"
   ]
  },
  {
   "cell_type": "markdown",
   "id": "e0fb2e6b-a85e-4d08-8324-2925a7d23e1d",
   "metadata": {
    "tags": []
   },
   "source": [
    "# 6. Removing Duplicate Tweets"
   ]
  },
  {
   "cell_type": "code",
   "execution_count": 36,
   "id": "3d1a18dc-d4e2-4fb3-850f-d8afb7d9a99b",
   "metadata": {
    "scrolled": true,
    "tags": []
   },
   "outputs": [],
   "source": [
    "# Removal of duplicates\n",
    "data=data.drop_duplicates(subset=['text'])"
   ]
  },
  {
   "cell_type": "code",
   "execution_count": 37,
   "id": "12c1b45d-0872-40d4-957b-fbfc45b47e85",
   "metadata": {},
   "outputs": [
    {
     "data": {
      "text/html": [
       "<div>\n",
       "<style scoped>\n",
       "    .dataframe tbody tr th:only-of-type {\n",
       "        vertical-align: middle;\n",
       "    }\n",
       "\n",
       "    .dataframe tbody tr th {\n",
       "        vertical-align: top;\n",
       "    }\n",
       "\n",
       "    .dataframe thead th {\n",
       "        text-align: right;\n",
       "    }\n",
       "</style>\n",
       "<table border=\"1\" class=\"dataframe\">\n",
       "  <thead>\n",
       "    <tr style=\"text-align: right;\">\n",
       "      <th></th>\n",
       "      <th>text</th>\n",
       "      <th>target</th>\n",
       "      <th>hashtags</th>\n",
       "    </tr>\n",
       "  </thead>\n",
       "  <tbody>\n",
       "    <tr>\n",
       "      <th>0</th>\n",
       "      <td>communal violence in bhainsa telangana stones ...</td>\n",
       "      <td>1</td>\n",
       "      <td>[]</td>\n",
       "    </tr>\n",
       "    <tr>\n",
       "      <th>1</th>\n",
       "      <td>telangana section  one hundred and forty four ...</td>\n",
       "      <td>1</td>\n",
       "      <td>[]</td>\n",
       "    </tr>\n",
       "    <tr>\n",
       "      <th>2</th>\n",
       "      <td>arsonist sets cars ablaze at dealership</td>\n",
       "      <td>1</td>\n",
       "      <td>[]</td>\n",
       "    </tr>\n",
       "    <tr>\n",
       "      <th>3</th>\n",
       "      <td>arsonist sets cars ablaze at dealership</td>\n",
       "      <td>1</td>\n",
       "      <td>[]</td>\n",
       "    </tr>\n",
       "    <tr>\n",
       "      <th>4</th>\n",
       "      <td>lord jesus your love brings freedom and pardon...</td>\n",
       "      <td>0</td>\n",
       "      <td>[]</td>\n",
       "    </tr>\n",
       "    <tr>\n",
       "      <th>...</th>\n",
       "      <td>...</td>\n",
       "      <td>...</td>\n",
       "      <td>...</td>\n",
       "    </tr>\n",
       "    <tr>\n",
       "      <th>11365</th>\n",
       "      <td>media should have warned us well in advance th...</td>\n",
       "      <td>0</td>\n",
       "      <td>[]</td>\n",
       "    </tr>\n",
       "    <tr>\n",
       "      <th>11366</th>\n",
       "      <td>i feel directly attacked  i consider moonbin a...</td>\n",
       "      <td>0</td>\n",
       "      <td>[]</td>\n",
       "    </tr>\n",
       "    <tr>\n",
       "      <th>11367</th>\n",
       "      <td>i feel directly attacked  i consider moonbin a...</td>\n",
       "      <td>0</td>\n",
       "      <td>[]</td>\n",
       "    </tr>\n",
       "    <tr>\n",
       "      <th>11368</th>\n",
       "      <td>ok who remember outcast nd the dora au those a...</td>\n",
       "      <td>0</td>\n",
       "      <td>[]</td>\n",
       "    </tr>\n",
       "    <tr>\n",
       "      <th>11369</th>\n",
       "      <td>jake corway wrecked while running  fourteen th...</td>\n",
       "      <td>1</td>\n",
       "      <td>[]</td>\n",
       "    </tr>\n",
       "  </tbody>\n",
       "</table>\n",
       "<p>10938 rows × 3 columns</p>\n",
       "</div>"
      ],
      "text/plain": [
       "                                                    text  target hashtags\n",
       "0      communal violence in bhainsa telangana stones ...       1       []\n",
       "1      telangana section  one hundred and forty four ...       1       []\n",
       "2               arsonist sets cars ablaze at dealership        1       []\n",
       "3              arsonist sets cars ablaze at dealership         1       []\n",
       "4      lord jesus your love brings freedom and pardon...       0       []\n",
       "...                                                  ...     ...      ...\n",
       "11365  media should have warned us well in advance th...       0       []\n",
       "11366  i feel directly attacked  i consider moonbin a...       0       []\n",
       "11367  i feel directly attacked  i consider moonbin a...       0       []\n",
       "11368  ok who remember outcast nd the dora au those a...       0       []\n",
       "11369  jake corway wrecked while running  fourteen th...       1       []\n",
       "\n",
       "[10938 rows x 3 columns]"
      ]
     },
     "execution_count": 37,
     "metadata": {},
     "output_type": "execute_result"
    }
   ],
   "source": [
    "data"
   ]
  },
  {
   "cell_type": "code",
   "execution_count": 38,
   "id": "ca27fdef-d75b-4667-8dcd-731a2736021c",
   "metadata": {},
   "outputs": [
    {
     "data": {
      "text/plain": [
       "target\n",
       "0    8991\n",
       "1    1947\n",
       "Name: count, dtype: int64"
      ]
     },
     "execution_count": 38,
     "metadata": {},
     "output_type": "execute_result"
    }
   ],
   "source": [
    "data.target.value_counts()"
   ]
  },
  {
   "cell_type": "code",
   "execution_count": null,
   "id": "c58c575a-b5ca-401a-ab9e-8a85b7d00257",
   "metadata": {},
   "outputs": [],
   "source": []
  },
  {
   "cell_type": "code",
   "execution_count": 39,
   "id": "de2da633-3284-452a-bac1-f68fa5ce8772",
   "metadata": {},
   "outputs": [
    {
     "data": {
      "text/plain": [
       "hashtags\n",
       "[]                             9490\n",
       "[#StormBrendan]                  18\n",
       "[#Iran]                          11\n",
       "[#TaalVolcano]                   10\n",
       "[#Hitchin]                        8\n",
       "                               ... \n",
       "[#icymi]                          1\n",
       "[#teamworking, #demolition]       1\n",
       "[#RT, #BYNR, #inspy]              1\n",
       "[#DemDebate, #IowaCau]            1\n",
       "[#WWII]                           1\n",
       "Name: count, Length: 1189, dtype: int64"
      ]
     },
     "execution_count": 39,
     "metadata": {},
     "output_type": "execute_result"
    }
   ],
   "source": [
    "# Hashtag cleaing\n",
    "data.hashtags.value_counts()"
   ]
  },
  {
   "cell_type": "code",
   "execution_count": 40,
   "id": "72e72147-ed38-40af-a7a9-f53689c0c9a0",
   "metadata": {},
   "outputs": [
    {
     "name": "stderr",
     "output_type": "stream",
     "text": [
      "/var/folders/0h/j84rsdwd49jbw1_d04_c5b3r0000gn/T/ipykernel_20548/4157048724.py:1: SettingWithCopyWarning: \n",
      "A value is trying to be set on a copy of a slice from a DataFrame.\n",
      "Try using .loc[row_indexer,col_indexer] = value instead\n",
      "\n",
      "See the caveats in the documentation: https://pandas.pydata.org/pandas-docs/stable/user_guide/indexing.html#returning-a-view-versus-a-copy\n",
      "  data.hashtags=['' if [] == d else ' '.join([remove_special_characters(w) for w in d]) for d in data.hashtags]\n"
     ]
    }
   ],
   "source": [
    "data.hashtags=['' if [] == d else ' '.join([remove_special_characters(w) for w in d]) for d in data.hashtags]"
   ]
  },
  {
   "cell_type": "code",
   "execution_count": 41,
   "id": "8ba67e6f-6426-44aa-9f0b-b0d6a9454f46",
   "metadata": {},
   "outputs": [
    {
     "data": {
      "text/html": [
       "<div>\n",
       "<style scoped>\n",
       "    .dataframe tbody tr th:only-of-type {\n",
       "        vertical-align: middle;\n",
       "    }\n",
       "\n",
       "    .dataframe tbody tr th {\n",
       "        vertical-align: top;\n",
       "    }\n",
       "\n",
       "    .dataframe thead th {\n",
       "        text-align: right;\n",
       "    }\n",
       "</style>\n",
       "<table border=\"1\" class=\"dataframe\">\n",
       "  <thead>\n",
       "    <tr style=\"text-align: right;\">\n",
       "      <th></th>\n",
       "      <th>text</th>\n",
       "      <th>target</th>\n",
       "      <th>hashtags</th>\n",
       "    </tr>\n",
       "  </thead>\n",
       "  <tbody>\n",
       "    <tr>\n",
       "      <th>0</th>\n",
       "      <td>communal violence in bhainsa telangana stones ...</td>\n",
       "      <td>1</td>\n",
       "      <td></td>\n",
       "    </tr>\n",
       "    <tr>\n",
       "      <th>1</th>\n",
       "      <td>telangana section  one hundred and forty four ...</td>\n",
       "      <td>1</td>\n",
       "      <td></td>\n",
       "    </tr>\n",
       "    <tr>\n",
       "      <th>2</th>\n",
       "      <td>arsonist sets cars ablaze at dealership</td>\n",
       "      <td>1</td>\n",
       "      <td></td>\n",
       "    </tr>\n",
       "    <tr>\n",
       "      <th>3</th>\n",
       "      <td>arsonist sets cars ablaze at dealership</td>\n",
       "      <td>1</td>\n",
       "      <td></td>\n",
       "    </tr>\n",
       "    <tr>\n",
       "      <th>4</th>\n",
       "      <td>lord jesus your love brings freedom and pardon...</td>\n",
       "      <td>0</td>\n",
       "      <td></td>\n",
       "    </tr>\n",
       "    <tr>\n",
       "      <th>...</th>\n",
       "      <td>...</td>\n",
       "      <td>...</td>\n",
       "      <td>...</td>\n",
       "    </tr>\n",
       "    <tr>\n",
       "      <th>11365</th>\n",
       "      <td>media should have warned us well in advance th...</td>\n",
       "      <td>0</td>\n",
       "      <td></td>\n",
       "    </tr>\n",
       "    <tr>\n",
       "      <th>11366</th>\n",
       "      <td>i feel directly attacked  i consider moonbin a...</td>\n",
       "      <td>0</td>\n",
       "      <td></td>\n",
       "    </tr>\n",
       "    <tr>\n",
       "      <th>11367</th>\n",
       "      <td>i feel directly attacked  i consider moonbin a...</td>\n",
       "      <td>0</td>\n",
       "      <td></td>\n",
       "    </tr>\n",
       "    <tr>\n",
       "      <th>11368</th>\n",
       "      <td>ok who remember outcast nd the dora au those a...</td>\n",
       "      <td>0</td>\n",
       "      <td></td>\n",
       "    </tr>\n",
       "    <tr>\n",
       "      <th>11369</th>\n",
       "      <td>jake corway wrecked while running  fourteen th...</td>\n",
       "      <td>1</td>\n",
       "      <td></td>\n",
       "    </tr>\n",
       "  </tbody>\n",
       "</table>\n",
       "<p>10938 rows × 3 columns</p>\n",
       "</div>"
      ],
      "text/plain": [
       "                                                    text  target hashtags\n",
       "0      communal violence in bhainsa telangana stones ...       1         \n",
       "1      telangana section  one hundred and forty four ...       1         \n",
       "2               arsonist sets cars ablaze at dealership        1         \n",
       "3              arsonist sets cars ablaze at dealership         1         \n",
       "4      lord jesus your love brings freedom and pardon...       0         \n",
       "...                                                  ...     ...      ...\n",
       "11365  media should have warned us well in advance th...       0         \n",
       "11366  i feel directly attacked  i consider moonbin a...       0         \n",
       "11367  i feel directly attacked  i consider moonbin a...       0         \n",
       "11368  ok who remember outcast nd the dora au those a...       0         \n",
       "11369  jake corway wrecked while running  fourteen th...       1         \n",
       "\n",
       "[10938 rows x 3 columns]"
      ]
     },
     "execution_count": 41,
     "metadata": {},
     "output_type": "execute_result"
    }
   ],
   "source": [
    "data"
   ]
  },
  {
   "cell_type": "code",
   "execution_count": 42,
   "id": "dc908df9-9d8d-4dd4-b7ee-f12d18a49315",
   "metadata": {},
   "outputs": [
    {
     "data": {
      "text/plain": [
       "target\n",
       "0    8991\n",
       "1    1947\n",
       "Name: count, dtype: int64"
      ]
     },
     "execution_count": 42,
     "metadata": {},
     "output_type": "execute_result"
    }
   ],
   "source": [
    "data.target.value_counts()"
   ]
  },
  {
   "cell_type": "code",
   "execution_count": 43,
   "id": "975a0f2b-7003-4f09-870a-e1825312113a",
   "metadata": {},
   "outputs": [],
   "source": [
    "sentences=data.text"
   ]
  },
  {
   "cell_type": "markdown",
   "id": "8f51eaf2-289e-4367-9ed2-8a2eb85e19cf",
   "metadata": {
    "tags": []
   },
   "source": [
    "# 7. Lemmatization"
   ]
  },
  {
   "cell_type": "code",
   "execution_count": 44,
   "id": "3dc4fbff-ff6e-405c-9f18-8c9ffef804d3",
   "metadata": {},
   "outputs": [],
   "source": [
    "def lemmatize_text(preprocessed_text):\n",
    "    def get_wordnet_pos(word):\n",
    "        \"\"\"Map POS tag to first character lemmatize() accepts\"\"\"\n",
    "        tag = nltk.pos_tag([word])[0][1][0].upper()\n",
    "        # print(tag)\n",
    "        tag_dict = {\"J\": wordnet.ADJ,\n",
    "                    \"N\": wordnet.NOUN,\n",
    "                    \"V\": wordnet.VERB,\n",
    "                    \"R\": wordnet.ADV}\n",
    "        return tag_dict.get(tag, wordnet.NOUN)\n",
    "    # 1. Init Lemmatizer\n",
    "    lemmatizer = WordNetLemmatizer()\n",
    "   # 2. Lemmatize a Sentence with the appropriate POS tag\n",
    "    lemmatized_text=[lemmatizer.lemmatize(w, get_wordnet_pos(w)) for w in nltk.word_tokenize(preprocessed_text)]\n",
    "    # The final processed set of words for each iteration will be stored in 'text_final'\n",
    "    text_final=(\" \".join( lemmatized_text ))\n",
    "    return text_final"
   ]
  },
  {
   "cell_type": "code",
   "execution_count": 45,
   "id": "08520a94-0e8b-4d9b-b754-d24ae3046099",
   "metadata": {},
   "outputs": [
    {
     "name": "stderr",
     "output_type": "stream",
     "text": [
      "100%|████████████████████████████████████| 10938/10938 [00:18<00:00, 592.32it/s]\n"
     ]
    }
   ],
   "source": [
    "ans=[]\n",
    "for x in tqdm(sentences,total=len(sentences)):\n",
    "    ans.append(lemmatize_text(x))"
   ]
  },
  {
   "cell_type": "code",
   "execution_count": 46,
   "id": "686339ad-e656-4680-8326-4d3f0ba1d138",
   "metadata": {},
   "outputs": [],
   "source": [
    "sentences=ans.copy()"
   ]
  },
  {
   "cell_type": "code",
   "execution_count": 47,
   "id": "3ffb002c-b638-4d95-a371-7b7583f7abde",
   "metadata": {},
   "outputs": [
    {
     "name": "stderr",
     "output_type": "stream",
     "text": [
      "/var/folders/0h/j84rsdwd49jbw1_d04_c5b3r0000gn/T/ipykernel_20548/3771718101.py:1: SettingWithCopyWarning: \n",
      "A value is trying to be set on a copy of a slice from a DataFrame.\n",
      "Try using .loc[row_indexer,col_indexer] = value instead\n",
      "\n",
      "See the caveats in the documentation: https://pandas.pydata.org/pandas-docs/stable/user_guide/indexing.html#returning-a-view-versus-a-copy\n",
      "  data.text=sentences\n"
     ]
    }
   ],
   "source": [
    "data.text=sentences"
   ]
  },
  {
   "cell_type": "markdown",
   "id": "2014e368-c776-494f-bb39-09c4a04d8816",
   "metadata": {
    "tags": []
   },
   "source": [
    "# 8. Stopwords Removal"
   ]
  },
  {
   "cell_type": "code",
   "execution_count": 48,
   "id": "f5213210-f36c-46ff-899d-6edeabcc9463",
   "metadata": {},
   "outputs": [],
   "source": [
    "# stopword removal"
   ]
  },
  {
   "cell_type": "code",
   "execution_count": 49,
   "id": "1cd582ef-2573-4e94-9d85-91d236104adf",
   "metadata": {},
   "outputs": [],
   "source": [
    "stop_words=stopwords.words('english')"
   ]
  },
  {
   "cell_type": "code",
   "execution_count": 50,
   "id": "03481ff0-18df-4413-a81d-b76d1fb66896",
   "metadata": {},
   "outputs": [],
   "source": [
    "sentences=[' '.join([word for word in x.split() if word not in stop_words]) for x in sentences]"
   ]
  },
  {
   "cell_type": "code",
   "execution_count": 51,
   "id": "555777a8-ed17-4c7b-bfdd-f7daae01a58b",
   "metadata": {},
   "outputs": [
    {
     "name": "stderr",
     "output_type": "stream",
     "text": [
      "/var/folders/0h/j84rsdwd49jbw1_d04_c5b3r0000gn/T/ipykernel_20548/3771718101.py:1: SettingWithCopyWarning: \n",
      "A value is trying to be set on a copy of a slice from a DataFrame.\n",
      "Try using .loc[row_indexer,col_indexer] = value instead\n",
      "\n",
      "See the caveats in the documentation: https://pandas.pydata.org/pandas-docs/stable/user_guide/indexing.html#returning-a-view-versus-a-copy\n",
      "  data.text=sentences\n"
     ]
    }
   ],
   "source": [
    "data.text=sentences"
   ]
  },
  {
   "cell_type": "code",
   "execution_count": 52,
   "id": "427d9293-6cc5-4629-b8a3-b3cd69397094",
   "metadata": {},
   "outputs": [
    {
     "data": {
      "text/plain": [
       "0        communal violence bhainsa telangana stone pelt...\n",
       "1        telangana section one hundred forty four impos...\n",
       "2                       arsonist set car ablaze dealership\n",
       "3                       arsonist set car ablaze dealership\n",
       "4        lord jesus love brings freedom pardon fill hol...\n",
       "                               ...                        \n",
       "11365    medium warn u well advance wreck whole night r...\n",
       "11366    feel directly attack consider moonbin amp jinj...\n",
       "11367    feel directly attack consider moonbin amp jinj...\n",
       "11368    ok remember outcast nd dora au au wreck nerve ...\n",
       "11369                jake corway wreck run fourteen th irp\n",
       "Name: text, Length: 10938, dtype: object"
      ]
     },
     "execution_count": 52,
     "metadata": {},
     "output_type": "execute_result"
    }
   ],
   "source": [
    "data.text"
   ]
  },
  {
   "cell_type": "code",
   "execution_count": null,
   "id": "b75ba340-00a3-42b3-8cc9-b7a8837c0ecf",
   "metadata": {},
   "outputs": [],
   "source": []
  },
  {
   "cell_type": "markdown",
   "id": "d91fbf83-0179-45c9-87f5-0d26f014eb66",
   "metadata": {
    "tags": []
   },
   "source": [
    "# 9. Classification"
   ]
  },
  {
   "cell_type": "markdown",
   "id": "09298c4c-9641-4434-83f0-84bad0c94e71",
   "metadata": {},
   "source": [
    "## 9.1. Count Vectorizer"
   ]
  },
  {
   "cell_type": "code",
   "execution_count": 146,
   "id": "c5507ebf-f152-4d3e-83ea-f21e8a2869aa",
   "metadata": {
    "scrolled": true,
    "tags": []
   },
   "outputs": [],
   "source": [
    "train_size = 0.6\n",
    "test_size = 0.2\n",
    "dev_size = 0.2\n",
    "\n",
    "df_train, temp_df = train_test_split(data, test_size=(test_size + dev_size), random_state=42)\n",
    "df_test, df_dev = train_test_split(temp_df, test_size=(dev_size / (test_size + dev_size)), random_state=42)\n"
   ]
  },
  {
   "cell_type": "code",
   "execution_count": null,
   "id": "9e59cec7-01bf-48d6-9851-500e9311fdb9",
   "metadata": {},
   "outputs": [],
   "source": []
  },
  {
   "cell_type": "code",
   "execution_count": 147,
   "id": "b11fcee7-3486-4f82-98c1-08e3db8229ca",
   "metadata": {},
   "outputs": [],
   "source": [
    "# max_df: ignore terms that have a document frequency strictly higher than 0.09\n",
    "# min_df: ignore terms that have a document frequency strictly lower than 0.001\n",
    "# ngram_range: Take unigram,bigrams and trigrams\n",
    "vectorizer = CountVectorizer(ngram_range=(1,3))\n",
    "vectorizer2 = CountVectorizer(ngram_range=(1,3))"
   ]
  },
  {
   "cell_type": "code",
   "execution_count": 148,
   "id": "bef5270b-72d5-48a1-8478-554d9999b8cc",
   "metadata": {},
   "outputs": [],
   "source": [
    "matrix = vectorizer.fit_transform(df_train['text'])"
   ]
  },
  {
   "cell_type": "code",
   "execution_count": 149,
   "id": "225d43e9-756b-4c04-bbef-08a6a3aaba26",
   "metadata": {},
   "outputs": [],
   "source": [
    "countv_train=pd.DataFrame(matrix.toarray(),columns=vectorizer.get_feature_names_out())"
   ]
  },
  {
   "cell_type": "code",
   "execution_count": 150,
   "id": "884998f4-7393-4579-9a47-645851ab3e5e",
   "metadata": {},
   "outputs": [],
   "source": [
    "matrix2 = vectorizer2.fit_transform(df_train['hashtags'])"
   ]
  },
  {
   "cell_type": "code",
   "execution_count": 151,
   "id": "e9f05813-4212-4cbf-a554-c1fb08ac6326",
   "metadata": {},
   "outputs": [],
   "source": [
    "countv_train2=pd.DataFrame(matrix2.toarray(),columns=vectorizer2.get_feature_names_out())"
   ]
  },
  {
   "cell_type": "code",
   "execution_count": 152,
   "id": "571a32c5-a4b1-47a8-9444-ad01025bf332",
   "metadata": {},
   "outputs": [
    {
     "name": "stdout",
     "output_type": "stream",
     "text": [
      "Requirement already satisfied: imbalanced-learn in ./iLab-env/lib/python3.8/site-packages (0.11.0)\n",
      "Requirement already satisfied: numpy>=1.17.3 in ./iLab-env/lib/python3.8/site-packages (from imbalanced-learn) (1.24.4)\n",
      "Requirement already satisfied: scipy>=1.5.0 in ./iLab-env/lib/python3.8/site-packages (from imbalanced-learn) (1.10.1)\n",
      "Requirement already satisfied: scikit-learn>=1.0.2 in ./iLab-env/lib/python3.8/site-packages (from imbalanced-learn) (1.3.0)\n",
      "Requirement already satisfied: joblib>=1.1.1 in ./iLab-env/lib/python3.8/site-packages (from imbalanced-learn) (1.3.2)\n",
      "Requirement already satisfied: threadpoolctl>=2.0.0 in ./iLab-env/lib/python3.8/site-packages (from imbalanced-learn) (3.2.0)\n",
      "Note: you may need to restart the kernel to use updated packages.\n"
     ]
    }
   ],
   "source": [
    "%pip install imbalanced-learn\n"
   ]
  },
  {
   "cell_type": "code",
   "execution_count": null,
   "id": "7262d0c5-ec0e-4fd3-b565-c4283c87f700",
   "metadata": {},
   "outputs": [],
   "source": []
  },
  {
   "cell_type": "code",
   "execution_count": 153,
   "id": "c6b0cd26-a2e3-4054-a99b-3d2331ce18a4",
   "metadata": {},
   "outputs": [],
   "source": [
    "labels_train=df_train.target"
   ]
  },
  {
   "cell_type": "code",
   "execution_count": 154,
   "id": "715ddd83-fe71-490b-a9a2-04d39f0ce1de",
   "metadata": {},
   "outputs": [],
   "source": [
    "countv_train_3=pd.concat([countv_train, countv_train2], axis=1)\n"
   ]
  },
  {
   "cell_type": "code",
   "execution_count": 157,
   "id": "1d7de538-75ba-4049-ab74-61a8247a668c",
   "metadata": {},
   "outputs": [],
   "source": [
    "smote = SMOTE(sampling_strategy='auto', random_state=42)\n"
   ]
  },
  {
   "cell_type": "code",
   "execution_count": 158,
   "id": "e504ae0d-e7f1-41b0-86bd-59f1d897ec98",
   "metadata": {},
   "outputs": [],
   "source": [
    "X_resampled, y_resampled = smote.fit_resample(countv_train_3, labels_train)\n"
   ]
  },
  {
   "cell_type": "code",
   "execution_count": 163,
   "id": "7b93600a-909f-4e42-a49d-10433fb63a75",
   "metadata": {},
   "outputs": [
    {
     "data": {
      "text/plain": [
       "target\n",
       "0    5422\n",
       "1    5422\n",
       "Name: count, dtype: int64"
      ]
     },
     "execution_count": 163,
     "metadata": {},
     "output_type": "execute_result"
    }
   ],
   "source": [
    "y_resampled.value_counts()"
   ]
  },
  {
   "cell_type": "code",
   "execution_count": 164,
   "id": "766a6c35-ab69-47de-b323-23b93dde5d02",
   "metadata": {},
   "outputs": [
    {
     "data": {
      "text/html": [
       "<style>#sk-container-id-5 {color: black;}#sk-container-id-5 pre{padding: 0;}#sk-container-id-5 div.sk-toggleable {background-color: white;}#sk-container-id-5 label.sk-toggleable__label {cursor: pointer;display: block;width: 100%;margin-bottom: 0;padding: 0.3em;box-sizing: border-box;text-align: center;}#sk-container-id-5 label.sk-toggleable__label-arrow:before {content: \"▸\";float: left;margin-right: 0.25em;color: #696969;}#sk-container-id-5 label.sk-toggleable__label-arrow:hover:before {color: black;}#sk-container-id-5 div.sk-estimator:hover label.sk-toggleable__label-arrow:before {color: black;}#sk-container-id-5 div.sk-toggleable__content {max-height: 0;max-width: 0;overflow: hidden;text-align: left;background-color: #f0f8ff;}#sk-container-id-5 div.sk-toggleable__content pre {margin: 0.2em;color: black;border-radius: 0.25em;background-color: #f0f8ff;}#sk-container-id-5 input.sk-toggleable__control:checked~div.sk-toggleable__content {max-height: 200px;max-width: 100%;overflow: auto;}#sk-container-id-5 input.sk-toggleable__control:checked~label.sk-toggleable__label-arrow:before {content: \"▾\";}#sk-container-id-5 div.sk-estimator input.sk-toggleable__control:checked~label.sk-toggleable__label {background-color: #d4ebff;}#sk-container-id-5 div.sk-label input.sk-toggleable__control:checked~label.sk-toggleable__label {background-color: #d4ebff;}#sk-container-id-5 input.sk-hidden--visually {border: 0;clip: rect(1px 1px 1px 1px);clip: rect(1px, 1px, 1px, 1px);height: 1px;margin: -1px;overflow: hidden;padding: 0;position: absolute;width: 1px;}#sk-container-id-5 div.sk-estimator {font-family: monospace;background-color: #f0f8ff;border: 1px dotted black;border-radius: 0.25em;box-sizing: border-box;margin-bottom: 0.5em;}#sk-container-id-5 div.sk-estimator:hover {background-color: #d4ebff;}#sk-container-id-5 div.sk-parallel-item::after {content: \"\";width: 100%;border-bottom: 1px solid gray;flex-grow: 1;}#sk-container-id-5 div.sk-label:hover label.sk-toggleable__label {background-color: #d4ebff;}#sk-container-id-5 div.sk-serial::before {content: \"\";position: absolute;border-left: 1px solid gray;box-sizing: border-box;top: 0;bottom: 0;left: 50%;z-index: 0;}#sk-container-id-5 div.sk-serial {display: flex;flex-direction: column;align-items: center;background-color: white;padding-right: 0.2em;padding-left: 0.2em;position: relative;}#sk-container-id-5 div.sk-item {position: relative;z-index: 1;}#sk-container-id-5 div.sk-parallel {display: flex;align-items: stretch;justify-content: center;background-color: white;position: relative;}#sk-container-id-5 div.sk-item::before, #sk-container-id-5 div.sk-parallel-item::before {content: \"\";position: absolute;border-left: 1px solid gray;box-sizing: border-box;top: 0;bottom: 0;left: 50%;z-index: -1;}#sk-container-id-5 div.sk-parallel-item {display: flex;flex-direction: column;z-index: 1;position: relative;background-color: white;}#sk-container-id-5 div.sk-parallel-item:first-child::after {align-self: flex-end;width: 50%;}#sk-container-id-5 div.sk-parallel-item:last-child::after {align-self: flex-start;width: 50%;}#sk-container-id-5 div.sk-parallel-item:only-child::after {width: 0;}#sk-container-id-5 div.sk-dashed-wrapped {border: 1px dashed gray;margin: 0 0.4em 0.5em 0.4em;box-sizing: border-box;padding-bottom: 0.4em;background-color: white;}#sk-container-id-5 div.sk-label label {font-family: monospace;font-weight: bold;display: inline-block;line-height: 1.2em;}#sk-container-id-5 div.sk-label-container {text-align: center;}#sk-container-id-5 div.sk-container {/* jupyter's `normalize.less` sets `[hidden] { display: none; }` but bootstrap.min.css set `[hidden] { display: none !important; }` so we also need the `!important` here to be able to override the default hidden behavior on the sphinx rendered scikit-learn.org. See: https://github.com/scikit-learn/scikit-learn/issues/21755 */display: inline-block !important;position: relative;}#sk-container-id-5 div.sk-text-repr-fallback {display: none;}</style><div id=\"sk-container-id-5\" class=\"sk-top-container\"><div class=\"sk-text-repr-fallback\"><pre>RandomForestClassifier(max_depth=140, min_samples_split=30, n_estimators=133,\n",
       "                       random_state=15)</pre><b>In a Jupyter environment, please rerun this cell to show the HTML representation or trust the notebook. <br />On GitHub, the HTML representation is unable to render, please try loading this page with nbviewer.org.</b></div><div class=\"sk-container\" hidden><div class=\"sk-item\"><div class=\"sk-estimator sk-toggleable\"><input class=\"sk-toggleable__control sk-hidden--visually\" id=\"sk-estimator-id-5\" type=\"checkbox\" checked><label for=\"sk-estimator-id-5\" class=\"sk-toggleable__label sk-toggleable__label-arrow\">RandomForestClassifier</label><div class=\"sk-toggleable__content\"><pre>RandomForestClassifier(max_depth=140, min_samples_split=30, n_estimators=133,\n",
       "                       random_state=15)</pre></div></div></div></div></div>"
      ],
      "text/plain": [
       "RandomForestClassifier(max_depth=140, min_samples_split=30, n_estimators=133,\n",
       "                       random_state=15)"
      ]
     },
     "execution_count": 164,
     "metadata": {},
     "output_type": "execute_result"
    }
   ],
   "source": [
    "rf_classifier=RandomForestClassifier(n_estimators=133,min_samples_split=30,max_depth=140,random_state=15)\n",
    "rf_classifier.fit(X_resampled,y_resampled)"
   ]
  },
  {
   "cell_type": "code",
   "execution_count": 165,
   "id": "2a6590a4-97fa-443f-b942-878ee77b75ea",
   "metadata": {},
   "outputs": [],
   "source": [
    "pred_train=rf_classifier.predict(X_resampled)"
   ]
  },
  {
   "cell_type": "code",
   "execution_count": 166,
   "id": "bdfb9150-81eb-4947-8262-8ec7844e2edd",
   "metadata": {
    "tags": []
   },
   "outputs": [
    {
     "name": "stdout",
     "output_type": "stream",
     "text": [
      "Training accuracy is:  91.24861674658797\n"
     ]
    }
   ],
   "source": [
    "print('Training accuracy is: ',accuracy_score(y_resampled,pred_train)*100)"
   ]
  },
  {
   "cell_type": "code",
   "execution_count": 167,
   "id": "6c205dcb-ea4a-4c44-bf46-51eac9c3fa3f",
   "metadata": {},
   "outputs": [],
   "source": [
    "# Validation Set\n",
    "matrix = vectorizer.transform(df_dev['text'])\n",
    "countv_dev=pd.DataFrame(matrix.toarray(),columns=vectorizer.get_feature_names_out())"
   ]
  },
  {
   "cell_type": "code",
   "execution_count": 168,
   "id": "3faa0c75-9f32-43ef-a989-7c6aef864212",
   "metadata": {},
   "outputs": [],
   "source": [
    "matrix2 = vectorizer2.transform(df_dev['hashtags'])\n",
    "countv_dev2=pd.DataFrame(matrix2.toarray(),columns=vectorizer2.get_feature_names_out())"
   ]
  },
  {
   "cell_type": "code",
   "execution_count": 169,
   "id": "f3d9ae68-06f7-4d57-a598-d1615feb210d",
   "metadata": {},
   "outputs": [],
   "source": [
    "countv_dev_3=pd.concat([countv_dev, countv_dev2], axis=1)\n"
   ]
  },
  {
   "cell_type": "code",
   "execution_count": 170,
   "id": "83d30554-460b-4f5c-8fcc-e1c71a936eda",
   "metadata": {},
   "outputs": [],
   "source": [
    "labels_dev=df_dev.target"
   ]
  },
  {
   "cell_type": "code",
   "execution_count": null,
   "id": "8180d251-b0c2-4494-8e5f-98a8dbe13193",
   "metadata": {},
   "outputs": [],
   "source": []
  },
  {
   "cell_type": "code",
   "execution_count": 171,
   "id": "80603117-fe46-4050-897e-7b54bf8089aa",
   "metadata": {},
   "outputs": [],
   "source": [
    "pred_dev=rf_classifier.predict(countv_dev_3)"
   ]
  },
  {
   "cell_type": "code",
   "execution_count": 172,
   "id": "ae7f4a0a-babd-4cb9-ba0e-b89a5c3d49d4",
   "metadata": {},
   "outputs": [
    {
     "name": "stdout",
     "output_type": "stream",
     "text": [
      "Validation accuracy is:  76.96526508226691\n"
     ]
    }
   ],
   "source": [
    "print('Validation accuracy is: ',accuracy_score(labels_dev,pred_dev)*100)"
   ]
  },
  {
   "cell_type": "code",
   "execution_count": null,
   "id": "1f8d185b-eef5-45d3-90c0-ad65038451f6",
   "metadata": {},
   "outputs": [],
   "source": []
  },
  {
   "cell_type": "code",
   "execution_count": 173,
   "id": "27f57447-b089-48aa-8120-948daea1d4fe",
   "metadata": {},
   "outputs": [],
   "source": [
    "# Testing Set\n",
    "matrix = vectorizer.transform(df_test['text'])\n",
    "countv_test=pd.DataFrame(matrix.toarray(),columns=vectorizer.get_feature_names_out())"
   ]
  },
  {
   "cell_type": "code",
   "execution_count": 174,
   "id": "6d6a96be-8e1a-417c-8050-122315b6687f",
   "metadata": {},
   "outputs": [],
   "source": [
    "matrix2 = vectorizer2.transform(df_test['hashtags'])\n",
    "countv_test2=pd.DataFrame(matrix2.toarray(),columns=vectorizer2.get_feature_names_out())"
   ]
  },
  {
   "cell_type": "code",
   "execution_count": 175,
   "id": "09a9dc2b-93b9-4013-954c-fcbe0d1b85bb",
   "metadata": {},
   "outputs": [],
   "source": [
    "countv_test_3=pd.concat([countv_test, countv_test2], axis=1)\n"
   ]
  },
  {
   "cell_type": "code",
   "execution_count": 176,
   "id": "cee1a2d7-7dea-434c-8360-02d24a3c4ff3",
   "metadata": {},
   "outputs": [],
   "source": [
    "labels_test=df_test.target"
   ]
  },
  {
   "cell_type": "code",
   "execution_count": 177,
   "id": "bab10b0d-9a0a-42a9-8213-c0efea4c8ba5",
   "metadata": {},
   "outputs": [],
   "source": [
    "pred_test=rf_classifier.predict(countv_test_3)"
   ]
  },
  {
   "cell_type": "code",
   "execution_count": 178,
   "id": "be70b1af-03a3-4888-9da8-4916fe753093",
   "metadata": {},
   "outputs": [
    {
     "name": "stdout",
     "output_type": "stream",
     "text": [
      "Testing accuracy is:  76.05118829981718\n"
     ]
    }
   ],
   "source": [
    "print('Testing accuracy is: ',accuracy_score(labels_test,pred_test)*100)"
   ]
  },
  {
   "cell_type": "code",
   "execution_count": 179,
   "id": "ebe30900-128c-4721-8ad2-64a349d4ce4b",
   "metadata": {},
   "outputs": [
    {
     "name": "stdout",
     "output_type": "stream",
     "text": [
      "Precision: 0.348643006263048\n",
      "Recall: 0.44063324538258575\n",
      "F1-score: 0.3892773892773893\n"
     ]
    }
   ],
   "source": [
    "precision = precision_score(labels_test,pred_test)\n",
    "recall = recall_score(labels_test,pred_test)\n",
    "f1 = f1_score(labels_test,pred_test)\n",
    "\n",
    "print(\"Precision:\", precision)\n",
    "print(\"Recall:\", recall)\n",
    "print(\"F1-score:\", f1)"
   ]
  },
  {
   "cell_type": "markdown",
   "id": "7c14231d-53d6-4164-9c70-76ec63f42105",
   "metadata": {},
   "source": [
    "## 9.2. TFIDF"
   ]
  },
  {
   "cell_type": "code",
   "execution_count": 180,
   "id": "6d895ed9-a895-4d7c-927f-55fca9dd4668",
   "metadata": {
    "scrolled": true,
    "tags": []
   },
   "outputs": [],
   "source": [
    "train_size = 0.6\n",
    "test_size = 0.2\n",
    "dev_size = 0.2\n",
    "\n",
    "df_train, temp_df = train_test_split(data, test_size=(test_size + dev_size), random_state=42)\n",
    "df_test, df_dev = train_test_split(temp_df, test_size=(dev_size / (test_size + dev_size)), random_state=42)\n"
   ]
  },
  {
   "cell_type": "code",
   "execution_count": null,
   "id": "09e3bc5e-5862-4a48-b55c-61380d51f077",
   "metadata": {},
   "outputs": [],
   "source": []
  },
  {
   "cell_type": "code",
   "execution_count": 181,
   "id": "ea54b1a8-1613-484b-aae3-b65d9bc29e8a",
   "metadata": {},
   "outputs": [],
   "source": [
    "# max_df: ignore terms that have a document frequency strictly higher than 0.09\n",
    "# min_df: ignore terms that have a document frequency strictly lower than 0.001\n",
    "# ngram_range: Take unigram,bigrams and trigrams\n",
    "vectorizer = TfidfVectorizer(ngram_range=(1,3))\n",
    "vectorizer2 = TfidfVectorizer(ngram_range=(1,3))"
   ]
  },
  {
   "cell_type": "code",
   "execution_count": 182,
   "id": "d5557b79-d7af-4fd8-bada-2d43f3fb50a7",
   "metadata": {},
   "outputs": [],
   "source": [
    "matrix = vectorizer.fit_transform(df_train['text'])"
   ]
  },
  {
   "cell_type": "code",
   "execution_count": 183,
   "id": "542d9c48-39f0-41a3-8fd1-f731766ff7d4",
   "metadata": {},
   "outputs": [],
   "source": [
    "countv_train=pd.DataFrame(matrix.toarray(),columns=vectorizer.get_feature_names_out())"
   ]
  },
  {
   "cell_type": "code",
   "execution_count": 184,
   "id": "637f18da-4a46-42c5-add6-a8c6f52847e0",
   "metadata": {},
   "outputs": [],
   "source": [
    "matrix2 = vectorizer2.fit_transform(df_train['hashtags'])"
   ]
  },
  {
   "cell_type": "code",
   "execution_count": 185,
   "id": "f7773a0d-1dfb-40f1-82c3-03a383ef33a7",
   "metadata": {},
   "outputs": [],
   "source": [
    "countv_train2=pd.DataFrame(matrix2.toarray(),columns=vectorizer2.get_feature_names_out())"
   ]
  },
  {
   "cell_type": "code",
   "execution_count": 186,
   "id": "ff5d472b-5af4-49b6-9bee-af1fdfe63358",
   "metadata": {},
   "outputs": [
    {
     "data": {
      "text/html": [
       "<div>\n",
       "<style scoped>\n",
       "    .dataframe tbody tr th:only-of-type {\n",
       "        vertical-align: middle;\n",
       "    }\n",
       "\n",
       "    .dataframe tbody tr th {\n",
       "        vertical-align: top;\n",
       "    }\n",
       "\n",
       "    .dataframe thead th {\n",
       "        text-align: right;\n",
       "    }\n",
       "</style>\n",
       "<table border=\"1\" class=\"dataframe\">\n",
       "  <thead>\n",
       "    <tr style=\"text-align: right;\">\n",
       "      <th></th>\n",
       "      <th>text</th>\n",
       "      <th>target</th>\n",
       "      <th>hashtags</th>\n",
       "    </tr>\n",
       "  </thead>\n",
       "  <tbody>\n",
       "    <tr>\n",
       "      <th>3291</th>\n",
       "      <td>hubris pronounce like debris pronounce like</td>\n",
       "      <td>0</td>\n",
       "      <td></td>\n",
       "    </tr>\n",
       "    <tr>\n",
       "      <th>10094</th>\n",
       "      <td>u official involve embassy security say notify...</td>\n",
       "      <td>1</td>\n",
       "      <td></td>\n",
       "    </tr>\n",
       "    <tr>\n",
       "      <th>4306</th>\n",
       "      <td>use resource build pipeline water rich fnq dro...</td>\n",
       "      <td>0</td>\n",
       "      <td></td>\n",
       "    </tr>\n",
       "    <tr>\n",
       "      <th>11077</th>\n",
       "      <td>drawing people</td>\n",
       "      <td>0</td>\n",
       "      <td></td>\n",
       "    </tr>\n",
       "    <tr>\n",
       "      <th>7144</th>\n",
       "      <td>two thousand thirteen roulot luchets meursault...</td>\n",
       "      <td>0</td>\n",
       "      <td></td>\n",
       "    </tr>\n",
       "    <tr>\n",
       "      <th>...</th>\n",
       "      <td>...</td>\n",
       "      <td>...</td>\n",
       "      <td>...</td>\n",
       "    </tr>\n",
       "    <tr>\n",
       "      <th>5924</th>\n",
       "      <td>book hear amp discus fifteen mar</td>\n",
       "      <td>0</td>\n",
       "      <td>Floods RisingWaters Essex AllAtSea</td>\n",
       "    </tr>\n",
       "    <tr>\n",
       "      <th>5350</th>\n",
       "      <td>malaysia master winner suffer cut wholebody br...</td>\n",
       "      <td>1</td>\n",
       "      <td>FMTNews Badminton</td>\n",
       "    </tr>\n",
       "    <tr>\n",
       "      <th>5558</th>\n",
       "      <td>point surely reach top point penny start drop ...</td>\n",
       "      <td>0</td>\n",
       "      <td></td>\n",
       "    </tr>\n",
       "    <tr>\n",
       "      <th>886</th>\n",
       "      <td>one thousand , six hundred two mile teach gun ...</td>\n",
       "      <td>0</td>\n",
       "      <td></td>\n",
       "    </tr>\n",
       "    <tr>\n",
       "      <th>7511</th>\n",
       "      <td>devastate image emerge show scale deforestatio...</td>\n",
       "      <td>0</td>\n",
       "      <td>WestPapua</td>\n",
       "    </tr>\n",
       "  </tbody>\n",
       "</table>\n",
       "<p>6562 rows × 3 columns</p>\n",
       "</div>"
      ],
      "text/plain": [
       "                                                    text  target  \\\n",
       "3291         hubris pronounce like debris pronounce like       0   \n",
       "10094  u official involve embassy security say notify...       1   \n",
       "4306   use resource build pipeline water rich fnq dro...       0   \n",
       "11077                                     drawing people       0   \n",
       "7144   two thousand thirteen roulot luchets meursault...       0   \n",
       "...                                                  ...     ...   \n",
       "5924                    book hear amp discus fifteen mar       0   \n",
       "5350   malaysia master winner suffer cut wholebody br...       1   \n",
       "5558   point surely reach top point penny start drop ...       0   \n",
       "886    one thousand , six hundred two mile teach gun ...       0   \n",
       "7511   devastate image emerge show scale deforestatio...       0   \n",
       "\n",
       "                                 hashtags  \n",
       "3291                                       \n",
       "10094                                      \n",
       "4306                                       \n",
       "11077                                      \n",
       "7144                                       \n",
       "...                                   ...  \n",
       "5924   Floods RisingWaters Essex AllAtSea  \n",
       "5350                    FMTNews Badminton  \n",
       "5558                                       \n",
       "886                                        \n",
       "7511                            WestPapua  \n",
       "\n",
       "[6562 rows x 3 columns]"
      ]
     },
     "execution_count": 186,
     "metadata": {},
     "output_type": "execute_result"
    }
   ],
   "source": [
    "df_train"
   ]
  },
  {
   "cell_type": "code",
   "execution_count": 187,
   "id": "86aba06c-70d1-49cb-bc32-b35cfbfcc78c",
   "metadata": {},
   "outputs": [],
   "source": [
    "labels_train=df_train.target"
   ]
  },
  {
   "cell_type": "code",
   "execution_count": 188,
   "id": "ada9d3c1-afba-4126-ba19-324590f6a231",
   "metadata": {},
   "outputs": [],
   "source": [
    "countv_train_3=pd.concat([countv_train, countv_train2], axis=1)\n"
   ]
  },
  {
   "cell_type": "code",
   "execution_count": 189,
   "id": "7937c519-43f2-4617-8b21-a846c6a48639",
   "metadata": {},
   "outputs": [
    {
     "name": "stderr",
     "output_type": "stream",
     "text": [
      "/Users/savinaysingh/Documents/SavinayUTS/iLab/Code/iLab-env/lib/python3.8/site-packages/threadpoolctl.py:1019: RuntimeWarning: libc not found. The ctypes module in Python 3.8 is maybe too old for this OS.\n",
      "  warnings.warn(\n"
     ]
    }
   ],
   "source": [
    "X_resampled, y_resampled = smote.fit_resample(countv_train_3, labels_train)\n"
   ]
  },
  {
   "cell_type": "code",
   "execution_count": 190,
   "id": "596ca71a-e0d6-4d14-80ef-67bed17a1a52",
   "metadata": {},
   "outputs": [
    {
     "data": {
      "text/html": [
       "<style>#sk-container-id-6 {color: black;}#sk-container-id-6 pre{padding: 0;}#sk-container-id-6 div.sk-toggleable {background-color: white;}#sk-container-id-6 label.sk-toggleable__label {cursor: pointer;display: block;width: 100%;margin-bottom: 0;padding: 0.3em;box-sizing: border-box;text-align: center;}#sk-container-id-6 label.sk-toggleable__label-arrow:before {content: \"▸\";float: left;margin-right: 0.25em;color: #696969;}#sk-container-id-6 label.sk-toggleable__label-arrow:hover:before {color: black;}#sk-container-id-6 div.sk-estimator:hover label.sk-toggleable__label-arrow:before {color: black;}#sk-container-id-6 div.sk-toggleable__content {max-height: 0;max-width: 0;overflow: hidden;text-align: left;background-color: #f0f8ff;}#sk-container-id-6 div.sk-toggleable__content pre {margin: 0.2em;color: black;border-radius: 0.25em;background-color: #f0f8ff;}#sk-container-id-6 input.sk-toggleable__control:checked~div.sk-toggleable__content {max-height: 200px;max-width: 100%;overflow: auto;}#sk-container-id-6 input.sk-toggleable__control:checked~label.sk-toggleable__label-arrow:before {content: \"▾\";}#sk-container-id-6 div.sk-estimator input.sk-toggleable__control:checked~label.sk-toggleable__label {background-color: #d4ebff;}#sk-container-id-6 div.sk-label input.sk-toggleable__control:checked~label.sk-toggleable__label {background-color: #d4ebff;}#sk-container-id-6 input.sk-hidden--visually {border: 0;clip: rect(1px 1px 1px 1px);clip: rect(1px, 1px, 1px, 1px);height: 1px;margin: -1px;overflow: hidden;padding: 0;position: absolute;width: 1px;}#sk-container-id-6 div.sk-estimator {font-family: monospace;background-color: #f0f8ff;border: 1px dotted black;border-radius: 0.25em;box-sizing: border-box;margin-bottom: 0.5em;}#sk-container-id-6 div.sk-estimator:hover {background-color: #d4ebff;}#sk-container-id-6 div.sk-parallel-item::after {content: \"\";width: 100%;border-bottom: 1px solid gray;flex-grow: 1;}#sk-container-id-6 div.sk-label:hover label.sk-toggleable__label {background-color: #d4ebff;}#sk-container-id-6 div.sk-serial::before {content: \"\";position: absolute;border-left: 1px solid gray;box-sizing: border-box;top: 0;bottom: 0;left: 50%;z-index: 0;}#sk-container-id-6 div.sk-serial {display: flex;flex-direction: column;align-items: center;background-color: white;padding-right: 0.2em;padding-left: 0.2em;position: relative;}#sk-container-id-6 div.sk-item {position: relative;z-index: 1;}#sk-container-id-6 div.sk-parallel {display: flex;align-items: stretch;justify-content: center;background-color: white;position: relative;}#sk-container-id-6 div.sk-item::before, #sk-container-id-6 div.sk-parallel-item::before {content: \"\";position: absolute;border-left: 1px solid gray;box-sizing: border-box;top: 0;bottom: 0;left: 50%;z-index: -1;}#sk-container-id-6 div.sk-parallel-item {display: flex;flex-direction: column;z-index: 1;position: relative;background-color: white;}#sk-container-id-6 div.sk-parallel-item:first-child::after {align-self: flex-end;width: 50%;}#sk-container-id-6 div.sk-parallel-item:last-child::after {align-self: flex-start;width: 50%;}#sk-container-id-6 div.sk-parallel-item:only-child::after {width: 0;}#sk-container-id-6 div.sk-dashed-wrapped {border: 1px dashed gray;margin: 0 0.4em 0.5em 0.4em;box-sizing: border-box;padding-bottom: 0.4em;background-color: white;}#sk-container-id-6 div.sk-label label {font-family: monospace;font-weight: bold;display: inline-block;line-height: 1.2em;}#sk-container-id-6 div.sk-label-container {text-align: center;}#sk-container-id-6 div.sk-container {/* jupyter's `normalize.less` sets `[hidden] { display: none; }` but bootstrap.min.css set `[hidden] { display: none !important; }` so we also need the `!important` here to be able to override the default hidden behavior on the sphinx rendered scikit-learn.org. See: https://github.com/scikit-learn/scikit-learn/issues/21755 */display: inline-block !important;position: relative;}#sk-container-id-6 div.sk-text-repr-fallback {display: none;}</style><div id=\"sk-container-id-6\" class=\"sk-top-container\"><div class=\"sk-text-repr-fallback\"><pre>RandomForestClassifier(max_depth=140, min_samples_split=30, n_estimators=133,\n",
       "                       random_state=15)</pre><b>In a Jupyter environment, please rerun this cell to show the HTML representation or trust the notebook. <br />On GitHub, the HTML representation is unable to render, please try loading this page with nbviewer.org.</b></div><div class=\"sk-container\" hidden><div class=\"sk-item\"><div class=\"sk-estimator sk-toggleable\"><input class=\"sk-toggleable__control sk-hidden--visually\" id=\"sk-estimator-id-6\" type=\"checkbox\" checked><label for=\"sk-estimator-id-6\" class=\"sk-toggleable__label sk-toggleable__label-arrow\">RandomForestClassifier</label><div class=\"sk-toggleable__content\"><pre>RandomForestClassifier(max_depth=140, min_samples_split=30, n_estimators=133,\n",
       "                       random_state=15)</pre></div></div></div></div></div>"
      ],
      "text/plain": [
       "RandomForestClassifier(max_depth=140, min_samples_split=30, n_estimators=133,\n",
       "                       random_state=15)"
      ]
     },
     "execution_count": 190,
     "metadata": {},
     "output_type": "execute_result"
    }
   ],
   "source": [
    "# 1\n",
    "rf_classifier=RandomForestClassifier(n_estimators=133,min_samples_split=30,max_depth=140,random_state=15)\n",
    "rf_classifier.fit(X_resampled,y_resampled)"
   ]
  },
  {
   "cell_type": "code",
   "execution_count": 224,
   "id": "c2bff8b7-e1d3-4538-8e8c-4d9baf3db492",
   "metadata": {},
   "outputs": [
    {
     "data": {
      "text/html": [
       "<style>#sk-container-id-8 {color: black;}#sk-container-id-8 pre{padding: 0;}#sk-container-id-8 div.sk-toggleable {background-color: white;}#sk-container-id-8 label.sk-toggleable__label {cursor: pointer;display: block;width: 100%;margin-bottom: 0;padding: 0.3em;box-sizing: border-box;text-align: center;}#sk-container-id-8 label.sk-toggleable__label-arrow:before {content: \"▸\";float: left;margin-right: 0.25em;color: #696969;}#sk-container-id-8 label.sk-toggleable__label-arrow:hover:before {color: black;}#sk-container-id-8 div.sk-estimator:hover label.sk-toggleable__label-arrow:before {color: black;}#sk-container-id-8 div.sk-toggleable__content {max-height: 0;max-width: 0;overflow: hidden;text-align: left;background-color: #f0f8ff;}#sk-container-id-8 div.sk-toggleable__content pre {margin: 0.2em;color: black;border-radius: 0.25em;background-color: #f0f8ff;}#sk-container-id-8 input.sk-toggleable__control:checked~div.sk-toggleable__content {max-height: 200px;max-width: 100%;overflow: auto;}#sk-container-id-8 input.sk-toggleable__control:checked~label.sk-toggleable__label-arrow:before {content: \"▾\";}#sk-container-id-8 div.sk-estimator input.sk-toggleable__control:checked~label.sk-toggleable__label {background-color: #d4ebff;}#sk-container-id-8 div.sk-label input.sk-toggleable__control:checked~label.sk-toggleable__label {background-color: #d4ebff;}#sk-container-id-8 input.sk-hidden--visually {border: 0;clip: rect(1px 1px 1px 1px);clip: rect(1px, 1px, 1px, 1px);height: 1px;margin: -1px;overflow: hidden;padding: 0;position: absolute;width: 1px;}#sk-container-id-8 div.sk-estimator {font-family: monospace;background-color: #f0f8ff;border: 1px dotted black;border-radius: 0.25em;box-sizing: border-box;margin-bottom: 0.5em;}#sk-container-id-8 div.sk-estimator:hover {background-color: #d4ebff;}#sk-container-id-8 div.sk-parallel-item::after {content: \"\";width: 100%;border-bottom: 1px solid gray;flex-grow: 1;}#sk-container-id-8 div.sk-label:hover label.sk-toggleable__label {background-color: #d4ebff;}#sk-container-id-8 div.sk-serial::before {content: \"\";position: absolute;border-left: 1px solid gray;box-sizing: border-box;top: 0;bottom: 0;left: 50%;z-index: 0;}#sk-container-id-8 div.sk-serial {display: flex;flex-direction: column;align-items: center;background-color: white;padding-right: 0.2em;padding-left: 0.2em;position: relative;}#sk-container-id-8 div.sk-item {position: relative;z-index: 1;}#sk-container-id-8 div.sk-parallel {display: flex;align-items: stretch;justify-content: center;background-color: white;position: relative;}#sk-container-id-8 div.sk-item::before, #sk-container-id-8 div.sk-parallel-item::before {content: \"\";position: absolute;border-left: 1px solid gray;box-sizing: border-box;top: 0;bottom: 0;left: 50%;z-index: -1;}#sk-container-id-8 div.sk-parallel-item {display: flex;flex-direction: column;z-index: 1;position: relative;background-color: white;}#sk-container-id-8 div.sk-parallel-item:first-child::after {align-self: flex-end;width: 50%;}#sk-container-id-8 div.sk-parallel-item:last-child::after {align-self: flex-start;width: 50%;}#sk-container-id-8 div.sk-parallel-item:only-child::after {width: 0;}#sk-container-id-8 div.sk-dashed-wrapped {border: 1px dashed gray;margin: 0 0.4em 0.5em 0.4em;box-sizing: border-box;padding-bottom: 0.4em;background-color: white;}#sk-container-id-8 div.sk-label label {font-family: monospace;font-weight: bold;display: inline-block;line-height: 1.2em;}#sk-container-id-8 div.sk-label-container {text-align: center;}#sk-container-id-8 div.sk-container {/* jupyter's `normalize.less` sets `[hidden] { display: none; }` but bootstrap.min.css set `[hidden] { display: none !important; }` so we also need the `!important` here to be able to override the default hidden behavior on the sphinx rendered scikit-learn.org. See: https://github.com/scikit-learn/scikit-learn/issues/21755 */display: inline-block !important;position: relative;}#sk-container-id-8 div.sk-text-repr-fallback {display: none;}</style><div id=\"sk-container-id-8\" class=\"sk-top-container\"><div class=\"sk-text-repr-fallback\"><pre>RandomForestClassifier(class_weight={0: 1, 1: 2}, max_depth=140,\n",
       "                       min_samples_split=30, n_estimators=133, random_state=15)</pre><b>In a Jupyter environment, please rerun this cell to show the HTML representation or trust the notebook. <br />On GitHub, the HTML representation is unable to render, please try loading this page with nbviewer.org.</b></div><div class=\"sk-container\" hidden><div class=\"sk-item\"><div class=\"sk-estimator sk-toggleable\"><input class=\"sk-toggleable__control sk-hidden--visually\" id=\"sk-estimator-id-8\" type=\"checkbox\" checked><label for=\"sk-estimator-id-8\" class=\"sk-toggleable__label sk-toggleable__label-arrow\">RandomForestClassifier</label><div class=\"sk-toggleable__content\"><pre>RandomForestClassifier(class_weight={0: 1, 1: 2}, max_depth=140,\n",
       "                       min_samples_split=30, n_estimators=133, random_state=15)</pre></div></div></div></div></div>"
      ],
      "text/plain": [
       "RandomForestClassifier(class_weight={0: 1, 1: 2}, max_depth=140,\n",
       "                       min_samples_split=30, n_estimators=133, random_state=15)"
      ]
     },
     "execution_count": 224,
     "metadata": {},
     "output_type": "execute_result"
    }
   ],
   "source": [
    "# 2\n",
    "rf_classifier=RandomForestClassifier(n_estimators=133,min_samples_split=30,max_depth=140,random_state=15,class_weight={0:1,1:2})\n",
    "rf_classifier.fit(X_resampled,y_resampled)\n"
   ]
  },
  {
   "cell_type": "code",
   "execution_count": 241,
   "id": "e8003bae-c186-49d9-8b58-dfd5b166062d",
   "metadata": {},
   "outputs": [
    {
     "data": {
      "text/html": [
       "<style>#sk-container-id-9 {color: black;}#sk-container-id-9 pre{padding: 0;}#sk-container-id-9 div.sk-toggleable {background-color: white;}#sk-container-id-9 label.sk-toggleable__label {cursor: pointer;display: block;width: 100%;margin-bottom: 0;padding: 0.3em;box-sizing: border-box;text-align: center;}#sk-container-id-9 label.sk-toggleable__label-arrow:before {content: \"▸\";float: left;margin-right: 0.25em;color: #696969;}#sk-container-id-9 label.sk-toggleable__label-arrow:hover:before {color: black;}#sk-container-id-9 div.sk-estimator:hover label.sk-toggleable__label-arrow:before {color: black;}#sk-container-id-9 div.sk-toggleable__content {max-height: 0;max-width: 0;overflow: hidden;text-align: left;background-color: #f0f8ff;}#sk-container-id-9 div.sk-toggleable__content pre {margin: 0.2em;color: black;border-radius: 0.25em;background-color: #f0f8ff;}#sk-container-id-9 input.sk-toggleable__control:checked~div.sk-toggleable__content {max-height: 200px;max-width: 100%;overflow: auto;}#sk-container-id-9 input.sk-toggleable__control:checked~label.sk-toggleable__label-arrow:before {content: \"▾\";}#sk-container-id-9 div.sk-estimator input.sk-toggleable__control:checked~label.sk-toggleable__label {background-color: #d4ebff;}#sk-container-id-9 div.sk-label input.sk-toggleable__control:checked~label.sk-toggleable__label {background-color: #d4ebff;}#sk-container-id-9 input.sk-hidden--visually {border: 0;clip: rect(1px 1px 1px 1px);clip: rect(1px, 1px, 1px, 1px);height: 1px;margin: -1px;overflow: hidden;padding: 0;position: absolute;width: 1px;}#sk-container-id-9 div.sk-estimator {font-family: monospace;background-color: #f0f8ff;border: 1px dotted black;border-radius: 0.25em;box-sizing: border-box;margin-bottom: 0.5em;}#sk-container-id-9 div.sk-estimator:hover {background-color: #d4ebff;}#sk-container-id-9 div.sk-parallel-item::after {content: \"\";width: 100%;border-bottom: 1px solid gray;flex-grow: 1;}#sk-container-id-9 div.sk-label:hover label.sk-toggleable__label {background-color: #d4ebff;}#sk-container-id-9 div.sk-serial::before {content: \"\";position: absolute;border-left: 1px solid gray;box-sizing: border-box;top: 0;bottom: 0;left: 50%;z-index: 0;}#sk-container-id-9 div.sk-serial {display: flex;flex-direction: column;align-items: center;background-color: white;padding-right: 0.2em;padding-left: 0.2em;position: relative;}#sk-container-id-9 div.sk-item {position: relative;z-index: 1;}#sk-container-id-9 div.sk-parallel {display: flex;align-items: stretch;justify-content: center;background-color: white;position: relative;}#sk-container-id-9 div.sk-item::before, #sk-container-id-9 div.sk-parallel-item::before {content: \"\";position: absolute;border-left: 1px solid gray;box-sizing: border-box;top: 0;bottom: 0;left: 50%;z-index: -1;}#sk-container-id-9 div.sk-parallel-item {display: flex;flex-direction: column;z-index: 1;position: relative;background-color: white;}#sk-container-id-9 div.sk-parallel-item:first-child::after {align-self: flex-end;width: 50%;}#sk-container-id-9 div.sk-parallel-item:last-child::after {align-self: flex-start;width: 50%;}#sk-container-id-9 div.sk-parallel-item:only-child::after {width: 0;}#sk-container-id-9 div.sk-dashed-wrapped {border: 1px dashed gray;margin: 0 0.4em 0.5em 0.4em;box-sizing: border-box;padding-bottom: 0.4em;background-color: white;}#sk-container-id-9 div.sk-label label {font-family: monospace;font-weight: bold;display: inline-block;line-height: 1.2em;}#sk-container-id-9 div.sk-label-container {text-align: center;}#sk-container-id-9 div.sk-container {/* jupyter's `normalize.less` sets `[hidden] { display: none; }` but bootstrap.min.css set `[hidden] { display: none !important; }` so we also need the `!important` here to be able to override the default hidden behavior on the sphinx rendered scikit-learn.org. See: https://github.com/scikit-learn/scikit-learn/issues/21755 */display: inline-block !important;position: relative;}#sk-container-id-9 div.sk-text-repr-fallback {display: none;}</style><div id=\"sk-container-id-9\" class=\"sk-top-container\"><div class=\"sk-text-repr-fallback\"><pre>RandomForestClassifier(class_weight={0: 1, 1: 3}, max_depth=140,\n",
       "                       min_samples_split=30, n_estimators=133, random_state=15)</pre><b>In a Jupyter environment, please rerun this cell to show the HTML representation or trust the notebook. <br />On GitHub, the HTML representation is unable to render, please try loading this page with nbviewer.org.</b></div><div class=\"sk-container\" hidden><div class=\"sk-item\"><div class=\"sk-estimator sk-toggleable\"><input class=\"sk-toggleable__control sk-hidden--visually\" id=\"sk-estimator-id-9\" type=\"checkbox\" checked><label for=\"sk-estimator-id-9\" class=\"sk-toggleable__label sk-toggleable__label-arrow\">RandomForestClassifier</label><div class=\"sk-toggleable__content\"><pre>RandomForestClassifier(class_weight={0: 1, 1: 3}, max_depth=140,\n",
       "                       min_samples_split=30, n_estimators=133, random_state=15)</pre></div></div></div></div></div>"
      ],
      "text/plain": [
       "RandomForestClassifier(class_weight={0: 1, 1: 3}, max_depth=140,\n",
       "                       min_samples_split=30, n_estimators=133, random_state=15)"
      ]
     },
     "execution_count": 241,
     "metadata": {},
     "output_type": "execute_result"
    }
   ],
   "source": [
    "# 3\n",
    "rf_classifier=RandomForestClassifier(n_estimators=133,min_samples_split=30,max_depth=140,random_state=15,class_weight={0:1,1:3})\n",
    "rf_classifier.fit(X_resampled,y_resampled)\n"
   ]
  },
  {
   "cell_type": "code",
   "execution_count": 242,
   "id": "95f9ce2e-5d2f-4b22-bec4-b82c155e50f3",
   "metadata": {},
   "outputs": [],
   "source": [
    "pred_train=rf_classifier.predict(X_resampled)"
   ]
  },
  {
   "cell_type": "code",
   "execution_count": 243,
   "id": "c8b28d80-5912-437c-9d23-1f78c4fa421e",
   "metadata": {
    "tags": []
   },
   "outputs": [
    {
     "name": "stdout",
     "output_type": "stream",
     "text": [
      "Training accuracy is:  98.64441165621541\n"
     ]
    }
   ],
   "source": [
    "print('Training accuracy is: ',accuracy_score(y_resampled,pred_train)*100)"
   ]
  },
  {
   "cell_type": "code",
   "execution_count": 244,
   "id": "ef5cd26b-d29d-46cd-b6ac-202191e8d42d",
   "metadata": {},
   "outputs": [],
   "source": [
    "# Validation Set\n",
    "matrix = vectorizer.transform(df_dev['text'])\n",
    "countv_dev=pd.DataFrame(matrix.toarray(),columns=vectorizer.get_feature_names_out())"
   ]
  },
  {
   "cell_type": "code",
   "execution_count": 245,
   "id": "cb94abf7-b8d6-4fa3-bb73-4e90cec4be85",
   "metadata": {},
   "outputs": [],
   "source": [
    "matrix2 = vectorizer2.transform(df_dev['hashtags'])\n",
    "countv_dev2=pd.DataFrame(matrix2.toarray(),columns=vectorizer2.get_feature_names_out())"
   ]
  },
  {
   "cell_type": "code",
   "execution_count": 246,
   "id": "a462d4b0-0593-459f-af37-2c30dad27777",
   "metadata": {},
   "outputs": [],
   "source": [
    "countv_dev_3=pd.concat([countv_dev, countv_dev2], axis=1)\n"
   ]
  },
  {
   "cell_type": "code",
   "execution_count": 247,
   "id": "ea87d611-ee3d-4ce6-bea0-469468382a0c",
   "metadata": {},
   "outputs": [],
   "source": [
    "labels_dev=df_dev.target"
   ]
  },
  {
   "cell_type": "code",
   "execution_count": null,
   "id": "3690d0cd-ef5e-4476-92ca-957a9d551586",
   "metadata": {},
   "outputs": [],
   "source": []
  },
  {
   "cell_type": "code",
   "execution_count": 248,
   "id": "605ce254-459c-4996-9b7b-0dc5242f677a",
   "metadata": {},
   "outputs": [],
   "source": [
    "pred_dev=rf_classifier.predict(countv_dev_3)"
   ]
  },
  {
   "cell_type": "code",
   "execution_count": 249,
   "id": "b3fddcbd-dcb1-48ee-ba48-b470e8caf567",
   "metadata": {},
   "outputs": [
    {
     "name": "stdout",
     "output_type": "stream",
     "text": [
      "Validation accuracy is:  83.77513711151737\n"
     ]
    }
   ],
   "source": [
    "print('Validation accuracy is: ',accuracy_score(labels_dev,pred_dev)*100)"
   ]
  },
  {
   "cell_type": "code",
   "execution_count": null,
   "id": "85df85ae-4b34-445d-bb24-60b79c28e0ff",
   "metadata": {},
   "outputs": [],
   "source": []
  },
  {
   "cell_type": "code",
   "execution_count": 250,
   "id": "8e605584-91bf-4fd9-944c-ff024429f09a",
   "metadata": {},
   "outputs": [],
   "source": [
    "# Testing Set\n",
    "matrix = vectorizer.transform(df_test['text'])\n",
    "countv_test=pd.DataFrame(matrix.toarray(),columns=vectorizer.get_feature_names_out())"
   ]
  },
  {
   "cell_type": "code",
   "execution_count": 251,
   "id": "5b1e0a2a-cdcc-4cbb-8471-b1355b5c3ceb",
   "metadata": {},
   "outputs": [],
   "source": [
    "matrix2 = vectorizer2.transform(df_test['hashtags'])\n",
    "countv_test2=pd.DataFrame(matrix2.toarray(),columns=vectorizer2.get_feature_names_out())"
   ]
  },
  {
   "cell_type": "code",
   "execution_count": 252,
   "id": "f619a759-370f-4466-8feb-4b73bfb63392",
   "metadata": {},
   "outputs": [],
   "source": [
    "countv_test_3=pd.concat([countv_test, countv_test2], axis=1)\n"
   ]
  },
  {
   "cell_type": "code",
   "execution_count": 253,
   "id": "db4c73ab-a31b-444c-8652-3ef95ab8995a",
   "metadata": {},
   "outputs": [],
   "source": [
    "labels_test=df_test.target"
   ]
  },
  {
   "cell_type": "code",
   "execution_count": 254,
   "id": "5964c1b3-4130-45d7-8878-df872796ff55",
   "metadata": {},
   "outputs": [],
   "source": [
    "pred_test=rf_classifier.predict(countv_test_3)"
   ]
  },
  {
   "cell_type": "code",
   "execution_count": 255,
   "id": "630b27ba-e900-44db-b3b2-5f95c082ef7d",
   "metadata": {},
   "outputs": [
    {
     "name": "stdout",
     "output_type": "stream",
     "text": [
      "Testing accuracy is:  83.82084095063985\n"
     ]
    }
   ],
   "source": [
    "print('Testing accuracy is: ',accuracy_score(labels_test,pred_test)*100)"
   ]
  },
  {
   "cell_type": "code",
   "execution_count": null,
   "id": "9e3fe81b-b82b-4b26-b929-7c169e9a46b0",
   "metadata": {},
   "outputs": [],
   "source": []
  },
  {
   "cell_type": "code",
   "execution_count": 256,
   "id": "75339414-92fb-4732-8bb8-d2f6cc3c90fb",
   "metadata": {},
   "outputs": [
    {
     "name": "stdout",
     "output_type": "stream",
     "text": [
      "Precision: 0.5242718446601942\n",
      "Recall: 0.712401055408971\n",
      "F1-score: 0.6040268456375839\n"
     ]
    }
   ],
   "source": [
    "precision = precision_score(labels_test,pred_test)\n",
    "recall = recall_score(labels_test,pred_test)\n",
    "f1 = f1_score(labels_test,pred_test)\n",
    "\n",
    "print(\"Precision:\", precision)\n",
    "print(\"Recall:\", recall)\n",
    "print(\"F1-score:\", f1)"
   ]
  },
  {
   "cell_type": "code",
   "execution_count": 257,
   "id": "e0bc8610-c7ea-41a7-abf2-2603aaffbd47",
   "metadata": {},
   "outputs": [],
   "source": [
    "# We need more recall"
   ]
  },
  {
   "cell_type": "code",
   "execution_count": null,
   "id": "5c9882e7-d480-4283-8b09-1a18323c8de5",
   "metadata": {},
   "outputs": [],
   "source": []
  },
  {
   "cell_type": "code",
   "execution_count": 261,
   "id": "627ed5f2-aef5-453f-9a4d-59994267c7aa",
   "metadata": {},
   "outputs": [],
   "source": [
    "with open('/Users/savinaysingh/Documents/SavinayUTS/iLab/Code/rf_classifier.pkl', 'wb') as file:\n",
    "    pickle.dump(rf_classifier, file)"
   ]
  },
  {
   "cell_type": "code",
   "execution_count": null,
   "id": "4947620a-d19a-403c-bd97-660313882352",
   "metadata": {},
   "outputs": [],
   "source": []
  },
  {
   "cell_type": "code",
   "execution_count": 262,
   "id": "dbfedde8-aaff-45c3-b260-60f62abbbb13",
   "metadata": {},
   "outputs": [],
   "source": [
    "with open('/Users/savinaysingh/Documents/SavinayUTS/iLab/Code/vectorizer_tweet.pkl', 'wb') as file:\n",
    "    pickle.dump(vectorizer, file)"
   ]
  },
  {
   "cell_type": "code",
   "execution_count": 263,
   "id": "317b86c8-66a1-4320-a473-bb0a706245da",
   "metadata": {},
   "outputs": [],
   "source": [
    "with open('/Users/savinaysingh/Documents/SavinayUTS/iLab/Code/vectorizer_hashtag.pkl', 'wb') as file:\n",
    "    pickle.dump(vectorizer2, file)"
   ]
  },
  {
   "cell_type": "code",
   "execution_count": null,
   "id": "87e789b2-0470-4503-90ca-f7773450e338",
   "metadata": {},
   "outputs": [],
   "source": []
  },
  {
   "cell_type": "markdown",
   "id": "01fd7a70-d35e-4884-b4f2-5c4bbcca0663",
   "metadata": {},
   "source": [
    "# Same train test split"
   ]
  },
  {
   "cell_type": "code",
   "execution_count": null,
   "id": "5b68205e-62f3-420c-9a6f-67f15ba37e3b",
   "metadata": {},
   "outputs": [],
   "source": []
  },
  {
   "cell_type": "code",
   "execution_count": null,
   "id": "0d25891a-c6d2-485c-82e9-a31772096c9d",
   "metadata": {},
   "outputs": [],
   "source": []
  },
  {
   "cell_type": "code",
   "execution_count": null,
   "id": "b9d125b3-705c-44c4-9a5b-d107bfc24225",
   "metadata": {},
   "outputs": [],
   "source": []
  },
  {
   "cell_type": "markdown",
   "id": "92fca1d7-d848-4646-812c-f630c31fc392",
   "metadata": {},
   "source": [
    "# Now training on complete dataset"
   ]
  },
  {
   "cell_type": "code",
   "execution_count": null,
   "id": "1ad8a40f-d444-41dc-b359-50aa057090c2",
   "metadata": {},
   "outputs": [],
   "source": []
  },
  {
   "cell_type": "markdown",
   "id": "1bd91111-1aa3-4aaf-8720-724b409825b2",
   "metadata": {},
   "source": [
    "# Attempt for Contextual model"
   ]
  },
  {
   "cell_type": "code",
   "execution_count": 268,
   "id": "f04bde07-c02d-4668-ac8d-01b647dcbda3",
   "metadata": {},
   "outputs": [],
   "source": [
    "model = SentenceTransformer('distilbert-base-nli-mean-tokens')"
   ]
  },
  {
   "cell_type": "code",
   "execution_count": 274,
   "id": "bff79ee7-7e61-4873-a083-29539cbbc779",
   "metadata": {},
   "outputs": [],
   "source": [
    "tweets=list(data.text)"
   ]
  },
  {
   "cell_type": "code",
   "execution_count": 277,
   "id": "2d8077b0-97e1-400e-b74c-e4310013dd4a",
   "metadata": {},
   "outputs": [],
   "source": [
    "tweet_embeddings = model.encode(tweets)"
   ]
  },
  {
   "cell_type": "code",
   "execution_count": 282,
   "id": "d318244e-6e87-456a-965e-1e0131a2c5cd",
   "metadata": {},
   "outputs": [],
   "source": [
    "hashtags=list(data.hashtags)"
   ]
  },
  {
   "cell_type": "code",
   "execution_count": 283,
   "id": "1981141e-db2e-41e2-8284-c3b9324020c4",
   "metadata": {},
   "outputs": [],
   "source": [
    "hashtag_embeddings = model.encode(hashtags)"
   ]
  },
  {
   "cell_type": "code",
   "execution_count": 284,
   "id": "2ccab20f-556f-407e-bb5f-39953773f187",
   "metadata": {},
   "outputs": [
    {
     "data": {
      "text/plain": [
       "(10938, 768)"
      ]
     },
     "execution_count": 284,
     "metadata": {},
     "output_type": "execute_result"
    }
   ],
   "source": [
    "hashtag_embeddings.shape"
   ]
  },
  {
   "cell_type": "code",
   "execution_count": 285,
   "id": "cdc98ee7-adb1-48b7-8f3c-3dce50af1871",
   "metadata": {},
   "outputs": [
    {
     "data": {
      "text/plain": [
       "(10938, 768)"
      ]
     },
     "execution_count": 285,
     "metadata": {},
     "output_type": "execute_result"
    }
   ],
   "source": [
    "tweet_embeddings.shape"
   ]
  },
  {
   "cell_type": "code",
   "execution_count": null,
   "id": "6887aaa0-12e4-4e02-9534-e73cb8654c95",
   "metadata": {},
   "outputs": [],
   "source": []
  },
  {
   "cell_type": "code",
   "execution_count": 286,
   "id": "7a071b2d-984f-4bc9-ac97-7677c3ad745f",
   "metadata": {},
   "outputs": [],
   "source": [
    "concatenated_embedding = np.concatenate((tweet_embeddings, hashtag_embeddings), axis=1)\n"
   ]
  },
  {
   "cell_type": "code",
   "execution_count": 290,
   "id": "480f95c8-c4f6-41f9-82da-ecf865230e23",
   "metadata": {},
   "outputs": [],
   "source": [
    "labels=data.target"
   ]
  },
  {
   "cell_type": "code",
   "execution_count": 287,
   "id": "4ded8ec1-6034-45a8-9442-73b65ec698b3",
   "metadata": {},
   "outputs": [
    {
     "data": {
      "text/plain": [
       "(10938, 1536)"
      ]
     },
     "execution_count": 287,
     "metadata": {},
     "output_type": "execute_result"
    }
   ],
   "source": [
    "concatenated_embedding.shape"
   ]
  },
  {
   "cell_type": "code",
   "execution_count": 300,
   "id": "bf2d9c48-cf70-4d24-b583-a979298a3384",
   "metadata": {},
   "outputs": [],
   "source": []
  },
  {
   "cell_type": "code",
   "execution_count": 302,
   "id": "6311be16-afca-46a4-87a4-4cebc194f9c4",
   "metadata": {},
   "outputs": [],
   "source": [
    "X_train, X_test, y_train, y_test = train_test_split(concatenated_embedding, labels, test_size=0.2, random_state=42)\n"
   ]
  },
  {
   "cell_type": "code",
   "execution_count": 303,
   "id": "36c4b585-7a6f-4731-8eea-f50727f1ac15",
   "metadata": {},
   "outputs": [],
   "source": [
    "X_train, y_train = smote.fit_resample(X_train, y_train)\n"
   ]
  },
  {
   "cell_type": "code",
   "execution_count": 304,
   "id": "ebe3cad4-9594-4740-a4c4-1419bfdff465",
   "metadata": {},
   "outputs": [
    {
     "data": {
      "text/plain": [
       "target\n",
       "1    7217\n",
       "0    7217\n",
       "Name: count, dtype: int64"
      ]
     },
     "execution_count": 304,
     "metadata": {},
     "output_type": "execute_result"
    }
   ],
   "source": [
    "y_train.value_counts()"
   ]
  },
  {
   "cell_type": "code",
   "execution_count": 319,
   "id": "e5de8a85-182c-4542-878e-733f60eb0b33",
   "metadata": {},
   "outputs": [],
   "source": [
    "rf_classifier = RandomForestClassifier(n_estimators=100, random_state=42)\n"
   ]
  },
  {
   "cell_type": "code",
   "execution_count": 320,
   "id": "92492871-7706-4edd-bf3d-eacdb18cf4b6",
   "metadata": {},
   "outputs": [
    {
     "data": {
      "text/html": [
       "<style>#sk-container-id-15 {color: black;}#sk-container-id-15 pre{padding: 0;}#sk-container-id-15 div.sk-toggleable {background-color: white;}#sk-container-id-15 label.sk-toggleable__label {cursor: pointer;display: block;width: 100%;margin-bottom: 0;padding: 0.3em;box-sizing: border-box;text-align: center;}#sk-container-id-15 label.sk-toggleable__label-arrow:before {content: \"▸\";float: left;margin-right: 0.25em;color: #696969;}#sk-container-id-15 label.sk-toggleable__label-arrow:hover:before {color: black;}#sk-container-id-15 div.sk-estimator:hover label.sk-toggleable__label-arrow:before {color: black;}#sk-container-id-15 div.sk-toggleable__content {max-height: 0;max-width: 0;overflow: hidden;text-align: left;background-color: #f0f8ff;}#sk-container-id-15 div.sk-toggleable__content pre {margin: 0.2em;color: black;border-radius: 0.25em;background-color: #f0f8ff;}#sk-container-id-15 input.sk-toggleable__control:checked~div.sk-toggleable__content {max-height: 200px;max-width: 100%;overflow: auto;}#sk-container-id-15 input.sk-toggleable__control:checked~label.sk-toggleable__label-arrow:before {content: \"▾\";}#sk-container-id-15 div.sk-estimator input.sk-toggleable__control:checked~label.sk-toggleable__label {background-color: #d4ebff;}#sk-container-id-15 div.sk-label input.sk-toggleable__control:checked~label.sk-toggleable__label {background-color: #d4ebff;}#sk-container-id-15 input.sk-hidden--visually {border: 0;clip: rect(1px 1px 1px 1px);clip: rect(1px, 1px, 1px, 1px);height: 1px;margin: -1px;overflow: hidden;padding: 0;position: absolute;width: 1px;}#sk-container-id-15 div.sk-estimator {font-family: monospace;background-color: #f0f8ff;border: 1px dotted black;border-radius: 0.25em;box-sizing: border-box;margin-bottom: 0.5em;}#sk-container-id-15 div.sk-estimator:hover {background-color: #d4ebff;}#sk-container-id-15 div.sk-parallel-item::after {content: \"\";width: 100%;border-bottom: 1px solid gray;flex-grow: 1;}#sk-container-id-15 div.sk-label:hover label.sk-toggleable__label {background-color: #d4ebff;}#sk-container-id-15 div.sk-serial::before {content: \"\";position: absolute;border-left: 1px solid gray;box-sizing: border-box;top: 0;bottom: 0;left: 50%;z-index: 0;}#sk-container-id-15 div.sk-serial {display: flex;flex-direction: column;align-items: center;background-color: white;padding-right: 0.2em;padding-left: 0.2em;position: relative;}#sk-container-id-15 div.sk-item {position: relative;z-index: 1;}#sk-container-id-15 div.sk-parallel {display: flex;align-items: stretch;justify-content: center;background-color: white;position: relative;}#sk-container-id-15 div.sk-item::before, #sk-container-id-15 div.sk-parallel-item::before {content: \"\";position: absolute;border-left: 1px solid gray;box-sizing: border-box;top: 0;bottom: 0;left: 50%;z-index: -1;}#sk-container-id-15 div.sk-parallel-item {display: flex;flex-direction: column;z-index: 1;position: relative;background-color: white;}#sk-container-id-15 div.sk-parallel-item:first-child::after {align-self: flex-end;width: 50%;}#sk-container-id-15 div.sk-parallel-item:last-child::after {align-self: flex-start;width: 50%;}#sk-container-id-15 div.sk-parallel-item:only-child::after {width: 0;}#sk-container-id-15 div.sk-dashed-wrapped {border: 1px dashed gray;margin: 0 0.4em 0.5em 0.4em;box-sizing: border-box;padding-bottom: 0.4em;background-color: white;}#sk-container-id-15 div.sk-label label {font-family: monospace;font-weight: bold;display: inline-block;line-height: 1.2em;}#sk-container-id-15 div.sk-label-container {text-align: center;}#sk-container-id-15 div.sk-container {/* jupyter's `normalize.less` sets `[hidden] { display: none; }` but bootstrap.min.css set `[hidden] { display: none !important; }` so we also need the `!important` here to be able to override the default hidden behavior on the sphinx rendered scikit-learn.org. See: https://github.com/scikit-learn/scikit-learn/issues/21755 */display: inline-block !important;position: relative;}#sk-container-id-15 div.sk-text-repr-fallback {display: none;}</style><div id=\"sk-container-id-15\" class=\"sk-top-container\"><div class=\"sk-text-repr-fallback\"><pre>RandomForestClassifier(random_state=42)</pre><b>In a Jupyter environment, please rerun this cell to show the HTML representation or trust the notebook. <br />On GitHub, the HTML representation is unable to render, please try loading this page with nbviewer.org.</b></div><div class=\"sk-container\" hidden><div class=\"sk-item\"><div class=\"sk-estimator sk-toggleable\"><input class=\"sk-toggleable__control sk-hidden--visually\" id=\"sk-estimator-id-15\" type=\"checkbox\" checked><label for=\"sk-estimator-id-15\" class=\"sk-toggleable__label sk-toggleable__label-arrow\">RandomForestClassifier</label><div class=\"sk-toggleable__content\"><pre>RandomForestClassifier(random_state=42)</pre></div></div></div></div></div>"
      ],
      "text/plain": [
       "RandomForestClassifier(random_state=42)"
      ]
     },
     "execution_count": 320,
     "metadata": {},
     "output_type": "execute_result"
    }
   ],
   "source": [
    "rf_classifier.fit(X_train, y_train)\n"
   ]
  },
  {
   "cell_type": "code",
   "execution_count": 321,
   "id": "139c111a-43d9-4e2e-baef-7a8bc69247ef",
   "metadata": {},
   "outputs": [
    {
     "name": "stdout",
     "output_type": "stream",
     "text": [
      "Accuracy: 0.8807129798903108\n"
     ]
    }
   ],
   "source": [
    "\n",
    "# Make predictions on the test set\n",
    "y_pred = rf_classifier.predict(X_test)\n",
    "\n",
    "# Calculate accuracy\n",
    "accuracy = accuracy_score(y_test, y_pred)\n",
    "print(f\"Accuracy: {accuracy}\")"
   ]
  },
  {
   "cell_type": "code",
   "execution_count": 322,
   "id": "ba8969cb-e040-40bb-8d7f-a6688d4498a0",
   "metadata": {},
   "outputs": [
    {
     "name": "stdout",
     "output_type": "stream",
     "text": [
      "Precision: 0.7297297297297297\n",
      "Recall: 0.5869565217391305\n",
      "F1-score: 0.6506024096385542\n"
     ]
    }
   ],
   "source": [
    "precision = precision_score(y_test, y_pred)\n",
    "recall = recall_score(y_test, y_pred)\n",
    "f1 = f1_score(y_test, y_pred)\n",
    "\n",
    "print(\"Precision:\", precision)\n",
    "print(\"Recall:\", recall)\n",
    "print(\"F1-score:\", f1)"
   ]
  },
  {
   "cell_type": "code",
   "execution_count": null,
   "id": "b9200e29-77f7-4446-9e30-1711a19f2bad",
   "metadata": {},
   "outputs": [],
   "source": []
  },
  {
   "cell_type": "code",
   "execution_count": 323,
   "id": "63340e47-8c5f-4664-9d4a-5debc6ca68a2",
   "metadata": {},
   "outputs": [],
   "source": [
    "rf_classifier = RandomForestClassifier(n_estimators=100, random_state=42,class_weight={0:1,1:1.5})\n"
   ]
  },
  {
   "cell_type": "code",
   "execution_count": 324,
   "id": "7fb0e1bd-8029-41b6-9e2b-8260df3ce210",
   "metadata": {},
   "outputs": [
    {
     "data": {
      "text/html": [
       "<style>#sk-container-id-16 {color: black;}#sk-container-id-16 pre{padding: 0;}#sk-container-id-16 div.sk-toggleable {background-color: white;}#sk-container-id-16 label.sk-toggleable__label {cursor: pointer;display: block;width: 100%;margin-bottom: 0;padding: 0.3em;box-sizing: border-box;text-align: center;}#sk-container-id-16 label.sk-toggleable__label-arrow:before {content: \"▸\";float: left;margin-right: 0.25em;color: #696969;}#sk-container-id-16 label.sk-toggleable__label-arrow:hover:before {color: black;}#sk-container-id-16 div.sk-estimator:hover label.sk-toggleable__label-arrow:before {color: black;}#sk-container-id-16 div.sk-toggleable__content {max-height: 0;max-width: 0;overflow: hidden;text-align: left;background-color: #f0f8ff;}#sk-container-id-16 div.sk-toggleable__content pre {margin: 0.2em;color: black;border-radius: 0.25em;background-color: #f0f8ff;}#sk-container-id-16 input.sk-toggleable__control:checked~div.sk-toggleable__content {max-height: 200px;max-width: 100%;overflow: auto;}#sk-container-id-16 input.sk-toggleable__control:checked~label.sk-toggleable__label-arrow:before {content: \"▾\";}#sk-container-id-16 div.sk-estimator input.sk-toggleable__control:checked~label.sk-toggleable__label {background-color: #d4ebff;}#sk-container-id-16 div.sk-label input.sk-toggleable__control:checked~label.sk-toggleable__label {background-color: #d4ebff;}#sk-container-id-16 input.sk-hidden--visually {border: 0;clip: rect(1px 1px 1px 1px);clip: rect(1px, 1px, 1px, 1px);height: 1px;margin: -1px;overflow: hidden;padding: 0;position: absolute;width: 1px;}#sk-container-id-16 div.sk-estimator {font-family: monospace;background-color: #f0f8ff;border: 1px dotted black;border-radius: 0.25em;box-sizing: border-box;margin-bottom: 0.5em;}#sk-container-id-16 div.sk-estimator:hover {background-color: #d4ebff;}#sk-container-id-16 div.sk-parallel-item::after {content: \"\";width: 100%;border-bottom: 1px solid gray;flex-grow: 1;}#sk-container-id-16 div.sk-label:hover label.sk-toggleable__label {background-color: #d4ebff;}#sk-container-id-16 div.sk-serial::before {content: \"\";position: absolute;border-left: 1px solid gray;box-sizing: border-box;top: 0;bottom: 0;left: 50%;z-index: 0;}#sk-container-id-16 div.sk-serial {display: flex;flex-direction: column;align-items: center;background-color: white;padding-right: 0.2em;padding-left: 0.2em;position: relative;}#sk-container-id-16 div.sk-item {position: relative;z-index: 1;}#sk-container-id-16 div.sk-parallel {display: flex;align-items: stretch;justify-content: center;background-color: white;position: relative;}#sk-container-id-16 div.sk-item::before, #sk-container-id-16 div.sk-parallel-item::before {content: \"\";position: absolute;border-left: 1px solid gray;box-sizing: border-box;top: 0;bottom: 0;left: 50%;z-index: -1;}#sk-container-id-16 div.sk-parallel-item {display: flex;flex-direction: column;z-index: 1;position: relative;background-color: white;}#sk-container-id-16 div.sk-parallel-item:first-child::after {align-self: flex-end;width: 50%;}#sk-container-id-16 div.sk-parallel-item:last-child::after {align-self: flex-start;width: 50%;}#sk-container-id-16 div.sk-parallel-item:only-child::after {width: 0;}#sk-container-id-16 div.sk-dashed-wrapped {border: 1px dashed gray;margin: 0 0.4em 0.5em 0.4em;box-sizing: border-box;padding-bottom: 0.4em;background-color: white;}#sk-container-id-16 div.sk-label label {font-family: monospace;font-weight: bold;display: inline-block;line-height: 1.2em;}#sk-container-id-16 div.sk-label-container {text-align: center;}#sk-container-id-16 div.sk-container {/* jupyter's `normalize.less` sets `[hidden] { display: none; }` but bootstrap.min.css set `[hidden] { display: none !important; }` so we also need the `!important` here to be able to override the default hidden behavior on the sphinx rendered scikit-learn.org. See: https://github.com/scikit-learn/scikit-learn/issues/21755 */display: inline-block !important;position: relative;}#sk-container-id-16 div.sk-text-repr-fallback {display: none;}</style><div id=\"sk-container-id-16\" class=\"sk-top-container\"><div class=\"sk-text-repr-fallback\"><pre>RandomForestClassifier(class_weight={0: 1, 1: 1.5}, random_state=42)</pre><b>In a Jupyter environment, please rerun this cell to show the HTML representation or trust the notebook. <br />On GitHub, the HTML representation is unable to render, please try loading this page with nbviewer.org.</b></div><div class=\"sk-container\" hidden><div class=\"sk-item\"><div class=\"sk-estimator sk-toggleable\"><input class=\"sk-toggleable__control sk-hidden--visually\" id=\"sk-estimator-id-16\" type=\"checkbox\" checked><label for=\"sk-estimator-id-16\" class=\"sk-toggleable__label sk-toggleable__label-arrow\">RandomForestClassifier</label><div class=\"sk-toggleable__content\"><pre>RandomForestClassifier(class_weight={0: 1, 1: 1.5}, random_state=42)</pre></div></div></div></div></div>"
      ],
      "text/plain": [
       "RandomForestClassifier(class_weight={0: 1, 1: 1.5}, random_state=42)"
      ]
     },
     "execution_count": 324,
     "metadata": {},
     "output_type": "execute_result"
    }
   ],
   "source": [
    "rf_classifier.fit(X_train, y_train)\n"
   ]
  },
  {
   "cell_type": "code",
   "execution_count": 325,
   "id": "1aef974f-e6f9-48bb-aa94-09b1c00eeadb",
   "metadata": {},
   "outputs": [
    {
     "name": "stdout",
     "output_type": "stream",
     "text": [
      "Accuracy: 0.8743144424131627\n"
     ]
    }
   ],
   "source": [
    "\n",
    "# Make predictions on the test set\n",
    "y_pred = rf_classifier.predict(X_test)\n",
    "\n",
    "# Calculate accuracy\n",
    "accuracy = accuracy_score(y_test, y_pred)\n",
    "print(f\"Accuracy: {accuracy}\")"
   ]
  },
  {
   "cell_type": "code",
   "execution_count": 326,
   "id": "86f34dd7-9df1-4bd5-8f28-3721ff44685b",
   "metadata": {},
   "outputs": [
    {
     "name": "stdout",
     "output_type": "stream",
     "text": [
      "Precision: 0.7278688524590164\n",
      "Recall: 0.5362318840579711\n",
      "F1-score: 0.6175243393602227\n"
     ]
    }
   ],
   "source": [
    "precision = precision_score(y_test, y_pred)\n",
    "recall = recall_score(y_test, y_pred)\n",
    "f1 = f1_score(y_test, y_pred)\n",
    "\n",
    "print(\"Precision:\", precision)\n",
    "print(\"Recall:\", recall)\n",
    "print(\"F1-score:\", f1)"
   ]
  },
  {
   "cell_type": "code",
   "execution_count": null,
   "id": "deac5659-85a2-49c3-9390-9ae2d7189018",
   "metadata": {},
   "outputs": [],
   "source": []
  },
  {
   "cell_type": "code",
   "execution_count": 327,
   "id": "b079e8bc-19a4-4c52-a04c-246a485ddba4",
   "metadata": {},
   "outputs": [],
   "source": [
    "rf_classifier = RandomForestClassifier(n_estimators=100, random_state=42,class_weight={0:1,1:0.5})\n"
   ]
  },
  {
   "cell_type": "code",
   "execution_count": 328,
   "id": "db2de5b1-f37f-4bc5-828a-823b349c9482",
   "metadata": {},
   "outputs": [
    {
     "data": {
      "text/html": [
       "<style>#sk-container-id-17 {color: black;}#sk-container-id-17 pre{padding: 0;}#sk-container-id-17 div.sk-toggleable {background-color: white;}#sk-container-id-17 label.sk-toggleable__label {cursor: pointer;display: block;width: 100%;margin-bottom: 0;padding: 0.3em;box-sizing: border-box;text-align: center;}#sk-container-id-17 label.sk-toggleable__label-arrow:before {content: \"▸\";float: left;margin-right: 0.25em;color: #696969;}#sk-container-id-17 label.sk-toggleable__label-arrow:hover:before {color: black;}#sk-container-id-17 div.sk-estimator:hover label.sk-toggleable__label-arrow:before {color: black;}#sk-container-id-17 div.sk-toggleable__content {max-height: 0;max-width: 0;overflow: hidden;text-align: left;background-color: #f0f8ff;}#sk-container-id-17 div.sk-toggleable__content pre {margin: 0.2em;color: black;border-radius: 0.25em;background-color: #f0f8ff;}#sk-container-id-17 input.sk-toggleable__control:checked~div.sk-toggleable__content {max-height: 200px;max-width: 100%;overflow: auto;}#sk-container-id-17 input.sk-toggleable__control:checked~label.sk-toggleable__label-arrow:before {content: \"▾\";}#sk-container-id-17 div.sk-estimator input.sk-toggleable__control:checked~label.sk-toggleable__label {background-color: #d4ebff;}#sk-container-id-17 div.sk-label input.sk-toggleable__control:checked~label.sk-toggleable__label {background-color: #d4ebff;}#sk-container-id-17 input.sk-hidden--visually {border: 0;clip: rect(1px 1px 1px 1px);clip: rect(1px, 1px, 1px, 1px);height: 1px;margin: -1px;overflow: hidden;padding: 0;position: absolute;width: 1px;}#sk-container-id-17 div.sk-estimator {font-family: monospace;background-color: #f0f8ff;border: 1px dotted black;border-radius: 0.25em;box-sizing: border-box;margin-bottom: 0.5em;}#sk-container-id-17 div.sk-estimator:hover {background-color: #d4ebff;}#sk-container-id-17 div.sk-parallel-item::after {content: \"\";width: 100%;border-bottom: 1px solid gray;flex-grow: 1;}#sk-container-id-17 div.sk-label:hover label.sk-toggleable__label {background-color: #d4ebff;}#sk-container-id-17 div.sk-serial::before {content: \"\";position: absolute;border-left: 1px solid gray;box-sizing: border-box;top: 0;bottom: 0;left: 50%;z-index: 0;}#sk-container-id-17 div.sk-serial {display: flex;flex-direction: column;align-items: center;background-color: white;padding-right: 0.2em;padding-left: 0.2em;position: relative;}#sk-container-id-17 div.sk-item {position: relative;z-index: 1;}#sk-container-id-17 div.sk-parallel {display: flex;align-items: stretch;justify-content: center;background-color: white;position: relative;}#sk-container-id-17 div.sk-item::before, #sk-container-id-17 div.sk-parallel-item::before {content: \"\";position: absolute;border-left: 1px solid gray;box-sizing: border-box;top: 0;bottom: 0;left: 50%;z-index: -1;}#sk-container-id-17 div.sk-parallel-item {display: flex;flex-direction: column;z-index: 1;position: relative;background-color: white;}#sk-container-id-17 div.sk-parallel-item:first-child::after {align-self: flex-end;width: 50%;}#sk-container-id-17 div.sk-parallel-item:last-child::after {align-self: flex-start;width: 50%;}#sk-container-id-17 div.sk-parallel-item:only-child::after {width: 0;}#sk-container-id-17 div.sk-dashed-wrapped {border: 1px dashed gray;margin: 0 0.4em 0.5em 0.4em;box-sizing: border-box;padding-bottom: 0.4em;background-color: white;}#sk-container-id-17 div.sk-label label {font-family: monospace;font-weight: bold;display: inline-block;line-height: 1.2em;}#sk-container-id-17 div.sk-label-container {text-align: center;}#sk-container-id-17 div.sk-container {/* jupyter's `normalize.less` sets `[hidden] { display: none; }` but bootstrap.min.css set `[hidden] { display: none !important; }` so we also need the `!important` here to be able to override the default hidden behavior on the sphinx rendered scikit-learn.org. See: https://github.com/scikit-learn/scikit-learn/issues/21755 */display: inline-block !important;position: relative;}#sk-container-id-17 div.sk-text-repr-fallback {display: none;}</style><div id=\"sk-container-id-17\" class=\"sk-top-container\"><div class=\"sk-text-repr-fallback\"><pre>RandomForestClassifier(class_weight={0: 1, 1: 0.5}, random_state=42)</pre><b>In a Jupyter environment, please rerun this cell to show the HTML representation or trust the notebook. <br />On GitHub, the HTML representation is unable to render, please try loading this page with nbviewer.org.</b></div><div class=\"sk-container\" hidden><div class=\"sk-item\"><div class=\"sk-estimator sk-toggleable\"><input class=\"sk-toggleable__control sk-hidden--visually\" id=\"sk-estimator-id-17\" type=\"checkbox\" checked><label for=\"sk-estimator-id-17\" class=\"sk-toggleable__label sk-toggleable__label-arrow\">RandomForestClassifier</label><div class=\"sk-toggleable__content\"><pre>RandomForestClassifier(class_weight={0: 1, 1: 0.5}, random_state=42)</pre></div></div></div></div></div>"
      ],
      "text/plain": [
       "RandomForestClassifier(class_weight={0: 1, 1: 0.5}, random_state=42)"
      ]
     },
     "execution_count": 328,
     "metadata": {},
     "output_type": "execute_result"
    }
   ],
   "source": [
    "rf_classifier.fit(X_train, y_train)\n"
   ]
  },
  {
   "cell_type": "code",
   "execution_count": 329,
   "id": "cbff8763-fcea-4286-ad03-bfe7a01dd57b",
   "metadata": {},
   "outputs": [
    {
     "name": "stdout",
     "output_type": "stream",
     "text": [
      "Accuracy: 0.879798903107861\n"
     ]
    }
   ],
   "source": [
    "\n",
    "# Make predictions on the test set\n",
    "y_pred = rf_classifier.predict(X_test)\n",
    "\n",
    "# Calculate accuracy\n",
    "accuracy = accuracy_score(y_test, y_pred)\n",
    "print(f\"Accuracy: {accuracy}\")"
   ]
  },
  {
   "cell_type": "code",
   "execution_count": 330,
   "id": "d852a071-9eb1-48e8-97b2-82b160b4d6c8",
   "metadata": {},
   "outputs": [
    {
     "name": "stdout",
     "output_type": "stream",
     "text": [
      "Precision: 0.6981627296587927\n",
      "Recall: 0.642512077294686\n",
      "F1-score: 0.6691823899371069\n"
     ]
    }
   ],
   "source": [
    "precision = precision_score(y_test, y_pred)\n",
    "recall = recall_score(y_test, y_pred)\n",
    "f1 = f1_score(y_test, y_pred)\n",
    "\n",
    "print(\"Precision:\", precision)\n",
    "print(\"Recall:\", recall)\n",
    "print(\"F1-score:\", f1)"
   ]
  },
  {
   "cell_type": "code",
   "execution_count": null,
   "id": "0bd443f8-a5a0-4084-95f2-ce6488c4acd7",
   "metadata": {},
   "outputs": [],
   "source": []
  },
  {
   "cell_type": "code",
   "execution_count": null,
   "id": "26da26b0-6efe-4e59-884a-d464a650b7e8",
   "metadata": {},
   "outputs": [],
   "source": []
  },
  {
   "cell_type": "code",
   "execution_count": 331,
   "id": "459edd9a-4626-4c23-adba-b969ac6966e1",
   "metadata": {},
   "outputs": [],
   "source": [
    "rf_classifier = RandomForestClassifier(n_estimators=100, random_state=42,class_weight={0:1.5,1:1})\n"
   ]
  },
  {
   "cell_type": "code",
   "execution_count": 332,
   "id": "d22f5031-73ab-4363-a161-32e4feb80b40",
   "metadata": {},
   "outputs": [
    {
     "data": {
      "text/html": [
       "<style>#sk-container-id-18 {color: black;}#sk-container-id-18 pre{padding: 0;}#sk-container-id-18 div.sk-toggleable {background-color: white;}#sk-container-id-18 label.sk-toggleable__label {cursor: pointer;display: block;width: 100%;margin-bottom: 0;padding: 0.3em;box-sizing: border-box;text-align: center;}#sk-container-id-18 label.sk-toggleable__label-arrow:before {content: \"▸\";float: left;margin-right: 0.25em;color: #696969;}#sk-container-id-18 label.sk-toggleable__label-arrow:hover:before {color: black;}#sk-container-id-18 div.sk-estimator:hover label.sk-toggleable__label-arrow:before {color: black;}#sk-container-id-18 div.sk-toggleable__content {max-height: 0;max-width: 0;overflow: hidden;text-align: left;background-color: #f0f8ff;}#sk-container-id-18 div.sk-toggleable__content pre {margin: 0.2em;color: black;border-radius: 0.25em;background-color: #f0f8ff;}#sk-container-id-18 input.sk-toggleable__control:checked~div.sk-toggleable__content {max-height: 200px;max-width: 100%;overflow: auto;}#sk-container-id-18 input.sk-toggleable__control:checked~label.sk-toggleable__label-arrow:before {content: \"▾\";}#sk-container-id-18 div.sk-estimator input.sk-toggleable__control:checked~label.sk-toggleable__label {background-color: #d4ebff;}#sk-container-id-18 div.sk-label input.sk-toggleable__control:checked~label.sk-toggleable__label {background-color: #d4ebff;}#sk-container-id-18 input.sk-hidden--visually {border: 0;clip: rect(1px 1px 1px 1px);clip: rect(1px, 1px, 1px, 1px);height: 1px;margin: -1px;overflow: hidden;padding: 0;position: absolute;width: 1px;}#sk-container-id-18 div.sk-estimator {font-family: monospace;background-color: #f0f8ff;border: 1px dotted black;border-radius: 0.25em;box-sizing: border-box;margin-bottom: 0.5em;}#sk-container-id-18 div.sk-estimator:hover {background-color: #d4ebff;}#sk-container-id-18 div.sk-parallel-item::after {content: \"\";width: 100%;border-bottom: 1px solid gray;flex-grow: 1;}#sk-container-id-18 div.sk-label:hover label.sk-toggleable__label {background-color: #d4ebff;}#sk-container-id-18 div.sk-serial::before {content: \"\";position: absolute;border-left: 1px solid gray;box-sizing: border-box;top: 0;bottom: 0;left: 50%;z-index: 0;}#sk-container-id-18 div.sk-serial {display: flex;flex-direction: column;align-items: center;background-color: white;padding-right: 0.2em;padding-left: 0.2em;position: relative;}#sk-container-id-18 div.sk-item {position: relative;z-index: 1;}#sk-container-id-18 div.sk-parallel {display: flex;align-items: stretch;justify-content: center;background-color: white;position: relative;}#sk-container-id-18 div.sk-item::before, #sk-container-id-18 div.sk-parallel-item::before {content: \"\";position: absolute;border-left: 1px solid gray;box-sizing: border-box;top: 0;bottom: 0;left: 50%;z-index: -1;}#sk-container-id-18 div.sk-parallel-item {display: flex;flex-direction: column;z-index: 1;position: relative;background-color: white;}#sk-container-id-18 div.sk-parallel-item:first-child::after {align-self: flex-end;width: 50%;}#sk-container-id-18 div.sk-parallel-item:last-child::after {align-self: flex-start;width: 50%;}#sk-container-id-18 div.sk-parallel-item:only-child::after {width: 0;}#sk-container-id-18 div.sk-dashed-wrapped {border: 1px dashed gray;margin: 0 0.4em 0.5em 0.4em;box-sizing: border-box;padding-bottom: 0.4em;background-color: white;}#sk-container-id-18 div.sk-label label {font-family: monospace;font-weight: bold;display: inline-block;line-height: 1.2em;}#sk-container-id-18 div.sk-label-container {text-align: center;}#sk-container-id-18 div.sk-container {/* jupyter's `normalize.less` sets `[hidden] { display: none; }` but bootstrap.min.css set `[hidden] { display: none !important; }` so we also need the `!important` here to be able to override the default hidden behavior on the sphinx rendered scikit-learn.org. See: https://github.com/scikit-learn/scikit-learn/issues/21755 */display: inline-block !important;position: relative;}#sk-container-id-18 div.sk-text-repr-fallback {display: none;}</style><div id=\"sk-container-id-18\" class=\"sk-top-container\"><div class=\"sk-text-repr-fallback\"><pre>RandomForestClassifier(class_weight={0: 1.5, 1: 1}, random_state=42)</pre><b>In a Jupyter environment, please rerun this cell to show the HTML representation or trust the notebook. <br />On GitHub, the HTML representation is unable to render, please try loading this page with nbviewer.org.</b></div><div class=\"sk-container\" hidden><div class=\"sk-item\"><div class=\"sk-estimator sk-toggleable\"><input class=\"sk-toggleable__control sk-hidden--visually\" id=\"sk-estimator-id-18\" type=\"checkbox\" checked><label for=\"sk-estimator-id-18\" class=\"sk-toggleable__label sk-toggleable__label-arrow\">RandomForestClassifier</label><div class=\"sk-toggleable__content\"><pre>RandomForestClassifier(class_weight={0: 1.5, 1: 1}, random_state=42)</pre></div></div></div></div></div>"
      ],
      "text/plain": [
       "RandomForestClassifier(class_weight={0: 1.5, 1: 1}, random_state=42)"
      ]
     },
     "execution_count": 332,
     "metadata": {},
     "output_type": "execute_result"
    }
   ],
   "source": [
    "rf_classifier.fit(X_train, y_train)\n"
   ]
  },
  {
   "cell_type": "code",
   "execution_count": 333,
   "id": "9ac52ee0-2550-4721-a8cb-6f6843509d40",
   "metadata": {},
   "outputs": [
    {
     "name": "stdout",
     "output_type": "stream",
     "text": [
      "Accuracy: 0.879798903107861\n"
     ]
    }
   ],
   "source": [
    "\n",
    "# Make predictions on the test set\n",
    "y_pred = rf_classifier.predict(X_test)\n",
    "\n",
    "# Calculate accuracy\n",
    "accuracy = accuracy_score(y_test, y_pred)\n",
    "print(f\"Accuracy: {accuracy}\")"
   ]
  },
  {
   "cell_type": "code",
   "execution_count": 334,
   "id": "0258ddcd-1f50-4255-9d1f-d363afd2fc1b",
   "metadata": {},
   "outputs": [
    {
     "name": "stdout",
     "output_type": "stream",
     "text": [
      "Precision: 0.7150997150997151\n",
      "Recall: 0.606280193236715\n",
      "F1-score: 0.6562091503267974\n"
     ]
    }
   ],
   "source": [
    "precision = precision_score(y_test, y_pred)\n",
    "recall = recall_score(y_test, y_pred)\n",
    "f1 = f1_score(y_test, y_pred)\n",
    "\n",
    "print(\"Precision:\", precision)\n",
    "print(\"Recall:\", recall)\n",
    "print(\"F1-score:\", f1)"
   ]
  },
  {
   "cell_type": "code",
   "execution_count": null,
   "id": "cfe989d9-e2e8-4d00-a0ee-130a8c46272c",
   "metadata": {},
   "outputs": [],
   "source": []
  },
  {
   "cell_type": "code",
   "execution_count": null,
   "id": "c9b26750-eabe-45e4-919e-378147a48a45",
   "metadata": {},
   "outputs": [],
   "source": []
  },
  {
   "cell_type": "code",
   "execution_count": 335,
   "id": "5e3b3dfc-219d-4754-8d99-19d18a9a61b3",
   "metadata": {},
   "outputs": [],
   "source": [
    "rf_classifier = RandomForestClassifier(n_estimators=100, random_state=42,class_weight={0:2,1:1})\n"
   ]
  },
  {
   "cell_type": "code",
   "execution_count": 336,
   "id": "766124f6-f203-4742-b98f-7934c4c63089",
   "metadata": {},
   "outputs": [
    {
     "data": {
      "text/html": [
       "<style>#sk-container-id-19 {color: black;}#sk-container-id-19 pre{padding: 0;}#sk-container-id-19 div.sk-toggleable {background-color: white;}#sk-container-id-19 label.sk-toggleable__label {cursor: pointer;display: block;width: 100%;margin-bottom: 0;padding: 0.3em;box-sizing: border-box;text-align: center;}#sk-container-id-19 label.sk-toggleable__label-arrow:before {content: \"▸\";float: left;margin-right: 0.25em;color: #696969;}#sk-container-id-19 label.sk-toggleable__label-arrow:hover:before {color: black;}#sk-container-id-19 div.sk-estimator:hover label.sk-toggleable__label-arrow:before {color: black;}#sk-container-id-19 div.sk-toggleable__content {max-height: 0;max-width: 0;overflow: hidden;text-align: left;background-color: #f0f8ff;}#sk-container-id-19 div.sk-toggleable__content pre {margin: 0.2em;color: black;border-radius: 0.25em;background-color: #f0f8ff;}#sk-container-id-19 input.sk-toggleable__control:checked~div.sk-toggleable__content {max-height: 200px;max-width: 100%;overflow: auto;}#sk-container-id-19 input.sk-toggleable__control:checked~label.sk-toggleable__label-arrow:before {content: \"▾\";}#sk-container-id-19 div.sk-estimator input.sk-toggleable__control:checked~label.sk-toggleable__label {background-color: #d4ebff;}#sk-container-id-19 div.sk-label input.sk-toggleable__control:checked~label.sk-toggleable__label {background-color: #d4ebff;}#sk-container-id-19 input.sk-hidden--visually {border: 0;clip: rect(1px 1px 1px 1px);clip: rect(1px, 1px, 1px, 1px);height: 1px;margin: -1px;overflow: hidden;padding: 0;position: absolute;width: 1px;}#sk-container-id-19 div.sk-estimator {font-family: monospace;background-color: #f0f8ff;border: 1px dotted black;border-radius: 0.25em;box-sizing: border-box;margin-bottom: 0.5em;}#sk-container-id-19 div.sk-estimator:hover {background-color: #d4ebff;}#sk-container-id-19 div.sk-parallel-item::after {content: \"\";width: 100%;border-bottom: 1px solid gray;flex-grow: 1;}#sk-container-id-19 div.sk-label:hover label.sk-toggleable__label {background-color: #d4ebff;}#sk-container-id-19 div.sk-serial::before {content: \"\";position: absolute;border-left: 1px solid gray;box-sizing: border-box;top: 0;bottom: 0;left: 50%;z-index: 0;}#sk-container-id-19 div.sk-serial {display: flex;flex-direction: column;align-items: center;background-color: white;padding-right: 0.2em;padding-left: 0.2em;position: relative;}#sk-container-id-19 div.sk-item {position: relative;z-index: 1;}#sk-container-id-19 div.sk-parallel {display: flex;align-items: stretch;justify-content: center;background-color: white;position: relative;}#sk-container-id-19 div.sk-item::before, #sk-container-id-19 div.sk-parallel-item::before {content: \"\";position: absolute;border-left: 1px solid gray;box-sizing: border-box;top: 0;bottom: 0;left: 50%;z-index: -1;}#sk-container-id-19 div.sk-parallel-item {display: flex;flex-direction: column;z-index: 1;position: relative;background-color: white;}#sk-container-id-19 div.sk-parallel-item:first-child::after {align-self: flex-end;width: 50%;}#sk-container-id-19 div.sk-parallel-item:last-child::after {align-self: flex-start;width: 50%;}#sk-container-id-19 div.sk-parallel-item:only-child::after {width: 0;}#sk-container-id-19 div.sk-dashed-wrapped {border: 1px dashed gray;margin: 0 0.4em 0.5em 0.4em;box-sizing: border-box;padding-bottom: 0.4em;background-color: white;}#sk-container-id-19 div.sk-label label {font-family: monospace;font-weight: bold;display: inline-block;line-height: 1.2em;}#sk-container-id-19 div.sk-label-container {text-align: center;}#sk-container-id-19 div.sk-container {/* jupyter's `normalize.less` sets `[hidden] { display: none; }` but bootstrap.min.css set `[hidden] { display: none !important; }` so we also need the `!important` here to be able to override the default hidden behavior on the sphinx rendered scikit-learn.org. See: https://github.com/scikit-learn/scikit-learn/issues/21755 */display: inline-block !important;position: relative;}#sk-container-id-19 div.sk-text-repr-fallback {display: none;}</style><div id=\"sk-container-id-19\" class=\"sk-top-container\"><div class=\"sk-text-repr-fallback\"><pre>RandomForestClassifier(class_weight={0: 2, 1: 1}, random_state=42)</pre><b>In a Jupyter environment, please rerun this cell to show the HTML representation or trust the notebook. <br />On GitHub, the HTML representation is unable to render, please try loading this page with nbviewer.org.</b></div><div class=\"sk-container\" hidden><div class=\"sk-item\"><div class=\"sk-estimator sk-toggleable\"><input class=\"sk-toggleable__control sk-hidden--visually\" id=\"sk-estimator-id-19\" type=\"checkbox\" checked><label for=\"sk-estimator-id-19\" class=\"sk-toggleable__label sk-toggleable__label-arrow\">RandomForestClassifier</label><div class=\"sk-toggleable__content\"><pre>RandomForestClassifier(class_weight={0: 2, 1: 1}, random_state=42)</pre></div></div></div></div></div>"
      ],
      "text/plain": [
       "RandomForestClassifier(class_weight={0: 2, 1: 1}, random_state=42)"
      ]
     },
     "execution_count": 336,
     "metadata": {},
     "output_type": "execute_result"
    }
   ],
   "source": [
    "rf_classifier.fit(X_train, y_train)\n"
   ]
  },
  {
   "cell_type": "code",
   "execution_count": 337,
   "id": "8362abd5-931e-489e-921d-ef6c9b49c4f7",
   "metadata": {},
   "outputs": [
    {
     "name": "stdout",
     "output_type": "stream",
     "text": [
      "Accuracy: 0.879798903107861\n"
     ]
    }
   ],
   "source": [
    "\n",
    "# Make predictions on the test set\n",
    "y_pred = rf_classifier.predict(X_test)\n",
    "\n",
    "# Calculate accuracy\n",
    "accuracy = accuracy_score(y_test, y_pred)\n",
    "print(f\"Accuracy: {accuracy}\")"
   ]
  },
  {
   "cell_type": "code",
   "execution_count": 338,
   "id": "0b06f3fe-71be-4d79-a89b-1b654678face",
   "metadata": {},
   "outputs": [
    {
     "name": "stdout",
     "output_type": "stream",
     "text": [
      "Precision: 0.6981627296587927\n",
      "Recall: 0.642512077294686\n",
      "F1-score: 0.6691823899371069\n"
     ]
    }
   ],
   "source": [
    "precision = precision_score(y_test, y_pred)\n",
    "recall = recall_score(y_test, y_pred)\n",
    "f1 = f1_score(y_test, y_pred)\n",
    "\n",
    "print(\"Precision:\", precision)\n",
    "print(\"Recall:\", recall)\n",
    "print(\"F1-score:\", f1)"
   ]
  },
  {
   "cell_type": "code",
   "execution_count": null,
   "id": "b14934d0-f911-4c88-a7a3-7fe9bf68d094",
   "metadata": {},
   "outputs": [],
   "source": []
  },
  {
   "cell_type": "code",
   "execution_count": 353,
   "id": "a28bdb04-a699-47f9-82d4-779415118a5c",
   "metadata": {},
   "outputs": [],
   "source": [
    "rf_classifier = RandomForestClassifier(n_estimators=100, random_state=42,class_weight={0:5,1:1})\n"
   ]
  },
  {
   "cell_type": "code",
   "execution_count": 354,
   "id": "5ec00424-d036-449c-bbef-b8e4ac328f28",
   "metadata": {},
   "outputs": [
    {
     "data": {
      "text/html": [
       "<style>#sk-container-id-22 {color: black;}#sk-container-id-22 pre{padding: 0;}#sk-container-id-22 div.sk-toggleable {background-color: white;}#sk-container-id-22 label.sk-toggleable__label {cursor: pointer;display: block;width: 100%;margin-bottom: 0;padding: 0.3em;box-sizing: border-box;text-align: center;}#sk-container-id-22 label.sk-toggleable__label-arrow:before {content: \"▸\";float: left;margin-right: 0.25em;color: #696969;}#sk-container-id-22 label.sk-toggleable__label-arrow:hover:before {color: black;}#sk-container-id-22 div.sk-estimator:hover label.sk-toggleable__label-arrow:before {color: black;}#sk-container-id-22 div.sk-toggleable__content {max-height: 0;max-width: 0;overflow: hidden;text-align: left;background-color: #f0f8ff;}#sk-container-id-22 div.sk-toggleable__content pre {margin: 0.2em;color: black;border-radius: 0.25em;background-color: #f0f8ff;}#sk-container-id-22 input.sk-toggleable__control:checked~div.sk-toggleable__content {max-height: 200px;max-width: 100%;overflow: auto;}#sk-container-id-22 input.sk-toggleable__control:checked~label.sk-toggleable__label-arrow:before {content: \"▾\";}#sk-container-id-22 div.sk-estimator input.sk-toggleable__control:checked~label.sk-toggleable__label {background-color: #d4ebff;}#sk-container-id-22 div.sk-label input.sk-toggleable__control:checked~label.sk-toggleable__label {background-color: #d4ebff;}#sk-container-id-22 input.sk-hidden--visually {border: 0;clip: rect(1px 1px 1px 1px);clip: rect(1px, 1px, 1px, 1px);height: 1px;margin: -1px;overflow: hidden;padding: 0;position: absolute;width: 1px;}#sk-container-id-22 div.sk-estimator {font-family: monospace;background-color: #f0f8ff;border: 1px dotted black;border-radius: 0.25em;box-sizing: border-box;margin-bottom: 0.5em;}#sk-container-id-22 div.sk-estimator:hover {background-color: #d4ebff;}#sk-container-id-22 div.sk-parallel-item::after {content: \"\";width: 100%;border-bottom: 1px solid gray;flex-grow: 1;}#sk-container-id-22 div.sk-label:hover label.sk-toggleable__label {background-color: #d4ebff;}#sk-container-id-22 div.sk-serial::before {content: \"\";position: absolute;border-left: 1px solid gray;box-sizing: border-box;top: 0;bottom: 0;left: 50%;z-index: 0;}#sk-container-id-22 div.sk-serial {display: flex;flex-direction: column;align-items: center;background-color: white;padding-right: 0.2em;padding-left: 0.2em;position: relative;}#sk-container-id-22 div.sk-item {position: relative;z-index: 1;}#sk-container-id-22 div.sk-parallel {display: flex;align-items: stretch;justify-content: center;background-color: white;position: relative;}#sk-container-id-22 div.sk-item::before, #sk-container-id-22 div.sk-parallel-item::before {content: \"\";position: absolute;border-left: 1px solid gray;box-sizing: border-box;top: 0;bottom: 0;left: 50%;z-index: -1;}#sk-container-id-22 div.sk-parallel-item {display: flex;flex-direction: column;z-index: 1;position: relative;background-color: white;}#sk-container-id-22 div.sk-parallel-item:first-child::after {align-self: flex-end;width: 50%;}#sk-container-id-22 div.sk-parallel-item:last-child::after {align-self: flex-start;width: 50%;}#sk-container-id-22 div.sk-parallel-item:only-child::after {width: 0;}#sk-container-id-22 div.sk-dashed-wrapped {border: 1px dashed gray;margin: 0 0.4em 0.5em 0.4em;box-sizing: border-box;padding-bottom: 0.4em;background-color: white;}#sk-container-id-22 div.sk-label label {font-family: monospace;font-weight: bold;display: inline-block;line-height: 1.2em;}#sk-container-id-22 div.sk-label-container {text-align: center;}#sk-container-id-22 div.sk-container {/* jupyter's `normalize.less` sets `[hidden] { display: none; }` but bootstrap.min.css set `[hidden] { display: none !important; }` so we also need the `!important` here to be able to override the default hidden behavior on the sphinx rendered scikit-learn.org. See: https://github.com/scikit-learn/scikit-learn/issues/21755 */display: inline-block !important;position: relative;}#sk-container-id-22 div.sk-text-repr-fallback {display: none;}</style><div id=\"sk-container-id-22\" class=\"sk-top-container\"><div class=\"sk-text-repr-fallback\"><pre>RandomForestClassifier(class_weight={0: 5, 1: 1}, random_state=42)</pre><b>In a Jupyter environment, please rerun this cell to show the HTML representation or trust the notebook. <br />On GitHub, the HTML representation is unable to render, please try loading this page with nbviewer.org.</b></div><div class=\"sk-container\" hidden><div class=\"sk-item\"><div class=\"sk-estimator sk-toggleable\"><input class=\"sk-toggleable__control sk-hidden--visually\" id=\"sk-estimator-id-22\" type=\"checkbox\" checked><label for=\"sk-estimator-id-22\" class=\"sk-toggleable__label sk-toggleable__label-arrow\">RandomForestClassifier</label><div class=\"sk-toggleable__content\"><pre>RandomForestClassifier(class_weight={0: 5, 1: 1}, random_state=42)</pre></div></div></div></div></div>"
      ],
      "text/plain": [
       "RandomForestClassifier(class_weight={0: 5, 1: 1}, random_state=42)"
      ]
     },
     "execution_count": 354,
     "metadata": {},
     "output_type": "execute_result"
    }
   ],
   "source": [
    "rf_classifier.fit(X_train, y_train)\n"
   ]
  },
  {
   "cell_type": "code",
   "execution_count": 355,
   "id": "6c030a2b-4315-42bd-9d1d-7a6c5a60b15d",
   "metadata": {},
   "outputs": [
    {
     "name": "stdout",
     "output_type": "stream",
     "text": [
      "Accuracy: 0.8638025594149908\n"
     ]
    }
   ],
   "source": [
    "\n",
    "# Make predictions on the test set\n",
    "y_pred = rf_classifier.predict(X_test)\n",
    "\n",
    "# Calculate accuracy\n",
    "accuracy = accuracy_score(y_test, y_pred)\n",
    "print(f\"Accuracy: {accuracy}\")"
   ]
  },
  {
   "cell_type": "code",
   "execution_count": 356,
   "id": "e1924740-cd96-46e2-8dd0-43c17a294735",
   "metadata": {},
   "outputs": [
    {
     "name": "stdout",
     "output_type": "stream",
     "text": [
      "Precision: 0.6228813559322034\n",
      "Recall: 0.7101449275362319\n",
      "F1-score: 0.6636568848758465\n"
     ]
    }
   ],
   "source": [
    "precision = precision_score(y_test, y_pred)\n",
    "recall = recall_score(y_test, y_pred)\n",
    "f1 = f1_score(y_test, y_pred)\n",
    "\n",
    "print(\"Precision:\", precision)\n",
    "print(\"Recall:\", recall)\n",
    "print(\"F1-score:\", f1)"
   ]
  },
  {
   "cell_type": "code",
   "execution_count": null,
   "id": "41087a4c-b8a3-42b2-8f55-14b752cc1e07",
   "metadata": {},
   "outputs": [],
   "source": []
  },
  {
   "cell_type": "code",
   "execution_count": null,
   "id": "01ed283f-3086-411f-b98e-45c190ada2b6",
   "metadata": {},
   "outputs": [],
   "source": []
  },
  {
   "cell_type": "code",
   "execution_count": null,
   "id": "8e816aa4-f395-4b48-b6fe-b5b1e0231ae0",
   "metadata": {},
   "outputs": [],
   "source": []
  },
  {
   "cell_type": "code",
   "execution_count": 343,
   "id": "daae1467-a463-43ba-ad74-08d32da0bc0c",
   "metadata": {},
   "outputs": [
    {
     "name": "stdout",
     "output_type": "stream",
     "text": [
      "Precision: 0.5242718446601942\n",
      "Recall: 0.712401055408971\n",
      "F1-score: 0.6040268456375839\n"
     ]
    }
   ],
   "source": [
    "precision = precision_score(labels_test,pred_test)\n",
    "recall = recall_score(labels_test,pred_test)\n",
    "f1 = f1_score(labels_test,pred_test)\n",
    "\n",
    "print(\"Precision:\", precision)\n",
    "print(\"Recall:\", recall)\n",
    "print(\"F1-score:\", f1)"
   ]
  },
  {
   "cell_type": "code",
   "execution_count": 347,
   "id": "0aaaa277-1c58-4d2d-908c-4a3443f0eef5",
   "metadata": {},
   "outputs": [
    {
     "name": "stdout",
     "output_type": "stream",
     "text": [
      "              precision    recall  f1-score   support\n",
      "\n",
      "           0       0.93      0.86      0.90      1809\n",
      "           1       0.52      0.71      0.60       379\n",
      "\n",
      "    accuracy                           0.84      2188\n",
      "   macro avg       0.73      0.79      0.75      2188\n",
      "weighted avg       0.86      0.84      0.85      2188\n",
      "\n"
     ]
    }
   ],
   "source": [
    "report = classification_report(labels_test,pred_test)\n",
    "\n",
    "# Print the report\n",
    "print(report)"
   ]
  },
  {
   "cell_type": "code",
   "execution_count": 348,
   "id": "a01230df-5676-4cba-aa7b-4a2838af6fd9",
   "metadata": {},
   "outputs": [
    {
     "name": "stdout",
     "output_type": "stream",
     "text": [
      "              precision    recall  f1-score   support\n",
      "\n",
      "           0       0.92      0.93      0.92      1774\n",
      "           1       0.68      0.66      0.67       414\n",
      "\n",
      "    accuracy                           0.88      2188\n",
      "   macro avg       0.80      0.79      0.80      2188\n",
      "weighted avg       0.88      0.88      0.88      2188\n",
      "\n"
     ]
    }
   ],
   "source": [
    "report = classification_report(y_test, y_pred)\n",
    "\n",
    "# Print the report\n",
    "print(report)"
   ]
  },
  {
   "cell_type": "code",
   "execution_count": 357,
   "id": "80551e0f-2648-4599-bc67-2eb074b7d30e",
   "metadata": {},
   "outputs": [
    {
     "name": "stdout",
     "output_type": "stream",
     "text": [
      "              precision    recall  f1-score   support\n",
      "\n",
      "           0       0.93      0.90      0.91      1774\n",
      "           1       0.62      0.71      0.66       414\n",
      "\n",
      "    accuracy                           0.86      2188\n",
      "   macro avg       0.78      0.80      0.79      2188\n",
      "weighted avg       0.87      0.86      0.87      2188\n",
      "\n"
     ]
    }
   ],
   "source": [
    "report = classification_report(y_test, y_pred)\n",
    "\n",
    "# Print the report\n",
    "print(report)"
   ]
  },
  {
   "cell_type": "code",
   "execution_count": null,
   "id": "83691018-58be-49d8-b85a-74b3589d2e52",
   "metadata": {},
   "outputs": [],
   "source": []
  }
 ],
 "metadata": {
  "kernelspec": {
   "display_name": "iLab-env",
   "language": "python",
   "name": "ilab-env"
  },
  "language_info": {
   "codemirror_mode": {
    "name": "ipython",
    "version": 3
   },
   "file_extension": ".py",
   "mimetype": "text/x-python",
   "name": "python",
   "nbconvert_exporter": "python",
   "pygments_lexer": "ipython3",
   "version": "3.8.2"
  }
 },
 "nbformat": 4,
 "nbformat_minor": 5
}
