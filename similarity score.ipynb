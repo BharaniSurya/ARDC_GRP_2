{
 "cells": [
  {
   "cell_type": "code",
   "execution_count": 1,
   "id": "cb4dc28f",
   "metadata": {},
   "outputs": [],
   "source": [
    "import nltk\n",
    "from nltk.corpus import stopwords\n",
    "from sklearn.feature_extraction.text import TfidfVectorizer\n",
    "from sklearn.metrics.pairwise import cosine_similarity\n",
    "import pandas as pd\n"
   ]
  },
  {
   "cell_type": "code",
   "execution_count": 3,
   "id": "fb2cc824",
   "metadata": {},
   "outputs": [
    {
     "data": {
      "text/html": [
       "<div>\n",
       "<style scoped>\n",
       "    .dataframe tbody tr th:only-of-type {\n",
       "        vertical-align: middle;\n",
       "    }\n",
       "\n",
       "    .dataframe tbody tr th {\n",
       "        vertical-align: top;\n",
       "    }\n",
       "\n",
       "    .dataframe thead th {\n",
       "        text-align: right;\n",
       "    }\n",
       "</style>\n",
       "<table border=\"1\" class=\"dataframe\">\n",
       "  <thead>\n",
       "    <tr style=\"text-align: right;\">\n",
       "      <th></th>\n",
       "      <th>emotions</th>\n",
       "    </tr>\n",
       "  </thead>\n",
       "  <tbody>\n",
       "    <tr>\n",
       "      <th>0</th>\n",
       "      <td>anticipation</td>\n",
       "    </tr>\n",
       "    <tr>\n",
       "      <th>1</th>\n",
       "      <td>anger</td>\n",
       "    </tr>\n",
       "    <tr>\n",
       "      <th>2</th>\n",
       "      <td>joy</td>\n",
       "    </tr>\n",
       "    <tr>\n",
       "      <th>3</th>\n",
       "      <td>sadness</td>\n",
       "    </tr>\n",
       "    <tr>\n",
       "      <th>4</th>\n",
       "      <td>NaN</td>\n",
       "    </tr>\n",
       "    <tr>\n",
       "      <th>...</th>\n",
       "      <td>...</td>\n",
       "    </tr>\n",
       "    <tr>\n",
       "      <th>1995</th>\n",
       "      <td>anger</td>\n",
       "    </tr>\n",
       "    <tr>\n",
       "      <th>1996</th>\n",
       "      <td>NaN</td>\n",
       "    </tr>\n",
       "    <tr>\n",
       "      <th>1997</th>\n",
       "      <td>joy</td>\n",
       "    </tr>\n",
       "    <tr>\n",
       "      <th>1998</th>\n",
       "      <td>anger</td>\n",
       "    </tr>\n",
       "    <tr>\n",
       "      <th>1999</th>\n",
       "      <td>sadness</td>\n",
       "    </tr>\n",
       "  </tbody>\n",
       "</table>\n",
       "<p>2000 rows × 1 columns</p>\n",
       "</div>"
      ],
      "text/plain": [
       "          emotions\n",
       "0     anticipation\n",
       "1            anger\n",
       "2              joy\n",
       "3          sadness\n",
       "4              NaN\n",
       "...            ...\n",
       "1995         anger\n",
       "1996           NaN\n",
       "1997           joy\n",
       "1998         anger\n",
       "1999       sadness\n",
       "\n",
       "[2000 rows x 1 columns]"
      ]
     },
     "execution_count": 3,
     "metadata": {},
     "output_type": "execute_result"
    }
   ],
   "source": [
    "df1=pd.read_csv('results2.csv')\n",
    "df1"
   ]
  },
  {
   "cell_type": "code",
   "execution_count": 8,
   "id": "fa0e512e",
   "metadata": {},
   "outputs": [
    {
     "data": {
      "text/html": [
       "<div>\n",
       "<style scoped>\n",
       "    .dataframe tbody tr th:only-of-type {\n",
       "        vertical-align: middle;\n",
       "    }\n",
       "\n",
       "    .dataframe tbody tr th {\n",
       "        vertical-align: top;\n",
       "    }\n",
       "\n",
       "    .dataframe thead th {\n",
       "        text-align: right;\n",
       "    }\n",
       "</style>\n",
       "<table border=\"1\" class=\"dataframe\">\n",
       "  <thead>\n",
       "    <tr style=\"text-align: right;\">\n",
       "      <th></th>\n",
       "      <th>emotion</th>\n",
       "      <th>emotion_hat</th>\n",
       "    </tr>\n",
       "  </thead>\n",
       "  <tbody>\n",
       "    <tr>\n",
       "      <th>0</th>\n",
       "      <td>anticipation</td>\n",
       "      <td>anticipation</td>\n",
       "    </tr>\n",
       "    <tr>\n",
       "      <th>1</th>\n",
       "      <td>joy</td>\n",
       "      <td>anger</td>\n",
       "    </tr>\n",
       "    <tr>\n",
       "      <th>2</th>\n",
       "      <td>joy</td>\n",
       "      <td>joy</td>\n",
       "    </tr>\n",
       "    <tr>\n",
       "      <th>3</th>\n",
       "      <td>anger</td>\n",
       "      <td>sadness</td>\n",
       "    </tr>\n",
       "    <tr>\n",
       "      <th>4</th>\n",
       "      <td>anger</td>\n",
       "      <td>NaN</td>\n",
       "    </tr>\n",
       "    <tr>\n",
       "      <th>...</th>\n",
       "      <td>...</td>\n",
       "      <td>...</td>\n",
       "    </tr>\n",
       "    <tr>\n",
       "      <th>1995</th>\n",
       "      <td>disgust</td>\n",
       "      <td>anger</td>\n",
       "    </tr>\n",
       "    <tr>\n",
       "      <th>1996</th>\n",
       "      <td>anger</td>\n",
       "      <td>NaN</td>\n",
       "    </tr>\n",
       "    <tr>\n",
       "      <th>1997</th>\n",
       "      <td>anticipation</td>\n",
       "      <td>joy</td>\n",
       "    </tr>\n",
       "    <tr>\n",
       "      <th>1998</th>\n",
       "      <td>anger</td>\n",
       "      <td>anger</td>\n",
       "    </tr>\n",
       "    <tr>\n",
       "      <th>1999</th>\n",
       "      <td>sadness</td>\n",
       "      <td>sadness</td>\n",
       "    </tr>\n",
       "  </tbody>\n",
       "</table>\n",
       "<p>2000 rows × 2 columns</p>\n",
       "</div>"
      ],
      "text/plain": [
       "           emotion   emotion_hat\n",
       "0     anticipation  anticipation\n",
       "1              joy         anger\n",
       "2              joy           joy\n",
       "3            anger       sadness\n",
       "4            anger           NaN\n",
       "...            ...           ...\n",
       "1995       disgust         anger\n",
       "1996         anger           NaN\n",
       "1997  anticipation           joy\n",
       "1998         anger         anger\n",
       "1999       sadness       sadness\n",
       "\n",
       "[2000 rows x 2 columns]"
      ]
     },
     "execution_count": 8,
     "metadata": {},
     "output_type": "execute_result"
    }
   ],
   "source": [
    "df=pd.read_csv('sentiment-emotion-labelled_Dell_tweets.csv')\n",
    "df=df.head(2000)\n",
    "df=df[['emotion']]\n",
    "df['emotion_hat']=df1['emotions']\n",
    "df"
   ]
  },
  {
   "cell_type": "code",
   "execution_count": 9,
   "id": "fdead1ae",
   "metadata": {},
   "outputs": [],
   "source": [
    "column1=list(df['emotion'])\n",
    "column2=list(df['emotion_hat'])"
   ]
  },
  {
   "cell_type": "code",
   "execution_count": 10,
   "id": "e53e2d35",
   "metadata": {},
   "outputs": [],
   "source": [
    "# Combine the words in each column into sentences\n",
    "sentences = [f\"{word1} {word2}\" for word1, word2 in zip(column1, column2)]\n",
    "tfidf_vectorizer = TfidfVectorizer(stop_words=stopwords.words(\"english\"))"
   ]
  },
  {
   "cell_type": "code",
   "execution_count": 11,
   "id": "e4c1892d",
   "metadata": {},
   "outputs": [],
   "source": [
    "# Calculate TF-IDF vectors for the sentences\n",
    "tfidf_matrix = tfidf_vectorizer.fit_transform(sentences)\n",
    "\n",
    "# Calculate cosine similarity\n",
    "cosine_sim = cosine_similarity(tfidf_matrix, tfidf_matrix)"
   ]
  },
  {
   "cell_type": "code",
   "execution_count": 12,
   "id": "8b60b28b",
   "metadata": {},
   "outputs": [
    {
     "name": "stdout",
     "output_type": "stream",
     "text": [
      "Cosine Similarity Matrix:\n",
      "[[1.         0.         0.         ... 0.77937615 0.         0.        ]\n",
      " [0.         1.         0.72987449 ... 0.45730747 0.68358117 0.        ]\n",
      " [0.         0.72987449 1.         ... 0.62655631 0.         0.        ]\n",
      " ...\n",
      " [0.77937615 0.45730747 0.62655631 ... 1.         0.         0.        ]\n",
      " [0.         0.68358117 0.         ... 0.         1.         0.        ]\n",
      " [0.         0.         0.         ... 0.         0.         1.        ]]\n",
      "Overall Similarity: 0.2675358627908562\n"
     ]
    }
   ],
   "source": [
    "\n",
    "overall_similarity = cosine_sim.mean()\n",
    "\n",
    "print(\"Cosine Similarity Matrix:\")\n",
    "print(cosine_sim)\n",
    "print(\"Overall Similarity:\", overall_similarity)"
   ]
  },
  {
   "cell_type": "code",
   "execution_count": null,
   "id": "6ae746e5",
   "metadata": {},
   "outputs": [],
   "source": []
  },
  {
   "cell_type": "code",
   "execution_count": 22,
   "id": "0a97790e",
   "metadata": {},
   "outputs": [],
   "source": [
    "from sklearn.feature_extraction.text import CountVectorizer"
   ]
  },
  {
   "cell_type": "code",
   "execution_count": 27,
   "id": "df248ea7",
   "metadata": {},
   "outputs": [],
   "source": [
    "def calculate_similarity(row):\n",
    "    if isinstance(row['emotion'], str) and isinstance(row['emotion_hat'], str):\n",
    "        # Create a CountVectorizer to convert words to a bag of words representation\n",
    "        vectorizer = CountVectorizer()\n",
    "        X = vectorizer.fit_transform([row['emotion'], row['emotion_hat']])\n",
    "\n",
    "        # Calculate cosine similarity for the two words\n",
    "        cosine_sim = cosine_similarity(X[0], X[1])\n",
    "        return cosine_sim[0][0]\n",
    "    else:\n",
    "        return None"
   ]
  },
  {
   "cell_type": "code",
   "execution_count": 28,
   "id": "3d460d2f",
   "metadata": {},
   "outputs": [
    {
     "ename": "TypeError",
     "evalue": "list indices must be integers or slices, not str",
     "output_type": "error",
     "traceback": [
      "\u001b[1;31m---------------------------------------------------------------------------\u001b[0m",
      "\u001b[1;31mTypeError\u001b[0m                                 Traceback (most recent call last)",
      "Cell \u001b[1;32mIn[28], line 1\u001b[0m\n\u001b[1;32m----> 1\u001b[0m df[\u001b[38;5;124m'\u001b[39m\u001b[38;5;124mSimilarity\u001b[39m\u001b[38;5;124m'\u001b[39m] \u001b[38;5;241m=\u001b[39m \u001b[43mdf\u001b[49m\u001b[38;5;241;43m.\u001b[39;49m\u001b[43mapply\u001b[49m\u001b[43m(\u001b[49m\u001b[38;5;28;43;01mlambda\u001b[39;49;00m\u001b[43m \u001b[49m\u001b[43mrow\u001b[49m\u001b[43m:\u001b[49m\u001b[43m \u001b[49m\u001b[43mcalculate_similarity\u001b[49m\u001b[43m(\u001b[49m\u001b[43m[\u001b[49m\u001b[43mdf\u001b[49m\u001b[43m[\u001b[49m\u001b[38;5;124;43m'\u001b[39;49m\u001b[38;5;124;43memotion\u001b[39;49m\u001b[38;5;124;43m'\u001b[39;49m\u001b[43m]\u001b[49m\u001b[43m,\u001b[49m\u001b[43m \u001b[49m\u001b[43mrow\u001b[49m\u001b[43m[\u001b[49m\u001b[38;5;124;43m'\u001b[39;49m\u001b[38;5;124;43memotion_hat\u001b[39;49m\u001b[38;5;124;43m'\u001b[39;49m\u001b[43m]\u001b[49m\u001b[43m]\u001b[49m\u001b[43m)\u001b[49m\u001b[43m,\u001b[49m\u001b[43m \u001b[49m\u001b[43maxis\u001b[49m\u001b[38;5;241;43m=\u001b[39;49m\u001b[38;5;241;43m1\u001b[39;49m\u001b[43m)\u001b[49m\n\u001b[0;32m      3\u001b[0m \u001b[38;5;28mprint\u001b[39m(df[[\u001b[38;5;124m'\u001b[39m\u001b[38;5;124memotion\u001b[39m\u001b[38;5;124m'\u001b[39m, \u001b[38;5;124m'\u001b[39m\u001b[38;5;124memotion_hat\u001b[39m\u001b[38;5;124m'\u001b[39m, \u001b[38;5;124m'\u001b[39m\u001b[38;5;124mSimilarity\u001b[39m\u001b[38;5;124m'\u001b[39m]])\n",
      "File \u001b[1;32m~\\AppData\\Local\\Programs\\Python\\Python310\\lib\\site-packages\\pandas\\core\\frame.py:9568\u001b[0m, in \u001b[0;36mDataFrame.apply\u001b[1;34m(self, func, axis, raw, result_type, args, **kwargs)\u001b[0m\n\u001b[0;32m   9557\u001b[0m \u001b[38;5;28;01mfrom\u001b[39;00m \u001b[38;5;21;01mpandas\u001b[39;00m\u001b[38;5;21;01m.\u001b[39;00m\u001b[38;5;21;01mcore\u001b[39;00m\u001b[38;5;21;01m.\u001b[39;00m\u001b[38;5;21;01mapply\u001b[39;00m \u001b[38;5;28;01mimport\u001b[39;00m frame_apply\n\u001b[0;32m   9559\u001b[0m op \u001b[38;5;241m=\u001b[39m frame_apply(\n\u001b[0;32m   9560\u001b[0m     \u001b[38;5;28mself\u001b[39m,\n\u001b[0;32m   9561\u001b[0m     func\u001b[38;5;241m=\u001b[39mfunc,\n\u001b[1;32m   (...)\u001b[0m\n\u001b[0;32m   9566\u001b[0m     kwargs\u001b[38;5;241m=\u001b[39mkwargs,\n\u001b[0;32m   9567\u001b[0m )\n\u001b[1;32m-> 9568\u001b[0m \u001b[38;5;28;01mreturn\u001b[39;00m \u001b[43mop\u001b[49m\u001b[38;5;241;43m.\u001b[39;49m\u001b[43mapply\u001b[49m\u001b[43m(\u001b[49m\u001b[43m)\u001b[49m\u001b[38;5;241m.\u001b[39m__finalize__(\u001b[38;5;28mself\u001b[39m, method\u001b[38;5;241m=\u001b[39m\u001b[38;5;124m\"\u001b[39m\u001b[38;5;124mapply\u001b[39m\u001b[38;5;124m\"\u001b[39m)\n",
      "File \u001b[1;32m~\\AppData\\Local\\Programs\\Python\\Python310\\lib\\site-packages\\pandas\\core\\apply.py:764\u001b[0m, in \u001b[0;36mFrameApply.apply\u001b[1;34m(self)\u001b[0m\n\u001b[0;32m    761\u001b[0m \u001b[38;5;28;01melif\u001b[39;00m \u001b[38;5;28mself\u001b[39m\u001b[38;5;241m.\u001b[39mraw:\n\u001b[0;32m    762\u001b[0m     \u001b[38;5;28;01mreturn\u001b[39;00m \u001b[38;5;28mself\u001b[39m\u001b[38;5;241m.\u001b[39mapply_raw()\n\u001b[1;32m--> 764\u001b[0m \u001b[38;5;28;01mreturn\u001b[39;00m \u001b[38;5;28;43mself\u001b[39;49m\u001b[38;5;241;43m.\u001b[39;49m\u001b[43mapply_standard\u001b[49m\u001b[43m(\u001b[49m\u001b[43m)\u001b[49m\n",
      "File \u001b[1;32m~\\AppData\\Local\\Programs\\Python\\Python310\\lib\\site-packages\\pandas\\core\\apply.py:891\u001b[0m, in \u001b[0;36mFrameApply.apply_standard\u001b[1;34m(self)\u001b[0m\n\u001b[0;32m    890\u001b[0m \u001b[38;5;28;01mdef\u001b[39;00m \u001b[38;5;21mapply_standard\u001b[39m(\u001b[38;5;28mself\u001b[39m):\n\u001b[1;32m--> 891\u001b[0m     results, res_index \u001b[38;5;241m=\u001b[39m \u001b[38;5;28;43mself\u001b[39;49m\u001b[38;5;241;43m.\u001b[39;49m\u001b[43mapply_series_generator\u001b[49m\u001b[43m(\u001b[49m\u001b[43m)\u001b[49m\n\u001b[0;32m    893\u001b[0m     \u001b[38;5;66;03m# wrap results\u001b[39;00m\n\u001b[0;32m    894\u001b[0m     \u001b[38;5;28;01mreturn\u001b[39;00m \u001b[38;5;28mself\u001b[39m\u001b[38;5;241m.\u001b[39mwrap_results(results, res_index)\n",
      "File \u001b[1;32m~\\AppData\\Local\\Programs\\Python\\Python310\\lib\\site-packages\\pandas\\core\\apply.py:907\u001b[0m, in \u001b[0;36mFrameApply.apply_series_generator\u001b[1;34m(self)\u001b[0m\n\u001b[0;32m    904\u001b[0m \u001b[38;5;28;01mwith\u001b[39;00m option_context(\u001b[38;5;124m\"\u001b[39m\u001b[38;5;124mmode.chained_assignment\u001b[39m\u001b[38;5;124m\"\u001b[39m, \u001b[38;5;28;01mNone\u001b[39;00m):\n\u001b[0;32m    905\u001b[0m     \u001b[38;5;28;01mfor\u001b[39;00m i, v \u001b[38;5;129;01min\u001b[39;00m \u001b[38;5;28menumerate\u001b[39m(series_gen):\n\u001b[0;32m    906\u001b[0m         \u001b[38;5;66;03m# ignore SettingWithCopy here in case the user mutates\u001b[39;00m\n\u001b[1;32m--> 907\u001b[0m         results[i] \u001b[38;5;241m=\u001b[39m \u001b[38;5;28;43mself\u001b[39;49m\u001b[38;5;241;43m.\u001b[39;49m\u001b[43mf\u001b[49m\u001b[43m(\u001b[49m\u001b[43mv\u001b[49m\u001b[43m)\u001b[49m\n\u001b[0;32m    908\u001b[0m         \u001b[38;5;28;01mif\u001b[39;00m \u001b[38;5;28misinstance\u001b[39m(results[i], ABCSeries):\n\u001b[0;32m    909\u001b[0m             \u001b[38;5;66;03m# If we have a view on v, we need to make a copy because\u001b[39;00m\n\u001b[0;32m    910\u001b[0m             \u001b[38;5;66;03m#  series_generator will swap out the underlying data\u001b[39;00m\n\u001b[0;32m    911\u001b[0m             results[i] \u001b[38;5;241m=\u001b[39m results[i]\u001b[38;5;241m.\u001b[39mcopy(deep\u001b[38;5;241m=\u001b[39m\u001b[38;5;28;01mFalse\u001b[39;00m)\n",
      "Cell \u001b[1;32mIn[28], line 1\u001b[0m, in \u001b[0;36m<lambda>\u001b[1;34m(row)\u001b[0m\n\u001b[1;32m----> 1\u001b[0m df[\u001b[38;5;124m'\u001b[39m\u001b[38;5;124mSimilarity\u001b[39m\u001b[38;5;124m'\u001b[39m] \u001b[38;5;241m=\u001b[39m df\u001b[38;5;241m.\u001b[39mapply(\u001b[38;5;28;01mlambda\u001b[39;00m row: \u001b[43mcalculate_similarity\u001b[49m\u001b[43m(\u001b[49m\u001b[43m[\u001b[49m\u001b[43mdf\u001b[49m\u001b[43m[\u001b[49m\u001b[38;5;124;43m'\u001b[39;49m\u001b[38;5;124;43memotion\u001b[39;49m\u001b[38;5;124;43m'\u001b[39;49m\u001b[43m]\u001b[49m\u001b[43m,\u001b[49m\u001b[43m \u001b[49m\u001b[43mrow\u001b[49m\u001b[43m[\u001b[49m\u001b[38;5;124;43m'\u001b[39;49m\u001b[38;5;124;43memotion_hat\u001b[39;49m\u001b[38;5;124;43m'\u001b[39;49m\u001b[43m]\u001b[49m\u001b[43m]\u001b[49m\u001b[43m)\u001b[49m, axis\u001b[38;5;241m=\u001b[39m\u001b[38;5;241m1\u001b[39m)\n\u001b[0;32m      3\u001b[0m \u001b[38;5;28mprint\u001b[39m(df[[\u001b[38;5;124m'\u001b[39m\u001b[38;5;124memotion\u001b[39m\u001b[38;5;124m'\u001b[39m, \u001b[38;5;124m'\u001b[39m\u001b[38;5;124memotion_hat\u001b[39m\u001b[38;5;124m'\u001b[39m, \u001b[38;5;124m'\u001b[39m\u001b[38;5;124mSimilarity\u001b[39m\u001b[38;5;124m'\u001b[39m]])\n",
      "Cell \u001b[1;32mIn[27], line 2\u001b[0m, in \u001b[0;36mcalculate_similarity\u001b[1;34m(row)\u001b[0m\n\u001b[0;32m      1\u001b[0m \u001b[38;5;28;01mdef\u001b[39;00m \u001b[38;5;21mcalculate_similarity\u001b[39m(row):\n\u001b[1;32m----> 2\u001b[0m     \u001b[38;5;28;01mif\u001b[39;00m \u001b[38;5;28misinstance\u001b[39m(\u001b[43mrow\u001b[49m\u001b[43m[\u001b[49m\u001b[38;5;124;43m'\u001b[39;49m\u001b[38;5;124;43memotion\u001b[39;49m\u001b[38;5;124;43m'\u001b[39;49m\u001b[43m]\u001b[49m, \u001b[38;5;28mstr\u001b[39m) \u001b[38;5;129;01mand\u001b[39;00m \u001b[38;5;28misinstance\u001b[39m(row[\u001b[38;5;124m'\u001b[39m\u001b[38;5;124memotion_hat\u001b[39m\u001b[38;5;124m'\u001b[39m], \u001b[38;5;28mstr\u001b[39m):\n\u001b[0;32m      3\u001b[0m         \u001b[38;5;66;03m# Create a CountVectorizer to convert words to a bag of words representation\u001b[39;00m\n\u001b[0;32m      4\u001b[0m         vectorizer \u001b[38;5;241m=\u001b[39m CountVectorizer()\n\u001b[0;32m      5\u001b[0m         X \u001b[38;5;241m=\u001b[39m vectorizer\u001b[38;5;241m.\u001b[39mfit_transform([row[\u001b[38;5;124m'\u001b[39m\u001b[38;5;124memotion\u001b[39m\u001b[38;5;124m'\u001b[39m], row[\u001b[38;5;124m'\u001b[39m\u001b[38;5;124memotion_hat\u001b[39m\u001b[38;5;124m'\u001b[39m]])\n",
      "\u001b[1;31mTypeError\u001b[0m: list indices must be integers or slices, not str"
     ]
    }
   ],
   "source": [
    "df['Similarity'] = df.apply(lambda row: calculate_similarity([df['emotion'], row['emotion_hat']]), axis=1)\n",
    "\n",
    "print(df[['emotion', 'emotion_hat', 'Similarity']])"
   ]
  },
  {
   "cell_type": "code",
   "execution_count": null,
   "id": "f17ad2e0",
   "metadata": {},
   "outputs": [],
   "source": []
  },
  {
   "cell_type": "code",
   "execution_count": 29,
   "id": "508b6e1b",
   "metadata": {},
   "outputs": [
    {
     "name": "stdout",
     "output_type": "stream",
     "text": [
      "           emotion   emotion_hat  Similarity\n",
      "0     anticipation  anticipation         1.0\n",
      "1              joy         anger         0.0\n",
      "2              joy           joy         1.0\n",
      "3            anger       sadness         0.0\n",
      "4            anger           NaN         NaN\n",
      "...            ...           ...         ...\n",
      "1995       disgust         anger         0.0\n",
      "1996         anger           NaN         NaN\n",
      "1997  anticipation           joy         0.0\n",
      "1998         anger         anger         1.0\n",
      "1999       sadness       sadness         1.0\n",
      "\n",
      "[2000 rows x 3 columns]\n"
     ]
    }
   ],
   "source": [
    "def calculate_similarity(row):\n",
    "    if isinstance(row['emotion'], str) and isinstance(row['emotion_hat'], str):\n",
    "        \n",
    "        vectorizer = CountVectorizer()\n",
    "        X = vectorizer.fit_transform([row['emotion'], row['emotion_hat']])\n",
    "\n",
    "        # Calculate cosine similarity for the two words\n",
    "        cosine_sim = cosine_similarity(X)\n",
    "        return cosine_sim[0][1]\n",
    "    else:\n",
    "        return None\n",
    "\n",
    "# Apply the function to each row in the DataFrame\n",
    "df['Similarity'] = df.apply(lambda row: calculate_similarity(row), axis=1)\n",
    "\n",
    "print(df[['emotion', 'emotion_hat', 'Similarity']])\n"
   ]
  },
  {
   "cell_type": "code",
   "execution_count": 30,
   "id": "e2a5ce38",
   "metadata": {},
   "outputs": [
    {
     "name": "stdout",
     "output_type": "stream",
     "text": [
      "Cosine Similarity Score: 0.0\n"
     ]
    }
   ],
   "source": [
    "from sklearn.metrics.pairwise import cosine_similarity\n",
    "from sklearn.feature_extraction.text import CountVectorizer\n",
    "\n",
    "# Create a CountVectorizer\n",
    "vectorizer = CountVectorizer()\n",
    "\n",
    "# Create a document-term matrix for the two words\n",
    "word_matrix = vectorizer.fit_transform([\"happy\", \"joy\"])\n",
    "\n",
    "# Calculate cosine similarity\n",
    "cosine_sim = cosine_similarity(word_matrix)\n",
    "\n",
    "# The similarity score is at cosine_sim[0][1]\n",
    "similarity_score = cosine_sim[0][1]\n",
    "\n",
    "print(\"Cosine Similarity Score:\", similarity_score)"
   ]
  },
  {
   "cell_type": "code",
   "execution_count": 73,
   "id": "9122aee1",
   "metadata": {},
   "outputs": [],
   "source": [
    "df.to_csv(\"falcon.csv\")"
   ]
  },
  {
   "cell_type": "code",
   "execution_count": 50,
   "id": "b0f5f7e3",
   "metadata": {},
   "outputs": [
    {
     "data": {
      "text/plain": [
       "2000"
      ]
     },
     "execution_count": 50,
     "metadata": {},
     "output_type": "execute_result"
    }
   ],
   "source": [
    "len(a)"
   ]
  },
  {
   "cell_type": "code",
   "execution_count": 47,
   "id": "8f482f48",
   "metadata": {},
   "outputs": [],
   "source": [
    "a=list(df['emotion'])\n",
    "b=list(df['emotion_hat'])"
   ]
  },
  {
   "cell_type": "code",
   "execution_count": 64,
   "id": "f193b8ce",
   "metadata": {},
   "outputs": [],
   "source": [
    "d=[]\n",
    "for i in range(len(a)):\n",
    "    if type(a[i])== str and type(b[i])== str:\n",
    "        word_set1 = set(a[i])\n",
    "        word_set2 = set(b[i])\n",
    "\n",
    "        # Calculate Jaccard Similarity\n",
    "        intersection = len(word_set1.intersection(word_set2))\n",
    "        union = len(word_set1.union(word_set2))\n",
    "\n",
    "        jaccard_similarity = intersection / union\n",
    "        d.append(jaccard_similarity)\n",
    "    else:\n",
    "        d.append(0)\n"
   ]
  },
  {
   "cell_type": "code",
   "execution_count": 65,
   "id": "afbdac41",
   "metadata": {
    "scrolled": true
   },
   "outputs": [
    {
     "name": "stdout",
     "output_type": "stream",
     "text": [
      "[1.0, 0.0, 1.0, 0.42857142857142855, 0, 0.2222222222222222, 0, 1.0, 1.0, 0, 1.0, 0.2, 0, 0, 0, 0, 0.18181818181818182, 1.0, 0.1111111111111111, 0.1111111111111111, 0, 0, 0, 0.42857142857142855, 0.1, 0, 1.0, 0, 0.125, 0.1, 0.42857142857142855, 0.0, 1.0, 1.0, 1.0, 0, 0.1, 0.0, 1.0, 1.0, 0, 1.0, 0, 0.2222222222222222, 0, 0.1, 0.2, 0, 0.1, 0.1111111111111111, 0, 1.0, 0, 0.0, 0.0, 0.1, 1.0, 1.0, 0, 0.42857142857142855, 0.1111111111111111, 0, 0, 1.0, 0.1, 1.0, 1.0, 0, 0.0, 1.0, 0, 0, 1.0, 0, 0, 0.1, 0.2222222222222222, 0.1, 0.1, 0.1, 0.1, 1.0, 0.42857142857142855, 0, 0, 0.1111111111111111, 0.125, 1.0, 1.0, 0, 0.1111111111111111, 0.1111111111111111, 0.2, 1.0, 1.0, 0.18181818181818182, 0, 1.0, 0, 1.0, 0.2, 0, 1.0, 0.0, 1.0, 0, 0.1, 0, 1.0, 0.18181818181818182, 0, 1.0, 0, 0.1111111111111111, 0.1111111111111111, 0, 0.1, 1.0, 0, 1.0, 0, 0, 1.0, 1.0, 0.18181818181818182, 0, 0, 0, 0.42857142857142855, 0.1, 0.2222222222222222, 1.0, 0, 0.125, 0, 0.1, 0, 0, 0.2222222222222222, 0.2, 0, 0, 1.0, 0, 0, 0.0, 1.0, 1.0, 0, 0.0, 0.125, 0.125, 1.0, 0, 0, 0.2222222222222222, 1.0, 0, 0.125, 0, 0, 0.125, 0, 0, 0.0, 0, 1.0, 1.0, 0.1, 0.1, 1.0, 0.3333333333333333, 0.1111111111111111, 0.0, 0, 1.0, 0, 0, 0.1, 0.1111111111111111, 0.1111111111111111, 0.125, 0, 0.1, 1.0, 0, 1.0, 0, 0.0, 0, 0.1, 0.0, 0.1, 0, 0, 0, 0, 0.1111111111111111, 1.0, 0.42857142857142855, 0, 0, 0.0, 1.0, 0, 0, 0, 1.0, 1.0, 0, 1.0, 0, 1.0, 0.4444444444444444, 0.0, 0.1111111111111111, 0, 1.0, 0, 0, 0, 0, 0, 0.18181818181818182, 0, 0, 0, 1.0, 0, 0, 0, 0.1, 0.125, 1.0, 0, 0.125, 1.0, 0.1, 1.0, 0.18181818181818182, 1.0, 0.1111111111111111, 0, 0.1, 0.0, 1.0, 0.0, 0.18181818181818182, 0.2, 0, 0.125, 0, 0, 0.1, 0.1111111111111111, 0, 0, 0.0, 1.0, 0, 0.0, 1.0, 0.0, 0.1, 0, 0, 0, 0.0, 1.0, 0.2222222222222222, 0.1, 0, 0, 0.42857142857142855, 0, 0.125, 0.1, 0, 0.1, 1.0, 0.1, 0.1111111111111111, 0.1, 0, 0, 0, 0.2222222222222222, 1.0, 0.1111111111111111, 0.0, 0.42857142857142855, 0, 0.125, 0, 1.0, 0.42857142857142855, 0, 0.1, 0.1, 0, 0, 0, 0, 0.1, 1.0, 0.1, 0.0, 0, 0.0, 0, 1.0, 1.0, 1.0, 0, 0, 0.125, 1.0, 0, 0, 1.0, 1.0, 0, 1.0, 1.0, 1.0, 0.42857142857142855, 0, 0, 0, 1.0, 1.0, 0, 0.1, 0, 0, 0, 1.0, 1.0, 1.0, 0.125, 1.0, 0.1, 0, 0, 1.0, 0, 0.0, 0.4444444444444444, 0.2, 0.2222222222222222, 0.1, 0.1111111111111111, 0.1111111111111111, 0.125, 0.1, 0, 0, 1.0, 0, 0.0, 1.0, 1.0, 0.0, 0, 0.1, 0.1111111111111111, 0.0, 0, 0.1111111111111111, 0.3333333333333333, 1.0, 0.125, 0, 0, 1.0, 0.42857142857142855, 0.0, 1.0, 0, 0, 0.0, 0, 0.1, 1.0, 1.0, 0, 0.1111111111111111, 1.0, 1.0, 0.4444444444444444, 0.125, 0.1, 0, 0.4444444444444444, 0.125, 0.42857142857142855, 0, 0, 0, 0.1, 0.1, 0, 0, 0, 0.2, 1.0, 1.0, 0.125, 0.4444444444444444, 0.1, 0.0, 0, 0, 1.0, 0, 1.0, 0, 0.2, 0.125, 0, 0, 0, 1.0, 0.0, 0, 0.18181818181818182, 1.0, 0.1111111111111111, 0.125, 1.0, 0, 0.1, 0, 1.0, 1.0, 0.42857142857142855, 0, 0.4444444444444444, 0.0, 0.42857142857142855, 1.0, 0, 0.0, 1.0, 0.1, 1.0, 0.1, 0, 0, 0, 0.1111111111111111, 1.0, 0, 1.0, 0, 0, 0.0, 0, 0, 1.0, 1.0, 0, 1.0, 0, 1.0, 0, 1.0, 0.0, 1.0, 0.1, 1.0, 1.0, 0, 0, 0.0, 1.0, 0, 0, 0.1111111111111111, 0.1, 0, 0, 0, 0.0, 1.0, 0, 0, 0, 0, 0.1, 0.1111111111111111, 1.0, 0, 0.1111111111111111, 0.18181818181818182, 0.0, 0.0, 0.125, 0.1, 0.2222222222222222, 0.42857142857142855, 0.1, 0, 0, 0, 0, 1.0, 0.42857142857142855, 0.2222222222222222, 0, 0, 0.0, 1.0, 0, 0.2, 0, 1.0, 1.0, 0.2, 0, 0, 0.0, 0, 1.0, 0, 0.2, 0.18181818181818182, 0.125, 0, 0.2222222222222222, 0.42857142857142855, 0, 0, 1.0, 1.0, 0.42857142857142855, 1.0, 1.0, 0.0, 1.0, 1.0, 1.0, 0.1111111111111111, 0.2, 0.0, 1.0, 0, 1.0, 0, 0, 0, 0, 0.1, 0.1, 0, 0.42857142857142855, 1.0, 1.0, 0, 1.0, 0, 0.125, 0, 0.2222222222222222, 0.42857142857142855, 0.0, 0.1, 0, 0, 0.0, 0.1, 0.125, 0.1, 0, 1.0, 0.1, 0.1111111111111111, 0.1111111111111111, 0.1, 0.2, 1.0, 0.125, 0.0, 1.0, 1.0, 0.0, 0, 1.0, 0, 0, 0.1, 0, 0, 0, 0, 0.1111111111111111, 1.0, 0, 0.1, 1.0, 0, 0.1111111111111111, 1.0, 1.0, 0, 0.0, 0, 0.2222222222222222, 0.42857142857142855, 0.1111111111111111, 0, 0, 0.1111111111111111, 1.0, 0.125, 1.0, 0, 0, 0, 0.42857142857142855, 0.1111111111111111, 0.0, 0, 0.0, 1.0, 0, 0, 0.1111111111111111, 1.0, 0.42857142857142855, 0, 0, 1.0, 0.0, 0.1111111111111111, 0, 1.0, 1.0, 1.0, 0.42857142857142855, 1.0, 1.0, 0.0, 0, 0.1111111111111111, 1.0, 0, 0.2, 0, 0.1, 1.0, 0, 1.0, 0.4444444444444444, 1.0, 1.0, 0.0, 0.4444444444444444, 1.0, 0, 0, 0.1, 0, 0, 0, 0.18181818181818182, 0.4444444444444444, 1.0, 0, 1.0, 0, 0.42857142857142855, 1.0, 1.0, 0.1, 0, 0, 1.0, 0, 0, 1.0, 0, 0, 1.0, 0.1, 0, 0.2222222222222222, 0, 0.1111111111111111, 0.18181818181818182, 0, 0.0, 0.1, 0, 0.4444444444444444, 0, 0.1, 0, 1.0, 1.0, 1.0, 1.0, 0.1, 0, 0, 0.18181818181818182, 0.0, 0, 1.0, 0.1111111111111111, 0, 0.0, 0.0, 1.0, 0.5, 0, 0, 0, 0.0, 1.0, 0, 0, 0, 0.3333333333333333, 1.0, 1.0, 0.2222222222222222, 0, 0, 0, 0, 0, 0.2, 0, 0.1, 0.0, 0.0, 0.125, 0.0, 0.2222222222222222, 0.0, 0, 1.0, 0.0, 1.0, 0, 0, 1.0, 0, 0, 0, 0, 0, 0.18181818181818182, 0.1, 0, 1.0, 0, 0, 0, 0.1111111111111111, 0, 0, 0, 1.0, 1.0, 0, 0, 0.125, 0, 0, 0.0, 0, 0.125, 0.0, 0.1111111111111111, 0, 0.1111111111111111, 0.0, 1.0, 1.0, 0, 0, 0, 0.2, 1.0, 0.2, 0.0, 0, 0.1111111111111111, 0, 0, 0.2222222222222222, 0, 1.0, 0, 0.18181818181818182, 0, 0, 0, 0, 0, 0.4444444444444444, 1.0, 1.0, 0, 0, 0, 0.125, 1.0, 0.42857142857142855, 0, 0.42857142857142855, 0, 0.1, 0.42857142857142855, 0.42857142857142855, 1.0, 0.2222222222222222, 0.125, 0, 1.0, 1.0, 0.0, 0.0, 1.0, 0.1111111111111111, 0.18181818181818182, 1.0, 1.0, 1.0, 0, 0.1111111111111111, 0.0, 0.1111111111111111, 0.18181818181818182, 0.1111111111111111, 1.0, 1.0, 0, 0.1, 0, 0, 0.0, 1.0, 0, 0.125, 1.0, 0.125, 1.0, 0.1, 0.0, 0, 0.125, 0.0, 0.18181818181818182, 0, 0.0, 0.42857142857142855, 0, 1.0, 0, 0.3333333333333333, 0.1, 0.125, 0.42857142857142855, 0, 0, 0, 1.0, 0.1111111111111111, 0.0, 0, 0, 1.0, 0.0, 1.0, 1.0, 0.1, 0, 0, 0, 0, 0.2, 0, 1.0, 0, 0, 0, 0, 1.0, 1.0, 0.1, 0, 0, 0.1, 0.2, 0, 1.0, 0.0, 0.1111111111111111, 1.0, 0.0, 1.0, 0, 0, 0.0, 1.0, 0.0, 1.0, 0, 1.0, 0.42857142857142855, 0, 0.2857142857142857, 0.1111111111111111, 0, 0, 0.2, 1.0, 0.4444444444444444, 0.2, 0, 1.0, 0.1111111111111111, 0, 0, 0, 0, 1.0, 0, 0.1111111111111111, 0.1, 1.0, 0, 0.18181818181818182, 0, 0.2, 0, 1.0, 0.0, 0.2222222222222222, 0, 0, 0.1, 0, 1.0, 0, 1.0, 0, 0, 1.0, 0, 0, 1.0, 0.0, 0, 0, 0, 0, 1.0, 0, 0.18181818181818182, 0, 0, 0.1, 0.1111111111111111, 0.18181818181818182, 0, 0.1, 0.18181818181818182, 0, 0, 1.0, 0, 0, 0, 0.0, 0, 1.0, 0.18181818181818182, 0.1, 1.0, 0, 1.0, 1.0, 0.42857142857142855, 0, 1.0, 0.1111111111111111, 1.0, 1.0, 0.2222222222222222, 0, 0.1, 1.0, 0.0, 0.0, 0, 0.0, 0.42857142857142855, 0, 1.0, 0.1111111111111111, 0.1111111111111111, 0.1, 0.42857142857142855, 0, 0.0, 1.0, 0, 0.1111111111111111, 0.1111111111111111, 0, 0, 0.125, 0, 0, 0, 0.0, 0.1, 0, 0, 0, 0, 1.0, 0, 0, 0.1, 0, 0, 1.0, 0.0, 0.0, 0.0, 0.42857142857142855, 1.0, 0, 0.0, 0.1111111111111111, 0, 0.1111111111111111, 1.0, 0.3333333333333333, 1.0, 1.0, 0.0, 1.0, 0.0, 0, 1.0, 0, 0, 0, 0, 0, 0, 0.42857142857142855, 0.2, 0, 0, 0, 0, 0.2, 0, 0.1, 0.1111111111111111, 0, 0, 1.0, 0.1, 1.0, 0.2222222222222222, 0, 0, 0.1, 0, 0.4444444444444444, 0.1, 0, 1.0, 1.0, 1.0, 1.0, 0.1, 0.2, 0, 0.1, 1.0, 0, 0.2, 0.42857142857142855, 0.1, 0.42857142857142855, 1.0, 1.0, 0.2, 0.2, 0.0, 0.1111111111111111, 0.1111111111111111, 0.125, 1.0, 0, 0.1111111111111111, 1.0, 1.0, 0.0, 1.0, 1.0, 0, 0.1111111111111111, 0.4444444444444444, 0.1111111111111111, 0.3333333333333333, 0.42857142857142855, 0.0, 1.0, 0, 0, 0, 0.2, 1.0, 0, 0.1, 0, 0, 1.0, 1.0, 0.4444444444444444, 1.0, 0.125, 1.0, 0, 1.0, 1.0, 0, 0.42857142857142855, 1.0, 0.125, 0, 1.0, 1.0, 0.42857142857142855, 1.0, 1.0, 1.0, 0.1, 0.1, 0, 1.0, 0.0, 0.1111111111111111, 0, 0, 0.42857142857142855, 0.42857142857142855, 0, 1.0, 0, 0, 0.3333333333333333, 0, 1.0, 0, 0, 0, 0, 0.2, 1.0, 0.0, 0, 0, 0, 0, 0, 0, 0, 1.0, 1.0, 1.0, 0, 0, 0.1111111111111111, 0.1111111111111111, 0.1, 0.3333333333333333, 1.0, 0.1, 0.1, 1.0, 1.0, 0, 0.0, 0, 0, 0, 1.0, 0.2222222222222222, 1.0, 0, 1.0, 0.42857142857142855, 0, 0, 0.1111111111111111, 1.0, 0, 1.0, 0.0, 0, 1.0, 0, 1.0, 1.0, 0.0, 0.2, 1.0, 0, 1.0, 1.0, 1.0, 0.1111111111111111, 0.1111111111111111, 0.1, 0.125, 1.0, 0, 0, 0.1111111111111111, 0.42857142857142855, 0, 0, 1.0, 1.0, 0.2222222222222222, 0, 0.2222222222222222, 0, 0.0, 0.1, 0, 0.0, 0, 1.0, 0, 1.0, 0, 0, 1.0, 0.1, 1.0, 1.0, 1.0, 0.2, 0, 0, 0, 0.1, 0.1111111111111111, 0, 0, 0, 0.1, 0.1111111111111111, 0.0, 0, 1.0, 0.1111111111111111, 0.2222222222222222, 0.1, 0.2, 0, 0.1, 0, 0.1111111111111111, 0.0, 0, 1.0, 1.0, 0.1, 0.2222222222222222, 1.0, 1.0, 0.1111111111111111, 0, 1.0, 1.0, 1.0, 0, 0.1, 0, 0, 1.0, 1.0, 0, 0.42857142857142855, 0.125, 1.0, 0.2222222222222222, 1.0, 1.0, 0.2222222222222222, 0.1, 0, 1.0, 1.0, 0.2, 0.42857142857142855, 0.42857142857142855, 1.0, 0, 1.0, 1.0, 0.1111111111111111, 0.0, 0.2, 1.0, 0.1, 0.1, 1.0, 0, 1.0, 0.0, 0.0, 1.0, 1.0, 0.125, 0.2222222222222222, 0.42857142857142855, 0.42857142857142855, 0.125, 0, 0, 0, 0, 1.0, 0.1111111111111111, 1.0, 0.1, 0, 0, 0, 0.1111111111111111, 0.0, 1.0, 0, 0.1, 0.0, 0, 0.1111111111111111, 0.1, 0, 0.1, 0, 0.42857142857142855, 0.2, 0.0, 0, 1.0, 0, 1.0, 0.4444444444444444, 0, 0, 0, 0.1111111111111111, 0, 1.0, 0, 0.18181818181818182, 1.0, 0, 0, 0, 0.42857142857142855, 0.42857142857142855, 0, 0.1111111111111111, 0.4444444444444444, 0, 0, 0.18181818181818182, 0.1111111111111111, 0, 0, 0, 0, 0, 1.0, 0, 1.0, 1.0, 0.18181818181818182, 0.1111111111111111, 0.125, 1.0, 0, 1.0, 0, 0.18181818181818182, 1.0, 0, 0, 0, 1.0, 0.2, 0, 1.0, 0.125, 1.0, 0.0, 0.1, 0, 0, 0.0, 0, 1.0, 0, 1.0, 0, 0, 1.0, 1.0, 1.0, 0.4444444444444444, 0, 0, 1.0, 1.0, 0.0, 1.0, 0.1111111111111111, 1.0, 0.125, 1.0, 0, 0.125, 0.125, 0, 1.0, 1.0, 0, 0, 0.1111111111111111, 1.0, 1.0, 0.1111111111111111, 0, 0, 0.0, 0, 0, 0, 0, 0, 0.2, 1.0, 0.1, 1.0, 0, 1.0, 0.42857142857142855, 0, 1.0, 0, 0.125, 1.0, 0.0, 0, 0, 0.42857142857142855, 0, 0.18181818181818182, 0.125, 1.0, 0.125, 1.0, 0.2222222222222222, 0.2222222222222222, 0, 1.0, 1.0, 0.1, 0.2, 0.0, 0, 0, 1.0, 0.125, 0.1111111111111111, 0, 0, 0, 1.0, 0, 0, 0.1, 0.1111111111111111, 0.2, 0, 0, 0.1, 1.0, 0.1, 1.0, 1.0, 0, 0.1111111111111111, 0.2222222222222222, 0, 0, 0, 0, 0.0, 1.0, 0, 1.0, 0, 0, 0.1111111111111111, 0.1, 1.0, 1.0, 1.0, 0, 0.1, 0, 0.0, 0, 1.0, 0, 0, 0, 0, 0, 1.0, 0, 0, 0.42857142857142855, 0.1, 0, 0, 1.0, 0.4444444444444444, 1.0, 0, 0, 0.0, 0.1111111111111111, 0, 0, 0, 0, 0, 1.0, 0, 0.1, 0, 1.0, 0.1, 0, 1.0, 1.0, 0, 0.42857142857142855, 0.0, 0, 0, 0.0, 0.1, 0.42857142857142855, 0, 0.18181818181818182, 1.0, 0.1, 0, 0.1111111111111111, 0.1111111111111111, 1.0, 0, 0.42857142857142855, 0.42857142857142855, 0.1, 0, 0, 0.0, 0.1111111111111111, 0.1111111111111111, 0.42857142857142855, 1.0, 0.0, 0.0, 0, 0, 0.2, 0, 0, 0, 0, 0.2, 1.0, 0, 0.42857142857142855, 1.0, 0.42857142857142855, 0.18181818181818182, 0.2, 1.0, 0, 1.0, 0, 0, 1.0, 0, 0.2, 0.2, 0, 0.0, 0, 0, 1.0, 0, 1.0, 0, 0, 0.0, 0, 0, 0, 1.0, 1.0, 0, 0, 0, 0, 0.2222222222222222, 0, 0.0, 0, 0, 0, 1.0, 0, 0, 1.0, 1.0, 0.1, 0.0, 1.0, 0.1111111111111111, 0, 0.0, 0, 1.0, 0, 0, 0.125, 0, 1.0, 1.0, 0.0, 0.2, 0.0, 0, 1.0, 0.2, 0.0, 0, 0.1, 0, 0, 0, 0.0, 0, 1.0, 0.1, 1.0, 1.0, 1.0, 1.0, 0.0, 1.0, 0.0, 0.0, 0.1111111111111111, 0.0, 0.1, 0, 0.0, 0, 0, 0.2222222222222222, 0, 0, 0, 0.18181818181818182, 0.1111111111111111, 0.2222222222222222, 0, 0, 0, 0.1, 0.2222222222222222, 0.18181818181818182, 0.0, 0.0, 0, 1.0, 0.0, 0, 0.0, 0, 0.1111111111111111, 0, 0, 1.0, 0, 0, 1.0, 0.1111111111111111, 1.0, 1.0, 0, 0.125, 0.1, 0.1111111111111111, 0, 0, 1.0, 0.1, 0.2222222222222222, 0, 0, 0, 0, 0.2, 0, 1.0, 0.1111111111111111, 0.4444444444444444, 0.18181818181818182, 0.18181818181818182, 0.18181818181818182, 0.1, 0.0, 0, 0, 0.42857142857142855, 0, 1.0, 1.0, 1.0, 0, 0, 1.0, 0, 0, 0, 0, 0.1, 0, 0, 1.0, 1.0, 1.0, 0.0, 0, 0, 1.0, 0.0, 0, 0, 0.1, 0, 1.0, 0, 0.0, 0.125, 0.1111111111111111, 0.2, 0, 0, 0.125, 0.1, 1.0, 0, 0, 0.1111111111111111, 0.0, 0, 0, 1.0, 0.1, 0.1, 0, 0.1, 0, 0, 0, 1.0, 0, 0, 0.1, 0, 0, 0.18181818181818182, 0.1, 0, 0, 0, 1.0, 1.0, 0.1, 0.1111111111111111, 0.1, 0.1, 0, 1.0, 0.18181818181818182, 0.125, 0, 0.2222222222222222, 0, 0, 1.0, 1.0, 1.0, 0, 0.42857142857142855, 0, 0, 0, 0, 0, 0, 0.1, 0, 0.125, 1.0, 0, 0.0, 0.0, 1.0, 0.125, 0.0, 0, 1.0, 1.0, 0.1, 0.2, 1.0, 0.0, 1.0, 0, 0, 0.2, 0.4444444444444444, 0.1111111111111111, 0, 0, 0.2857142857142857, 1.0, 0, 1.0, 0.1, 0, 0, 0.0, 0, 0, 0, 0, 0, 0.2, 0.0, 1.0, 0, 0, 0, 0, 0.1, 0.2, 0.1, 0.2, 1.0, 0, 0.1, 0, 0, 0.0, 0.1, 0, 1.0, 0.5, 1.0, 0.125, 1.0, 1.0, 1.0, 0, 0, 0, 0, 0.0, 0.1111111111111111, 0, 0, 0.2, 0, 0.1111111111111111, 0, 1.0, 0.2222222222222222, 0, 0, 0.2222222222222222, 1.0, 0, 0.1, 1.0, 1.0, 0, 0.0, 1.0, 0, 1.0, 0.0, 0.0, 0, 0, 1.0, 0, 1.0, 1.0, 1.0, 0, 1.0, 0.3333333333333333, 0, 0.1, 0.0, 0, 0.1, 1.0, 0.42857142857142855, 0, 0, 0, 1.0, 0, 0.2, 0.2, 0, 0, 0, 1.0, 0, 0.0, 0.0, 1.0, 0.18181818181818182, 1.0, 0.125, 0.42857142857142855, 0, 1.0, 0, 0.1111111111111111, 0.2, 0, 1.0, 0.0, 0, 0.25, 0, 0.1, 0.125, 0.0, 0, 0.42857142857142855, 0.3333333333333333, 0.0, 0, 0.0, 0, 0, 1.0, 0.2222222222222222, 0.0, 0, 0, 0.0, 0.18181818181818182, 0.0, 0.1, 0, 0.1111111111111111, 1.0, 1.0]\n"
     ]
    }
   ],
   "source": [
    "print(d)"
   ]
  },
  {
   "cell_type": "code",
   "execution_count": 67,
   "id": "9ec1556d",
   "metadata": {},
   "outputs": [
    {
     "data": {
      "text/html": [
       "<div>\n",
       "<style scoped>\n",
       "    .dataframe tbody tr th:only-of-type {\n",
       "        vertical-align: middle;\n",
       "    }\n",
       "\n",
       "    .dataframe tbody tr th {\n",
       "        vertical-align: top;\n",
       "    }\n",
       "\n",
       "    .dataframe thead th {\n",
       "        text-align: right;\n",
       "    }\n",
       "</style>\n",
       "<table border=\"1\" class=\"dataframe\">\n",
       "  <thead>\n",
       "    <tr style=\"text-align: right;\">\n",
       "      <th></th>\n",
       "      <th>emotion</th>\n",
       "      <th>emotion_hat</th>\n",
       "      <th>Similarity</th>\n",
       "    </tr>\n",
       "  </thead>\n",
       "  <tbody>\n",
       "    <tr>\n",
       "      <th>0</th>\n",
       "      <td>anticipation</td>\n",
       "      <td>anticipation</td>\n",
       "      <td>1.000000</td>\n",
       "    </tr>\n",
       "    <tr>\n",
       "      <th>1</th>\n",
       "      <td>joy</td>\n",
       "      <td>anger</td>\n",
       "      <td>0.000000</td>\n",
       "    </tr>\n",
       "    <tr>\n",
       "      <th>2</th>\n",
       "      <td>joy</td>\n",
       "      <td>joy</td>\n",
       "      <td>1.000000</td>\n",
       "    </tr>\n",
       "    <tr>\n",
       "      <th>3</th>\n",
       "      <td>anger</td>\n",
       "      <td>sadness</td>\n",
       "      <td>0.428571</td>\n",
       "    </tr>\n",
       "    <tr>\n",
       "      <th>4</th>\n",
       "      <td>anger</td>\n",
       "      <td>NaN</td>\n",
       "      <td>0.000000</td>\n",
       "    </tr>\n",
       "    <tr>\n",
       "      <th>...</th>\n",
       "      <td>...</td>\n",
       "      <td>...</td>\n",
       "      <td>...</td>\n",
       "    </tr>\n",
       "    <tr>\n",
       "      <th>1995</th>\n",
       "      <td>disgust</td>\n",
       "      <td>anger</td>\n",
       "      <td>0.100000</td>\n",
       "    </tr>\n",
       "    <tr>\n",
       "      <th>1996</th>\n",
       "      <td>anger</td>\n",
       "      <td>NaN</td>\n",
       "      <td>0.000000</td>\n",
       "    </tr>\n",
       "    <tr>\n",
       "      <th>1997</th>\n",
       "      <td>anticipation</td>\n",
       "      <td>joy</td>\n",
       "      <td>0.111111</td>\n",
       "    </tr>\n",
       "    <tr>\n",
       "      <th>1998</th>\n",
       "      <td>anger</td>\n",
       "      <td>anger</td>\n",
       "      <td>1.000000</td>\n",
       "    </tr>\n",
       "    <tr>\n",
       "      <th>1999</th>\n",
       "      <td>sadness</td>\n",
       "      <td>sadness</td>\n",
       "      <td>1.000000</td>\n",
       "    </tr>\n",
       "  </tbody>\n",
       "</table>\n",
       "<p>2000 rows × 3 columns</p>\n",
       "</div>"
      ],
      "text/plain": [
       "           emotion   emotion_hat  Similarity\n",
       "0     anticipation  anticipation    1.000000\n",
       "1              joy         anger    0.000000\n",
       "2              joy           joy    1.000000\n",
       "3            anger       sadness    0.428571\n",
       "4            anger           NaN    0.000000\n",
       "...            ...           ...         ...\n",
       "1995       disgust         anger    0.100000\n",
       "1996         anger           NaN    0.000000\n",
       "1997  anticipation           joy    0.111111\n",
       "1998         anger         anger    1.000000\n",
       "1999       sadness       sadness    1.000000\n",
       "\n",
       "[2000 rows x 3 columns]"
      ]
     },
     "execution_count": 67,
     "metadata": {},
     "output_type": "execute_result"
    }
   ],
   "source": [
    "df[\"Similarity\"]=d\n",
    "df"
   ]
  },
  {
   "cell_type": "code",
   "execution_count": 68,
   "id": "54821e2a",
   "metadata": {},
   "outputs": [
    {
     "data": {
      "text/plain": [
       "580.6901154401154"
      ]
     },
     "execution_count": 68,
     "metadata": {},
     "output_type": "execute_result"
    }
   ],
   "source": [
    "sum1 = df['Similarity'].sum()\n",
    "sum1"
   ]
  },
  {
   "cell_type": "code",
   "execution_count": 71,
   "id": "c3de9791",
   "metadata": {},
   "outputs": [
    {
     "name": "stdout",
     "output_type": "stream",
     "text": [
      "Emotion score: 580.6901154401154\n"
     ]
    }
   ],
   "source": [
    "print(\"Emotion score:\",sum1)"
   ]
  },
  {
   "cell_type": "code",
   "execution_count": null,
   "id": "aaf1ea12",
   "metadata": {},
   "outputs": [],
   "source": []
  },
  {
   "cell_type": "code",
   "execution_count": null,
   "id": "eede6e86",
   "metadata": {},
   "outputs": [],
   "source": []
  },
  {
   "cell_type": "code",
   "execution_count": null,
   "id": "6a6bccdc",
   "metadata": {},
   "outputs": [],
   "source": []
  },
  {
   "cell_type": "code",
   "execution_count": 38,
   "id": "3297eb80",
   "metadata": {},
   "outputs": [
    {
     "name": "stdout",
     "output_type": "stream",
     "text": [
      "           emotion   emotion_hat  Similarity\n",
      "0     anticipation  anticipation         1.0\n",
      "1              joy         anger         0.0\n",
      "2              joy           joy         1.0\n",
      "3            anger       sadness         0.0\n",
      "4            anger           NaN         NaN\n",
      "...            ...           ...         ...\n",
      "1995       disgust         anger         0.0\n",
      "1996         anger           NaN         NaN\n",
      "1997  anticipation           joy         0.0\n",
      "1998         anger         anger         1.0\n",
      "1999       sadness       sadness         1.0\n",
      "\n",
      "[2000 rows x 3 columns]\n"
     ]
    }
   ],
   "source": [
    "def calculate_similarity(row):\n",
    "    if isinstance(row['emotion'], str) and isinstance(row['emotion_hat'], str):\n",
    "        # Convert the words in both columns to sets\n",
    "        set1 = set(row['emotion'].split())\n",
    "        set2 = set(row['emotion_hat'].split())\n",
    "        \n",
    "        # Calculate Jaccard Similarity\n",
    "        intersection_size = len(set1.intersection(set2))\n",
    "        union_size = len(set1.union(set2))\n",
    "        jaccard_similarity = intersection_size / union_size\n",
    "        return jaccard_similarity\n",
    "    else:\n",
    "        return None\n",
    "\n",
    "# Apply the function to each row in the DataFrame\n",
    "df['Similarity'] = df.apply(lambda row: calculate_similarity(row), axis=1)\n",
    "\n",
    "print(df[['emotion', 'emotion_hat', 'Similarity']])\n"
   ]
  },
  {
   "cell_type": "code",
   "execution_count": 41,
   "id": "2deffe4b",
   "metadata": {},
   "outputs": [
    {
     "data": {
      "text/plain": [
       "0.0    758\n",
       "1.0    471\n",
       "Name: Similarity, dtype: int64"
      ]
     },
     "execution_count": 41,
     "metadata": {},
     "output_type": "execute_result"
    }
   ],
   "source": [
    "df['Similarity'].value_counts()"
   ]
  },
  {
   "cell_type": "code",
   "execution_count": null,
   "id": "1b0981b9",
   "metadata": {},
   "outputs": [],
   "source": []
  },
  {
   "cell_type": "code",
   "execution_count": null,
   "id": "14f236bf",
   "metadata": {},
   "outputs": [],
   "source": []
  },
  {
   "cell_type": "code",
   "execution_count": 42,
   "id": "22bb9ecb",
   "metadata": {},
   "outputs": [],
   "source": [
    "from sklearn.feature_extraction.text import TfidfVectorizer"
   ]
  },
  {
   "cell_type": "code",
   "execution_count": 43,
   "id": "b07cab6f",
   "metadata": {},
   "outputs": [
    {
     "name": "stdout",
     "output_type": "stream",
     "text": [
      "           emotion   emotion_hat  Similarity\n",
      "0     anticipation  anticipation         1.0\n",
      "1              joy         anger         0.0\n",
      "2              joy           joy         1.0\n",
      "3            anger       sadness         0.0\n",
      "4            anger           NaN         NaN\n",
      "...            ...           ...         ...\n",
      "1995       disgust         anger         0.0\n",
      "1996         anger           NaN         NaN\n",
      "1997  anticipation           joy         0.0\n",
      "1998         anger         anger         1.0\n",
      "1999       sadness       sadness         1.0\n",
      "\n",
      "[2000 rows x 3 columns]\n"
     ]
    }
   ],
   "source": [
    "def calculate_similarity(row):\n",
    "    if isinstance(row['emotion'], str) and isinstance(row['emotion_hat'], str):\n",
    "        # Create a TF-IDF vectorizer\n",
    "        tfidf_vectorizer = TfidfVectorizer()\n",
    "        tfidf_matrix = tfidf_vectorizer.fit_transform([row['emotion'], row['emotion_hat']])\n",
    "        \n",
    "        # Calculate the cosine similarity between the TF-IDF vectors\n",
    "        cosine_sim = (tfidf_matrix * tfidf_matrix.T).A\n",
    "        similarity = cosine_sim[0, 1]\n",
    "        return similarity\n",
    "    else:\n",
    "        return None\n",
    "\n",
    "# Apply the function to each row in the DataFrame\n",
    "df['Similarity'] = df.apply(lambda row: calculate_similarity(row), axis=1)\n",
    "\n",
    "print(df[['emotion', 'emotion_hat', 'Similarity']])"
   ]
  },
  {
   "cell_type": "code",
   "execution_count": null,
   "id": "bab5c5cf",
   "metadata": {},
   "outputs": [],
   "source": []
  }
 ],
 "metadata": {
  "kernelspec": {
   "display_name": "Python 3 (ipykernel)",
   "language": "python",
   "name": "python3"
  },
  "language_info": {
   "codemirror_mode": {
    "name": "ipython",
    "version": 3
   },
   "file_extension": ".py",
   "mimetype": "text/x-python",
   "name": "python",
   "nbconvert_exporter": "python",
   "pygments_lexer": "ipython3",
   "version": "3.10.10"
  }
 },
 "nbformat": 4,
 "nbformat_minor": 5
}
