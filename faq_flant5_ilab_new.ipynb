{
 "cells": [
  {
   "cell_type": "code",
   "execution_count": 18,
   "id": "42714434",
   "metadata": {},
   "outputs": [
    {
     "name": "stdout",
     "output_type": "stream",
     "text": [
      "Requirement already satisfied: transformers in c:\\users\\bbsur\\appdata\\roaming\\python\\python311\\site-packages (4.32.0)\n",
      "Requirement already satisfied: filelock in c:\\users\\bbsur\\appdata\\roaming\\python\\python311\\site-packages (from transformers) (3.12.2)\n",
      "Requirement already satisfied: huggingface-hub<1.0,>=0.15.1 in c:\\users\\bbsur\\appdata\\roaming\\python\\python311\\site-packages (from transformers) (0.16.4)\n",
      "Requirement already satisfied: numpy>=1.17 in c:\\python311\\lib\\site-packages (from transformers) (1.25.1)\n",
      "Requirement already satisfied: packaging>=20.0 in c:\\python311\\lib\\site-packages (from transformers) (23.1)\n",
      "Requirement already satisfied: pyyaml>=5.1 in c:\\python311\\lib\\site-packages (from transformers) (6.0.1)\n",
      "Requirement already satisfied: regex!=2019.12.17 in c:\\users\\bbsur\\appdata\\roaming\\python\\python311\\site-packages (from transformers) (2023.8.8)\n",
      "Requirement already satisfied: requests in c:\\python311\\lib\\site-packages (from transformers) (2.31.0)\n",
      "Requirement already satisfied: tokenizers!=0.11.3,<0.14,>=0.11.1 in c:\\python311\\lib\\site-packages (from transformers) (0.13.3)\n",
      "Requirement already satisfied: safetensors>=0.3.1 in c:\\python311\\lib\\site-packages (from transformers) (0.3.3)\n",
      "Requirement already satisfied: tqdm>=4.27 in c:\\python311\\lib\\site-packages (from transformers) (4.65.0)\n",
      "Requirement already satisfied: fsspec in c:\\users\\bbsur\\appdata\\roaming\\python\\python311\\site-packages (from huggingface-hub<1.0,>=0.15.1->transformers) (2023.6.0)\n",
      "Requirement already satisfied: typing-extensions>=3.7.4.3 in c:\\python311\\lib\\site-packages (from huggingface-hub<1.0,>=0.15.1->transformers) (4.7.1)\n",
      "Requirement already satisfied: colorama in c:\\python311\\lib\\site-packages (from tqdm>=4.27->transformers) (0.4.6)\n",
      "Requirement already satisfied: charset-normalizer<4,>=2 in c:\\python311\\lib\\site-packages (from requests->transformers) (3.2.0)\n",
      "Requirement already satisfied: idna<4,>=2.5 in c:\\python311\\lib\\site-packages (from requests->transformers) (3.4)\n",
      "Requirement already satisfied: urllib3<3,>=1.21.1 in c:\\python311\\lib\\site-packages (from requests->transformers) (1.26.16)\n",
      "Requirement already satisfied: certifi>=2017.4.17 in c:\\python311\\lib\\site-packages (from requests->transformers) (2023.7.22)\n"
     ]
    },
    {
     "name": "stderr",
     "output_type": "stream",
     "text": [
      "\n",
      "[notice] A new release of pip is available: 23.1.2 -> 23.2.1\n",
      "[notice] To update, run: python.exe -m pip install --upgrade pip\n"
     ]
    },
    {
     "name": "stdout",
     "output_type": "stream",
     "text": [
      "Requirement already satisfied: einops in c:\\users\\bbsur\\appdata\\roaming\\python\\python311\\site-packages (0.6.1)\n"
     ]
    },
    {
     "name": "stderr",
     "output_type": "stream",
     "text": [
      "\n",
      "[notice] A new release of pip is available: 23.1.2 -> 23.2.1\n",
      "[notice] To update, run: python.exe -m pip install --upgrade pip\n"
     ]
    },
    {
     "name": "stdout",
     "output_type": "stream",
     "text": [
      "Requirement already satisfied: datasets in c:\\python311\\lib\\site-packages (2.14.5)\n",
      "Requirement already satisfied: numpy>=1.17 in c:\\python311\\lib\\site-packages (from datasets) (1.25.1)\n",
      "Requirement already satisfied: pyarrow>=8.0.0 in c:\\python311\\lib\\site-packages (from datasets) (13.0.0)\n",
      "Requirement already satisfied: dill<0.3.8,>=0.3.0 in c:\\python311\\lib\\site-packages (from datasets) (0.3.7)\n",
      "Requirement already satisfied: pandas in c:\\python311\\lib\\site-packages (from datasets) (2.1.0)\n",
      "Requirement already satisfied: requests>=2.19.0 in c:\\python311\\lib\\site-packages (from datasets) (2.31.0)\n",
      "Requirement already satisfied: tqdm>=4.62.1 in c:\\python311\\lib\\site-packages (from datasets) (4.65.0)\n",
      "Requirement already satisfied: xxhash in c:\\python311\\lib\\site-packages (from datasets) (3.3.0)\n",
      "Requirement already satisfied: multiprocess in c:\\python311\\lib\\site-packages (from datasets) (0.70.15)\n",
      "Requirement already satisfied: fsspec[http]<2023.9.0,>=2023.1.0 in c:\\users\\bbsur\\appdata\\roaming\\python\\python311\\site-packages (from datasets) (2023.6.0)\n",
      "Requirement already satisfied: aiohttp in c:\\python311\\lib\\site-packages (from datasets) (3.8.5)\n",
      "Requirement already satisfied: huggingface-hub<1.0.0,>=0.14.0 in c:\\users\\bbsur\\appdata\\roaming\\python\\python311\\site-packages (from datasets) (0.16.4)\n",
      "Requirement already satisfied: packaging in c:\\python311\\lib\\site-packages (from datasets) (23.1)\n",
      "Requirement already satisfied: pyyaml>=5.1 in c:\\python311\\lib\\site-packages (from datasets) (6.0.1)\n",
      "Requirement already satisfied: attrs>=17.3.0 in c:\\python311\\lib\\site-packages (from aiohttp->datasets) (23.1.0)\n",
      "Requirement already satisfied: charset-normalizer<4.0,>=2.0 in c:\\python311\\lib\\site-packages (from aiohttp->datasets) (3.2.0)\n",
      "Requirement already satisfied: multidict<7.0,>=4.5 in c:\\python311\\lib\\site-packages (from aiohttp->datasets) (6.0.4)\n",
      "Requirement already satisfied: async-timeout<5.0,>=4.0.0a3 in c:\\python311\\lib\\site-packages (from aiohttp->datasets) (4.0.2)\n",
      "Requirement already satisfied: yarl<2.0,>=1.0 in c:\\python311\\lib\\site-packages (from aiohttp->datasets) (1.9.2)\n",
      "Requirement already satisfied: frozenlist>=1.1.1 in c:\\python311\\lib\\site-packages (from aiohttp->datasets) (1.4.0)\n",
      "Requirement already satisfied: aiosignal>=1.1.2 in c:\\python311\\lib\\site-packages (from aiohttp->datasets) (1.3.1)\n",
      "Requirement already satisfied: filelock in c:\\users\\bbsur\\appdata\\roaming\\python\\python311\\site-packages (from huggingface-hub<1.0.0,>=0.14.0->datasets) (3.12.2)\n",
      "Requirement already satisfied: typing-extensions>=3.7.4.3 in c:\\python311\\lib\\site-packages (from huggingface-hub<1.0.0,>=0.14.0->datasets) (4.7.1)\n",
      "Requirement already satisfied: idna<4,>=2.5 in c:\\python311\\lib\\site-packages (from requests>=2.19.0->datasets) (3.4)\n",
      "Requirement already satisfied: urllib3<3,>=1.21.1 in c:\\python311\\lib\\site-packages (from requests>=2.19.0->datasets) (1.26.16)\n",
      "Requirement already satisfied: certifi>=2017.4.17 in c:\\python311\\lib\\site-packages (from requests>=2.19.0->datasets) (2023.7.22)\n",
      "Requirement already satisfied: colorama in c:\\python311\\lib\\site-packages (from tqdm>=4.62.1->datasets) (0.4.6)\n",
      "Requirement already satisfied: python-dateutil>=2.8.2 in c:\\python311\\lib\\site-packages (from pandas->datasets) (2.8.2)\n",
      "Requirement already satisfied: pytz>=2020.1 in c:\\python311\\lib\\site-packages (from pandas->datasets) (2023.3)\n",
      "Requirement already satisfied: tzdata>=2022.1 in c:\\python311\\lib\\site-packages (from pandas->datasets) (2023.3)\n",
      "Requirement already satisfied: six>=1.5 in c:\\python311\\lib\\site-packages (from python-dateutil>=2.8.2->pandas->datasets) (1.16.0)\n"
     ]
    },
    {
     "name": "stderr",
     "output_type": "stream",
     "text": [
      "\n",
      "[notice] A new release of pip is available: 23.1.2 -> 23.2.1\n",
      "[notice] To update, run: python.exe -m pip install --upgrade pip\n"
     ]
    }
   ],
   "source": [
    "!pip install transformers\n",
    "!pip install einops\n",
    "!pip install datasets"
   ]
  },
  {
   "cell_type": "code",
   "execution_count": 19,
   "id": "7ce49ee9",
   "metadata": {},
   "outputs": [
    {
     "name": "stdout",
     "output_type": "stream",
     "text": [
      "Requirement already satisfied: rouge_score in c:\\python311\\lib\\site-packages (0.1.2)\n",
      "Requirement already satisfied: absl-py in c:\\python311\\lib\\site-packages (from rouge_score) (1.4.0)\n",
      "Requirement already satisfied: nltk in c:\\python311\\lib\\site-packages (from rouge_score) (3.8.1)\n",
      "Requirement already satisfied: numpy in c:\\python311\\lib\\site-packages (from rouge_score) (1.25.1)\n",
      "Requirement already satisfied: six>=1.14.0 in c:\\python311\\lib\\site-packages (from rouge_score) (1.16.0)\n",
      "Requirement already satisfied: click in c:\\python311\\lib\\site-packages (from nltk->rouge_score) (8.1.7)\n",
      "Requirement already satisfied: joblib in c:\\python311\\lib\\site-packages (from nltk->rouge_score) (1.3.2)\n",
      "Requirement already satisfied: regex>=2021.8.3 in c:\\users\\bbsur\\appdata\\roaming\\python\\python311\\site-packages (from nltk->rouge_score) (2023.8.8)\n",
      "Requirement already satisfied: tqdm in c:\\python311\\lib\\site-packages (from nltk->rouge_score) (4.65.0)\n",
      "Requirement already satisfied: colorama in c:\\python311\\lib\\site-packages (from click->nltk->rouge_score) (0.4.6)\n"
     ]
    },
    {
     "name": "stderr",
     "output_type": "stream",
     "text": [
      "\n",
      "[notice] A new release of pip is available: 23.1.2 -> 23.2.1\n",
      "[notice] To update, run: python.exe -m pip install --upgrade pip\n",
      "\n",
      "[notice] A new release of pip is available: 23.1.2 -> 23.2.1\n",
      "[notice] To update, run: python.exe -m pip install --upgrade pip\n"
     ]
    },
    {
     "name": "stdout",
     "output_type": "stream",
     "text": [
      "Requirement already satisfied: evaluate in c:\\python311\\lib\\site-packages (0.4.0)\n",
      "Requirement already satisfied: datasets>=2.0.0 in c:\\python311\\lib\\site-packages (from evaluate) (2.14.5)\n",
      "Requirement already satisfied: numpy>=1.17 in c:\\python311\\lib\\site-packages (from evaluate) (1.25.1)\n",
      "Requirement already satisfied: dill in c:\\python311\\lib\\site-packages (from evaluate) (0.3.7)\n",
      "Requirement already satisfied: pandas in c:\\python311\\lib\\site-packages (from evaluate) (2.1.0)\n",
      "Requirement already satisfied: requests>=2.19.0 in c:\\python311\\lib\\site-packages (from evaluate) (2.31.0)\n",
      "Requirement already satisfied: tqdm>=4.62.1 in c:\\python311\\lib\\site-packages (from evaluate) (4.65.0)\n",
      "Requirement already satisfied: xxhash in c:\\python311\\lib\\site-packages (from evaluate) (3.3.0)\n",
      "Requirement already satisfied: multiprocess in c:\\python311\\lib\\site-packages (from evaluate) (0.70.15)\n",
      "Requirement already satisfied: fsspec[http]>=2021.05.0 in c:\\users\\bbsur\\appdata\\roaming\\python\\python311\\site-packages (from evaluate) (2023.6.0)\n",
      "Requirement already satisfied: huggingface-hub>=0.7.0 in c:\\users\\bbsur\\appdata\\roaming\\python\\python311\\site-packages (from evaluate) (0.16.4)\n",
      "Requirement already satisfied: packaging in c:\\python311\\lib\\site-packages (from evaluate) (23.1)\n",
      "Requirement already satisfied: responses<0.19 in c:\\python311\\lib\\site-packages (from evaluate) (0.18.0)\n",
      "Requirement already satisfied: pyarrow>=8.0.0 in c:\\python311\\lib\\site-packages (from datasets>=2.0.0->evaluate) (13.0.0)\n",
      "Requirement already satisfied: aiohttp in c:\\python311\\lib\\site-packages (from datasets>=2.0.0->evaluate) (3.8.5)\n",
      "Requirement already satisfied: pyyaml>=5.1 in c:\\python311\\lib\\site-packages (from datasets>=2.0.0->evaluate) (6.0.1)\n",
      "Requirement already satisfied: filelock in c:\\users\\bbsur\\appdata\\roaming\\python\\python311\\site-packages (from huggingface-hub>=0.7.0->evaluate) (3.12.2)\n",
      "Requirement already satisfied: typing-extensions>=3.7.4.3 in c:\\python311\\lib\\site-packages (from huggingface-hub>=0.7.0->evaluate) (4.7.1)\n",
      "Requirement already satisfied: charset-normalizer<4,>=2 in c:\\python311\\lib\\site-packages (from requests>=2.19.0->evaluate) (3.2.0)\n",
      "Requirement already satisfied: idna<4,>=2.5 in c:\\python311\\lib\\site-packages (from requests>=2.19.0->evaluate) (3.4)\n",
      "Requirement already satisfied: urllib3<3,>=1.21.1 in c:\\python311\\lib\\site-packages (from requests>=2.19.0->evaluate) (1.26.16)\n",
      "Requirement already satisfied: certifi>=2017.4.17 in c:\\python311\\lib\\site-packages (from requests>=2.19.0->evaluate) (2023.7.22)\n",
      "Requirement already satisfied: colorama in c:\\python311\\lib\\site-packages (from tqdm>=4.62.1->evaluate) (0.4.6)\n",
      "Requirement already satisfied: python-dateutil>=2.8.2 in c:\\python311\\lib\\site-packages (from pandas->evaluate) (2.8.2)\n",
      "Requirement already satisfied: pytz>=2020.1 in c:\\python311\\lib\\site-packages (from pandas->evaluate) (2023.3)\n",
      "Requirement already satisfied: tzdata>=2022.1 in c:\\python311\\lib\\site-packages (from pandas->evaluate) (2023.3)\n",
      "Requirement already satisfied: attrs>=17.3.0 in c:\\python311\\lib\\site-packages (from aiohttp->datasets>=2.0.0->evaluate) (23.1.0)\n",
      "Requirement already satisfied: multidict<7.0,>=4.5 in c:\\python311\\lib\\site-packages (from aiohttp->datasets>=2.0.0->evaluate) (6.0.4)\n",
      "Requirement already satisfied: async-timeout<5.0,>=4.0.0a3 in c:\\python311\\lib\\site-packages (from aiohttp->datasets>=2.0.0->evaluate) (4.0.2)\n",
      "Requirement already satisfied: yarl<2.0,>=1.0 in c:\\python311\\lib\\site-packages (from aiohttp->datasets>=2.0.0->evaluate) (1.9.2)\n",
      "Requirement already satisfied: frozenlist>=1.1.1 in c:\\python311\\lib\\site-packages (from aiohttp->datasets>=2.0.0->evaluate) (1.4.0)\n",
      "Requirement already satisfied: aiosignal>=1.1.2 in c:\\python311\\lib\\site-packages (from aiohttp->datasets>=2.0.0->evaluate) (1.3.1)\n",
      "Requirement already satisfied: six>=1.5 in c:\\python311\\lib\\site-packages (from python-dateutil>=2.8.2->pandas->evaluate) (1.16.0)\n"
     ]
    }
   ],
   "source": [
    "!pip install rouge_score\n",
    "!pip install evaluate"
   ]
  },
  {
   "cell_type": "code",
   "execution_count": 53,
   "id": "e4753eb7",
   "metadata": {},
   "outputs": [],
   "source": [
    "import torch\n",
    "from transformers import AutoModelWithLMHead, AutoTokenizer,AutoModelForSeq2SeqLM\n",
    "\n",
    "tokenizer = AutoTokenizer.from_pretrained(\"google/flan-t5-base\")\n",
    "#model = AutoModelWithLMHead.from_pretrained(\"mrm8488/t5-base-finetuned-wikiSQL\")\n",
    "model = AutoModelForSeq2SeqLM.from_pretrained(\"google/flan-t5-base\")"
   ]
  },
  {
   "cell_type": "code",
   "execution_count": 54,
   "id": "82f53bf6",
   "metadata": {},
   "outputs": [
    {
     "data": {
      "text/html": [
       "<div>\n",
       "<style scoped>\n",
       "    .dataframe tbody tr th:only-of-type {\n",
       "        vertical-align: middle;\n",
       "    }\n",
       "\n",
       "    .dataframe tbody tr th {\n",
       "        vertical-align: top;\n",
       "    }\n",
       "\n",
       "    .dataframe thead th {\n",
       "        text-align: right;\n",
       "    }\n",
       "</style>\n",
       "<table border=\"1\" class=\"dataframe\">\n",
       "  <thead>\n",
       "    <tr style=\"text-align: right;\">\n",
       "      <th></th>\n",
       "      <th>Question</th>\n",
       "      <th>Answer</th>\n",
       "    </tr>\n",
       "  </thead>\n",
       "  <tbody>\n",
       "    <tr>\n",
       "      <th>0</th>\n",
       "      <td>What is a hurricane?</td>\n",
       "      <td>A hurricane is a powerful tropical storm with ...</td>\n",
       "    </tr>\n",
       "    <tr>\n",
       "      <th>1</th>\n",
       "      <td>How are hurricanes formed?</td>\n",
       "      <td>Hurricanes form over warm ocean waters when at...</td>\n",
       "    </tr>\n",
       "    <tr>\n",
       "      <th>2</th>\n",
       "      <td>What are the stages of hurricane development?</td>\n",
       "      <td>Tropical depression, tropical storm, hurricane.</td>\n",
       "    </tr>\n",
       "    <tr>\n",
       "      <th>3</th>\n",
       "      <td>What is the Saffir-Simpson Hurricane Wind Scale?</td>\n",
       "      <td>It rates hurricanes from Category 1 (weakest) ...</td>\n",
       "    </tr>\n",
       "    <tr>\n",
       "      <th>4</th>\n",
       "      <td>How fast do hurricane winds need to be for it ...</td>\n",
       "      <td>Winds must reach at least 74 miles per hour (1...</td>\n",
       "    </tr>\n",
       "    <tr>\n",
       "      <th>...</th>\n",
       "      <td>...</td>\n",
       "      <td>...</td>\n",
       "    </tr>\n",
       "    <tr>\n",
       "      <th>481</th>\n",
       "      <td>Myth busted! – “But I don't have time to prepa...</td>\n",
       "      <td>Procrastinating flood preparedness can put you...</td>\n",
       "    </tr>\n",
       "    <tr>\n",
       "      <th>482</th>\n",
       "      <td>Myth busted! – “My pets will be fine on their ...</td>\n",
       "      <td>Pets are vulnerable during floods. It's essent...</td>\n",
       "    </tr>\n",
       "    <tr>\n",
       "      <th>483</th>\n",
       "      <td>Myth busted! – “But I don't want to evacuate a...</td>\n",
       "      <td>While it's natural to want to protect your hom...</td>\n",
       "    </tr>\n",
       "    <tr>\n",
       "      <th>484</th>\n",
       "      <td>Myth busted! – “I'll be able to call for help ...</td>\n",
       "      <td>During a flood, communication infrastructure c...</td>\n",
       "    </tr>\n",
       "    <tr>\n",
       "      <th>485</th>\n",
       "      <td>Myth busted! – “I can handle floodwaters on my...</td>\n",
       "      <td>Attempting to handle floodwaters alone can be ...</td>\n",
       "    </tr>\n",
       "  </tbody>\n",
       "</table>\n",
       "<p>486 rows × 2 columns</p>\n",
       "</div>"
      ],
      "text/plain": [
       "                                              Question  \\\n",
       "0                                 What is a hurricane?   \n",
       "1                           How are hurricanes formed?   \n",
       "2        What are the stages of hurricane development?   \n",
       "3     What is the Saffir-Simpson Hurricane Wind Scale?   \n",
       "4    How fast do hurricane winds need to be for it ...   \n",
       "..                                                 ...   \n",
       "481  Myth busted! – “But I don't have time to prepa...   \n",
       "482  Myth busted! – “My pets will be fine on their ...   \n",
       "483  Myth busted! – “But I don't want to evacuate a...   \n",
       "484  Myth busted! – “I'll be able to call for help ...   \n",
       "485  Myth busted! – “I can handle floodwaters on my...   \n",
       "\n",
       "                                                Answer  \n",
       "0    A hurricane is a powerful tropical storm with ...  \n",
       "1    Hurricanes form over warm ocean waters when at...  \n",
       "2      Tropical depression, tropical storm, hurricane.  \n",
       "3    It rates hurricanes from Category 1 (weakest) ...  \n",
       "4    Winds must reach at least 74 miles per hour (1...  \n",
       "..                                                 ...  \n",
       "481  Procrastinating flood preparedness can put you...  \n",
       "482  Pets are vulnerable during floods. It's essent...  \n",
       "483  While it's natural to want to protect your hom...  \n",
       "484  During a flood, communication infrastructure c...  \n",
       "485  Attempting to handle floodwaters alone can be ...  \n",
       "\n",
       "[486 rows x 2 columns]"
      ]
     },
     "execution_count": 54,
     "metadata": {},
     "output_type": "execute_result"
    }
   ],
   "source": [
    "import pandas as pd\n",
    "\n",
    "df=pd.read_csv('faq_updated.csv')\n",
    "df"
   ]
  },
  {
   "cell_type": "code",
   "execution_count": 55,
   "id": "85debb9b",
   "metadata": {},
   "outputs": [
    {
     "data": {
      "text/plain": [
       "(49, 2)"
      ]
     },
     "execution_count": 55,
     "metadata": {},
     "output_type": "execute_result"
    }
   ],
   "source": [
    "from sklearn.model_selection import train_test_split\n",
    "df_train, df_test = train_test_split(df, test_size=0.1, random_state=42)\n",
    "df_test.shape"
   ]
  },
  {
   "cell_type": "code",
   "execution_count": 56,
   "id": "fc90ee11",
   "metadata": {},
   "outputs": [
    {
     "data": {
      "text/html": [
       "<div>\n",
       "<style scoped>\n",
       "    .dataframe tbody tr th:only-of-type {\n",
       "        vertical-align: middle;\n",
       "    }\n",
       "\n",
       "    .dataframe tbody tr th {\n",
       "        vertical-align: top;\n",
       "    }\n",
       "\n",
       "    .dataframe thead th {\n",
       "        text-align: right;\n",
       "    }\n",
       "</style>\n",
       "<table border=\"1\" class=\"dataframe\">\n",
       "  <thead>\n",
       "    <tr style=\"text-align: right;\">\n",
       "      <th></th>\n",
       "      <th>Question</th>\n",
       "      <th>Answer</th>\n",
       "    </tr>\n",
       "  </thead>\n",
       "  <tbody>\n",
       "    <tr>\n",
       "      <th>420</th>\n",
       "      <td>What should breastfeeding mothers do if they e...</td>\n",
       "      <td>Breastfeeding mothers should seek support from...</td>\n",
       "    </tr>\n",
       "    <tr>\n",
       "      <th>262</th>\n",
       "      <td>Why is it essential to know your evacuation po...</td>\n",
       "      <td>Knowing your evacuation point and preferred ro...</td>\n",
       "    </tr>\n",
       "    <tr>\n",
       "      <th>431</th>\n",
       "      <td>Can you replace lost medicine without a prescr...</td>\n",
       "      <td>If you've lost your medicine but still have yo...</td>\n",
       "    </tr>\n",
       "    <tr>\n",
       "      <th>448</th>\n",
       "      <td>What steps should you take if you are outdoors...</td>\n",
       "      <td>If you are outdoors during a severe storm or c...</td>\n",
       "    </tr>\n",
       "    <tr>\n",
       "      <th>364</th>\n",
       "      <td>What information should accompany your pet if ...</td>\n",
       "      <td>If you house your pet in a temporary foster ho...</td>\n",
       "    </tr>\n",
       "    <tr>\n",
       "      <th>465</th>\n",
       "      <td>Myth busted! – “We’re protected by levees wher...</td>\n",
       "      <td>Levees can provide limited protection to build...</td>\n",
       "    </tr>\n",
       "    <tr>\n",
       "      <th>193</th>\n",
       "      <td>What can I do to access emergency information ...</td>\n",
       "      <td>Keep a battery-powered radio with extra batter...</td>\n",
       "    </tr>\n",
       "    <tr>\n",
       "      <th>225</th>\n",
       "      <td>Why is it a good idea to create wallet emergen...</td>\n",
       "      <td>Creating wallet emergency cards for household ...</td>\n",
       "    </tr>\n",
       "    <tr>\n",
       "      <th>104</th>\n",
       "      <td>What are the key items to have for illuminatio...</td>\n",
       "      <td>Key items for illumination in your emergency k...</td>\n",
       "    </tr>\n",
       "    <tr>\n",
       "      <th>229</th>\n",
       "      <td>What community emergency services organization...</td>\n",
       "      <td>Consider joining a community emergency service...</td>\n",
       "    </tr>\n",
       "    <tr>\n",
       "      <th>9</th>\n",
       "      <td>How can I prepare for a hurricane?</td>\n",
       "      <td>Stock up on supplies, secure your home, and ha...</td>\n",
       "    </tr>\n",
       "    <tr>\n",
       "      <th>176</th>\n",
       "      <td>How can I use my bathtub and washing machine t...</td>\n",
       "      <td>Run your bathtub and washing machine full of w...</td>\n",
       "    </tr>\n",
       "    <tr>\n",
       "      <th>480</th>\n",
       "      <td>Myth busted! – “I can use my phone's flashligh...</td>\n",
       "      <td>Relying solely on a phone's flashlight during ...</td>\n",
       "    </tr>\n",
       "    <tr>\n",
       "      <th>325</th>\n",
       "      <td>Why are warnings from Emergency Services impor...</td>\n",
       "      <td>Warnings from Emergency Services are important...</td>\n",
       "    </tr>\n",
       "    <tr>\n",
       "      <th>391</th>\n",
       "      <td>How much canned legumes should you have in you...</td>\n",
       "      <td>You should have 1000g of canned legumes, equiv...</td>\n",
       "    </tr>\n",
       "    <tr>\n",
       "      <th>429</th>\n",
       "      <td>How can you access medicines if you can't get ...</td>\n",
       "      <td>In an emergency, you may be able to negotiate ...</td>\n",
       "    </tr>\n",
       "    <tr>\n",
       "      <th>84</th>\n",
       "      <td>How does warm ocean water contribute to hurric...</td>\n",
       "      <td>It provides the heat and moisture needed to fu...</td>\n",
       "    </tr>\n",
       "    <tr>\n",
       "      <th>30</th>\n",
       "      <td>How do hurricanes impact the economy?</td>\n",
       "      <td>They can cause billions of dollars in damage a...</td>\n",
       "    </tr>\n",
       "    <tr>\n",
       "      <th>333</th>\n",
       "      <td>Why should you check on neighbors and friends ...</td>\n",
       "      <td>Checking on neighbors and friends who may need...</td>\n",
       "    </tr>\n",
       "    <tr>\n",
       "      <th>90</th>\n",
       "      <td>What is the eye of a hurricane, and why is it ...</td>\n",
       "      <td>The eye is a region of sinking air and clear s...</td>\n",
       "    </tr>\n",
       "    <tr>\n",
       "      <th>249</th>\n",
       "      <td>Why is it important to secure and lock your ho...</td>\n",
       "      <td>Securing and locking your home is important to...</td>\n",
       "    </tr>\n",
       "    <tr>\n",
       "      <th>305</th>\n",
       "      <td>What kind of light sources should you have in ...</td>\n",
       "      <td>Include a flashlight or torch with extra batte...</td>\n",
       "    </tr>\n",
       "    <tr>\n",
       "      <th>101</th>\n",
       "      <td>What items should I include in my emergency ki...</td>\n",
       "      <td>You should include non-perishable food, water,...</td>\n",
       "    </tr>\n",
       "    <tr>\n",
       "      <th>481</th>\n",
       "      <td>Myth busted! – “But I don't have time to prepa...</td>\n",
       "      <td>Procrastinating flood preparedness can put you...</td>\n",
       "    </tr>\n",
       "    <tr>\n",
       "      <th>33</th>\n",
       "      <td>Can hurricanes cause power outages?</td>\n",
       "      <td>Yes, high winds and flooding can knock out pow...</td>\n",
       "    </tr>\n",
       "    <tr>\n",
       "      <th>154</th>\n",
       "      <td>How should I report gas leaks to the utility c...</td>\n",
       "      <td>Report gas leaks to your utility company by co...</td>\n",
       "    </tr>\n",
       "    <tr>\n",
       "      <th>310</th>\n",
       "      <td>What should you keep in your Emergency Kit for...</td>\n",
       "      <td>Ensure you have any special items needed by el...</td>\n",
       "    </tr>\n",
       "    <tr>\n",
       "      <th>471</th>\n",
       "      <td>Myth busted! – “The flood won’t affect me beca...</td>\n",
       "      <td>Reliable access to food and clean water during...</td>\n",
       "    </tr>\n",
       "    <tr>\n",
       "      <th>77</th>\n",
       "      <td>Can hurricanes spawn landslides?</td>\n",
       "      <td>Yes, especially in areas with steep terrain.</td>\n",
       "    </tr>\n",
       "    <tr>\n",
       "      <th>70</th>\n",
       "      <td>Can hurricanes lead to tornado outbreaks?</td>\n",
       "      <td>Yes, the conditions within hurricanes can spaw...</td>\n",
       "    </tr>\n",
       "    <tr>\n",
       "      <th>73</th>\n",
       "      <td>How do hurricanes impact public transportation?</td>\n",
       "      <td>They can disrupt bus, train, and flight schedu...</td>\n",
       "    </tr>\n",
       "    <tr>\n",
       "      <th>302</th>\n",
       "      <td>What should you discuss with all household mem...</td>\n",
       "      <td>Discuss the contents and use of the Emergency ...</td>\n",
       "    </tr>\n",
       "    <tr>\n",
       "      <th>440</th>\n",
       "      <td>When is storm season in your region, and why i...</td>\n",
       "      <td>Storm season typically occurs from November to...</td>\n",
       "    </tr>\n",
       "    <tr>\n",
       "      <th>78</th>\n",
       "      <td>How do hurricanes impact sewage systems?</td>\n",
       "      <td>Flooding can overwhelm sewage systems, leading...</td>\n",
       "    </tr>\n",
       "    <tr>\n",
       "      <th>0</th>\n",
       "      <td>What is a hurricane?</td>\n",
       "      <td>A hurricane is a powerful tropical storm with ...</td>\n",
       "    </tr>\n",
       "    <tr>\n",
       "      <th>11</th>\n",
       "      <td>What is the difference between a hurricane, ty...</td>\n",
       "      <td>Different names for the same weather phenomeno...</td>\n",
       "    </tr>\n",
       "    <tr>\n",
       "      <th>479</th>\n",
       "      <td>Myth busted! – “I don’t need an emergency kit;...</td>\n",
       "      <td>During a flood, stores may be inaccessible or ...</td>\n",
       "    </tr>\n",
       "    <tr>\n",
       "      <th>296</th>\n",
       "      <td>Why should you have bank account and credit ca...</td>\n",
       "      <td>Including bank account and credit card details...</td>\n",
       "    </tr>\n",
       "    <tr>\n",
       "      <th>362</th>\n",
       "      <td>What should you ensure remains current for you...</td>\n",
       "      <td>You should ensure that all vaccinations for yo...</td>\n",
       "    </tr>\n",
       "    <tr>\n",
       "      <th>137</th>\n",
       "      <td>How can I stay informed during a disaster whil...</td>\n",
       "      <td>Stay informed during a disaster by listening c...</td>\n",
       "    </tr>\n",
       "    <tr>\n",
       "      <th>469</th>\n",
       "      <td>Myth busted! – “I can drive through floodwater...</td>\n",
       "      <td>It is dangerous and illegal to drive through f...</td>\n",
       "    </tr>\n",
       "    <tr>\n",
       "      <th>209</th>\n",
       "      <td>What should you do if your household needs sup...</td>\n",
       "      <td>If your household needs support to evacuate, f...</td>\n",
       "    </tr>\n",
       "    <tr>\n",
       "      <th>55</th>\n",
       "      <td>How do hurricanes impact the power grid?</td>\n",
       "      <td>High winds and flooding can lead to widespread...</td>\n",
       "    </tr>\n",
       "    <tr>\n",
       "      <th>383</th>\n",
       "      <td>How much dried fruit should you have in your e...</td>\n",
       "      <td>You should have 200g of dried fruit, which is ...</td>\n",
       "    </tr>\n",
       "    <tr>\n",
       "      <th>18</th>\n",
       "      <td>What is the difference between a watch and a w...</td>\n",
       "      <td>A watch means conditions are favorable; a warn...</td>\n",
       "    </tr>\n",
       "    <tr>\n",
       "      <th>63</th>\n",
       "      <td>How do hurricanes affect the insurance industry?</td>\n",
       "      <td>Major hurricanes can result in substantial ins...</td>\n",
       "    </tr>\n",
       "    <tr>\n",
       "      <th>68</th>\n",
       "      <td>What is the importance of flood insurance duri...</td>\n",
       "      <td>Standard homeowners' insurance typically does ...</td>\n",
       "    </tr>\n",
       "    <tr>\n",
       "      <th>272</th>\n",
       "      <td>What should you do if you are visiting or on h...</td>\n",
       "      <td>If you are visiting or on holiday in Queenslan...</td>\n",
       "    </tr>\n",
       "    <tr>\n",
       "      <th>131</th>\n",
       "      <td>Why is it essential to carry my disaster suppl...</td>\n",
       "      <td>Carrying your disaster supplies kit ensures yo...</td>\n",
       "    </tr>\n",
       "  </tbody>\n",
       "</table>\n",
       "</div>"
      ],
      "text/plain": [
       "                                              Question  \\\n",
       "420  What should breastfeeding mothers do if they e...   \n",
       "262  Why is it essential to know your evacuation po...   \n",
       "431  Can you replace lost medicine without a prescr...   \n",
       "448  What steps should you take if you are outdoors...   \n",
       "364  What information should accompany your pet if ...   \n",
       "465  Myth busted! – “We’re protected by levees wher...   \n",
       "193  What can I do to access emergency information ...   \n",
       "225  Why is it a good idea to create wallet emergen...   \n",
       "104  What are the key items to have for illuminatio...   \n",
       "229  What community emergency services organization...   \n",
       "9                   How can I prepare for a hurricane?   \n",
       "176  How can I use my bathtub and washing machine t...   \n",
       "480  Myth busted! – “I can use my phone's flashligh...   \n",
       "325  Why are warnings from Emergency Services impor...   \n",
       "391  How much canned legumes should you have in you...   \n",
       "429  How can you access medicines if you can't get ...   \n",
       "84   How does warm ocean water contribute to hurric...   \n",
       "30               How do hurricanes impact the economy?   \n",
       "333  Why should you check on neighbors and friends ...   \n",
       "90   What is the eye of a hurricane, and why is it ...   \n",
       "249  Why is it important to secure and lock your ho...   \n",
       "305  What kind of light sources should you have in ...   \n",
       "101  What items should I include in my emergency ki...   \n",
       "481  Myth busted! – “But I don't have time to prepa...   \n",
       "33                 Can hurricanes cause power outages?   \n",
       "154  How should I report gas leaks to the utility c...   \n",
       "310  What should you keep in your Emergency Kit for...   \n",
       "471  Myth busted! – “The flood won’t affect me beca...   \n",
       "77                    Can hurricanes spawn landslides?   \n",
       "70           Can hurricanes lead to tornado outbreaks?   \n",
       "73     How do hurricanes impact public transportation?   \n",
       "302  What should you discuss with all household mem...   \n",
       "440  When is storm season in your region, and why i...   \n",
       "78            How do hurricanes impact sewage systems?   \n",
       "0                                 What is a hurricane?   \n",
       "11   What is the difference between a hurricane, ty...   \n",
       "479  Myth busted! – “I don’t need an emergency kit;...   \n",
       "296  Why should you have bank account and credit ca...   \n",
       "362  What should you ensure remains current for you...   \n",
       "137  How can I stay informed during a disaster whil...   \n",
       "469  Myth busted! – “I can drive through floodwater...   \n",
       "209  What should you do if your household needs sup...   \n",
       "55            How do hurricanes impact the power grid?   \n",
       "383  How much dried fruit should you have in your e...   \n",
       "18   What is the difference between a watch and a w...   \n",
       "63    How do hurricanes affect the insurance industry?   \n",
       "68   What is the importance of flood insurance duri...   \n",
       "272  What should you do if you are visiting or on h...   \n",
       "131  Why is it essential to carry my disaster suppl...   \n",
       "\n",
       "                                                Answer  \n",
       "420  Breastfeeding mothers should seek support from...  \n",
       "262  Knowing your evacuation point and preferred ro...  \n",
       "431  If you've lost your medicine but still have yo...  \n",
       "448  If you are outdoors during a severe storm or c...  \n",
       "364  If you house your pet in a temporary foster ho...  \n",
       "465  Levees can provide limited protection to build...  \n",
       "193  Keep a battery-powered radio with extra batter...  \n",
       "225  Creating wallet emergency cards for household ...  \n",
       "104  Key items for illumination in your emergency k...  \n",
       "229  Consider joining a community emergency service...  \n",
       "9    Stock up on supplies, secure your home, and ha...  \n",
       "176  Run your bathtub and washing machine full of w...  \n",
       "480  Relying solely on a phone's flashlight during ...  \n",
       "325  Warnings from Emergency Services are important...  \n",
       "391  You should have 1000g of canned legumes, equiv...  \n",
       "429  In an emergency, you may be able to negotiate ...  \n",
       "84   It provides the heat and moisture needed to fu...  \n",
       "30   They can cause billions of dollars in damage a...  \n",
       "333  Checking on neighbors and friends who may need...  \n",
       "90   The eye is a region of sinking air and clear s...  \n",
       "249  Securing and locking your home is important to...  \n",
       "305  Include a flashlight or torch with extra batte...  \n",
       "101  You should include non-perishable food, water,...  \n",
       "481  Procrastinating flood preparedness can put you...  \n",
       "33   Yes, high winds and flooding can knock out pow...  \n",
       "154  Report gas leaks to your utility company by co...  \n",
       "310  Ensure you have any special items needed by el...  \n",
       "471  Reliable access to food and clean water during...  \n",
       "77        Yes, especially in areas with steep terrain.  \n",
       "70   Yes, the conditions within hurricanes can spaw...  \n",
       "73   They can disrupt bus, train, and flight schedu...  \n",
       "302  Discuss the contents and use of the Emergency ...  \n",
       "440  Storm season typically occurs from November to...  \n",
       "78   Flooding can overwhelm sewage systems, leading...  \n",
       "0    A hurricane is a powerful tropical storm with ...  \n",
       "11   Different names for the same weather phenomeno...  \n",
       "479  During a flood, stores may be inaccessible or ...  \n",
       "296  Including bank account and credit card details...  \n",
       "362  You should ensure that all vaccinations for yo...  \n",
       "137  Stay informed during a disaster by listening c...  \n",
       "469  It is dangerous and illegal to drive through f...  \n",
       "209  If your household needs support to evacuate, f...  \n",
       "55   High winds and flooding can lead to widespread...  \n",
       "383  You should have 200g of dried fruit, which is ...  \n",
       "18   A watch means conditions are favorable; a warn...  \n",
       "63   Major hurricanes can result in substantial ins...  \n",
       "68   Standard homeowners' insurance typically does ...  \n",
       "272  If you are visiting or on holiday in Queenslan...  \n",
       "131  Carrying your disaster supplies kit ensures yo...  "
      ]
     },
     "execution_count": 56,
     "metadata": {},
     "output_type": "execute_result"
    }
   ],
   "source": [
    "df_test"
   ]
  },
  {
   "cell_type": "code",
   "execution_count": 57,
   "id": "a7ab9038",
   "metadata": {},
   "outputs": [],
   "source": [
    "from datasets import Dataset\n",
    "train_dataset = Dataset.from_pandas(df_train)\n",
    "test_dataset = Dataset.from_pandas(df_test)"
   ]
  },
  {
   "cell_type": "code",
   "execution_count": 58,
   "id": "17b5def4",
   "metadata": {},
   "outputs": [
    {
     "data": {
      "text/plain": [
       "Dataset({\n",
       "    features: ['Question', 'Answer', '__index_level_0__'],\n",
       "    num_rows: 437\n",
       "})"
      ]
     },
     "execution_count": 58,
     "metadata": {},
     "output_type": "execute_result"
    }
   ],
   "source": [
    "train_dataset"
   ]
  },
  {
   "cell_type": "code",
   "execution_count": 59,
   "id": "a5a985ee",
   "metadata": {},
   "outputs": [
    {
     "data": {
      "application/vnd.jupyter.widget-view+json": {
       "model_id": "",
       "version_major": 2,
       "version_minor": 0
      },
      "text/plain": [
       "Map:   0%|          | 0/486 [00:00<?, ? examples/s]"
      ]
     },
     "metadata": {},
     "output_type": "display_data"
    },
    {
     "name": "stdout",
     "output_type": "stream",
     "text": [
      "Max source length: 37\n"
     ]
    }
   ],
   "source": [
    "from datasets import concatenate_datasets\n",
    "\n",
    "\n",
    "tokenized_inputs = concatenate_datasets([train_dataset, test_dataset]).map(lambda x: tokenizer(x[\"Question\"], truncation=True), batched=True, remove_columns=['Answer', '__index_level_0__'])\n",
    "max_source_length = max([len(x) for x in tokenized_inputs[\"input_ids\"]])\n",
    "print(f\"Max source length: {max_source_length}\")"
   ]
  },
  {
   "cell_type": "code",
   "execution_count": 60,
   "id": "f592bb6f",
   "metadata": {},
   "outputs": [
    {
     "data": {
      "application/vnd.jupyter.widget-view+json": {
       "model_id": "",
       "version_major": 2,
       "version_minor": 0
      },
      "text/plain": [
       "Map:   0%|          | 0/486 [00:00<?, ? examples/s]"
      ]
     },
     "metadata": {},
     "output_type": "display_data"
    },
    {
     "name": "stdout",
     "output_type": "stream",
     "text": [
      "Max target length: 187\n"
     ]
    }
   ],
   "source": [
    "tokenized_targets = concatenate_datasets([train_dataset, test_dataset]).map(lambda x: tokenizer(x[\"Answer\"], truncation=True), batched=True, remove_columns=[\"Question\",  '__index_level_0__'])\n",
    "max_target_length = max([len(x) for x in tokenized_targets[\"input_ids\"]])\n",
    "print(f\"Max target length: {max_target_length}\")"
   ]
  },
  {
   "cell_type": "code",
   "execution_count": 61,
   "id": "72716397",
   "metadata": {},
   "outputs": [
    {
     "data": {
      "application/vnd.jupyter.widget-view+json": {
       "model_id": "",
       "version_major": 2,
       "version_minor": 0
      },
      "text/plain": [
       "Map:   0%|          | 0/437 [00:00<?, ? examples/s]"
      ]
     },
     "metadata": {},
     "output_type": "display_data"
    },
    {
     "data": {
      "application/vnd.jupyter.widget-view+json": {
       "model_id": "",
       "version_major": 2,
       "version_minor": 0
      },
      "text/plain": [
       "Map:   0%|          | 0/49 [00:00<?, ? examples/s]"
      ]
     },
     "metadata": {},
     "output_type": "display_data"
    },
    {
     "name": "stdout",
     "output_type": "stream",
     "text": [
      "Keys of tokenized dataset: ['input_ids', 'attention_mask', 'labels']\n"
     ]
    }
   ],
   "source": [
    "def preprocess_function(sample,padding=\"max_length\"):\n",
    "\n",
    "    inputs = [\"Answer the question : \" + item for item in sample[\"Question\"]]\n",
    "\n",
    "  \n",
    "    model_inputs = tokenizer(inputs, max_length=max_source_length, padding=padding, truncation=True)\n",
    "\n",
    "\n",
    "    labels = tokenizer(text_target=sample[\"Answer\"], max_length=max_target_length, padding=padding, truncation=True)\n",
    "\n",
    "    if padding == \"max_length\":\n",
    "        labels[\"input_ids\"] = [\n",
    "            [(l if l != tokenizer.pad_token_id else -100) for l in label] for label in labels[\"input_ids\"]\n",
    "        ]\n",
    "\n",
    "    model_inputs[\"labels\"] = labels[\"input_ids\"]\n",
    "    return model_inputs\n",
    "\n",
    "tokenized_train = train_dataset.map(preprocess_function, batched=True, remove_columns=['Question','Answer', '__index_level_0__'])\n",
    "tokenized_test = test_dataset.map(preprocess_function, batched=True, remove_columns=['Question','Answer', '__index_level_0__'])\n",
    "print(f\"Keys of tokenized dataset: {list(tokenized_train.features)}\")"
   ]
  },
  {
   "cell_type": "code",
   "execution_count": 62,
   "id": "96e46ab9",
   "metadata": {},
   "outputs": [],
   "source": [
    "from transformers import DataCollatorForSeq2Seq\n",
    "\n",
    "\n",
    "label_pad_token_id = -100\n",
    "\n",
    "data_collator = DataCollatorForSeq2Seq(\n",
    "    tokenizer,\n",
    "    model=model,\n",
    "    label_pad_token_id=label_pad_token_id,\n",
    "    pad_to_multiple_of=8\n",
    ")"
   ]
  },
  {
   "cell_type": "code",
   "execution_count": 63,
   "id": "da76d31a",
   "metadata": {},
   "outputs": [
    {
     "name": "stderr",
     "output_type": "stream",
     "text": [
      "[nltk_data] Downloading package punkt to\n",
      "[nltk_data]     C:\\Users\\bbsur\\AppData\\Roaming\\nltk_data...\n",
      "[nltk_data]   Package punkt is already up-to-date!\n"
     ]
    }
   ],
   "source": [
    "import evaluate\n",
    "import nltk\n",
    "import numpy as np\n",
    "from nltk.tokenize import sent_tokenize\n",
    "nltk.download(\"punkt\")\n",
    "\n",
    "\n",
    "metric = evaluate.load(\"rouge\")\n",
    "\n",
    "\n",
    "def postprocess_text(preds, labels):\n",
    "    preds = [pred.strip() for pred in preds]\n",
    "    labels = [label.strip() for label in labels]\n",
    "\n",
    "\n",
    "    preds = [\"\\n\".join(sent_tokenize(pred)) for pred in preds]\n",
    "    labels = [\"\\n\".join(sent_tokenize(label)) for label in labels]\n",
    "\n",
    "    return preds, labels"
   ]
  },
  {
   "cell_type": "code",
   "execution_count": 64,
   "id": "6af15698",
   "metadata": {},
   "outputs": [],
   "source": [
    "def compute_metrics(eval_preds):\n",
    "    preds, labels = eval_preds\n",
    "    if isinstance(preds, tuple):\n",
    "        preds = preds[0]\n",
    "    decoded_preds = tokenizer.batch_decode(preds, skip_special_tokens=True)\n",
    "\n",
    "    labels = np.where(labels != -100, labels, tokenizer.pad_token_id)\n",
    "    decoded_labels = tokenizer.batch_decode(labels, skip_special_tokens=True)\n",
    "\n",
    "\n",
    "    decoded_preds, decoded_labels = postprocess_text(decoded_preds, decoded_labels)\n",
    "\n",
    "    result = metric.compute(predictions=decoded_preds, references=decoded_labels, use_stemmer=True)\n",
    "    result = {k: round(v * 100, 4) for k, v in result.items()}\n",
    "    prediction_lens = [np.count_nonzero(pred != tokenizer.pad_token_id) for pred in preds]\n",
    "    result[\"gen_len\"] = np.mean(prediction_lens)\n",
    "    return result"
   ]
  },
  {
   "cell_type": "code",
   "execution_count": 65,
   "id": "ed23ad4f",
   "metadata": {},
   "outputs": [],
   "source": [
    "from huggingface_hub import HfFolder\n",
    "from transformers import Seq2SeqTrainer, Seq2SeqTrainingArguments\n",
    "\n",
    "\n",
    "training_args = Seq2SeqTrainingArguments(\n",
    "    output_dir=f\"/model\",\n",
    "    predict_with_generate=True,\n",
    "    fp16=False, \n",
    "    learning_rate=5e-5,\n",
    "    num_train_epochs=50\n",
    ")"
   ]
  },
  {
   "cell_type": "code",
   "execution_count": 66,
   "id": "d87e0abd",
   "metadata": {},
   "outputs": [],
   "source": [
    "from transformers import Seq2SeqTrainingArguments, TrainingArguments,Trainer\n",
    "\n",
    "trainer = Seq2SeqTrainer(\n",
    "    model=model,\n",
    "    args=training_args,\n",
    "    data_collator=data_collator,\n",
    "    train_dataset=tokenized_train,\n",
    "    eval_dataset=tokenized_test,\n",
    "    compute_metrics=compute_metrics,\n",
    ")"
   ]
  },
  {
   "cell_type": "code",
   "execution_count": 67,
   "id": "18e726b2",
   "metadata": {},
   "outputs": [
    {
     "name": "stderr",
     "output_type": "stream",
     "text": [
      "C:\\Users\\bbsur\\AppData\\Local\\Programs\\Python\\Python310\\lib\\site-packages\\transformers\\optimization.py:407: FutureWarning: This implementation of AdamW is deprecated and will be removed in a future version. Use the PyTorch implementation torch.optim.AdamW instead, or set `no_deprecation_warning=True` to disable this warning\n",
      "  warnings.warn(\n",
      "You're using a T5TokenizerFast tokenizer. Please note that with a fast tokenizer, using the `__call__` method is faster than using a method to encode the text followed by a call to the `pad` method to get a padded encoding.\n"
     ]
    },
    {
     "data": {
      "text/html": [
       "\n",
       "    <div>\n",
       "      \n",
       "      <progress value='2750' max='2750' style='width:300px; height:20px; vertical-align: middle;'></progress>\n",
       "      [2750/2750 9:55:21, Epoch 50/50]\n",
       "    </div>\n",
       "    <table border=\"1\" class=\"dataframe\">\n",
       "  <thead>\n",
       " <tr style=\"text-align: left;\">\n",
       "      <th>Step</th>\n",
       "      <th>Training Loss</th>\n",
       "    </tr>\n",
       "  </thead>\n",
       "  <tbody>\n",
       "    <tr>\n",
       "      <td>500</td>\n",
       "      <td>1.841900</td>\n",
       "    </tr>\n",
       "    <tr>\n",
       "      <td>1000</td>\n",
       "      <td>1.112300</td>\n",
       "    </tr>\n",
       "    <tr>\n",
       "      <td>1500</td>\n",
       "      <td>0.760000</td>\n",
       "    </tr>\n",
       "    <tr>\n",
       "      <td>2000</td>\n",
       "      <td>0.577200</td>\n",
       "    </tr>\n",
       "    <tr>\n",
       "      <td>2500</td>\n",
       "      <td>0.492500</td>\n",
       "    </tr>\n",
       "  </tbody>\n",
       "</table><p>"
      ],
      "text/plain": [
       "<IPython.core.display.HTML object>"
      ]
     },
     "metadata": {},
     "output_type": "display_data"
    },
    {
     "data": {
      "text/plain": [
       "TrainOutput(global_step=2750, training_loss=0.9117468233975498, metrics={'train_runtime': 35735.4989, 'train_samples_per_second': 0.611, 'train_steps_per_second': 0.077, 'total_flos': 1168902199296000.0, 'train_loss': 0.9117468233975498, 'epoch': 50.0})"
      ]
     },
     "execution_count": 67,
     "metadata": {},
     "output_type": "execute_result"
    }
   ],
   "source": [
    "trainer.train()"
   ]
  },
  {
   "cell_type": "code",
   "execution_count": 68,
   "id": "1e5104bb",
   "metadata": {},
   "outputs": [
    {
     "data": {
      "text/html": [
       "\n",
       "    <div>\n",
       "      \n",
       "      <progress value='7' max='7' style='width:300px; height:20px; vertical-align: middle;'></progress>\n",
       "      [7/7 00:30]\n",
       "    </div>\n",
       "    "
      ],
      "text/plain": [
       "<IPython.core.display.HTML object>"
      ]
     },
     "metadata": {},
     "output_type": "display_data"
    },
    {
     "data": {
      "text/plain": [
       "{'eval_loss': 2.2701423168182373,\n",
       " 'eval_rouge1': 43.8014,\n",
       " 'eval_rouge2': 26.7838,\n",
       " 'eval_rougeL': 39.7778,\n",
       " 'eval_rougeLsum': 40.3461,\n",
       " 'eval_gen_len': 17.775510204081634,\n",
       " 'eval_runtime': 36.9774,\n",
       " 'eval_samples_per_second': 1.325,\n",
       " 'eval_steps_per_second': 0.189,\n",
       " 'epoch': 50.0}"
      ]
     },
     "execution_count": 68,
     "metadata": {},
     "output_type": "execute_result"
    }
   ],
   "source": [
    "trainer.evaluate()"
   ]
  },
  {
   "cell_type": "code",
   "execution_count": 69,
   "id": "995c34e8",
   "metadata": {},
   "outputs": [],
   "source": [
    "model.save_pretrained(\"faq_flant5_new_base\")"
   ]
  },
  {
   "cell_type": "code",
   "execution_count": 70,
   "id": "164bec0b",
   "metadata": {},
   "outputs": [
    {
     "data": {
      "text/plain": [
       "('faq_flant5_new_base\\\\tokenizer_config.json',\n",
       " 'faq_flant5_new_base\\\\special_tokens_map.json',\n",
       " 'faq_flant5_new_base\\\\spiece.model',\n",
       " 'faq_flant5_new_base\\\\added_tokens.json',\n",
       " 'faq_flant5_new_base\\\\tokenizer.json')"
      ]
     },
     "execution_count": 70,
     "metadata": {},
     "output_type": "execute_result"
    }
   ],
   "source": [
    "tokenizer.save_pretrained(\"faq_flant5_new_base\")"
   ]
  },
  {
   "cell_type": "code",
   "execution_count": 84,
   "id": "aedeadee",
   "metadata": {},
   "outputs": [],
   "source": [
    "import  transformers\n",
    "from transformers import AutoModel, AutoTokenizer\n",
    "\n",
    "model = transformers.AutoModelForSeq2SeqLM.from_pretrained(\"faq_flant5_new\")\n",
    "tokenizer = AutoTokenizer.from_pretrained(\"faq_flant5_new\")"
   ]
  },
  {
   "cell_type": "code",
   "execution_count": 85,
   "id": "49d5ebb3",
   "metadata": {},
   "outputs": [],
   "source": [
    "input_question = \"Answer the question : why should I prep for disaster?\"\n",
    "tokenized_question = tokenizer(input_question, truncation=True, padding=True, return_tensors='pt')\n",
    "output = model.generate(input_ids=tokenized_question['input_ids'], attention_mask=tokenized_question['attention_mask'], max_length=512)"
   ]
  },
  {
   "cell_type": "code",
   "execution_count": 86,
   "id": "6cc08969",
   "metadata": {},
   "outputs": [
    {
     "name": "stdout",
     "output_type": "stream",
     "text": [
      "Preparing for disaster is essential to protect your family and property from damage during a disaster.\n"
     ]
    }
   ],
   "source": [
    "ans = tokenizer.decode(output[0], skip_special_tokens=True)\n",
    "print(f\"{ans}\")"
   ]
  },
  {
   "cell_type": "code",
   "execution_count": 87,
   "id": "d200eff8",
   "metadata": {},
   "outputs": [],
   "source": [
    "input_question = \"Answer the question : Should i take battery in my emergency kit?\"\n",
    "tokenized_question = tokenizer(input_question, truncation=True, padding=True, return_tensors='pt')\n",
    "#input_question_ids = tokenized_question['input_ids'].to(device)\n",
    "#input_attention_mask = tokenized_question['attention_mask'].to(device)\n",
    "output = model.generate(input_ids=tokenized_question['input_ids'], attention_mask=tokenized_question['attention_mask'], max_length=512)"
   ]
  },
  {
   "cell_type": "code",
   "execution_count": 88,
   "id": "3f21a069",
   "metadata": {},
   "outputs": [
    {
     "name": "stdout",
     "output_type": "stream",
     "text": [
      "Yes, you should include a battery-powered flashlight or battery-powered radio in your emergency kit.\n"
     ]
    }
   ],
   "source": [
    "ans = tokenizer.decode(output[0], skip_special_tokens=True)\n",
    "print(f\"{ans}\")"
   ]
  },
  {
   "cell_type": "code",
   "execution_count": 89,
   "id": "c6fd4855",
   "metadata": {},
   "outputs": [],
   "source": [
    "input_question =\"Answer the question : how to be stay informed in a disaster?\"\n",
    "tokenized_question = tokenizer(input_question, truncation=True, padding=True, return_tensors='pt')\n",
    "#input_question_ids = tokenized_question['input_ids'].to(device)\n",
    "#input_attention_mask = tokenized_question['attention_mask'].to(device)\n",
    "output = model.generate(input_ids=tokenized_question['input_ids'], attention_mask=tokenized_question['attention_mask'], max_length=512)"
   ]
  },
  {
   "cell_type": "code",
   "execution_count": 90,
   "id": "b98c9fe1",
   "metadata": {},
   "outputs": [
    {
     "name": "stdout",
     "output_type": "stream",
     "text": [
      "Stay informed by following local and national news, following local authorities' instructions, and contacting local authorities for information.\n"
     ]
    }
   ],
   "source": [
    "ans = tokenizer.decode(output[0], skip_special_tokens=True)\n",
    "print(f\"{ans}\")"
   ]
  },
  {
   "cell_type": "code",
   "execution_count": 95,
   "id": "88504cd4",
   "metadata": {},
   "outputs": [],
   "source": [
    "input_question =\"Answer the question : What 10 things should I keep in my emergency kit?\"\n",
    "tokenized_question = tokenizer(input_question, truncation=True, padding=True, return_tensors='pt')\n",
    "#input_question_ids = tokenized_question['input_ids'].to(device)\n",
    "#input_attention_mask = tokenized_question['attention_mask'].to(device)\n",
    "output = model.generate(input_ids=tokenized_question['input_ids'], attention_mask=tokenized_question['attention_mask'], max_length=512)"
   ]
  },
  {
   "cell_type": "code",
   "execution_count": 96,
   "id": "ecef0896",
   "metadata": {},
   "outputs": [
    {
     "name": "stdout",
     "output_type": "stream",
     "text": [
      "Include a first-aid kit, flashlight, batteries, first-aid supplies, medications, and medications for pets in your emergency kit.\n"
     ]
    }
   ],
   "source": [
    "ans = tokenizer.decode(output[0], skip_special_tokens=True)\n",
    "print(f\"{ans}\")"
   ]
  },
  {
   "cell_type": "code",
   "execution_count": null,
   "id": "6e413fca",
   "metadata": {},
   "outputs": [],
   "source": []
  },
  {
   "cell_type": "code",
   "execution_count": 97,
   "id": "cdda25c9",
   "metadata": {},
   "outputs": [
    {
     "name": "stdout",
     "output_type": "stream",
     "text": [
      "Requirement already satisfied: flask in c:\\users\\bbsur\\appdata\\local\\programs\\python\\python310\\lib\\site-packages (3.0.0)\n",
      "Requirement already satisfied: Werkzeug>=3.0.0 in c:\\users\\bbsur\\appdata\\local\\programs\\python\\python310\\lib\\site-packages (from flask) (3.0.0)\n",
      "Requirement already satisfied: Jinja2>=3.1.2 in c:\\users\\bbsur\\appdata\\local\\programs\\python\\python310\\lib\\site-packages (from flask) (3.1.2)\n",
      "Requirement already satisfied: itsdangerous>=2.1.2 in c:\\users\\bbsur\\appdata\\local\\programs\\python\\python310\\lib\\site-packages (from flask) (2.1.2)\n",
      "Requirement already satisfied: click>=8.1.3 in c:\\users\\bbsur\\appdata\\local\\programs\\python\\python310\\lib\\site-packages (from flask) (8.1.6)\n",
      "Requirement already satisfied: blinker>=1.6.2 in c:\\users\\bbsur\\appdata\\local\\programs\\python\\python310\\lib\\site-packages (from flask) (1.6.2)\n",
      "Requirement already satisfied: colorama in c:\\users\\bbsur\\appdata\\local\\programs\\python\\python310\\lib\\site-packages (from click>=8.1.3->flask) (0.4.6)\n",
      "Requirement already satisfied: MarkupSafe>=2.0 in c:\\users\\bbsur\\appdata\\local\\programs\\python\\python310\\lib\\site-packages (from Jinja2>=3.1.2->flask) (2.1.2)\n",
      "Note: you may need to restart the kernel to use updated packages.\n"
     ]
    },
    {
     "name": "stderr",
     "output_type": "stream",
     "text": [
      "WARNING: Ignoring invalid distribution -rotobuf (c:\\users\\bbsur\\appdata\\local\\programs\\python\\python310\\lib\\site-packages)\n",
      "WARNING: Ignoring invalid distribution -rotobuf (c:\\users\\bbsur\\appdata\\local\\programs\\python\\python310\\lib\\site-packages)\n",
      "\n",
      "[notice] A new release of pip is available: 23.1.2 -> 23.2.1\n",
      "[notice] To update, run: C:\\Users\\bbsur\\AppData\\Local\\Programs\\Python\\Python310\\python.exe -m pip install --upgrade pip\n"
     ]
    }
   ],
   "source": [
    "pip install flask"
   ]
  },
  {
   "cell_type": "code",
   "execution_count": null,
   "id": "e258069d",
   "metadata": {},
   "outputs": [
    {
     "name": "stdout",
     "output_type": "stream",
     "text": [
      " * Serving Flask app '__main__'\n",
      " * Debug mode: off\n"
     ]
    },
    {
     "name": "stderr",
     "output_type": "stream",
     "text": [
      "INFO:werkzeug:\u001b[31m\u001b[1mWARNING: This is a development server. Do not use it in a production deployment. Use a production WSGI server instead.\u001b[0m\n",
      " * Running on all addresses (0.0.0.0)\n",
      " * Running on http://127.0.0.1:5000\n",
      " * Running on http://192.168.0.103:5000\n",
      "INFO:werkzeug:\u001b[33mPress CTRL+C to quit\u001b[0m\n",
      "INFO:werkzeug:127.0.0.1 - - [14/Oct/2023 12:48:10] \"POST /generate HTTP/1.1\" 200 -\n",
      "INFO:werkzeug:127.0.0.1 - - [14/Oct/2023 12:48:13] \"POST /generate HTTP/1.1\" 200 -\n",
      "INFO:werkzeug:127.0.0.1 - - [14/Oct/2023 12:48:44] \"POST /generate HTTP/1.1\" 200 -\n",
      "INFO:werkzeug:127.0.0.1 - - [14/Oct/2023 12:49:34] \"POST /generate HTTP/1.1\" 200 -\n",
      "INFO:werkzeug:127.0.0.1 - - [14/Oct/2023 12:50:15] \"POST /generate HTTP/1.1\" 200 -\n",
      "INFO:werkzeug:127.0.0.1 - - [14/Oct/2023 12:51:46] \"POST /generate HTTP/1.1\" 200 -\n",
      "INFO:werkzeug:127.0.0.1 - - [14/Oct/2023 12:54:02] \"POST /generate HTTP/1.1\" 200 -\n",
      "INFO:werkzeug:127.0.0.1 - - [14/Oct/2023 12:55:12] \"POST /generate HTTP/1.1\" 200 -\n",
      "INFO:werkzeug:127.0.0.1 - - [14/Oct/2023 12:56:06] \"POST /generate HTTP/1.1\" 200 -\n",
      "INFO:werkzeug:127.0.0.1 - - [14/Oct/2023 12:57:43] \"POST /generate HTTP/1.1\" 200 -\n",
      "INFO:werkzeug:127.0.0.1 - - [14/Oct/2023 14:39:24] \"POST /generate HTTP/1.1\" 200 -\n",
      "INFO:werkzeug:127.0.0.1 - - [14/Oct/2023 14:39:41] \"POST /generate HTTP/1.1\" 200 -\n",
      "INFO:werkzeug:127.0.0.1 - - [14/Oct/2023 14:40:05] \"POST /generate HTTP/1.1\" 200 -\n",
      "INFO:werkzeug:127.0.0.1 - - [14/Oct/2023 14:40:17] \"POST /generate HTTP/1.1\" 200 -\n"
     ]
    }
   ],
   "source": [
    "from flask import Flask, request, jsonify\n",
    "\n",
    "app = Flask(__name__)\n",
    "\n",
    "# Define a route for generating responses to user queries\n",
    "@app.route(\"/generate\", methods=[\"POST\"])\n",
    "def generate():\n",
    "    # Get the user query from the request body\n",
    "    user_query = request.json[\"query\"]\n",
    "    user_query=\"Answer the question :\"+user_query\n",
    "    tokenized_question = tokenizer(user_query, truncation=True, padding=True, return_tensors='pt')\n",
    "    output = model.generate(input_ids=tokenized_question['input_ids'], attention_mask=tokenized_question['attention_mask'], max_length=512)\n",
    "    response = tokenizer.decode(output[0], skip_special_tokens=True)\n",
    "    \n",
    "    # Return the response to the user\n",
    "    return jsonify({\"response\": response})\n",
    "\n",
    "if __name__ == \"__main__\":\n",
    "    app.run(host=\"0.0.0.0\", port=5000)"
   ]
  },
  {
   "cell_type": "code",
   "execution_count": null,
   "id": "ae32e62e",
   "metadata": {},
   "outputs": [],
   "source": []
  },
  {
   "cell_type": "code",
   "execution_count": null,
   "id": "e15f25fc",
   "metadata": {},
   "outputs": [],
   "source": []
  }
 ],
 "metadata": {
  "kernelspec": {
   "display_name": "Python 3 (ipykernel)",
   "language": "python",
   "name": "python3"
  },
  "language_info": {
   "codemirror_mode": {
    "name": "ipython",
    "version": 3
   },
   "file_extension": ".py",
   "mimetype": "text/x-python",
   "name": "python",
   "nbconvert_exporter": "python",
   "pygments_lexer": "ipython3",
   "version": "3.10.10"
  }
 },
 "nbformat": 4,
 "nbformat_minor": 5
}
