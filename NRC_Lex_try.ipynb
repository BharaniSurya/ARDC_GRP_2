{
 "cells": [
  {
   "cell_type": "code",
   "execution_count": 1,
   "id": "24a28d06-887b-47ef-bdcb-9d988bf99c9f",
   "metadata": {},
   "outputs": [
    {
     "name": "stdout",
     "output_type": "stream",
     "text": [
      "Requirement already satisfied: nltk in /Library/Frameworks/Python.framework/Versions/3.8/lib/python3.8/site-packages (3.7)\n",
      "Requirement already satisfied: click in /Library/Frameworks/Python.framework/Versions/3.8/lib/python3.8/site-packages (from nltk) (8.1.3)\n",
      "Requirement already satisfied: joblib in /Library/Frameworks/Python.framework/Versions/3.8/lib/python3.8/site-packages (from nltk) (1.2.0)\n",
      "Requirement already satisfied: regex>=2021.8.3 in /Library/Frameworks/Python.framework/Versions/3.8/lib/python3.8/site-packages (from nltk) (2022.10.31)\n",
      "Requirement already satisfied: tqdm in /Library/Frameworks/Python.framework/Versions/3.8/lib/python3.8/site-packages (from nltk) (4.64.1)\n",
      "\n",
      "\u001b[1m[\u001b[0m\u001b[34;49mnotice\u001b[0m\u001b[1;39;49m]\u001b[0m\u001b[39;49m A new release of pip is available: \u001b[0m\u001b[31;49m19.2.3\u001b[0m\u001b[39;49m -> \u001b[0m\u001b[32;49m23.2.1\u001b[0m\n",
      "\u001b[1m[\u001b[0m\u001b[34;49mnotice\u001b[0m\u001b[1;39;49m]\u001b[0m\u001b[39;49m To update, run: \u001b[0m\u001b[32;49mpip install --upgrade pip\u001b[0m\n"
     ]
    }
   ],
   "source": [
    "!pip install nltk\n"
   ]
  },
  {
   "cell_type": "code",
   "execution_count": 4,
   "id": "6183b03c-d67d-4f74-b76e-5d04f49783a7",
   "metadata": {},
   "outputs": [
    {
     "name": "stderr",
     "output_type": "stream",
     "text": [
      "[nltk_data] Error loading nrc: <urlopen error [SSL:\n",
      "[nltk_data]     CERTIFICATE_VERIFY_FAILED] certificate verify failed:\n",
      "[nltk_data]     unable to get local issuer certificate (_ssl.c:1108)>\n"
     ]
    },
    {
     "data": {
      "text/plain": [
       "False"
      ]
     },
     "execution_count": 4,
     "metadata": {},
     "output_type": "execute_result"
    }
   ],
   "source": [
    "import nltk\n",
    "nltk.download(\"nrc\")\n"
   ]
  },
  {
   "cell_type": "code",
   "execution_count": 5,
   "id": "f6fb226a-dbd4-48a0-8c9f-53158ee7d7e9",
   "metadata": {},
   "outputs": [
    {
     "name": "stderr",
     "output_type": "stream",
     "text": [
      "[nltk_data] Error loading nrc_lexicon: <urlopen error [SSL:\n",
      "[nltk_data]     CERTIFICATE_VERIFY_FAILED] certificate verify failed:\n",
      "[nltk_data]     unable to get local issuer certificate (_ssl.c:1108)>\n"
     ]
    },
    {
     "data": {
      "text/plain": [
       "False"
      ]
     },
     "execution_count": 5,
     "metadata": {},
     "output_type": "execute_result"
    }
   ],
   "source": [
    "nltk.download(\"nrc_lexicon\")\n"
   ]
  },
  {
   "cell_type": "code",
   "execution_count": 15,
   "id": "22f06aa2-ce46-49d9-882f-8b7ab170dcb0",
   "metadata": {},
   "outputs": [
    {
     "name": "stdout",
     "output_type": "stream",
     "text": [
      "Collecting NRCLex\n",
      "  Using cached https://files.pythonhosted.org/packages/e7/1d/9ed2747da4fdbd098b20c0e7ec8513f14d2c6b6486dbe25eb6e4b9f404a7/NRCLex-4.0-py3-none-any.whl\n",
      "Collecting json (from NRCLex)\n",
      "\u001b[31m  ERROR: Could not find a version that satisfies the requirement json (from NRCLex) (from versions: none)\u001b[0m\n",
      "\u001b[31mERROR: No matching distribution found for json (from NRCLex)\u001b[0m\n",
      "\u001b[33mWARNING: You are using pip version 19.2.3, however version 23.2.1 is available.\n",
      "You should consider upgrading via the 'pip install --upgrade pip' command.\u001b[0m\n",
      "Note: you may need to restart the kernel to use updated packages.\n"
     ]
    }
   ],
   "source": [
    "%pip install NRCLex"
   ]
  },
  {
   "cell_type": "code",
   "execution_count": 12,
   "id": "8fe7fa2b-1154-40d9-b74f-6c7acc4d779e",
   "metadata": {
    "scrolled": true,
    "tags": []
   },
   "outputs": [
    {
     "name": "stdout",
     "output_type": "stream",
     "text": [
      "Package                      Version\n",
      "---------------------------- -----------\n",
      "absl-py                      1.4.0\n",
      "aiohttp                      3.8.4\n",
      "aiosignal                    1.3.1\n",
      "altair                       4.2.0\n",
      "ansi2html                    1.8.0\n",
      "anyio                        3.6.2\n",
      "appnope                      0.1.3\n",
      "argon2-cffi                  21.3.0\n",
      "argon2-cffi-bindings         21.2.0\n",
      "asttokens                    2.1.0\n",
      "astunparse                   1.6.3\n",
      "async-timeout                4.0.2\n",
      "asyncio                      3.4.3\n",
      "attrs                        22.1.0\n",
      "Babel                        2.11.0\n",
      "backcall                     0.2.0\n",
      "backports.zoneinfo           0.2.1\n",
      "beautifulsoup4               4.11.1\n",
      "bertopic                     0.12.0\n",
      "bitsandbytes                 0.41.1\n",
      "bleach                       5.0.1\n",
      "blinker                      1.5\n",
      "blis                         0.7.9\n",
      "blobfile                     2.0.2\n",
      "cachetools                   5.2.0\n",
      "capabilities                 0.1.0\n",
      "catalogue                    2.0.8\n",
      "certifi                      2022.9.24\n",
      "cffi                         1.15.1\n",
      "charset-normalizer           2.1.1\n",
      "click                        8.1.3\n",
      "cloudpickle                  2.2.1\n",
      "colour                       0.1.5\n",
      "commonmark                   0.9.1\n",
      "confection                   0.0.3\n",
      "contourpy                    1.0.6\n",
      "cryptography                 40.0.2\n",
      "ctgan                        0.7.2\n",
      "cycler                       0.11.0\n",
      "cymem                        2.0.7\n",
      "Cython                       0.29.32\n",
      "dacite                       1.8.0\n",
      "dash                         2.9.3\n",
      "dash-auth                    2.0.0\n",
      "dash-bootstrap-components    1.4.1\n",
      "dash-core-components         2.0.0\n",
      "dash-html-components         2.0.0\n",
      "dash-table                   5.0.0\n",
      "debugpy                      1.6.3\n",
      "decorator                    5.1.1\n",
      "defusedxml                   0.7.1\n",
      "dtreeviz                     2.2.0\n",
      "entrypoints                  0.4\n",
      "et-xmlfile                   1.1.0\n",
      "exceptiongroup               1.1.1\n",
      "executing                    1.2.0\n",
      "explainerdashboard           0.4.2.1\n",
      "Faker                        18.7.0\n",
      "fastjsonschema               2.16.2\n",
      "filelock                     3.8.0\n",
      "fire                         0.5.0\n",
      "Flask                        2.2.3\n",
      "flask-simplelogin            0.1.1\n",
      "Flask-WTF                    0.15.1\n",
      "flatbuffers                  23.3.3\n",
      "fonttools                    4.38.0\n",
      "frozenlist                   1.3.3\n",
      "funcy                        1.17\n",
      "future                       0.18.2\n",
      "fuzzywuzzy                   0.18.0\n",
      "gast                         0.4.0\n",
      "gensim                       4.2.0\n",
      "gitdb                        4.0.9\n",
      "GitPython                    3.1.29\n",
      "google-auth                  2.17.3\n",
      "google-auth-oauthlib         1.0.0\n",
      "google-pasta                 0.2.0\n",
      "graphviz                     0.20.1\n",
      "grpcio                       1.53.0\n",
      "h5py                         3.8.0\n",
      "hdbscan                      0.8.29\n",
      "huggingface-hub              0.11.1\n",
      "idna                         3.4\n",
      "imbalanced-learn             0.10.1\n",
      "importlib-metadata           5.0.0\n",
      "importlib-resources          5.10.0\n",
      "inflect                      6.0.2\n",
      "iniconfig                    2.0.0\n",
      "ipykernel                    6.17.0\n",
      "ipython                      8.6.0\n",
      "ipython-genutils             0.2.0\n",
      "itsdangerous                 2.1.2\n",
      "jax                          0.4.8\n",
      "jedi                         0.18.1\n",
      "Jinja2                       3.1.2\n",
      "joblib                       1.2.0\n",
      "json5                        0.9.10\n",
      "jsonschema                   4.17.0\n",
      "jupyter_client               7.4.4\n",
      "jupyter_core                 4.11.2\n",
      "jupyter-dash                 0.4.2\n",
      "jupyter-server               1.21.0\n",
      "jupyterlab                   3.5.0\n",
      "jupyterlab-pygments          0.2.2\n",
      "jupyterlab_server            2.16.2\n",
      "keras                        2.12.0\n",
      "kiwisolver                   1.4.4\n",
      "langcodes                    3.3.0\n",
      "libclang                     16.0.0\n",
      "llvmlite                     0.39.1\n",
      "lxml                         4.9.2\n",
      "Markdown                     3.4.3\n",
      "MarkupSafe                   2.1.1\n",
      "matplotlib                   3.6.2\n",
      "matplotlib-inline            0.1.6\n",
      "mistune                      2.0.4\n",
      "ml-dtypes                    0.1.0\n",
      "mpmath                       1.3.0\n",
      "multidict                    6.0.4\n",
      "murmurhash                   1.0.9\n",
      "nbclassic                    0.4.7\n",
      "nbclient                     0.7.0\n",
      "nbconvert                    7.2.3\n",
      "nbformat                     5.7.0\n",
      "nest-asyncio                 1.5.6\n",
      "networkx                     3.1\n",
      "nltk                         3.7\n",
      "notebook                     6.5.2\n",
      "notebook_shim                0.2.2\n",
      "NRCLex                       3.0.0\n",
      "numba                        0.56.4\n",
      "numexpr                      2.8.4\n",
      "numpy                        1.23.4\n",
      "oauthlib                     3.2.2\n",
      "openai                       0.27.6\n",
      "openpyxl                     3.0.10\n",
      "opt-einsum                   3.3.0\n",
      "oyaml                        1.0\n",
      "packaging                    21.3\n",
      "pandas                       1.5.1\n",
      "pandocfilters                1.5.0\n",
      "parso                        0.8.3\n",
      "pathy                        0.6.2\n",
      "pdfminer.six                 20221105\n",
      "pexpect                      4.8.0\n",
      "pickleshare                  0.7.5\n",
      "Pillow                       9.3.0\n",
      "pip                          19.2.3\n",
      "pkgutil_resolve_name         1.3.10\n",
      "plotly                       5.11.0\n",
      "pluggy                       1.0.0\n",
      "preshed                      3.0.8\n",
      "prometheus-client            0.15.0\n",
      "prompt-toolkit               3.0.31\n",
      "protobuf                     3.20.3\n",
      "psutil                       5.9.3\n",
      "psycopg2-binary              2.9.5\n",
      "ptyprocess                   0.7.0\n",
      "pure-eval                    0.2.2\n",
      "py4j                         0.10.9\n",
      "pyarrow                      10.0.0\n",
      "pyasn1                       0.4.8\n",
      "pyasn1-modules               0.2.8\n",
      "pycparser                    2.21\n",
      "pycryptodomex                3.17\n",
      "pydantic                     1.10.2\n",
      "pydeck                       0.8.0b4\n",
      "pyenchant                    3.2.2\n",
      "Pygments                     2.13.0\n",
      "pyLDAvis                     3.3.1\n",
      "Pympler                      1.0.1\n",
      "pynndescent                  0.5.8\n",
      "pyparsing                    3.0.9\n",
      "pyrsistent                   0.19.2\n",
      "pyspark                      3.1.2\n",
      "pytest                       7.3.0\n",
      "python-dateutil              2.8.2\n",
      "python-dotenv                1.0.0\n",
      "pytz                         2022.6\n",
      "pytz-deprecation-shim        0.1.0.post0\n",
      "PyYAML                       5.4.1\n",
      "pyzmq                        24.0.1\n",
      "rdt                          1.4.2\n",
      "regex                        2022.10.31\n",
      "requests                     2.28.1\n",
      "requests-oauthlib            1.3.1\n",
      "retrying                     1.3.4\n",
      "rich                         12.6.0\n",
      "rsa                          4.9\n",
      "safetensors                  0.3.3\n",
      "scikit-learn                 1.1.3\n",
      "scipy                        1.9.3\n",
      "seaborn                      0.12.1\n",
      "semver                       2.13.0\n",
      "Send2Trash                   1.8.0\n",
      "sentence-transformers        2.2.2\n",
      "sentencepiece                0.1.97\n",
      "setuptools                   65.6.3\n",
      "shap                         0.41.0\n",
      "six                          1.16.0\n",
      "sklearn                      0.0\n",
      "slicer                       0.0.7\n",
      "smart-open                   5.2.1\n",
      "smmap                        5.0.0\n",
      "sniffio                      1.3.0\n",
      "soupsieve                    2.3.2.post1\n",
      "spacy                        3.4.4\n",
      "spacy-legacy                 3.0.10\n",
      "spacy-loggers                1.0.3\n",
      "spark-nlp                    4.2.4\n",
      "spark-nlp-jsl                4.2.3\n",
      "srsly                        2.4.5\n",
      "stack-data                   0.6.0\n",
      "streamlit                    1.13.0\n",
      "sympy                        1.12\n",
      "tenacity                     8.1.0\n",
      "tensorboard                  2.12.2\n",
      "tensorboard-data-server      0.7.0\n",
      "tensorboard-plugin-wit       1.8.1\n",
      "tensorflow-estimator         2.12.0\n",
      "tensorflow-io-gcs-filesystem 0.32.0\n",
      "termcolor                    2.2.0\n",
      "terminado                    0.17.0\n",
      "textblob                     0.17.1\n",
      "thinc                        8.1.5\n",
      "threadpoolctl                3.1.0\n",
      "tiktoken                     0.4.0\n",
      "tinycss2                     1.2.1\n",
      "tokenizers                   0.13.2\n",
      "toml                         0.10.2\n",
      "tomli                        2.0.1\n",
      "toolz                        0.12.0\n",
      "torch                        2.0.1\n",
      "torchvision                  0.14.0\n",
      "tornado                      6.2\n",
      "tqdm                         4.64.1\n",
      "traitlets                    5.5.0\n",
      "transformers                 4.24.0\n",
      "typer                        0.4.2\n",
      "typing_extensions            4.4.0\n",
      "tzdata                       2022.6\n",
      "tzlocal                      4.2\n",
      "umap-learn                   0.5.3\n",
      "urllib3                      1.26.12\n",
      "validators                   0.20.0\n",
      "waitress                     2.1.2\n",
      "wasabi                       0.10.1\n",
      "wcwidth                      0.2.5\n",
      "webencodings                 0.5.1\n",
      "websocket-client             1.4.1\n",
      "Werkzeug                     2.2.3\n",
      "wheel                        0.38.4\n",
      "wordcloud                    1.8.2.2\n",
      "wrapt                        1.14.1\n",
      "WTForms                      3.0.1\n",
      "xgboost                      1.7.5\n",
      "yarl                         1.9.2\n",
      "zipp                         3.10.0\n",
      "\n",
      "\u001b[1m[\u001b[0m\u001b[34;49mnotice\u001b[0m\u001b[1;39;49m]\u001b[0m\u001b[39;49m A new release of pip is available: \u001b[0m\u001b[31;49m19.2.3\u001b[0m\u001b[39;49m -> \u001b[0m\u001b[32;49m23.2.1\u001b[0m\n",
      "\u001b[1m[\u001b[0m\u001b[34;49mnotice\u001b[0m\u001b[1;39;49m]\u001b[0m\u001b[39;49m To update, run: \u001b[0m\u001b[32;49mpip install --upgrade pip\u001b[0m\n"
     ]
    }
   ],
   "source": [
    "! pip list"
   ]
  },
  {
   "cell_type": "code",
   "execution_count": 1,
   "id": "fde1282c-a923-4f9e-97b1-9ce6ad62bc0a",
   "metadata": {},
   "outputs": [],
   "source": [
    "from nrclex import NRCLex"
   ]
  },
  {
   "cell_type": "code",
   "execution_count": 4,
   "id": "cc53ee1b-9a43-405a-89b8-21db75ec6783",
   "metadata": {},
   "outputs": [
    {
     "ename": "TypeError",
     "evalue": "__init__() got an unexpected keyword argument 'lexicon_file'",
     "output_type": "error",
     "traceback": [
      "\u001b[0;31m---------------------------------------------------------------------------\u001b[0m",
      "\u001b[0;31mTypeError\u001b[0m                                 Traceback (most recent call last)",
      "Cell \u001b[0;32mIn[4], line 1\u001b[0m\n\u001b[0;32m----> 1\u001b[0m text_object \u001b[38;5;241m=\u001b[39m \u001b[43mNRCLex\u001b[49m\u001b[43m(\u001b[49m\u001b[43mlexicon_file\u001b[49m\u001b[38;5;241;43m=\u001b[39;49m\u001b[38;5;124;43m'\u001b[39;49m\u001b[38;5;124;43mnrc_en.json\u001b[39;49m\u001b[38;5;124;43m'\u001b[39;49m\u001b[43m)\u001b[49m\n",
      "\u001b[0;31mTypeError\u001b[0m: __init__() got an unexpected keyword argument 'lexicon_file'"
     ]
    }
   ],
   "source": [
    "text_object = NRCLex(lexicon_file='nrc_en.json')"
   ]
  },
  {
   "cell_type": "code",
   "execution_count": null,
   "id": "4d7984f3-9371-4a69-b397-97a51c85ed2a",
   "metadata": {},
   "outputs": [],
   "source": []
  },
  {
   "cell_type": "code",
   "execution_count": 6,
   "id": "20c37d9c-390e-4820-8189-3a3fe16d6aa5",
   "metadata": {},
   "outputs": [],
   "source": [
    "from nrclex import NRCLex"
   ]
  },
  {
   "cell_type": "code",
   "execution_count": 7,
   "id": "31d89b67-b270-41c5-8b1c-5f2825c2aba5",
   "metadata": {},
   "outputs": [],
   "source": [
    "text = \"I'm so happy today!\"\n",
    "nrc = NRCLex(text)"
   ]
  },
  {
   "cell_type": "code",
   "execution_count": 8,
   "id": "e04f188a-98b1-449e-8360-9c9532e54bf8",
   "metadata": {},
   "outputs": [
    {
     "name": "stdout",
     "output_type": "stream",
     "text": [
      "Sentiment Analysis:\n",
      "{'fear': 0.0, 'anger': 0.0, 'anticip': 0.0, 'trust': 0.25, 'surprise': 0.0, 'positive': 0.25, 'negative': 0.0, 'sadness': 0.0, 'disgust': 0.0, 'joy': 0.25, 'anticipation': 0.25}\n",
      "\n",
      "Top Emotions:\n",
      "[('trust', 0.25), ('positive', 0.25), ('joy', 0.25), ('anticipation', 0.25)]\n"
     ]
    }
   ],
   "source": [
    "sentiment = nrc.affect_frequencies\n",
    "emotions = nrc.top_emotions\n",
    "\n",
    "# Print sentiment analysis\n",
    "print(\"Sentiment Analysis:\")\n",
    "print(sentiment)\n",
    "\n",
    "# Print top emotions\n",
    "print(\"\\nTop Emotions:\")\n",
    "print(emotions)"
   ]
  },
  {
   "cell_type": "code",
   "execution_count": 9,
   "id": "05bc807e-25e6-4542-967d-1089758c9b15",
   "metadata": {},
   "outputs": [
    {
     "data": {
      "text/plain": [
       "<nrclex.NRCLex at 0x7fc778c4a2e0>"
      ]
     },
     "execution_count": 9,
     "metadata": {},
     "output_type": "execute_result"
    }
   ],
   "source": [
    "nrc"
   ]
  },
  {
   "cell_type": "code",
   "execution_count": 10,
   "id": "73e28e86-99fb-4dab-b3b4-0253888d3365",
   "metadata": {},
   "outputs": [
    {
     "data": {
      "text/plain": [
       "'Anger\\nAnticipation\\nDisgust\\nFear\\nJoy\\nSadness\\nSurprise\\nTrust\\nNegative sentiment\\nPositive sentiment'"
      ]
     },
     "execution_count": 10,
     "metadata": {},
     "output_type": "execute_result"
    }
   ],
   "source": [
    "'''Anger\n",
    "Anticipation\n",
    "Disgust\n",
    "Fear\n",
    "Joy\n",
    "Sadness\n",
    "Surprise\n",
    "Trust\n",
    "Negative sentiment\n",
    "Positive sentiment'''"
   ]
  },
  {
   "cell_type": "code",
   "execution_count": null,
   "id": "c544ccec-ec27-4c5e-b5df-c986fc4aadee",
   "metadata": {},
   "outputs": [],
   "source": []
  },
  {
   "cell_type": "code",
   "execution_count": 11,
   "id": "dd59eddc-72f9-4533-adfa-2593131519a0",
   "metadata": {},
   "outputs": [],
   "source": [
    "text = \"I lost my home in the cyclone. I feel helpless\"\n",
    "nrc = NRCLex(text)"
   ]
  },
  {
   "cell_type": "code",
   "execution_count": 12,
   "id": "19aa6c16-bea1-4d0f-a7a4-407dbfae7dd8",
   "metadata": {},
   "outputs": [
    {
     "name": "stdout",
     "output_type": "stream",
     "text": [
      "Sentiment Analysis:\n",
      "{'fear': 0.25, 'anger': 0.0, 'anticip': 0.0, 'trust': 0.0, 'surprise': 0.125, 'positive': 0.0, 'negative': 0.375, 'sadness': 0.25, 'disgust': 0.0, 'joy': 0.0}\n",
      "\n",
      "Top Emotions:\n",
      "[('negative', 0.375)]\n"
     ]
    }
   ],
   "source": [
    "sentiment = nrc.affect_frequencies\n",
    "emotions = nrc.top_emotions\n",
    "\n",
    "# Print sentiment analysis\n",
    "print(\"Sentiment Analysis:\")\n",
    "print(sentiment)\n",
    "\n",
    "# Print top emotions\n",
    "print(\"\\nTop Emotions:\")\n",
    "print(emotions)"
   ]
  },
  {
   "cell_type": "code",
   "execution_count": null,
   "id": "6fc4edd0-e568-4da7-a48e-47b46d081978",
   "metadata": {},
   "outputs": [],
   "source": []
  }
 ],
 "metadata": {
  "kernelspec": {
   "display_name": "iLab-env",
   "language": "python",
   "name": "ilab-env"
  },
  "language_info": {
   "codemirror_mode": {
    "name": "ipython",
    "version": 3
   },
   "file_extension": ".py",
   "mimetype": "text/x-python",
   "name": "python",
   "nbconvert_exporter": "python",
   "pygments_lexer": "ipython3",
   "version": "3.8.2"
  }
 },
 "nbformat": 4,
 "nbformat_minor": 5
}
